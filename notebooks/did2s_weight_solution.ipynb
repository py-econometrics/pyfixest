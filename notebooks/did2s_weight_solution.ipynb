{
 "cells": [
  {
   "cell_type": "code",
   "execution_count": 1,
   "metadata": {},
   "outputs": [
    {
     "data": {
      "text/html": [
       "\n",
       "            <div id=\"rYuCZh\"></div>\n",
       "            <script type=\"text/javascript\" data-lets-plot-script=\"library\">\n",
       "                if(!window.letsPlotCallQueue) {\n",
       "                    window.letsPlotCallQueue = [];\n",
       "                }; \n",
       "                window.letsPlotCall = function(f) {\n",
       "                    window.letsPlotCallQueue.push(f);\n",
       "                };\n",
       "                (function() {\n",
       "                    var script = document.createElement(\"script\");\n",
       "                    script.type = \"text/javascript\";\n",
       "                    script.src = \"https://cdn.jsdelivr.net/gh/JetBrains/lets-plot@v4.4.1/js-package/distr/lets-plot.min.js\";\n",
       "                    script.onload = function() {\n",
       "                        window.letsPlotCall = function(f) {f();};\n",
       "                        window.letsPlotCallQueue.forEach(function(f) {f();});\n",
       "                        window.letsPlotCallQueue = [];\n",
       "                        \n",
       "                    };\n",
       "                    script.onerror = function(event) {\n",
       "                        window.letsPlotCall = function(f) {};    // noop\n",
       "                        window.letsPlotCallQueue = [];\n",
       "                        var div = document.createElement(\"div\");\n",
       "                        div.style.color = 'darkred';\n",
       "                        div.textContent = 'Error loading Lets-Plot JS';\n",
       "                        document.getElementById(\"rYuCZh\").appendChild(div);\n",
       "                    };\n",
       "                    var e = document.getElementById(\"rYuCZh\");\n",
       "                    e.appendChild(script);\n",
       "                })()\n",
       "            </script>\n",
       "            "
      ]
     },
     "metadata": {},
     "output_type": "display_data"
    },
    {
     "data": {
      "text/html": [
       "\n",
       "            <div id=\"S3iyns\"></div>\n",
       "            <script type=\"text/javascript\" data-lets-plot-script=\"library\">\n",
       "                if(!window.letsPlotCallQueue) {\n",
       "                    window.letsPlotCallQueue = [];\n",
       "                }; \n",
       "                window.letsPlotCall = function(f) {\n",
       "                    window.letsPlotCallQueue.push(f);\n",
       "                };\n",
       "                (function() {\n",
       "                    var script = document.createElement(\"script\");\n",
       "                    script.type = \"text/javascript\";\n",
       "                    script.src = \"https://cdn.jsdelivr.net/gh/JetBrains/lets-plot@v4.4.1/js-package/distr/lets-plot.min.js\";\n",
       "                    script.onload = function() {\n",
       "                        window.letsPlotCall = function(f) {f();};\n",
       "                        window.letsPlotCallQueue.forEach(function(f) {f();});\n",
       "                        window.letsPlotCallQueue = [];\n",
       "                        \n",
       "                    };\n",
       "                    script.onerror = function(event) {\n",
       "                        window.letsPlotCall = function(f) {};    // noop\n",
       "                        window.letsPlotCallQueue = [];\n",
       "                        var div = document.createElement(\"div\");\n",
       "                        div.style.color = 'darkred';\n",
       "                        div.textContent = 'Error loading Lets-Plot JS';\n",
       "                        document.getElementById(\"S3iyns\").appendChild(div);\n",
       "                    };\n",
       "                    var e = document.getElementById(\"S3iyns\");\n",
       "                    e.appendChild(script);\n",
       "                })()\n",
       "            </script>\n",
       "            "
      ]
     },
     "metadata": {},
     "output_type": "display_data"
    },
    {
     "name": "stderr",
     "output_type": "stream",
     "text": [
      "During startup - Warning messages:\n",
      "1: Setting LC_COLLATE failed, using \"C\" \n",
      "2: Setting LC_TIME failed, using \"C\" \n",
      "3: Setting LC_MESSAGES failed, using \"C\" \n",
      "4: Setting LC_MONETARY failed, using \"C\" \n"
     ]
    }
   ],
   "source": [
    "import pyfixest as pf\n",
    "\n",
    "import polars as pl\n",
    "import pandas as pd\n",
    "\n",
    "import numpy as np\n",
    "from rpy2.robjects.packages import importr\n",
    "import rpy2.robjects as ro\n",
    "from rpy2.robjects import pandas2ri"
   ]
  },
  {
   "cell_type": "code",
   "execution_count": 2,
   "metadata": {},
   "outputs": [],
   "source": [
    "utils = importr(\"utils\")"
   ]
  },
  {
   "cell_type": "code",
   "execution_count": 3,
   "metadata": {},
   "outputs": [],
   "source": [
    "pandas2ri.activate()\n",
    "did2s = importr(\"did2s\")\n",
    "stats = importr(\"stats\")\n",
    "broom = importr(\"broom\")"
   ]
  },
  {
   "cell_type": "code",
   "execution_count": 4,
   "metadata": {},
   "outputs": [],
   "source": [
    "df_castle = pd.read_stata(\"https://github.com/scunning1975/mixtape/raw/master/castle.dta\")\n",
    "df_castle = df_castle.astype({\"post\": bool, \"popwt\": np.float64})\n",
    "\n",
    "df_untreated = df_castle.loc[df_castle[\"post\"] == 0, :]\n",
    "\n",
    "fit_untrt = pf.feols(\"l_homicide ~ 1 | state + year\", data=df_untreated)\n",
    "fit_untrt_wgt = pf.feols(\"l_homicide ~ 1 | state + year\", data=df_untreated, weights=\"popwt\")\n",
    "\n",
    "yhat = fit_untrt.predict(newdata=df_castle)\n",
    "yhat_wgt = fit_untrt_wgt.predict(newdata=df_castle)\n",
    "\n",
    "# Getting first stage predictions\n",
    "\n",
    "yhat_nn = fit_untrt.predict()\n",
    "yhat_wgt_nn = fit_untrt_wgt.predict()\n"
   ]
  },
  {
   "cell_type": "code",
   "execution_count": 5,
   "metadata": {},
   "outputs": [
    {
     "name": "stdout",
     "output_type": "stream",
     "text": [
      "###\n",
      "\n",
      "Estimation:  DID2S\n",
      "Dep. var.: l_homicide_hat, Fixed effects: 0\n",
      "Inference:  CRV1 (GMM)\n",
      "Observations:  550\n",
      "\n",
      "| Coefficient                              |   Estimate |   Std. Error |   t value |   Pr(>|t|) |   2.5% |   97.5% |\n",
      "|:-----------------------------------------|-----------:|-------------:|----------:|-----------:|-------:|--------:|\n",
      "| C(post, contr.treatment(base=0))[T.True] |      0.067 |        0.057 |     1.173 |      0.246 | -0.048 |   0.181 |\n",
      "---\n",
      "RMSE: 0.183 R2: 0.015 \n"
     ]
    }
   ],
   "source": [
    "fit_did2s_unwgt = pf.did2s(\n",
    "    data=df_castle,\n",
    "    yname=\"l_homicide\",\n",
    "    first_stage=\"~ 0 | sid + year\",\n",
    "    second_stage=\"~ i(post, ref=0)\",\n",
    "    treatment=\"post\",\n",
    "    cluster=\"state\",\n",
    ")\n",
    "\n",
    "fit_did2s_unwgt.summary()"
   ]
  },
  {
   "cell_type": "code",
   "execution_count": 6,
   "metadata": {},
   "outputs": [
    {
     "name": "stdout",
     "output_type": "stream",
     "text": [
      "###\n",
      "\n",
      "Estimation:  DID2S\n",
      "Dep. var.: l_homicide_hat, Fixed effects: 0\n",
      "Inference:  CRV1 (GMM)\n",
      "Observations:  550\n",
      "\n",
      "| Coefficient                              |   Estimate |   Std. Error |   t value |   Pr(>|t|) |   2.5% |   97.5% |\n",
      "|:-----------------------------------------|-----------:|-------------:|----------:|-----------:|-------:|--------:|\n",
      "| C(post, contr.treatment(base=0))[T.True] |      0.075 |        0.035 |     2.124 |      0.039 |  0.004 |   0.146 |\n",
      "---\n",
      "\n"
     ]
    }
   ],
   "source": [
    "fit_did2s_wgt = pf.did2s(\n",
    "    data=df_castle,\n",
    "    yname=\"l_homicide\",\n",
    "    first_stage=\"~ 0 | sid + year\",\n",
    "    second_stage=\"~ i(post, ref=0)\",\n",
    "    treatment=\"post\",\n",
    "    cluster=\"state\",\n",
    "    weights=\"popwt\"\n",
    ")\n",
    "\n",
    "fit_did2s_wgt.summary()"
   ]
  },
  {
   "cell_type": "code",
   "execution_count": 7,
   "metadata": {},
   "outputs": [
    {
     "data": {
      "text/plain": [
       "0.07514145605366061"
      ]
     },
     "execution_count": 7,
     "metadata": {},
     "output_type": "execute_result"
    }
   ],
   "source": [
    "fit_did2s_wgt.coef().to_numpy()[0]"
   ]
  },
  {
   "cell_type": "code",
   "execution_count": 8,
   "metadata": {},
   "outputs": [
    {
     "data": {
      "text/plain": [
       "state           object\n",
       "year             int16\n",
       "sid               int8\n",
       "cdl            float32\n",
       "pre2_cdl       float32\n",
       "                ...   \n",
       "_Iyear_2007       int8\n",
       "_Iyear_2008       int8\n",
       "_Iyear_2009       int8\n",
       "_Iyear_2010       int8\n",
       "popwt          float64\n",
       "Length: 185, dtype: object"
      ]
     },
     "execution_count": 8,
     "metadata": {},
     "output_type": "execute_result"
    }
   ],
   "source": [
    "df_castle.dtypes"
   ]
  },
  {
   "cell_type": "code",
   "execution_count": 9,
   "metadata": {},
   "outputs": [
    {
     "data": {
      "text/plain": [
       "0.03537952705576535"
      ]
     },
     "execution_count": 9,
     "metadata": {},
     "output_type": "execute_result"
    }
   ],
   "source": [
    "np.sqrt(fit_did2s_wgt._vcov[0][0])"
   ]
  },
  {
   "cell_type": "code",
   "execution_count": 15,
   "metadata": {},
   "outputs": [
    {
     "name": "stderr",
     "output_type": "stream",
     "text": [
      "R[write to console]: Running Two-stage Difference-in-Differences\n",
      " - first stage formula `~ 0 | sid + year`\n",
      " - second stage formula `~ i(post, ref = 0)`\n",
      " - The indicator variable that denotes when treatment is on is `post`\n",
      " - Standard errors will be clustered by `state`\n",
      "\n",
      "\n"
     ]
    }
   ],
   "source": [
    "fit_r = did2s.did2s(\n",
    "    data=df_castle,\n",
    "    yname=\"l_homicide\",\n",
    "    first_stage=ro.Formula(\"~ 0 | sid + year\"),\n",
    "    second_stage=ro.Formula(\"~ i(post, ref = 0)\"),\n",
    "    treatment=\"post\",\n",
    "    cluster_var=\"state\",\n",
    "    weights=\"popwt\"\n",
    ")"
   ]
  },
  {
   "cell_type": "code",
   "execution_count": 16,
   "metadata": {},
   "outputs": [],
   "source": [
    "did2s_df = broom.tidy_fixest(fit_r, conf_int=ro.BoolVector([True]))\n",
    "did2s_df = pd.DataFrame(did2s_df).T"
   ]
  },
  {
   "cell_type": "code",
   "execution_count": 17,
   "metadata": {},
   "outputs": [
    {
     "data": {
      "text/html": [
       "<div>\n",
       "<style scoped>\n",
       "    .dataframe tbody tr th:only-of-type {\n",
       "        vertical-align: middle;\n",
       "    }\n",
       "\n",
       "    .dataframe tbody tr th {\n",
       "        vertical-align: top;\n",
       "    }\n",
       "\n",
       "    .dataframe thead th {\n",
       "        text-align: right;\n",
       "    }\n",
       "</style>\n",
       "<table border=\"1\" class=\"dataframe\">\n",
       "  <thead>\n",
       "    <tr style=\"text-align: right;\">\n",
       "      <th></th>\n",
       "      <th>0</th>\n",
       "      <th>1</th>\n",
       "      <th>2</th>\n",
       "      <th>3</th>\n",
       "      <th>4</th>\n",
       "      <th>5</th>\n",
       "      <th>6</th>\n",
       "    </tr>\n",
       "  </thead>\n",
       "  <tbody>\n",
       "    <tr>\n",
       "      <th>0</th>\n",
       "      <td>post::TRUE</td>\n",
       "      <td>0.075142</td>\n",
       "      <td>0.03538</td>\n",
       "      <td>2.123875</td>\n",
       "      <td>0.034127</td>\n",
       "      <td>0.005646</td>\n",
       "      <td>0.144637</td>\n",
       "    </tr>\n",
       "  </tbody>\n",
       "</table>\n",
       "</div>"
      ],
      "text/plain": [
       "            0         1        2         3         4         5         6\n",
       "0  post::TRUE  0.075142  0.03538  2.123875  0.034127  0.005646  0.144637"
      ]
     },
     "execution_count": 17,
     "metadata": {},
     "output_type": "execute_result"
    }
   ],
   "source": [
    "did2s_df"
   ]
  },
  {
   "cell_type": "code",
   "execution_count": null,
   "metadata": {},
   "outputs": [],
   "source": []
  }
 ],
 "metadata": {
  "kernelspec": {
   "display_name": "pyfixest",
   "language": "python",
   "name": "python3"
  },
  "language_info": {
   "codemirror_mode": {
    "name": "ipython",
    "version": 3
   },
   "file_extension": ".py",
   "mimetype": "text/x-python",
   "name": "python",
   "nbconvert_exporter": "python",
   "pygments_lexer": "ipython3",
   "version": "3.12.7"
  }
 },
 "nbformat": 4,
 "nbformat_minor": 2
}
