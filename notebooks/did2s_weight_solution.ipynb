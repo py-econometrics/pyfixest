{
 "cells": [
  {
   "cell_type": "code",
   "execution_count": 8,
   "metadata": {},
   "outputs": [],
   "source": [
    "import pyfixest as pf\n",
    "\n",
    "import polars as pl\n",
    "import pandas as pd\n",
    "\n",
    "import numpy as np"
   ]
  },
  {
   "cell_type": "code",
   "execution_count": 9,
   "metadata": {},
   "outputs": [],
   "source": [
    "df_castle = pd.read_stata(\"https://github.com/scunning1975/mixtape/raw/master/castle.dta\")\n",
    "df_castle = df_castle.astype({\"post\": bool, \"popwt\": np.float64})\n",
    "\n",
    "df_untreated = df_castle.loc[df_castle[\"post\"] == 0, :]\n",
    "\n",
    "fit_untrt = pf.feols(\"l_homicide ~ 1 | state + year\", data=df_untreated)\n",
    "fit_untrt_wgt = pf.feols(\"l_homicide ~ 1 | state + year\", data=df_untreated, weights=\"popwt\")\n",
    "\n",
    "yhat = fit_untrt.predict(newdata=df_castle)\n",
    "yhat_wgt = fit_untrt_wgt.predict(newdata=df_castle)\n",
    "\n",
    "# Getting first stage predictions\n",
    "\n",
    "yhat_nn = fit_untrt.predict()\n",
    "yhat_wgt_nn = fit_untrt_wgt.predict()\n"
   ]
  },
  {
   "cell_type": "code",
   "execution_count": 10,
   "metadata": {},
   "outputs": [
    {
     "name": "stdout",
     "output_type": "stream",
     "text": [
      "###\n",
      "\n",
      "Estimation:  DID2S\n",
      "Dep. var.: l_homicide_hat, Fixed effects: 0\n",
      "Inference:  CRV1 (GMM)\n",
      "Observations:  550\n",
      "\n",
      "| Coefficient                              |   Estimate |   Std. Error |   t value |   Pr(>|t|) |   2.5% |   97.5% |\n",
      "|:-----------------------------------------|-----------:|-------------:|----------:|-----------:|-------:|--------:|\n",
      "| C(post, contr.treatment(base=0))[T.True] |      0.067 |        0.057 |     1.173 |      0.246 | -0.048 |   0.181 |\n",
      "---\n",
      "RMSE: 0.183 R2: 0.015 \n"
     ]
    }
   ],
   "source": [
    "fit_did2s_unwgt = pf.did2s(\n",
    "    data=df_castle,\n",
    "    yname=\"l_homicide\",\n",
    "    first_stage=\"~ 0 | sid + year\",\n",
    "    second_stage=\"~ i(post, ref=0)\",\n",
    "    treatment=\"post\",\n",
    "    cluster=\"state\",\n",
    ")\n",
    "\n",
    "fit_did2s_unwgt.summary()"
   ]
  },
  {
   "cell_type": "code",
   "execution_count": 11,
   "metadata": {},
   "outputs": [
    {
     "name": "stdout",
     "output_type": "stream",
     "text": [
      "###\n",
      "\n",
      "Estimation:  DID2S\n",
      "Dep. var.: l_homicide_hat, Fixed effects: 0\n",
      "Inference:  CRV1 (GMM)\n",
      "Observations:  550\n",
      "\n",
      "| Coefficient                              |   Estimate |   Std. Error |   t value |   Pr(>|t|) |   2.5% |   97.5% |\n",
      "|:-----------------------------------------|-----------:|-------------:|----------:|-----------:|-------:|--------:|\n",
      "| C(post, contr.treatment(base=0))[T.True] |      0.075 |        0.035 |     2.124 |      0.039 |  0.004 |   0.146 |\n",
      "---\n",
      "\n"
     ]
    }
   ],
   "source": [
    "fit_did2s_wgt = pf.did2s(\n",
    "    data=df_castle,\n",
    "    yname=\"l_homicide\",\n",
    "    first_stage=\"~ 0 | sid + year\",\n",
    "    second_stage=\"~ i(post, ref=0)\",\n",
    "    treatment=\"post\",\n",
    "    cluster=\"state\",\n",
    "    weights=\"popwt\"\n",
    ")\n",
    "\n",
    "fit_did2s_wgt.summary()"
   ]
  },
  {
   "cell_type": "code",
   "execution_count": 12,
   "metadata": {},
   "outputs": [
    {
     "data": {
      "text/plain": [
       "Coefficient\n",
       "C(post, contr.treatment(base=0))[T.True]    0.075141\n",
       "Name: Estimate, dtype: float64"
      ]
     },
     "execution_count": 12,
     "metadata": {},
     "output_type": "execute_result"
    }
   ],
   "source": [
    "fit_did2s_wgt.coef()"
   ]
  },
  {
   "cell_type": "code",
   "execution_count": 14,
   "metadata": {},
   "outputs": [
    {
     "data": {
      "text/plain": [
       "state           object\n",
       "year             int16\n",
       "sid               int8\n",
       "cdl            float32\n",
       "pre2_cdl       float32\n",
       "                ...   \n",
       "_Iyear_2007       int8\n",
       "_Iyear_2008       int8\n",
       "_Iyear_2009       int8\n",
       "_Iyear_2010       int8\n",
       "popwt          float64\n",
       "Length: 185, dtype: object"
      ]
     },
     "execution_count": 14,
     "metadata": {},
     "output_type": "execute_result"
    }
   ],
   "source": [
    "df_castle.dtypes"
   ]
  },
  {
   "cell_type": "code",
   "execution_count": null,
   "metadata": {},
   "outputs": [],
   "source": []
  },
  {
   "cell_type": "code",
   "execution_count": null,
   "metadata": {},
   "outputs": [],
   "source": []
  }
 ],
 "metadata": {
  "kernelspec": {
   "display_name": "pyfixest",
   "language": "python",
   "name": "python3"
  },
  "language_info": {
   "codemirror_mode": {
    "name": "ipython",
    "version": 3
   },
   "file_extension": ".py",
   "mimetype": "text/x-python",
   "name": "python",
   "nbconvert_exporter": "python",
   "pygments_lexer": "ipython3",
   "version": "3.12.7"
  }
 },
 "nbformat": 4,
 "nbformat_minor": 2
}
