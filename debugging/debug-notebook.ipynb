{
 "cells": [
  {
   "cell_type": "code",
   "execution_count": 181,
   "metadata": {},
   "outputs": [
    {
     "name": "stdout",
     "output_type": "stream",
     "text": [
      "The autoreload extension is already loaded. To reload it, use:\n",
      "  %reload_ext autoreload\n"
     ]
    }
   ],
   "source": [
    "%load_ext autoreload\n",
    "%autoreload 2\n",
    "\n",
    "import pytest\n",
    "import re\n",
    "import numpy as np\n",
    "import pandas as pd\n",
    "from pyfixest.fixest import Fixest\n",
    "from pyfixest.utils import get_data\n",
    "from tests.test_vs_fixest import get_data_r\n",
    "from pyfixest.ssc_utils import ssc\n",
    "\n",
    "# rpy2 imports\n",
    "from rpy2.robjects.packages import importr\n",
    "import rpy2.robjects as ro\n",
    "from rpy2.robjects import pandas2ri\n",
    "\n",
    "pandas2ri.activate()\n",
    "\n",
    "fixest = importr(\"fixest\")\n",
    "stats = importr(\"stats\")\n",
    "base = importr(\"base\")\n",
    "broom = importr(\"broom\")"
   ]
  },
  {
   "cell_type": "code",
   "execution_count": 204,
   "metadata": {},
   "outputs": [],
   "source": [
    "seed = 11122\n",
    "N = 1_000_000\n",
    "beta_type = \"3\"\n",
    "error_type = \"2\"\n",
    "\n",
    "pdata = get_data(seed = seed, N = N, beta_type = \"1\", error_type = \"1\", model = \"Fepois\")\n",
    "\n",
    "fml = \"Y2 ~ sw(X1, X2) | f1 + f2 + f3\"\n",
    "r_fml = \"Y2 ~ sw(X1,X2) | f1 + f2 + f3\""
   ]
  },
  {
   "cell_type": "code",
   "execution_count": 205,
   "metadata": {},
   "outputs": [],
   "source": [
    "inference, r_inference = \"hetero\", \"hetero\"\n",
    "#inference, r_inference = \"iid\", \"iid\"\n",
    "#inference, r_inference = {'CRV1':'group_id'}, ro.Formula(\"cluster = ~group_id\")\n",
    "#inference, r_inference = \"hetero\", \"hetero\"\n",
    "pdata = pdata.dropna()\n",
    "pdata_r = get_data_r(fml, pdata)"
   ]
  },
  {
   "cell_type": "code",
   "execution_count": 206,
   "metadata": {},
   "outputs": [
    {
     "name": "stdout",
     "output_type": "stream",
     "text": [
      "Model:  Y2~X1|f1+f2+f3\n"
     ]
    }
   ],
   "source": [
    "pyfixest = Fixest(data = pdata).fepois(fml, vcov = inference)\n",
    "mod = pyfixest.fetch_model(0)"
   ]
  },
  {
   "cell_type": "code",
   "execution_count": 207,
   "metadata": {},
   "outputs": [
    {
     "name": "stdout",
     "output_type": "stream",
     "text": [
      "###\n",
      "\n",
      "Model:  Poisson\n",
      "Dep. var.:  Y2\n",
      "Fixed effects:  f1+f2+f3\n",
      "Inference:  hetero\n",
      "Observations:  999997\n",
      "\n",
      "| Coefficient   |   Estimate |   Std. Error |    t value |   Pr(>|t|) |       2.5 % |     97.5 % |\n",
      "|:--------------|-----------:|-------------:|-----------:|-----------:|------------:|-----------:|\n",
      "| X1            | 0.00080819 |   0.00067707 | 1.19366635 | 0.23260851 | -0.00051884 | 0.00213522 |\n",
      "---\n",
      "Deviance: 1959757.41769485\n",
      "###\n",
      "\n",
      "Model:  Poisson\n",
      "Dep. var.:  Y2\n",
      "Fixed effects:  f1+f2+f3\n",
      "Inference:  hetero\n",
      "Observations:  999997\n",
      "\n",
      "| Coefficient   |   Estimate |   Std. Error |    t value |   Pr(>|t|) |       2.5 % |     97.5 % |\n",
      "|:--------------|-----------:|-------------:|-----------:|-----------:|------------:|-----------:|\n",
      "| X2            | 0.00013129 |   0.00018441 | 0.71190937 | 0.47652090 | -0.00023016 | 0.00049273 |\n",
      "---\n",
      "Deviance: 1959758.95761559\n"
     ]
    }
   ],
   "source": [
    "pyfixest.summary(digits = 8)"
   ]
  },
  {
   "cell_type": "code",
   "execution_count": 208,
   "metadata": {},
   "outputs": [
    {
     "data": {
      "text/plain": [
       "<rpy2.robjects.Formula object at 0x000002241794A400> [RTYPES.LANGSXP]\n",
       "R classes: ('formula',)"
      ]
     },
     "execution_count": 208,
     "metadata": {},
     "output_type": "execute_result"
    }
   ],
   "source": [
    " ro.Formula(r_fml)"
   ]
  },
  {
   "cell_type": "code",
   "execution_count": 209,
   "metadata": {},
   "outputs": [
    {
     "name": "stderr",
     "output_type": "stream",
     "text": [
      "c:\\Users\\alexa\\AppData\\Local\\Programs\\Python\\Python310\\lib\\site-packages\\rpy2\\robjects\\pandas2ri.py:55: FutureWarning: iteritems is deprecated and will be removed in a future version. Use .items instead.\n",
      "  for name, values in obj.iteritems():\n"
     ]
    },
    {
     "name": "stdout",
     "output_type": "stream",
     "text": [
      "Standard-errors: Heteroskedasticity-robust \n",
      "Dep. var.: Y2\n",
      "Expl. vars.: X1\n",
      "   Estimate Std. Error t value Pr(>|t|) \n",
      "X1 0.000808   0.000677 1.19367  0.23261 \n",
      "---\n",
      "Expl. vars.: X2\n",
      "   Estimate Std. Error  t value Pr(>|t|) \n",
      "X2 0.000131   0.000184 0.711909  0.47652 \n"
     ]
    },
    {
     "data": {
      "text/plain": [
       "<rpy2.rinterface_lib.sexp.NULLType object at 0x000002247FCECB80> [RTYPES.NILSXP]"
      ]
     },
     "execution_count": 209,
     "metadata": {},
     "output_type": "execute_result"
    }
   ],
   "source": [
    "r_fixest = fixest.fepois(\n",
    "    ro.Formula(r_fml),\n",
    "    vcov=r_inference,\n",
    "    data=pdata_r,\n",
    "    ssc=fixest.ssc(True, \"none\", True, \"min\", \"min\", False),\n",
    ")\n",
    "\n",
    "base.print(r_fixest)\n"
   ]
  },
  {
   "cell_type": "code",
   "execution_count": 138,
   "metadata": {},
   "outputs": [
    {
     "name": "stdout",
     "output_type": "stream",
     "text": [
      "Model:  Y~X1+X2\n"
     ]
    }
   ],
   "source": [
    "mod = pyfixest.fetch_model(0)\n",
    "mod.beta_hat\n",
    "\n",
    "py_coef = mod.coef().xs(\"X1\")\n",
    "py_se = mod.se().xs(\"X1\")\n",
    "py_pval = mod.pvalue().xs(\"X1\")\n",
    "py_tstat = mod.tstat().xs(\"X1\")\n",
    "py_confint = mod.confint().xs(\"X1\").values\n",
    "py_nobs = mod.N"
   ]
  },
  {
   "cell_type": "code",
   "execution_count": 139,
   "metadata": {},
   "outputs": [],
   "source": [
    "fixest_df = broom.tidy_fixest(r_fixest, conf_int = ro.BoolVector([True]))\n",
    "df_r = pd.DataFrame(fixest_df).T\n",
    "df_r.columns = [\"term\",\"estimate\",\"std.error\",\"statistic\",\"p.value\",\"conf.low\", \"conf.high\"]\n",
    "df_X1 = df_r.set_index(\"term\").xs(\"X1\") # only test for X1\n",
    "\n",
    "r_coef = df_X1[\"estimate\"]\n",
    "r_se = df_X1[\"std.error\"]\n",
    "r_pval = df_X1[\"p.value\"]\n",
    "r_tstat = df_X1[\"statistic\"]\n",
    "r_confint = df_X1[[\"conf.low\", \"conf.high\"]].values.astype(np.float64)"
   ]
  },
  {
   "cell_type": "code",
   "execution_count": 140,
   "metadata": {},
   "outputs": [
    {
     "data": {
      "text/plain": [
       "9.10055503178242e-11"
      ]
     },
     "execution_count": 140,
     "metadata": {},
     "output_type": "execute_result"
    }
   ],
   "source": [
    "r_coef - py_coef "
   ]
  },
  {
   "cell_type": "code",
   "execution_count": 141,
   "metadata": {},
   "outputs": [
    {
     "data": {
      "text/plain": [
       "1.5509040780861683e-06"
      ]
     },
     "execution_count": 141,
     "metadata": {},
     "output_type": "execute_result"
    }
   ],
   "source": [
    "r_se - py_se "
   ]
  },
  {
   "cell_type": "code",
   "execution_count": 21,
   "metadata": {},
   "outputs": [
    {
     "data": {
      "text/plain": [
       "array([[ 1.00385976e+00, -1.11910481e-13],\n",
       "       [-1.91181274e+00, -3.82362549e+00],\n",
       "       [ 3.85976292e-03, -1.11910481e-13],\n",
       "       [ 4.60235092e-02,  4.60235092e-02],\n",
       "       [ 1.08818726e+00,  2.17637451e+00]])"
      ]
     },
     "execution_count": 21,
     "metadata": {},
     "output_type": "execute_result"
    }
   ],
   "source": [
    "(mod.scores - r_fixest.rx2(\"scores\"))[0:5, :]"
   ]
  },
  {
   "cell_type": "code",
   "execution_count": 18,
   "metadata": {},
   "outputs": [
    {
     "data": {
      "text/plain": [
       "array([[1.00001635, 1.00001409],\n",
       "       [1.00001409, 1.00001359]])"
      ]
     },
     "execution_count": 18,
     "metadata": {},
     "output_type": "execute_result"
    }
   ],
   "source": [
    "(mod.hessian / r_fixest.rx2(\"hessian\"))[0:5, :]"
   ]
  },
  {
   "cell_type": "code",
   "execution_count": 291,
   "metadata": {},
   "outputs": [
    {
     "data": {
      "text/plain": [
       "2.7172101186375754"
      ]
     },
     "execution_count": 291,
     "metadata": {},
     "output_type": "execute_result"
    }
   ],
   "source": [
    "np.sum(np.diag(mod.scores.transpose() @ mod.scores)) / 100"
   ]
  },
  {
   "cell_type": "code",
   "execution_count": 258,
   "metadata": {},
   "outputs": [
    {
     "data": {
      "text/plain": [
       "array([[ 97.0021122 ,  88.00220761],\n",
       "       [ 88.00220761, 146.00374972]])"
      ]
     },
     "execution_count": 258,
     "metadata": {},
     "output_type": "execute_result"
    }
   ],
   "source": [
    "r_fixest.rx2(\"hessian\")"
   ]
  },
  {
   "cell_type": "code",
   "execution_count": 167,
   "metadata": {},
   "outputs": [
    {
     "name": "stdout",
     "output_type": "stream",
     "text": [
      "The autoreload extension is already loaded. To reload it, use:\n",
      "  %reload_ext autoreload\n",
      "###\n",
      "\n",
      "Model:  Poisson\n",
      "Dep. var.:  Y\n",
      "Fixed effects:  X2+X3+X4\n",
      "Inference:  {'CRV1': 'X4'}\n",
      "Observations:  1000\n",
      "\n",
      "| Coefficient   |   Estimate |   Std. Error |   t value |   Pr(>|t|) |   2.5 % |   97.5 % |\n",
      "|:--------------|-----------:|-------------:|----------:|-----------:|--------:|---------:|\n",
      "| X1            |      0.874 |        0.037 |    23.780 |      0.000 |   0.802 |    0.946 |\n",
      "---\n",
      "Deviance: 481157.824\n"
     ]
    },
    {
     "name": "stderr",
     "output_type": "stream",
     "text": [
      "c:\\Users\\alexa\\Documents\\pyfixest\\pyfixest\\fepois.py:314: UserWarning: 0 observations removed because of only 0 outcomes.\n",
      "  )\n",
      "c:\\Users\\alexa\\Documents\\pyfixest\\pyfixest\\fepois.py:102: RuntimeWarning: divide by zero encountered in log\n",
      "  # initiate demeaning algo (if needed)\n",
      "c:\\Users\\alexa\\Documents\\pyfixest\\pyfixest\\fepois.py:102: RuntimeWarning: invalid value encountered in multiply\n",
      "  # initiate demeaning algo (if needed)\n"
     ]
    }
   ],
   "source": [
    "%load_ext autoreload\n",
    "%autoreload 2\n",
    "\n",
    "import pyfixest as pf\n",
    "from pyfixest.utils import get_poisson_data\n",
    "\n",
    "pdata = get_poisson_data()\n",
    "fixest = pf.Fixest(data = pdata)\n",
    "fixest.fepois(\"Y~X1 | X2+X3+X4\", vcov = {'CRV1':'X4'})\n",
    "\n",
    "fixest.summary()\n"
   ]
  }
 ],
 "metadata": {
  "kernelspec": {
   "display_name": "Python 3",
   "language": "python",
   "name": "python3"
  },
  "language_info": {
   "codemirror_mode": {
    "name": "ipython",
    "version": 3
   },
   "file_extension": ".py",
   "mimetype": "text/x-python",
   "name": "python",
   "nbconvert_exporter": "python",
   "pygments_lexer": "ipython3",
   "version": "3.10.8"
  },
  "orig_nbformat": 4
 },
 "nbformat": 4,
 "nbformat_minor": 2
}
