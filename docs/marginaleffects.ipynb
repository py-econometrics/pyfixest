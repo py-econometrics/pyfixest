{
 "cells": [
  {
   "cell_type": "markdown",
   "metadata": {},
   "source": [
    "## Marginal Effects and Hypothesis Tests via `marginaleffects`"
   ]
  },
  {
   "cell_type": "markdown",
   "metadata": {},
   "source": [
    "We can compute marginal effects and linear and non-linear hypothesis tests via the excellent [marginaleffects](https://github.com/vincentarelbundock/pymarginaleffects) package. "
   ]
  },
  {
   "cell_type": "code",
   "execution_count": 1,
   "metadata": {},
   "outputs": [
    {
     "data": {
      "text/html": [
       "\n",
       "            <div id=\"35zazR\"></div>\n",
       "            <script type=\"text/javascript\" data-lets-plot-script=\"library\">\n",
       "                if(!window.letsPlotCallQueue) {\n",
       "                    window.letsPlotCallQueue = [];\n",
       "                }; \n",
       "                window.letsPlotCall = function(f) {\n",
       "                    window.letsPlotCallQueue.push(f);\n",
       "                };\n",
       "                (function() {\n",
       "                    var script = document.createElement(\"script\");\n",
       "                    script.type = \"text/javascript\";\n",
       "                    script.src = \"https://cdn.jsdelivr.net/gh/JetBrains/lets-plot@v4.3.2/js-package/distr/lets-plot.min.js\";\n",
       "                    script.onload = function() {\n",
       "                        window.letsPlotCall = function(f) {f();};\n",
       "                        window.letsPlotCallQueue.forEach(function(f) {f();});\n",
       "                        window.letsPlotCallQueue = [];\n",
       "                        \n",
       "                    };\n",
       "                    script.onerror = function(event) {\n",
       "                        window.letsPlotCall = function(f) {};    // noop\n",
       "                        window.letsPlotCallQueue = [];\n",
       "                        var div = document.createElement(\"div\");\n",
       "                        div.style.color = 'darkred';\n",
       "                        div.textContent = 'Error loading Lets-Plot JS';\n",
       "                        document.getElementById(\"35zazR\").appendChild(div);\n",
       "                    };\n",
       "                    var e = document.getElementById(\"35zazR\");\n",
       "                    e.appendChild(script);\n",
       "                })()\n",
       "            </script>\n",
       "            "
      ]
     },
     "metadata": {},
     "output_type": "display_data"
    },
    {
     "data": {
      "text/html": [
       "\n",
       "            <div id=\"45nUzX\"></div>\n",
       "            <script type=\"text/javascript\" data-lets-plot-script=\"library\">\n",
       "                if(!window.letsPlotCallQueue) {\n",
       "                    window.letsPlotCallQueue = [];\n",
       "                }; \n",
       "                window.letsPlotCall = function(f) {\n",
       "                    window.letsPlotCallQueue.push(f);\n",
       "                };\n",
       "                (function() {\n",
       "                    var script = document.createElement(\"script\");\n",
       "                    script.type = \"text/javascript\";\n",
       "                    script.src = \"https://cdn.jsdelivr.net/gh/JetBrains/lets-plot@v4.3.2/js-package/distr/lets-plot.min.js\";\n",
       "                    script.onload = function() {\n",
       "                        window.letsPlotCall = function(f) {f();};\n",
       "                        window.letsPlotCallQueue.forEach(function(f) {f();});\n",
       "                        window.letsPlotCallQueue = [];\n",
       "                        \n",
       "                    };\n",
       "                    script.onerror = function(event) {\n",
       "                        window.letsPlotCall = function(f) {};    // noop\n",
       "                        window.letsPlotCallQueue = [];\n",
       "                        var div = document.createElement(\"div\");\n",
       "                        div.style.color = 'darkred';\n",
       "                        div.textContent = 'Error loading Lets-Plot JS';\n",
       "                        document.getElementById(\"45nUzX\").appendChild(div);\n",
       "                    };\n",
       "                    var e = document.getElementById(\"45nUzX\");\n",
       "                    e.appendChild(script);\n",
       "                })()\n",
       "            </script>\n",
       "            "
      ]
     },
     "metadata": {},
     "output_type": "display_data"
    },
    {
     "data": {
      "text/html": [
       "<div>\n",
       "<style scoped>\n",
       "    .dataframe tbody tr th:only-of-type {\n",
       "        vertical-align: middle;\n",
       "    }\n",
       "\n",
       "    .dataframe tbody tr th {\n",
       "        vertical-align: top;\n",
       "    }\n",
       "\n",
       "    .dataframe thead th {\n",
       "        text-align: right;\n",
       "    }\n",
       "</style>\n",
       "<table border=\"1\" class=\"dataframe\">\n",
       "  <thead>\n",
       "    <tr style=\"text-align: right;\">\n",
       "      <th></th>\n",
       "      <th>Estimate</th>\n",
       "      <th>Std. Error</th>\n",
       "      <th>t value</th>\n",
       "      <th>Pr(&gt;|t|)</th>\n",
       "      <th>2.5%</th>\n",
       "      <th>97.5%</th>\n",
       "    </tr>\n",
       "    <tr>\n",
       "      <th>Coefficient</th>\n",
       "      <th></th>\n",
       "      <th></th>\n",
       "      <th></th>\n",
       "      <th></th>\n",
       "      <th></th>\n",
       "      <th></th>\n",
       "    </tr>\n",
       "  </thead>\n",
       "  <tbody>\n",
       "    <tr>\n",
       "      <th>Intercept</th>\n",
       "      <td>0.888779</td>\n",
       "      <td>0.108422</td>\n",
       "      <td>8.197374</td>\n",
       "      <td>8.881784e-16</td>\n",
       "      <td>0.676016</td>\n",
       "      <td>1.101542</td>\n",
       "    </tr>\n",
       "    <tr>\n",
       "      <th>X1</th>\n",
       "      <td>-0.992936</td>\n",
       "      <td>0.082117</td>\n",
       "      <td>-12.091650</td>\n",
       "      <td>0.000000e+00</td>\n",
       "      <td>-1.154079</td>\n",
       "      <td>-0.831792</td>\n",
       "    </tr>\n",
       "    <tr>\n",
       "      <th>X2</th>\n",
       "      <td>-0.176342</td>\n",
       "      <td>0.021766</td>\n",
       "      <td>-8.101743</td>\n",
       "      <td>1.554312e-15</td>\n",
       "      <td>-0.219055</td>\n",
       "      <td>-0.133630</td>\n",
       "    </tr>\n",
       "  </tbody>\n",
       "</table>\n",
       "</div>"
      ],
      "text/plain": [
       "             Estimate  Std. Error    t value      Pr(>|t|)      2.5%     97.5%\n",
       "Coefficient                                                                   \n",
       "Intercept    0.888779    0.108422   8.197374  8.881784e-16  0.676016  1.101542\n",
       "X1          -0.992936    0.082117 -12.091650  0.000000e+00 -1.154079 -0.831792\n",
       "X2          -0.176342    0.021766  -8.101743  1.554312e-15 -0.219055 -0.133630"
      ]
     },
     "execution_count": 1,
     "metadata": {},
     "output_type": "execute_result"
    }
   ],
   "source": [
    "from marginaleffects import hypotheses\n",
    "\n",
    "import pyfixest as pf\n",
    "\n",
    "data = pf.get_data()\n",
    "fit = pf.feols(\"Y ~ X1 + X2\", data=data)\n",
    "\n",
    "fit.tidy()"
   ]
  },
  {
   "cell_type": "markdown",
   "metadata": {},
   "source": [
    "Suppose we were interested in testing the hypothesis that $X_{1} = X_{2}$. Given the relatively large differences in coefficients and \n",
    "small standard errors, we will likely reject the null that the two parameters are equal. \n",
    "\n",
    "We can run the formal test via the `hypotheses` function from the `marginaleffects` package. "
   ]
  },
  {
   "cell_type": "code",
   "execution_count": 2,
   "metadata": {},
   "outputs": [
    {
     "data": {
      "text/html": [
       "<div><style>\n",
       ".dataframe > thead > tr,\n",
       ".dataframe > tbody > tr {\n",
       "  text-align: right;\n",
       "  white-space: pre-wrap;\n",
       "}\n",
       "</style>\n",
       "<small>shape: (1, 8)</small><table border=\"1\" class=\"dataframe\"><thead><tr><th>term</th><th>estimate</th><th>std_error</th><th>statistic</th><th>p_value</th><th>s_value</th><th>conf_low</th><th>conf_high</th></tr><tr><td>str</td><td>f64</td><td>f64</td><td>f64</td><td>f64</td><td>f64</td><td>f64</td><td>f64</td></tr></thead><tbody><tr><td>&quot;X1-X2=0&quot;</td><td>-0.816593</td><td>0.085179</td><td>-9.586797</td><td>0.0</td><td>inf</td><td>-0.983541</td><td>-0.649646</td></tr></tbody></table></div>"
      ],
      "text/plain": [
       "shape: (1, 8)\n",
       "┌─────────┬──────────┬───────────┬───────┬─────────┬─────┬────────┬───────┐\n",
       "│ Term    ┆ Estimate ┆ Std.Error ┆ z     ┆ P(>|z|) ┆ S   ┆ 2.5%   ┆ 97.5% │\n",
       "│ ---     ┆ ---      ┆ ---       ┆ ---   ┆ ---     ┆ --- ┆ ---    ┆ ---   │\n",
       "│ str     ┆ str      ┆ str       ┆ str   ┆ str     ┆ str ┆ str    ┆ str   │\n",
       "╞═════════╪══════════╪═══════════╪═══════╪═════════╪═════╪════════╪═══════╡\n",
       "│ X1-X2=0 ┆ -0.817   ┆ 0.0852    ┆ -9.59 ┆ 0       ┆ inf ┆ -0.984 ┆ -0.65 │\n",
       "└─────────┴──────────┴───────────┴───────┴─────────┴─────┴────────┴───────┘\n",
       "\n",
       "Columns: term, estimate, std_error, statistic, p_value, s_value, conf_low, conf_high"
      ]
     },
     "execution_count": 2,
     "metadata": {},
     "output_type": "execute_result"
    }
   ],
   "source": [
    "hypotheses(fit, \"X1 - X2 = 0\")"
   ]
  },
  {
   "cell_type": "markdown",
   "metadata": {},
   "source": [
    "And indeed, we reject the null of equality of coefficients: we get a p-value of zero and a confidence interval that does not contain 0. "
   ]
  },
  {
   "cell_type": "markdown",
   "metadata": {},
   "source": [
    "## Ratio Estimates\n",
    "\n",
    "We can also test run-linear hypotheses, in which case `marginaleffects` will automatically compute correct standard errors \n",
    "based on the estimated covariance matrix and the Delta method. This is for example useful for computing inferential \n",
    "statistics for the \"relative uplift\" in an AB test.\n",
    "\n",
    "For the moment, let's assume that $X1$ is a randomly assigned treatment variable. As before, $Y$ is our variable / KPI of interest. \n",
    "\n",
    "Under randomization, the model intercept measures the \"baseline\", i.e. the population average of $Y$ in the absence of treatment. To compute a relative uplift, we might compute "
   ]
  },
  {
   "cell_type": "code",
   "execution_count": 3,
   "metadata": {},
   "outputs": [
    {
     "data": {
      "text/plain": [
       "-211.71906665561212"
      ]
     },
     "execution_count": 3,
     "metadata": {},
     "output_type": "execute_result"
    }
   ],
   "source": [
    "(fit.coef().xs(\"X1\") / fit.coef().xs(\"Intercept\") - 1) * 100"
   ]
  },
  {
   "cell_type": "markdown",
   "metadata": {},
   "source": [
    "So we have a really big negative treatment effect of around minus 212%! To conduct correct inference on this \n",
    "ratio statistic, we need to use the delta method. \n",
    "\n",
    "\n",
    "### The Multivariate Delta Method\n",
    "\n",
    "In a nutshell, the delta method provides a way to approximate the asympotic distribution of any non-linear transformation $g()$ or one or more random variables. \n",
    "\n",
    "In the case of the ratio statistics, this non-linear transformation can be denoted as $g(\\theta_{1}, \\theta_{2}) = \\theta_{1} / \\theta_{2}$.  \n",
    "\n",
    "Here's the **Delta Method theorem**: \n",
    "\n",
    "First, we define $\\theta = (\\theta_{1}, \\theta_{2})'$ and $\\mu = (\\mu_{1}, \\mu_{2})'$.\n",
    "\n",
    "By the law of large numbers, we know that \n",
    "\n",
    "$$\n",
    "\\sqrt{N} (\\theta - \\mu) \\rightarrow_{d} N(0_{2}, \\Sigma_{2,2}) \\text{ if } N \\rightarrow \\infty.\n",
    "$$ \n",
    "\n",
    "By the **Delta Method**, we can then approximate the limit distribution of $g(\\theta)$ as \n",
    "\n",
    "\n",
    "$$\n",
    "\\sqrt{N}  (g(\\theta) - g(\\mu)) \\rightarrow_{d} N(0_{1}, g'(\\theta) \\times \\Sigma \\times g(\\theta)) \\text{ if } N \\rightarrow \\infty.\n",
    "$$. \n",
    "\n",
    "[Here's a long derivation of how to use the the delta method for inference of ratio statistics.](https://stats.stackexchange.com/questions/291594/estimation-of-population-ratio-using-delta-method). The key steps from the formula above is to derive the expression for the asymptotic variance $ g'(\\theta) \\times \\Sigma \\times g(\\theta)$.\n",
    "\n",
    "But hey - we're lucky, because marginaleffects will do all this work for us: we don't have to derive analytic gradients ourselves =) "
   ]
  },
  {
   "cell_type": "markdown",
   "metadata": {},
   "source": [
    "### Using the Delta Method via `marginaleffects`:"
   ]
  },
  {
   "cell_type": "markdown",
   "metadata": {},
   "source": [
    "We can employ the Delta Method via `marginaleffects` via the `hypotheses` function: "
   ]
  },
  {
   "cell_type": "code",
   "execution_count": 4,
   "metadata": {},
   "outputs": [
    {
     "data": {
      "text/html": [
       "<div><style>\n",
       ".dataframe > thead > tr,\n",
       ".dataframe > tbody > tr {\n",
       "  text-align: right;\n",
       "  white-space: pre-wrap;\n",
       "}\n",
       "</style>\n",
       "<small>shape: (1, 8)</small><table border=\"1\" class=\"dataframe\"><thead><tr><th>term</th><th>estimate</th><th>std_error</th><th>statistic</th><th>p_value</th><th>s_value</th><th>conf_low</th><th>conf_high</th></tr><tr><td>str</td><td>f64</td><td>f64</td><td>f64</td><td>f64</td><td>f64</td><td>f64</td><td>f64</td></tr></thead><tbody><tr><td>&quot;(X1/Intercept-…</td><td>-211.719067</td><td>8.478682</td><td>-24.970751</td><td>0.0</td><td>inf</td><td>-228.336979</td><td>-195.101155</td></tr></tbody></table></div>"
      ],
      "text/plain": [
       "shape: (1, 8)\n",
       "┌────────────────────────┬──────────┬───────────┬─────┬─────────┬─────┬──────┬───────┐\n",
       "│ Term                   ┆ Estimate ┆ Std.Error ┆ z   ┆ P(>|z|) ┆ S   ┆ 2.5% ┆ 97.5% │\n",
       "│ ---                    ┆ ---      ┆ ---       ┆ --- ┆ ---     ┆ --- ┆ ---  ┆ ---   │\n",
       "│ str                    ┆ str      ┆ str       ┆ str ┆ str     ┆ str ┆ str  ┆ str   │\n",
       "╞════════════════════════╪══════════╪═══════════╪═════╪═════════╪═════╪══════╪═══════╡\n",
       "│ (X1/Intercept-1)*100=0 ┆ -212     ┆ 8.48      ┆ -25 ┆ 0       ┆ inf ┆ -228 ┆ -195  │\n",
       "└────────────────────────┴──────────┴───────────┴─────┴─────────┴─────┴──────┴───────┘\n",
       "\n",
       "Columns: term, estimate, std_error, statistic, p_value, s_value, conf_low, conf_high"
      ]
     },
     "execution_count": 4,
     "metadata": {},
     "output_type": "execute_result"
    }
   ],
   "source": [
    "hypotheses(fit, \"(X1 / Intercept - 1) * 100 = 0\")"
   ]
  },
  {
   "cell_type": "markdown",
   "metadata": {},
   "source": [
    "As before, we get an estimate of around -212%. Additionally, we obtain a 95% CI via the Delta Method of [-228%, -195%]."
   ]
  },
  {
   "cell_type": "markdown",
   "metadata": {},
   "source": [
    "Besides hypopotheses testing, you can do a range of other cool things with the `marginaleffects` package. \n",
    "For example (and likely unsurprisingly), you can easily compute all sorts of marginal effects for your regression models. \n",
    "For all the details, we highly recommend to take a look \n",
    "at the [marginaleffects zoo book!](https://marginaleffects.com/index.html)."
   ]
  }
 ],
 "metadata": {
  "kernelspec": {
   "display_name": "Python 3",
   "language": "python",
   "name": "python3"
  },
  "language_info": {
   "codemirror_mode": {
    "name": "ipython",
    "version": 3
   },
   "file_extension": ".py",
   "mimetype": "text/x-python",
   "name": "python",
   "nbconvert_exporter": "python",
   "pygments_lexer": "ipython3",
   "version": "3.10.8"
  }
 },
 "nbformat": 4,
 "nbformat_minor": 2
}
