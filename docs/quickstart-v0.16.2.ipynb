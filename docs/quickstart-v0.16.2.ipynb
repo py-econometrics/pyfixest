{
 "cells": [
  {
   "cell_type": "markdown",
   "metadata": {},
   "source": [
    "# Getting Started with PyFixest\n",
    "\n",
    "In a first step, we load the module and some example data:"
   ]
  },
  {
   "cell_type": "code",
   "execution_count": 1,
   "metadata": {},
   "outputs": [
    {
     "name": "stdout",
     "output_type": "stream",
     "text": [
      "\n",
      "    You have loaded the 'pyfixest.did' module. While every function is tested in `tests/test_did.py`,\n",
      "    the module is not yet as thoroughly tested as I would like. So please use it with caution and\n",
      "    provide feedback in case you stumble over any bugs!\n",
      "    \n"
     ]
    },
    {
     "data": {
      "text/html": [
       "\n",
       "            <div id=\"qx5QSX\"></div>\n",
       "            <script type=\"text/javascript\" data-lets-plot-script=\"library\">\n",
       "                if(!window.letsPlotCallQueue) {\n",
       "                    window.letsPlotCallQueue = [];\n",
       "                }; \n",
       "                window.letsPlotCall = function(f) {\n",
       "                    window.letsPlotCallQueue.push(f);\n",
       "                };\n",
       "                (function() {\n",
       "                    var script = document.createElement(\"script\");\n",
       "                    script.type = \"text/javascript\";\n",
       "                    script.src = \"https://cdn.jsdelivr.net/gh/JetBrains/lets-plot@v4.2.0/js-package/distr/lets-plot.min.js\";\n",
       "                    script.onload = function() {\n",
       "                        window.letsPlotCall = function(f) {f();};\n",
       "                        window.letsPlotCallQueue.forEach(function(f) {f();});\n",
       "                        window.letsPlotCallQueue = [];\n",
       "                        \n",
       "                    };\n",
       "                    script.onerror = function(event) {\n",
       "                        window.letsPlotCall = function(f) {};    // noop\n",
       "                        window.letsPlotCallQueue = [];\n",
       "                        var div = document.createElement(\"div\");\n",
       "                        div.style.color = 'darkred';\n",
       "                        div.textContent = 'Error loading Lets-Plot JS';\n",
       "                        document.getElementById(\"qx5QSX\").appendChild(div);\n",
       "                    };\n",
       "                    var e = document.getElementById(\"qx5QSX\");\n",
       "                    e.appendChild(script);\n",
       "                })()\n",
       "            </script>\n",
       "            "
      ]
     },
     "metadata": {},
     "output_type": "display_data"
    }
   ],
   "source": [
    "%load_ext autoreload\n",
    "%autoreload 2\n",
    "\n",
    "import numpy as np\n",
    "import pandas as pd\n",
    "from pyfixest.estimation import feols, fepois\n",
    "from pyfixest.summarize import summary, etable\n",
    "from pyfixest.visualize import coefplot, iplot\n",
    "from pyfixest.utils import get_data\n",
    "from pyfixest.multcomp import bonferroni, rwolf"
   ]
  },
  {
   "cell_type": "code",
   "execution_count": 2,
   "metadata": {},
   "outputs": [
    {
     "data": {
      "text/html": [
       "<div>\n",
       "<style scoped>\n",
       "    .dataframe tbody tr th:only-of-type {\n",
       "        vertical-align: middle;\n",
       "    }\n",
       "\n",
       "    .dataframe tbody tr th {\n",
       "        vertical-align: top;\n",
       "    }\n",
       "\n",
       "    .dataframe thead th {\n",
       "        text-align: right;\n",
       "    }\n",
       "</style>\n",
       "<table border=\"1\" class=\"dataframe\">\n",
       "  <thead>\n",
       "    <tr style=\"text-align: right;\">\n",
       "      <th></th>\n",
       "      <th>Y</th>\n",
       "      <th>Y2</th>\n",
       "      <th>X1</th>\n",
       "      <th>X2</th>\n",
       "      <th>f1</th>\n",
       "      <th>f2</th>\n",
       "      <th>f3</th>\n",
       "      <th>group_id</th>\n",
       "      <th>Z1</th>\n",
       "      <th>Z2</th>\n",
       "      <th>weights</th>\n",
       "    </tr>\n",
       "  </thead>\n",
       "  <tbody>\n",
       "    <tr>\n",
       "      <th>0</th>\n",
       "      <td>NaN</td>\n",
       "      <td>2.357103</td>\n",
       "      <td>0.0</td>\n",
       "      <td>0.457858</td>\n",
       "      <td>15.0</td>\n",
       "      <td>0.0</td>\n",
       "      <td>7.0</td>\n",
       "      <td>9.0</td>\n",
       "      <td>-0.330607</td>\n",
       "      <td>1.054826</td>\n",
       "      <td>0.661478</td>\n",
       "    </tr>\n",
       "    <tr>\n",
       "      <th>1</th>\n",
       "      <td>-1.458643</td>\n",
       "      <td>5.163147</td>\n",
       "      <td>NaN</td>\n",
       "      <td>-4.998406</td>\n",
       "      <td>6.0</td>\n",
       "      <td>21.0</td>\n",
       "      <td>4.0</td>\n",
       "      <td>8.0</td>\n",
       "      <td>NaN</td>\n",
       "      <td>-4.113690</td>\n",
       "      <td>0.772732</td>\n",
       "    </tr>\n",
       "    <tr>\n",
       "      <th>2</th>\n",
       "      <td>0.169132</td>\n",
       "      <td>0.751140</td>\n",
       "      <td>2.0</td>\n",
       "      <td>1.558480</td>\n",
       "      <td>NaN</td>\n",
       "      <td>1.0</td>\n",
       "      <td>7.0</td>\n",
       "      <td>16.0</td>\n",
       "      <td>1.207778</td>\n",
       "      <td>0.465282</td>\n",
       "      <td>0.990929</td>\n",
       "    </tr>\n",
       "    <tr>\n",
       "      <th>3</th>\n",
       "      <td>3.319513</td>\n",
       "      <td>-2.656368</td>\n",
       "      <td>1.0</td>\n",
       "      <td>1.560402</td>\n",
       "      <td>1.0</td>\n",
       "      <td>10.0</td>\n",
       "      <td>11.0</td>\n",
       "      <td>3.0</td>\n",
       "      <td>2.869997</td>\n",
       "      <td>0.467570</td>\n",
       "      <td>0.021123</td>\n",
       "    </tr>\n",
       "    <tr>\n",
       "      <th>4</th>\n",
       "      <td>0.134420</td>\n",
       "      <td>-1.866416</td>\n",
       "      <td>2.0</td>\n",
       "      <td>-3.472232</td>\n",
       "      <td>19.0</td>\n",
       "      <td>20.0</td>\n",
       "      <td>6.0</td>\n",
       "      <td>14.0</td>\n",
       "      <td>0.835819</td>\n",
       "      <td>-3.115669</td>\n",
       "      <td>0.790815</td>\n",
       "    </tr>\n",
       "  </tbody>\n",
       "</table>\n",
       "</div>"
      ],
      "text/plain": [
       "          Y        Y2   X1        X2    f1    f2    f3  group_id        Z1  \\\n",
       "0       NaN  2.357103  0.0  0.457858  15.0   0.0   7.0       9.0 -0.330607   \n",
       "1 -1.458643  5.163147  NaN -4.998406   6.0  21.0   4.0       8.0       NaN   \n",
       "2  0.169132  0.751140  2.0  1.558480   NaN   1.0   7.0      16.0  1.207778   \n",
       "3  3.319513 -2.656368  1.0  1.560402   1.0  10.0  11.0       3.0  2.869997   \n",
       "4  0.134420 -1.866416  2.0 -3.472232  19.0  20.0   6.0      14.0  0.835819   \n",
       "\n",
       "         Z2   weights  \n",
       "0  1.054826  0.661478  \n",
       "1 -4.113690  0.772732  \n",
       "2  0.465282  0.990929  \n",
       "3  0.467570  0.021123  \n",
       "4 -3.115669  0.790815  "
      ]
     },
     "execution_count": 2,
     "metadata": {},
     "output_type": "execute_result"
    }
   ],
   "source": [
    "data = get_data()\n",
    "data.head()"
   ]
  },
  {
   "cell_type": "markdown",
   "metadata": {},
   "source": [
    "## OLS Estimation"
   ]
  },
  {
   "cell_type": "markdown",
   "metadata": {},
   "source": [
    "We can estimate a fixed effects regression via the `feols()` function. `feols()` has three arguments: a two-sided model formula, the data, and optionally, the type of inference."
   ]
  },
  {
   "cell_type": "code",
   "execution_count": 3,
   "metadata": {},
   "outputs": [
    {
     "data": {
      "text/plain": [
       "pyfixest.estimation.feols_.Feols"
      ]
     },
     "execution_count": 3,
     "metadata": {},
     "output_type": "execute_result"
    }
   ],
   "source": [
    "fit = feols(fml=\"Y~X1 | f1\", data=data, vcov=\"HC1\")\n",
    "type(fit)"
   ]
  },
  {
   "cell_type": "markdown",
   "metadata": {},
   "source": [
    "The first part of the formula contains the dependent variable and \"regular\" covariates, while the second part contains fixed effects.\n",
    "\n",
    "`feols()` returns an instance of the `Fixest` class."
   ]
  },
  {
   "cell_type": "markdown",
   "metadata": {},
   "source": [
    "To inspect the results, we can use a summary function or method:"
   ]
  },
  {
   "cell_type": "code",
   "execution_count": 4,
   "metadata": {},
   "outputs": [
    {
     "name": "stdout",
     "output_type": "stream",
     "text": [
      "###\n",
      "\n",
      "Estimation:  OLS\n",
      "Dep. var.: Y, Fixed effects: f1\n",
      "Inference:  HC1\n",
      "Observations:  997\n",
      "\n",
      "| Coefficient   |   Estimate |   Std. Error |   t value |   Pr(>|t|) |   2.5% |   97.5% |\n",
      "|:--------------|-----------:|-------------:|----------:|-----------:|-------:|--------:|\n",
      "| X1            |     -0.949 |        0.066 |   -14.311 |      0.000 | -1.080 |  -0.819 |\n",
      "---\n",
      "RMSE: 1.73   R2: 0.437   R2 Within: 0.161\n"
     ]
    }
   ],
   "source": [
    "fit.summary()"
   ]
  },
  {
   "cell_type": "markdown",
   "metadata": {},
   "source": [
    "Alternatively, the `.summarize` module contains a `summary` function, which can be applied on instances of regression model objects \n",
    "or lists of regression model objects. "
   ]
  },
  {
   "cell_type": "code",
   "execution_count": 5,
   "metadata": {},
   "outputs": [
    {
     "name": "stdout",
     "output_type": "stream",
     "text": [
      "###\n",
      "\n",
      "Estimation:  OLS\n",
      "Dep. var.: Y, Fixed effects: f1\n",
      "Inference:  HC1\n",
      "Observations:  997\n",
      "\n",
      "| Coefficient   |   Estimate |   Std. Error |   t value |   Pr(>|t|) |   2.5% |   97.5% |\n",
      "|:--------------|-----------:|-------------:|----------:|-----------:|-------:|--------:|\n",
      "| X1            |     -0.949 |        0.066 |   -14.311 |      0.000 | -1.080 |  -0.819 |\n",
      "---\n",
      "RMSE: 1.73   R2: 0.437   R2 Within: 0.161\n"
     ]
    },
    {
     "name": "stderr",
     "output_type": "stream",
     "text": [
      "C:\\Users\\wenzhding\\AppData\\Local\\Temp\\ipykernel_28488\\4178717974.py:1: FutureWarning: 'pyfixest.summarize.summary' is deprecated and will be removed in a future version.\n",
      "Please use 'pyfixest.summary' instead. You may refer the updated documentation at: https://s3alfisc.github.io/pyfixest/quickstart.html\n",
      "  summary(fit)\n"
     ]
    }
   ],
   "source": [
    "summary(fit)"
   ]
  },
  {
   "cell_type": "markdown",
   "metadata": {},
   "source": [
    "You can access individual elements of the summary via dedicated methods: `.tidy()` returns a \"tidy\" `pd.DataFrame`, \n",
    "`.coef()` returns estimated parameters, and `se()` estimated standard errors. Other methods include `pvalue()`, `confint()`\n",
    "and `tstat()`."
   ]
  },
  {
   "cell_type": "code",
   "execution_count": 6,
   "metadata": {},
   "outputs": [
    {
     "data": {
      "text/plain": [
       "Coefficient\n",
       "X1   -0.949441\n",
       "Name: Estimate, dtype: float64"
      ]
     },
     "execution_count": 6,
     "metadata": {},
     "output_type": "execute_result"
    }
   ],
   "source": [
    "fit.coef()"
   ]
  },
  {
   "cell_type": "code",
   "execution_count": 7,
   "metadata": {},
   "outputs": [
    {
     "data": {
      "text/plain": [
       "Coefficient\n",
       "X1    0.066343\n",
       "Name: Std. Error, dtype: float64"
      ]
     },
     "execution_count": 7,
     "metadata": {},
     "output_type": "execute_result"
    }
   ],
   "source": [
    "fit.se()"
   ]
  },
  {
   "cell_type": "markdown",
   "metadata": {},
   "source": [
    "## Standard Errors and Inference"
   ]
  },
  {
   "cell_type": "markdown",
   "metadata": {},
   "source": [
    "Supported covariance types are \"iid\", \"HC1-3\", CRV1 and CRV3 (up to two-way clustering). Inference can be adjusted \"on-the-fly\" via the\n",
    "`.vcov()` method:"
   ]
  },
  {
   "cell_type": "code",
   "execution_count": 8,
   "metadata": {},
   "outputs": [
    {
     "name": "stdout",
     "output_type": "stream",
     "text": [
      "###\n",
      "\n",
      "Estimation:  OLS\n",
      "Dep. var.: Y, Fixed effects: f1\n",
      "Inference:  CRV1\n",
      "Observations:  997\n",
      "\n",
      "| Coefficient   |   Estimate |   Std. Error |   t value |   Pr(>|t|) |   2.5% |   97.5% |\n",
      "|:--------------|-----------:|-------------:|----------:|-----------:|-------:|--------:|\n",
      "| X1            |     -0.949 |        0.088 |   -10.839 |      0.000 | -1.133 |  -0.765 |\n",
      "---\n",
      "RMSE: 1.73   R2: 0.437   R2 Within: 0.161\n",
      "###\n",
      "\n",
      "Estimation:  OLS\n",
      "Dep. var.: Y, Fixed effects: f1\n",
      "Inference:  CRV3\n",
      "Observations:  997\n",
      "\n",
      "| Coefficient   |   Estimate |   Std. Error |   t value |   Pr(>|t|) |   2.5% |   97.5% |\n",
      "|:--------------|-----------:|-------------:|----------:|-----------:|-------:|--------:|\n",
      "| X1            |     -0.949 |        0.095 |   -10.005 |      0.000 | -1.149 |  -0.750 |\n",
      "---\n",
      "RMSE: 1.73   R2: 0.437   R2 Within: 0.161\n"
     ]
    }
   ],
   "source": [
    "fit.vcov({\"CRV1\": \"group_id + f1\"}).summary()\n",
    "fit.vcov({\"CRV3\": \"group_id\"}).summary()"
   ]
  },
  {
   "cell_type": "markdown",
   "metadata": {},
   "source": [
    "It is also possible to run a wild (cluster) bootstrap after estimation (via the [wildboottest module](https://github.com/s3alfisc/wildboottest)):"
   ]
  },
  {
   "cell_type": "code",
   "execution_count": 9,
   "metadata": {},
   "outputs": [
    {
     "data": {
      "text/plain": [
       "param                            X1\n",
       "t value                   -8.567587\n",
       "Pr(>|t|)                        0.0\n",
       "bootstrap_type                   11\n",
       "inference         CRV(['group_id'])\n",
       "impose_null                    True\n",
       "dtype: object"
      ]
     },
     "execution_count": 9,
     "metadata": {},
     "output_type": "execute_result"
    }
   ],
   "source": [
    "fit2 = feols(fml=\"Y~ X1\", data=data, vcov={\"CRV1\": \"group_id\"})\n",
    "fit2.wildboottest(param=\"X1\", B=999)"
   ]
  },
  {
   "cell_type": "markdown",
   "metadata": {},
   "source": [
    "Additionally, `PyFixest` supports the causal cluster variance estimator following [Abadie et al. (2023)](https://academic.oup.com/qje/article/138/1/1/6750017). "
   ]
  },
  {
   "cell_type": "code",
   "execution_count": 10,
   "metadata": {},
   "outputs": [
    {
     "name": "stderr",
     "output_type": "stream",
     "text": [
      "100%|██████████| 2/2 [00:03<00:00,  1.68s/it]\n"
     ]
    },
    {
     "data": {
      "text/html": [
       "<div>\n",
       "<style scoped>\n",
       "    .dataframe tbody tr th:only-of-type {\n",
       "        vertical-align: middle;\n",
       "    }\n",
       "\n",
       "    .dataframe tbody tr th {\n",
       "        vertical-align: top;\n",
       "    }\n",
       "\n",
       "    .dataframe thead th {\n",
       "        text-align: right;\n",
       "    }\n",
       "</style>\n",
       "<table border=\"1\" class=\"dataframe\">\n",
       "  <thead>\n",
       "    <tr style=\"text-align: right;\">\n",
       "      <th></th>\n",
       "      <th>Estimate</th>\n",
       "      <th>Std. Error</th>\n",
       "      <th>t value</th>\n",
       "      <th>Pr(&gt;|t|)</th>\n",
       "      <th>2.5%</th>\n",
       "      <th>97.5%</th>\n",
       "    </tr>\n",
       "  </thead>\n",
       "  <tbody>\n",
       "    <tr>\n",
       "      <th>CCV</th>\n",
       "      <td>0.465643</td>\n",
       "      <td>0.003480</td>\n",
       "      <td>133.820078</td>\n",
       "      <td>0.0</td>\n",
       "      <td>0.458657</td>\n",
       "      <td>0.472628</td>\n",
       "    </tr>\n",
       "    <tr>\n",
       "      <th>CRV1</th>\n",
       "      <td>0.465643</td>\n",
       "      <td>0.027142</td>\n",
       "      <td>17.155606</td>\n",
       "      <td>0.0</td>\n",
       "      <td>0.411152</td>\n",
       "      <td>0.520133</td>\n",
       "    </tr>\n",
       "  </tbody>\n",
       "</table>\n",
       "</div>"
      ],
      "text/plain": [
       "      Estimate  Std. Error     t value  Pr(>|t|)      2.5%     97.5%\n",
       "CCV   0.465643    0.003480  133.820078       0.0  0.458657  0.472628\n",
       "CRV1  0.465643    0.027142   17.155606       0.0  0.411152  0.520133"
      ]
     },
     "execution_count": 10,
     "metadata": {},
     "output_type": "execute_result"
    }
   ],
   "source": [
    "# df = pd.read_stata(\"C:/Users/alexa/Downloads/census2000_5pc.dta\")\n",
    "df = pd.read_stata(r\"C:\\Users\\wenzhding\\Dropbox\\工作文档\\census2000_5pc.dta\")\n",
    "fit3 = feols(\"ln_earnings ~ college\", vcov={\"CRV1\": \"state\"}, data=df)\n",
    "fit3.ccv(treatment=\"college\", pk=0.05, n_splits=2, seed=929)"
   ]
  },
  {
   "cell_type": "markdown",
   "metadata": {},
   "source": [
    "To correct for multiple testing, p-values can be adjusted via either the Bonferroni or the method by Romano and Wolf (2005)."
   ]
  },
  {
   "cell_type": "code",
   "execution_count": 11,
   "metadata": {},
   "outputs": [
    {
     "name": "stderr",
     "output_type": "stream",
     "text": [
      "C:\\Users\\wenzhding\\AppData\\Local\\Temp\\ipykernel_28488\\3721970600.py:3: FutureWarning: 'pyfixest.multcomp.bonferroni' is deprecated and will be removed in a future version.\n",
      "Please use 'pyfixest.bonferroni' instead. You may refer the updated documentation at: https://s3alfisc.github.io/pyfixest/quickstart.html\n",
      "  bonferroni([fit, fit2], param=\"X1\").round(3)\n"
     ]
    },
    {
     "data": {
      "text/html": [
       "<div>\n",
       "<style scoped>\n",
       "    .dataframe tbody tr th:only-of-type {\n",
       "        vertical-align: middle;\n",
       "    }\n",
       "\n",
       "    .dataframe tbody tr th {\n",
       "        vertical-align: top;\n",
       "    }\n",
       "\n",
       "    .dataframe thead th {\n",
       "        text-align: right;\n",
       "    }\n",
       "</style>\n",
       "<table border=\"1\" class=\"dataframe\">\n",
       "  <thead>\n",
       "    <tr style=\"text-align: right;\">\n",
       "      <th></th>\n",
       "      <th>est0</th>\n",
       "      <th>est1</th>\n",
       "    </tr>\n",
       "  </thead>\n",
       "  <tbody>\n",
       "    <tr>\n",
       "      <th>Estimate</th>\n",
       "      <td>-0.949</td>\n",
       "      <td>-1.000</td>\n",
       "    </tr>\n",
       "    <tr>\n",
       "      <th>Std. Error</th>\n",
       "      <td>0.095</td>\n",
       "      <td>0.117</td>\n",
       "    </tr>\n",
       "    <tr>\n",
       "      <th>t value</th>\n",
       "      <td>-10.005</td>\n",
       "      <td>-8.568</td>\n",
       "    </tr>\n",
       "    <tr>\n",
       "      <th>Pr(&gt;|t|)</th>\n",
       "      <td>0.000</td>\n",
       "      <td>0.000</td>\n",
       "    </tr>\n",
       "    <tr>\n",
       "      <th>2.5%</th>\n",
       "      <td>-1.149</td>\n",
       "      <td>-1.245</td>\n",
       "    </tr>\n",
       "    <tr>\n",
       "      <th>97.5%</th>\n",
       "      <td>-0.750</td>\n",
       "      <td>-0.755</td>\n",
       "    </tr>\n",
       "    <tr>\n",
       "      <th>Bonferroni Pr(&gt;|t|)</th>\n",
       "      <td>0.000</td>\n",
       "      <td>0.000</td>\n",
       "    </tr>\n",
       "  </tbody>\n",
       "</table>\n",
       "</div>"
      ],
      "text/plain": [
       "                       est0   est1\n",
       "Estimate             -0.949 -1.000\n",
       "Std. Error            0.095  0.117\n",
       "t value             -10.005 -8.568\n",
       "Pr(>|t|)              0.000  0.000\n",
       "2.5%                 -1.149 -1.245\n",
       "97.5%                -0.750 -0.755\n",
       "Bonferroni Pr(>|t|)   0.000  0.000"
      ]
     },
     "execution_count": 11,
     "metadata": {},
     "output_type": "execute_result"
    }
   ],
   "source": [
    "from pyfixest.multcomp import bonferroni, rwolf\n",
    "\n",
    "bonferroni([fit, fit2], param=\"X1\").round(3)"
   ]
  },
  {
   "cell_type": "code",
   "execution_count": 12,
   "metadata": {},
   "outputs": [
    {
     "name": "stderr",
     "output_type": "stream",
     "text": [
      "C:\\Users\\wenzhding\\AppData\\Local\\Temp\\ipykernel_28488\\3657077831.py:1: FutureWarning: 'pyfixest.multcomp.rwolf' is deprecated and will be removed in a future version.\n",
      "Please use 'pyfixest.rwolf' instead. You may refer the updated documentation at: https://s3alfisc.github.io/pyfixest/quickstart.html\n",
      "  rwolf([fit, fit2], param=\"X1\", B=9999, seed=1234).round(3)\n",
      "100%|██████████| 2/2 [00:00<00:00,  5.26it/s]\n"
     ]
    },
    {
     "data": {
      "text/html": [
       "<div>\n",
       "<style scoped>\n",
       "    .dataframe tbody tr th:only-of-type {\n",
       "        vertical-align: middle;\n",
       "    }\n",
       "\n",
       "    .dataframe tbody tr th {\n",
       "        vertical-align: top;\n",
       "    }\n",
       "\n",
       "    .dataframe thead th {\n",
       "        text-align: right;\n",
       "    }\n",
       "</style>\n",
       "<table border=\"1\" class=\"dataframe\">\n",
       "  <thead>\n",
       "    <tr style=\"text-align: right;\">\n",
       "      <th></th>\n",
       "      <th>est0</th>\n",
       "      <th>est1</th>\n",
       "    </tr>\n",
       "  </thead>\n",
       "  <tbody>\n",
       "    <tr>\n",
       "      <th>Estimate</th>\n",
       "      <td>-0.949</td>\n",
       "      <td>-1.000</td>\n",
       "    </tr>\n",
       "    <tr>\n",
       "      <th>Std. Error</th>\n",
       "      <td>0.095</td>\n",
       "      <td>0.117</td>\n",
       "    </tr>\n",
       "    <tr>\n",
       "      <th>t value</th>\n",
       "      <td>-10.005</td>\n",
       "      <td>-8.568</td>\n",
       "    </tr>\n",
       "    <tr>\n",
       "      <th>Pr(&gt;|t|)</th>\n",
       "      <td>0.000</td>\n",
       "      <td>0.000</td>\n",
       "    </tr>\n",
       "    <tr>\n",
       "      <th>2.5%</th>\n",
       "      <td>-1.149</td>\n",
       "      <td>-1.245</td>\n",
       "    </tr>\n",
       "    <tr>\n",
       "      <th>97.5%</th>\n",
       "      <td>-0.750</td>\n",
       "      <td>-0.755</td>\n",
       "    </tr>\n",
       "    <tr>\n",
       "      <th>RW Pr(&gt;|t|)</th>\n",
       "      <td>0.000</td>\n",
       "      <td>0.000</td>\n",
       "    </tr>\n",
       "  </tbody>\n",
       "</table>\n",
       "</div>"
      ],
      "text/plain": [
       "               est0   est1\n",
       "Estimate     -0.949 -1.000\n",
       "Std. Error    0.095  0.117\n",
       "t value     -10.005 -8.568\n",
       "Pr(>|t|)      0.000  0.000\n",
       "2.5%         -1.149 -1.245\n",
       "97.5%        -0.750 -0.755\n",
       "RW Pr(>|t|)   0.000  0.000"
      ]
     },
     "execution_count": 12,
     "metadata": {},
     "output_type": "execute_result"
    }
   ],
   "source": [
    "rwolf([fit, fit2], param=\"X1\", B=9999, seed=1234).round(3)"
   ]
  },
  {
   "cell_type": "markdown",
   "metadata": {},
   "source": [
    "## IV Estimation \n",
    "\n",
    "It is also possible to estimate instrumental variable models with *one* endogenous variable and (potentially multiple) instruments:"
   ]
  },
  {
   "cell_type": "code",
   "execution_count": 13,
   "metadata": {},
   "outputs": [
    {
     "name": "stdout",
     "output_type": "stream",
     "text": [
      "###\n",
      "\n",
      "Estimation:  IV\n",
      "Dep. var.: Y2, Fixed effects: f1+f2\n",
      "Inference:  CRV1\n",
      "Observations:  998\n",
      "\n",
      "| Coefficient   |   Estimate |   Std. Error |   t value |   Pr(>|t|) |   2.5% |   97.5% |\n",
      "|:--------------|-----------:|-------------:|----------:|-----------:|-------:|--------:|\n",
      "| X1            |     -1.600 |        0.333 |    -4.801 |      0.000 | -2.282 |  -0.919 |\n",
      "---\n"
     ]
    }
   ],
   "source": [
    "iv_fit = feols(fml=\"Y2~ 1 | f1 + f2 | X1 ~ Z1 + Z2\", data=data)\n",
    "iv_fit.summary()"
   ]
  },
  {
   "cell_type": "markdown",
   "metadata": {},
   "source": [
    "If the model does not contain any fixed effects, just drop the second part of the formula above:"
   ]
  },
  {
   "cell_type": "code",
   "execution_count": 14,
   "metadata": {},
   "outputs": [
    {
     "name": "stdout",
     "output_type": "stream",
     "text": [
      "###\n",
      "\n",
      "Estimation:  IV\n",
      "Dep. var.: Y\n",
      "Inference:  iid\n",
      "Observations:  998\n",
      "\n",
      "| Coefficient   |   Estimate |   Std. Error |   t value |   Pr(>|t|) |   2.5% |   97.5% |\n",
      "|:--------------|-----------:|-------------:|----------:|-----------:|-------:|--------:|\n",
      "| Intercept     |      0.911 |        0.156 |     5.843 |      0.000 |  0.605 |   1.217 |\n",
      "| X1            |     -0.993 |        0.134 |    -7.398 |      0.000 | -1.256 |  -0.730 |\n",
      "---\n"
     ]
    }
   ],
   "source": [
    "feols(fml=\"Y~ 1 | X1 ~ Z1 + Z2\", data=data).summary()"
   ]
  },
  {
   "cell_type": "markdown",
   "metadata": {},
   "source": [
    "IV estimation with multiple endogenous variables and multiple estimation syntax is currently not supported. The syntax is \"depvar ~ exog.vars | fixef effects | endog.vars ~ instruments\"."
   ]
  },
  {
   "cell_type": "markdown",
   "metadata": {},
   "source": [
    "## Poisson Regression \n",
    "\n",
    "With version `0.8.4`, it is possible to estimate Poisson Regressions (not yet on PyPi): "
   ]
  },
  {
   "cell_type": "code",
   "execution_count": 15,
   "metadata": {},
   "outputs": [
    {
     "name": "stdout",
     "output_type": "stream",
     "text": [
      "###\n",
      "\n",
      "Estimation:  Poisson\n",
      "Dep. var.: Y, Fixed effects: f1+f2\n",
      "Inference:  CRV1\n",
      "Observations:  997\n",
      "\n",
      "| Coefficient   |   Estimate |   Std. Error |   t value |   Pr(>|t|) |   2.5% |   97.5% |\n",
      "|:--------------|-----------:|-------------:|----------:|-----------:|-------:|--------:|\n",
      "| X1            |     -0.007 |        0.031 |    -0.237 |      0.813 | -0.069 |   0.054 |\n",
      "---\n",
      "Deviance: 1070.729\n"
     ]
    }
   ],
   "source": [
    "from pyfixest.utils import get_data\n",
    "\n",
    "pois_data = get_data(model=\"Fepois\")\n",
    "pois_fit = fepois(fml=\"Y~X1 | f1+f2\", data=pois_data, vcov={\"CRV1\": \"group_id\"})\n",
    "pois_fit.summary()"
   ]
  },
  {
   "cell_type": "markdown",
   "metadata": {},
   "source": [
    "## Multiple Estimation \n",
    "\n",
    "`PyFixest` supports a range of multiple estimation functionality: `sw`, `sw0`, `csw`, `csw0`, and multiple dependent variables. If multiple regression syntax is used, \n",
    "`feols()` and `fepois` returns an instance of a `FixestMulti` object, which essentially consists of a dicionary of `Fepois` or [Feols(/reference/Feols.qmd) instances."
   ]
  },
  {
   "cell_type": "code",
   "execution_count": 16,
   "metadata": {},
   "outputs": [
    {
     "data": {
      "text/plain": [
       "<pyfixest.estimation.FixestMulti.FixestMulti at 0x1d3c3a3c710>"
      ]
     },
     "execution_count": 16,
     "metadata": {},
     "output_type": "execute_result"
    }
   ],
   "source": [
    "multi_fit = feols(fml=\"Y~X1 | csw0(f1, f2)\", data=data, vcov=\"HC1\")\n",
    "multi_fit"
   ]
  },
  {
   "cell_type": "code",
   "execution_count": 17,
   "metadata": {},
   "outputs": [
    {
     "name": "stdout",
     "output_type": "stream",
     "text": [
      "###\n",
      "\n",
      "Estimation:  OLS\n",
      "Dep. var.: Y\n",
      "Inference:  HC1\n",
      "Observations:  998\n",
      "\n",
      "| Coefficient   |   Estimate |   Std. Error |   t value |   Pr(>|t|) |   2.5% |   97.5% |\n",
      "|:--------------|-----------:|-------------:|----------:|-----------:|-------:|--------:|\n",
      "| Intercept     |      0.919 |        0.112 |     8.223 |      0.000 |  0.699 |   1.138 |\n",
      "| X1            |     -1.000 |        0.082 |   -12.134 |      0.000 | -1.162 |  -0.838 |\n",
      "---\n",
      "RMSE: 2.158   R2: 0.123\n",
      "###\n",
      "\n",
      "Estimation:  OLS\n",
      "Dep. var.: Y, Fixed effects: f1\n",
      "Inference:  HC1\n",
      "Observations:  997\n",
      "\n",
      "| Coefficient   |   Estimate |   Std. Error |   t value |   Pr(>|t|) |   2.5% |   97.5% |\n",
      "|:--------------|-----------:|-------------:|----------:|-----------:|-------:|--------:|\n",
      "| X1            |     -0.949 |        0.066 |   -14.311 |      0.000 | -1.080 |  -0.819 |\n",
      "---\n",
      "RMSE: 1.73   R2: 0.437   R2 Within: 0.161\n",
      "###\n",
      "\n",
      "Estimation:  OLS\n",
      "Dep. var.: Y, Fixed effects: f1+f2\n",
      "Inference:  HC1\n",
      "Observations:  997\n",
      "\n",
      "| Coefficient   |   Estimate |   Std. Error |   t value |   Pr(>|t|) |   2.5% |   97.5% |\n",
      "|:--------------|-----------:|-------------:|----------:|-----------:|-------:|--------:|\n",
      "| X1            |     -0.919 |        0.058 |   -15.918 |      0.000 | -1.033 |  -0.806 |\n",
      "---\n",
      "RMSE: 1.441   R2: 0.609   R2 Within: 0.2\n"
     ]
    }
   ],
   "source": [
    "multi_fit.summary()"
   ]
  },
  {
   "cell_type": "markdown",
   "metadata": {},
   "source": [
    "Alternatively, you can look at the estimation results via the `etable()` method:"
   ]
  },
  {
   "cell_type": "code",
   "execution_count": 18,
   "metadata": {},
   "outputs": [
    {
     "data": {
      "text/html": [
       "<div>\n",
       "<style scoped>\n",
       "    .dataframe tbody tr th:only-of-type {\n",
       "        vertical-align: middle;\n",
       "    }\n",
       "\n",
       "    .dataframe tbody tr th {\n",
       "        vertical-align: top;\n",
       "    }\n",
       "\n",
       "    .dataframe thead tr th {\n",
       "        text-align: left;\n",
       "    }\n",
       "</style>\n",
       "<table border=\"1\" class=\"dataframe\">\n",
       "  <thead>\n",
       "    <tr>\n",
       "      <th>fml</th>\n",
       "      <th colspan=\"2\" halign=\"left\">Y~X1</th>\n",
       "      <th>Y~X1|f1</th>\n",
       "      <th>Y~X1|f1+f2</th>\n",
       "    </tr>\n",
       "    <tr>\n",
       "      <th>Coefficient</th>\n",
       "      <th>Intercept</th>\n",
       "      <th>X1</th>\n",
       "      <th>X1</th>\n",
       "      <th>X1</th>\n",
       "    </tr>\n",
       "  </thead>\n",
       "  <tbody>\n",
       "    <tr>\n",
       "      <th>Estimate</th>\n",
       "      <td>0.919</td>\n",
       "      <td>-1.000</td>\n",
       "      <td>-0.949</td>\n",
       "      <td>-0.919</td>\n",
       "    </tr>\n",
       "    <tr>\n",
       "      <th>Std. Error</th>\n",
       "      <td>0.112</td>\n",
       "      <td>0.082</td>\n",
       "      <td>0.066</td>\n",
       "      <td>0.058</td>\n",
       "    </tr>\n",
       "    <tr>\n",
       "      <th>t value</th>\n",
       "      <td>8.223</td>\n",
       "      <td>-12.134</td>\n",
       "      <td>-14.311</td>\n",
       "      <td>-15.918</td>\n",
       "    </tr>\n",
       "    <tr>\n",
       "      <th>Pr(&gt;|t|)</th>\n",
       "      <td>0.000</td>\n",
       "      <td>0.000</td>\n",
       "      <td>0.000</td>\n",
       "      <td>0.000</td>\n",
       "    </tr>\n",
       "    <tr>\n",
       "      <th>2.5%</th>\n",
       "      <td>0.699</td>\n",
       "      <td>-1.162</td>\n",
       "      <td>-1.080</td>\n",
       "      <td>-1.033</td>\n",
       "    </tr>\n",
       "    <tr>\n",
       "      <th>97.5%</th>\n",
       "      <td>1.138</td>\n",
       "      <td>-0.838</td>\n",
       "      <td>-0.819</td>\n",
       "      <td>-0.806</td>\n",
       "    </tr>\n",
       "  </tbody>\n",
       "</table>\n",
       "</div>"
      ],
      "text/plain": [
       "fml              Y~X1         Y~X1|f1 Y~X1|f1+f2\n",
       "Coefficient Intercept      X1      X1         X1\n",
       "Estimate        0.919  -1.000  -0.949     -0.919\n",
       "Std. Error      0.112   0.082   0.066      0.058\n",
       "t value         8.223 -12.134 -14.311    -15.918\n",
       "Pr(>|t|)        0.000   0.000   0.000      0.000\n",
       "2.5%            0.699  -1.162  -1.080     -1.033\n",
       "97.5%           1.138  -0.838  -0.819     -0.806"
      ]
     },
     "execution_count": 18,
     "metadata": {},
     "output_type": "execute_result"
    }
   ],
   "source": [
    "multi_fit.etable()"
   ]
  },
  {
   "cell_type": "markdown",
   "metadata": {},
   "source": [
    "If you are only insterested in some parameters, e.g. \"X1\", you can use the following syntax:"
   ]
  },
  {
   "cell_type": "code",
   "execution_count": 19,
   "metadata": {},
   "outputs": [
    {
     "data": {
      "text/html": [
       "<div>\n",
       "<style scoped>\n",
       "    .dataframe tbody tr th:only-of-type {\n",
       "        vertical-align: middle;\n",
       "    }\n",
       "\n",
       "    .dataframe tbody tr th {\n",
       "        vertical-align: top;\n",
       "    }\n",
       "\n",
       "    .dataframe thead th {\n",
       "        text-align: right;\n",
       "    }\n",
       "</style>\n",
       "<table border=\"1\" class=\"dataframe\">\n",
       "  <thead>\n",
       "    <tr style=\"text-align: right;\">\n",
       "      <th>fml</th>\n",
       "      <th>Y~X1</th>\n",
       "      <th>Y~X1|f1</th>\n",
       "      <th>Y~X1|f1+f2</th>\n",
       "    </tr>\n",
       "  </thead>\n",
       "  <tbody>\n",
       "    <tr>\n",
       "      <th>Estimate</th>\n",
       "      <td>-1.000</td>\n",
       "      <td>-0.949</td>\n",
       "      <td>-0.919</td>\n",
       "    </tr>\n",
       "    <tr>\n",
       "      <th>Std. Error</th>\n",
       "      <td>0.082</td>\n",
       "      <td>0.066</td>\n",
       "      <td>0.058</td>\n",
       "    </tr>\n",
       "    <tr>\n",
       "      <th>t value</th>\n",
       "      <td>-12.134</td>\n",
       "      <td>-14.311</td>\n",
       "      <td>-15.918</td>\n",
       "    </tr>\n",
       "    <tr>\n",
       "      <th>Pr(&gt;|t|)</th>\n",
       "      <td>0.000</td>\n",
       "      <td>0.000</td>\n",
       "      <td>0.000</td>\n",
       "    </tr>\n",
       "    <tr>\n",
       "      <th>2.5%</th>\n",
       "      <td>-1.162</td>\n",
       "      <td>-1.080</td>\n",
       "      <td>-1.033</td>\n",
       "    </tr>\n",
       "    <tr>\n",
       "      <th>97.5%</th>\n",
       "      <td>-0.838</td>\n",
       "      <td>-0.819</td>\n",
       "      <td>-0.806</td>\n",
       "    </tr>\n",
       "  </tbody>\n",
       "</table>\n",
       "</div>"
      ],
      "text/plain": [
       "fml           Y~X1  Y~X1|f1  Y~X1|f1+f2\n",
       "Estimate    -1.000   -0.949      -0.919\n",
       "Std. Error   0.082    0.066       0.058\n",
       "t value    -12.134  -14.311     -15.918\n",
       "Pr(>|t|)     0.000    0.000       0.000\n",
       "2.5%        -1.162   -1.080      -1.033\n",
       "97.5%       -0.838   -0.819      -0.806"
      ]
     },
     "execution_count": 19,
     "metadata": {},
     "output_type": "execute_result"
    }
   ],
   "source": [
    "multi_fit.etable().xs(\"X1\", level=1, axis=1)"
   ]
  },
  {
   "cell_type": "markdown",
   "metadata": {},
   "source": [
    "You can access an individual model by its name - i.e. a formula - via the `all_fitted_models` attribure."
   ]
  },
  {
   "cell_type": "code",
   "execution_count": 20,
   "metadata": {},
   "outputs": [
    {
     "data": {
      "text/html": [
       "<div>\n",
       "<style scoped>\n",
       "    .dataframe tbody tr th:only-of-type {\n",
       "        vertical-align: middle;\n",
       "    }\n",
       "\n",
       "    .dataframe tbody tr th {\n",
       "        vertical-align: top;\n",
       "    }\n",
       "\n",
       "    .dataframe thead th {\n",
       "        text-align: right;\n",
       "    }\n",
       "</style>\n",
       "<table border=\"1\" class=\"dataframe\">\n",
       "  <thead>\n",
       "    <tr style=\"text-align: right;\">\n",
       "      <th></th>\n",
       "      <th>Estimate</th>\n",
       "      <th>Std. Error</th>\n",
       "      <th>t value</th>\n",
       "      <th>Pr(&gt;|t|)</th>\n",
       "      <th>2.5%</th>\n",
       "      <th>97.5%</th>\n",
       "    </tr>\n",
       "    <tr>\n",
       "      <th>Coefficient</th>\n",
       "      <th></th>\n",
       "      <th></th>\n",
       "      <th></th>\n",
       "      <th></th>\n",
       "      <th></th>\n",
       "      <th></th>\n",
       "    </tr>\n",
       "  </thead>\n",
       "  <tbody>\n",
       "    <tr>\n",
       "      <th>Intercept</th>\n",
       "      <td>0.918518</td>\n",
       "      <td>0.111707</td>\n",
       "      <td>8.222580</td>\n",
       "      <td>6.661338e-16</td>\n",
       "      <td>0.699310</td>\n",
       "      <td>1.137725</td>\n",
       "    </tr>\n",
       "    <tr>\n",
       "      <th>X1</th>\n",
       "      <td>-1.000086</td>\n",
       "      <td>0.082420</td>\n",
       "      <td>-12.134086</td>\n",
       "      <td>0.000000e+00</td>\n",
       "      <td>-1.161822</td>\n",
       "      <td>-0.838350</td>\n",
       "    </tr>\n",
       "  </tbody>\n",
       "</table>\n",
       "</div>"
      ],
      "text/plain": [
       "             Estimate  Std. Error    t value      Pr(>|t|)      2.5%     97.5%\n",
       "Coefficient                                                                   \n",
       "Intercept    0.918518    0.111707   8.222580  6.661338e-16  0.699310  1.137725\n",
       "X1          -1.000086    0.082420 -12.134086  0.000000e+00 -1.161822 -0.838350"
      ]
     },
     "execution_count": 20,
     "metadata": {},
     "output_type": "execute_result"
    }
   ],
   "source": [
    "multi_fit.all_fitted_models[\"Y~X1\"].tidy()"
   ]
  },
  {
   "cell_type": "markdown",
   "metadata": {},
   "source": [
    "or equivalently via the `fetch_model` method:"
   ]
  },
  {
   "cell_type": "code",
   "execution_count": 21,
   "metadata": {},
   "outputs": [
    {
     "name": "stdout",
     "output_type": "stream",
     "text": [
      "Model:  Y~X1\n"
     ]
    },
    {
     "data": {
      "text/html": [
       "<div>\n",
       "<style scoped>\n",
       "    .dataframe tbody tr th:only-of-type {\n",
       "        vertical-align: middle;\n",
       "    }\n",
       "\n",
       "    .dataframe tbody tr th {\n",
       "        vertical-align: top;\n",
       "    }\n",
       "\n",
       "    .dataframe thead th {\n",
       "        text-align: right;\n",
       "    }\n",
       "</style>\n",
       "<table border=\"1\" class=\"dataframe\">\n",
       "  <thead>\n",
       "    <tr style=\"text-align: right;\">\n",
       "      <th></th>\n",
       "      <th>Estimate</th>\n",
       "      <th>Std. Error</th>\n",
       "      <th>t value</th>\n",
       "      <th>Pr(&gt;|t|)</th>\n",
       "      <th>2.5%</th>\n",
       "      <th>97.5%</th>\n",
       "    </tr>\n",
       "    <tr>\n",
       "      <th>Coefficient</th>\n",
       "      <th></th>\n",
       "      <th></th>\n",
       "      <th></th>\n",
       "      <th></th>\n",
       "      <th></th>\n",
       "      <th></th>\n",
       "    </tr>\n",
       "  </thead>\n",
       "  <tbody>\n",
       "    <tr>\n",
       "      <th>Intercept</th>\n",
       "      <td>0.918518</td>\n",
       "      <td>0.111707</td>\n",
       "      <td>8.222580</td>\n",
       "      <td>6.661338e-16</td>\n",
       "      <td>0.699310</td>\n",
       "      <td>1.137725</td>\n",
       "    </tr>\n",
       "    <tr>\n",
       "      <th>X1</th>\n",
       "      <td>-1.000086</td>\n",
       "      <td>0.082420</td>\n",
       "      <td>-12.134086</td>\n",
       "      <td>0.000000e+00</td>\n",
       "      <td>-1.161822</td>\n",
       "      <td>-0.838350</td>\n",
       "    </tr>\n",
       "  </tbody>\n",
       "</table>\n",
       "</div>"
      ],
      "text/plain": [
       "             Estimate  Std. Error    t value      Pr(>|t|)      2.5%     97.5%\n",
       "Coefficient                                                                   \n",
       "Intercept    0.918518    0.111707   8.222580  6.661338e-16  0.699310  1.137725\n",
       "X1          -1.000086    0.082420 -12.134086  0.000000e+00 -1.161822 -0.838350"
      ]
     },
     "execution_count": 21,
     "metadata": {},
     "output_type": "execute_result"
    }
   ],
   "source": [
    "multi_fit.fetch_model(0).tidy()"
   ]
  },
  {
   "cell_type": "markdown",
   "metadata": {},
   "source": [
    "Here, `0` simply fetches the first model stored in the `all_fitted_models` dictionary, `1` the second etc."
   ]
  },
  {
   "cell_type": "markdown",
   "metadata": {},
   "source": [
    "Objects of type `Fixest` come with a range of additional methods: `tidy()`, `coef()`, `vcov()` etc, which \n",
    "essentially loop over the equivalent methods of all fitted models. E.g. `Fixest.vcov()` updates inference for all \n",
    "models stored in `Fixest`."
   ]
  },
  {
   "cell_type": "code",
   "execution_count": 22,
   "metadata": {},
   "outputs": [
    {
     "name": "stdout",
     "output_type": "stream",
     "text": [
      "###\n",
      "\n",
      "Estimation:  OLS\n",
      "Dep. var.: Y\n",
      "Inference:  iid\n",
      "Observations:  998\n",
      "\n",
      "| Coefficient   |   Estimate |   Std. Error |   t value |   Pr(>|t|) |   2.5% |   97.5% |\n",
      "|:--------------|-----------:|-------------:|----------:|-----------:|-------:|--------:|\n",
      "| Intercept     |      0.919 |        0.112 |     8.214 |      0.000 |  0.699 |   1.138 |\n",
      "| X1            |     -1.000 |        0.085 |   -11.802 |      0.000 | -1.166 |  -0.834 |\n",
      "---\n",
      "RMSE: 2.158   R2: 0.123\n",
      "###\n",
      "\n",
      "Estimation:  OLS\n",
      "Dep. var.: Y, Fixed effects: f1\n",
      "Inference:  iid\n",
      "Observations:  997\n",
      "\n",
      "| Coefficient   |   Estimate |   Std. Error |   t value |   Pr(>|t|) |   2.5% |   97.5% |\n",
      "|:--------------|-----------:|-------------:|----------:|-----------:|-------:|--------:|\n",
      "| X1            |     -0.949 |        0.069 |   -13.846 |      0.000 | -1.084 |  -0.815 |\n",
      "---\n",
      "RMSE: 1.73   R2: 0.437   R2 Within: 0.161\n",
      "###\n",
      "\n",
      "Estimation:  OLS\n",
      "Dep. var.: Y, Fixed effects: f1+f2\n",
      "Inference:  iid\n",
      "Observations:  997\n",
      "\n",
      "| Coefficient   |   Estimate |   Std. Error |   t value |   Pr(>|t|) |   2.5% |   97.5% |\n",
      "|:--------------|-----------:|-------------:|----------:|-----------:|-------:|--------:|\n",
      "| X1            |     -0.919 |        0.058 |   -15.797 |      0.000 | -1.033 |  -0.805 |\n",
      "---\n",
      "RMSE: 1.441   R2: 0.609   R2 Within: 0.2\n"
     ]
    }
   ],
   "source": [
    "multi_fit.vcov(\"iid\").summary()"
   ]
  },
  {
   "cell_type": "markdown",
   "metadata": {},
   "source": [
    "If you have estimated multiple models without multiple estimation syntax and still want to compare them, you can use the `etable()` function: "
   ]
  },
  {
   "cell_type": "code",
   "execution_count": 23,
   "metadata": {},
   "outputs": [
    {
     "name": "stdout",
     "output_type": "stream",
     "text": [
      "                           est1               est2\n",
      "------------  -----------------  -----------------\n",
      "depvar                        Y                  Y\n",
      "--------------------------------------------------\n",
      "X1            -0.949*** (0.095)  -1.000*** (0.117)\n",
      "Intercept                         0.919*** (0.121)\n",
      "--------------------------------------------------\n",
      "f1                            x                  -\n",
      "--------------------------------------------------\n",
      "R2                        0.437              0.123\n",
      "S.E. type          by: group_id       by: group_id\n",
      "Observations                997                998\n",
      "--------------------------------------------------\n",
      "Significance levels: * p < 0.05, ** p < 0.01, *** p < 0.001\n",
      "Format of coefficient cell:\n",
      "Coefficient (Std. Error)\n"
     ]
    },
    {
     "name": "stderr",
     "output_type": "stream",
     "text": [
      "C:\\Users\\wenzhding\\AppData\\Local\\Temp\\ipykernel_28488\\3338368806.py:3: FutureWarning: 'pyfixest.summarize.etable' is deprecated and will be removed in a future version.\n",
      "Please use 'pyfixest.etable' instead. You may refer the updated documentation at: https://s3alfisc.github.io/pyfixest/quickstart.html\n",
      "  etable([fit, fit2])\n"
     ]
    }
   ],
   "source": [
    "from pyfixest.summarize import etable\n",
    "\n",
    "etable([fit, fit2])"
   ]
  },
  {
   "cell_type": "markdown",
   "metadata": {},
   "source": [
    "## Visualization \n",
    "\n",
    "`PyFixest` provides two functions to visualize the results of a regression: `coefplot` and `iplot`."
   ]
  },
  {
   "cell_type": "code",
   "execution_count": 24,
   "metadata": {},
   "outputs": [
    {
     "data": {
      "text/html": [
       "\n",
       "            <div id=\"OdwTAv\"></div>\n",
       "            <script type=\"text/javascript\" data-lets-plot-script=\"library\">\n",
       "                if(!window.letsPlotCallQueue) {\n",
       "                    window.letsPlotCallQueue = [];\n",
       "                }; \n",
       "                window.letsPlotCall = function(f) {\n",
       "                    window.letsPlotCallQueue.push(f);\n",
       "                };\n",
       "                (function() {\n",
       "                    var script = document.createElement(\"script\");\n",
       "                    script.type = \"text/javascript\";\n",
       "                    script.src = \"https://cdn.jsdelivr.net/gh/JetBrains/lets-plot@v4.2.0/js-package/distr/lets-plot.min.js\";\n",
       "                    script.onload = function() {\n",
       "                        window.letsPlotCall = function(f) {f();};\n",
       "                        window.letsPlotCallQueue.forEach(function(f) {f();});\n",
       "                        window.letsPlotCallQueue = [];\n",
       "                        \n",
       "                    };\n",
       "                    script.onerror = function(event) {\n",
       "                        window.letsPlotCall = function(f) {};    // noop\n",
       "                        window.letsPlotCallQueue = [];\n",
       "                        var div = document.createElement(\"div\");\n",
       "                        div.style.color = 'darkred';\n",
       "                        div.textContent = 'Error loading Lets-Plot JS';\n",
       "                        document.getElementById(\"OdwTAv\").appendChild(div);\n",
       "                    };\n",
       "                    var e = document.getElementById(\"OdwTAv\");\n",
       "                    e.appendChild(script);\n",
       "                })()\n",
       "            </script>\n",
       "            "
      ]
     },
     "metadata": {},
     "output_type": "display_data"
    },
    {
     "data": {
      "text/html": [
       "   <div id=\"s7eG9S\"></div>\n",
       "   <script type=\"text/javascript\" data-lets-plot-script=\"plot\">\n",
       "       (function() {\n",
       "           var plotSpec={\n",
       "\"data\":{\n",
       "\"Model\":[\"Y~X1\",\"Y~X1\",\"Y~X1|f1\",\"Y~X1|f1+f2\"],\n",
       "\"Coefficient\":[\"Intercept\",\"X1\",\"X1\",\"X1\"],\n",
       "\"Estimate\":[0.9185177588356426,-1.000085840074156,-0.9494410591286258,-0.9192548853827908],\n",
       "\"2.5%\":[0.6990856170653885,-1.1663660739416457,-1.0839997603783968,-1.0334504235222999],\n",
       "\"97.5%\":[1.1379499006058966,-0.8338056062066661,-0.8148823578788547,-0.8050593472432815]\n",
       "},\n",
       "\"mapping\":{\n",
       "\"x\":\"Coefficient\",\n",
       "\"y\":\"Estimate\",\n",
       "\"color\":\"Model\"\n",
       "},\n",
       "\"data_meta\":{\n",
       "},\n",
       "\"coord\":{\n",
       "\"name\":\"flip\",\n",
       "\"flip\":true\n",
       "},\n",
       "\"ggsize\":{\n",
       "\"width\":500.0,\n",
       "\"height\":300.0\n",
       "},\n",
       "\"theme\":{\n",
       "\"axis_text_x\":{\n",
       "\"angle\":0.0,\n",
       "\"blank\":false\n",
       "}\n",
       "},\n",
       "\"kind\":\"plot\",\n",
       "\"scales\":[{\n",
       "\"name\":\"Estimate and 95% Confidence Interval\",\n",
       "\"aesthetic\":\"y\"\n",
       "}],\n",
       "\"layers\":[{\n",
       "\"geom\":\"point\",\n",
       "\"mapping\":{\n",
       "},\n",
       "\"position\":{\n",
       "\"name\":\"dodge\",\n",
       "\"width\":0.5\n",
       "},\n",
       "\"data_meta\":{\n",
       "},\n",
       "\"data\":{\n",
       "}\n",
       "},{\n",
       "\"geom\":\"errorbar\",\n",
       "\"mapping\":{\n",
       "\"ymin\":\"2.5%\",\n",
       "\"ymax\":\"97.5%\"\n",
       "},\n",
       "\"position\":{\n",
       "\"name\":\"dodge\",\n",
       "\"width\":0.5\n",
       "},\n",
       "\"data_meta\":{\n",
       "},\n",
       "\"width\":0.05,\n",
       "\"data\":{\n",
       "}\n",
       "},{\n",
       "\"geom\":\"hline\",\n",
       "\"mapping\":{\n",
       "},\n",
       "\"data_meta\":{\n",
       "},\n",
       "\"yintercept\":0.0,\n",
       "\"linetype\":\"dashed\",\n",
       "\"color\":\"black\",\n",
       "\"data\":{\n",
       "}\n",
       "}],\n",
       "\"metainfo_list\":[]\n",
       "};\n",
       "           var plotContainer = document.getElementById(\"s7eG9S\");\n",
       "           window.letsPlotCall(function() {{\n",
       "               LetsPlot.buildPlotFromProcessedSpecs(plotSpec, -1, -1, plotContainer);\n",
       "           }});\n",
       "       })();    \n",
       "   </script>"
      ]
     },
     "metadata": {},
     "output_type": "display_data"
    }
   ],
   "source": [
    "from lets_plot import *\n",
    "\n",
    "LetsPlot.setup_html()\n",
    "\n",
    "multi_fit.coefplot().show()"
   ]
  },
  {
   "cell_type": "markdown",
   "metadata": {},
   "source": [
    "## Difference-in-Differences / Event Study Designs\n",
    "\n",
    "`PyFixest` supports eventy study designs via two-way fixed effects and Gardner's 2-stage estimator. "
   ]
  },
  {
   "cell_type": "code",
   "execution_count": 25,
   "metadata": {},
   "outputs": [
    {
     "data": {
      "text/html": [
       "<div>\n",
       "<style scoped>\n",
       "    .dataframe tbody tr th:only-of-type {\n",
       "        vertical-align: middle;\n",
       "    }\n",
       "\n",
       "    .dataframe tbody tr th {\n",
       "        vertical-align: top;\n",
       "    }\n",
       "\n",
       "    .dataframe thead th {\n",
       "        text-align: right;\n",
       "    }\n",
       "</style>\n",
       "<table border=\"1\" class=\"dataframe\">\n",
       "  <thead>\n",
       "    <tr style=\"text-align: right;\">\n",
       "      <th></th>\n",
       "      <th>unit</th>\n",
       "      <th>state</th>\n",
       "      <th>group</th>\n",
       "      <th>unit_fe</th>\n",
       "      <th>g</th>\n",
       "      <th>year</th>\n",
       "      <th>year_fe</th>\n",
       "      <th>treat</th>\n",
       "      <th>rel_year</th>\n",
       "      <th>rel_year_binned</th>\n",
       "      <th>error</th>\n",
       "      <th>te</th>\n",
       "      <th>te_dynamic</th>\n",
       "      <th>dep_var</th>\n",
       "    </tr>\n",
       "  </thead>\n",
       "  <tbody>\n",
       "    <tr>\n",
       "      <th>0</th>\n",
       "      <td>1</td>\n",
       "      <td>33</td>\n",
       "      <td>Group 2</td>\n",
       "      <td>7.043016</td>\n",
       "      <td>2010</td>\n",
       "      <td>1990</td>\n",
       "      <td>0.066159</td>\n",
       "      <td>False</td>\n",
       "      <td>-20.0</td>\n",
       "      <td>-6</td>\n",
       "      <td>-0.086466</td>\n",
       "      <td>0</td>\n",
       "      <td>0.0</td>\n",
       "      <td>7.022709</td>\n",
       "    </tr>\n",
       "    <tr>\n",
       "      <th>1</th>\n",
       "      <td>1</td>\n",
       "      <td>33</td>\n",
       "      <td>Group 2</td>\n",
       "      <td>7.043016</td>\n",
       "      <td>2010</td>\n",
       "      <td>1991</td>\n",
       "      <td>-0.030980</td>\n",
       "      <td>False</td>\n",
       "      <td>-19.0</td>\n",
       "      <td>-6</td>\n",
       "      <td>0.766593</td>\n",
       "      <td>0</td>\n",
       "      <td>0.0</td>\n",
       "      <td>7.778628</td>\n",
       "    </tr>\n",
       "    <tr>\n",
       "      <th>2</th>\n",
       "      <td>1</td>\n",
       "      <td>33</td>\n",
       "      <td>Group 2</td>\n",
       "      <td>7.043016</td>\n",
       "      <td>2010</td>\n",
       "      <td>1992</td>\n",
       "      <td>-0.119607</td>\n",
       "      <td>False</td>\n",
       "      <td>-18.0</td>\n",
       "      <td>-6</td>\n",
       "      <td>1.512968</td>\n",
       "      <td>0</td>\n",
       "      <td>0.0</td>\n",
       "      <td>8.436377</td>\n",
       "    </tr>\n",
       "    <tr>\n",
       "      <th>3</th>\n",
       "      <td>1</td>\n",
       "      <td>33</td>\n",
       "      <td>Group 2</td>\n",
       "      <td>7.043016</td>\n",
       "      <td>2010</td>\n",
       "      <td>1993</td>\n",
       "      <td>0.126321</td>\n",
       "      <td>False</td>\n",
       "      <td>-17.0</td>\n",
       "      <td>-6</td>\n",
       "      <td>0.021870</td>\n",
       "      <td>0</td>\n",
       "      <td>0.0</td>\n",
       "      <td>7.191207</td>\n",
       "    </tr>\n",
       "    <tr>\n",
       "      <th>4</th>\n",
       "      <td>1</td>\n",
       "      <td>33</td>\n",
       "      <td>Group 2</td>\n",
       "      <td>7.043016</td>\n",
       "      <td>2010</td>\n",
       "      <td>1994</td>\n",
       "      <td>-0.106921</td>\n",
       "      <td>False</td>\n",
       "      <td>-16.0</td>\n",
       "      <td>-6</td>\n",
       "      <td>-0.017603</td>\n",
       "      <td>0</td>\n",
       "      <td>0.0</td>\n",
       "      <td>6.918492</td>\n",
       "    </tr>\n",
       "  </tbody>\n",
       "</table>\n",
       "</div>"
      ],
      "text/plain": [
       "   unit  state    group   unit_fe     g  year   year_fe  treat  rel_year  \\\n",
       "0     1     33  Group 2  7.043016  2010  1990  0.066159  False     -20.0   \n",
       "1     1     33  Group 2  7.043016  2010  1991 -0.030980  False     -19.0   \n",
       "2     1     33  Group 2  7.043016  2010  1992 -0.119607  False     -18.0   \n",
       "3     1     33  Group 2  7.043016  2010  1993  0.126321  False     -17.0   \n",
       "4     1     33  Group 2  7.043016  2010  1994 -0.106921  False     -16.0   \n",
       "\n",
       "   rel_year_binned     error  te  te_dynamic   dep_var  \n",
       "0               -6 -0.086466   0         0.0  7.022709  \n",
       "1               -6  0.766593   0         0.0  7.778628  \n",
       "2               -6  1.512968   0         0.0  8.436377  \n",
       "3               -6  0.021870   0         0.0  7.191207  \n",
       "4               -6 -0.017603   0         0.0  6.918492  "
      ]
     },
     "execution_count": 25,
     "metadata": {},
     "output_type": "execute_result"
    }
   ],
   "source": [
    "import pandas as pd\n",
    "import numpy as np\n",
    "from pyfixest.did.estimation import did2s\n",
    "\n",
    "url = \"https://raw.githubusercontent.com/s3alfisc/pyfixest/master/pyfixest/did/data/df_het.csv\"\n",
    "df_het = pd.read_csv(url)\n",
    "df_het.head()"
   ]
  },
  {
   "cell_type": "code",
   "execution_count": 26,
   "metadata": {},
   "outputs": [
    {
     "name": "stderr",
     "output_type": "stream",
     "text": [
      "C:\\Users\\wenzhding\\AppData\\Local\\Temp\\ipykernel_28488\\725008667.py:18: FutureWarning: 'pyfixest.visualize.iplot' is deprecated and will be removed in a future version.\n",
      "Please use 'pyfixest.iplot' instead. You may refer the updated documentation at: https://s3alfisc.github.io/pyfixest/quickstart.html\n",
      "  iplot(\n"
     ]
    },
    {
     "data": {
      "text/html": [
       "   <div id=\"mMlfe8\"></div>\n",
       "   <script type=\"text/javascript\" data-lets-plot-script=\"plot\">\n",
       "       (function() {\n",
       "           var plotSpec={\n",
       "\"data\":{\n",
       "\"Model\":[\"dep_var_hat~i(rel_year)\",\"dep_var_hat~i(rel_year)\",\"dep_var_hat~i(rel_year)\",\"dep_var_hat~i(rel_year)\",\"dep_var_hat~i(rel_year)\",\"dep_var_hat~i(rel_year)\",\"dep_var_hat~i(rel_year)\",\"dep_var_hat~i(rel_year)\",\"dep_var_hat~i(rel_year)\",\"dep_var_hat~i(rel_year)\",\"dep_var_hat~i(rel_year)\",\"dep_var_hat~i(rel_year)\",\"dep_var_hat~i(rel_year)\",\"dep_var_hat~i(rel_year)\",\"dep_var_hat~i(rel_year)\",\"dep_var_hat~i(rel_year)\",\"dep_var_hat~i(rel_year)\",\"dep_var_hat~i(rel_year)\",\"dep_var_hat~i(rel_year)\",\"dep_var_hat~i(rel_year)\",\"dep_var_hat~i(rel_year)\",\"dep_var_hat~i(rel_year)\",\"dep_var_hat~i(rel_year)\",\"dep_var_hat~i(rel_year)\",\"dep_var_hat~i(rel_year)\",\"dep_var_hat~i(rel_year)\",\"dep_var_hat~i(rel_year)\",\"dep_var_hat~i(rel_year)\",\"dep_var_hat~i(rel_year)\",\"dep_var_hat~i(rel_year)\",\"dep_var_hat~i(rel_year)\",\"dep_var_hat~i(rel_year)\",\"dep_var_hat~i(rel_year)\",\"dep_var_hat~i(rel_year)\",\"dep_var_hat~i(rel_year)\",\"dep_var_hat~i(rel_year)\",\"dep_var_hat~i(rel_year)\",\"dep_var_hat~i(rel_year)\",\"dep_var_hat~i(rel_year)\",\"dep_var_hat~i(rel_year)\",\"dep_var~i(rel_year)|state+year\",\"dep_var~i(rel_year)|state+year\",\"dep_var~i(rel_year)|state+year\",\"dep_var~i(rel_year)|state+year\",\"dep_var~i(rel_year)|state+year\",\"dep_var~i(rel_year)|state+year\",\"dep_var~i(rel_year)|state+year\",\"dep_var~i(rel_year)|state+year\",\"dep_var~i(rel_year)|state+year\",\"dep_var~i(rel_year)|state+year\",\"dep_var~i(rel_year)|state+year\",\"dep_var~i(rel_year)|state+year\",\"dep_var~i(rel_year)|state+year\",\"dep_var~i(rel_year)|state+year\",\"dep_var~i(rel_year)|state+year\",\"dep_var~i(rel_year)|state+year\",\"dep_var~i(rel_year)|state+year\",\"dep_var~i(rel_year)|state+year\",\"dep_var~i(rel_year)|state+year\",\"dep_var~i(rel_year)|state+year\",\"dep_var~i(rel_year)|state+year\",\"dep_var~i(rel_year)|state+year\",\"dep_var~i(rel_year)|state+year\",\"dep_var~i(rel_year)|state+year\",\"dep_var~i(rel_year)|state+year\",\"dep_var~i(rel_year)|state+year\",\"dep_var~i(rel_year)|state+year\",\"dep_var~i(rel_year)|state+year\",\"dep_var~i(rel_year)|state+year\",\"dep_var~i(rel_year)|state+year\",\"dep_var~i(rel_year)|state+year\",\"dep_var~i(rel_year)|state+year\",\"dep_var~i(rel_year)|state+year\",\"dep_var~i(rel_year)|state+year\",\"dep_var~i(rel_year)|state+year\",\"dep_var~i(rel_year)|state+year\",\"dep_var~i(rel_year)|state+year\",\"dep_var~i(rel_year)|state+year\",\"dep_var~i(rel_year)|state+year\",\"dep_var~i(rel_year)|state+year\"],\n",
       "\"Coefficient\":[\"C(rel_year,contr.treatment(base=-1.0))[T.-20.0]\",\"C(rel_year,contr.treatment(base=-1.0))[T.-19.0]\",\"C(rel_year,contr.treatment(base=-1.0))[T.-18.0]\",\"C(rel_year,contr.treatment(base=-1.0))[T.-17.0]\",\"C(rel_year,contr.treatment(base=-1.0))[T.-16.0]\",\"C(rel_year,contr.treatment(base=-1.0))[T.-15.0]\",\"C(rel_year,contr.treatment(base=-1.0))[T.-14.0]\",\"C(rel_year,contr.treatment(base=-1.0))[T.-13.0]\",\"C(rel_year,contr.treatment(base=-1.0))[T.-12.0]\",\"C(rel_year,contr.treatment(base=-1.0))[T.-11.0]\",\"C(rel_year,contr.treatment(base=-1.0))[T.-10.0]\",\"C(rel_year,contr.treatment(base=-1.0))[T.-9.0]\",\"C(rel_year,contr.treatment(base=-1.0))[T.-8.0]\",\"C(rel_year,contr.treatment(base=-1.0))[T.-7.0]\",\"C(rel_year,contr.treatment(base=-1.0))[T.-6.0]\",\"C(rel_year,contr.treatment(base=-1.0))[T.-5.0]\",\"C(rel_year,contr.treatment(base=-1.0))[T.-4.0]\",\"C(rel_year,contr.treatment(base=-1.0))[T.-3.0]\",\"C(rel_year,contr.treatment(base=-1.0))[T.-2.0]\",\"C(rel_year,contr.treatment(base=-1.0))[T.0.0]\",\"C(rel_year,contr.treatment(base=-1.0))[T.1.0]\",\"C(rel_year,contr.treatment(base=-1.0))[T.2.0]\",\"C(rel_year,contr.treatment(base=-1.0))[T.3.0]\",\"C(rel_year,contr.treatment(base=-1.0))[T.4.0]\",\"C(rel_year,contr.treatment(base=-1.0))[T.5.0]\",\"C(rel_year,contr.treatment(base=-1.0))[T.6.0]\",\"C(rel_year,contr.treatment(base=-1.0))[T.7.0]\",\"C(rel_year,contr.treatment(base=-1.0))[T.8.0]\",\"C(rel_year,contr.treatment(base=-1.0))[T.9.0]\",\"C(rel_year,contr.treatment(base=-1.0))[T.10.0]\",\"C(rel_year,contr.treatment(base=-1.0))[T.11.0]\",\"C(rel_year,contr.treatment(base=-1.0))[T.12.0]\",\"C(rel_year,contr.treatment(base=-1.0))[T.13.0]\",\"C(rel_year,contr.treatment(base=-1.0))[T.14.0]\",\"C(rel_year,contr.treatment(base=-1.0))[T.15.0]\",\"C(rel_year,contr.treatment(base=-1.0))[T.16.0]\",\"C(rel_year,contr.treatment(base=-1.0))[T.17.0]\",\"C(rel_year,contr.treatment(base=-1.0))[T.18.0]\",\"C(rel_year,contr.treatment(base=-1.0))[T.19.0]\",\"C(rel_year,contr.treatment(base=-1.0))[T.20.0]\",\"C(rel_year,contr.treatment(base=-1.0))[T.-20.0]\",\"C(rel_year,contr.treatment(base=-1.0))[T.-19.0]\",\"C(rel_year,contr.treatment(base=-1.0))[T.-18.0]\",\"C(rel_year,contr.treatment(base=-1.0))[T.-17.0]\",\"C(rel_year,contr.treatment(base=-1.0))[T.-16.0]\",\"C(rel_year,contr.treatment(base=-1.0))[T.-15.0]\",\"C(rel_year,contr.treatment(base=-1.0))[T.-14.0]\",\"C(rel_year,contr.treatment(base=-1.0))[T.-13.0]\",\"C(rel_year,contr.treatment(base=-1.0))[T.-12.0]\",\"C(rel_year,contr.treatment(base=-1.0))[T.-11.0]\",\"C(rel_year,contr.treatment(base=-1.0))[T.-10.0]\",\"C(rel_year,contr.treatment(base=-1.0))[T.-9.0]\",\"C(rel_year,contr.treatment(base=-1.0))[T.-8.0]\",\"C(rel_year,contr.treatment(base=-1.0))[T.-7.0]\",\"C(rel_year,contr.treatment(base=-1.0))[T.-6.0]\",\"C(rel_year,contr.treatment(base=-1.0))[T.-5.0]\",\"C(rel_year,contr.treatment(base=-1.0))[T.-4.0]\",\"C(rel_year,contr.treatment(base=-1.0))[T.-3.0]\",\"C(rel_year,contr.treatment(base=-1.0))[T.-2.0]\",\"C(rel_year,contr.treatment(base=-1.0))[T.0.0]\",\"C(rel_year,contr.treatment(base=-1.0))[T.1.0]\",\"C(rel_year,contr.treatment(base=-1.0))[T.2.0]\",\"C(rel_year,contr.treatment(base=-1.0))[T.3.0]\",\"C(rel_year,contr.treatment(base=-1.0))[T.4.0]\",\"C(rel_year,contr.treatment(base=-1.0))[T.5.0]\",\"C(rel_year,contr.treatment(base=-1.0))[T.6.0]\",\"C(rel_year,contr.treatment(base=-1.0))[T.7.0]\",\"C(rel_year,contr.treatment(base=-1.0))[T.8.0]\",\"C(rel_year,contr.treatment(base=-1.0))[T.9.0]\",\"C(rel_year,contr.treatment(base=-1.0))[T.10.0]\",\"C(rel_year,contr.treatment(base=-1.0))[T.11.0]\",\"C(rel_year,contr.treatment(base=-1.0))[T.12.0]\",\"C(rel_year,contr.treatment(base=-1.0))[T.13.0]\",\"C(rel_year,contr.treatment(base=-1.0))[T.14.0]\",\"C(rel_year,contr.treatment(base=-1.0))[T.15.0]\",\"C(rel_year,contr.treatment(base=-1.0))[T.16.0]\",\"C(rel_year,contr.treatment(base=-1.0))[T.17.0]\",\"C(rel_year,contr.treatment(base=-1.0))[T.18.0]\",\"C(rel_year,contr.treatment(base=-1.0))[T.19.0]\",\"C(rel_year,contr.treatment(base=-1.0))[T.20.0]\"],\n",
       "\"Estimate\":[-0.07930892379170669,-0.027115309873244755,-0.027235435350764316,-0.03361637397576204,-0.05578068831093835,0.01674513656446519,-0.02086993744456097,-0.022209824688845536,0.005447073274778881,-0.04792474874869773,-0.03247855934296003,-0.03751722264066751,-0.030856942644321275,-0.007104690258118683,-0.039598001783394315,-0.07918308610819687,-0.03422655342074936,-0.015214092720010685,-0.038687531424549226,1.3044622847590652,1.5334860476936707,1.5971037484422894,1.718847309180147,1.8462967066123768,1.9905872778860922,2.0788829001715436,2.1653995661371632,2.258950448012607,2.2777630764062358,2.4147668193865734,2.4563352194604438,2.5072957344947397,2.4814015130523845,2.626326070707077,2.8126319507465785,2.762682379858839,2.811300393411503,2.7770354043917562,2.7861644754695067,2.8148582432189846,-0.22734633251765932,-0.1272771153120834,-0.12377586910077777,-0.10600154982799846,-0.16483404411584465,-0.05832279692206301,-0.09016621211716043,-0.06612149191298733,-0.03798793061956069,-0.06754151202395559,-0.24090366482529513,-0.19709324724153146,-0.1891581332157053,-0.1298910510591649,-0.1836784148484193,-0.19287730206073042,-0.13771857992925798,-0.0815305402211019,-0.11192130722830132,1.2785435159225225,1.5326991532775687,1.6009373186906826,1.7269862607998652,1.8308233429101133,1.9543085484330123,2.0632092597184877,2.1512201071686015,2.23674070413228,2.2791251321914157,2.521420534475568,2.6257723446465353,2.6861169473375615,2.628251123752844,2.7356084947528356,2.858833818643327,2.8352136897066123,2.844777894224179,2.807232802122714,2.8081621821794,2.851883708420042],\n",
       "\"2.5%\":[-0.16956009129324473,-0.13130815604198476,-0.12259738219920213,-0.11756451630107753,-0.15943222416643726,-0.08271384501075003,-0.11742994686643315,-0.1002004905523579,-0.08409592787927972,-0.16435158421433957,-0.09941164456393861,-0.09715638902117157,-0.09367244143565608,-0.07832139364499874,-0.0928105291030876,-0.13882631273143448,-0.08904078725047795,-0.07493744178711453,-0.10202240180647527,1.1945943466366207,1.4072836250274798,1.4860049541612104,1.60012990239387,1.7528192640216584,1.8801608388053463,1.9527955115427071,2.050837966833949,2.14534202840203,2.173300068911561,2.2970296208885306,2.2958801506363247,2.3509943790747223,2.3156568677239124,2.489639041115562,2.6504947368999923,2.601104142002372,2.6557354065226724,2.6167621025362147,2.609418196922359,2.6520847797347686,-0.41835234678585803,-0.3348536090653791,-0.3173446887963609,-0.28538047233394737,-0.3759363204064432,-0.2512959913260494,-0.28245395511238686,-0.23049548638024434,-0.20884854788249646,-0.2556242102679863,-0.39812183801104584,-0.3305517524979284,-0.33043959200876427,-0.28639808517297605,-0.3153550129578753,-0.326460416118722,-0.26076590707324954,-0.2227980686456988,-0.23899477563297386,1.1425949792170853,1.3821962851103922,1.4800248877728912,1.5876806679251547,1.718482840270004,1.8228490095869487,1.9146676837813423,2.0105204921269295,2.0995591034099332,2.17455094502644,2.3938558899523463,2.4491911684724914,2.5298743417406335,2.445545445279106,2.5747538383715662,2.67455882286333,2.6512960000258317,2.669990129775669,2.6314491363009735,2.635127852241938,2.6761322982214155],\n",
       "\"97.5%\":[0.010942243709831337,0.07707753629549524,0.06812651149767351,0.05033176834955345,0.04787084754456057,0.11620411813968042,0.07569007197731123,0.05578084117466682,0.09499007442883747,0.0685020867169441,0.03445452587801854,0.022121943739836558,0.031958556147013525,0.06411201312876136,0.013614525536298966,-0.019539859484959253,0.020587680408979243,0.04450925634709317,0.02464733895737682,1.4143302228815098,1.6596884703598616,1.7082025427233685,1.8375647159664241,1.939774149203095,2.1010137169668384,2.20497028880038,2.2799611654403775,2.372558867623184,2.3822260839009104,2.5325040178846163,2.616790288284563,2.663597089914757,2.6471461583808567,2.7630131002985916,2.9747691645931646,2.924260617715306,2.9668653803003338,2.937308706247298,2.9629107540166544,2.9776317067032005,-0.0363403182494606,0.0802993784412123,0.06979295059480538,0.07337737267795043,0.0462682321747539,0.13465039748192337,0.10212153087806601,0.09825250255426968,0.1328726866433751,0.12054118622007517,-0.08368549163954442,-0.06363474198513452,-0.04787667442264634,0.026615983054646214,-0.05200181673896326,-0.05929418800273886,-0.014671252785266445,0.05973698820349499,0.01515216117637122,1.4144920526279596,1.6832020214447452,1.721849749608474,1.8662918536745756,1.9431638455502225,2.085768087279076,2.211750835655633,2.2919197222102734,2.373922304854627,2.383699319356391,2.6489851789987893,2.802353520820579,2.8423595529344894,2.810956802226582,2.896463151134105,3.043108814423324,3.019131379387393,3.0195656586726884,2.9830164679444544,2.9811965121168615,3.0276351186186687]\n",
       "},\n",
       "\"mapping\":{\n",
       "\"x\":\"Coefficient\",\n",
       "\"y\":\"Estimate\",\n",
       "\"color\":\"Model\"\n",
       "},\n",
       "\"data_meta\":{\n",
       "},\n",
       "\"ggsize\":{\n",
       "\"width\":900.0,\n",
       "\"height\":400.0\n",
       "},\n",
       "\"theme\":{\n",
       "\"axis_text_x\":{\n",
       "\"angle\":0.0,\n",
       "\"blank\":false\n",
       "}\n",
       "},\n",
       "\"ggtitle\":{\n",
       "\"text\":\"TWFE vs DID2S\"\n",
       "},\n",
       "\"kind\":\"plot\",\n",
       "\"scales\":[{\n",
       "\"name\":\"Estimate and 95% Confidence Interval\",\n",
       "\"aesthetic\":\"y\"\n",
       "}],\n",
       "\"layers\":[{\n",
       "\"geom\":\"point\",\n",
       "\"mapping\":{\n",
       "},\n",
       "\"position\":{\n",
       "\"name\":\"dodge\",\n",
       "\"width\":0.5\n",
       "},\n",
       "\"data_meta\":{\n",
       "},\n",
       "\"data\":{\n",
       "}\n",
       "},{\n",
       "\"geom\":\"errorbar\",\n",
       "\"mapping\":{\n",
       "\"ymin\":\"2.5%\",\n",
       "\"ymax\":\"97.5%\"\n",
       "},\n",
       "\"position\":{\n",
       "\"name\":\"dodge\",\n",
       "\"width\":0.5\n",
       "},\n",
       "\"data_meta\":{\n",
       "},\n",
       "\"width\":0.05,\n",
       "\"data\":{\n",
       "}\n",
       "}],\n",
       "\"metainfo_list\":[]\n",
       "};\n",
       "           var plotContainer = document.getElementById(\"mMlfe8\");\n",
       "           window.letsPlotCall(function() {{\n",
       "               LetsPlot.buildPlotFromProcessedSpecs(plotSpec, -1, -1, plotContainer);\n",
       "           }});\n",
       "       })();    \n",
       "   </script>"
      ],
      "text/plain": [
       "<lets_plot.plot.core.PlotSpec at 0x1d3caf17150>"
      ]
     },
     "execution_count": 26,
     "metadata": {},
     "output_type": "execute_result"
    }
   ],
   "source": [
    "fit_did2s = did2s(\n",
    "    df_het,\n",
    "    yname=\"dep_var\",\n",
    "    first_stage=\"~ 0 | state + year\",\n",
    "    second_stage=\"~i(rel_year)\",\n",
    "    treatment=\"treat\",\n",
    "    cluster=\"state\",\n",
    "    i_ref1=[-1.0, np.inf],\n",
    ")\n",
    "\n",
    "fit_twfe = feols(\n",
    "    \"dep_var ~ i(rel_year) | state + year\",\n",
    "    df_het,\n",
    "    i_ref1=[-1.0, np.inf],\n",
    "    vcov={\"CRV1\": \"state\"},\n",
    ")\n",
    "\n",
    "iplot(\n",
    "    [fit_did2s, fit_twfe], coord_flip=False, figsize=(900, 400), title=\"TWFE vs DID2S\"\n",
    ")"
   ]
  },
  {
   "cell_type": "markdown",
   "metadata": {},
   "source": [
    "The `event_study()` function provides a common API for several event study estimators."
   ]
  },
  {
   "cell_type": "code",
   "execution_count": 27,
   "metadata": {},
   "outputs": [
    {
     "name": "stdout",
     "output_type": "stream",
     "text": [
      "                          est1              est2\n",
      "------------  ----------------  ----------------\n",
      "depvar                 dep_var       dep_var_hat\n",
      "------------------------------------------------\n",
      "ATT           2.135*** (0.044)  2.152*** (0.048)\n",
      "------------------------------------------------\n",
      "state                        x                 -\n",
      "year                         x                 -\n",
      "------------------------------------------------\n",
      "R2                           -                 -\n",
      "S.E. type            by: state              CRV1\n",
      "Observations             5E+04             5E+04\n",
      "------------------------------------------------\n",
      "Significance levels: * p < 0.05, ** p < 0.01, *** p < 0.001\n",
      "Format of coefficient cell:\n",
      "Coefficient (Std. Error)\n"
     ]
    },
    {
     "name": "stderr",
     "output_type": "stream",
     "text": [
      "C:\\Users\\wenzhding\\AppData\\Local\\Temp\\ipykernel_28488\\3281468174.py:22: FutureWarning: 'pyfixest.summarize.etable' is deprecated and will be removed in a future version.\n",
      "Please use 'pyfixest.etable' instead. You may refer the updated documentation at: https://s3alfisc.github.io/pyfixest/quickstart.html\n",
      "  etable([fit_twfe, fit_did2s])\n"
     ]
    }
   ],
   "source": [
    "from pyfixest.did.event_study import event_study\n",
    "from pyfixest.summarize import etable\n",
    "\n",
    "fit_twfe = event_study(\n",
    "    data=df_het,\n",
    "    yname=\"dep_var\",\n",
    "    idname=\"state\",\n",
    "    tname=\"year\",\n",
    "    gname=\"g\",\n",
    "    estimator=\"twfe\",\n",
    ")\n",
    "\n",
    "fit_did2s = event_study(\n",
    "    data=df_het,\n",
    "    yname=\"dep_var\",\n",
    "    idname=\"state\",\n",
    "    tname=\"year\",\n",
    "    gname=\"g\",\n",
    "    estimator=\"did2s\",\n",
    ")\n",
    "\n",
    "etable([fit_twfe, fit_did2s])"
   ]
  },
  {
   "cell_type": "markdown",
   "metadata": {},
   "source": []
  }
 ],
 "metadata": {
  "kernelspec": {
   "display_name": "Python 3",
   "language": "python",
   "name": "python3"
  },
  "language_info": {
   "codemirror_mode": {
    "name": "ipython",
    "version": 3
   },
   "file_extension": ".py",
   "mimetype": "text/x-python",
   "name": "python",
   "nbconvert_exporter": "python",
   "pygments_lexer": "ipython3",
   "version": "3.11.7"
  },
  "orig_nbformat": 4
 },
 "nbformat": 4,
 "nbformat_minor": 2
}
