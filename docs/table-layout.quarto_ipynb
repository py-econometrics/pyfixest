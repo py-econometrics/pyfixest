{
  "cells": [
    {
      "cell_type": "markdown",
      "metadata": {},
      "source": [
        "---\n",
        "format:\n",
        "  html:\n",
        "    html-table-processing: none\n",
        "toc: true\n",
        "toc-title: \"On this page\"\n",
        "toc-location: left\n",
        "---\n",
        "\n",
        "\n",
        "\n",
        "## Table Layout with PyFixest\n",
        "\n",
        "Pyfixest comes with functions to generate publication-ready tables. Regression tables are generated with `pf.etable()`, which can output different formats, for instance using the [Great Tables](https://posit-dev.github.io/great-tables/articles/intro.html) package or generating formatted LaTex Tables using [booktabs](https://ctan.org/pkg/booktabs?lang=en). There are also further functions `pf.dtable()` to display descriptive statistics and `pf.make_table()` generating formatted tables from pandas dataframes in the same layout.\n",
        "\n",
        "To begin, we load some libraries and fit a set of regression models.\n"
      ],
      "id": "ada0e7f3"
    },
    {
      "cell_type": "code",
      "metadata": {},
      "source": [
        "import numpy as np\n",
        "import pandas as pd\n",
        "#import pylatex as pl  # for the latex table; note: not a dependency of pyfixest - needs manual installation\n",
        "from great_tables import loc, style\n",
        "from IPython.display import FileLink, display\n",
        "\n",
        "import pyfixest as pf\n",
        "\n",
        "%load_ext autoreload\n",
        "%autoreload 2\n",
        "\n",
        "data = pf.get_data()\n",
        "\n",
        "fit1 = pf.feols(\"Y ~ X1 + X2 | f1\", data=data)\n",
        "fit2 = pf.feols(\"Y ~ X1 + X2 | f1 + f2\", data=data)\n",
        "fit3 = pf.feols(\"Y ~ X1 *X2 | f1 + f2\", data=data)\n",
        "fit4 = pf.feols(\"Y2 ~ X1 + X2 | f1\", data=data)\n",
        "fit5 = pf.feols(\"Y2 ~ X1 + X2 | f1 + f2\", data=data)\n",
        "fit6 = pf.feols(\"Y2 ~ X1 *X2 | f1 + f2\", data=data)"
      ],
      "id": "4b211a90",
      "execution_count": null,
      "outputs": []
    },
    {
      "cell_type": "markdown",
      "metadata": {},
      "source": [
        "# Regression Tables via `pf.etable()`\n",
        "\n",
        "## Basic Usage\n",
        "\n",
        "We can compare all regression models via the pyfixest-internal `pf.etable()` function:\n"
      ],
      "id": "fa833139"
    },
    {
      "cell_type": "code",
      "metadata": {},
      "source": [
        "pf.etable([fit1, fit2, fit3, fit4, fit5, fit6])"
      ],
      "id": "25d5b9c4",
      "execution_count": null,
      "outputs": []
    },
    {
      "cell_type": "markdown",
      "metadata": {},
      "source": [
        "You can also estimate and display multiple regressions with one line of code using the (py)fixest stepwise notation:\n"
      ],
      "id": "2e58c059"
    },
    {
      "cell_type": "code",
      "metadata": {},
      "source": [
        "pf.etable(pf.feols(\"Y+Y2~csw(X1,X2,X1:X2)\", data=data))"
      ],
      "id": "3e41c4f3",
      "execution_count": null,
      "outputs": []
    },
    {
      "cell_type": "markdown",
      "metadata": {},
      "source": [
        "## Keep and drop variables\n",
        "`etable` allows us to do a few things out of the box. For example, we can only keep the variables that we'd like, which keeps all variables that fit the provided regex match.\n"
      ],
      "id": "411b27b9"
    },
    {
      "cell_type": "code",
      "metadata": {},
      "source": [
        "pf.etable([fit1, fit2, fit3, fit4, fit5, fit6], keep=\"X1\")"
      ],
      "id": "0fcff403",
      "execution_count": null,
      "outputs": []
    },
    {
      "cell_type": "markdown",
      "metadata": {},
      "source": [
        "We can use the `exact_match` argument to select a specific set of variables:\n"
      ],
      "id": "d9b28b10"
    },
    {
      "cell_type": "code",
      "metadata": {},
      "source": [
        "pf.etable([fit1, fit2, fit3, fit4, fit5, fit6], keep=[\"X1\", \"X2\"], exact_match=True)"
      ],
      "id": "e2c14077",
      "execution_count": null,
      "outputs": []
    },
    {
      "cell_type": "markdown",
      "metadata": {},
      "source": [
        "We can also easily **drop** variables via the `drop` argument:\n"
      ],
      "id": "aec06ac1"
    },
    {
      "cell_type": "code",
      "metadata": {},
      "source": [
        "pf.etable([fit1, fit2, fit3, fit4, fit5, fit6], drop=[\"X1\"])"
      ],
      "id": "9351f09a",
      "execution_count": null,
      "outputs": []
    },
    {
      "cell_type": "markdown",
      "metadata": {},
      "source": [
        "## Hide fixed effects or SE-type rows\n",
        "We can hide the rows showing the relevant fixed effects and those showing the S.E. type by setting `show_fe=False` and `show_setype=False` (for instance when the set of fixed effects or the estimation method for the std. errors is the same for all models and you want to describe this in the text or table notes rather than displaying it in the table).\n"
      ],
      "id": "6a865114"
    },
    {
      "cell_type": "code",
      "metadata": {},
      "source": [
        "pf.etable([fit1, fit2, fit3, fit4, fit5, fit6], show_fe=False, show_se_type=False)"
      ],
      "id": "c326c470",
      "execution_count": null,
      "outputs": []
    },
    {
      "cell_type": "markdown",
      "metadata": {},
      "source": [
        "## Display p-values or confidence intervals\n",
        "By default, `pf.etable()` reports **standard errors**. But we can also ask to output p-values or confidence intervals via the `coef_fmt` function argument.\n"
      ],
      "id": "7a22812f"
    },
    {
      "cell_type": "code",
      "metadata": {},
      "source": [
        "pf.etable([fit1, fit2, fit3, fit4, fit5, fit6], coef_fmt=\"b \\n (se) \\n [p]\")"
      ],
      "id": "17f9bc53",
      "execution_count": null,
      "outputs": []
    },
    {
      "cell_type": "markdown",
      "metadata": {},
      "source": [
        "## Significance levels and rounding\n",
        "Additionally, we can also overwrite the defaults for the reported significance levels and control the rounding of results via the `signif_code` and `digits` function arguments:\n"
      ],
      "id": "eca3c532"
    },
    {
      "cell_type": "code",
      "metadata": {},
      "source": [
        "pf.etable([fit1, fit2, fit3, fit4, fit5, fit6], signif_code=[0.01, 0.05, 0.1], digits=5)"
      ],
      "id": "cc150b78",
      "execution_count": null,
      "outputs": []
    },
    {
      "cell_type": "markdown",
      "metadata": {},
      "source": [
        "## Other output formats\n",
        "By default, `pf.etable()` returns a GT object (see [the Great Tables package](https://posit-dev.github.io/great-tables/articles/intro.html)), but you can also opt to dataframe, markdown, or latex output via the `type` argument.\n"
      ],
      "id": "6a851b7e"
    },
    {
      "cell_type": "code",
      "metadata": {},
      "source": [
        "# Pandas styler output:\n",
        "pf.etable(\n",
        "    [fit1, fit2, fit3, fit4, fit5, fit6],\n",
        "    signif_code=[0.01, 0.05, 0.1],\n",
        "    digits=5,\n",
        "    coef_fmt=\"b (se)\",\n",
        "    type=\"df\",\n",
        ")"
      ],
      "id": "1842db00",
      "execution_count": null,
      "outputs": []
    },
    {
      "cell_type": "code",
      "metadata": {},
      "source": [
        "# Markdown output:\n",
        "pf.etable(\n",
        "    [fit1, fit2, fit3, fit4, fit5, fit6],\n",
        "    signif_code=[0.01, 0.05, 0.1],\n",
        "    digits=5,\n",
        "    type=\"md\",\n",
        ")"
      ],
      "id": "5b2db128",
      "execution_count": null,
      "outputs": []
    },
    {
      "cell_type": "markdown",
      "metadata": {},
      "source": [
        "To obtain latex output use `format = \"tex\"`. If you want to save the table as a tex file, you can use the `file_name=` argument to specify the respective path where it should be saved. If you want the latex code to be displayed in the notebook, you can use the `print_tex=True` argument.\n",
        "Etable will use latex packages `booktabs`, `threeparttable` and `makecell` for the table layout, so don't forget to include these packages in your latex document.\n"
      ],
      "id": "70dfe676"
    },
    {
      "cell_type": "code",
      "metadata": {},
      "source": [
        "# LaTex output (include latex packages booktabs, threeparttable, and makecell in your document):\n",
        "tab = pf.etable(\n",
        "    [fit1, fit2, fit3, fit4, fit5, fit6],\n",
        "    signif_code=[0.01, 0.05, 0.1],\n",
        "    digits=2,\n",
        "    type=\"tex\",\n",
        "    print_tex=True,\n",
        ")"
      ],
      "id": "a9115810",
      "execution_count": null,
      "outputs": []
    },
    {
      "cell_type": "markdown",
      "metadata": {},
      "source": [
        "The following code generates a pdf including the regression table which you can display clicking on the link below the cell:\n"
      ],
      "id": "3a36e3d3"
    },
    {
      "cell_type": "code",
      "metadata": {},
      "source": [
        "## Use pylatex to create a tex file with the table\n",
        "\n",
        "\n",
        "def make_pdf(tab, file):\n",
        "    \"Create a PDF document with tex table.\"\n",
        "    doc = pl.Document()\n",
        "    doc.packages.append(pl.Package(\"booktabs\"))\n",
        "    doc.packages.append(pl.Package(\"threeparttable\"))\n",
        "    doc.packages.append(pl.Package(\"makecell\"))\n",
        "\n",
        "    with (\n",
        "        doc.create(pl.Section(\"A PyFixest LateX Table\")),\n",
        "        doc.create(pl.Table(position=\"htbp\")) as table,\n",
        "    ):\n",
        "        table.append(pl.NoEscape(tab))\n",
        "\n",
        "    doc.generate_pdf(file, clean_tex=False)\n",
        "\n",
        "\n",
        "# Compile latex to pdf & display a button with the hyperlink to the pdf\n",
        "# requires tex installation\n",
        "run = False\n",
        "if run:\n",
        "    make_pdf(tab, \"latexdocs/SampleTableDoc\")\n",
        "display(FileLink(\"latexdocs/SampleTableDoc.pdf\"))"
      ],
      "id": "4df40b63",
      "execution_count": null,
      "outputs": []
    },
    {
      "cell_type": "markdown",
      "metadata": {},
      "source": [
        "## Rename variables\n",
        "You can also rename variables if you want to have a more readable output. Just pass a dictionary to the `labels` argument. Note that interaction terms will also be relabeled using the specified labels for the interacted variables (if you want to manually relabel an interaction term differently, add it to the dictionary).\n"
      ],
      "id": "e8c07c62"
    },
    {
      "cell_type": "code",
      "metadata": {},
      "source": [
        "labels = {\n",
        "    \"Y\": \"Wage\",\n",
        "    \"Y2\": \"Wealth\",\n",
        "    \"X1\": \"Age\",\n",
        "    \"X2\": \"Years of Schooling\",\n",
        "    \"f1\": \"Industry\",\n",
        "    \"f2\": \"Year\",\n",
        "}\n",
        "\n",
        "pf.etable([fit1, fit2, fit3, fit4, fit5, fit6], labels=labels)"
      ],
      "id": "a7115aac",
      "execution_count": null,
      "outputs": []
    },
    {
      "cell_type": "markdown",
      "metadata": {},
      "source": [
        "If you want to label the rows indicating the inclusion of fixed effects not with the variable label but with a custom label, you can pass on a separate dictionary to the `felabels` argument.\n"
      ],
      "id": "e0c22a61"
    },
    {
      "cell_type": "code",
      "metadata": {},
      "source": [
        "pf.etable(\n",
        "    [fit1, fit2, fit3, fit4, fit5, fit6],\n",
        "    labels=labels,\n",
        "    felabels={\"f1\": \"Industry Fixed Effects\", \"f2\": \"Year Fixed Effects\"},\n",
        ")"
      ],
      "id": "5c70b97f",
      "execution_count": null,
      "outputs": []
    },
    {
      "cell_type": "markdown",
      "metadata": {},
      "source": [
        "## Rename categorical variables\n",
        "\n",
        "Categorical variables will be relabeled where the default is {variable}={level}:\n",
        "´\n"
      ],
      "id": "684a87fa"
    },
    {
      "cell_type": "code",
      "metadata": {},
      "source": [
        "# Add a categorical variable\n",
        "data['job'] = np.random.choice([\"Managerial\", \"Admin\", \"Blue collar\"], size=len(data), p=[1/3, 1/3, 1/3])\n",
        "# Add a label for this variable to the dictionary\n",
        "labels['job']=\"Job Family\"\n",
        "\n",
        "fit7 = pf.feols(\"Y ~ X1 + X2 + job\", data = data)\n",
        "\n",
        "pf.etable([fit7], labels=labels)"
      ],
      "id": "33a697bc",
      "execution_count": null,
      "outputs": []
    },
    {
      "cell_type": "markdown",
      "metadata": {},
      "source": [
        "But you can also remove the variable name and only keep the levels (categories) by specifying *cat_template=\"{level}\"*. Note that the labeling of categories also works in interaction terms:\n"
      ],
      "id": "01f0a0ad"
    },
    {
      "cell_type": "code",
      "metadata": {},
      "source": [
        "fit7 = pf.feols(\"Y ~ X1 + X2 + job\", data = data)\n",
        "fit8 = pf.feols(\"Y ~ X1 + X2 + job*X2\", data = data)\n",
        "\n",
        "pf.etable([fit7, fit8], labels=labels, cat_template=\"{level}\")"
      ],
      "id": "7ed76908",
      "execution_count": null,
      "outputs": []
    },
    {
      "cell_type": "markdown",
      "metadata": {},
      "source": [
        "If you instead want to keep the standard formulaic notation, specify *cat_template=\"\"*.\n"
      ],
      "id": "2346f0e9"
    },
    {
      "cell_type": "code",
      "metadata": {},
      "source": [
        "fit7 = pf.feols(\"Y ~ X1 + X2 + job\", data = data)\n",
        "fit8 = pf.feols(\"Y ~ X1 + X2 + job*X2\", data = data)\n",
        "\n",
        "pf.etable([fit7, fit8], cat_template=\"\")"
      ],
      "id": "cd5a4c05",
      "execution_count": null,
      "outputs": []
    },
    {
      "cell_type": "markdown",
      "metadata": {},
      "source": [
        "## Custom model headlines\n",
        "You can also add custom headers for each model by passing a list of strings to the `model_headers` argument.\n"
      ],
      "id": "237d831d"
    },
    {
      "cell_type": "code",
      "metadata": {},
      "source": [
        "pf.etable(\n",
        "    [fit1, fit2, fit3, fit4, fit5, fit6],\n",
        "    labels=labels,\n",
        "    model_heads=[\"US\", \"China\", \"EU\", \"US\", \"China\", \"EU\"],\n",
        ")"
      ],
      "id": "20684070",
      "execution_count": null,
      "outputs": []
    },
    {
      "cell_type": "markdown",
      "metadata": {},
      "source": [
        "Or change the ordering of headlines having headlines first and then dependent variables using the `head_order` argument. \"hd\" stands for headlines then dependent variables, \"dh\" for dependent variables then headlines. Assigning \"d\" or \"h\" can be used to only show dependent variables or only headlines. When head_order=\"\" only model numbers are shown.\n"
      ],
      "id": "90710fac"
    },
    {
      "cell_type": "code",
      "metadata": {},
      "source": [
        "pf.etable(\n",
        "    [fit1, fit4, fit2, fit5, fit3, fit6],\n",
        "    labels=labels,\n",
        "    model_heads=[\"US\", \"US\", \"China\", \"China\", \"EU\", \"EU\"],\n",
        "    head_order=\"hd\",\n",
        ")"
      ],
      "id": "aba7beb7",
      "execution_count": null,
      "outputs": []
    },
    {
      "cell_type": "markdown",
      "metadata": {},
      "source": [
        "Remove the dependent variables from the headers:\n"
      ],
      "id": "dd6b5b48"
    },
    {
      "cell_type": "code",
      "metadata": {},
      "source": [
        "pf.etable(\n",
        "    [fit1, fit4, fit2, fit5, fit3, fit6],\n",
        "    labels=labels,\n",
        "    model_heads=[\"US\", \"US\", \"China\", \"China\", \"EU\", \"EU\"],\n",
        "    head_order=\"\",\n",
        ")"
      ],
      "id": "590f3275",
      "execution_count": null,
      "outputs": []
    },
    {
      "cell_type": "markdown",
      "metadata": {},
      "source": [
        "## Further custom model information\n",
        "You can add further custom model statistics/information to the bottom of the table by using the `custom_stats` argument to which you pass a dictionary with the name of the row and lists of values. The length of the lists must be equal to the number of models.\n"
      ],
      "id": "0d63456b"
    },
    {
      "cell_type": "code",
      "metadata": {},
      "source": [
        "pf.etable(\n",
        "    [fit1, fit2, fit3, fit4, fit5, fit6],\n",
        "    labels=labels,\n",
        "    custom_model_stats={\n",
        "        \"Number of Clusters\": [42, 42, 42, 37, 37, 37],\n",
        "        \"Additional Info\": [\"A\", \"A\", \"B\", \"B\", \"C\", \"C\"],\n",
        "    },\n",
        ")"
      ],
      "id": "55cb22f6",
      "execution_count": null,
      "outputs": []
    },
    {
      "cell_type": "markdown",
      "metadata": {},
      "source": [
        "## Custom table notes\n",
        "You can replace the default table notes with your own notes using the `notes` argument.\n"
      ],
      "id": "1696c038"
    },
    {
      "cell_type": "code",
      "metadata": {},
      "source": [
        "mynotes = \"Lorem ipsum dolor sit amet, consetetur sadipscing elitr, sed diam nonumy eirmod tempor invidunt ut labore et dolore magna aliquyam erat, sed diam voluptua. At vero eos et accusam et justo duo dolores et ea rebum. Stet clita kasd gubergren, no sea takimata sanctus est Lorem ipsum dolor sit amet.\"\n",
        "pf.etable(\n",
        "    [fit1, fit4, fit2, fit5, fit3, fit6],\n",
        "    labels=labels,\n",
        "    model_heads=[\"US\", \"US\", \"China\", \"China\", \"EU\", \"EU\"],\n",
        "    head_order=\"hd\",\n",
        "    notes=mynotes,\n",
        ")"
      ],
      "id": "8c0c7e1b",
      "execution_count": null,
      "outputs": []
    },
    {
      "cell_type": "markdown",
      "metadata": {},
      "source": [
        "## Publication-ready LaTex tables\n",
        "With few lines of code you thus obtain a publication-ready latex table:\n"
      ],
      "id": "353e3567"
    },
    {
      "cell_type": "code",
      "metadata": {},
      "source": [
        "tab = pf.etable(\n",
        "    [fit1, fit4, fit2, fit5, fit3, fit6],\n",
        "    labels=labels,\n",
        "    model_heads=[\"US\", \"US\", \"China\", \"China\", \"EU\", \"EU\"],\n",
        "    head_order=\"hd\",\n",
        "    type=\"tex\",\n",
        "    notes=mynotes,\n",
        "    show_fe=True,\n",
        "    show_se_type=False,\n",
        "    custom_model_stats={\n",
        "        \"Number of Clusters\": [42, 42, 42, 37, 37, 37],\n",
        "    },\n",
        ")\n",
        "\n",
        "# Compile latex to pdf & display a button with the hyperlink to the pdf\n",
        "run = False\n",
        "if run:\n",
        "    make_pdf(tab, \"latexdocs/SampleTableDoc2\")\n",
        "display(FileLink(\"latexdocs/SampleTableDoc2.pdf\"))"
      ],
      "id": "f02296da",
      "execution_count": null,
      "outputs": []
    },
    {
      "cell_type": "markdown",
      "metadata": {},
      "source": [
        "# Rendering Tables in Quarto\n",
        "When you use quarto you can include latex tables generated by pyfixest when rendering the qmd file as pdf. Just specify `output: asis` in the code block options of the respective chunk and print the LaTex string returned by etable. Don't forget to include the `\\usepackage` commands for necessary latex packages in the YAML block. Here you find a sample [qmd file](https://github.com/py-econometrics/pyfixest/blob/master/docs/quarto_example/QuartoExample.qmd).\n",
        "\n",
        "When you render either a jupyter notebook or qmd file to html it is advisable to turn html-table-processing off in quarto as otherwise quarto adds further formatting which alters how your tables look like. You can do this in a raw cell at the top of your document.\n",
        "\n",
        "<pre><code>---\n",
        "format:\n",
        "  html:\n",
        "    html-table-processing: none\n",
        "---</code></pre>\n",
        "\n",
        "# Descriptive Statistics via `pf.dtable()`\n",
        "\n",
        "The function `pf.dtable()` allows to display descriptive statistics for a set of variables in the same layout.\n",
        "\n",
        "## Basic Usage of dtable\n",
        "Specify the variables you want to display the descriptive statistics for. You can also use a dictionary to rename the variables and add a caption.\n"
      ],
      "id": "50fc0dd1"
    },
    {
      "cell_type": "code",
      "metadata": {},
      "source": [
        "pf.dtable(\n",
        "    data,\n",
        "    vars=[\"Y\", \"Y2\", \"X1\", \"X2\"],\n",
        "    labels=labels,\n",
        "    caption=\"Descriptive statistics\",\n",
        "    digits=2,\n",
        ")"
      ],
      "id": "c36f8f9d",
      "execution_count": null,
      "outputs": []
    },
    {
      "cell_type": "markdown",
      "metadata": {},
      "source": [
        "Choose the set of statistics to be displayed with `stats`. You can use any pandas aggregation functions.\n"
      ],
      "id": "66f90bdc"
    },
    {
      "cell_type": "code",
      "metadata": {},
      "source": [
        "pf.dtable(\n",
        "    data,\n",
        "    vars=[\"Y\", \"Y2\", \"X1\", \"X2\"],\n",
        "    stats=[\"count\", \"mean\", \"std\", \"min\", \"max\"],\n",
        "    labels=labels,\n",
        "    caption=\"Descriptive statistics\",\n",
        ")"
      ],
      "id": "3dfb2ca8",
      "execution_count": null,
      "outputs": []
    },
    {
      "cell_type": "markdown",
      "metadata": {},
      "source": [
        "## Summarize by characteristics in columns and rows\n",
        "You can summarize by characteristics using the `bycol` argument when groups are to be displayed in columns. When the number of observations is the same for all variables in a group, you can also opt to display the number of observations only once for each group byin a separate line at the bottom of the table with `counts_row_below==True`.\n"
      ],
      "id": "a61f5ba0"
    },
    {
      "cell_type": "code",
      "metadata": {},
      "source": [
        "# Generate some categorial data\n",
        "data[\"country\"] = np.random.choice([\"US\", \"EU\"], data.shape[0])\n",
        "data[\"occupation\"] = np.random.choice([\"Blue collar\", \"White collar\"], data.shape[0])\n",
        "\n",
        "# Drop nan values to have balanced data\n",
        "data.dropna(inplace=True)\n",
        "\n",
        "pf.dtable(\n",
        "    data,\n",
        "    vars=[\"Y\", \"Y2\", \"X1\", \"X2\"],\n",
        "    labels=labels,\n",
        "    bycol=[\"country\", \"occupation\"],\n",
        "    stats=[\"count\", \"mean\", \"std\"],\n",
        "    caption=\"Descriptive statistics\",\n",
        "    stats_labels={\"count\": \"Number of observations\"},\n",
        "    counts_row_below=True,\n",
        ")"
      ],
      "id": "921d4a02",
      "execution_count": null,
      "outputs": []
    },
    {
      "cell_type": "markdown",
      "metadata": {},
      "source": [
        "You can also use custom aggregation functions to compute further statistics or affect how statistics are presented. Pyfixest provides two such functions `mean_std` and `mean_newline_std` which compute the mean and standard deviation and display both the same cell (either with line break between them or not). This allows to have more compact tables when you want to show statistics for many characteristcs in the columns.\n",
        "\n",
        "You can also hide the display of the statistics labels in the header with `hide_stats_labels=True`. In that case a table note will be added naming the statistics displayed using its label (if you have not provided a custom note).\n"
      ],
      "id": "d3e65a6c"
    },
    {
      "cell_type": "code",
      "metadata": {},
      "source": [
        "pf.dtable(\n",
        "    data,\n",
        "    vars=[\"Y\", \"Y2\", \"X1\", \"X2\"],\n",
        "    labels=labels,\n",
        "    bycol=[\"country\", \"occupation\"],\n",
        "    stats=[\"mean_newline_std\", \"count\"],\n",
        "    caption=\"Descriptive statistics\",\n",
        "    stats_labels={\"count\": \"Number of observations\"},\n",
        "    counts_row_below=True,\n",
        "    hide_stats=True,\n",
        ")"
      ],
      "id": "eeb3b5fe",
      "execution_count": null,
      "outputs": []
    },
    {
      "cell_type": "markdown",
      "metadata": {},
      "source": [
        "You can also split by characteristics in both columns and rows. Note that you can only use one grouping variable in rows, but several in columns (as shown above).\n"
      ],
      "id": "7273b21d"
    },
    {
      "cell_type": "code",
      "metadata": {},
      "source": [
        "pf.dtable(\n",
        "    data,\n",
        "    vars=[\"Y\", \"Y2\", \"X1\", \"X2\"],\n",
        "    labels=labels,\n",
        "    bycol=[\"country\"],\n",
        "    byrow=\"occupation\",\n",
        "    stats=[\"count\", \"mean\", \"std\"],\n",
        "    caption=\"Descriptive statistics\",\n",
        ")"
      ],
      "id": "8f46b537",
      "execution_count": null,
      "outputs": []
    },
    {
      "cell_type": "markdown",
      "metadata": {},
      "source": [
        "And you can again export descriptive statistics tables also to LaTex:\n"
      ],
      "id": "58855a0c"
    },
    {
      "cell_type": "code",
      "metadata": {},
      "source": [
        "dtab = pf.dtable(\n",
        "    data,\n",
        "    vars=[\"Y\", \"Y2\", \"X1\", \"X2\"],\n",
        "    labels=labels,\n",
        "    bycol=[\"country\"],\n",
        "    byrow=\"occupation\",\n",
        "    stats=[\"count\", \"mean\", \"std\"],\n",
        "    type=\"tex\",\n",
        ")\n",
        "\n",
        "run = False\n",
        "if run:\n",
        "    make_pdf(dtab, \"latexdocs/SampleTableDoc3\")\n",
        "display(FileLink(\"latexdocs/SampleTableDoc3.pdf\"))"
      ],
      "id": "b997b509",
      "execution_count": null,
      "outputs": []
    },
    {
      "cell_type": "markdown",
      "metadata": {},
      "source": [
        "# Table Layout for DataFrames with `pf.make_table()`\n",
        "\n",
        "`pf.make_table()` is called by `pf.etable()` and `pf.dtable()` to generate the tables in \"gt\" and \"tex\" format. But you can also use it directly to generate tables in the same layout from other pandas dataframes.\n",
        "\n",
        "## Basic Usage of make_table\n"
      ],
      "id": "792aa5dd"
    },
    {
      "cell_type": "code",
      "metadata": {},
      "source": [
        "df = pd.DataFrame(np.random.randn(4, 4).round(2), columns=[\"A\", \"B\", \"C\", \"D\"])\n",
        "\n",
        "# Make Booktabs style table\n",
        "pf.make_table(df=df, caption=\"This is a caption\", notes=\"These are notes\")"
      ],
      "id": "697b38b4",
      "execution_count": null,
      "outputs": []
    },
    {
      "cell_type": "markdown",
      "metadata": {},
      "source": [
        "## Mutiindex DataFrames\n",
        "When the respective dataframe has a mutiindex for the columns, columns spanners are generated from the index. The row index can also be a multiindex (of at most two levels). In this case the first index level is used to generate group rows (for instance using the index name as headline and separating the groups by a horizontal line) and the second index level is used to generate the row labels.\n"
      ],
      "id": "fc3fcfc7"
    },
    {
      "cell_type": "code",
      "metadata": {},
      "source": [
        "# Create a multiindex dataframe with random data\n",
        "row_index = pd.MultiIndex.from_tuples(\n",
        "    [\n",
        "        (\"Group 1\", \"Variable 1\"),\n",
        "        (\"Group 1\", \"Variable 2\"),\n",
        "        (\"Group 1\", \"Variable 3\"),\n",
        "        (\"Group 2\", \"Variable 4\"),\n",
        "        (\"Group 2\", \"Variable 5\"),\n",
        "        (\"Group 3\", \"Variable 6\"),\n",
        "    ]\n",
        ")\n",
        "\n",
        "col_index = pd.MultiIndex.from_product([[\"A\", \"B\"], [\"X\", \"Y\"], [\"High\", \"Low\"]])\n",
        "df = pd.DataFrame(np.random.randn(6, 8).round(3), index=row_index, columns=col_index)\n",
        "\n",
        "pf.make_table(df=df, caption=\"This is a caption\", notes=\"These are notes\")"
      ],
      "id": "1dd3d888",
      "execution_count": null,
      "outputs": []
    },
    {
      "cell_type": "markdown",
      "metadata": {},
      "source": [
        "You can also hide column group names: This just creates a table where variables on the second level of the row index are displayed in groups based on the first level separated by horizontal lines.\n"
      ],
      "id": "922f3b00"
    },
    {
      "cell_type": "code",
      "metadata": {},
      "source": [
        "pf.make_table(\n",
        "    df=df, caption=\"This is a caption\", notes=\"These are notes\", rgroup_display=False\n",
        ").tab_style(style=style.text(style=\"italic\"), locations=loc.body(rows=[1, 5]))"
      ],
      "id": "575afd69",
      "execution_count": null,
      "outputs": []
    },
    {
      "cell_type": "markdown",
      "metadata": {},
      "source": [
        "# Custom Styling with Great Tables\n",
        "You can use the rich set of methods offered by [Great Tables](https://posit-dev.github.io/great-tables/articles/intro.html) to further customize the table display when the type is \"gt\".\n",
        "\n",
        "## Example Styling\n"
      ],
      "id": "79b5136d"
    },
    {
      "cell_type": "code",
      "metadata": {},
      "source": [
        "(\n",
        "    pf.etable([fit1, fit2, fit3, fit4, fit5, fit6])\n",
        "    .tab_options(\n",
        "        column_labels_background_color=\"cornsilk\",\n",
        "        stub_background_color=\"whitesmoke\",\n",
        "    )\n",
        "    .tab_style(\n",
        "        style=style.fill(color=\"mistyrose\"),\n",
        "        locations=loc.body(columns=\"(3)\", rows=[\"X2\"]),\n",
        "    )\n",
        ")"
      ],
      "id": "adf65c78",
      "execution_count": null,
      "outputs": []
    },
    {
      "cell_type": "markdown",
      "metadata": {},
      "source": [
        "## Defining Table Styles: Some Examples\n",
        "\n",
        "You can easily define table styles that you can apply to all tables in your project. Just define a dictionary with the respective values for the tab options (see the [Great Tables documentation](https://posit-dev.github.io/great-tables/reference/GT.tab_options.html#great_tables.GT.tab_options)) and use the style with `.tab_options(**style_dict)`.\n"
      ],
      "id": "0787c805"
    },
    {
      "cell_type": "code",
      "metadata": {},
      "source": [
        "style_print = {\n",
        "    \"table_font_size\": \"12px\",\n",
        "    \"heading_title_font_size\": \"12px\",\n",
        "    \"source_notes_font_size\": \"8px\",\n",
        "    \"data_row_padding\": \"3px\",\n",
        "    \"column_labels_padding\": \"3px\",\n",
        "    \"row_group_border_top_style\": \"hidden\",\n",
        "    \"table_body_border_top_style\": \"None\",\n",
        "    \"table_body_border_bottom_width\": \"1px\",\n",
        "    \"column_labels_border_top_width\": \"1px\",\n",
        "    \"table_width\": \"14cm\",\n",
        "}\n",
        "\n",
        "\n",
        "style_presentation = {\n",
        "    \"table_font_size\": \"16px\",\n",
        "    \"table_font_color_light\": \"white\",\n",
        "    \"table_body_border_top_style\": \"hidden\",\n",
        "    \"table_body_border_bottom_style\": \"hidden\",\n",
        "    \"heading_title_font_size\": \"18px\",\n",
        "    \"source_notes_font_size\": \"12px\",\n",
        "    \"data_row_padding\": \"3px\",\n",
        "    \"column_labels_padding\": \"6px\",\n",
        "    \"column_labels_background_color\": \"midnightblue\",\n",
        "    \"stub_background_color\": \"whitesmoke\",\n",
        "    \"row_group_background_color\": \"whitesmoke\",\n",
        "    \"table_background_color\": \"whitesmoke\",\n",
        "    \"heading_background_color\": \"white\",\n",
        "    \"source_notes_background_color\": \"white\",\n",
        "    \"column_labels_border_bottom_color\": \"white\",\n",
        "    \"column_labels_font_weight\": \"bold\",\n",
        "    \"row_group_font_weight\": \"bold\",\n",
        "    \"table_width\": \"18cm\",\n",
        "}"
      ],
      "id": "1db18acc",
      "execution_count": null,
      "outputs": []
    },
    {
      "cell_type": "code",
      "metadata": {},
      "source": [
        "t1 = pf.dtable(\n",
        "    data,\n",
        "    vars=[\"Y\", \"Y2\", \"X1\", \"X2\"],\n",
        "    stats=[\"count\", \"mean\", \"std\", \"min\", \"max\"],\n",
        "    labels=labels,\n",
        "    caption=\"Descriptive statistics\",\n",
        ")\n",
        "\n",
        "t2 = pf.etable(\n",
        "    [fit1, fit2, fit3, fit4, fit5, fit6],\n",
        "    labels=labels,\n",
        "    show_se=False,\n",
        "    felabels={\"f1\": \"Industry Fixed Effects\", \"f2\": \"Year Fixed Effects\"},\n",
        "    caption=\"Regression results\",\n",
        ")"
      ],
      "id": "91d2110d",
      "execution_count": null,
      "outputs": []
    },
    {
      "cell_type": "code",
      "metadata": {},
      "source": [
        "display(t1.tab_options(**style_print))\n",
        "display(t2.tab_options(**style_print))"
      ],
      "id": "f69526ba",
      "execution_count": null,
      "outputs": []
    },
    {
      "cell_type": "code",
      "metadata": {},
      "source": [
        "style_printDouble = {\n",
        "    \"table_font_size\": \"12px\",\n",
        "    \"heading_title_font_size\": \"12px\",\n",
        "    \"source_notes_font_size\": \"8px\",\n",
        "    \"data_row_padding\": \"3px\",\n",
        "    \"column_labels_padding\": \"3px\",\n",
        "    \"table_body_border_bottom_style\": \"double\",\n",
        "    \"column_labels_border_top_style\": \"double\",\n",
        "    \"column_labels_border_bottom_width\": \"0.5px\",\n",
        "    \"row_group_border_top_style\": \"hidden\",\n",
        "    \"table_body_border_top_style\": \"None\",\n",
        "    \"table_width\": \"14cm\",\n",
        "}\n",
        "display(t1.tab_options(**style_printDouble))\n",
        "display(t2.tab_options(**style_printDouble))"
      ],
      "id": "15e8020e",
      "execution_count": null,
      "outputs": []
    }
  ],
  "metadata": {
    "kernelspec": {
      "name": "myenv",
      "language": "python",
      "display_name": "Python (myenv)",
      "path": "C:\\Users\\dirks\\AppData\\Roaming\\jupyter\\kernels\\myenv"
    }
  },
  "nbformat": 4,
  "nbformat_minor": 5
}
