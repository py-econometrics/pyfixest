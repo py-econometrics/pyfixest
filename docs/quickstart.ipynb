{
 "cells": [
  {
   "cell_type": "markdown",
   "metadata": {},
   "source": [
    "# Getting Started with PyFixest\n",
    "\n",
    "## What is a fixed effect model?\n",
    "\n",
    "A fixed effect model is a statistical model that includes fixed effects, which are parameters that are estimated to be constant across different groups. \n",
    "\n",
    "**Example [Panel Data]:** In the context of panel data, fixed effects are parameters that are constant across different individuals or time. The typical model example is given by the following equation:\n",
    "\n",
    "$$\n",
    "Y_{it} = \\beta X_{it} + \\alpha_i + \\psi_t + \\varepsilon_{it}\n",
    "$$\n",
    "\n",
    "where $Y_{it}$ is the dependent variable for individual $i$ at time $t$, $X_{it}$ is the independent variable, $\\beta$ is the coefficient of the independent variable, $\\alpha_i$ is the individual fixed effect, $\\psi_t$ is the time fixed effect, and $\\varepsilon_{it}$ is the error term. The individual fixed effect $\\alpha_i$ is a parameter that is constant across time for each individual, while the time fixed effect $\\psi_t$ is a parameter that is constant across individuals for each time period.\n",
    "\n",
    "Note however that, despite the fact that fixed effects are commonly used in panel setting, one does not need a panel data set to work with fixed effects. For example, cluster randomized trials with cluster fixed effects, or wage regressions with worker and firm fixed effects.\n",
    "\n",
    "In this \"quick start\" guide, we will show you how to estimate a fixed effect model using the `PyFixest` package. We do not go into the details of the theory behind fixed effect models, but we focus on how to estimate them using `PyFixest`."
   ]
  },
  {
   "cell_type": "markdown",
   "metadata": {},
   "source": [
    "## Read Sample Data\n",
    "\n",
    "In a first step, we load the module and some synthetic example data:"
   ]
  },
  {
   "cell_type": "code",
   "execution_count": 1,
   "metadata": {},
   "outputs": [
    {
     "data": {
      "text/html": [
       "\n",
       "            <div id=\"0mlFnD\"></div>\n",
       "            <script type=\"text/javascript\" data-lets-plot-script=\"library\">\n",
       "                if(!window.letsPlotCallQueue) {\n",
       "                    window.letsPlotCallQueue = [];\n",
       "                }; \n",
       "                window.letsPlotCall = function(f) {\n",
       "                    window.letsPlotCallQueue.push(f);\n",
       "                };\n",
       "                (function() {\n",
       "                    var script = document.createElement(\"script\");\n",
       "                    script.type = \"text/javascript\";\n",
       "                    script.src = \"https://cdn.jsdelivr.net/gh/JetBrains/lets-plot@v4.3.3/js-package/distr/lets-plot.min.js\";\n",
       "                    script.onload = function() {\n",
       "                        window.letsPlotCall = function(f) {f();};\n",
       "                        window.letsPlotCallQueue.forEach(function(f) {f();});\n",
       "                        window.letsPlotCallQueue = [];\n",
       "                        \n",
       "                    };\n",
       "                    script.onerror = function(event) {\n",
       "                        window.letsPlotCall = function(f) {};    // noop\n",
       "                        window.letsPlotCallQueue = [];\n",
       "                        var div = document.createElement(\"div\");\n",
       "                        div.style.color = 'darkred';\n",
       "                        div.textContent = 'Error loading Lets-Plot JS';\n",
       "                        document.getElementById(\"0mlFnD\").appendChild(div);\n",
       "                    };\n",
       "                    var e = document.getElementById(\"0mlFnD\");\n",
       "                    e.appendChild(script);\n",
       "                })()\n",
       "            </script>\n",
       "            "
      ]
     },
     "metadata": {},
     "output_type": "display_data"
    },
    {
     "data": {
      "text/html": [
       "\n",
       "            <div id=\"MxI2ON\"></div>\n",
       "            <script type=\"text/javascript\" data-lets-plot-script=\"library\">\n",
       "                if(!window.letsPlotCallQueue) {\n",
       "                    window.letsPlotCallQueue = [];\n",
       "                }; \n",
       "                window.letsPlotCall = function(f) {\n",
       "                    window.letsPlotCallQueue.push(f);\n",
       "                };\n",
       "                (function() {\n",
       "                    var script = document.createElement(\"script\");\n",
       "                    script.type = \"text/javascript\";\n",
       "                    script.src = \"https://cdn.jsdelivr.net/gh/JetBrains/lets-plot@v4.3.3/js-package/distr/lets-plot.min.js\";\n",
       "                    script.onload = function() {\n",
       "                        window.letsPlotCall = function(f) {f();};\n",
       "                        window.letsPlotCallQueue.forEach(function(f) {f();});\n",
       "                        window.letsPlotCallQueue = [];\n",
       "                        \n",
       "                    };\n",
       "                    script.onerror = function(event) {\n",
       "                        window.letsPlotCall = function(f) {};    // noop\n",
       "                        window.letsPlotCallQueue = [];\n",
       "                        var div = document.createElement(\"div\");\n",
       "                        div.style.color = 'darkred';\n",
       "                        div.textContent = 'Error loading Lets-Plot JS';\n",
       "                        document.getElementById(\"MxI2ON\").appendChild(div);\n",
       "                    };\n",
       "                    var e = document.getElementById(\"MxI2ON\");\n",
       "                    e.appendChild(script);\n",
       "                })()\n",
       "            </script>\n",
       "            "
      ]
     },
     "metadata": {},
     "output_type": "display_data"
    },
    {
     "data": {
      "text/html": [
       "\n",
       "            <div id=\"7tI4j8\"></div>\n",
       "            <script type=\"text/javascript\" data-lets-plot-script=\"library\">\n",
       "                if(!window.letsPlotCallQueue) {\n",
       "                    window.letsPlotCallQueue = [];\n",
       "                }; \n",
       "                window.letsPlotCall = function(f) {\n",
       "                    window.letsPlotCallQueue.push(f);\n",
       "                };\n",
       "                (function() {\n",
       "                    var script = document.createElement(\"script\");\n",
       "                    script.type = \"text/javascript\";\n",
       "                    script.src = \"https://cdn.jsdelivr.net/gh/JetBrains/lets-plot@v4.3.3/js-package/distr/lets-plot.min.js\";\n",
       "                    script.onload = function() {\n",
       "                        window.letsPlotCall = function(f) {f();};\n",
       "                        window.letsPlotCallQueue.forEach(function(f) {f();});\n",
       "                        window.letsPlotCallQueue = [];\n",
       "                        \n",
       "                    };\n",
       "                    script.onerror = function(event) {\n",
       "                        window.letsPlotCall = function(f) {};    // noop\n",
       "                        window.letsPlotCallQueue = [];\n",
       "                        var div = document.createElement(\"div\");\n",
       "                        div.style.color = 'darkred';\n",
       "                        div.textContent = 'Error loading Lets-Plot JS';\n",
       "                        document.getElementById(\"7tI4j8\").appendChild(div);\n",
       "                    };\n",
       "                    var e = document.getElementById(\"7tI4j8\");\n",
       "                    e.appendChild(script);\n",
       "                })()\n",
       "            </script>\n",
       "            "
      ]
     },
     "metadata": {},
     "output_type": "display_data"
    },
    {
     "name": "stdout",
     "output_type": "stream",
     "text": [
      "matplotlib: 3.9.1\n",
      "pandas    : 2.2.2\n",
      "pyfixest  : 0.22.0\n",
      "numpy     : 2.0.1\n",
      "scipy     : 1.14.0\n",
      "\n"
     ]
    }
   ],
   "source": [
    "import numpy as np\n",
    "import matplotlib.pyplot as plt\n",
    "import pandas as pd\n",
    "from lets_plot import LetsPlot\n",
    "\n",
    "import pyfixest as pf\n",
    "from pyfixest.did.estimation import did2s\n",
    "from pyfixest.did.event_study import event_study\n",
    "\n",
    "LetsPlot.setup_html()\n",
    "\n",
    "plt.style.use(\"seaborn-v0_8\")\n",
    "\n",
    "%load_ext autoreload\n",
    "%autoreload 2\n",
    "%load_ext watermark\n",
    "%config InlineBackend.figure_format = \"retina\"\n",
    "%watermark --iversions"
   ]
  },
  {
   "cell_type": "code",
   "execution_count": 2,
   "metadata": {},
   "outputs": [
    {
     "data": {
      "text/html": [
       "<div>\n",
       "<style scoped>\n",
       "    .dataframe tbody tr th:only-of-type {\n",
       "        vertical-align: middle;\n",
       "    }\n",
       "\n",
       "    .dataframe tbody tr th {\n",
       "        vertical-align: top;\n",
       "    }\n",
       "\n",
       "    .dataframe thead th {\n",
       "        text-align: right;\n",
       "    }\n",
       "</style>\n",
       "<table border=\"1\" class=\"dataframe\">\n",
       "  <thead>\n",
       "    <tr style=\"text-align: right;\">\n",
       "      <th></th>\n",
       "      <th>Y</th>\n",
       "      <th>Y2</th>\n",
       "      <th>X1</th>\n",
       "      <th>X2</th>\n",
       "      <th>f1</th>\n",
       "      <th>f2</th>\n",
       "      <th>f3</th>\n",
       "      <th>group_id</th>\n",
       "      <th>Z1</th>\n",
       "      <th>Z2</th>\n",
       "      <th>weights</th>\n",
       "    </tr>\n",
       "  </thead>\n",
       "  <tbody>\n",
       "    <tr>\n",
       "      <th>0</th>\n",
       "      <td>NaN</td>\n",
       "      <td>2.357103</td>\n",
       "      <td>0.0</td>\n",
       "      <td>0.457858</td>\n",
       "      <td>15.0</td>\n",
       "      <td>0.0</td>\n",
       "      <td>7.0</td>\n",
       "      <td>9.0</td>\n",
       "      <td>-0.330607</td>\n",
       "      <td>1.054826</td>\n",
       "      <td>0.661478</td>\n",
       "    </tr>\n",
       "    <tr>\n",
       "      <th>1</th>\n",
       "      <td>-1.458643</td>\n",
       "      <td>5.163147</td>\n",
       "      <td>NaN</td>\n",
       "      <td>-4.998406</td>\n",
       "      <td>6.0</td>\n",
       "      <td>21.0</td>\n",
       "      <td>4.0</td>\n",
       "      <td>8.0</td>\n",
       "      <td>NaN</td>\n",
       "      <td>-4.113690</td>\n",
       "      <td>0.772732</td>\n",
       "    </tr>\n",
       "    <tr>\n",
       "      <th>2</th>\n",
       "      <td>0.169132</td>\n",
       "      <td>0.751140</td>\n",
       "      <td>2.0</td>\n",
       "      <td>1.558480</td>\n",
       "      <td>NaN</td>\n",
       "      <td>1.0</td>\n",
       "      <td>7.0</td>\n",
       "      <td>16.0</td>\n",
       "      <td>1.207778</td>\n",
       "      <td>0.465282</td>\n",
       "      <td>0.990929</td>\n",
       "    </tr>\n",
       "    <tr>\n",
       "      <th>3</th>\n",
       "      <td>3.319513</td>\n",
       "      <td>-2.656368</td>\n",
       "      <td>1.0</td>\n",
       "      <td>1.560402</td>\n",
       "      <td>1.0</td>\n",
       "      <td>10.0</td>\n",
       "      <td>11.0</td>\n",
       "      <td>3.0</td>\n",
       "      <td>2.869997</td>\n",
       "      <td>0.467570</td>\n",
       "      <td>0.021123</td>\n",
       "    </tr>\n",
       "    <tr>\n",
       "      <th>4</th>\n",
       "      <td>0.134420</td>\n",
       "      <td>-1.866416</td>\n",
       "      <td>2.0</td>\n",
       "      <td>-3.472232</td>\n",
       "      <td>19.0</td>\n",
       "      <td>20.0</td>\n",
       "      <td>6.0</td>\n",
       "      <td>14.0</td>\n",
       "      <td>0.835819</td>\n",
       "      <td>-3.115669</td>\n",
       "      <td>0.790815</td>\n",
       "    </tr>\n",
       "  </tbody>\n",
       "</table>\n",
       "</div>"
      ],
      "text/plain": [
       "          Y        Y2   X1        X2    f1    f2    f3  group_id        Z1  \\\n",
       "0       NaN  2.357103  0.0  0.457858  15.0   0.0   7.0       9.0 -0.330607   \n",
       "1 -1.458643  5.163147  NaN -4.998406   6.0  21.0   4.0       8.0       NaN   \n",
       "2  0.169132  0.751140  2.0  1.558480   NaN   1.0   7.0      16.0  1.207778   \n",
       "3  3.319513 -2.656368  1.0  1.560402   1.0  10.0  11.0       3.0  2.869997   \n",
       "4  0.134420 -1.866416  2.0 -3.472232  19.0  20.0   6.0      14.0  0.835819   \n",
       "\n",
       "         Z2   weights  \n",
       "0  1.054826  0.661478  \n",
       "1 -4.113690  0.772732  \n",
       "2  0.465282  0.990929  \n",
       "3  0.467570  0.021123  \n",
       "4 -3.115669  0.790815  "
      ]
     },
     "execution_count": 2,
     "metadata": {},
     "output_type": "execute_result"
    }
   ],
   "source": [
    "data = pf.get_data()\n",
    "\n",
    "data.head()"
   ]
  },
  {
   "cell_type": "code",
   "execution_count": 3,
   "metadata": {},
   "outputs": [
    {
     "name": "stdout",
     "output_type": "stream",
     "text": [
      "<class 'pandas.core.frame.DataFrame'>\n",
      "RangeIndex: 1000 entries, 0 to 999\n",
      "Data columns (total 11 columns):\n",
      " #   Column    Non-Null Count  Dtype  \n",
      "---  ------    --------------  -----  \n",
      " 0   Y         999 non-null    float64\n",
      " 1   Y2        1000 non-null   float64\n",
      " 2   X1        999 non-null    float64\n",
      " 3   X2        1000 non-null   float64\n",
      " 4   f1        999 non-null    float64\n",
      " 5   f2        1000 non-null   float64\n",
      " 6   f3        1000 non-null   float64\n",
      " 7   group_id  1000 non-null   float64\n",
      " 8   Z1        999 non-null    float64\n",
      " 9   Z2        1000 non-null   float64\n",
      " 10  weights   1000 non-null   float64\n",
      "dtypes: float64(11)\n",
      "memory usage: 86.1 KB\n"
     ]
    }
   ],
   "source": [
    "data.info()"
   ]
  },
  {
   "cell_type": "markdown",
   "metadata": {},
   "source": [
    "We see that some of our columns have missing data."
   ]
  },
  {
   "cell_type": "markdown",
   "metadata": {},
   "source": [
    "## OLS Estimation"
   ]
  },
  {
   "cell_type": "markdown",
   "metadata": {},
   "source": [
    "We are interested in the relation between the dependent variable `Y` and the independent variables `X1` using a fixed effect model for `group_id`. Let's see how the data looks like:"
   ]
  },
  {
   "cell_type": "code",
   "execution_count": 4,
   "metadata": {},
   "outputs": [
    {
     "data": {
      "image/png": "[encoded data removed]",
      "text/plain": [
       "<Figure size 800x550 with 2 Axes>"
      ]
     },
     "metadata": {
      "image/png": {
       "height": 491,
       "width": 660
      }
     },
     "output_type": "display_data"
    }
   ],
   "source": [
    "ax = data.plot(kind=\"scatter\", x=\"X1\", y=\"Y\", c=\"group_id\", colormap=\"viridis\")"
   ]
  },
  {
   "cell_type": "markdown",
   "metadata": {},
   "source": [
    "We can estimate a fixed effects regression via the `feols()` function. `feols()` has three arguments: a two-sided model formula, the data, and optionally, the type of inference."
   ]
  },
  {
   "cell_type": "code",
   "execution_count": 5,
   "metadata": {},
   "outputs": [
    {
     "data": {
      "text/plain": [
       "pyfixest.estimation.feols_.Feols"
      ]
     },
     "execution_count": 5,
     "metadata": {},
     "output_type": "execute_result"
    }
   ],
   "source": [
    "fit = pf.feols(fml=\"Y ~ X1 | group_id\", data=data, vcov=\"HC1\")\n",
    "type(fit)"
   ]
  },
  {
   "cell_type": "markdown",
   "metadata": {},
   "source": [
    "The first part of the formula contains the dependent variable and \"regular\" covariates, while the second part contains fixed effects.\n",
    "\n",
    "`feols()` returns an instance of the `Fixest` class."
   ]
  },
  {
   "cell_type": "markdown",
   "metadata": {},
   "source": [
    "To inspect the results, we can use a summary function or method:"
   ]
  },
  {
   "cell_type": "code",
   "execution_count": 6,
   "metadata": {},
   "outputs": [
    {
     "name": "stdout",
     "output_type": "stream",
     "text": [
      "###\n",
      "\n",
      "Estimation:  OLS\n",
      "Dep. var.: Y, Fixed effects: group_id\n",
      "Inference:  HC1\n",
      "Observations:  998\n",
      "\n",
      "| Coefficient   |   Estimate |   Std. Error |   t value |   Pr(>|t|) |   2.5% |   97.5% |\n",
      "|:--------------|-----------:|-------------:|----------:|-----------:|-------:|--------:|\n",
      "| X1            |     -1.019 |        0.082 |   -12.358 |      0.000 | -1.181 |  -0.857 |\n",
      "---\n",
      "RMSE: 2.141 R2: 0.137 R2 Within: 0.126 \n"
     ]
    }
   ],
   "source": [
    "fit.summary()"
   ]
  },
  {
   "cell_type": "markdown",
   "metadata": {},
   "source": [
    "Alternatively, the `.summarize` module contains a `summary` function, which can be applied on instances of regression model objects \n",
    "or lists of regression model objects. "
   ]
  },
  {
   "cell_type": "code",
   "execution_count": 7,
   "metadata": {},
   "outputs": [
    {
     "name": "stdout",
     "output_type": "stream",
     "text": [
      "###\n",
      "\n",
      "Estimation:  OLS\n",
      "Dep. var.: Y, Fixed effects: group_id\n",
      "Inference:  HC1\n",
      "Observations:  998\n",
      "\n",
      "| Coefficient   |   Estimate |   Std. Error |   t value |   Pr(>|t|) |   2.5% |   97.5% |\n",
      "|:--------------|-----------:|-------------:|----------:|-----------:|-------:|--------:|\n",
      "| X1            |     -1.019 |        0.082 |   -12.358 |      0.000 | -1.181 |  -0.857 |\n",
      "---\n",
      "RMSE: 2.141 R2: 0.137 R2 Within: 0.126 \n"
     ]
    }
   ],
   "source": [
    "pf.summary(fit)"
   ]
  },
  {
   "cell_type": "markdown",
   "metadata": {},
   "source": [
    "You can access individual elements of the summary via dedicated methods: `.tidy()` returns a \"tidy\" `pd.DataFrame`, \n",
    "`.coef()` returns estimated parameters, and `se()` estimated standard errors. Other methods include `pvalue()`, `confint()`\n",
    "and `tstat()`."
   ]
  },
  {
   "cell_type": "code",
   "execution_count": 8,
   "metadata": {},
   "outputs": [
    {
     "data": {
      "text/plain": [
       "Coefficient\n",
       "X1   -1.019009\n",
       "Name: Estimate, dtype: float64"
      ]
     },
     "execution_count": 8,
     "metadata": {},
     "output_type": "execute_result"
    }
   ],
   "source": [
    "fit.coef()"
   ]
  },
  {
   "cell_type": "code",
   "execution_count": 9,
   "metadata": {},
   "outputs": [
    {
     "data": {
      "text/plain": [
       "Coefficient\n",
       "X1    0.082457\n",
       "Name: Std. Error, dtype: float64"
      ]
     },
     "execution_count": 9,
     "metadata": {},
     "output_type": "execute_result"
    }
   ],
   "source": [
    "fit.se()"
   ]
  },
  {
   "cell_type": "markdown",
   "metadata": {},
   "source": [
    "## How to interpret the results?\n",
    "\n",
    "Let's have a quick d-tour on the intuition behind fixed effects models using the example above. To do so, let us begin by comparing it with a simple OLS model."
   ]
  },
  {
   "cell_type": "code",
   "execution_count": 10,
   "metadata": {},
   "outputs": [
    {
     "name": "stdout",
     "output_type": "stream",
     "text": [
      "###\n",
      "\n",
      "Estimation:  OLS\n",
      "Dep. var.: Y, Fixed effects: \n",
      "Inference:  HC1\n",
      "Observations:  998\n",
      "\n",
      "| Coefficient   |   Estimate |   Std. Error |   t value |   Pr(>|t|) |   2.5% |   97.5% |\n",
      "|:--------------|-----------:|-------------:|----------:|-----------:|-------:|--------:|\n",
      "| Intercept     |      0.919 |        0.112 |     8.227 |      0.000 |  0.699 |   1.138 |\n",
      "| X1            |     -1.000 |        0.082 |   -12.140 |      0.000 | -1.162 |  -0.838 |\n",
      "---\n",
      "RMSE: 2.158 R2: 0.123 \n"
     ]
    }
   ],
   "source": [
    "fit_simple = pf.feols(\"Y ~ X1\", data=data, vcov=\"HC1\")\n",
    "\n",
    "fit_simple.summary()"
   ]
  },
  {
   "cell_type": "markdown",
   "metadata": {},
   "source": [
    "We see that the `X1` coefficient is `-1.0`, which is less than the value from the OLS model above (which was `0.949`). Where is the difference coming from?\n",
    "Well, in the fixed effect model we are interested in controlling for the feature `group_id`. One possibility to do this is by adding a simple dummy variable for each level of `group_id`."
   ]
  },
  {
   "cell_type": "code",
   "execution_count": 11,
   "metadata": {},
   "outputs": [
    {
     "name": "stdout",
     "output_type": "stream",
     "text": [
      "###\n",
      "\n",
      "Estimation:  OLS\n",
      "Dep. var.: Y, Fixed effects: \n",
      "Inference:  HC1\n",
      "Observations:  998\n",
      "\n",
      "| Coefficient         |   Estimate |   Std. Error |   t value |   Pr(>|t|) |   2.5% |   97.5% |\n",
      "|:--------------------|-----------:|-------------:|----------:|-----------:|-------:|--------:|\n",
      "| Intercept           |      0.760 |        0.288 |     2.642 |      0.008 |  0.195 |   1.325 |\n",
      "| X1                  |     -1.019 |        0.083 |   -12.240 |      0.000 | -1.182 |  -0.856 |\n",
      "| C(group_id)[T.1.0]  |      0.380 |        0.450 |     0.844 |      0.399 | -0.504 |   1.264 |\n",
      "| C(group_id)[T.2.0]  |      0.084 |        0.389 |     0.216 |      0.829 | -0.679 |   0.848 |\n",
      "| C(group_id)[T.3.0]  |      0.790 |        0.415 |     1.905 |      0.057 | -0.024 |   1.604 |\n",
      "| C(group_id)[T.4.0]  |     -0.189 |        0.387 |    -0.488 |      0.626 | -0.949 |   0.571 |\n",
      "| C(group_id)[T.5.0]  |      0.537 |        0.387 |     1.386 |      0.166 | -0.223 |   1.297 |\n",
      "| C(group_id)[T.6.0]  |      0.307 |        0.397 |     0.772 |      0.440 | -0.473 |   1.087 |\n",
      "| C(group_id)[T.7.0]  |      0.015 |        0.422 |     0.035 |      0.972 | -0.814 |   0.844 |\n",
      "| C(group_id)[T.8.0]  |      0.382 |        0.406 |     0.941 |      0.347 | -0.415 |   1.179 |\n",
      "| C(group_id)[T.9.0]  |      0.219 |        0.417 |     0.526 |      0.599 | -0.598 |   1.037 |\n",
      "| C(group_id)[T.10.0] |     -0.363 |        0.422 |    -0.861 |      0.389 | -1.191 |   0.464 |\n",
      "| C(group_id)[T.11.0] |      0.201 |        0.387 |     0.520 |      0.603 | -0.558 |   0.961 |\n",
      "| C(group_id)[T.12.0] |     -0.110 |        0.410 |    -0.269 |      0.788 | -0.914 |   0.694 |\n",
      "| C(group_id)[T.13.0] |      0.126 |        0.439 |     0.287 |      0.774 | -0.736 |   0.988 |\n",
      "| C(group_id)[T.14.0] |      0.353 |        0.416 |     0.848 |      0.397 | -0.464 |   1.170 |\n",
      "| C(group_id)[T.15.0] |      0.469 |        0.397 |     1.179 |      0.239 | -0.311 |   1.248 |\n",
      "| C(group_id)[T.16.0] |     -0.135 |        0.396 |    -0.340 |      0.734 | -0.912 |   0.643 |\n",
      "| C(group_id)[T.17.0] |     -0.005 |        0.401 |    -0.013 |      0.989 | -0.792 |   0.781 |\n",
      "| C(group_id)[T.18.0] |      0.283 |        0.403 |     0.702 |      0.483 | -0.508 |   1.074 |\n",
      "---\n",
      "RMSE: 2.141 R2: 0.137 \n"
     ]
    }
   ],
   "source": [
    "fit_dummy = pf.feols(\"Y ~ X1 + C(group_id) \", data=data, vcov=\"HC1\")\n",
    "\n",
    "fit_dummy.summary()"
   ]
  },
  {
   "cell_type": "markdown",
   "metadata": {},
   "source": [
    "This is does not scale well! Imagine you have 1000 different levels of `group_id`. You would need to add 1000 dummy variables to your model. This is where fixed effect models come in handy. They allow you to control for these fixed effects without adding all these dummy variables. The way to do it is by a *demeaning procedure*. The idea is to subtract the average value of each level of `group_id` from the respective observations. This way, we control for the fixed effects without adding all these dummy variables. Let's try to do this manually:"
   ]
  },
  {
   "cell_type": "code",
   "execution_count": 12,
   "metadata": {},
   "outputs": [
    {
     "name": "stdout",
     "output_type": "stream",
     "text": [
      "###\n",
      "\n",
      "Estimation:  OLS\n",
      "Dep. var.: Y_demeaned, Fixed effects: \n",
      "Inference:  HC1\n",
      "Observations:  998\n",
      "\n",
      "| Coefficient   |   Estimate |   Std. Error |   t value |   Pr(>|t|) |   2.5% |   97.5% |\n",
      "|:--------------|-----------:|-------------:|----------:|-----------:|-------:|--------:|\n",
      "| Intercept     |      0.003 |        0.068 |     0.041 |      0.968 | -0.130 |   0.136 |\n",
      "| X1_demeaned   |     -1.019 |        0.083 |   -12.351 |      0.000 | -1.181 |  -0.857 |\n",
      "---\n",
      "RMSE: 2.141 R2: 0.126 \n"
     ]
    }
   ],
   "source": [
    "def _demean_column(df: pd.DataFrame, column: str, by: str) -> pd.Series:\n",
    "    return df[column] - df.groupby(by)[column].transform(\"mean\")\n",
    "\n",
    "\n",
    "fit_demeaned = pf.feols(\n",
    "    fml=\"Y_demeaned ~ X1_demeaned\",\n",
    "    data=data.assign(\n",
    "        Y_demeaned=lambda df: _demean_column(df, \"Y\", \"group_id\"),\n",
    "        X1_demeaned=lambda df: _demean_column(df, \"X1\", \"group_id\"),\n",
    "    ),\n",
    "    vcov=\"HC1\",\n",
    ")\n",
    "\n",
    "fit_demeaned.summary()"
   ]
  },
  {
   "cell_type": "markdown",
   "metadata": {},
   "source": [
    "We get the same results as the fixed effect model `Y1 ~ X | group_id` above. The `PyFixest` package uses a more efficient algorithm to estimate the fixed effect model, but the intuition is the same."
   ]
  },
  {
   "cell_type": "markdown",
   "metadata": {},
   "source": [
    "**Updating Coefficients**\n",
    "\n",
    "You can update the coefficients of a model object via the `update()` method, which may be useful in an online learning setting where data arrives sequentially. \n",
    "\n",
    "To see this in action, let us first fit a model on a subset of the data:"
   ]
  },
  {
   "cell_type": "code",
   "execution_count": 13,
   "metadata": {},
   "outputs": [
    {
     "data": {
      "text/plain": [
       "array([ 0.88415656, -1.03517377, -0.17413106])"
      ]
     },
     "execution_count": 13,
     "metadata": {},
     "output_type": "execute_result"
    }
   ],
   "source": [
    "data_subsample = data.sample(frac=0.5)\n",
    "m = pf.feols(\"Y ~ X1 + X2\", data=data_subsample)\n",
    "# current coefficient vector\n",
    "m._beta_hat"
   ]
  },
  {
   "cell_type": "markdown",
   "metadata": {},
   "source": [
    "Then sample 5 new observations and update the model with the new data. The update rule is \n",
    "\n",
    "$$\n",
    "\\hat{\\beta}_{n+1} = \\hat{\\beta}_n + (X_{n+1}' X_{n+1})^{-1} x_{n+1} + (y_{n+1} - x_{n+1} \\hat{\\beta}_n) \n",
    "$$\n",
    "\n",
    "for a new observation $(x_{n+1}, y_{n+1})$."
   ]
  },
  {
   "cell_type": "code",
   "execution_count": 14,
   "metadata": {},
   "outputs": [
    {
     "data": {
      "text/plain": [
       "array([ 0.89484321, -1.02393992, -0.17179176])"
      ]
     },
     "execution_count": 14,
     "metadata": {},
     "output_type": "execute_result"
    }
   ],
   "source": [
    "new_points_id = np.random.choice(list(set(data.index) - set(data_subsample.index)), 5)\n",
    "X_new, y_new = (\n",
    "    np.c_[np.ones(len(new_points_id)), data.loc[new_points_id][[\"X1\", \"X2\"]].values],\n",
    "    data.loc[new_points_id][\"Y\"].values,\n",
    ")\n",
    "m.update(X_new, y_new)"
   ]
  },
  {
   "cell_type": "markdown",
   "metadata": {},
   "source": [
    "We verify that we get the same results if we had estimated the model on the appended data."
   ]
  },
  {
   "cell_type": "code",
   "execution_count": 15,
   "metadata": {},
   "outputs": [
    {
     "data": {
      "text/plain": [
       "array([ 0.89484321, -1.02393992, -0.17179176])"
      ]
     },
     "execution_count": 15,
     "metadata": {},
     "output_type": "execute_result"
    }
   ],
   "source": [
    "pf.feols(\n",
    "    \"Y ~ X1 + X2\", data=data.loc[data_subsample.index.append(pd.Index(new_points_id))]\n",
    ").coef().values"
   ]
  },
  {
   "cell_type": "markdown",
   "metadata": {},
   "source": [
    "## Standard Errors and Inference"
   ]
  },
  {
   "cell_type": "markdown",
   "metadata": {},
   "source": [
    "Supported covariance types are \"iid\", \"HC1-3\", CRV1 and CRV3 (up to two-way clustering).\n",
    "\n",
    "**Why do we have so many different types of standard errors?**\n",
    "\n",
    "The standard errors of the coefficients are crucial for inference. They tell us how certain we can be about the estimated coefficients. In the presence of heteroskedasticity (a situation which typically arises with cross-sectional data), the standard OLS standard errors are biased. The `pyfixest` package provides several types of standard errors that are robust to heteroskedasticity.\n",
    "\n",
    "- `iid`: assumes that the error variance is spherical, i.e. errors are homoskedastic and not correlated (independent and identically distributed errors have a spherical error variance).\n",
    "- `HC1-3`: heteroskedasticity-robust standard errors according to White (1980) and MacKinnon and White (1985). See [Econometric Computing with HC and HAC\n",
    "Covariance Matrix Estimators](https://cran.r-project.org/web/packages/sandwich/vignettes/sandwich.pdf) from the [`sandwich`](https://cran.r-project.org/web/packages/sandwich/) package for more details.\n",
    "- `CRV1` and `CRV3`: cluster robust standard errors according to Cameron, Gelbach, and Miller (2011). See [A Practitioner’s Guide to Cluster-Robust Inference](https://cameron.econ.ucdavis.edu/research/Cameron_Miller_JHR_2015_February.pdf).  For   `CRV1` and `CRV3` one should pass a dictionaty of the form `{\"CRV1\": \"clustervar\"}`. "
   ]
  },
  {
   "cell_type": "markdown",
   "metadata": {},
   "source": [
    "Inference can be adjusted \"on-the-fly\" via the `.vcov()` method:"
   ]
  },
  {
   "cell_type": "code",
   "execution_count": 13,
   "metadata": {},
   "outputs": [
    {
     "name": "stdout",
     "output_type": "stream",
     "text": [
      "###\n",
      "\n",
      "Estimation:  OLS\n",
      "Dep. var.: Y, Fixed effects: group_id\n",
      "Inference:  CRV1\n",
      "Observations:  998\n",
      "\n",
      "| Coefficient   |   Estimate |   Std. Error |   t value |   Pr(>|t|) |   2.5% |   97.5% |\n",
      "|:--------------|-----------:|-------------:|----------:|-----------:|-------:|--------:|\n",
      "| X1            |     -1.019 |        0.121 |    -8.450 |      0.000 | -1.272 |  -0.766 |\n",
      "---\n",
      "RMSE: 2.141 R2: 0.137 R2 Within: 0.126 \n",
      "###\n",
      "\n",
      "Estimation:  OLS\n",
      "Dep. var.: Y, Fixed effects: group_id\n",
      "Inference:  CRV3\n",
      "Observations:  998\n",
      "\n",
      "| Coefficient   |   Estimate |   Std. Error |   t value |   Pr(>|t|) |   2.5% |   97.5% |\n",
      "|:--------------|-----------:|-------------:|----------:|-----------:|-------:|--------:|\n",
      "| X1            |     -1.019 |        0.125 |    -8.179 |      0.000 | -1.281 |  -0.757 |\n",
      "---\n",
      "RMSE: 2.141 R2: 0.137 R2 Within: 0.126 \n"
     ]
    }
   ],
   "source": [
    "fit.vcov({\"CRV1\": \"group_id + f2\"}).summary()\n",
    "\n",
    "fit.vcov({\"CRV3\": \"group_id\"}).summary()"
   ]
  },
  {
   "cell_type": "markdown",
   "metadata": {},
   "source": [
    "The estimated covariance matrix is available as an attribute of the `Feols` object called `._vcov`."
   ]
  },
  {
   "cell_type": "markdown",
   "metadata": {},
   "source": [
    "**Inference via the Wild Bootstrap**"
   ]
  },
  {
   "cell_type": "markdown",
   "metadata": {},
   "source": [
    "It is also possible to run a wild (cluster) bootstrap after estimation (via the [wildboottest module](https://github.com/py-econometrics/wildboottest), see [MacKinnon, J. G., Nielsen, M. Ø., & Webb, M. D. (2023). Fast and reliable jackknife and bootstrap methods for cluster-robust inference. Journal of Applied Econometrics, 38(5), 671–694.](http://qed.econ.queensu.ca/pub/faculty/mackinnon/working-papers/qed_wp_1485.pdf)):"
   ]
  },
  {
   "cell_type": "code",
   "execution_count": 14,
   "metadata": {},
   "outputs": [
    {
     "data": {
      "text/plain": [
       "param                             X1\n",
       "t value           -8.567586579080423\n",
       "Pr(>|t|)                         0.0\n",
       "bootstrap_type                    11\n",
       "inference              CRV(group_id)\n",
       "impose_null                     True\n",
       "dtype: object"
      ]
     },
     "execution_count": 14,
     "metadata": {},
     "output_type": "execute_result"
    }
   ],
   "source": [
    "fit2 = pf.feols(fml=\"Y ~ X1\", data=data, vcov={\"CRV1\": \"group_id\"})\n",
    "fit2.wildboottest(param=\"X1\", reps=999)"
   ]
  },
  {
   "cell_type": "markdown",
   "metadata": {},
   "source": [
    "**The Causal Cluster Variance Estimator**"
   ]
  },
  {
   "cell_type": "markdown",
   "metadata": {},
   "source": [
    "Additionally, `PyFixest` supports the causal cluster variance estimator following [Abadie et al. (2023)](https://academic.oup.com/qje/article/138/1/1/6750017). Let's look into it with another data set:"
   ]
  },
  {
   "cell_type": "code",
   "execution_count": 15,
   "metadata": {},
   "outputs": [
    {
     "data": {
      "text/html": [
       "<div>\n",
       "<style scoped>\n",
       "    .dataframe tbody tr th:only-of-type {\n",
       "        vertical-align: middle;\n",
       "    }\n",
       "\n",
       "    .dataframe tbody tr th {\n",
       "        vertical-align: top;\n",
       "    }\n",
       "\n",
       "    .dataframe thead th {\n",
       "        text-align: right;\n",
       "    }\n",
       "</style>\n",
       "<table border=\"1\" class=\"dataframe\">\n",
       "  <thead>\n",
       "    <tr style=\"text-align: right;\">\n",
       "      <th></th>\n",
       "      <th>ln_earnings</th>\n",
       "      <th>educ</th>\n",
       "      <th>hours</th>\n",
       "      <th>state</th>\n",
       "      <th>college</th>\n",
       "    </tr>\n",
       "  </thead>\n",
       "  <tbody>\n",
       "    <tr>\n",
       "      <th>0</th>\n",
       "      <td>11.91839</td>\n",
       "      <td>18.0</td>\n",
       "      <td>50.0</td>\n",
       "      <td>44.0</td>\n",
       "      <td>1.0</td>\n",
       "    </tr>\n",
       "    <tr>\n",
       "      <th>1</th>\n",
       "      <td>11.48247</td>\n",
       "      <td>11.0</td>\n",
       "      <td>42.0</td>\n",
       "      <td>44.0</td>\n",
       "      <td>0.0</td>\n",
       "    </tr>\n",
       "    <tr>\n",
       "      <th>2</th>\n",
       "      <td>10.46310</td>\n",
       "      <td>12.0</td>\n",
       "      <td>42.0</td>\n",
       "      <td>44.0</td>\n",
       "      <td>0.0</td>\n",
       "    </tr>\n",
       "    <tr>\n",
       "      <th>3</th>\n",
       "      <td>10.22194</td>\n",
       "      <td>13.0</td>\n",
       "      <td>40.0</td>\n",
       "      <td>44.0</td>\n",
       "      <td>1.0</td>\n",
       "    </tr>\n",
       "    <tr>\n",
       "      <th>4</th>\n",
       "      <td>9.21034</td>\n",
       "      <td>13.0</td>\n",
       "      <td>8.0</td>\n",
       "      <td>44.0</td>\n",
       "      <td>1.0</td>\n",
       "    </tr>\n",
       "  </tbody>\n",
       "</table>\n",
       "</div>"
      ],
      "text/plain": [
       "   ln_earnings  educ  hours  state  college\n",
       "0     11.91839  18.0   50.0   44.0      1.0\n",
       "1     11.48247  11.0   42.0   44.0      0.0\n",
       "2     10.46310  12.0   42.0   44.0      0.0\n",
       "3     10.22194  13.0   40.0   44.0      1.0\n",
       "4      9.21034  13.0    8.0   44.0      1.0"
      ]
     },
     "execution_count": 15,
     "metadata": {},
     "output_type": "execute_result"
    }
   ],
   "source": [
    "df = pd.read_stata(\"http://www.damianclarke.net/stata/census2000_5pc.dta\")\n",
    "\n",
    "df.head()"
   ]
  },
  {
   "cell_type": "markdown",
   "metadata": {},
   "source": [
    "We can take a look into the variables of interest:"
   ]
  },
  {
   "cell_type": "code",
   "execution_count": 16,
   "metadata": {},
   "outputs": [
    {
     "data": {
      "image/png": "[encoded data removed]",
      "text/plain": [
       "<Figure size 800x550 with 2 Axes>"
      ]
     },
     "metadata": {
      "image/png": {
       "height": 486,
       "width": 716
      }
     },
     "output_type": "display_data"
    }
   ],
   "source": [
    "axes = df.plot.hist(column=[\"ln_earnings\"], by=[\"college\"])"
   ]
  },
  {
   "cell_type": "markdown",
   "metadata": {},
   "source": [
    "Now we can estimate the model `ln_earnings ~ college` where we cluster the standard errors at the state level:"
   ]
  },
  {
   "cell_type": "code",
   "execution_count": 17,
   "metadata": {},
   "outputs": [
    {
     "data": {
      "text/html": [
       "<div>\n",
       "<style scoped>\n",
       "    .dataframe tbody tr th:only-of-type {\n",
       "        vertical-align: middle;\n",
       "    }\n",
       "\n",
       "    .dataframe tbody tr th {\n",
       "        vertical-align: top;\n",
       "    }\n",
       "\n",
       "    .dataframe thead th {\n",
       "        text-align: right;\n",
       "    }\n",
       "</style>\n",
       "<table border=\"1\" class=\"dataframe\">\n",
       "  <thead>\n",
       "    <tr style=\"text-align: right;\">\n",
       "      <th></th>\n",
       "      <th>Estimate</th>\n",
       "      <th>Std. Error</th>\n",
       "      <th>t value</th>\n",
       "      <th>Pr(&gt;|t|)</th>\n",
       "      <th>2.5%</th>\n",
       "      <th>97.5%</th>\n",
       "    </tr>\n",
       "  </thead>\n",
       "  <tbody>\n",
       "    <tr>\n",
       "      <th>CCV</th>\n",
       "      <td>0.4656425903701483</td>\n",
       "      <td>0.00348</td>\n",
       "      <td>133.820079</td>\n",
       "      <td>0.0</td>\n",
       "      <td>0.458657</td>\n",
       "      <td>0.472628</td>\n",
       "    </tr>\n",
       "    <tr>\n",
       "      <th>CRV1</th>\n",
       "      <td>0.465643</td>\n",
       "      <td>0.027142</td>\n",
       "      <td>17.155606</td>\n",
       "      <td>0.0</td>\n",
       "      <td>0.411152</td>\n",
       "      <td>0.520133</td>\n",
       "    </tr>\n",
       "  </tbody>\n",
       "</table>\n",
       "</div>"
      ],
      "text/plain": [
       "                Estimate Std. Error     t value Pr(>|t|)      2.5%     97.5%\n",
       "CCV   0.4656425903701483    0.00348  133.820079      0.0  0.458657  0.472628\n",
       "CRV1            0.465643   0.027142   17.155606      0.0  0.411152  0.520133"
      ]
     },
     "execution_count": 17,
     "metadata": {},
     "output_type": "execute_result"
    }
   ],
   "source": [
    "fit3 = pf.feols(\"ln_earnings ~ college\", vcov={\"CRV1\": \"state\"}, data=df)\n",
    "fit3.ccv(treatment=\"college\", pk=0.05, n_splits=2, seed=929)"
   ]
  },
  {
   "cell_type": "markdown",
   "metadata": {},
   "source": [
    "**Randomization Inference**"
   ]
  },
  {
   "cell_type": "markdown",
   "metadata": {},
   "source": [
    "You can also conduct inference via randomization inference [(see Heß, Stata Journal 2017)](https://hesss.org/ritest.pdf).\n",
    "`PyFixest` supports random and cluster random sampling. "
   ]
  },
  {
   "cell_type": "code",
   "execution_count": 18,
   "metadata": {},
   "outputs": [
    {
     "data": {
      "text/plain": [
       "H0                                     X1=0\n",
       "ri-type                     randomization-c\n",
       "Estimate                 -1.000085840074156\n",
       "Pr(>|t|)                                0.0\n",
       "Std. Error (Pr(>|t|))                   0.0\n",
       "2.5% (Pr(>|t|))                         0.0\n",
       "97.5% (Pr(>|t|))                        0.0\n",
       "Cluster                            group_id\n",
       "dtype: object"
      ]
     },
     "execution_count": 18,
     "metadata": {},
     "output_type": "execute_result"
    }
   ],
   "source": [
    "fit2.ritest(resampvar=\"X1=0\", reps=1000, cluster=\"group_id\")"
   ]
  },
  {
   "cell_type": "markdown",
   "metadata": {},
   "source": [
    "**Multiple Testing Corrections: Bonferroni and Romano-Wolf**"
   ]
  },
  {
   "cell_type": "markdown",
   "metadata": {},
   "source": [
    "To correct for multiple testing, p-values can be adjusted via either the [Bonferroni](https://en.wikipedia.org/wiki/Bonferroni_correction) or the method by Romano and Wolf (2005), see for example [The Romano-Wolf Multiple Hypothesis\n",
    "Correction in Stata](https://docs.iza.org/dp12845.pdf)."
   ]
  },
  {
   "cell_type": "code",
   "execution_count": 19,
   "metadata": {},
   "outputs": [
    {
     "data": {
      "text/html": [
       "<div>\n",
       "<style scoped>\n",
       "    .dataframe tbody tr th:only-of-type {\n",
       "        vertical-align: middle;\n",
       "    }\n",
       "\n",
       "    .dataframe tbody tr th {\n",
       "        vertical-align: top;\n",
       "    }\n",
       "\n",
       "    .dataframe thead th {\n",
       "        text-align: right;\n",
       "    }\n",
       "</style>\n",
       "<table border=\"1\" class=\"dataframe\">\n",
       "  <thead>\n",
       "    <tr style=\"text-align: right;\">\n",
       "      <th></th>\n",
       "      <th>est0</th>\n",
       "      <th>est1</th>\n",
       "    </tr>\n",
       "  </thead>\n",
       "  <tbody>\n",
       "    <tr>\n",
       "      <th>Estimate</th>\n",
       "      <td>-1.019</td>\n",
       "      <td>-1.000</td>\n",
       "    </tr>\n",
       "    <tr>\n",
       "      <th>Std. Error</th>\n",
       "      <td>0.125</td>\n",
       "      <td>0.117</td>\n",
       "    </tr>\n",
       "    <tr>\n",
       "      <th>t value</th>\n",
       "      <td>-8.179</td>\n",
       "      <td>-8.568</td>\n",
       "    </tr>\n",
       "    <tr>\n",
       "      <th>Pr(&gt;|t|)</th>\n",
       "      <td>0.000</td>\n",
       "      <td>0.000</td>\n",
       "    </tr>\n",
       "    <tr>\n",
       "      <th>2.5%</th>\n",
       "      <td>-1.281</td>\n",
       "      <td>-1.245</td>\n",
       "    </tr>\n",
       "    <tr>\n",
       "      <th>97.5%</th>\n",
       "      <td>-0.757</td>\n",
       "      <td>-0.755</td>\n",
       "    </tr>\n",
       "    <tr>\n",
       "      <th>Bonferroni Pr(&gt;|t|)</th>\n",
       "      <td>0.000</td>\n",
       "      <td>0.000</td>\n",
       "    </tr>\n",
       "  </tbody>\n",
       "</table>\n",
       "</div>"
      ],
      "text/plain": [
       "                      est0   est1\n",
       "Estimate            -1.019 -1.000\n",
       "Std. Error           0.125  0.117\n",
       "t value             -8.179 -8.568\n",
       "Pr(>|t|)             0.000  0.000\n",
       "2.5%                -1.281 -1.245\n",
       "97.5%               -0.757 -0.755\n",
       "Bonferroni Pr(>|t|)  0.000  0.000"
      ]
     },
     "execution_count": 19,
     "metadata": {},
     "output_type": "execute_result"
    }
   ],
   "source": [
    "pf.bonferroni([fit, fit2], param=\"X1\").round(3)"
   ]
  },
  {
   "cell_type": "code",
   "execution_count": 20,
   "metadata": {},
   "outputs": [
    {
     "data": {
      "text/html": [
       "<div>\n",
       "<style scoped>\n",
       "    .dataframe tbody tr th:only-of-type {\n",
       "        vertical-align: middle;\n",
       "    }\n",
       "\n",
       "    .dataframe tbody tr th {\n",
       "        vertical-align: top;\n",
       "    }\n",
       "\n",
       "    .dataframe thead th {\n",
       "        text-align: right;\n",
       "    }\n",
       "</style>\n",
       "<table border=\"1\" class=\"dataframe\">\n",
       "  <thead>\n",
       "    <tr style=\"text-align: right;\">\n",
       "      <th></th>\n",
       "      <th>est0</th>\n",
       "      <th>est1</th>\n",
       "    </tr>\n",
       "  </thead>\n",
       "  <tbody>\n",
       "    <tr>\n",
       "      <th>Estimate</th>\n",
       "      <td>-1.019</td>\n",
       "      <td>-1.000</td>\n",
       "    </tr>\n",
       "    <tr>\n",
       "      <th>Std. Error</th>\n",
       "      <td>0.125</td>\n",
       "      <td>0.117</td>\n",
       "    </tr>\n",
       "    <tr>\n",
       "      <th>t value</th>\n",
       "      <td>-8.179</td>\n",
       "      <td>-8.568</td>\n",
       "    </tr>\n",
       "    <tr>\n",
       "      <th>Pr(&gt;|t|)</th>\n",
       "      <td>0.000</td>\n",
       "      <td>0.000</td>\n",
       "    </tr>\n",
       "    <tr>\n",
       "      <th>2.5%</th>\n",
       "      <td>-1.281</td>\n",
       "      <td>-1.245</td>\n",
       "    </tr>\n",
       "    <tr>\n",
       "      <th>97.5%</th>\n",
       "      <td>-0.757</td>\n",
       "      <td>-0.755</td>\n",
       "    </tr>\n",
       "    <tr>\n",
       "      <th>RW Pr(&gt;|t|)</th>\n",
       "      <td>0.000</td>\n",
       "      <td>0.000</td>\n",
       "    </tr>\n",
       "  </tbody>\n",
       "</table>\n",
       "</div>"
      ],
      "text/plain": [
       "              est0   est1\n",
       "Estimate    -1.019 -1.000\n",
       "Std. Error   0.125  0.117\n",
       "t value     -8.179 -8.568\n",
       "Pr(>|t|)     0.000  0.000\n",
       "2.5%        -1.281 -1.245\n",
       "97.5%       -0.757 -0.755\n",
       "RW Pr(>|t|)  0.000  0.000"
      ]
     },
     "execution_count": 20,
     "metadata": {},
     "output_type": "execute_result"
    }
   ],
   "source": [
    "pf.rwolf([fit, fit2], param=\"X1\", reps=9999, seed=1234).round(3)"
   ]
  },
  {
   "cell_type": "markdown",
   "metadata": {},
   "source": [
    "**Joint Confidence Intervals**\n",
    "\n",
    "Simultaneous confidence bands for a vector of parameters can be computed via the `joint_confint()` method. See [Simultaneous confidence bands: Theory, implementation, and an application to SVARs](https://onlinelibrary.wiley.com/doi/abs/10.1002/jae.2656) for background."
   ]
  },
  {
   "cell_type": "code",
   "execution_count": 21,
   "metadata": {},
   "outputs": [
    {
     "data": {
      "text/html": [
       "<div>\n",
       "<style scoped>\n",
       "    .dataframe tbody tr th:only-of-type {\n",
       "        vertical-align: middle;\n",
       "    }\n",
       "\n",
       "    .dataframe tbody tr th {\n",
       "        vertical-align: top;\n",
       "    }\n",
       "\n",
       "    .dataframe thead th {\n",
       "        text-align: right;\n",
       "    }\n",
       "</style>\n",
       "<table border=\"1\" class=\"dataframe\">\n",
       "  <thead>\n",
       "    <tr style=\"text-align: right;\">\n",
       "      <th></th>\n",
       "      <th>0.025%</th>\n",
       "      <th>0.975%</th>\n",
       "    </tr>\n",
       "  </thead>\n",
       "  <tbody>\n",
       "    <tr>\n",
       "      <th>Intercept</th>\n",
       "      <td>-0.423708</td>\n",
       "      <td>1.401619</td>\n",
       "    </tr>\n",
       "    <tr>\n",
       "      <th>X1</th>\n",
       "      <td>-1.160215</td>\n",
       "      <td>-0.738667</td>\n",
       "    </tr>\n",
       "    <tr>\n",
       "      <th>C(f1)[T.1.0]</th>\n",
       "      <td>1.387153</td>\n",
       "      <td>3.778145</td>\n",
       "    </tr>\n",
       "    <tr>\n",
       "      <th>C(f1)[T.2.0]</th>\n",
       "      <td>-2.835804</td>\n",
       "      <td>-0.328064</td>\n",
       "    </tr>\n",
       "    <tr>\n",
       "      <th>C(f1)[T.3.0]</th>\n",
       "      <td>-1.605175</td>\n",
       "      <td>0.980508</td>\n",
       "    </tr>\n",
       "  </tbody>\n",
       "</table>\n",
       "</div>"
      ],
      "text/plain": [
       "                0.025%    0.975%\n",
       "Intercept    -0.423708  1.401619\n",
       "X1           -1.160215 -0.738667\n",
       "C(f1)[T.1.0]  1.387153  3.778145\n",
       "C(f1)[T.2.0] -2.835804 -0.328064\n",
       "C(f1)[T.3.0] -1.605175  0.980508"
      ]
     },
     "execution_count": 21,
     "metadata": {},
     "output_type": "execute_result"
    }
   ],
   "source": [
    "fit_ci = pf.feols(\"Y ~ X1+ C(f1)\", data=data)\n",
    "fit_ci.confint(joint=True).head()"
   ]
  },
  {
   "cell_type": "markdown",
   "metadata": {},
   "source": [
    "## Panel Data Example: Causal Inference for the Brave and True\n",
    "\n",
    "In this example we replicate the results of the great (freely available reference!) [Causal Inference for the Brave and True - Chapter 14](https://matheusfacure.github.io/python-causality-handbook/14-Panel-Data-and-Fixed-Effects.html). Please refer to the original text for a detailed explanation of the data."
   ]
  },
  {
   "cell_type": "code",
   "execution_count": 61,
   "metadata": {},
   "outputs": [
    {
     "data": {
      "text/html": [
       "<div>\n",
       "<style scoped>\n",
       "    .dataframe tbody tr th:only-of-type {\n",
       "        vertical-align: middle;\n",
       "    }\n",
       "\n",
       "    .dataframe tbody tr th {\n",
       "        vertical-align: top;\n",
       "    }\n",
       "\n",
       "    .dataframe thead th {\n",
       "        text-align: right;\n",
       "    }\n",
       "</style>\n",
       "<table border=\"1\" class=\"dataframe\">\n",
       "  <thead>\n",
       "    <tr style=\"text-align: right;\">\n",
       "      <th></th>\n",
       "      <th>nr</th>\n",
       "      <th>year</th>\n",
       "      <th>black</th>\n",
       "      <th>exper</th>\n",
       "      <th>hisp</th>\n",
       "      <th>hours</th>\n",
       "      <th>married</th>\n",
       "      <th>educ</th>\n",
       "      <th>union</th>\n",
       "      <th>lwage</th>\n",
       "      <th>expersq</th>\n",
       "      <th>occupation</th>\n",
       "    </tr>\n",
       "  </thead>\n",
       "  <tbody>\n",
       "    <tr>\n",
       "      <th>0</th>\n",
       "      <td>13</td>\n",
       "      <td>1980</td>\n",
       "      <td>0</td>\n",
       "      <td>1</td>\n",
       "      <td>0</td>\n",
       "      <td>2672</td>\n",
       "      <td>0</td>\n",
       "      <td>14</td>\n",
       "      <td>0</td>\n",
       "      <td>1.197540</td>\n",
       "      <td>1</td>\n",
       "      <td>9</td>\n",
       "    </tr>\n",
       "    <tr>\n",
       "      <th>1</th>\n",
       "      <td>13</td>\n",
       "      <td>1981</td>\n",
       "      <td>0</td>\n",
       "      <td>2</td>\n",
       "      <td>0</td>\n",
       "      <td>2320</td>\n",
       "      <td>0</td>\n",
       "      <td>14</td>\n",
       "      <td>1</td>\n",
       "      <td>1.853060</td>\n",
       "      <td>4</td>\n",
       "      <td>9</td>\n",
       "    </tr>\n",
       "    <tr>\n",
       "      <th>2</th>\n",
       "      <td>13</td>\n",
       "      <td>1982</td>\n",
       "      <td>0</td>\n",
       "      <td>3</td>\n",
       "      <td>0</td>\n",
       "      <td>2940</td>\n",
       "      <td>0</td>\n",
       "      <td>14</td>\n",
       "      <td>0</td>\n",
       "      <td>1.344462</td>\n",
       "      <td>9</td>\n",
       "      <td>9</td>\n",
       "    </tr>\n",
       "    <tr>\n",
       "      <th>3</th>\n",
       "      <td>13</td>\n",
       "      <td>1983</td>\n",
       "      <td>0</td>\n",
       "      <td>4</td>\n",
       "      <td>0</td>\n",
       "      <td>2960</td>\n",
       "      <td>0</td>\n",
       "      <td>14</td>\n",
       "      <td>0</td>\n",
       "      <td>1.433213</td>\n",
       "      <td>16</td>\n",
       "      <td>9</td>\n",
       "    </tr>\n",
       "    <tr>\n",
       "      <th>4</th>\n",
       "      <td>13</td>\n",
       "      <td>1984</td>\n",
       "      <td>0</td>\n",
       "      <td>5</td>\n",
       "      <td>0</td>\n",
       "      <td>3071</td>\n",
       "      <td>0</td>\n",
       "      <td>14</td>\n",
       "      <td>0</td>\n",
       "      <td>1.568125</td>\n",
       "      <td>25</td>\n",
       "      <td>5</td>\n",
       "    </tr>\n",
       "  </tbody>\n",
       "</table>\n",
       "</div>"
      ],
      "text/plain": [
       "   nr  year  black  exper  hisp  hours  married  educ  union     lwage  \\\n",
       "0  13  1980      0      1     0   2672        0    14      0  1.197540   \n",
       "1  13  1981      0      2     0   2320        0    14      1  1.853060   \n",
       "2  13  1982      0      3     0   2940        0    14      0  1.344462   \n",
       "3  13  1983      0      4     0   2960        0    14      0  1.433213   \n",
       "4  13  1984      0      5     0   3071        0    14      0  1.568125   \n",
       "\n",
       "   expersq  occupation  \n",
       "0        1           9  \n",
       "1        4           9  \n",
       "2        9           9  \n",
       "3       16           9  \n",
       "4       25           5  "
      ]
     },
     "execution_count": 61,
     "metadata": {},
     "output_type": "execute_result"
    }
   ],
   "source": [
    "data_path = \"https://raw.githubusercontent.com/bashtage/linearmodels/main/linearmodels/datasets/wage_panel/wage_panel.csv.bz2\"\n",
    "data_df = pd.read_csv(data_path)\n",
    "\n",
    "data_df.head()"
   ]
  },
  {
   "cell_type": "markdown",
   "metadata": {},
   "source": [
    "The objective is to estimate the effect of the variable `married` on the variable `lwage` using a fixed effect model on the entity variable `nr` and the time variable `year`."
   ]
  },
  {
   "cell_type": "code",
   "execution_count": 62,
   "metadata": {},
   "outputs": [
    {
     "name": "stdout",
     "output_type": "stream",
     "text": [
      "###\n",
      "\n",
      "Estimation:  OLS\n",
      "Dep. var.: lwage, Fixed effects: nr+year\n",
      "Inference:  CRV1\n",
      "Observations:  4360\n",
      "\n",
      "| Coefficient   |   Estimate |   Std. Error |   t value |   Pr(>|t|) |   2.5% |   97.5% |\n",
      "|:--------------|-----------:|-------------:|----------:|-----------:|-------:|--------:|\n",
      "| expersq       |     -0.006 |        0.001 |    -8.157 |      0.000 | -0.008 |  -0.004 |\n",
      "| union         |      0.073 |        0.023 |     3.189 |      0.015 |  0.019 |   0.127 |\n",
      "| married       |      0.048 |        0.018 |     2.694 |      0.031 |  0.006 |   0.089 |\n",
      "| hours         |     -0.000 |        0.000 |    -3.830 |      0.006 | -0.000 |  -0.000 |\n",
      "---\n",
      "RMSE: 0.324 R2: 0.631 R2 Within: 0.047 \n"
     ]
    }
   ],
   "source": [
    "panel_fit = pf.feols(\n",
    "    fml=\"lwage ~ expersq + union + married + hours | nr + year\",\n",
    "    data=data_df,\n",
    "    vcov={\"CRV1\": \"nr + year\"},\n",
    ")\n",
    "\n",
    "panel_fit.summary()"
   ]
  },
  {
   "cell_type": "markdown",
   "metadata": {},
   "source": [
    "We obtain the same results as in the book!"
   ]
  },
  {
   "cell_type": "markdown",
   "metadata": {},
   "source": [
    "## Instrumental Variables (IV) Estimation \n",
    "\n",
    "It is also possible to estimate [instrumental variable models](https://en.wikipedia.org/wiki/Instrumental_variables_estimation) with *one* endogenous variable and (potentially multiple) instruments:"
   ]
  },
  {
   "cell_type": "code",
   "execution_count": 63,
   "metadata": {},
   "outputs": [
    {
     "name": "stdout",
     "output_type": "stream",
     "text": [
      "###\n",
      "\n",
      "Estimation:  IV\n",
      "Dep. var.: Y2, Fixed effects: f1+f2\n",
      "Inference:  CRV1\n",
      "Observations:  998\n",
      "\n",
      "| Coefficient   |   Estimate |   Std. Error |   t value |   Pr(>|t|) |   2.5% |   97.5% |\n",
      "|:--------------|-----------:|-------------:|----------:|-----------:|-------:|--------:|\n",
      "| X1            |     -1.600 |        0.333 |    -4.801 |      0.000 | -2.282 |  -0.919 |\n",
      "---\n",
      "\n"
     ]
    }
   ],
   "source": [
    "iv_fit = pf.feols(fml=\"Y2 ~ 1 | f1 + f2 | X1 ~ Z1 + Z2\", data=data)\n",
    "iv_fit.summary()"
   ]
  },
  {
   "cell_type": "markdown",
   "metadata": {},
   "source": [
    "If the model does not contain any fixed effects, just drop the second part of the formula above:"
   ]
  },
  {
   "cell_type": "code",
   "execution_count": 64,
   "metadata": {},
   "outputs": [
    {
     "name": "stdout",
     "output_type": "stream",
     "text": [
      "###\n",
      "\n",
      "Estimation:  IV\n",
      "Dep. var.: Y, Fixed effects: \n",
      "Inference:  iid\n",
      "Observations:  998\n",
      "\n",
      "| Coefficient   |   Estimate |   Std. Error |   t value |   Pr(>|t|) |   2.5% |   97.5% |\n",
      "|:--------------|-----------:|-------------:|----------:|-----------:|-------:|--------:|\n",
      "| Intercept     |      0.911 |        0.156 |     5.843 |      0.000 |  0.605 |   1.217 |\n",
      "| X1            |     -0.993 |        0.134 |    -7.398 |      0.000 | -1.256 |  -0.730 |\n",
      "---\n",
      "\n"
     ]
    }
   ],
   "source": [
    "pf.feols(fml=\"Y ~ 1 | X1 ~ Z1 + Z2\", data=data).summary()"
   ]
  },
  {
   "cell_type": "markdown",
   "metadata": {},
   "source": [
    "IV estimation with multiple endogenous variables and multiple estimation syntax is currently not supported. The syntax is `depvar ~ exog.vars | fixef effects | endog.vars ~ instruments`."
   ]
  },
  {
   "cell_type": "markdown",
   "metadata": {},
   "source": [
    "## Poisson Regression \n",
    "\n",
    "It is possible to estimate Poisson Regressions (for example, to model count data). We can showcase this feature with another synthetic data set."
   ]
  },
  {
   "cell_type": "code",
   "execution_count": 65,
   "metadata": {},
   "outputs": [
    {
     "data": {
      "image/png": "[encoded data removed]",
      "text/plain": [
       "<Figure size 800x550 with 2 Axes>"
      ]
     },
     "metadata": {
      "image/png": {
       "height": 491,
       "width": 650
      }
     },
     "output_type": "display_data"
    }
   ],
   "source": [
    "pois_data = pf.get_data(model=\"Fepois\")\n",
    "\n",
    "ax = pois_data.plot(\n",
    "    kind=\"scatter\",\n",
    "    x=\"X1\",\n",
    "    y=\"Y\",\n",
    "    c=\"group_id\",\n",
    "    colormap=\"viridis\",\n",
    "    s=\"f2\",\n",
    ")"
   ]
  },
  {
   "cell_type": "code",
   "execution_count": 66,
   "metadata": {},
   "outputs": [
    {
     "name": "stdout",
     "output_type": "stream",
     "text": [
      "###\n",
      "\n",
      "Estimation:  Poisson\n",
      "Dep. var.: Y, Fixed effects: group_id\n",
      "Inference:  CRV1\n",
      "Observations:  998\n",
      "\n",
      "| Coefficient   |   Estimate |   Std. Error |   t value |   Pr(>|t|) |   2.5% |   97.5% |\n",
      "|:--------------|-----------:|-------------:|----------:|-----------:|-------:|--------:|\n",
      "| X1            |      0.004 |        0.032 |     0.119 |      0.905 | -0.060 |   0.067 |\n",
      "---\n",
      "Deviance: 1126.202 \n"
     ]
    }
   ],
   "source": [
    "pois_fit = pf.fepois(fml=\"Y ~ X1 | group_id\", data=pois_data, vcov={\"CRV1\": \"group_id\"})\n",
    "pois_fit.summary()"
   ]
  },
  {
   "cell_type": "markdown",
   "metadata": {},
   "source": [
    "## Multiple Estimation \n",
    "\n",
    "`PyFixest` supports a range of multiple estimation functionality: `sw`, `sw0`, `csw`, `csw0`, and multiple dependent variables. The meaning of these options is explained in the [Multiple Estimations](https://lrberge.github.io/fixest/articles/multiple_estimations.html) vignette of the `fixest` package:\n",
    "\n",
    "> - `sw`: this function is replaced sequentially by each of its arguments. For example, `y ~ x1 + sw(x2, x3)` leads to two estimations: `y ~ x1 + x2` and `y ~ x1 + x3`.\n",
    "> - `sw0`: identical to sw but first adds the empty element. E.g. `y ~ x1 + sw0(x2, x3)` leads to three estimations: `y ~ x1`, `y ~ x1 + x2` and `y ~ x1 + x3`.\n",
    "> - `csw`: it stands for cumulative stepwise. It adds to the formula each of its arguments sequentially. E.g. `y ~ x1 + csw(x2, x3)` will become `y ~ x1 + x2` and `y ~ x1 + x2 + x3`.\n",
    "> - `csw0`: identical to csw but first adds the empty element. E.g. `y ~ x1 + csw0(x2, x3)` leads to three estimations: `y ~ x1`, `y ~ x1 + x`2 and `y ~ x1 + x2 + x3`.\n",
    "\n",
    "If multiple regression syntax is used, \n",
    "`feols()` and `fepois` returns an instance of a `FixestMulti` object, which essentially consists of a dicionary of `Fepois` or [Feols](/reference/Feols.qmd) instances."
   ]
  },
  {
   "cell_type": "code",
   "execution_count": 67,
   "metadata": {},
   "outputs": [
    {
     "data": {
      "text/plain": [
       "<pyfixest.estimation.FixestMulti_.FixestMulti at 0x1aa00d97790>"
      ]
     },
     "execution_count": 67,
     "metadata": {},
     "output_type": "execute_result"
    }
   ],
   "source": [
    "multi_fit = pf.feols(fml=\"Y ~ X1 | csw0(f1, f2)\", data=data, vcov=\"HC1\")\n",
    "multi_fit"
   ]
  },
  {
   "cell_type": "code",
   "execution_count": 68,
   "metadata": {},
   "outputs": [
    {
     "name": "stdout",
     "output_type": "stream",
     "text": [
      "###\n",
      "\n",
      "Estimation:  OLS\n",
      "Dep. var.: Y, Fixed effects: \n",
      "Inference:  HC1\n",
      "Observations:  998\n",
      "\n",
      "| Coefficient   |   Estimate |   Std. Error |   t value |   Pr(>|t|) |   2.5% |   97.5% |\n",
      "|:--------------|-----------:|-------------:|----------:|-----------:|-------:|--------:|\n",
      "| Intercept     |      0.919 |        0.112 |     8.223 |      0.000 |  0.699 |   1.138 |\n",
      "| X1            |     -1.000 |        0.082 |   -12.134 |      0.000 | -1.162 |  -0.838 |\n",
      "---\n",
      "RMSE: 2.158 R2: 0.123 \n",
      "###\n",
      "\n",
      "Estimation:  OLS\n",
      "Dep. var.: Y, Fixed effects: f1\n",
      "Inference:  HC1\n",
      "Observations:  997\n",
      "\n",
      "| Coefficient   |   Estimate |   Std. Error |   t value |   Pr(>|t|) |   2.5% |   97.5% |\n",
      "|:--------------|-----------:|-------------:|----------:|-----------:|-------:|--------:|\n",
      "| X1            |     -0.949 |        0.066 |   -14.311 |      0.000 | -1.080 |  -0.819 |\n",
      "---\n",
      "RMSE: 1.73 R2: 0.437 R2 Within: 0.161 \n",
      "###\n",
      "\n",
      "Estimation:  OLS\n",
      "Dep. var.: Y, Fixed effects: f1+f2\n",
      "Inference:  HC1\n",
      "Observations:  997\n",
      "\n",
      "| Coefficient   |   Estimate |   Std. Error |   t value |   Pr(>|t|) |   2.5% |   97.5% |\n",
      "|:--------------|-----------:|-------------:|----------:|-----------:|-------:|--------:|\n",
      "| X1            |     -0.919 |        0.058 |   -15.918 |      0.000 | -1.033 |  -0.806 |\n",
      "---\n",
      "RMSE: 1.441 R2: 0.609 R2 Within: 0.2 \n"
     ]
    }
   ],
   "source": [
    "multi_fit.summary()"
   ]
  },
  {
   "cell_type": "markdown",
   "metadata": {},
   "source": [
    "Alternatively, you can look at the estimation results via the `etable()` method:"
   ]
  },
  {
   "cell_type": "code",
   "execution_count": 69,
   "metadata": {},
   "outputs": [
    {
     "name": "stdout",
     "output_type": "stream",
     "text": [
      "                           est1               est2               est3\n",
      "------------  -----------------  -----------------  -----------------\n",
      "depvar                        Y                  Y                  Y\n",
      "---------------------------------------------------------------------\n",
      "Intercept      0.919*** (0.112)\n",
      "X1            -1.000*** (0.082)  -0.949*** (0.066)  -0.919*** (0.058)\n",
      "---------------------------------------------------------------------\n",
      "f1                            -                  x                  x\n",
      "f2                            -                  -                  x\n",
      "---------------------------------------------------------------------\n",
      "R2                        0.123              0.437              0.609\n",
      "S.E. type                hetero             hetero             hetero\n",
      "Observations                998                997                997\n",
      "---------------------------------------------------------------------\n",
      "Significance levels: * p < 0.05, ** p < 0.01, *** p < 0.001\n",
      "Format of coefficient cell:\n",
      "Coefficient (Std. Error)\n"
     ]
    }
   ],
   "source": [
    "multi_fit.etable()"
   ]
  },
  {
   "cell_type": "markdown",
   "metadata": {},
   "source": [
    "You can access an individual model by its name - i.e. a formula - via the `all_fitted_models` attribute."
   ]
  },
  {
   "cell_type": "code",
   "execution_count": 70,
   "metadata": {},
   "outputs": [
    {
     "data": {
      "text/html": [
       "<div>\n",
       "<style scoped>\n",
       "    .dataframe tbody tr th:only-of-type {\n",
       "        vertical-align: middle;\n",
       "    }\n",
       "\n",
       "    .dataframe tbody tr th {\n",
       "        vertical-align: top;\n",
       "    }\n",
       "\n",
       "    .dataframe thead th {\n",
       "        text-align: right;\n",
       "    }\n",
       "</style>\n",
       "<table border=\"1\" class=\"dataframe\">\n",
       "  <thead>\n",
       "    <tr style=\"text-align: right;\">\n",
       "      <th></th>\n",
       "      <th>Estimate</th>\n",
       "      <th>Std. Error</th>\n",
       "      <th>t value</th>\n",
       "      <th>Pr(&gt;|t|)</th>\n",
       "      <th>2.5%</th>\n",
       "      <th>97.5%</th>\n",
       "    </tr>\n",
       "    <tr>\n",
       "      <th>Coefficient</th>\n",
       "      <th></th>\n",
       "      <th></th>\n",
       "      <th></th>\n",
       "      <th></th>\n",
       "      <th></th>\n",
       "      <th></th>\n",
       "    </tr>\n",
       "  </thead>\n",
       "  <tbody>\n",
       "    <tr>\n",
       "      <th>Intercept</th>\n",
       "      <td>0.918518</td>\n",
       "      <td>0.111707</td>\n",
       "      <td>8.222580</td>\n",
       "      <td>6.661338e-16</td>\n",
       "      <td>0.699310</td>\n",
       "      <td>1.137725</td>\n",
       "    </tr>\n",
       "    <tr>\n",
       "      <th>X1</th>\n",
       "      <td>-1.000086</td>\n",
       "      <td>0.082420</td>\n",
       "      <td>-12.134086</td>\n",
       "      <td>0.000000e+00</td>\n",
       "      <td>-1.161822</td>\n",
       "      <td>-0.838350</td>\n",
       "    </tr>\n",
       "  </tbody>\n",
       "</table>\n",
       "</div>"
      ],
      "text/plain": [
       "             Estimate  Std. Error    t value      Pr(>|t|)      2.5%     97.5%\n",
       "Coefficient                                                                   \n",
       "Intercept    0.918518    0.111707   8.222580  6.661338e-16  0.699310  1.137725\n",
       "X1          -1.000086    0.082420 -12.134086  0.000000e+00 -1.161822 -0.838350"
      ]
     },
     "execution_count": 70,
     "metadata": {},
     "output_type": "execute_result"
    }
   ],
   "source": [
    "multi_fit.all_fitted_models[\"Y~X1\"].tidy()"
   ]
  },
  {
   "cell_type": "markdown",
   "metadata": {},
   "source": [
    "or equivalently via the `fetch_model` method:"
   ]
  },
  {
   "cell_type": "code",
   "execution_count": 71,
   "metadata": {},
   "outputs": [
    {
     "name": "stdout",
     "output_type": "stream",
     "text": [
      "Model:  Y~X1\n"
     ]
    },
    {
     "data": {
      "text/html": [
       "<div>\n",
       "<style scoped>\n",
       "    .dataframe tbody tr th:only-of-type {\n",
       "        vertical-align: middle;\n",
       "    }\n",
       "\n",
       "    .dataframe tbody tr th {\n",
       "        vertical-align: top;\n",
       "    }\n",
       "\n",
       "    .dataframe thead th {\n",
       "        text-align: right;\n",
       "    }\n",
       "</style>\n",
       "<table border=\"1\" class=\"dataframe\">\n",
       "  <thead>\n",
       "    <tr style=\"text-align: right;\">\n",
       "      <th></th>\n",
       "      <th>Estimate</th>\n",
       "      <th>Std. Error</th>\n",
       "      <th>t value</th>\n",
       "      <th>Pr(&gt;|t|)</th>\n",
       "      <th>2.5%</th>\n",
       "      <th>97.5%</th>\n",
       "    </tr>\n",
       "    <tr>\n",
       "      <th>Coefficient</th>\n",
       "      <th></th>\n",
       "      <th></th>\n",
       "      <th></th>\n",
       "      <th></th>\n",
       "      <th></th>\n",
       "      <th></th>\n",
       "    </tr>\n",
       "  </thead>\n",
       "  <tbody>\n",
       "    <tr>\n",
       "      <th>Intercept</th>\n",
       "      <td>0.918518</td>\n",
       "      <td>0.111707</td>\n",
       "      <td>8.222580</td>\n",
       "      <td>6.661338e-16</td>\n",
       "      <td>0.699310</td>\n",
       "      <td>1.137725</td>\n",
       "    </tr>\n",
       "    <tr>\n",
       "      <th>X1</th>\n",
       "      <td>-1.000086</td>\n",
       "      <td>0.082420</td>\n",
       "      <td>-12.134086</td>\n",
       "      <td>0.000000e+00</td>\n",
       "      <td>-1.161822</td>\n",
       "      <td>-0.838350</td>\n",
       "    </tr>\n",
       "  </tbody>\n",
       "</table>\n",
       "</div>"
      ],
      "text/plain": [
       "             Estimate  Std. Error    t value      Pr(>|t|)      2.5%     97.5%\n",
       "Coefficient                                                                   \n",
       "Intercept    0.918518    0.111707   8.222580  6.661338e-16  0.699310  1.137725\n",
       "X1          -1.000086    0.082420 -12.134086  0.000000e+00 -1.161822 -0.838350"
      ]
     },
     "execution_count": 71,
     "metadata": {},
     "output_type": "execute_result"
    }
   ],
   "source": [
    "multi_fit.fetch_model(0).tidy()"
   ]
  },
  {
   "cell_type": "markdown",
   "metadata": {},
   "source": [
    "Here, `0` simply fetches the first model stored in the `all_fitted_models` dictionary, `1` the second etc."
   ]
  },
  {
   "cell_type": "markdown",
   "metadata": {},
   "source": [
    "Objects of type `Fixest` come with a range of additional methods: `tidy()`, `coef()`, `vcov()` etc, which \n",
    "essentially loop over the equivalent methods of all fitted models. E.g. `Fixest.vcov()` updates inference for all \n",
    "models stored in `Fixest`."
   ]
  },
  {
   "cell_type": "code",
   "execution_count": 72,
   "metadata": {},
   "outputs": [
    {
     "name": "stdout",
     "output_type": "stream",
     "text": [
      "###\n",
      "\n",
      "Estimation:  OLS\n",
      "Dep. var.: Y, Fixed effects: \n",
      "Inference:  iid\n",
      "Observations:  998\n",
      "\n",
      "| Coefficient   |   Estimate |   Std. Error |   t value |   Pr(>|t|) |   2.5% |   97.5% |\n",
      "|:--------------|-----------:|-------------:|----------:|-----------:|-------:|--------:|\n",
      "| Intercept     |      0.919 |        0.112 |     8.214 |      0.000 |  0.699 |   1.138 |\n",
      "| X1            |     -1.000 |        0.085 |   -11.802 |      0.000 | -1.166 |  -0.834 |\n",
      "---\n",
      "RMSE: 2.158 R2: 0.123 \n",
      "###\n",
      "\n",
      "Estimation:  OLS\n",
      "Dep. var.: Y, Fixed effects: f1\n",
      "Inference:  iid\n",
      "Observations:  997\n",
      "\n",
      "| Coefficient   |   Estimate |   Std. Error |   t value |   Pr(>|t|) |   2.5% |   97.5% |\n",
      "|:--------------|-----------:|-------------:|----------:|-----------:|-------:|--------:|\n",
      "| X1            |     -0.949 |        0.069 |   -13.846 |      0.000 | -1.084 |  -0.815 |\n",
      "---\n",
      "RMSE: 1.73 R2: 0.437 R2 Within: 0.161 \n",
      "###\n",
      "\n",
      "Estimation:  OLS\n",
      "Dep. var.: Y, Fixed effects: f1+f2\n",
      "Inference:  iid\n",
      "Observations:  997\n",
      "\n",
      "| Coefficient   |   Estimate |   Std. Error |   t value |   Pr(>|t|) |   2.5% |   97.5% |\n",
      "|:--------------|-----------:|-------------:|----------:|-----------:|-------:|--------:|\n",
      "| X1            |     -0.919 |        0.058 |   -15.797 |      0.000 | -1.033 |  -0.805 |\n",
      "---\n",
      "RMSE: 1.441 R2: 0.609 R2 Within: 0.2 \n"
     ]
    }
   ],
   "source": [
    "multi_fit.vcov(\"iid\").summary()"
   ]
  },
  {
   "cell_type": "markdown",
   "metadata": {},
   "source": [
    "If you have estimated multiple models without multiple estimation syntax and still want to compare them, you can use the `etable()` function: "
   ]
  },
  {
   "cell_type": "code",
   "execution_count": 73,
   "metadata": {},
   "outputs": [
    {
     "name": "stdout",
     "output_type": "stream",
     "text": [
      "                           est1               est2\n",
      "------------  -----------------  -----------------\n",
      "depvar                        Y                  Y\n",
      "--------------------------------------------------\n",
      "X1            -1.019*** (0.125)  -1.000*** (0.117)\n",
      "Intercept                         0.919*** (0.121)\n",
      "--------------------------------------------------\n",
      "group_id                      x                  -\n",
      "--------------------------------------------------\n",
      "R2                        0.137              0.123\n",
      "S.E. type          by: group_id       by: group_id\n",
      "Observations                998                998\n",
      "--------------------------------------------------\n",
      "Significance levels: * p < 0.05, ** p < 0.01, *** p < 0.001\n",
      "Format of coefficient cell:\n",
      "Coefficient (Std. Error)\n"
     ]
    }
   ],
   "source": [
    "pf.etable([fit, fit2])"
   ]
  },
  {
   "cell_type": "markdown",
   "metadata": {},
   "source": [
    "## Visualization \n",
    "\n",
    "`PyFixest` provides two functions to visualize the results of a regression: `coefplot` and `iplot`."
   ]
  },
  {
   "cell_type": "code",
   "execution_count": 74,
   "metadata": {},
   "outputs": [
    {
     "data": {
      "text/html": [
       "   <div id=\"lDqApL\"></div>\n",
       "   <script type=\"text/javascript\" data-lets-plot-script=\"plot\">\n",
       "       (function() {\n",
       "           var plotSpec={\n",
       "\"data\":{\n",
       "\"Coefficient\":[\"Intercept\",\"X1\",\"X1\",\"X1\",\"X1\",\"X1\",\"X1\",\"X1\",\"X1\",\"X1\"],\n",
       "\"Model\":[\"Y~X1\",\"Y~X1\",\"Y~X1|f1\",\"Y~X1|f1+f2\",\"Y~X1\",\"Y~X1|f1\",\"Y~X1|f1+f2\",\"Y~X1\",\"Y~X1|f1\",\"Y~X1|f1+f2\"],\n",
       "\"Estimate\":[0.9185177588356426,-1.000085840074156,-0.9494410591286258,-0.9192548853827908,-1.000085840074156,-0.9494410591286258,-0.9192548853827908,-1.000085840074156,-0.9494410591286258,-0.9192548853827908],\n",
       "\"2.5%\":[0.6990856170653885,-1.1663660739416457,-1.0839997603783968,-1.0334504235222999,-1.1663660739416457,-1.0839997603783968,-1.0334504235222999,-1.1663660739416457,-1.0839997603783968,-1.0334504235222999],\n",
       "\"97.5%\":[1.1379499006058966,-0.8338056062066661,-0.8148823578788547,-0.8050593472432815,-0.8338056062066661,-0.8148823578788547,-0.8050593472432815,-0.8338056062066661,-0.8148823578788547,-0.8050593472432815]\n",
       "},\n",
       "\"mapping\":{\n",
       "\"x\":\"Coefficient\",\n",
       "\"y\":\"Estimate\",\n",
       "\"color\":\"Model\"\n",
       "},\n",
       "\"data_meta\":{\n",
       "},\n",
       "\"coord\":{\n",
       "\"name\":\"flip\",\n",
       "\"flip\":true\n",
       "},\n",
       "\"ggsize\":{\n",
       "\"width\":500.0,\n",
       "\"height\":300.0\n",
       "},\n",
       "\"theme\":{\n",
       "\"axis_text_x\":{\n",
       "\"angle\":0.0,\n",
       "\"blank\":false\n",
       "}\n",
       "},\n",
       "\"kind\":\"plot\",\n",
       "\"scales\":[{\n",
       "\"name\":\"Estimate and 95% Confidence Interval\",\n",
       "\"aesthetic\":\"y\"\n",
       "}],\n",
       "\"layers\":[{\n",
       "\"geom\":\"point\",\n",
       "\"mapping\":{\n",
       "},\n",
       "\"position\":{\n",
       "\"name\":\"dodge\",\n",
       "\"width\":0.5\n",
       "},\n",
       "\"data_meta\":{\n",
       "},\n",
       "\"data\":{\n",
       "}\n",
       "},{\n",
       "\"geom\":\"errorbar\",\n",
       "\"mapping\":{\n",
       "\"ymin\":\"2.5%\",\n",
       "\"ymax\":\"97.5%\"\n",
       "},\n",
       "\"position\":{\n",
       "\"name\":\"dodge\",\n",
       "\"width\":0.5\n",
       "},\n",
       "\"data_meta\":{\n",
       "},\n",
       "\"width\":0.05,\n",
       "\"data\":{\n",
       "}\n",
       "},{\n",
       "\"geom\":\"hline\",\n",
       "\"mapping\":{\n",
       "},\n",
       "\"data_meta\":{\n",
       "},\n",
       "\"yintercept\":0.0,\n",
       "\"linetype\":\"dashed\",\n",
       "\"color\":\"black\",\n",
       "\"data\":{\n",
       "}\n",
       "}],\n",
       "\"metainfo_list\":[]\n",
       "};\n",
       "           var plotContainer = document.getElementById(\"lDqApL\");\n",
       "           window.letsPlotCall(function() {{\n",
       "               LetsPlot.buildPlotFromProcessedSpecs(plotSpec, -1, -1, plotContainer);\n",
       "           }});\n",
       "       })();\n",
       "   </script>"
      ]
     },
     "metadata": {},
     "output_type": "display_data"
    }
   ],
   "source": [
    "multi_fit.coefplot().show()"
   ]
  },
  {
   "cell_type": "markdown",
   "metadata": {},
   "source": [
    "You can use a `matplotlib` backend as well: "
   ]
  },
  {
   "cell_type": "code",
   "execution_count": 75,
   "metadata": {},
   "outputs": [
    {
     "data": {
      "image/png": "[encoded data removed]",
      "text/plain": [
       "<seaborn._core.plot.Plot at 0x1aa001a9060>"
      ]
     },
     "execution_count": 75,
     "metadata": {
      "image/png": {
       "height": 444.125,
       "width": 895.475
      }
     },
     "output_type": "execute_result"
    }
   ],
   "source": [
    "multi_fit.coefplot(plot_backend=\"matplotlib\")"
   ]
  },
  {
   "cell_type": "markdown",
   "metadata": {},
   "source": [
    "## Difference-in-Differences / Event Study Designs\n",
    "\n",
    "`PyFixest` supports eventy study designs via two-way fixed effects and Gardner's 2-stage estimator. "
   ]
  },
  {
   "cell_type": "code",
   "execution_count": 76,
   "metadata": {},
   "outputs": [
    {
     "data": {
      "text/html": [
       "<div>\n",
       "<style scoped>\n",
       "    .dataframe tbody tr th:only-of-type {\n",
       "        vertical-align: middle;\n",
       "    }\n",
       "\n",
       "    .dataframe tbody tr th {\n",
       "        vertical-align: top;\n",
       "    }\n",
       "\n",
       "    .dataframe thead th {\n",
       "        text-align: right;\n",
       "    }\n",
       "</style>\n",
       "<table border=\"1\" class=\"dataframe\">\n",
       "  <thead>\n",
       "    <tr style=\"text-align: right;\">\n",
       "      <th></th>\n",
       "      <th>unit</th>\n",
       "      <th>state</th>\n",
       "      <th>group</th>\n",
       "      <th>unit_fe</th>\n",
       "      <th>g</th>\n",
       "      <th>year</th>\n",
       "      <th>year_fe</th>\n",
       "      <th>treat</th>\n",
       "      <th>rel_year</th>\n",
       "      <th>rel_year_binned</th>\n",
       "      <th>error</th>\n",
       "      <th>te</th>\n",
       "      <th>te_dynamic</th>\n",
       "      <th>dep_var</th>\n",
       "    </tr>\n",
       "  </thead>\n",
       "  <tbody>\n",
       "    <tr>\n",
       "      <th>0</th>\n",
       "      <td>1</td>\n",
       "      <td>33</td>\n",
       "      <td>Group 2</td>\n",
       "      <td>7.043016</td>\n",
       "      <td>2010</td>\n",
       "      <td>1990</td>\n",
       "      <td>0.066159</td>\n",
       "      <td>False</td>\n",
       "      <td>-20.0</td>\n",
       "      <td>-6</td>\n",
       "      <td>-0.086466</td>\n",
       "      <td>0</td>\n",
       "      <td>0.0</td>\n",
       "      <td>7.022709</td>\n",
       "    </tr>\n",
       "    <tr>\n",
       "      <th>1</th>\n",
       "      <td>1</td>\n",
       "      <td>33</td>\n",
       "      <td>Group 2</td>\n",
       "      <td>7.043016</td>\n",
       "      <td>2010</td>\n",
       "      <td>1991</td>\n",
       "      <td>-0.030980</td>\n",
       "      <td>False</td>\n",
       "      <td>-19.0</td>\n",
       "      <td>-6</td>\n",
       "      <td>0.766593</td>\n",
       "      <td>0</td>\n",
       "      <td>0.0</td>\n",
       "      <td>7.778628</td>\n",
       "    </tr>\n",
       "    <tr>\n",
       "      <th>2</th>\n",
       "      <td>1</td>\n",
       "      <td>33</td>\n",
       "      <td>Group 2</td>\n",
       "      <td>7.043016</td>\n",
       "      <td>2010</td>\n",
       "      <td>1992</td>\n",
       "      <td>-0.119607</td>\n",
       "      <td>False</td>\n",
       "      <td>-18.0</td>\n",
       "      <td>-6</td>\n",
       "      <td>1.512968</td>\n",
       "      <td>0</td>\n",
       "      <td>0.0</td>\n",
       "      <td>8.436377</td>\n",
       "    </tr>\n",
       "    <tr>\n",
       "      <th>3</th>\n",
       "      <td>1</td>\n",
       "      <td>33</td>\n",
       "      <td>Group 2</td>\n",
       "      <td>7.043016</td>\n",
       "      <td>2010</td>\n",
       "      <td>1993</td>\n",
       "      <td>0.126321</td>\n",
       "      <td>False</td>\n",
       "      <td>-17.0</td>\n",
       "      <td>-6</td>\n",
       "      <td>0.021870</td>\n",
       "      <td>0</td>\n",
       "      <td>0.0</td>\n",
       "      <td>7.191207</td>\n",
       "    </tr>\n",
       "    <tr>\n",
       "      <th>4</th>\n",
       "      <td>1</td>\n",
       "      <td>33</td>\n",
       "      <td>Group 2</td>\n",
       "      <td>7.043016</td>\n",
       "      <td>2010</td>\n",
       "      <td>1994</td>\n",
       "      <td>-0.106921</td>\n",
       "      <td>False</td>\n",
       "      <td>-16.0</td>\n",
       "      <td>-6</td>\n",
       "      <td>-0.017603</td>\n",
       "      <td>0</td>\n",
       "      <td>0.0</td>\n",
       "      <td>6.918492</td>\n",
       "    </tr>\n",
       "  </tbody>\n",
       "</table>\n",
       "</div>"
      ],
      "text/plain": [
       "   unit  state    group   unit_fe     g  year   year_fe  treat  rel_year  \\\n",
       "0     1     33  Group 2  7.043016  2010  1990  0.066159  False     -20.0   \n",
       "1     1     33  Group 2  7.043016  2010  1991 -0.030980  False     -19.0   \n",
       "2     1     33  Group 2  7.043016  2010  1992 -0.119607  False     -18.0   \n",
       "3     1     33  Group 2  7.043016  2010  1993  0.126321  False     -17.0   \n",
       "4     1     33  Group 2  7.043016  2010  1994 -0.106921  False     -16.0   \n",
       "\n",
       "   rel_year_binned     error  te  te_dynamic   dep_var  \n",
       "0               -6 -0.086466   0         0.0  7.022709  \n",
       "1               -6  0.766593   0         0.0  7.778628  \n",
       "2               -6  1.512968   0         0.0  8.436377  \n",
       "3               -6  0.021870   0         0.0  7.191207  \n",
       "4               -6 -0.017603   0         0.0  6.918492  "
      ]
     },
     "execution_count": 76,
     "metadata": {},
     "output_type": "execute_result"
    }
   ],
   "source": [
    "url = \"https://raw.githubusercontent.com/py-econometrics/pyfixest/master/pyfixest/did/data/df_het.csv\"\n",
    "df_het = pd.read_csv(url)\n",
    "\n",
    "df_het.head()"
   ]
  },
  {
   "cell_type": "code",
   "execution_count": 77,
   "metadata": {},
   "outputs": [
    {
     "data": {
      "text/html": [
       "   <div id=\"G8gIP2\"></div>\n",
       "   <script type=\"text/javascript\" data-lets-plot-script=\"plot\">\n",
       "       (function() {\n",
       "           var plotSpec={\n",
       "\"data\":{\n",
       "\"Model\":[\"dep_var_hat~i(rel_year,ref=-1.0)\",\"dep_var_hat~i(rel_year,ref=-1.0)\",\"dep_var_hat~i(rel_year,ref=-1.0)\",\"dep_var_hat~i(rel_year,ref=-1.0)\",\"dep_var_hat~i(rel_year,ref=-1.0)\",\"dep_var_hat~i(rel_year,ref=-1.0)\",\"dep_var_hat~i(rel_year,ref=-1.0)\",\"dep_var_hat~i(rel_year,ref=-1.0)\",\"dep_var_hat~i(rel_year,ref=-1.0)\",\"dep_var_hat~i(rel_year,ref=-1.0)\",\"dep_var_hat~i(rel_year,ref=-1.0)\",\"dep_var_hat~i(rel_year,ref=-1.0)\",\"dep_var_hat~i(rel_year,ref=-1.0)\",\"dep_var_hat~i(rel_year,ref=-1.0)\",\"dep_var_hat~i(rel_year,ref=-1.0)\",\"dep_var_hat~i(rel_year,ref=-1.0)\",\"dep_var_hat~i(rel_year,ref=-1.0)\",\"dep_var_hat~i(rel_year,ref=-1.0)\",\"dep_var_hat~i(rel_year,ref=-1.0)\",\"dep_var_hat~i(rel_year,ref=-1.0)\",\"dep_var_hat~i(rel_year,ref=-1.0)\",\"dep_var_hat~i(rel_year,ref=-1.0)\",\"dep_var_hat~i(rel_year,ref=-1.0)\",\"dep_var_hat~i(rel_year,ref=-1.0)\",\"dep_var_hat~i(rel_year,ref=-1.0)\",\"dep_var_hat~i(rel_year,ref=-1.0)\",\"dep_var_hat~i(rel_year,ref=-1.0)\",\"dep_var_hat~i(rel_year,ref=-1.0)\",\"dep_var_hat~i(rel_year,ref=-1.0)\",\"dep_var_hat~i(rel_year,ref=-1.0)\",\"dep_var_hat~i(rel_year,ref=-1.0)\",\"dep_var_hat~i(rel_year,ref=-1.0)\",\"dep_var_hat~i(rel_year,ref=-1.0)\",\"dep_var_hat~i(rel_year,ref=-1.0)\",\"dep_var_hat~i(rel_year,ref=-1.0)\",\"dep_var_hat~i(rel_year,ref=-1.0)\",\"dep_var_hat~i(rel_year,ref=-1.0)\",\"dep_var_hat~i(rel_year,ref=-1.0)\",\"dep_var_hat~i(rel_year,ref=-1.0)\",\"dep_var_hat~i(rel_year,ref=-1.0)\",\"dep_var_hat~i(rel_year,ref=-1.0)\",\"dep_var~i(rel_year,ref=-1.0)|state+year\",\"dep_var~i(rel_year,ref=-1.0)|state+year\",\"dep_var~i(rel_year,ref=-1.0)|state+year\",\"dep_var~i(rel_year,ref=-1.0)|state+year\",\"dep_var~i(rel_year,ref=-1.0)|state+year\",\"dep_var~i(rel_year,ref=-1.0)|state+year\",\"dep_var~i(rel_year,ref=-1.0)|state+year\",\"dep_var~i(rel_year,ref=-1.0)|state+year\",\"dep_var~i(rel_year,ref=-1.0)|state+year\",\"dep_var~i(rel_year,ref=-1.0)|state+year\",\"dep_var~i(rel_year,ref=-1.0)|state+year\",\"dep_var~i(rel_year,ref=-1.0)|state+year\",\"dep_var~i(rel_year,ref=-1.0)|state+year\",\"dep_var~i(rel_year,ref=-1.0)|state+year\",\"dep_var~i(rel_year,ref=-1.0)|state+year\",\"dep_var~i(rel_year,ref=-1.0)|state+year\",\"dep_var~i(rel_year,ref=-1.0)|state+year\",\"dep_var~i(rel_year,ref=-1.0)|state+year\",\"dep_var~i(rel_year,ref=-1.0)|state+year\",\"dep_var~i(rel_year,ref=-1.0)|state+year\",\"dep_var~i(rel_year,ref=-1.0)|state+year\",\"dep_var~i(rel_year,ref=-1.0)|state+year\",\"dep_var~i(rel_year,ref=-1.0)|state+year\",\"dep_var~i(rel_year,ref=-1.0)|state+year\",\"dep_var~i(rel_year,ref=-1.0)|state+year\",\"dep_var~i(rel_year,ref=-1.0)|state+year\",\"dep_var~i(rel_year,ref=-1.0)|state+year\",\"dep_var~i(rel_year,ref=-1.0)|state+year\",\"dep_var~i(rel_year,ref=-1.0)|state+year\",\"dep_var~i(rel_year,ref=-1.0)|state+year\",\"dep_var~i(rel_year,ref=-1.0)|state+year\",\"dep_var~i(rel_year,ref=-1.0)|state+year\",\"dep_var~i(rel_year,ref=-1.0)|state+year\",\"dep_var~i(rel_year,ref=-1.0)|state+year\",\"dep_var~i(rel_year,ref=-1.0)|state+year\",\"dep_var~i(rel_year,ref=-1.0)|state+year\",\"dep_var~i(rel_year,ref=-1.0)|state+year\",\"dep_var~i(rel_year,ref=-1.0)|state+year\",\"dep_var~i(rel_year,ref=-1.0)|state+year\",\"dep_var~i(rel_year,ref=-1.0)|state+year\",\"dep_var~i(rel_year,ref=-1.0)|state+year\"],\n",
       "\"Coefficient\":[\"C(rel_year, contr.treatment(base=-1.0))[T.-20.0]\",\"C(rel_year, contr.treatment(base=-1.0))[T.-19.0]\",\"C(rel_year, contr.treatment(base=-1.0))[T.-18.0]\",\"C(rel_year, contr.treatment(base=-1.0))[T.-17.0]\",\"C(rel_year, contr.treatment(base=-1.0))[T.-16.0]\",\"C(rel_year, contr.treatment(base=-1.0))[T.-15.0]\",\"C(rel_year, contr.treatment(base=-1.0))[T.-14.0]\",\"C(rel_year, contr.treatment(base=-1.0))[T.-13.0]\",\"C(rel_year, contr.treatment(base=-1.0))[T.-12.0]\",\"C(rel_year, contr.treatment(base=-1.0))[T.-11.0]\",\"C(rel_year, contr.treatment(base=-1.0))[T.-10.0]\",\"C(rel_year, contr.treatment(base=-1.0))[T.-9.0]\",\"C(rel_year, contr.treatment(base=-1.0))[T.-8.0]\",\"C(rel_year, contr.treatment(base=-1.0))[T.-7.0]\",\"C(rel_year, contr.treatment(base=-1.0))[T.-6.0]\",\"C(rel_year, contr.treatment(base=-1.0))[T.-5.0]\",\"C(rel_year, contr.treatment(base=-1.0))[T.-4.0]\",\"C(rel_year, contr.treatment(base=-1.0))[T.-3.0]\",\"C(rel_year, contr.treatment(base=-1.0))[T.-2.0]\",\"C(rel_year, contr.treatment(base=-1.0))[T.0.0]\",\"C(rel_year, contr.treatment(base=-1.0))[T.1.0]\",\"C(rel_year, contr.treatment(base=-1.0))[T.2.0]\",\"C(rel_year, contr.treatment(base=-1.0))[T.3.0]\",\"C(rel_year, contr.treatment(base=-1.0))[T.4.0]\",\"C(rel_year, contr.treatment(base=-1.0))[T.5.0]\",\"C(rel_year, contr.treatment(base=-1.0))[T.6.0]\",\"C(rel_year, contr.treatment(base=-1.0))[T.7.0]\",\"C(rel_year, contr.treatment(base=-1.0))[T.8.0]\",\"C(rel_year, contr.treatment(base=-1.0))[T.9.0]\",\"C(rel_year, contr.treatment(base=-1.0))[T.10.0]\",\"C(rel_year, contr.treatment(base=-1.0))[T.11.0]\",\"C(rel_year, contr.treatment(base=-1.0))[T.12.0]\",\"C(rel_year, contr.treatment(base=-1.0))[T.13.0]\",\"C(rel_year, contr.treatment(base=-1.0))[T.14.0]\",\"C(rel_year, contr.treatment(base=-1.0))[T.15.0]\",\"C(rel_year, contr.treatment(base=-1.0))[T.16.0]\",\"C(rel_year, contr.treatment(base=-1.0))[T.17.0]\",\"C(rel_year, contr.treatment(base=-1.0))[T.18.0]\",\"C(rel_year, contr.treatment(base=-1.0))[T.19.0]\",\"C(rel_year, contr.treatment(base=-1.0))[T.20.0]\",\"C(rel_year, contr.treatment(base=-1.0))[T.inf]\",\"C(rel_year, contr.treatment(base=-1.0))[T.-20.0]\",\"C(rel_year, contr.treatment(base=-1.0))[T.-19.0]\",\"C(rel_year, contr.treatment(base=-1.0))[T.-18.0]\",\"C(rel_year, contr.treatment(base=-1.0))[T.-17.0]\",\"C(rel_year, contr.treatment(base=-1.0))[T.-16.0]\",\"C(rel_year, contr.treatment(base=-1.0))[T.-15.0]\",\"C(rel_year, contr.treatment(base=-1.0))[T.-14.0]\",\"C(rel_year, contr.treatment(base=-1.0))[T.-13.0]\",\"C(rel_year, contr.treatment(base=-1.0))[T.-12.0]\",\"C(rel_year, contr.treatment(base=-1.0))[T.-11.0]\",\"C(rel_year, contr.treatment(base=-1.0))[T.-10.0]\",\"C(rel_year, contr.treatment(base=-1.0))[T.-9.0]\",\"C(rel_year, contr.treatment(base=-1.0))[T.-8.0]\",\"C(rel_year, contr.treatment(base=-1.0))[T.-7.0]\",\"C(rel_year, contr.treatment(base=-1.0))[T.-6.0]\",\"C(rel_year, contr.treatment(base=-1.0))[T.-5.0]\",\"C(rel_year, contr.treatment(base=-1.0))[T.-4.0]\",\"C(rel_year, contr.treatment(base=-1.0))[T.-3.0]\",\"C(rel_year, contr.treatment(base=-1.0))[T.-2.0]\",\"C(rel_year, contr.treatment(base=-1.0))[T.0.0]\",\"C(rel_year, contr.treatment(base=-1.0))[T.1.0]\",\"C(rel_year, contr.treatment(base=-1.0))[T.2.0]\",\"C(rel_year, contr.treatment(base=-1.0))[T.3.0]\",\"C(rel_year, contr.treatment(base=-1.0))[T.4.0]\",\"C(rel_year, contr.treatment(base=-1.0))[T.5.0]\",\"C(rel_year, contr.treatment(base=-1.0))[T.6.0]\",\"C(rel_year, contr.treatment(base=-1.0))[T.7.0]\",\"C(rel_year, contr.treatment(base=-1.0))[T.8.0]\",\"C(rel_year, contr.treatment(base=-1.0))[T.9.0]\",\"C(rel_year, contr.treatment(base=-1.0))[T.10.0]\",\"C(rel_year, contr.treatment(base=-1.0))[T.11.0]\",\"C(rel_year, contr.treatment(base=-1.0))[T.12.0]\",\"C(rel_year, contr.treatment(base=-1.0))[T.13.0]\",\"C(rel_year, contr.treatment(base=-1.0))[T.14.0]\",\"C(rel_year, contr.treatment(base=-1.0))[T.15.0]\",\"C(rel_year, contr.treatment(base=-1.0))[T.16.0]\",\"C(rel_year, contr.treatment(base=-1.0))[T.17.0]\",\"C(rel_year, contr.treatment(base=-1.0))[T.18.0]\",\"C(rel_year, contr.treatment(base=-1.0))[T.19.0]\",\"C(rel_year, contr.treatment(base=-1.0))[T.20.0]\",\"C(rel_year, contr.treatment(base=-1.0))[T.inf]\"],\n",
       "\"Estimate\":[-0.07930892379170669,-0.027115309873244755,-0.027235435350764316,-0.03361637397576204,-0.05578068831093835,0.01674513656446518,-0.02086993744456097,-0.022209824688845536,0.005447073274778881,-0.04792474874869773,-0.03247855934296003,-0.03751722264066751,-0.030856942644321275,-0.007104690258118683,-0.039598001783394315,-0.07918308610819687,-0.03422655342074936,-0.015214092720010685,-0.038687531424549226,1.3044622847590652,1.5334860476936707,1.5971037484422894,1.718847309180147,1.8462967066123768,1.9905872778860922,2.0788829001715436,2.1653995661371632,2.258950448012607,2.2777630764062358,2.4147668193865734,2.4563352194604438,2.5072957344947397,2.4814015130523845,2.626326070707077,2.8126319507465785,2.762682379858839,2.811300393411503,2.7770354043917562,2.7861644754695067,2.8148582432189846,0.030505181948300618,-0.09944466441181407,6.23519975400307E-4,0.0041247661867057995,0.021899085459484872,-0.03693340882836111,0.06957783836542085,0.03773442317032304,0.06177914337449611,0.08991270466792296,9.822487465557272E-4,-0.11303282051981747,-0.06922462711945501,-0.061289513093629025,-0.0020224309370890357,-0.05580979472634313,-0.06500868193865345,-0.009849959807181893,0.04633807990097424,0.015947312893775302,1.406404490822593,1.6605518884804105,1.7287900538935237,1.8548389960027065,1.9586760781129549,2.082161283635855,2.1910619949213292,2.279072842371443,2.3645934393351222,2.372162693677256,2.6492711880908235,2.753590871536464,2.81393547422749,2.756069650642772,2.8634270216427646,2.9866523455332556,2.9630322165965404,2.972596421114107,2.9350513290126417,2.9187065136810078,2.979701202491609,0.12805306243573136],\n",
       "\"2.5%\":[-0.1695600913438541,-0.13130815610041208,-0.12259738225267744,-0.1175645163481524,-0.15943222422456108,-0.08271384506652281,-0.11742994692058029,-0.10020049059609207,-0.08409592792949198,-0.16435158427962726,-0.09941164460147212,-0.09715638905461493,-0.09367244147088058,-0.07832139368493432,-0.09281052913292714,-0.1388263127648801,-0.08904078728121567,-0.07493744182060509,-0.10202240184199105,1.194594346575011,1.4072836249567104,1.4860049540989104,1.6001299023272977,1.7528192639692397,1.8801608387434234,1.9527955114720021,2.050837966769707,2.1453420283383227,2.173300068852982,2.2970296208225083,2.2958801505463473,2.3509943789870746,2.315656867630969,2.489639041038913,2.650494736809072,2.601104141911765,2.6557354064354373,2.61676210244634,2.6094181968232464,2.6520847796434914,-0.00971897358507584,-0.2646972304933436,-0.16769018688345885,-0.17734940744468852,-0.15141773681724854,-0.23297450453669644,-0.09484387010242608,-0.13746745521816428,-0.10683560211191703,-0.08181351401233818,-0.15902123698075604,-0.2443506562456939,-0.18461172525475777,-0.18338272511269268,-0.1326928866666348,-0.1866256631156605,-0.1960991761768802,-0.11725094987359078,-0.0809912241439136,-0.11642114159510045,1.2938600189553549,1.5290095619722583,1.613915005015477,1.7368859662793261,1.814774185790572,1.9530023735556978,2.052486677327441,2.1273424786361748,2.2460668440010703,2.257759442916459,2.5356414801659573,2.6008255523798414,2.6534963681556536,2.5975551692265255,2.664416143565802,2.7979163360468178,2.7902393404784664,2.7857206716995413,2.7446638314603145,2.7484109878126053,2.8021561430453152,-0.030754737319463377],\n",
       "\"97.5%\":[0.010942243760440729,0.07707753635392256,0.06812651155114882,0.05033176839662833,0.04787084760268437,0.11620411819545316,0.07569007203145836,0.05578084121840099,0.09499007447904974,0.0685020867822318,0.034454525915552044,0.022121943773279917,0.03195855618223803,0.06411201316869697,0.013614525566138513,-0.019539859451513618,0.02058768043971696,0.04450925638058373,0.024647338992892592,1.4143302229431194,1.659688470430631,1.7082025427856684,1.8375647160329964,1.9397741492555138,2.1010137170287613,2.204970288871085,2.2799611655046195,2.3725588676868914,2.3822260839594893,2.5325040179506386,2.61679028837454,2.663597090002405,2.6471461584738,2.7630131003752405,2.974769164684085,2.924260617805913,2.966865380387569,2.9373087063371726,2.962910754115767,2.9776317067944778,0.07072933748167708,0.06580790166971548,0.16893722683425946,0.1855989398181001,0.1952159077362183,0.15910768687997423,0.2339995468332678,0.21293630155881038,0.23039388886090925,0.2616389233481841,0.1609857344738675,0.018285015206058963,0.04616247101584775,0.060803698925434635,0.12864802479245674,0.07500607366297427,0.0660818122995733,0.09755103025922698,0.1736673839458621,0.14831576738265104,1.5189489626898312,1.7920942149885626,1.8436651027715705,1.972792025726087,2.1025779704353376,2.2113201937160123,2.3296373125152177,2.4308032061067113,2.483120034669174,2.486565944438053,2.7629008960156898,2.9063561906930864,2.9743745802993264,2.914584132059019,3.0624378997197272,3.1753883550196935,3.1358250927146143,3.1594721705286726,3.125438826564969,3.08900203954941,3.157246261937903,0.2868608621909261]\n",
       "},\n",
       "\"mapping\":{\n",
       "\"x\":\"Coefficient\",\n",
       "\"y\":\"Estimate\",\n",
       "\"color\":\"Model\"\n",
       "},\n",
       "\"data_meta\":{\n",
       "},\n",
       "\"ggsize\":{\n",
       "\"width\":900.0,\n",
       "\"height\":400.0\n",
       "},\n",
       "\"theme\":{\n",
       "\"axis_text_x\":{\n",
       "\"angle\":0.0,\n",
       "\"blank\":false\n",
       "}\n",
       "},\n",
       "\"ggtitle\":{\n",
       "\"text\":\"TWFE vs DID2S\"\n",
       "},\n",
       "\"kind\":\"plot\",\n",
       "\"scales\":[{\n",
       "\"name\":\"Estimate and 95% Confidence Interval\",\n",
       "\"aesthetic\":\"y\"\n",
       "}],\n",
       "\"layers\":[{\n",
       "\"geom\":\"point\",\n",
       "\"mapping\":{\n",
       "},\n",
       "\"position\":{\n",
       "\"name\":\"dodge\",\n",
       "\"width\":0.5\n",
       "},\n",
       "\"data_meta\":{\n",
       "},\n",
       "\"data\":{\n",
       "}\n",
       "},{\n",
       "\"geom\":\"errorbar\",\n",
       "\"mapping\":{\n",
       "\"ymin\":\"2.5%\",\n",
       "\"ymax\":\"97.5%\"\n",
       "},\n",
       "\"position\":{\n",
       "\"name\":\"dodge\",\n",
       "\"width\":0.5\n",
       "},\n",
       "\"data_meta\":{\n",
       "},\n",
       "\"width\":0.05,\n",
       "\"data\":{\n",
       "}\n",
       "}],\n",
       "\"metainfo_list\":[]\n",
       "};\n",
       "           var plotContainer = document.getElementById(\"G8gIP2\");\n",
       "           window.letsPlotCall(function() {{\n",
       "               LetsPlot.buildPlotFromProcessedSpecs(plotSpec, -1, -1, plotContainer);\n",
       "           }});\n",
       "       })();\n",
       "   </script>"
      ],
      "text/plain": [
       "<lets_plot.plot.core.PlotSpec at 0x1aa484d0df0>"
      ]
     },
     "execution_count": 77,
     "metadata": {},
     "output_type": "execute_result"
    }
   ],
   "source": [
    "fit_did2s = did2s(\n",
    "    df_het,\n",
    "    yname=\"dep_var\",\n",
    "    first_stage=\"~ 0 | state + year\",\n",
    "    second_stage=\"~i(rel_year,ref= -1.0)\",\n",
    "    treatment=\"treat\",\n",
    "    cluster=\"state\",\n",
    ")\n",
    "\n",
    "fit_twfe = pf.feols(\n",
    "    \"dep_var ~ i(rel_year,ref = -1.0) | state + year\",\n",
    "    df_het,\n",
    "    vcov={\"CRV1\": \"state\"},\n",
    ")\n",
    "\n",
    "pf.iplot(\n",
    "    [fit_did2s, fit_twfe], coord_flip=False, figsize=(900, 400), title=\"TWFE vs DID2S\"\n",
    ")"
   ]
  },
  {
   "cell_type": "markdown",
   "metadata": {},
   "source": [
    "The `event_study()` function provides a common API for several event study estimators."
   ]
  },
  {
   "cell_type": "code",
   "execution_count": 78,
   "metadata": {},
   "outputs": [
    {
     "name": "stdout",
     "output_type": "stream",
     "text": [
      "                          est1              est2\n",
      "------------  ----------------  ----------------\n",
      "depvar                 dep_var       dep_var_hat\n",
      "------------------------------------------------\n",
      "ATT           2.135*** (0.044)  2.152*** (0.048)\n",
      "------------------------------------------------\n",
      "state                        x                 -\n",
      "year                         x                 -\n",
      "------------------------------------------------\n",
      "R2                       0.758             0.338\n",
      "S.E. type            by: state              CRV1\n",
      "Observations             46500             46500\n",
      "------------------------------------------------\n",
      "Significance levels: * p < 0.05, ** p < 0.01, *** p < 0.001\n",
      "Format of coefficient cell:\n",
      "Coefficient (Std. Error)\n"
     ]
    }
   ],
   "source": [
    "fit_twfe = event_study(\n",
    "    data=df_het,\n",
    "    yname=\"dep_var\",\n",
    "    idname=\"state\",\n",
    "    tname=\"year\",\n",
    "    gname=\"g\",\n",
    "    estimator=\"twfe\",\n",
    ")\n",
    "\n",
    "fit_did2s = event_study(\n",
    "    data=df_het,\n",
    "    yname=\"dep_var\",\n",
    "    idname=\"state\",\n",
    "    tname=\"year\",\n",
    "    gname=\"g\",\n",
    "    estimator=\"did2s\",\n",
    ")\n",
    "\n",
    "pf.etable([fit_twfe, fit_did2s])"
   ]
  },
  {
   "cell_type": "markdown",
   "metadata": {},
   "source": [
    "For more details see the vignette on [Difference-in-Differences Estimation](https://py-econometrics.github.io/pyfixest/difference-in-differences.html)."
   ]
  }
 ],
 "metadata": {
  "kernelspec": {
   "display_name": "Python 3",
   "language": "python",
   "name": "python3"
  },
  "language_info": {
   "codemirror_mode": {
    "name": "ipython",
    "version": 3
   },
   "file_extension": ".py",
   "mimetype": "text/x-python",
   "name": "python",
   "nbconvert_exporter": "python",
   "pygments_lexer": "ipython3",
   "version": "3.10.14"
  },
  "orig_nbformat": 4
 },
 "nbformat": 4,
 "nbformat_minor": 2
}
