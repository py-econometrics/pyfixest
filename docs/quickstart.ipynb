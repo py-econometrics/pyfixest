{
 "cells": [
  {
   "cell_type": "markdown",
   "metadata": {},
   "source": [
    "# Getting Started with PyFixest\n",
    "\n",
    "In a first step, we load the module and some example data:"
   ]
  },
  {
   "cell_type": "code",
   "execution_count": 1,
   "metadata": {},
   "outputs": [
    {
     "data": {
      "text/html": [
       "\n",
       "            <div id=\"ELjLek\"></div>\n",
       "            <script type=\"text/javascript\" data-lets-plot-script=\"library\">\n",
       "                if(!window.letsPlotCallQueue) {\n",
       "                    window.letsPlotCallQueue = [];\n",
       "                }; \n",
       "                window.letsPlotCall = function(f) {\n",
       "                    window.letsPlotCallQueue.push(f);\n",
       "                };\n",
       "                (function() {\n",
       "                    var script = document.createElement(\"script\");\n",
       "                    script.type = \"text/javascript\";\n",
       "                    script.src = \"https://cdn.jsdelivr.net/gh/JetBrains/lets-plot@v4.3.2/js-package/distr/lets-plot.min.js\";\n",
       "                    script.onload = function() {\n",
       "                        window.letsPlotCall = function(f) {f();};\n",
       "                        window.letsPlotCallQueue.forEach(function(f) {f();});\n",
       "                        window.letsPlotCallQueue = [];\n",
       "                        \n",
       "                    };\n",
       "                    script.onerror = function(event) {\n",
       "                        window.letsPlotCall = function(f) {};    // noop\n",
       "                        window.letsPlotCallQueue = [];\n",
       "                        var div = document.createElement(\"div\");\n",
       "                        div.style.color = 'darkred';\n",
       "                        div.textContent = 'Error loading Lets-Plot JS';\n",
       "                        document.getElementById(\"ELjLek\").appendChild(div);\n",
       "                    };\n",
       "                    var e = document.getElementById(\"ELjLek\");\n",
       "                    e.appendChild(script);\n",
       "                })()\n",
       "            </script>\n",
       "            "
      ]
     },
     "metadata": {},
     "output_type": "display_data"
    },
    {
     "name": "stdout",
     "output_type": "stream",
     "text": [
      "pyfixest: 0.19.3\n",
      "pandas  : 2.2.2\n",
      "\n"
     ]
    }
   ],
   "source": [
    "import pandas as pd\n",
    "from lets_plot import LetsPlot\n",
    "\n",
    "import pyfixest as pf\n",
    "from pyfixest.did.estimation import did2s\n",
    "from pyfixest.did.event_study import event_study\n",
    "\n",
    "%load_ext autoreload\n",
    "%autoreload 2\n",
    "%load_ext watermark\n",
    "%watermark --iversions"
   ]
  },
  {
   "cell_type": "code",
   "execution_count": 2,
   "metadata": {},
   "outputs": [
    {
     "data": {
      "text/html": [
       "<div>\n",
       "<style scoped>\n",
       "    .dataframe tbody tr th:only-of-type {\n",
       "        vertical-align: middle;\n",
       "    }\n",
       "\n",
       "    .dataframe tbody tr th {\n",
       "        vertical-align: top;\n",
       "    }\n",
       "\n",
       "    .dataframe thead th {\n",
       "        text-align: right;\n",
       "    }\n",
       "</style>\n",
       "<table border=\"1\" class=\"dataframe\">\n",
       "  <thead>\n",
       "    <tr style=\"text-align: right;\">\n",
       "      <th></th>\n",
       "      <th>Y</th>\n",
       "      <th>Y2</th>\n",
       "      <th>X1</th>\n",
       "      <th>X2</th>\n",
       "      <th>f1</th>\n",
       "      <th>f2</th>\n",
       "      <th>f3</th>\n",
       "      <th>group_id</th>\n",
       "      <th>Z1</th>\n",
       "      <th>Z2</th>\n",
       "      <th>weights</th>\n",
       "    </tr>\n",
       "  </thead>\n",
       "  <tbody>\n",
       "    <tr>\n",
       "      <th>0</th>\n",
       "      <td>NaN</td>\n",
       "      <td>2.357103</td>\n",
       "      <td>0.0</td>\n",
       "      <td>0.457858</td>\n",
       "      <td>15.0</td>\n",
       "      <td>0.0</td>\n",
       "      <td>7.0</td>\n",
       "      <td>9.0</td>\n",
       "      <td>-0.330607</td>\n",
       "      <td>1.054826</td>\n",
       "      <td>0.661478</td>\n",
       "    </tr>\n",
       "    <tr>\n",
       "      <th>1</th>\n",
       "      <td>-1.458643</td>\n",
       "      <td>5.163147</td>\n",
       "      <td>NaN</td>\n",
       "      <td>-4.998406</td>\n",
       "      <td>6.0</td>\n",
       "      <td>21.0</td>\n",
       "      <td>4.0</td>\n",
       "      <td>8.0</td>\n",
       "      <td>NaN</td>\n",
       "      <td>-4.113690</td>\n",
       "      <td>0.772732</td>\n",
       "    </tr>\n",
       "    <tr>\n",
       "      <th>2</th>\n",
       "      <td>0.169132</td>\n",
       "      <td>0.751140</td>\n",
       "      <td>2.0</td>\n",
       "      <td>1.558480</td>\n",
       "      <td>NaN</td>\n",
       "      <td>1.0</td>\n",
       "      <td>7.0</td>\n",
       "      <td>16.0</td>\n",
       "      <td>1.207778</td>\n",
       "      <td>0.465282</td>\n",
       "      <td>0.990929</td>\n",
       "    </tr>\n",
       "    <tr>\n",
       "      <th>3</th>\n",
       "      <td>3.319513</td>\n",
       "      <td>-2.656368</td>\n",
       "      <td>1.0</td>\n",
       "      <td>1.560402</td>\n",
       "      <td>1.0</td>\n",
       "      <td>10.0</td>\n",
       "      <td>11.0</td>\n",
       "      <td>3.0</td>\n",
       "      <td>2.869997</td>\n",
       "      <td>0.467570</td>\n",
       "      <td>0.021123</td>\n",
       "    </tr>\n",
       "    <tr>\n",
       "      <th>4</th>\n",
       "      <td>0.134420</td>\n",
       "      <td>-1.866416</td>\n",
       "      <td>2.0</td>\n",
       "      <td>-3.472232</td>\n",
       "      <td>19.0</td>\n",
       "      <td>20.0</td>\n",
       "      <td>6.0</td>\n",
       "      <td>14.0</td>\n",
       "      <td>0.835819</td>\n",
       "      <td>-3.115669</td>\n",
       "      <td>0.790815</td>\n",
       "    </tr>\n",
       "  </tbody>\n",
       "</table>\n",
       "</div>"
      ],
      "text/plain": [
       "          Y        Y2   X1        X2    f1    f2    f3  group_id        Z1  \\\n",
       "0       NaN  2.357103  0.0  0.457858  15.0   0.0   7.0       9.0 -0.330607   \n",
       "1 -1.458643  5.163147  NaN -4.998406   6.0  21.0   4.0       8.0       NaN   \n",
       "2  0.169132  0.751140  2.0  1.558480   NaN   1.0   7.0      16.0  1.207778   \n",
       "3  3.319513 -2.656368  1.0  1.560402   1.0  10.0  11.0       3.0  2.869997   \n",
       "4  0.134420 -1.866416  2.0 -3.472232  19.0  20.0   6.0      14.0  0.835819   \n",
       "\n",
       "         Z2   weights  \n",
       "0  1.054826  0.661478  \n",
       "1 -4.113690  0.772732  \n",
       "2  0.465282  0.990929  \n",
       "3  0.467570  0.021123  \n",
       "4 -3.115669  0.790815  "
      ]
     },
     "execution_count": 2,
     "metadata": {},
     "output_type": "execute_result"
    }
   ],
   "source": [
    "data = pf.get_data()\n",
    "data.head()"
   ]
  },
  {
   "cell_type": "markdown",
   "metadata": {},
   "source": [
    "## OLS Estimation"
   ]
  },
  {
   "cell_type": "markdown",
   "metadata": {},
   "source": [
    "We can estimate a fixed effects regression via the `feols()` function. `feols()` has three arguments: a two-sided model formula, the data, and optionally, the type of inference."
   ]
  },
  {
   "cell_type": "code",
   "execution_count": 3,
   "metadata": {},
   "outputs": [
    {
     "data": {
      "text/plain": [
       "pyfixest.estimation.feols_.Feols"
      ]
     },
     "execution_count": 3,
     "metadata": {},
     "output_type": "execute_result"
    }
   ],
   "source": [
    "fit = pf.feols(fml=\"Y~X1 | f1\", data=data, vcov=\"HC1\")\n",
    "type(fit)"
   ]
  },
  {
   "cell_type": "markdown",
   "metadata": {},
   "source": [
    "The first part of the formula contains the dependent variable and \"regular\" covariates, while the second part contains fixed effects.\n",
    "\n",
    "`feols()` returns an instance of the `Fixest` class."
   ]
  },
  {
   "cell_type": "markdown",
   "metadata": {},
   "source": [
    "To inspect the results, we can use a summary function or method:"
   ]
  },
  {
   "cell_type": "code",
   "execution_count": 4,
   "metadata": {},
   "outputs": [
    {
     "name": "stdout",
     "output_type": "stream",
     "text": [
      "###\n",
      "\n",
      "Estimation:  OLS\n",
      "Dep. var.: Y, Fixed effects: f1\n",
      "Inference:  HC1\n",
      "Observations:  997\n",
      "\n",
      "| Coefficient   |   Estimate |   Std. Error |   t value |   Pr(>|t|) |   2.5% |   97.5% |\n",
      "|:--------------|-----------:|-------------:|----------:|-----------:|-------:|--------:|\n",
      "| X1            |     -0.949 |        0.066 |   -14.311 |      0.000 | -1.080 |  -0.819 |\n",
      "---\n",
      "RMSE: 1.73R2: 0.437R2 Within: 0.161\n"
     ]
    }
   ],
   "source": [
    "fit.summary()"
   ]
  },
  {
   "cell_type": "markdown",
   "metadata": {},
   "source": [
    "Alternatively, the `.summarize` module contains a `summary` function, which can be applied on instances of regression model objects \n",
    "or lists of regression model objects. "
   ]
  },
  {
   "cell_type": "code",
   "execution_count": 5,
   "metadata": {},
   "outputs": [
    {
     "name": "stdout",
     "output_type": "stream",
     "text": [
      "###\n",
      "\n",
      "Estimation:  OLS\n",
      "Dep. var.: Y, Fixed effects: f1\n",
      "Inference:  HC1\n",
      "Observations:  997\n",
      "\n",
      "| Coefficient   |   Estimate |   Std. Error |   t value |   Pr(>|t|) |   2.5% |   97.5% |\n",
      "|:--------------|-----------:|-------------:|----------:|-----------:|-------:|--------:|\n",
      "| X1            |     -0.949 |        0.066 |   -14.311 |      0.000 | -1.080 |  -0.819 |\n",
      "---\n",
      "RMSE: 1.73R2: 0.437R2 Within: 0.161\n"
     ]
    }
   ],
   "source": [
    "pf.summary(fit)"
   ]
  },
  {
   "cell_type": "markdown",
   "metadata": {},
   "source": [
    "You can access individual elements of the summary via dedicated methods: `.tidy()` returns a \"tidy\" `pd.DataFrame`, \n",
    "`.coef()` returns estimated parameters, and `se()` estimated standard errors. Other methods include `pvalue()`, `confint()`\n",
    "and `tstat()`."
   ]
  },
  {
   "cell_type": "code",
   "execution_count": 6,
   "metadata": {},
   "outputs": [
    {
     "data": {
      "text/plain": [
       "Coefficient\n",
       "X1   -0.949441\n",
       "Name: Estimate, dtype: float64"
      ]
     },
     "execution_count": 6,
     "metadata": {},
     "output_type": "execute_result"
    }
   ],
   "source": [
    "fit.coef()"
   ]
  },
  {
   "cell_type": "code",
   "execution_count": 7,
   "metadata": {},
   "outputs": [
    {
     "data": {
      "text/plain": [
       "Coefficient\n",
       "X1    0.066343\n",
       "Name: Std. Error, dtype: float64"
      ]
     },
     "execution_count": 7,
     "metadata": {},
     "output_type": "execute_result"
    }
   ],
   "source": [
    "fit.se()"
   ]
  },
  {
   "cell_type": "markdown",
   "metadata": {},
   "source": [
    "## Standard Errors and Inference"
   ]
  },
  {
   "cell_type": "markdown",
   "metadata": {},
   "source": [
    "Supported covariance types are \"iid\", \"HC1-3\", CRV1 and CRV3 (up to two-way clustering). Inference can be adjusted \"on-the-fly\" via the\n",
    "`.vcov()` method:"
   ]
  },
  {
   "cell_type": "code",
   "execution_count": 8,
   "metadata": {},
   "outputs": [
    {
     "name": "stdout",
     "output_type": "stream",
     "text": [
      "###\n",
      "\n",
      "Estimation:  OLS\n",
      "Dep. var.: Y, Fixed effects: f1\n",
      "Inference:  CRV1\n",
      "Observations:  997\n",
      "\n",
      "| Coefficient   |   Estimate |   Std. Error |   t value |   Pr(>|t|) |   2.5% |   97.5% |\n",
      "|:--------------|-----------:|-------------:|----------:|-----------:|-------:|--------:|\n",
      "| X1            |     -0.949 |        0.088 |   -10.839 |      0.000 | -1.133 |  -0.765 |\n",
      "---\n",
      "RMSE: 1.73R2: 0.437R2 Within: 0.161\n",
      "###\n",
      "\n",
      "Estimation:  OLS\n",
      "Dep. var.: Y, Fixed effects: f1\n",
      "Inference:  CRV3\n",
      "Observations:  997\n",
      "\n",
      "| Coefficient   |   Estimate |   Std. Error |   t value |   Pr(>|t|) |   2.5% |   97.5% |\n",
      "|:--------------|-----------:|-------------:|----------:|-----------:|-------:|--------:|\n",
      "| X1            |     -0.949 |        0.095 |   -10.005 |      0.000 | -1.149 |  -0.750 |\n",
      "---\n",
      "RMSE: 1.73R2: 0.437R2 Within: 0.161\n"
     ]
    }
   ],
   "source": [
    "fit.vcov({\"CRV1\": \"group_id + f1\"}).summary()\n",
    "fit.vcov({\"CRV3\": \"group_id\"}).summary()"
   ]
  },
  {
   "cell_type": "markdown",
   "metadata": {},
   "source": [
    "It is also possible to run a wild (cluster) bootstrap after estimation (via the [wildboottest module](https://github.com/s3alfisc/wildboottest)):"
   ]
  },
  {
   "cell_type": "code",
   "execution_count": 9,
   "metadata": {},
   "outputs": [
    {
     "data": {
      "text/plain": [
       "param                            X1\n",
       "t value           7.568059291000728\n",
       "Pr(>|t|)                        0.0\n",
       "bootstrap_type                   11\n",
       "inference             CRV(group_id)\n",
       "impose_null                    True\n",
       "dtype: object"
      ]
     },
     "execution_count": 9,
     "metadata": {},
     "output_type": "execute_result"
    }
   ],
   "source": [
    "fit2 = pf.feols(fml=\"Y~ X1\", data=data, vcov={\"CRV1\": \"group_id\"})\n",
    "fit2.wildboottest(param=\"X1\", B=999)"
   ]
  },
  {
   "cell_type": "markdown",
   "metadata": {},
   "source": [
    "Additionally, `PyFixest` supports the causal cluster variance estimator following [Abadie et al. (2023)](https://academic.oup.com/qje/article/138/1/1/6750017). "
   ]
  },
  {
   "cell_type": "code",
   "execution_count": 10,
   "metadata": {},
   "outputs": [
    {
     "data": {
      "text/html": [
       "<div>\n",
       "<style scoped>\n",
       "    .dataframe tbody tr th:only-of-type {\n",
       "        vertical-align: middle;\n",
       "    }\n",
       "\n",
       "    .dataframe tbody tr th {\n",
       "        vertical-align: top;\n",
       "    }\n",
       "\n",
       "    .dataframe thead th {\n",
       "        text-align: right;\n",
       "    }\n",
       "</style>\n",
       "<table border=\"1\" class=\"dataframe\">\n",
       "  <thead>\n",
       "    <tr style=\"text-align: right;\">\n",
       "      <th></th>\n",
       "      <th>Estimate</th>\n",
       "      <th>Std. Error</th>\n",
       "      <th>t value</th>\n",
       "      <th>Pr(&gt;|t|)</th>\n",
       "      <th>2.5%</th>\n",
       "      <th>97.5%</th>\n",
       "    </tr>\n",
       "  </thead>\n",
       "  <tbody>\n",
       "    <tr>\n",
       "      <th>CCV</th>\n",
       "      <td>0.4656425903701483</td>\n",
       "      <td>0.00348</td>\n",
       "      <td>133.820078</td>\n",
       "      <td>0.0</td>\n",
       "      <td>0.458657</td>\n",
       "      <td>0.472628</td>\n",
       "    </tr>\n",
       "    <tr>\n",
       "      <th>CRV1</th>\n",
       "      <td>0.465643</td>\n",
       "      <td>0.027142</td>\n",
       "      <td>17.155606</td>\n",
       "      <td>0.0</td>\n",
       "      <td>0.411152</td>\n",
       "      <td>0.520133</td>\n",
       "    </tr>\n",
       "  </tbody>\n",
       "</table>\n",
       "</div>"
      ],
      "text/plain": [
       "                Estimate Std. Error     t value Pr(>|t|)      2.5%     97.5%\n",
       "CCV   0.4656425903701483    0.00348  133.820078      0.0  0.458657  0.472628\n",
       "CRV1            0.465643   0.027142   17.155606      0.0  0.411152  0.520133"
      ]
     },
     "execution_count": 10,
     "metadata": {},
     "output_type": "execute_result"
    }
   ],
   "source": [
    "df = pd.read_stata(\"C:/Users/alexa/Downloads/census2000_5pc.dta\")\n",
    "fit3 = pf.feols(\"ln_earnings ~ college\", vcov={\"CRV1\": \"state\"}, data=df)\n",
    "fit3.ccv(treatment=\"college\", pk=0.05, n_splits=2, seed=929)"
   ]
  },
  {
   "cell_type": "markdown",
   "metadata": {},
   "source": [
    "To correct for multiple testing, p-values can be adjusted via either the Bonferroni or the method by Romano and Wolf (2005)."
   ]
  },
  {
   "cell_type": "code",
   "execution_count": 11,
   "metadata": {},
   "outputs": [
    {
     "data": {
      "text/html": [
       "<div>\n",
       "<style scoped>\n",
       "    .dataframe tbody tr th:only-of-type {\n",
       "        vertical-align: middle;\n",
       "    }\n",
       "\n",
       "    .dataframe tbody tr th {\n",
       "        vertical-align: top;\n",
       "    }\n",
       "\n",
       "    .dataframe thead th {\n",
       "        text-align: right;\n",
       "    }\n",
       "</style>\n",
       "<table border=\"1\" class=\"dataframe\">\n",
       "  <thead>\n",
       "    <tr style=\"text-align: right;\">\n",
       "      <th></th>\n",
       "      <th>est0</th>\n",
       "      <th>est1</th>\n",
       "    </tr>\n",
       "  </thead>\n",
       "  <tbody>\n",
       "    <tr>\n",
       "      <th>Estimate</th>\n",
       "      <td>-0.949</td>\n",
       "      <td>-1.000</td>\n",
       "    </tr>\n",
       "    <tr>\n",
       "      <th>Std. Error</th>\n",
       "      <td>0.095</td>\n",
       "      <td>0.117</td>\n",
       "    </tr>\n",
       "    <tr>\n",
       "      <th>t value</th>\n",
       "      <td>-10.005</td>\n",
       "      <td>-8.568</td>\n",
       "    </tr>\n",
       "    <tr>\n",
       "      <th>Pr(&gt;|t|)</th>\n",
       "      <td>0.000</td>\n",
       "      <td>0.000</td>\n",
       "    </tr>\n",
       "    <tr>\n",
       "      <th>2.5%</th>\n",
       "      <td>-1.149</td>\n",
       "      <td>-1.245</td>\n",
       "    </tr>\n",
       "    <tr>\n",
       "      <th>97.5%</th>\n",
       "      <td>-0.750</td>\n",
       "      <td>-0.755</td>\n",
       "    </tr>\n",
       "    <tr>\n",
       "      <th>Bonferroni Pr(&gt;|t|)</th>\n",
       "      <td>0.000</td>\n",
       "      <td>0.000</td>\n",
       "    </tr>\n",
       "  </tbody>\n",
       "</table>\n",
       "</div>"
      ],
      "text/plain": [
       "                       est0   est1\n",
       "Estimate             -0.949 -1.000\n",
       "Std. Error            0.095  0.117\n",
       "t value             -10.005 -8.568\n",
       "Pr(>|t|)              0.000  0.000\n",
       "2.5%                 -1.149 -1.245\n",
       "97.5%                -0.750 -0.755\n",
       "Bonferroni Pr(>|t|)   0.000  0.000"
      ]
     },
     "execution_count": 11,
     "metadata": {},
     "output_type": "execute_result"
    }
   ],
   "source": [
    "pf.bonferroni([fit, fit2], param=\"X1\").round(3)"
   ]
  },
  {
   "cell_type": "code",
   "execution_count": 12,
   "metadata": {},
   "outputs": [
    {
     "data": {
      "text/html": [
       "<div>\n",
       "<style scoped>\n",
       "    .dataframe tbody tr th:only-of-type {\n",
       "        vertical-align: middle;\n",
       "    }\n",
       "\n",
       "    .dataframe tbody tr th {\n",
       "        vertical-align: top;\n",
       "    }\n",
       "\n",
       "    .dataframe thead th {\n",
       "        text-align: right;\n",
       "    }\n",
       "</style>\n",
       "<table border=\"1\" class=\"dataframe\">\n",
       "  <thead>\n",
       "    <tr style=\"text-align: right;\">\n",
       "      <th></th>\n",
       "      <th>est0</th>\n",
       "      <th>est1</th>\n",
       "    </tr>\n",
       "  </thead>\n",
       "  <tbody>\n",
       "    <tr>\n",
       "      <th>Estimate</th>\n",
       "      <td>-0.949</td>\n",
       "      <td>-1.000</td>\n",
       "    </tr>\n",
       "    <tr>\n",
       "      <th>Std. Error</th>\n",
       "      <td>0.095</td>\n",
       "      <td>0.117</td>\n",
       "    </tr>\n",
       "    <tr>\n",
       "      <th>t value</th>\n",
       "      <td>-10.005</td>\n",
       "      <td>-8.568</td>\n",
       "    </tr>\n",
       "    <tr>\n",
       "      <th>Pr(&gt;|t|)</th>\n",
       "      <td>0.000</td>\n",
       "      <td>0.000</td>\n",
       "    </tr>\n",
       "    <tr>\n",
       "      <th>2.5%</th>\n",
       "      <td>-1.149</td>\n",
       "      <td>-1.245</td>\n",
       "    </tr>\n",
       "    <tr>\n",
       "      <th>97.5%</th>\n",
       "      <td>-0.750</td>\n",
       "      <td>-0.755</td>\n",
       "    </tr>\n",
       "    <tr>\n",
       "      <th>RW Pr(&gt;|t|)</th>\n",
       "      <td>0.893</td>\n",
       "      <td>0.000</td>\n",
       "    </tr>\n",
       "  </tbody>\n",
       "</table>\n",
       "</div>"
      ],
      "text/plain": [
       "               est0   est1\n",
       "Estimate     -0.949 -1.000\n",
       "Std. Error    0.095  0.117\n",
       "t value     -10.005 -8.568\n",
       "Pr(>|t|)      0.000  0.000\n",
       "2.5%         -1.149 -1.245\n",
       "97.5%        -0.750 -0.755\n",
       "RW Pr(>|t|)   0.893  0.000"
      ]
     },
     "execution_count": 12,
     "metadata": {},
     "output_type": "execute_result"
    }
   ],
   "source": [
    "pf.rwolf([fit, fit2], param=\"X1\", B=9999, seed=1234).round(3)"
   ]
  },
  {
   "cell_type": "markdown",
   "metadata": {},
   "source": [
    "## IV Estimation \n",
    "\n",
    "It is also possible to estimate instrumental variable models with *one* endogenous variable and (potentially multiple) instruments:"
   ]
  },
  {
   "cell_type": "code",
   "execution_count": 13,
   "metadata": {},
   "outputs": [
    {
     "name": "stdout",
     "output_type": "stream",
     "text": [
      "###\n",
      "\n",
      "Estimation:  IV\n",
      "Dep. var.: Y2, Fixed effects: f1+f2\n",
      "Inference:  CRV1\n",
      "Observations:  998\n",
      "\n",
      "| Coefficient   |   Estimate |   Std. Error |   t value |   Pr(>|t|) |   2.5% |   97.5% |\n",
      "|:--------------|-----------:|-------------:|----------:|-----------:|-------:|--------:|\n",
      "| X1            |     -1.600 |        0.333 |    -4.801 |      0.000 | -2.282 |  -0.919 |\n",
      "---\n",
      "\n"
     ]
    }
   ],
   "source": [
    "iv_fit = pf.feols(fml=\"Y2~ 1 | f1 + f2 | X1 ~ Z1 + Z2\", data=data)\n",
    "iv_fit.summary()"
   ]
  },
  {
   "cell_type": "markdown",
   "metadata": {},
   "source": [
    "If the model does not contain any fixed effects, just drop the second part of the formula above:"
   ]
  },
  {
   "cell_type": "code",
   "execution_count": 14,
   "metadata": {},
   "outputs": [
    {
     "name": "stdout",
     "output_type": "stream",
     "text": [
      "###\n",
      "\n",
      "Estimation:  IV\n",
      "Dep. var.: Y, Fixed effects: \n",
      "Inference:  iid\n",
      "Observations:  998\n",
      "\n",
      "| Coefficient   |   Estimate |   Std. Error |   t value |   Pr(>|t|) |   2.5% |   97.5% |\n",
      "|:--------------|-----------:|-------------:|----------:|-----------:|-------:|--------:|\n",
      "| Intercept     |      0.911 |        0.156 |     5.843 |      0.000 |  0.605 |   1.217 |\n",
      "| X1            |     -0.993 |        0.134 |    -7.398 |      0.000 | -1.256 |  -0.730 |\n",
      "---\n",
      "\n"
     ]
    }
   ],
   "source": [
    "pf.feols(fml=\"Y~ 1 | X1 ~ Z1 + Z2\", data=data).summary()"
   ]
  },
  {
   "cell_type": "markdown",
   "metadata": {},
   "source": [
    "IV estimation with multiple endogenous variables and multiple estimation syntax is currently not supported. The syntax is \"depvar ~ exog.vars | fixef effects | endog.vars ~ instruments\"."
   ]
  },
  {
   "cell_type": "markdown",
   "metadata": {},
   "source": [
    "## Poisson Regression \n",
    "\n",
    "With version `0.8.4`, it is possible to estimate Poisson Regressions (not yet on PyPi): "
   ]
  },
  {
   "cell_type": "code",
   "execution_count": 15,
   "metadata": {},
   "outputs": [
    {
     "name": "stdout",
     "output_type": "stream",
     "text": [
      "###\n",
      "\n",
      "Estimation:  Poisson\n",
      "Dep. var.: Y, Fixed effects: f1+f2\n",
      "Inference:  CRV1\n",
      "Observations:  997\n",
      "\n",
      "| Coefficient   |   Estimate |   Std. Error |   t value |   Pr(>|t|) |   2.5% |   97.5% |\n",
      "|:--------------|-----------:|-------------:|----------:|-----------:|-------:|--------:|\n",
      "| X1            |     -0.006 |        0.032 |    -0.181 |      0.856 | -0.068 |   0.057 |\n",
      "---\n",
      "Deviance: 1070.014\n"
     ]
    }
   ],
   "source": [
    "pois_data = pf.get_data(model=\"Fepois\")\n",
    "pois_fit = pf.fepois(fml=\"Y~X1 | f1+f2\", data=pois_data, vcov={\"CRV1\": \"group_id\"})\n",
    "pois_fit.summary()"
   ]
  },
  {
   "cell_type": "markdown",
   "metadata": {},
   "source": [
    "## Multiple Estimation \n",
    "\n",
    "`PyFixest` supports a range of multiple estimation functionality: `sw`, `sw0`, `csw`, `csw0`, and multiple dependent variables. If multiple regression syntax is used, \n",
    "`feols()` and `fepois` returns an instance of a `FixestMulti` object, which essentially consists of a dicionary of `Fepois` or [Feols(/reference/Feols.qmd) instances."
   ]
  },
  {
   "cell_type": "code",
   "execution_count": 16,
   "metadata": {},
   "outputs": [
    {
     "data": {
      "text/plain": [
       "<pyfixest.estimation.FixestMulti_.FixestMulti at 0x1d5c0c198d0>"
      ]
     },
     "execution_count": 16,
     "metadata": {},
     "output_type": "execute_result"
    }
   ],
   "source": [
    "multi_fit = pf.feols(fml=\"Y~X1 | csw0(f1, f2)\", data=data, vcov=\"HC1\")\n",
    "multi_fit"
   ]
  },
  {
   "cell_type": "code",
   "execution_count": 17,
   "metadata": {},
   "outputs": [
    {
     "name": "stdout",
     "output_type": "stream",
     "text": [
      "###\n",
      "\n",
      "Estimation:  OLS\n",
      "Dep. var.: Y, Fixed effects: \n",
      "Inference:  HC1\n",
      "Observations:  998\n",
      "\n",
      "| Coefficient   |   Estimate |   Std. Error |   t value |   Pr(>|t|) |   2.5% |   97.5% |\n",
      "|:--------------|-----------:|-------------:|----------:|-----------:|-------:|--------:|\n",
      "| Intercept     |      0.919 |        0.112 |     8.223 |      0.000 |  0.699 |   1.138 |\n",
      "| X1            |     -1.000 |        0.082 |   -12.134 |      0.000 | -1.162 |  -0.838 |\n",
      "---\n",
      "RMSE: 2.158R2: 0.123\n",
      "###\n",
      "\n",
      "Estimation:  OLS\n",
      "Dep. var.: Y, Fixed effects: f1\n",
      "Inference:  HC1\n",
      "Observations:  997\n",
      "\n",
      "| Coefficient   |   Estimate |   Std. Error |   t value |   Pr(>|t|) |   2.5% |   97.5% |\n",
      "|:--------------|-----------:|-------------:|----------:|-----------:|-------:|--------:|\n",
      "| X1            |     -0.949 |        0.066 |   -14.311 |      0.000 | -1.080 |  -0.819 |\n",
      "---\n",
      "RMSE: 1.73R2: 0.437R2 Within: 0.161\n",
      "###\n",
      "\n",
      "Estimation:  OLS\n",
      "Dep. var.: Y, Fixed effects: f1+f2\n",
      "Inference:  HC1\n",
      "Observations:  997\n",
      "\n",
      "| Coefficient   |   Estimate |   Std. Error |   t value |   Pr(>|t|) |   2.5% |   97.5% |\n",
      "|:--------------|-----------:|-------------:|----------:|-----------:|-------:|--------:|\n",
      "| X1            |     -0.919 |        0.058 |   -15.918 |      0.000 | -1.033 |  -0.806 |\n",
      "---\n",
      "RMSE: 1.441R2: 0.609R2 Within: 0.2\n"
     ]
    }
   ],
   "source": [
    "multi_fit.summary()"
   ]
  },
  {
   "cell_type": "markdown",
   "metadata": {},
   "source": [
    "Alternatively, you can look at the estimation results via the `etable()` method:"
   ]
  },
  {
   "cell_type": "code",
   "execution_count": 18,
   "metadata": {},
   "outputs": [
    {
     "name": "stdout",
     "output_type": "stream",
     "text": [
      "                           est1               est2               est3\n",
      "------------  -----------------  -----------------  -----------------\n",
      "depvar                        Y                  Y                  Y\n",
      "---------------------------------------------------------------------\n",
      "Intercept      0.919*** (0.112)\n",
      "X1            -1.000*** (0.082)  -0.949*** (0.066)  -0.919*** (0.058)\n",
      "---------------------------------------------------------------------\n",
      "f2                            -                  -                  x\n",
      "f1                            -                  x                  x\n",
      "                              x                  -                  -\n",
      "---------------------------------------------------------------------\n",
      "R2                        0.123              0.437              0.609\n",
      "S.E. type                hetero             hetero             hetero\n",
      "Observations                998                997                997\n",
      "---------------------------------------------------------------------\n",
      "Significance levels: * p < 0.05, ** p < 0.01, *** p < 0.001\n",
      "Format of coefficient cell:\n",
      "Coefficient (Std. Error)\n"
     ]
    }
   ],
   "source": [
    "multi_fit.etable()"
   ]
  },
  {
   "cell_type": "markdown",
   "metadata": {},
   "source": [
    "If you are only insterested in some parameters, e.g. \"X1\", you can use the following syntax:"
   ]
  },
  {
   "cell_type": "code",
   "execution_count": 19,
   "metadata": {},
   "outputs": [
    {
     "name": "stdout",
     "output_type": "stream",
     "text": [
      "                           est1               est2               est3\n",
      "------------  -----------------  -----------------  -----------------\n",
      "depvar                        Y                  Y                  Y\n",
      "---------------------------------------------------------------------\n",
      "Intercept      0.919*** (0.112)\n",
      "X1            -1.000*** (0.082)  -0.949*** (0.066)  -0.919*** (0.058)\n",
      "---------------------------------------------------------------------\n",
      "f2                            -                  -                  x\n",
      "f1                            -                  x                  x\n",
      "                              x                  -                  -\n",
      "---------------------------------------------------------------------\n",
      "R2                        0.123              0.437              0.609\n",
      "S.E. type                hetero             hetero             hetero\n",
      "Observations                998                997                997\n",
      "---------------------------------------------------------------------\n",
      "Significance levels: * p < 0.05, ** p < 0.01, *** p < 0.001\n",
      "Format of coefficient cell:\n",
      "Coefficient (Std. Error)\n"
     ]
    },
    {
     "ename": "AttributeError",
     "evalue": "'NoneType' object has no attribute 'xs'",
     "output_type": "error",
     "traceback": [
      "\u001b[1;31m---------------------------------------------------------------------------\u001b[0m",
      "\u001b[1;31mAttributeError\u001b[0m                            Traceback (most recent call last)",
      "Cell \u001b[1;32mIn[19], line 1\u001b[0m\n\u001b[1;32m----> 1\u001b[0m \u001b[43mmulti_fit\u001b[49m\u001b[38;5;241;43m.\u001b[39;49m\u001b[43metable\u001b[49m\u001b[43m(\u001b[49m\u001b[43m)\u001b[49m\u001b[38;5;241;43m.\u001b[39;49m\u001b[43mxs\u001b[49m(\u001b[38;5;124m\"\u001b[39m\u001b[38;5;124mX1\u001b[39m\u001b[38;5;124m\"\u001b[39m, level\u001b[38;5;241m=\u001b[39m\u001b[38;5;241m1\u001b[39m, axis\u001b[38;5;241m=\u001b[39m\u001b[38;5;241m1\u001b[39m)\n",
      "\u001b[1;31mAttributeError\u001b[0m: 'NoneType' object has no attribute 'xs'"
     ]
    }
   ],
   "source": [
    "multi_fit.etable().xs(\"X1\", level=1, axis=1)"
   ]
  },
  {
   "cell_type": "markdown",
   "metadata": {},
   "source": [
    "You can access an individual model by its name - i.e. a formula - via the `all_fitted_models` attribure."
   ]
  },
  {
   "cell_type": "code",
   "execution_count": null,
   "metadata": {},
   "outputs": [],
   "source": [
    "multi_fit.all_fitted_models[\"Y~X1\"].tidy()"
   ]
  },
  {
   "cell_type": "markdown",
   "metadata": {},
   "source": [
    "or equivalently via the `fetch_model` method:"
   ]
  },
  {
   "cell_type": "code",
   "execution_count": null,
   "metadata": {},
   "outputs": [],
   "source": [
    "multi_fit.fetch_model(0).tidy()"
   ]
  },
  {
   "cell_type": "markdown",
   "metadata": {},
   "source": [
    "Here, `0` simply fetches the first model stored in the `all_fitted_models` dictionary, `1` the second etc."
   ]
  },
  {
   "cell_type": "markdown",
   "metadata": {},
   "source": [
    "Objects of type `Fixest` come with a range of additional methods: `tidy()`, `coef()`, `vcov()` etc, which \n",
    "essentially loop over the equivalent methods of all fitted models. E.g. `Fixest.vcov()` updates inference for all \n",
    "models stored in `Fixest`."
   ]
  },
  {
   "cell_type": "code",
   "execution_count": null,
   "metadata": {},
   "outputs": [],
   "source": [
    "multi_fit.vcov(\"iid\").summary()"
   ]
  },
  {
   "cell_type": "markdown",
   "metadata": {},
   "source": [
    "If you have estimated multiple models without multiple estimation syntax and still want to compare them, you can use the `etable()` function: "
   ]
  },
  {
   "cell_type": "code",
   "execution_count": null,
   "metadata": {},
   "outputs": [],
   "source": [
    "pf.etable([fit, fit2])"
   ]
  },
  {
   "cell_type": "markdown",
   "metadata": {},
   "source": [
    "## Visualization \n",
    "\n",
    "`PyFixest` provides two functions to visualize the results of a regression: `coefplot` and `iplot`."
   ]
  },
  {
   "cell_type": "code",
   "execution_count": null,
   "metadata": {},
   "outputs": [],
   "source": [
    "LetsPlot.setup_html()\n",
    "\n",
    "multi_fit.coefplot().show()"
   ]
  },
  {
   "cell_type": "markdown",
   "metadata": {},
   "source": [
    "## Difference-in-Differences / Event Study Designs\n",
    "\n",
    "`PyFixest` supports eventy study designs via two-way fixed effects and Gardner's 2-stage estimator. "
   ]
  },
  {
   "cell_type": "code",
   "execution_count": null,
   "metadata": {},
   "outputs": [],
   "source": [
    "url = \"https://raw.githubusercontent.com/s3alfisc/pyfixest/master/pyfixest/did/data/df_het.csv\"\n",
    "df_het = pd.read_csv(url)\n",
    "df_het.head()"
   ]
  },
  {
   "cell_type": "code",
   "execution_count": null,
   "metadata": {},
   "outputs": [],
   "source": [
    "fit_did2s = did2s(\n",
    "    df_het,\n",
    "    yname=\"dep_var\",\n",
    "    first_stage=\"~ 0 | state + year\",\n",
    "    second_stage=\"~i(rel_year,ref= -1.0)\",\n",
    "    treatment=\"treat\",\n",
    "    cluster=\"state\",\n",
    ")\n",
    "\n",
    "fit_twfe = pf.feols(\n",
    "    \"dep_var ~ i(rel_year,ref = -1.0) | state + year\",\n",
    "    df_het,\n",
    "    vcov={\"CRV1\": \"state\"},\n",
    ")\n",
    "\n",
    "pf.iplot(\n",
    "    [fit_did2s, fit_twfe], coord_flip=False, figsize=(900, 400), title=\"TWFE vs DID2S\"\n",
    ")"
   ]
  },
  {
   "cell_type": "markdown",
   "metadata": {},
   "source": [
    "The `event_study()` function provides a common API for several event study estimators."
   ]
  },
  {
   "cell_type": "code",
   "execution_count": null,
   "metadata": {},
   "outputs": [],
   "source": [
    "fit_twfe = event_study(\n",
    "    data=df_het,\n",
    "    yname=\"dep_var\",\n",
    "    idname=\"state\",\n",
    "    tname=\"year\",\n",
    "    gname=\"g\",\n",
    "    estimator=\"twfe\",\n",
    ")\n",
    "\n",
    "fit_did2s = event_study(\n",
    "    data=df_het,\n",
    "    yname=\"dep_var\",\n",
    "    idname=\"state\",\n",
    "    tname=\"year\",\n",
    "    gname=\"g\",\n",
    "    estimator=\"did2s\",\n",
    ")\n",
    "\n",
    "pf.etable([fit_twfe, fit_did2s])"
   ]
  },
  {
   "cell_type": "markdown",
   "metadata": {},
   "source": []
  }
 ],
 "metadata": {
  "kernelspec": {
   "display_name": "Python 3",
   "language": "python",
   "name": "python3"
  },
  "language_info": {
   "codemirror_mode": {
    "name": "ipython",
    "version": 3
   },
   "file_extension": ".py",
   "mimetype": "text/x-python",
   "name": "python",
   "nbconvert_exporter": "python",
   "pygments_lexer": "ipython3",
   "version": "3.10.8"
  },
  "orig_nbformat": 4
 },
 "nbformat": 4,
 "nbformat_minor": 2
}
