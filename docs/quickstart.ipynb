{
 "cells": [
  {
   "cell_type": "markdown",
   "metadata": {},
   "source": [
    "# Getting Started with PyFixest\n",
    "\n",
    "In a first step, we load the module and some example data:"
   ]
  },
  {
   "cell_type": "code",
   "execution_count": 17,
   "metadata": {},
   "outputs": [
    {
     "name": "stdout",
     "output_type": "stream",
     "text": [
      "\n",
      "    You have loaded the 'pyfixest.did' module. While every function is tested in `tests/test_did.py`,\n",
      "    the module is not yet as thoroughly tested as I would like. So please use it with caution and\n",
      "    provide feedback in case you stumble over any bugs!\n",
      "    \n",
      "The autoreload extension is already loaded. To reload it, use:\n",
      "  %reload_ext autoreload\n"
     ]
    }
   ],
   "source": [
    "import pandas as pd\n",
    "from lets_plot import LetsPlot\n",
    "\n",
    "import pyfixest as pf\n",
    "from pyfixest.did.estimation import did2s\n",
    "from pyfixest.did.event_study import event_study\n",
    "\n",
    "%load_ext autoreload\n",
    "%autoreload 2"
   ]
  },
  {
   "cell_type": "code",
   "execution_count": 18,
   "metadata": {},
   "outputs": [
    {
     "data": {
      "text/html": [
       "<div>\n",
       "<style scoped>\n",
       "    .dataframe tbody tr th:only-of-type {\n",
       "        vertical-align: middle;\n",
       "    }\n",
       "\n",
       "    .dataframe tbody tr th {\n",
       "        vertical-align: top;\n",
       "    }\n",
       "\n",
       "    .dataframe thead th {\n",
       "        text-align: right;\n",
       "    }\n",
       "</style>\n",
       "<table border=\"1\" class=\"dataframe\">\n",
       "  <thead>\n",
       "    <tr style=\"text-align: right;\">\n",
       "      <th></th>\n",
       "      <th>Y</th>\n",
       "      <th>Y2</th>\n",
       "      <th>X1</th>\n",
       "      <th>X2</th>\n",
       "      <th>f1</th>\n",
       "      <th>f2</th>\n",
       "      <th>f3</th>\n",
       "      <th>group_id</th>\n",
       "      <th>Z1</th>\n",
       "      <th>Z2</th>\n",
       "      <th>weights</th>\n",
       "    </tr>\n",
       "  </thead>\n",
       "  <tbody>\n",
       "    <tr>\n",
       "      <th>0</th>\n",
       "      <td>NaN</td>\n",
       "      <td>2.357103</td>\n",
       "      <td>0.0</td>\n",
       "      <td>0.457858</td>\n",
       "      <td>15.0</td>\n",
       "      <td>0.0</td>\n",
       "      <td>7.0</td>\n",
       "      <td>9.0</td>\n",
       "      <td>-0.330607</td>\n",
       "      <td>1.054826</td>\n",
       "      <td>0.661478</td>\n",
       "    </tr>\n",
       "    <tr>\n",
       "      <th>1</th>\n",
       "      <td>-1.458643</td>\n",
       "      <td>5.163147</td>\n",
       "      <td>NaN</td>\n",
       "      <td>-4.998406</td>\n",
       "      <td>6.0</td>\n",
       "      <td>21.0</td>\n",
       "      <td>4.0</td>\n",
       "      <td>8.0</td>\n",
       "      <td>NaN</td>\n",
       "      <td>-4.113690</td>\n",
       "      <td>0.772732</td>\n",
       "    </tr>\n",
       "    <tr>\n",
       "      <th>2</th>\n",
       "      <td>0.169132</td>\n",
       "      <td>0.751140</td>\n",
       "      <td>2.0</td>\n",
       "      <td>1.558480</td>\n",
       "      <td>NaN</td>\n",
       "      <td>1.0</td>\n",
       "      <td>7.0</td>\n",
       "      <td>16.0</td>\n",
       "      <td>1.207778</td>\n",
       "      <td>0.465282</td>\n",
       "      <td>0.990929</td>\n",
       "    </tr>\n",
       "    <tr>\n",
       "      <th>3</th>\n",
       "      <td>3.319513</td>\n",
       "      <td>-2.656368</td>\n",
       "      <td>1.0</td>\n",
       "      <td>1.560402</td>\n",
       "      <td>1.0</td>\n",
       "      <td>10.0</td>\n",
       "      <td>11.0</td>\n",
       "      <td>3.0</td>\n",
       "      <td>2.869997</td>\n",
       "      <td>0.467570</td>\n",
       "      <td>0.021123</td>\n",
       "    </tr>\n",
       "    <tr>\n",
       "      <th>4</th>\n",
       "      <td>0.134420</td>\n",
       "      <td>-1.866416</td>\n",
       "      <td>2.0</td>\n",
       "      <td>-3.472232</td>\n",
       "      <td>19.0</td>\n",
       "      <td>20.0</td>\n",
       "      <td>6.0</td>\n",
       "      <td>14.0</td>\n",
       "      <td>0.835819</td>\n",
       "      <td>-3.115669</td>\n",
       "      <td>0.790815</td>\n",
       "    </tr>\n",
       "  </tbody>\n",
       "</table>\n",
       "</div>"
      ],
      "text/plain": [
       "          Y        Y2   X1        X2    f1    f2    f3  group_id        Z1  \\\n",
       "0       NaN  2.357103  0.0  0.457858  15.0   0.0   7.0       9.0 -0.330607   \n",
       "1 -1.458643  5.163147  NaN -4.998406   6.0  21.0   4.0       8.0       NaN   \n",
       "2  0.169132  0.751140  2.0  1.558480   NaN   1.0   7.0      16.0  1.207778   \n",
       "3  3.319513 -2.656368  1.0  1.560402   1.0  10.0  11.0       3.0  2.869997   \n",
       "4  0.134420 -1.866416  2.0 -3.472232  19.0  20.0   6.0      14.0  0.835819   \n",
       "\n",
       "         Z2   weights  \n",
       "0  1.054826  0.661478  \n",
       "1 -4.113690  0.772732  \n",
       "2  0.465282  0.990929  \n",
       "3  0.467570  0.021123  \n",
       "4 -3.115669  0.790815  "
      ]
     },
     "execution_count": 18,
     "metadata": {},
     "output_type": "execute_result"
    }
   ],
   "source": [
    "data = pf.get_data()\n",
    "data.head()"
   ]
  },
  {
   "cell_type": "markdown",
   "metadata": {},
   "source": [
    "## OLS Estimation"
   ]
  },
  {
   "cell_type": "markdown",
   "metadata": {},
   "source": [
    "We can estimate a fixed effects regression via the `feols()` function. `feols()` has three arguments: a two-sided model formula, the data, and optionally, the type of inference."
   ]
  },
  {
   "cell_type": "code",
   "execution_count": 19,
   "metadata": {},
   "outputs": [
    {
     "data": {
      "text/plain": [
       "pyfixest.estimation.feols_.Feols"
      ]
     },
     "execution_count": 19,
     "metadata": {},
     "output_type": "execute_result"
    }
   ],
   "source": [
    "fit = pf.feols(fml=\"Y~X1 | f1\", data=data, vcov=\"HC1\")\n",
    "type(fit)"
   ]
  },
  {
   "cell_type": "markdown",
   "metadata": {},
   "source": [
    "The first part of the formula contains the dependent variable and \"regular\" covariates, while the second part contains fixed effects.\n",
    "\n",
    "`feols()` returns an instance of the `Fixest` class."
   ]
  },
  {
   "cell_type": "markdown",
   "metadata": {},
   "source": [
    "To inspect the results, we can use a summary function or method:"
   ]
  },
  {
   "cell_type": "code",
   "execution_count": 20,
   "metadata": {},
   "outputs": [
    {
     "name": "stdout",
     "output_type": "stream",
     "text": [
      "###\n",
      "\n",
      "Estimation:  OLS\n",
      "Dep. var.: Y, Fixed effects: f1\n",
      "Inference:  HC1\n",
      "Observations:  997\n",
      "\n",
      "| Coefficient   |   Estimate |   Std. Error |   t value |   Pr(>|t|) |   2.5% |   97.5% |\n",
      "|:--------------|-----------:|-------------:|----------:|-----------:|-------:|--------:|\n",
      "| X1            |     -0.949 |        0.066 |   -14.311 |      0.000 | -1.080 |  -0.819 |\n",
      "---\n",
      "RMSE: 1.73   R2: 0.437   R2 Within: 0.161\n"
     ]
    }
   ],
   "source": [
    "fit.summary()"
   ]
  },
  {
   "cell_type": "markdown",
   "metadata": {},
   "source": [
    "Alternatively, the `.summarize` module contains a `summary` function, which can be applied on instances of regression model objects \n",
    "or lists of regression model objects. "
   ]
  },
  {
   "cell_type": "code",
   "execution_count": 21,
   "metadata": {},
   "outputs": [
    {
     "name": "stdout",
     "output_type": "stream",
     "text": [
      "###\n",
      "\n",
      "Estimation:  OLS\n",
      "Dep. var.: Y, Fixed effects: f1\n",
      "Inference:  HC1\n",
      "Observations:  997\n",
      "\n",
      "| Coefficient   |   Estimate |   Std. Error |   t value |   Pr(>|t|) |   2.5% |   97.5% |\n",
      "|:--------------|-----------:|-------------:|----------:|-----------:|-------:|--------:|\n",
      "| X1            |     -0.949 |        0.066 |   -14.311 |      0.000 | -1.080 |  -0.819 |\n",
      "---\n",
      "RMSE: 1.73   R2: 0.437   R2 Within: 0.161\n"
     ]
    }
   ],
   "source": [
    "pf.summary(fit)"
   ]
  },
  {
   "cell_type": "markdown",
   "metadata": {},
   "source": [
    "You can access individual elements of the summary via dedicated methods: `.tidy()` returns a \"tidy\" `pd.DataFrame`, \n",
    "`.coef()` returns estimated parameters, and `se()` estimated standard errors. Other methods include `pvalue()`, `confint()`\n",
    "and `tstat()`."
   ]
  },
  {
   "cell_type": "code",
   "execution_count": 22,
   "metadata": {},
   "outputs": [
    {
     "data": {
      "text/plain": [
       "Coefficient\n",
       "X1   -0.949441\n",
       "Name: Estimate, dtype: float64"
      ]
     },
     "execution_count": 22,
     "metadata": {},
     "output_type": "execute_result"
    }
   ],
   "source": [
    "fit.coef()"
   ]
  },
  {
   "cell_type": "code",
   "execution_count": 23,
   "metadata": {},
   "outputs": [
    {
     "data": {
      "text/plain": [
       "Coefficient\n",
       "X1    0.066343\n",
       "Name: Std. Error, dtype: float64"
      ]
     },
     "execution_count": 23,
     "metadata": {},
     "output_type": "execute_result"
    }
   ],
   "source": [
    "fit.se()"
   ]
  },
  {
   "cell_type": "markdown",
   "metadata": {},
   "source": [
    "## Standard Errors and Inference"
   ]
  },
  {
   "cell_type": "markdown",
   "metadata": {},
   "source": [
    "Supported covariance types are \"iid\", \"HC1-3\", CRV1 and CRV3 (up to two-way clustering). Inference can be adjusted \"on-the-fly\" via the\n",
    "`.vcov()` method:"
   ]
  },
  {
   "cell_type": "code",
   "execution_count": 24,
   "metadata": {},
   "outputs": [
    {
     "name": "stdout",
     "output_type": "stream",
     "text": [
      "###\n",
      "\n",
      "Estimation:  OLS\n",
      "Dep. var.: Y, Fixed effects: f1\n",
      "Inference:  CRV1\n",
      "Observations:  997\n",
      "\n",
      "| Coefficient   |   Estimate |   Std. Error |   t value |   Pr(>|t|) |   2.5% |   97.5% |\n",
      "|:--------------|-----------:|-------------:|----------:|-----------:|-------:|--------:|\n",
      "| X1            |     -0.949 |        0.088 |   -10.839 |      0.000 | -1.133 |  -0.765 |\n",
      "---\n",
      "RMSE: 1.73   R2: 0.437   R2 Within: 0.161\n",
      "###\n",
      "\n",
      "Estimation:  OLS\n",
      "Dep. var.: Y, Fixed effects: f1\n",
      "Inference:  CRV3\n",
      "Observations:  997\n",
      "\n",
      "| Coefficient   |   Estimate |   Std. Error |   t value |   Pr(>|t|) |   2.5% |   97.5% |\n",
      "|:--------------|-----------:|-------------:|----------:|-----------:|-------:|--------:|\n",
      "| X1            |     -0.949 |        0.095 |   -10.005 |      0.000 | -1.149 |  -0.750 |\n",
      "---\n",
      "RMSE: 1.73   R2: 0.437   R2 Within: 0.161\n"
     ]
    }
   ],
   "source": [
    "fit.vcov({\"CRV1\": \"group_id + f1\"}).summary()\n",
    "fit.vcov({\"CRV3\": \"group_id\"}).summary()"
   ]
  },
  {
   "cell_type": "markdown",
   "metadata": {},
   "source": [
    "It is also possible to run a wild (cluster) bootstrap after estimation (via the [wildboottest module](https://github.com/s3alfisc/wildboottest)):"
   ]
  },
  {
   "cell_type": "code",
   "execution_count": 25,
   "metadata": {},
   "outputs": [
    {
     "data": {
      "text/plain": [
       "param                            X1\n",
       "t value                   -8.567587\n",
       "Pr(>|t|)                        0.0\n",
       "bootstrap_type                   11\n",
       "inference         CRV(['group_id'])\n",
       "impose_null                    True\n",
       "dtype: object"
      ]
     },
     "execution_count": 25,
     "metadata": {},
     "output_type": "execute_result"
    }
   ],
   "source": [
    "fit2 = pf.feols(fml=\"Y~ X1\", data=data, vcov={\"CRV1\": \"group_id\"})\n",
    "fit2.wildboottest(param=\"X1\", B=999)"
   ]
  },
  {
   "cell_type": "markdown",
   "metadata": {},
   "source": [
    "Additionally, `PyFixest` supports the causal cluster variance estimator following [Abadie et al. (2023)](https://academic.oup.com/qje/article/138/1/1/6750017). "
   ]
  },
  {
   "cell_type": "code",
   "execution_count": 26,
   "metadata": {},
   "outputs": [
    {
     "name": "stderr",
     "output_type": "stream",
     "text": [
      "100%|██████████| 2/2 [00:03<00:00,  1.99s/it]\n"
     ]
    },
    {
     "data": {
      "text/html": [
       "<div>\n",
       "<style scoped>\n",
       "    .dataframe tbody tr th:only-of-type {\n",
       "        vertical-align: middle;\n",
       "    }\n",
       "\n",
       "    .dataframe tbody tr th {\n",
       "        vertical-align: top;\n",
       "    }\n",
       "\n",
       "    .dataframe thead th {\n",
       "        text-align: right;\n",
       "    }\n",
       "</style>\n",
       "<table border=\"1\" class=\"dataframe\">\n",
       "  <thead>\n",
       "    <tr style=\"text-align: right;\">\n",
       "      <th></th>\n",
       "      <th>Estimate</th>\n",
       "      <th>Std. Error</th>\n",
       "      <th>t value</th>\n",
       "      <th>Pr(&gt;|t|)</th>\n",
       "      <th>2.5%</th>\n",
       "      <th>97.5%</th>\n",
       "    </tr>\n",
       "  </thead>\n",
       "  <tbody>\n",
       "    <tr>\n",
       "      <th>CCV</th>\n",
       "      <td>0.465643</td>\n",
       "      <td>0.003480</td>\n",
       "      <td>133.820078</td>\n",
       "      <td>0.0</td>\n",
       "      <td>0.458657</td>\n",
       "      <td>0.472628</td>\n",
       "    </tr>\n",
       "    <tr>\n",
       "      <th>CRV1</th>\n",
       "      <td>0.465643</td>\n",
       "      <td>0.027142</td>\n",
       "      <td>17.155606</td>\n",
       "      <td>0.0</td>\n",
       "      <td>0.411152</td>\n",
       "      <td>0.520133</td>\n",
       "    </tr>\n",
       "  </tbody>\n",
       "</table>\n",
       "</div>"
      ],
      "text/plain": [
       "      Estimate  Std. Error     t value  Pr(>|t|)      2.5%     97.5%\n",
       "CCV   0.465643    0.003480  133.820078       0.0  0.458657  0.472628\n",
       "CRV1  0.465643    0.027142   17.155606       0.0  0.411152  0.520133"
      ]
     },
     "execution_count": 26,
     "metadata": {},
     "output_type": "execute_result"
    }
   ],
   "source": [
    "df = pd.read_stata(\"C:/Users/alexa/Downloads/census2000_5pc.dta\")\n",
    "fit3 = pf.feols(\"ln_earnings ~ college\", vcov={\"CRV1\": \"state\"}, data=df)\n",
    "fit3.ccv(treatment=\"college\", pk=0.05, n_splits=2, seed=929)"
   ]
  },
  {
   "cell_type": "markdown",
   "metadata": {},
   "source": [
    "To correct for multiple testing, p-values can be adjusted via either the Bonferroni or the method by Romano and Wolf (2005)."
   ]
  },
  {
   "cell_type": "code",
   "execution_count": 27,
   "metadata": {},
   "outputs": [
    {
     "data": {
      "text/html": [
       "<div>\n",
       "<style scoped>\n",
       "    .dataframe tbody tr th:only-of-type {\n",
       "        vertical-align: middle;\n",
       "    }\n",
       "\n",
       "    .dataframe tbody tr th {\n",
       "        vertical-align: top;\n",
       "    }\n",
       "\n",
       "    .dataframe thead th {\n",
       "        text-align: right;\n",
       "    }\n",
       "</style>\n",
       "<table border=\"1\" class=\"dataframe\">\n",
       "  <thead>\n",
       "    <tr style=\"text-align: right;\">\n",
       "      <th></th>\n",
       "      <th>est0</th>\n",
       "      <th>est1</th>\n",
       "    </tr>\n",
       "  </thead>\n",
       "  <tbody>\n",
       "    <tr>\n",
       "      <th>Estimate</th>\n",
       "      <td>-0.949</td>\n",
       "      <td>-1.000</td>\n",
       "    </tr>\n",
       "    <tr>\n",
       "      <th>Std. Error</th>\n",
       "      <td>0.095</td>\n",
       "      <td>0.117</td>\n",
       "    </tr>\n",
       "    <tr>\n",
       "      <th>t value</th>\n",
       "      <td>-10.005</td>\n",
       "      <td>-8.568</td>\n",
       "    </tr>\n",
       "    <tr>\n",
       "      <th>Pr(&gt;|t|)</th>\n",
       "      <td>0.000</td>\n",
       "      <td>0.000</td>\n",
       "    </tr>\n",
       "    <tr>\n",
       "      <th>2.5%</th>\n",
       "      <td>-1.149</td>\n",
       "      <td>-1.245</td>\n",
       "    </tr>\n",
       "    <tr>\n",
       "      <th>97.5%</th>\n",
       "      <td>-0.750</td>\n",
       "      <td>-0.755</td>\n",
       "    </tr>\n",
       "    <tr>\n",
       "      <th>Bonferroni Pr(&gt;|t|)</th>\n",
       "      <td>0.000</td>\n",
       "      <td>0.000</td>\n",
       "    </tr>\n",
       "  </tbody>\n",
       "</table>\n",
       "</div>"
      ],
      "text/plain": [
       "                       est0   est1\n",
       "Estimate             -0.949 -1.000\n",
       "Std. Error            0.095  0.117\n",
       "t value             -10.005 -8.568\n",
       "Pr(>|t|)              0.000  0.000\n",
       "2.5%                 -1.149 -1.245\n",
       "97.5%                -0.750 -0.755\n",
       "Bonferroni Pr(>|t|)   0.000  0.000"
      ]
     },
     "execution_count": 27,
     "metadata": {},
     "output_type": "execute_result"
    }
   ],
   "source": [
    "pf.bonferroni([fit, fit2], param=\"X1\").round(3)"
   ]
  },
  {
   "cell_type": "code",
   "execution_count": 28,
   "metadata": {},
   "outputs": [
    {
     "name": "stderr",
     "output_type": "stream",
     "text": [
      "100%|██████████| 2/2 [00:00<00:00,  3.57it/s]\n"
     ]
    },
    {
     "data": {
      "text/html": [
       "<div>\n",
       "<style scoped>\n",
       "    .dataframe tbody tr th:only-of-type {\n",
       "        vertical-align: middle;\n",
       "    }\n",
       "\n",
       "    .dataframe tbody tr th {\n",
       "        vertical-align: top;\n",
       "    }\n",
       "\n",
       "    .dataframe thead th {\n",
       "        text-align: right;\n",
       "    }\n",
       "</style>\n",
       "<table border=\"1\" class=\"dataframe\">\n",
       "  <thead>\n",
       "    <tr style=\"text-align: right;\">\n",
       "      <th></th>\n",
       "      <th>est0</th>\n",
       "      <th>est1</th>\n",
       "    </tr>\n",
       "  </thead>\n",
       "  <tbody>\n",
       "    <tr>\n",
       "      <th>Estimate</th>\n",
       "      <td>-0.949</td>\n",
       "      <td>-1.000</td>\n",
       "    </tr>\n",
       "    <tr>\n",
       "      <th>Std. Error</th>\n",
       "      <td>0.095</td>\n",
       "      <td>0.117</td>\n",
       "    </tr>\n",
       "    <tr>\n",
       "      <th>t value</th>\n",
       "      <td>-10.005</td>\n",
       "      <td>-8.568</td>\n",
       "    </tr>\n",
       "    <tr>\n",
       "      <th>Pr(&gt;|t|)</th>\n",
       "      <td>0.000</td>\n",
       "      <td>0.000</td>\n",
       "    </tr>\n",
       "    <tr>\n",
       "      <th>2.5%</th>\n",
       "      <td>-1.149</td>\n",
       "      <td>-1.245</td>\n",
       "    </tr>\n",
       "    <tr>\n",
       "      <th>97.5%</th>\n",
       "      <td>-0.750</td>\n",
       "      <td>-0.755</td>\n",
       "    </tr>\n",
       "    <tr>\n",
       "      <th>RW Pr(&gt;|t|)</th>\n",
       "      <td>0.000</td>\n",
       "      <td>0.000</td>\n",
       "    </tr>\n",
       "  </tbody>\n",
       "</table>\n",
       "</div>"
      ],
      "text/plain": [
       "               est0   est1\n",
       "Estimate     -0.949 -1.000\n",
       "Std. Error    0.095  0.117\n",
       "t value     -10.005 -8.568\n",
       "Pr(>|t|)      0.000  0.000\n",
       "2.5%         -1.149 -1.245\n",
       "97.5%        -0.750 -0.755\n",
       "RW Pr(>|t|)   0.000  0.000"
      ]
     },
     "execution_count": 28,
     "metadata": {},
     "output_type": "execute_result"
    }
   ],
   "source": [
    "pf.rwolf([fit, fit2], param=\"X1\", B=9999, seed=1234).round(3)"
   ]
  },
  {
   "cell_type": "markdown",
   "metadata": {},
   "source": [
    "## IV Estimation \n",
    "\n",
    "It is also possible to estimate instrumental variable models with *one* endogenous variable and (potentially multiple) instruments:"
   ]
  },
  {
   "cell_type": "code",
   "execution_count": 29,
   "metadata": {},
   "outputs": [
    {
     "name": "stdout",
     "output_type": "stream",
     "text": [
      "###\n",
      "\n",
      "Estimation:  IV\n",
      "Dep. var.: Y2, Fixed effects: f1+f2\n",
      "Inference:  CRV1\n",
      "Observations:  998\n",
      "\n",
      "| Coefficient   |   Estimate |   Std. Error |   t value |   Pr(>|t|) |   2.5% |   97.5% |\n",
      "|:--------------|-----------:|-------------:|----------:|-----------:|-------:|--------:|\n",
      "| X1            |     -1.600 |        0.333 |    -4.801 |      0.000 | -2.282 |  -0.919 |\n",
      "---\n"
     ]
    }
   ],
   "source": [
    "iv_fit = pf.feols(fml=\"Y2~ 1 | f1 + f2 | X1 ~ Z1 + Z2\", data=data)\n",
    "iv_fit.summary()"
   ]
  },
  {
   "cell_type": "markdown",
   "metadata": {},
   "source": [
    "If the model does not contain any fixed effects, just drop the second part of the formula above:"
   ]
  },
  {
   "cell_type": "code",
   "execution_count": 30,
   "metadata": {},
   "outputs": [
    {
     "name": "stdout",
     "output_type": "stream",
     "text": [
      "###\n",
      "\n",
      "Estimation:  IV\n",
      "Dep. var.: Y\n",
      "Inference:  iid\n",
      "Observations:  998\n",
      "\n",
      "| Coefficient   |   Estimate |   Std. Error |   t value |   Pr(>|t|) |   2.5% |   97.5% |\n",
      "|:--------------|-----------:|-------------:|----------:|-----------:|-------:|--------:|\n",
      "| Intercept     |      0.911 |        0.156 |     5.843 |      0.000 |  0.605 |   1.217 |\n",
      "| X1            |     -0.993 |        0.134 |    -7.398 |      0.000 | -1.256 |  -0.730 |\n",
      "---\n"
     ]
    }
   ],
   "source": [
    "pf.feols(fml=\"Y~ 1 | X1 ~ Z1 + Z2\", data=data).summary()"
   ]
  },
  {
   "cell_type": "markdown",
   "metadata": {},
   "source": [
    "IV estimation with multiple endogenous variables and multiple estimation syntax is currently not supported. The syntax is \"depvar ~ exog.vars | fixef effects | endog.vars ~ instruments\"."
   ]
  },
  {
   "cell_type": "markdown",
   "metadata": {},
   "source": [
    "## Poisson Regression \n",
    "\n",
    "With version `0.8.4`, it is possible to estimate Poisson Regressions (not yet on PyPi): "
   ]
  },
  {
   "cell_type": "code",
   "execution_count": 31,
   "metadata": {},
   "outputs": [
    {
     "name": "stdout",
     "output_type": "stream",
     "text": [
      "###\n",
      "\n",
      "Estimation:  Poisson\n",
      "Dep. var.: Y, Fixed effects: f1+f2\n",
      "Inference:  CRV1\n",
      "Observations:  997\n",
      "\n",
      "| Coefficient   |   Estimate |   Std. Error |   t value |   Pr(>|t|) |   2.5% |   97.5% |\n",
      "|:--------------|-----------:|-------------:|----------:|-----------:|-------:|--------:|\n",
      "| X1            |     -0.007 |        0.031 |    -0.237 |      0.813 | -0.069 |   0.054 |\n",
      "---\n",
      "Deviance: 1070.729\n"
     ]
    }
   ],
   "source": [
    "pois_data = pf.get_data(model=\"Fepois\")\n",
    "pois_fit = pf.fepois(fml=\"Y~X1 | f1+f2\", data=pois_data, vcov={\"CRV1\": \"group_id\"})\n",
    "pois_fit.summary()"
   ]
  },
  {
   "cell_type": "markdown",
   "metadata": {},
   "source": [
    "## Multiple Estimation \n",
    "\n",
    "`PyFixest` supports a range of multiple estimation functionality: `sw`, `sw0`, `csw`, `csw0`, and multiple dependent variables. If multiple regression syntax is used, \n",
    "`feols()` and `fepois` returns an instance of a `FixestMulti` object, which essentially consists of a dicionary of `Fepois` or [Feols(/reference/Feols.qmd) instances."
   ]
  },
  {
   "cell_type": "code",
   "execution_count": 32,
   "metadata": {},
   "outputs": [
    {
     "data": {
      "text/plain": [
       "<pyfixest.estimation.FixestMulti.FixestMulti at 0x29d10f2d690>"
      ]
     },
     "execution_count": 32,
     "metadata": {},
     "output_type": "execute_result"
    }
   ],
   "source": [
    "multi_fit = pf.feols(fml=\"Y~X1 | csw0(f1, f2)\", data=data, vcov=\"HC1\")\n",
    "multi_fit"
   ]
  },
  {
   "cell_type": "code",
   "execution_count": 33,
   "metadata": {},
   "outputs": [
    {
     "name": "stdout",
     "output_type": "stream",
     "text": [
      "###\n",
      "\n",
      "Estimation:  OLS\n",
      "Dep. var.: Y\n",
      "Inference:  HC1\n",
      "Observations:  998\n",
      "\n",
      "| Coefficient   |   Estimate |   Std. Error |   t value |   Pr(>|t|) |   2.5% |   97.5% |\n",
      "|:--------------|-----------:|-------------:|----------:|-----------:|-------:|--------:|\n",
      "| Intercept     |      0.919 |        0.112 |     8.223 |      0.000 |  0.699 |   1.138 |\n",
      "| X1            |     -1.000 |        0.082 |   -12.134 |      0.000 | -1.162 |  -0.838 |\n",
      "---\n",
      "RMSE: 2.158   R2: 0.123\n",
      "###\n",
      "\n",
      "Estimation:  OLS\n",
      "Dep. var.: Y, Fixed effects: f1\n",
      "Inference:  HC1\n",
      "Observations:  997\n",
      "\n",
      "| Coefficient   |   Estimate |   Std. Error |   t value |   Pr(>|t|) |   2.5% |   97.5% |\n",
      "|:--------------|-----------:|-------------:|----------:|-----------:|-------:|--------:|\n",
      "| X1            |     -0.949 |        0.066 |   -14.311 |      0.000 | -1.080 |  -0.819 |\n",
      "---\n",
      "RMSE: 1.73   R2: 0.437   R2 Within: 0.161\n",
      "###\n",
      "\n",
      "Estimation:  OLS\n",
      "Dep. var.: Y, Fixed effects: f1+f2\n",
      "Inference:  HC1\n",
      "Observations:  997\n",
      "\n",
      "| Coefficient   |   Estimate |   Std. Error |   t value |   Pr(>|t|) |   2.5% |   97.5% |\n",
      "|:--------------|-----------:|-------------:|----------:|-----------:|-------:|--------:|\n",
      "| X1            |     -0.919 |        0.058 |   -15.918 |      0.000 | -1.033 |  -0.806 |\n",
      "---\n",
      "RMSE: 1.441   R2: 0.609   R2 Within: 0.2\n"
     ]
    }
   ],
   "source": [
    "multi_fit.summary()"
   ]
  },
  {
   "cell_type": "markdown",
   "metadata": {},
   "source": [
    "Alternatively, you can look at the estimation results via the `etable()` method:"
   ]
  },
  {
   "cell_type": "code",
   "execution_count": 34,
   "metadata": {},
   "outputs": [
    {
     "data": {
      "text/html": [
       "<div>\n",
       "<style scoped>\n",
       "    .dataframe tbody tr th:only-of-type {\n",
       "        vertical-align: middle;\n",
       "    }\n",
       "\n",
       "    .dataframe tbody tr th {\n",
       "        vertical-align: top;\n",
       "    }\n",
       "\n",
       "    .dataframe thead tr th {\n",
       "        text-align: left;\n",
       "    }\n",
       "</style>\n",
       "<table border=\"1\" class=\"dataframe\">\n",
       "  <thead>\n",
       "    <tr>\n",
       "      <th>fml</th>\n",
       "      <th colspan=\"2\" halign=\"left\">Y~X1</th>\n",
       "      <th>Y~X1|f1</th>\n",
       "      <th>Y~X1|f1+f2</th>\n",
       "    </tr>\n",
       "    <tr>\n",
       "      <th>Coefficient</th>\n",
       "      <th>Intercept</th>\n",
       "      <th>X1</th>\n",
       "      <th>X1</th>\n",
       "      <th>X1</th>\n",
       "    </tr>\n",
       "  </thead>\n",
       "  <tbody>\n",
       "    <tr>\n",
       "      <th>Estimate</th>\n",
       "      <td>0.919</td>\n",
       "      <td>-1.000</td>\n",
       "      <td>-0.949</td>\n",
       "      <td>-0.919</td>\n",
       "    </tr>\n",
       "    <tr>\n",
       "      <th>Std. Error</th>\n",
       "      <td>0.112</td>\n",
       "      <td>0.082</td>\n",
       "      <td>0.066</td>\n",
       "      <td>0.058</td>\n",
       "    </tr>\n",
       "    <tr>\n",
       "      <th>t value</th>\n",
       "      <td>8.223</td>\n",
       "      <td>-12.134</td>\n",
       "      <td>-14.311</td>\n",
       "      <td>-15.918</td>\n",
       "    </tr>\n",
       "    <tr>\n",
       "      <th>Pr(&gt;|t|)</th>\n",
       "      <td>0.000</td>\n",
       "      <td>0.000</td>\n",
       "      <td>0.000</td>\n",
       "      <td>0.000</td>\n",
       "    </tr>\n",
       "    <tr>\n",
       "      <th>2.5%</th>\n",
       "      <td>0.699</td>\n",
       "      <td>-1.162</td>\n",
       "      <td>-1.080</td>\n",
       "      <td>-1.033</td>\n",
       "    </tr>\n",
       "    <tr>\n",
       "      <th>97.5%</th>\n",
       "      <td>1.138</td>\n",
       "      <td>-0.838</td>\n",
       "      <td>-0.819</td>\n",
       "      <td>-0.806</td>\n",
       "    </tr>\n",
       "  </tbody>\n",
       "</table>\n",
       "</div>"
      ],
      "text/plain": [
       "fml              Y~X1         Y~X1|f1 Y~X1|f1+f2\n",
       "Coefficient Intercept      X1      X1         X1\n",
       "Estimate        0.919  -1.000  -0.949     -0.919\n",
       "Std. Error      0.112   0.082   0.066      0.058\n",
       "t value         8.223 -12.134 -14.311    -15.918\n",
       "Pr(>|t|)        0.000   0.000   0.000      0.000\n",
       "2.5%            0.699  -1.162  -1.080     -1.033\n",
       "97.5%           1.138  -0.838  -0.819     -0.806"
      ]
     },
     "execution_count": 34,
     "metadata": {},
     "output_type": "execute_result"
    }
   ],
   "source": [
    "multi_fit.etable()"
   ]
  },
  {
   "cell_type": "markdown",
   "metadata": {},
   "source": [
    "If you are only insterested in some parameters, e.g. \"X1\", you can use the following syntax:"
   ]
  },
  {
   "cell_type": "code",
   "execution_count": 35,
   "metadata": {},
   "outputs": [
    {
     "data": {
      "text/html": [
       "<div>\n",
       "<style scoped>\n",
       "    .dataframe tbody tr th:only-of-type {\n",
       "        vertical-align: middle;\n",
       "    }\n",
       "\n",
       "    .dataframe tbody tr th {\n",
       "        vertical-align: top;\n",
       "    }\n",
       "\n",
       "    .dataframe thead th {\n",
       "        text-align: right;\n",
       "    }\n",
       "</style>\n",
       "<table border=\"1\" class=\"dataframe\">\n",
       "  <thead>\n",
       "    <tr style=\"text-align: right;\">\n",
       "      <th>fml</th>\n",
       "      <th>Y~X1</th>\n",
       "      <th>Y~X1|f1</th>\n",
       "      <th>Y~X1|f1+f2</th>\n",
       "    </tr>\n",
       "  </thead>\n",
       "  <tbody>\n",
       "    <tr>\n",
       "      <th>Estimate</th>\n",
       "      <td>-1.000</td>\n",
       "      <td>-0.949</td>\n",
       "      <td>-0.919</td>\n",
       "    </tr>\n",
       "    <tr>\n",
       "      <th>Std. Error</th>\n",
       "      <td>0.082</td>\n",
       "      <td>0.066</td>\n",
       "      <td>0.058</td>\n",
       "    </tr>\n",
       "    <tr>\n",
       "      <th>t value</th>\n",
       "      <td>-12.134</td>\n",
       "      <td>-14.311</td>\n",
       "      <td>-15.918</td>\n",
       "    </tr>\n",
       "    <tr>\n",
       "      <th>Pr(&gt;|t|)</th>\n",
       "      <td>0.000</td>\n",
       "      <td>0.000</td>\n",
       "      <td>0.000</td>\n",
       "    </tr>\n",
       "    <tr>\n",
       "      <th>2.5%</th>\n",
       "      <td>-1.162</td>\n",
       "      <td>-1.080</td>\n",
       "      <td>-1.033</td>\n",
       "    </tr>\n",
       "    <tr>\n",
       "      <th>97.5%</th>\n",
       "      <td>-0.838</td>\n",
       "      <td>-0.819</td>\n",
       "      <td>-0.806</td>\n",
       "    </tr>\n",
       "  </tbody>\n",
       "</table>\n",
       "</div>"
      ],
      "text/plain": [
       "fml           Y~X1  Y~X1|f1  Y~X1|f1+f2\n",
       "Estimate    -1.000   -0.949      -0.919\n",
       "Std. Error   0.082    0.066       0.058\n",
       "t value    -12.134  -14.311     -15.918\n",
       "Pr(>|t|)     0.000    0.000       0.000\n",
       "2.5%        -1.162   -1.080      -1.033\n",
       "97.5%       -0.838   -0.819      -0.806"
      ]
     },
     "execution_count": 35,
     "metadata": {},
     "output_type": "execute_result"
    }
   ],
   "source": [
    "multi_fit.etable().xs(\"X1\", level=1, axis=1)"
   ]
  },
  {
   "cell_type": "markdown",
   "metadata": {},
   "source": [
    "You can access an individual model by its name - i.e. a formula - via the `all_fitted_models` attribure."
   ]
  },
  {
   "cell_type": "code",
   "execution_count": 36,
   "metadata": {},
   "outputs": [
    {
     "data": {
      "text/html": [
       "<div>\n",
       "<style scoped>\n",
       "    .dataframe tbody tr th:only-of-type {\n",
       "        vertical-align: middle;\n",
       "    }\n",
       "\n",
       "    .dataframe tbody tr th {\n",
       "        vertical-align: top;\n",
       "    }\n",
       "\n",
       "    .dataframe thead th {\n",
       "        text-align: right;\n",
       "    }\n",
       "</style>\n",
       "<table border=\"1\" class=\"dataframe\">\n",
       "  <thead>\n",
       "    <tr style=\"text-align: right;\">\n",
       "      <th></th>\n",
       "      <th>Estimate</th>\n",
       "      <th>Std. Error</th>\n",
       "      <th>t value</th>\n",
       "      <th>Pr(&gt;|t|)</th>\n",
       "      <th>2.5%</th>\n",
       "      <th>97.5%</th>\n",
       "    </tr>\n",
       "    <tr>\n",
       "      <th>Coefficient</th>\n",
       "      <th></th>\n",
       "      <th></th>\n",
       "      <th></th>\n",
       "      <th></th>\n",
       "      <th></th>\n",
       "      <th></th>\n",
       "    </tr>\n",
       "  </thead>\n",
       "  <tbody>\n",
       "    <tr>\n",
       "      <th>Intercept</th>\n",
       "      <td>0.918518</td>\n",
       "      <td>0.111707</td>\n",
       "      <td>8.222580</td>\n",
       "      <td>6.661338e-16</td>\n",
       "      <td>0.699310</td>\n",
       "      <td>1.137725</td>\n",
       "    </tr>\n",
       "    <tr>\n",
       "      <th>X1</th>\n",
       "      <td>-1.000086</td>\n",
       "      <td>0.082420</td>\n",
       "      <td>-12.134086</td>\n",
       "      <td>0.000000e+00</td>\n",
       "      <td>-1.161822</td>\n",
       "      <td>-0.838350</td>\n",
       "    </tr>\n",
       "  </tbody>\n",
       "</table>\n",
       "</div>"
      ],
      "text/plain": [
       "             Estimate  Std. Error    t value      Pr(>|t|)      2.5%     97.5%\n",
       "Coefficient                                                                   \n",
       "Intercept    0.918518    0.111707   8.222580  6.661338e-16  0.699310  1.137725\n",
       "X1          -1.000086    0.082420 -12.134086  0.000000e+00 -1.161822 -0.838350"
      ]
     },
     "execution_count": 36,
     "metadata": {},
     "output_type": "execute_result"
    }
   ],
   "source": [
    "multi_fit.all_fitted_models[\"Y~X1\"].tidy()"
   ]
  },
  {
   "cell_type": "markdown",
   "metadata": {},
   "source": [
    "or equivalently via the `fetch_model` method:"
   ]
  },
  {
   "cell_type": "code",
   "execution_count": 37,
   "metadata": {},
   "outputs": [
    {
     "name": "stdout",
     "output_type": "stream",
     "text": [
      "Model:  Y~X1\n"
     ]
    },
    {
     "data": {
      "text/html": [
       "<div>\n",
       "<style scoped>\n",
       "    .dataframe tbody tr th:only-of-type {\n",
       "        vertical-align: middle;\n",
       "    }\n",
       "\n",
       "    .dataframe tbody tr th {\n",
       "        vertical-align: top;\n",
       "    }\n",
       "\n",
       "    .dataframe thead th {\n",
       "        text-align: right;\n",
       "    }\n",
       "</style>\n",
       "<table border=\"1\" class=\"dataframe\">\n",
       "  <thead>\n",
       "    <tr style=\"text-align: right;\">\n",
       "      <th></th>\n",
       "      <th>Estimate</th>\n",
       "      <th>Std. Error</th>\n",
       "      <th>t value</th>\n",
       "      <th>Pr(&gt;|t|)</th>\n",
       "      <th>2.5%</th>\n",
       "      <th>97.5%</th>\n",
       "    </tr>\n",
       "    <tr>\n",
       "      <th>Coefficient</th>\n",
       "      <th></th>\n",
       "      <th></th>\n",
       "      <th></th>\n",
       "      <th></th>\n",
       "      <th></th>\n",
       "      <th></th>\n",
       "    </tr>\n",
       "  </thead>\n",
       "  <tbody>\n",
       "    <tr>\n",
       "      <th>Intercept</th>\n",
       "      <td>0.918518</td>\n",
       "      <td>0.111707</td>\n",
       "      <td>8.222580</td>\n",
       "      <td>6.661338e-16</td>\n",
       "      <td>0.699310</td>\n",
       "      <td>1.137725</td>\n",
       "    </tr>\n",
       "    <tr>\n",
       "      <th>X1</th>\n",
       "      <td>-1.000086</td>\n",
       "      <td>0.082420</td>\n",
       "      <td>-12.134086</td>\n",
       "      <td>0.000000e+00</td>\n",
       "      <td>-1.161822</td>\n",
       "      <td>-0.838350</td>\n",
       "    </tr>\n",
       "  </tbody>\n",
       "</table>\n",
       "</div>"
      ],
      "text/plain": [
       "             Estimate  Std. Error    t value      Pr(>|t|)      2.5%     97.5%\n",
       "Coefficient                                                                   \n",
       "Intercept    0.918518    0.111707   8.222580  6.661338e-16  0.699310  1.137725\n",
       "X1          -1.000086    0.082420 -12.134086  0.000000e+00 -1.161822 -0.838350"
      ]
     },
     "execution_count": 37,
     "metadata": {},
     "output_type": "execute_result"
    }
   ],
   "source": [
    "multi_fit.fetch_model(0).tidy()"
   ]
  },
  {
   "cell_type": "markdown",
   "metadata": {},
   "source": [
    "Here, `0` simply fetches the first model stored in the `all_fitted_models` dictionary, `1` the second etc."
   ]
  },
  {
   "cell_type": "markdown",
   "metadata": {},
   "source": [
    "Objects of type `Fixest` come with a range of additional methods: `tidy()`, `coef()`, `vcov()` etc, which \n",
    "essentially loop over the equivalent methods of all fitted models. E.g. `Fixest.vcov()` updates inference for all \n",
    "models stored in `Fixest`."
   ]
  },
  {
   "cell_type": "code",
   "execution_count": 38,
   "metadata": {},
   "outputs": [
    {
     "name": "stdout",
     "output_type": "stream",
     "text": [
      "###\n",
      "\n",
      "Estimation:  OLS\n",
      "Dep. var.: Y\n",
      "Inference:  iid\n",
      "Observations:  998\n",
      "\n",
      "| Coefficient   |   Estimate |   Std. Error |   t value |   Pr(>|t|) |   2.5% |   97.5% |\n",
      "|:--------------|-----------:|-------------:|----------:|-----------:|-------:|--------:|\n",
      "| Intercept     |      0.919 |        0.112 |     8.214 |      0.000 |  0.699 |   1.138 |\n",
      "| X1            |     -1.000 |        0.085 |   -11.802 |      0.000 | -1.166 |  -0.834 |\n",
      "---\n",
      "RMSE: 2.158   R2: 0.123\n",
      "###\n",
      "\n",
      "Estimation:  OLS\n",
      "Dep. var.: Y, Fixed effects: f1\n",
      "Inference:  iid\n",
      "Observations:  997\n",
      "\n",
      "| Coefficient   |   Estimate |   Std. Error |   t value |   Pr(>|t|) |   2.5% |   97.5% |\n",
      "|:--------------|-----------:|-------------:|----------:|-----------:|-------:|--------:|\n",
      "| X1            |     -0.949 |        0.069 |   -13.846 |      0.000 | -1.084 |  -0.815 |\n",
      "---\n",
      "RMSE: 1.73   R2: 0.437   R2 Within: 0.161\n",
      "###\n",
      "\n",
      "Estimation:  OLS\n",
      "Dep. var.: Y, Fixed effects: f1+f2\n",
      "Inference:  iid\n",
      "Observations:  997\n",
      "\n",
      "| Coefficient   |   Estimate |   Std. Error |   t value |   Pr(>|t|) |   2.5% |   97.5% |\n",
      "|:--------------|-----------:|-------------:|----------:|-----------:|-------:|--------:|\n",
      "| X1            |     -0.919 |        0.058 |   -15.797 |      0.000 | -1.033 |  -0.805 |\n",
      "---\n",
      "RMSE: 1.441   R2: 0.609   R2 Within: 0.2\n"
     ]
    }
   ],
   "source": [
    "multi_fit.vcov(\"iid\").summary()"
   ]
  },
  {
   "cell_type": "markdown",
   "metadata": {},
   "source": [
    "If you have estimated multiple models without multiple estimation syntax and still want to compare them, you can use the `etable()` function: "
   ]
  },
  {
   "cell_type": "code",
   "execution_count": 39,
   "metadata": {},
   "outputs": [
    {
     "name": "stdout",
     "output_type": "stream",
     "text": [
      "                           est1               est2\n",
      "------------  -----------------  -----------------\n",
      "depvar                        Y                  Y\n",
      "--------------------------------------------------\n",
      "X1            -0.949*** (0.095)  -1.000*** (0.117)\n",
      "Intercept                         0.919*** (0.121)\n",
      "--------------------------------------------------\n",
      "f1                            x                  -\n",
      "--------------------------------------------------\n",
      "R2                        0.437              0.123\n",
      "S.E. type          by: group_id       by: group_id\n",
      "Observations                997                998\n",
      "--------------------------------------------------\n",
      "Significance levels: * p < 0.05, ** p < 0.01, *** p < 0.001\n",
      "Format of coefficient cell:\n",
      "Coefficient (Std. Error)\n"
     ]
    }
   ],
   "source": [
    "pf.etable([fit, fit2])"
   ]
  },
  {
   "cell_type": "markdown",
   "metadata": {},
   "source": [
    "## Visualization \n",
    "\n",
    "`PyFixest` provides two functions to visualize the results of a regression: `coefplot` and `iplot`."
   ]
  },
  {
   "cell_type": "code",
   "execution_count": 40,
   "metadata": {},
   "outputs": [
    {
     "data": {
      "text/html": [
       "\n",
       "            <div id=\"ygXlWR\"></div>\n",
       "            <script type=\"text/javascript\" data-lets-plot-script=\"library\">\n",
       "                if(!window.letsPlotCallQueue) {\n",
       "                    window.letsPlotCallQueue = [];\n",
       "                }; \n",
       "                window.letsPlotCall = function(f) {\n",
       "                    window.letsPlotCallQueue.push(f);\n",
       "                };\n",
       "                (function() {\n",
       "                    var script = document.createElement(\"script\");\n",
       "                    script.type = \"text/javascript\";\n",
       "                    script.src = \"https://cdn.jsdelivr.net/gh/JetBrains/lets-plot@v4.2.0/js-package/distr/lets-plot.min.js\";\n",
       "                    script.onload = function() {\n",
       "                        window.letsPlotCall = function(f) {f();};\n",
       "                        window.letsPlotCallQueue.forEach(function(f) {f();});\n",
       "                        window.letsPlotCallQueue = [];\n",
       "                        \n",
       "                    };\n",
       "                    script.onerror = function(event) {\n",
       "                        window.letsPlotCall = function(f) {};    // noop\n",
       "                        window.letsPlotCallQueue = [];\n",
       "                        var div = document.createElement(\"div\");\n",
       "                        div.style.color = 'darkred';\n",
       "                        div.textContent = 'Error loading Lets-Plot JS';\n",
       "                        document.getElementById(\"ygXlWR\").appendChild(div);\n",
       "                    };\n",
       "                    var e = document.getElementById(\"ygXlWR\");\n",
       "                    e.appendChild(script);\n",
       "                })()\n",
       "            </script>\n",
       "            "
      ]
     },
     "metadata": {},
     "output_type": "display_data"
    },
    {
     "data": {
      "text/html": [
       "   <div id=\"qaZDCJ\"></div>\n",
       "   <script type=\"text/javascript\" data-lets-plot-script=\"plot\">\n",
       "       (function() {\n",
       "           var plotSpec={\n",
       "\"data\":{\n",
       "\"Model\":[\"Y~X1\",\"Y~X1\",\"Y~X1|f1\",\"Y~X1|f1+f2\"],\n",
       "\"Coefficient\":[\"Intercept\",\"X1\",\"X1\",\"X1\"],\n",
       "\"Estimate\":[0.9185177588356421,-1.0000858400741555,-0.949441059128626,-0.9192548853827905],\n",
       "\"2.5%\":[0.6990856170653881,-1.1663660739416453,-1.083999760378397,-1.0334504235222997],\n",
       "\"97.5%\":[1.1379499006058962,-0.8338056062066657,-0.8148823578788549,-0.8050593472432814]\n",
       "},\n",
       "\"mapping\":{\n",
       "\"x\":\"Coefficient\",\n",
       "\"y\":\"Estimate\",\n",
       "\"color\":\"Model\"\n",
       "},\n",
       "\"data_meta\":{\n",
       "},\n",
       "\"coord\":{\n",
       "\"name\":\"flip\",\n",
       "\"flip\":true\n",
       "},\n",
       "\"ggsize\":{\n",
       "\"width\":500.0,\n",
       "\"height\":300.0\n",
       "},\n",
       "\"theme\":{\n",
       "\"axis_text_x\":{\n",
       "\"angle\":0.0,\n",
       "\"blank\":false\n",
       "}\n",
       "},\n",
       "\"kind\":\"plot\",\n",
       "\"scales\":[{\n",
       "\"name\":\"Estimate and 95% Confidence Interval\",\n",
       "\"aesthetic\":\"y\"\n",
       "}],\n",
       "\"layers\":[{\n",
       "\"geom\":\"point\",\n",
       "\"mapping\":{\n",
       "},\n",
       "\"position\":{\n",
       "\"name\":\"dodge\",\n",
       "\"width\":0.5\n",
       "},\n",
       "\"data_meta\":{\n",
       "},\n",
       "\"data\":{\n",
       "}\n",
       "},{\n",
       "\"geom\":\"errorbar\",\n",
       "\"mapping\":{\n",
       "\"ymin\":\"2.5%\",\n",
       "\"ymax\":\"97.5%\"\n",
       "},\n",
       "\"position\":{\n",
       "\"name\":\"dodge\",\n",
       "\"width\":0.5\n",
       "},\n",
       "\"data_meta\":{\n",
       "},\n",
       "\"width\":0.05,\n",
       "\"data\":{\n",
       "}\n",
       "},{\n",
       "\"geom\":\"hline\",\n",
       "\"mapping\":{\n",
       "},\n",
       "\"data_meta\":{\n",
       "},\n",
       "\"yintercept\":0.0,\n",
       "\"linetype\":\"dashed\",\n",
       "\"color\":\"black\",\n",
       "\"data\":{\n",
       "}\n",
       "}],\n",
       "\"metainfo_list\":[]\n",
       "};\n",
       "           var plotContainer = document.getElementById(\"qaZDCJ\");\n",
       "           window.letsPlotCall(function() {{\n",
       "               LetsPlot.buildPlotFromProcessedSpecs(plotSpec, -1, -1, plotContainer);\n",
       "           }});\n",
       "       })();    \n",
       "   </script>"
      ]
     },
     "metadata": {},
     "output_type": "display_data"
    }
   ],
   "source": [
    "LetsPlot.setup_html()\n",
    "\n",
    "multi_fit.coefplot().show()"
   ]
  },
  {
   "cell_type": "markdown",
   "metadata": {},
   "source": [
    "## Difference-in-Differences / Event Study Designs\n",
    "\n",
    "`PyFixest` supports eventy study designs via two-way fixed effects and Gardner's 2-stage estimator. "
   ]
  },
  {
   "cell_type": "code",
   "execution_count": 41,
   "metadata": {},
   "outputs": [
    {
     "data": {
      "text/html": [
       "<div>\n",
       "<style scoped>\n",
       "    .dataframe tbody tr th:only-of-type {\n",
       "        vertical-align: middle;\n",
       "    }\n",
       "\n",
       "    .dataframe tbody tr th {\n",
       "        vertical-align: top;\n",
       "    }\n",
       "\n",
       "    .dataframe thead th {\n",
       "        text-align: right;\n",
       "    }\n",
       "</style>\n",
       "<table border=\"1\" class=\"dataframe\">\n",
       "  <thead>\n",
       "    <tr style=\"text-align: right;\">\n",
       "      <th></th>\n",
       "      <th>unit</th>\n",
       "      <th>state</th>\n",
       "      <th>group</th>\n",
       "      <th>unit_fe</th>\n",
       "      <th>g</th>\n",
       "      <th>year</th>\n",
       "      <th>year_fe</th>\n",
       "      <th>treat</th>\n",
       "      <th>rel_year</th>\n",
       "      <th>rel_year_binned</th>\n",
       "      <th>error</th>\n",
       "      <th>te</th>\n",
       "      <th>te_dynamic</th>\n",
       "      <th>dep_var</th>\n",
       "    </tr>\n",
       "  </thead>\n",
       "  <tbody>\n",
       "    <tr>\n",
       "      <th>0</th>\n",
       "      <td>1</td>\n",
       "      <td>33</td>\n",
       "      <td>Group 2</td>\n",
       "      <td>7.043016</td>\n",
       "      <td>2010</td>\n",
       "      <td>1990</td>\n",
       "      <td>0.066159</td>\n",
       "      <td>False</td>\n",
       "      <td>-20.0</td>\n",
       "      <td>-6</td>\n",
       "      <td>-0.086466</td>\n",
       "      <td>0</td>\n",
       "      <td>0.0</td>\n",
       "      <td>7.022709</td>\n",
       "    </tr>\n",
       "    <tr>\n",
       "      <th>1</th>\n",
       "      <td>1</td>\n",
       "      <td>33</td>\n",
       "      <td>Group 2</td>\n",
       "      <td>7.043016</td>\n",
       "      <td>2010</td>\n",
       "      <td>1991</td>\n",
       "      <td>-0.030980</td>\n",
       "      <td>False</td>\n",
       "      <td>-19.0</td>\n",
       "      <td>-6</td>\n",
       "      <td>0.766593</td>\n",
       "      <td>0</td>\n",
       "      <td>0.0</td>\n",
       "      <td>7.778628</td>\n",
       "    </tr>\n",
       "    <tr>\n",
       "      <th>2</th>\n",
       "      <td>1</td>\n",
       "      <td>33</td>\n",
       "      <td>Group 2</td>\n",
       "      <td>7.043016</td>\n",
       "      <td>2010</td>\n",
       "      <td>1992</td>\n",
       "      <td>-0.119607</td>\n",
       "      <td>False</td>\n",
       "      <td>-18.0</td>\n",
       "      <td>-6</td>\n",
       "      <td>1.512968</td>\n",
       "      <td>0</td>\n",
       "      <td>0.0</td>\n",
       "      <td>8.436377</td>\n",
       "    </tr>\n",
       "    <tr>\n",
       "      <th>3</th>\n",
       "      <td>1</td>\n",
       "      <td>33</td>\n",
       "      <td>Group 2</td>\n",
       "      <td>7.043016</td>\n",
       "      <td>2010</td>\n",
       "      <td>1993</td>\n",
       "      <td>0.126321</td>\n",
       "      <td>False</td>\n",
       "      <td>-17.0</td>\n",
       "      <td>-6</td>\n",
       "      <td>0.021870</td>\n",
       "      <td>0</td>\n",
       "      <td>0.0</td>\n",
       "      <td>7.191207</td>\n",
       "    </tr>\n",
       "    <tr>\n",
       "      <th>4</th>\n",
       "      <td>1</td>\n",
       "      <td>33</td>\n",
       "      <td>Group 2</td>\n",
       "      <td>7.043016</td>\n",
       "      <td>2010</td>\n",
       "      <td>1994</td>\n",
       "      <td>-0.106921</td>\n",
       "      <td>False</td>\n",
       "      <td>-16.0</td>\n",
       "      <td>-6</td>\n",
       "      <td>-0.017603</td>\n",
       "      <td>0</td>\n",
       "      <td>0.0</td>\n",
       "      <td>6.918492</td>\n",
       "    </tr>\n",
       "  </tbody>\n",
       "</table>\n",
       "</div>"
      ],
      "text/plain": [
       "   unit  state    group   unit_fe     g  year   year_fe  treat  rel_year  \\\n",
       "0     1     33  Group 2  7.043016  2010  1990  0.066159  False     -20.0   \n",
       "1     1     33  Group 2  7.043016  2010  1991 -0.030980  False     -19.0   \n",
       "2     1     33  Group 2  7.043016  2010  1992 -0.119607  False     -18.0   \n",
       "3     1     33  Group 2  7.043016  2010  1993  0.126321  False     -17.0   \n",
       "4     1     33  Group 2  7.043016  2010  1994 -0.106921  False     -16.0   \n",
       "\n",
       "   rel_year_binned     error  te  te_dynamic   dep_var  \n",
       "0               -6 -0.086466   0         0.0  7.022709  \n",
       "1               -6  0.766593   0         0.0  7.778628  \n",
       "2               -6  1.512968   0         0.0  8.436377  \n",
       "3               -6  0.021870   0         0.0  7.191207  \n",
       "4               -6 -0.017603   0         0.0  6.918492  "
      ]
     },
     "execution_count": 41,
     "metadata": {},
     "output_type": "execute_result"
    }
   ],
   "source": [
    "url = \"https://raw.githubusercontent.com/s3alfisc/pyfixest/master/pyfixest/did/data/df_het.csv\"\n",
    "df_het = pd.read_csv(url)\n",
    "df_het.head()"
   ]
  },
  {
   "cell_type": "code",
   "execution_count": 42,
   "metadata": {},
   "outputs": [
    {
     "data": {
      "text/html": [
       "   <div id=\"z4xpkP\"></div>\n",
       "   <script type=\"text/javascript\" data-lets-plot-script=\"plot\">\n",
       "       (function() {\n",
       "           var plotSpec={\n",
       "\"data\":{\n",
       "\"Model\":[\"dep_var_hat~i(rel_year)\",\"dep_var_hat~i(rel_year)\",\"dep_var_hat~i(rel_year)\",\"dep_var_hat~i(rel_year)\",\"dep_var_hat~i(rel_year)\",\"dep_var_hat~i(rel_year)\",\"dep_var_hat~i(rel_year)\",\"dep_var_hat~i(rel_year)\",\"dep_var_hat~i(rel_year)\",\"dep_var_hat~i(rel_year)\",\"dep_var_hat~i(rel_year)\",\"dep_var_hat~i(rel_year)\",\"dep_var_hat~i(rel_year)\",\"dep_var_hat~i(rel_year)\",\"dep_var_hat~i(rel_year)\",\"dep_var_hat~i(rel_year)\",\"dep_var_hat~i(rel_year)\",\"dep_var_hat~i(rel_year)\",\"dep_var_hat~i(rel_year)\",\"dep_var_hat~i(rel_year)\",\"dep_var_hat~i(rel_year)\",\"dep_var_hat~i(rel_year)\",\"dep_var_hat~i(rel_year)\",\"dep_var_hat~i(rel_year)\",\"dep_var_hat~i(rel_year)\",\"dep_var_hat~i(rel_year)\",\"dep_var_hat~i(rel_year)\",\"dep_var_hat~i(rel_year)\",\"dep_var_hat~i(rel_year)\",\"dep_var_hat~i(rel_year)\",\"dep_var_hat~i(rel_year)\",\"dep_var_hat~i(rel_year)\",\"dep_var_hat~i(rel_year)\",\"dep_var_hat~i(rel_year)\",\"dep_var_hat~i(rel_year)\",\"dep_var_hat~i(rel_year)\",\"dep_var_hat~i(rel_year)\",\"dep_var_hat~i(rel_year)\",\"dep_var_hat~i(rel_year)\",\"dep_var_hat~i(rel_year)\",\"dep_var~i(rel_year)|state+year\",\"dep_var~i(rel_year)|state+year\",\"dep_var~i(rel_year)|state+year\",\"dep_var~i(rel_year)|state+year\",\"dep_var~i(rel_year)|state+year\",\"dep_var~i(rel_year)|state+year\",\"dep_var~i(rel_year)|state+year\",\"dep_var~i(rel_year)|state+year\",\"dep_var~i(rel_year)|state+year\",\"dep_var~i(rel_year)|state+year\",\"dep_var~i(rel_year)|state+year\",\"dep_var~i(rel_year)|state+year\",\"dep_var~i(rel_year)|state+year\",\"dep_var~i(rel_year)|state+year\",\"dep_var~i(rel_year)|state+year\",\"dep_var~i(rel_year)|state+year\",\"dep_var~i(rel_year)|state+year\",\"dep_var~i(rel_year)|state+year\",\"dep_var~i(rel_year)|state+year\",\"dep_var~i(rel_year)|state+year\",\"dep_var~i(rel_year)|state+year\",\"dep_var~i(rel_year)|state+year\",\"dep_var~i(rel_year)|state+year\",\"dep_var~i(rel_year)|state+year\",\"dep_var~i(rel_year)|state+year\",\"dep_var~i(rel_year)|state+year\",\"dep_var~i(rel_year)|state+year\",\"dep_var~i(rel_year)|state+year\",\"dep_var~i(rel_year)|state+year\",\"dep_var~i(rel_year)|state+year\",\"dep_var~i(rel_year)|state+year\",\"dep_var~i(rel_year)|state+year\",\"dep_var~i(rel_year)|state+year\",\"dep_var~i(rel_year)|state+year\",\"dep_var~i(rel_year)|state+year\",\"dep_var~i(rel_year)|state+year\",\"dep_var~i(rel_year)|state+year\",\"dep_var~i(rel_year)|state+year\",\"dep_var~i(rel_year)|state+year\",\"dep_var~i(rel_year)|state+year\"],\n",
       "\"Coefficient\":[\"C(rel_year,contr.treatment(base=-1.0))[T.-20.0]\",\"C(rel_year,contr.treatment(base=-1.0))[T.-19.0]\",\"C(rel_year,contr.treatment(base=-1.0))[T.-18.0]\",\"C(rel_year,contr.treatment(base=-1.0))[T.-17.0]\",\"C(rel_year,contr.treatment(base=-1.0))[T.-16.0]\",\"C(rel_year,contr.treatment(base=-1.0))[T.-15.0]\",\"C(rel_year,contr.treatment(base=-1.0))[T.-14.0]\",\"C(rel_year,contr.treatment(base=-1.0))[T.-13.0]\",\"C(rel_year,contr.treatment(base=-1.0))[T.-12.0]\",\"C(rel_year,contr.treatment(base=-1.0))[T.-11.0]\",\"C(rel_year,contr.treatment(base=-1.0))[T.-10.0]\",\"C(rel_year,contr.treatment(base=-1.0))[T.-9.0]\",\"C(rel_year,contr.treatment(base=-1.0))[T.-8.0]\",\"C(rel_year,contr.treatment(base=-1.0))[T.-7.0]\",\"C(rel_year,contr.treatment(base=-1.0))[T.-6.0]\",\"C(rel_year,contr.treatment(base=-1.0))[T.-5.0]\",\"C(rel_year,contr.treatment(base=-1.0))[T.-4.0]\",\"C(rel_year,contr.treatment(base=-1.0))[T.-3.0]\",\"C(rel_year,contr.treatment(base=-1.0))[T.-2.0]\",\"C(rel_year,contr.treatment(base=-1.0))[T.0.0]\",\"C(rel_year,contr.treatment(base=-1.0))[T.1.0]\",\"C(rel_year,contr.treatment(base=-1.0))[T.2.0]\",\"C(rel_year,contr.treatment(base=-1.0))[T.3.0]\",\"C(rel_year,contr.treatment(base=-1.0))[T.4.0]\",\"C(rel_year,contr.treatment(base=-1.0))[T.5.0]\",\"C(rel_year,contr.treatment(base=-1.0))[T.6.0]\",\"C(rel_year,contr.treatment(base=-1.0))[T.7.0]\",\"C(rel_year,contr.treatment(base=-1.0))[T.8.0]\",\"C(rel_year,contr.treatment(base=-1.0))[T.9.0]\",\"C(rel_year,contr.treatment(base=-1.0))[T.10.0]\",\"C(rel_year,contr.treatment(base=-1.0))[T.11.0]\",\"C(rel_year,contr.treatment(base=-1.0))[T.12.0]\",\"C(rel_year,contr.treatment(base=-1.0))[T.13.0]\",\"C(rel_year,contr.treatment(base=-1.0))[T.14.0]\",\"C(rel_year,contr.treatment(base=-1.0))[T.15.0]\",\"C(rel_year,contr.treatment(base=-1.0))[T.16.0]\",\"C(rel_year,contr.treatment(base=-1.0))[T.17.0]\",\"C(rel_year,contr.treatment(base=-1.0))[T.18.0]\",\"C(rel_year,contr.treatment(base=-1.0))[T.19.0]\",\"C(rel_year,contr.treatment(base=-1.0))[T.20.0]\",\"C(rel_year,contr.treatment(base=-1.0))[T.-20.0]\",\"C(rel_year,contr.treatment(base=-1.0))[T.-19.0]\",\"C(rel_year,contr.treatment(base=-1.0))[T.-18.0]\",\"C(rel_year,contr.treatment(base=-1.0))[T.-17.0]\",\"C(rel_year,contr.treatment(base=-1.0))[T.-16.0]\",\"C(rel_year,contr.treatment(base=-1.0))[T.-15.0]\",\"C(rel_year,contr.treatment(base=-1.0))[T.-14.0]\",\"C(rel_year,contr.treatment(base=-1.0))[T.-13.0]\",\"C(rel_year,contr.treatment(base=-1.0))[T.-12.0]\",\"C(rel_year,contr.treatment(base=-1.0))[T.-11.0]\",\"C(rel_year,contr.treatment(base=-1.0))[T.-10.0]\",\"C(rel_year,contr.treatment(base=-1.0))[T.-9.0]\",\"C(rel_year,contr.treatment(base=-1.0))[T.-8.0]\",\"C(rel_year,contr.treatment(base=-1.0))[T.-7.0]\",\"C(rel_year,contr.treatment(base=-1.0))[T.-6.0]\",\"C(rel_year,contr.treatment(base=-1.0))[T.-5.0]\",\"C(rel_year,contr.treatment(base=-1.0))[T.-4.0]\",\"C(rel_year,contr.treatment(base=-1.0))[T.-3.0]\",\"C(rel_year,contr.treatment(base=-1.0))[T.-2.0]\",\"C(rel_year,contr.treatment(base=-1.0))[T.0.0]\",\"C(rel_year,contr.treatment(base=-1.0))[T.1.0]\",\"C(rel_year,contr.treatment(base=-1.0))[T.2.0]\",\"C(rel_year,contr.treatment(base=-1.0))[T.3.0]\",\"C(rel_year,contr.treatment(base=-1.0))[T.4.0]\",\"C(rel_year,contr.treatment(base=-1.0))[T.5.0]\",\"C(rel_year,contr.treatment(base=-1.0))[T.6.0]\",\"C(rel_year,contr.treatment(base=-1.0))[T.7.0]\",\"C(rel_year,contr.treatment(base=-1.0))[T.8.0]\",\"C(rel_year,contr.treatment(base=-1.0))[T.9.0]\",\"C(rel_year,contr.treatment(base=-1.0))[T.10.0]\",\"C(rel_year,contr.treatment(base=-1.0))[T.11.0]\",\"C(rel_year,contr.treatment(base=-1.0))[T.12.0]\",\"C(rel_year,contr.treatment(base=-1.0))[T.13.0]\",\"C(rel_year,contr.treatment(base=-1.0))[T.14.0]\",\"C(rel_year,contr.treatment(base=-1.0))[T.15.0]\",\"C(rel_year,contr.treatment(base=-1.0))[T.16.0]\",\"C(rel_year,contr.treatment(base=-1.0))[T.17.0]\",\"C(rel_year,contr.treatment(base=-1.0))[T.18.0]\",\"C(rel_year,contr.treatment(base=-1.0))[T.19.0]\",\"C(rel_year,contr.treatment(base=-1.0))[T.20.0]\"],\n",
       "\"Estimate\":[-0.07930892379170333,-0.027115309873246115,-0.027235435350764413,-0.033616373975760665,-0.055780688310939505,0.016745136564464077,-0.02086993744456189,-0.022209824688845633,0.00544707327477953,-0.04792474874869768,-0.032478559342958555,-0.03751722264066829,-0.03085694264432139,-0.007104690258118656,-0.039598001783394995,-0.07918308610819759,-0.03422655342074944,-0.01521409272001079,-0.03868753142454859,1.3044622847590652,1.5334860476936714,1.5971037484422879,1.718847309180147,1.8462967066123768,1.9905872778860918,2.0788829001715454,2.1653995661371614,2.2589504480126075,2.277763076406235,2.4147668193865743,2.4563352194604433,2.5072957344947397,2.481401513052383,2.626326070707078,2.8126319507465793,2.7626823798588402,2.8113003934115026,2.777035404391758,2.7861644754695045,2.814858243218984,-0.22734633251766023,-0.1272771153120843,-0.1237758691007779,-0.1060015498279996,-0.16483404411584687,-0.05832279692206515,-0.09016621211716226,-0.06612149191298866,-0.03798793061956296,-0.06754151202395577,-0.24090366482529674,-0.1970932472415333,-0.18915813321570582,-0.12989105105916723,-0.18367841484842412,-0.19287730206073464,-0.1377185799292612,-0.0815305402211041,-0.11192130722830529,1.2785435159225196,1.5326991532775651,1.6009373186906781,1.7269862607998625,1.830823342910108,1.9543085484330076,2.0632092597184863,2.151220107168598,2.236740704132276,2.279125132191415,2.521420534475566,2.62577234464654,2.6861169473375632,2.6282511237528494,2.7356084947528347,2.8588338186433297,2.8352136897066167,2.8447778942241815,2.807232802122718,2.8081621821794074,2.851883708420047],\n",
       "\"2.5%\":[-0.16956009129324157,-0.13130815604198615,-0.12259738219920224,-0.11756451630107614,-0.15943222416643846,-0.08271384501075114,-0.11742994686643408,-0.100200490552358,-0.08409592787927907,-0.1643515842143395,-0.0994116445639371,-0.09715638902117232,-0.09367244143565619,-0.07832139364499871,-0.09281052910308828,-0.1388263127314352,-0.08904078725047804,-0.07493744178711463,-0.10202240180647465,1.194594346636621,1.4072836250274805,1.4860049541612088,1.60012990239387,1.7528192640216584,1.880160838805346,1.952795511542709,2.050837966833947,2.1453420284020304,2.1733000689115602,2.2970296208885315,2.2958801506363242,2.3509943790747223,2.315656867723911,2.4896390411155633,2.650494736899993,2.6011041420023733,2.655735406522672,2.616762102536217,2.609418196922357,2.652084779734768,-0.4183523467858589,-0.33485360906538,-0.317344688796361,-0.2853804723339484,-0.3759363204064454,-0.25129599132605135,-0.2824539551123887,-0.2304954863802457,-0.20884854788249868,-0.25562421026798643,-0.3981218380110474,-0.3305517524979302,-0.33043959200876477,-0.2863980851729783,-0.31535501295788015,-0.3264604161187261,-0.2607659070732527,-0.222798068645701,-0.2389947756329778,1.1425949792170824,1.3821962851103886,1.4800248877728868,1.5876806679251518,1.7184828402699988,1.8228490095869443,1.9146676837813412,2.010520492126926,2.0995591034099292,2.1745509450264398,2.3938558899523446,2.4491911684724963,2.5298743417406353,2.4455454452791114,2.574753838371565,2.674558822863333,2.651296000025836,2.669990129775672,2.631449136300978,2.635127852241946,2.676132298221421],\n",
       "\"97.5%\":[0.01094224370983489,0.07707753629549391,0.06812651149767343,0.05033176834955481,0.04787084754455945,0.1162041181396793,0.0756900719773103,0.05578084117466672,0.09499007442883813,0.06850208671694413,0.03445452587801999,0.022121943739835746,0.031958556147013414,0.06411201312876139,0.013614525536298286,-0.01953985948495999,0.020587680408979153,0.04450925634709305,0.024647338957377474,1.4143302228815096,1.6596884703598622,1.708202542723367,1.8375647159664241,1.939774149203095,2.101013716966838,2.2049702888003817,2.2799611654403757,2.3725588676231846,2.3822260839009095,2.532504017884617,2.6167902882845624,2.663597089914757,2.6471461583808553,2.763013100298593,2.9747691645931655,2.924260617715307,2.9668653803003333,2.937308706247299,2.962910754016652,2.9776317067032,-0.036340318249461545,0.08029937844121135,0.06979295059480525,0.07337737267794923,0.04626823217475168,0.13465039748192106,0.10212153087806415,0.09825250255426837,0.13287268664337276,0.12054118622007491,-0.08368549163954608,-0.06363474198513641,-0.04787667442264687,0.026615983054643855,-0.05200181673896809,-0.05929418800274314,-0.014671252785269692,0.05973698820349281,0.015152161176367224,1.4144920526279567,1.6832020214447416,1.7218497496084695,1.8662918536745732,1.9431638455502172,2.085768087279071,2.2117508356556317,2.29191972221027,2.373922304854623,2.3836993193563907,2.6489851789987875,2.802353520820584,2.842359552934491,2.8109568022265874,2.8964631511341046,3.0431088144233267,3.0191313793873973,3.019565658672691,2.983016467944458,2.9811965121168686,3.027635118618673]\n",
       "},\n",
       "\"mapping\":{\n",
       "\"x\":\"Coefficient\",\n",
       "\"y\":\"Estimate\",\n",
       "\"color\":\"Model\"\n",
       "},\n",
       "\"data_meta\":{\n",
       "},\n",
       "\"ggsize\":{\n",
       "\"width\":900.0,\n",
       "\"height\":400.0\n",
       "},\n",
       "\"theme\":{\n",
       "\"axis_text_x\":{\n",
       "\"angle\":0.0,\n",
       "\"blank\":false\n",
       "}\n",
       "},\n",
       "\"ggtitle\":{\n",
       "\"text\":\"TWFE vs DID2S\"\n",
       "},\n",
       "\"kind\":\"plot\",\n",
       "\"scales\":[{\n",
       "\"name\":\"Estimate and 95% Confidence Interval\",\n",
       "\"aesthetic\":\"y\"\n",
       "}],\n",
       "\"layers\":[{\n",
       "\"geom\":\"point\",\n",
       "\"mapping\":{\n",
       "},\n",
       "\"position\":{\n",
       "\"name\":\"dodge\",\n",
       "\"width\":0.5\n",
       "},\n",
       "\"data_meta\":{\n",
       "},\n",
       "\"data\":{\n",
       "}\n",
       "},{\n",
       "\"geom\":\"errorbar\",\n",
       "\"mapping\":{\n",
       "\"ymin\":\"2.5%\",\n",
       "\"ymax\":\"97.5%\"\n",
       "},\n",
       "\"position\":{\n",
       "\"name\":\"dodge\",\n",
       "\"width\":0.5\n",
       "},\n",
       "\"data_meta\":{\n",
       "},\n",
       "\"width\":0.05,\n",
       "\"data\":{\n",
       "}\n",
       "}],\n",
       "\"metainfo_list\":[]\n",
       "};\n",
       "           var plotContainer = document.getElementById(\"z4xpkP\");\n",
       "           window.letsPlotCall(function() {{\n",
       "               LetsPlot.buildPlotFromProcessedSpecs(plotSpec, -1, -1, plotContainer);\n",
       "           }});\n",
       "       })();    \n",
       "   </script>"
      ],
      "text/plain": [
       "<lets_plot.plot.core.PlotSpec at 0x29d15e991d0>"
      ]
     },
     "execution_count": 42,
     "metadata": {},
     "output_type": "execute_result"
    }
   ],
   "source": [
    "fit_did2s = did2s(\n",
    "    df_het,\n",
    "    yname=\"dep_var\",\n",
    "    first_stage=\"~ 0 | state + year\",\n",
    "    second_stage=\"~i(rel_year,ref= -1.0)\",\n",
    "    treatment=\"treat\",\n",
    "    cluster=\"state\",\n",
    ")\n",
    "\n",
    "fit_twfe = pf.feols(\n",
    "    \"dep_var ~ i(rel_year,ref = -1.0) | state + year\",\n",
    "    df_het,\n",
    "    vcov={\"CRV1\": \"state\"},\n",
    ")\n",
    "\n",
    "pf.iplot(\n",
    "    [fit_did2s, fit_twfe], coord_flip=False, figsize=(900, 400), title=\"TWFE vs DID2S\"\n",
    ")"
   ]
  },
  {
   "cell_type": "markdown",
   "metadata": {},
   "source": [
    "The `event_study()` function provides a common API for several event study estimators."
   ]
  },
  {
   "cell_type": "code",
   "execution_count": 43,
   "metadata": {},
   "outputs": [
    {
     "name": "stdout",
     "output_type": "stream",
     "text": [
      "                          est1              est2\n",
      "------------  ----------------  ----------------\n",
      "depvar                 dep_var       dep_var_hat\n",
      "------------------------------------------------\n",
      "ATT           2.135*** (0.044)  2.152*** (0.048)\n",
      "------------------------------------------------\n",
      "state                        x                 -\n",
      "year                         x                 -\n",
      "------------------------------------------------\n",
      "R2                           -                 -\n",
      "S.E. type            by: state              CRV1\n",
      "Observations             5E+04             5E+04\n",
      "------------------------------------------------\n",
      "Significance levels: * p < 0.05, ** p < 0.01, *** p < 0.001\n",
      "Format of coefficient cell:\n",
      "Coefficient (Std. Error)\n"
     ]
    }
   ],
   "source": [
    "fit_twfe = event_study(\n",
    "    data=df_het,\n",
    "    yname=\"dep_var\",\n",
    "    idname=\"state\",\n",
    "    tname=\"year\",\n",
    "    gname=\"g\",\n",
    "    estimator=\"twfe\",\n",
    ")\n",
    "\n",
    "fit_did2s = event_study(\n",
    "    data=df_het,\n",
    "    yname=\"dep_var\",\n",
    "    idname=\"state\",\n",
    "    tname=\"year\",\n",
    "    gname=\"g\",\n",
    "    estimator=\"did2s\",\n",
    ")\n",
    "\n",
    "pf.etable([fit_twfe, fit_did2s])"
   ]
  },
  {
   "cell_type": "markdown",
   "metadata": {},
   "source": []
  }
 ],
 "metadata": {
  "kernelspec": {
   "display_name": "Python 3",
   "language": "python",
   "name": "python3"
  },
  "language_info": {
   "codemirror_mode": {
    "name": "ipython",
    "version": 3
   },
   "file_extension": ".py",
   "mimetype": "text/x-python",
   "name": "python",
   "nbconvert_exporter": "python",
   "pygments_lexer": "ipython3",
   "version": "3.10.8"
  },
  "orig_nbformat": 4
 },
 "nbformat": 4,
 "nbformat_minor": 2
}
