{
 "cells": [
  {
   "cell_type": "markdown",
   "metadata": {},
   "source": [
    "# Welcome to `PyFixest`"
   ]
  },
  {
   "cell_type": "markdown",
   "metadata": {},
   "source": [
    "[![PyPI - Version](https://img.shields.io/pypi/v/pyfixest.svg)](https://pypi.org/project/pyfixest/)\n",
    "![PyPI - Python Version](https://img.shields.io/pypi/pyversions/pyfixest.svg)\n",
    "![PyPI - Downloads](https://img.shields.io/pypi/dm/pyfixest)\n",
    "[![image](https://codecov.io/gh/s3alfisc/pyfixest/branch/master/graph/badge.svg)](https://codecov.io/gh/s3alfisc/pyfixest)\n",
    "\n",
    "`PyFixest` is a Python clone of the excellent [fixest](https://github.com/lrberge/fixest) package. The package aims to mimic `fixest` syntax and functionality as closely as Python allows. For a quick introduction, see the [tutorial](https://s3alfisc.github.io/pyfixest/tutorial/) or take a look at the regression chapter of [Arthur Turrell's](https://github.com/aeturrell) book on [Coding for Economists](https://aeturrell.github.io/coding-for-economists/econmt-regression.html#imports).\n"
   ]
  },
  {
   "cell_type": "code",
   "execution_count": 1,
   "metadata": {},
   "outputs": [
    {
     "data": {
      "text/html": [
       "\n",
       "            <div id=\"820FsO\"></div>\n",
       "            <script type=\"text/javascript\" data-lets-plot-script=\"library\">\n",
       "                if(!window.letsPlotCallQueue) {\n",
       "                    window.letsPlotCallQueue = [];\n",
       "                }; \n",
       "                window.letsPlotCall = function(f) {\n",
       "                    window.letsPlotCallQueue.push(f);\n",
       "                };\n",
       "                (function() {\n",
       "                    var script = document.createElement(\"script\");\n",
       "                    script.type = \"text/javascript\";\n",
       "                    script.src = \"https://cdn.jsdelivr.net/gh/JetBrains/lets-plot@v4.0.1/js-package/distr/lets-plot.min.js\";\n",
       "                    script.onload = function() {\n",
       "                        window.letsPlotCall = function(f) {f();};\n",
       "                        window.letsPlotCallQueue.forEach(function(f) {f();});\n",
       "                        window.letsPlotCallQueue = [];\n",
       "                        \n",
       "                    };\n",
       "                    script.onerror = function(event) {\n",
       "                        window.letsPlotCall = function(f) {};    // noop\n",
       "                        window.letsPlotCallQueue = [];\n",
       "                        var div = document.createElement(\"div\");\n",
       "                        div.style.color = 'darkred';\n",
       "                        div.textContent = 'Error loading Lets-Plot JS';\n",
       "                        document.getElementById(\"820FsO\").appendChild(div);\n",
       "                    };\n",
       "                    var e = document.getElementById(\"820FsO\");\n",
       "                    e.appendChild(script);\n",
       "                })()\n",
       "            </script>\n",
       "            "
      ]
     },
     "metadata": {},
     "output_type": "display_data"
    },
    {
     "name": "stdout",
     "output_type": "stream",
     "text": [
      "###\n",
      "\n",
      "Estimation:  OLS\n",
      "Dep. var.: Y, Fixed effects: f1+f2\n",
      "Inference:  CRV1\n",
      "Observations:  997\n",
      "\n",
      "| Coefficient   |   Estimate |   Std. Error |   t value |   Pr(>|t|) |   2.5 % |   97.5 % |\n",
      "|:--------------|-----------:|-------------:|----------:|-----------:|--------:|---------:|\n",
      "| X1            |     -0.919 |        0.065 |   -14.057 |      0.000 |  -1.053 |   -0.786 |\n",
      "---\n",
      "RMSE: 1.441   R2: 0.609   R2 Within: 0.2\n"
     ]
    }
   ],
   "source": [
    "%load_ext autoreload\n",
    "%autoreload 2\n",
    "\n",
    "from pyfixest.estimation import feols\n",
    "from pyfixest.utils import get_data\n",
    "\n",
    "data = get_data()\n",
    "\n",
    "# fit a model via OLS\n",
    "fit = feols(\"Y ~ X1 | f1 + f2\", data=data)\n",
    "fit.summary()"
   ]
  },
  {
   "cell_type": "markdown",
   "metadata": {},
   "source": [
    "\n",
    "## Functionality\n",
    "\n",
    "At the moment, `PyFixest` supports\n",
    "\n",
    "- OLS and IV Regression\n",
    "- Poisson Regression\n",
    "- Multiple Estimation Syntax\n",
    "- Several Robust and Cluster Robust Variance-Covariance Types\n",
    "- Wild Cluster Bootstrap Inference (via [wildboottest](https://github.com/s3alfisc/wildboottest))\n",
    "- Difference-in-Difference Estimators:\n",
    "  - The canonical Two-Way Fixed Effects Estimator\n",
    "  - [Gardner's two-stage (\"`Did2s`\")](https://jrgcmu.github.io/2sdd_current.pdf) estimator\n",
    "  - Basic Versions of the Local Projections estimator following [Dube et al (2023)](https://www.nber.org/papers/w31184)\n",
    "\n",
    "\n",
    "## Installation\n",
    "\n",
    "You can install the release version from `PyPi` by running\n",
    "\n",
    "```py\n",
    "pip install pyfixest\n",
    "```\n",
    "or the development version from github by running\n",
    "```py\n",
    "pip install git+https://github.com/s3alfisc/pyfixest.git\n",
    "```\n",
    "\n",
    "## Benchmarks\n",
    "\n",
    "All benchmarks follow the [fixest benchmarks](https://github.com/lrberge/fixest/tree/master/_BENCHMARK). All non-pyfixest timings are taken from the `fixest` benchmarks.\n",
    "\n",
    "![](../benchmarks/lets-plot-images/benchmarks_ols.svg)\n",
    "![](../benchmarks/lets-plot-images/benchmarks_poisson.svg)\n",
    "\n",
    "## Vignette\n",
    "\n",
    "For a quick introduction, see the [tutorial](https://s3alfisc.github.io/pyfixest/tutorial/).\n",
    "\n",
    "For a replication of (some) examples of Nick Huntington-Klein's book on causal inference, [The Effect](https://theeffectbook.net/), take a look at [Replicating the Effect](https://s3alfisc.github.io/pyfixest/Replicating-the-Effect/)."
   ]
  },
  {
   "cell_type": "markdown",
   "metadata": {},
   "source": []
  }
 ],
 "metadata": {
  "kernelspec": {
   "display_name": "Python 3",
   "language": "python",
   "name": "python3"
  },
  "language_info": {
   "codemirror_mode": {
    "name": "ipython",
    "version": 3
   },
   "file_extension": ".py",
   "mimetype": "text/x-python",
   "name": "python",
   "nbconvert_exporter": "python",
   "pygments_lexer": "ipython3",
   "version": "3.10.8"
  },
  "orig_nbformat": 4
 },
 "nbformat": 4,
 "nbformat_minor": 2
}
