{
 "cells": [
  {
   "cell_type": "markdown",
   "metadata": {},
   "source": [
    "# Welcome to `PyFixest`"
   ]
  },
  {
   "cell_type": "markdown",
   "metadata": {},
   "source": [
    "[![PyPI - Version](https://img.shields.io/pypi/v/pyfixest.svg)](https://pypi.org/project/pyfixest/)\n",
    "![PyPI - Python Version](https://img.shields.io/pypi/pyversions/pyfixest.svg)\n",
    "![PyPI - Downloads](https://img.shields.io/pypi/dm/pyfixest)\n",
    "[![image](https://codecov.io/gh/s3alfisc/pyfixest/branch/master/graph/badge.svg)](https://codecov.io/gh/s3alfisc/pyfixest)\n",
    "\n",
    "`PyFixest` is a Python clone of the excellent [fixest](https://github.com/lrberge/fixest) package. The package aims to mimic `fixest` syntax and functionality as closely as Python allows. For a quick introduction, see the [tutorial](https://s3alfisc.github.io/pyfixest/tutorial/).\n"
   ]
  },
  {
   "cell_type": "code",
   "execution_count": 3,
   "metadata": {},
   "outputs": [
    {
     "name": "stdout",
     "output_type": "stream",
     "text": [
      "The autoreload extension is already loaded. To reload it, use:\n",
      "  %reload_ext autoreload\n",
      "###\n",
      "\n",
      "Estimation:  OLS\n",
      "Dep. var.: Y, Fixed effects: f1+f2\n",
      "Inference:  CRV1\n",
      "Observations:  997\n",
      "\n",
      "| Coefficient   |   Estimate |   Std. Error |   t value |   Pr(>|t|) |   2.5 % |   97.5 % |\n",
      "|:--------------|-----------:|-------------:|----------:|-----------:|--------:|---------:|\n",
      "| X1            |      0.484 |        0.059 |     8.176 |      0.000 |   0.363 |    0.605 |\n",
      "---\n",
      "RMSE: 1.197   R2: 0.558   R2 Within: 0.094\n"
     ]
    }
   ],
   "source": [
    "%load_ext autoreload\n",
    "%autoreload 2\n",
    "\n",
    "from pyfixest.estimation import feols\n",
    "from pyfixest.utils import get_data\n",
    "\n",
    "data = get_data()\n",
    "\n",
    "# fit a model via OLS\n",
    "fit = feols(\"Y ~ X1 | f1 + f2\", data=data)\n",
    "fit.summary()"
   ]
  },
  {
   "cell_type": "markdown",
   "metadata": {},
   "source": [
    "\n",
    "## Functionality\n",
    "\n",
    "At the moment, `PyFixest` supports\n",
    "\n",
    "- OLS and IV Regression\n",
    "- Poisson Regression\n",
    "- Multiple Estimation Syntax\n",
    "- Several Robust and Cluster Robust Variance-Covariance Types\n",
    "- Wild Cluster Bootstrap Inference (via [wildboottest](https://github.com/s3alfisc/wildboottest))\n",
    "- Difference-in-Difference Estimators:\n",
    "  - Gardner's two-stage (\"`Did2s`\") estimator is available via the `pyfixest.did.did` module\n",
    "\n",
    "## Installation\n",
    "\n",
    "You can install the release version from `PyPi` by running `pip install pyfixest` or the development version from github.\n",
    "\n",
    "## Benchmarks\n",
    "\n",
    "All benchmarks follow the [fixest benchmarks](https://github.com/lrberge/fixest/tree/master/_BENCHMARK). All non-pyfixest timings are taken from the `fixest` benchmarks.\n",
    "\n",
    "![](../benchmarks/lets-plot-images/benchmarks_ols.svg)\n",
    "![](../benchmarks/lets-plot-images/benchmarks_poisson.svg)\n",
    "\n",
    "## Vignette\n",
    "\n",
    "For a quick introduction, see the [tutorial](https://s3alfisc.github.io/pyfixest/tutorial/).\n",
    "\n",
    "For a replication of (some) examples of Nick Huntington-Klein's book on causal inference, [The Effect](https://theeffectbook.net/), take a look at [Replicating the Effect](https://s3alfisc.github.io/pyfixest/Replicating-the-Effect/)."
   ]
  }
 ],
 "metadata": {
  "kernelspec": {
   "display_name": "Python 3",
   "language": "python",
   "name": "python3"
  },
  "language_info": {
   "codemirror_mode": {
    "name": "ipython",
    "version": 3
   },
   "file_extension": ".py",
   "mimetype": "text/x-python",
   "name": "python",
   "nbconvert_exporter": "python",
   "pygments_lexer": "ipython3",
   "version": "3.10.8"
  },
  "orig_nbformat": 4
 },
 "nbformat": 4,
 "nbformat_minor": 2
}
