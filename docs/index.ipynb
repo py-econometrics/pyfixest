{
 "cells": [
  {
   "cell_type": "markdown",
   "metadata": {},
   "source": [
    "# Welcome to `PyFixest`"
   ]
  },
  {
   "cell_type": "markdown",
   "metadata": {},
   "source": [
    "This is a draft package (no longer highly experimental) for a Python clone of the excellent [fixest](https://github.com/lrberge/fixest) package. \n",
    "The package aims to mimic `fixest` syntax and functionality as closely as possible. \n",
    "Fixed effects are projected out via the [PyHDFE](https://github.com/jeffgortmaker/pyhdfe) package.\n",
    "\n",
    "At the moment, `PyFixest` supports\n",
    "\n",
    "-    OLS and IV Regression\n",
    "-    Poisson Regression\n",
    "-    Multiple Estimation Syntax\n",
    "-    Several Robust and Cluster Robust Variance-Covariance Types\n",
    "-    Wild Cluster Bootstrap Inference (via [wildboottest](https://github.com/s3alfisc/wildboottest))\n",
    "\n",
    "For a quick introduction, see the [tutorial](https://s3alfisc.github.io/pyfixest/tutorial/).\n",
    "\n",
    "For a replication of (some) examples of Nick Huntington-Klein's book on causal inference, [The Effect](https://theeffectbook.net/), take a look at [Replicating the Effect](https://s3alfisc.github.io/pyfixest/Replicating-the-Effect/).\n"
   ]
  },
  {
   "cell_type": "markdown",
   "metadata": {},
   "source": [
    "## Example"
   ]
  },
  {
   "cell_type": "code",
   "execution_count": 1,
   "metadata": {},
   "outputs": [
    {
     "name": "stdout",
     "output_type": "stream",
     "text": [
      "###\n",
      "\n",
      "Estimation:  OLS\n",
      "Dep. var.: Y, Fixed effects: f1+f2\n",
      "Inference:  CRV1\n",
      "Observations:  997\n",
      "\n",
      "| Coefficient   |   Estimate |   Std. Error |   t value |   Pr(>|t|) |   2.5 % |   97.5 % |\n",
      "|:--------------|-----------:|-------------:|----------:|-----------:|--------:|---------:|\n",
      "| X1            |      0.272 |        0.038 |     7.098 |      0.000 |   0.193 |    0.350 |\n",
      "---\n",
      "RMSE: 1.198  Adj. R2: 0.031  Adj. R2 Within: 0.031\n"
     ]
    }
   ],
   "source": [
    "%load_ext autoreload\n",
    "%autoreload 2\n",
    "\n",
    "from pyfixest.estimation import feols\n",
    "from pyfixest.utils import get_data\n",
    "\n",
    "data = get_data()\n",
    "\n",
    "# fit a model via OLS\n",
    "fit = feols(\"Y ~ X1 | f1 + f2\", data=data)\n",
    "fit.summary()"
   ]
  },
  {
   "cell_type": "markdown",
   "metadata": {},
   "source": [
    "## Installation\n",
    "\n",
    "You can install the release version from `PyPi` by running `pip install pyfixest` or the development version from [github](https://github.com/s3alfisc/pyfixest)."
   ]
  }
 ],
 "metadata": {
  "kernelspec": {
   "display_name": "Python 3",
   "language": "python",
   "name": "python3"
  },
  "language_info": {
   "codemirror_mode": {
    "name": "ipython",
    "version": 3
   },
   "file_extension": ".py",
   "mimetype": "text/x-python",
   "name": "python",
   "nbconvert_exporter": "python",
   "pygments_lexer": "ipython3",
   "version": "3.10.8"
  },
  "orig_nbformat": 4
 },
 "nbformat": 4,
 "nbformat_minor": 2
}
