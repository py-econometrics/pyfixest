{
 "cells": [
  {
   "cell_type": "markdown",
   "metadata": {},
   "source": [
    "# Welcome to `PyFixest`"
   ]
  },
  {
   "cell_type": "markdown",
   "metadata": {},
   "source": [
    "This is a draft package (no longer highly experimental) for a Python clone of the excellent [fixest](https://github.com/lrberge/fixest) package. \n",
    "The package aims to mimic `fixest` syntax and functionality as closely as possible. \n",
    "Fixed effects are projected out via the [PyHDFE](https://github.com/jeffgortmaker/pyhdfe) package.\n",
    "For a quick introduction, see the [tutorial](https://s3alfisc.github.io/pyfixest/tutorial/).\n",
    "\n",
    "## Installation\n",
    "\n",
    "You can install the release version (v0.8.3) from `PyPi` by running `pip install pyfixest` (v0.8.3) or the development version from [github](https://github.com/s3alfisc/pyfixest).\n"
   ]
  },
  {
   "cell_type": "markdown",
   "metadata": {},
   "source": [
    "## Example"
   ]
  },
  {
   "cell_type": "code",
   "execution_count": 1,
   "metadata": {},
   "outputs": [],
   "source": [
    "%%capture\n",
    "from pyfixest import Fixest\n",
    "from pyfixest.utils import get_data\n",
    "data = get_data()"
   ]
  },
  {
   "cell_type": "code",
   "execution_count": 2,
   "metadata": {},
   "outputs": [
    {
     "name": "stdout",
     "output_type": "stream",
     "text": [
      "###\n",
      "\n",
      "Model:  OLS\n",
      "Dep. var.:  Y\n",
      "Fixed effects:  f1\n",
      "Inference:  HC1\n",
      "Observations:  997\n",
      "\n",
      "| coefnames   |   Estimate |   Std. Error |   t value |   Pr(>|t|) |   ci_l |   ci_u |\n",
      "|:------------|-----------:|-------------:|----------:|-----------:|-------:|-------:|\n",
      "| X1          |      0.326 |        0.049 |     6.718 |      0.000 |  0.231 |  0.422 |\n",
      "---\n",
      "RMSE: 1.407  Adj. R2: 0.049  Adj. R2 Within: 0.049\n"
     ]
    }
   ],
   "source": [
    "fixest = Fixest(data = data)\n",
    "fixest.feols(\"Y~X1 | f1\", vcov = \"HC1\")\n",
    "fixest.summary()"
   ]
  }
 ],
 "metadata": {
  "kernelspec": {
   "display_name": "Python 3",
   "language": "python",
   "name": "python3"
  },
  "language_info": {
   "codemirror_mode": {
    "name": "ipython",
    "version": 3
   },
   "file_extension": ".py",
   "mimetype": "text/x-python",
   "name": "python",
   "nbconvert_exporter": "python",
   "pygments_lexer": "ipython3",
   "version": "3.10.8"
  },
  "orig_nbformat": 4
 },
 "nbformat": 4,
 "nbformat_minor": 2
}
