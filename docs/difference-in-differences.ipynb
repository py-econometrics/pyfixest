{
 "cells": [
  {
   "cell_type": "markdown",
   "metadata": {},
   "source": [
    "## Difference-in-Differences Estimation"
   ]
  },
  {
   "cell_type": "markdown",
   "metadata": {},
   "source": [
    "`PyFixest` supports eventy study designs via the canonical two-way fixed effects design Gardner's 2-stage estimator, and the local projections approach following [Dube et al (2023)](https://www.nber.org/papers/w31184)."
   ]
  },
  {
   "cell_type": "code",
   "execution_count": 1,
   "metadata": {},
   "outputs": [
    {
     "data": {
      "text/html": [
       "\n",
       "            <div id=\"lJOjQW\"></div>\n",
       "            <script type=\"text/javascript\" data-lets-plot-script=\"library\">\n",
       "                if(!window.letsPlotCallQueue) {\n",
       "                    window.letsPlotCallQueue = [];\n",
       "                }; \n",
       "                window.letsPlotCall = function(f) {\n",
       "                    window.letsPlotCallQueue.push(f);\n",
       "                };\n",
       "                (function() {\n",
       "                    var script = document.createElement(\"script\");\n",
       "                    script.type = \"text/javascript\";\n",
       "                    script.src = \"https://cdn.jsdelivr.net/gh/JetBrains/lets-plot@v4.3.3/js-package/distr/lets-plot.min.js\";\n",
       "                    script.onload = function() {\n",
       "                        window.letsPlotCall = function(f) {f();};\n",
       "                        window.letsPlotCallQueue.forEach(function(f) {f();});\n",
       "                        window.letsPlotCallQueue = [];\n",
       "                        \n",
       "                    };\n",
       "                    script.onerror = function(event) {\n",
       "                        window.letsPlotCall = function(f) {};    // noop\n",
       "                        window.letsPlotCallQueue = [];\n",
       "                        var div = document.createElement(\"div\");\n",
       "                        div.style.color = 'darkred';\n",
       "                        div.textContent = 'Error loading Lets-Plot JS';\n",
       "                        document.getElementById(\"lJOjQW\").appendChild(div);\n",
       "                    };\n",
       "                    var e = document.getElementById(\"lJOjQW\");\n",
       "                    e.appendChild(script);\n",
       "                })()\n",
       "            </script>\n",
       "            "
      ]
     },
     "metadata": {},
     "output_type": "display_data"
    },
    {
     "data": {
      "text/html": [
       "\n",
       "            <div id=\"tTo1q5\"></div>\n",
       "            <script type=\"text/javascript\" data-lets-plot-script=\"library\">\n",
       "                if(!window.letsPlotCallQueue) {\n",
       "                    window.letsPlotCallQueue = [];\n",
       "                }; \n",
       "                window.letsPlotCall = function(f) {\n",
       "                    window.letsPlotCallQueue.push(f);\n",
       "                };\n",
       "                (function() {\n",
       "                    var script = document.createElement(\"script\");\n",
       "                    script.type = \"text/javascript\";\n",
       "                    script.src = \"https://cdn.jsdelivr.net/gh/JetBrains/lets-plot@v4.3.3/js-package/distr/lets-plot.min.js\";\n",
       "                    script.onload = function() {\n",
       "                        window.letsPlotCall = function(f) {f();};\n",
       "                        window.letsPlotCallQueue.forEach(function(f) {f();});\n",
       "                        window.letsPlotCallQueue = [];\n",
       "                        \n",
       "                    };\n",
       "                    script.onerror = function(event) {\n",
       "                        window.letsPlotCall = function(f) {};    // noop\n",
       "                        window.letsPlotCallQueue = [];\n",
       "                        var div = document.createElement(\"div\");\n",
       "                        div.style.color = 'darkred';\n",
       "                        div.textContent = 'Error loading Lets-Plot JS';\n",
       "                        document.getElementById(\"tTo1q5\").appendChild(div);\n",
       "                    };\n",
       "                    var e = document.getElementById(\"tTo1q5\");\n",
       "                    e.appendChild(script);\n",
       "                })()\n",
       "            </script>\n",
       "            "
      ]
     },
     "metadata": {},
     "output_type": "display_data"
    },
    {
     "name": "stdout",
     "output_type": "stream",
     "text": [
      "pandas  : 2.2.2\n",
      "pyfixest: 0.22.0\n",
      "\n"
     ]
    }
   ],
   "source": [
    "import pandas as pd\n",
    "\n",
    "import pyfixest as pf\n",
    "from pyfixest.did.estimation import did2s, lpdid\n",
    "from pyfixest.did.visualize import panelview\n",
    "\n",
    "%load_ext watermark\n",
    "%watermark --iversions"
   ]
  },
  {
   "cell_type": "code",
   "execution_count": 2,
   "metadata": {},
   "outputs": [
    {
     "data": {
      "text/html": [
       "<div>\n",
       "<style scoped>\n",
       "    .dataframe tbody tr th:only-of-type {\n",
       "        vertical-align: middle;\n",
       "    }\n",
       "\n",
       "    .dataframe tbody tr th {\n",
       "        vertical-align: top;\n",
       "    }\n",
       "\n",
       "    .dataframe thead th {\n",
       "        text-align: right;\n",
       "    }\n",
       "</style>\n",
       "<table border=\"1\" class=\"dataframe\">\n",
       "  <thead>\n",
       "    <tr style=\"text-align: right;\">\n",
       "      <th></th>\n",
       "      <th>unit</th>\n",
       "      <th>state</th>\n",
       "      <th>group</th>\n",
       "      <th>unit_fe</th>\n",
       "      <th>g</th>\n",
       "      <th>year</th>\n",
       "      <th>year_fe</th>\n",
       "      <th>treat</th>\n",
       "      <th>rel_year</th>\n",
       "      <th>rel_year_binned</th>\n",
       "      <th>error</th>\n",
       "      <th>te</th>\n",
       "      <th>te_dynamic</th>\n",
       "      <th>dep_var</th>\n",
       "    </tr>\n",
       "  </thead>\n",
       "  <tbody>\n",
       "    <tr>\n",
       "      <th>0</th>\n",
       "      <td>1</td>\n",
       "      <td>33</td>\n",
       "      <td>Group 2</td>\n",
       "      <td>7.043016</td>\n",
       "      <td>2010</td>\n",
       "      <td>1990</td>\n",
       "      <td>0.066159</td>\n",
       "      <td>False</td>\n",
       "      <td>-20.0</td>\n",
       "      <td>-6</td>\n",
       "      <td>-0.086466</td>\n",
       "      <td>0</td>\n",
       "      <td>0.0</td>\n",
       "      <td>7.022709</td>\n",
       "    </tr>\n",
       "    <tr>\n",
       "      <th>1</th>\n",
       "      <td>1</td>\n",
       "      <td>33</td>\n",
       "      <td>Group 2</td>\n",
       "      <td>7.043016</td>\n",
       "      <td>2010</td>\n",
       "      <td>1991</td>\n",
       "      <td>-0.030980</td>\n",
       "      <td>False</td>\n",
       "      <td>-19.0</td>\n",
       "      <td>-6</td>\n",
       "      <td>0.766593</td>\n",
       "      <td>0</td>\n",
       "      <td>0.0</td>\n",
       "      <td>7.778628</td>\n",
       "    </tr>\n",
       "    <tr>\n",
       "      <th>2</th>\n",
       "      <td>1</td>\n",
       "      <td>33</td>\n",
       "      <td>Group 2</td>\n",
       "      <td>7.043016</td>\n",
       "      <td>2010</td>\n",
       "      <td>1992</td>\n",
       "      <td>-0.119607</td>\n",
       "      <td>False</td>\n",
       "      <td>-18.0</td>\n",
       "      <td>-6</td>\n",
       "      <td>1.512968</td>\n",
       "      <td>0</td>\n",
       "      <td>0.0</td>\n",
       "      <td>8.436377</td>\n",
       "    </tr>\n",
       "    <tr>\n",
       "      <th>3</th>\n",
       "      <td>1</td>\n",
       "      <td>33</td>\n",
       "      <td>Group 2</td>\n",
       "      <td>7.043016</td>\n",
       "      <td>2010</td>\n",
       "      <td>1993</td>\n",
       "      <td>0.126321</td>\n",
       "      <td>False</td>\n",
       "      <td>-17.0</td>\n",
       "      <td>-6</td>\n",
       "      <td>0.021870</td>\n",
       "      <td>0</td>\n",
       "      <td>0.0</td>\n",
       "      <td>7.191207</td>\n",
       "    </tr>\n",
       "    <tr>\n",
       "      <th>4</th>\n",
       "      <td>1</td>\n",
       "      <td>33</td>\n",
       "      <td>Group 2</td>\n",
       "      <td>7.043016</td>\n",
       "      <td>2010</td>\n",
       "      <td>1994</td>\n",
       "      <td>-0.106921</td>\n",
       "      <td>False</td>\n",
       "      <td>-16.0</td>\n",
       "      <td>-6</td>\n",
       "      <td>-0.017603</td>\n",
       "      <td>0</td>\n",
       "      <td>0.0</td>\n",
       "      <td>6.918492</td>\n",
       "    </tr>\n",
       "  </tbody>\n",
       "</table>\n",
       "</div>"
      ],
      "text/plain": [
       "   unit  state    group   unit_fe     g  year   year_fe  treat  rel_year  \\\n",
       "0     1     33  Group 2  7.043016  2010  1990  0.066159  False     -20.0   \n",
       "1     1     33  Group 2  7.043016  2010  1991 -0.030980  False     -19.0   \n",
       "2     1     33  Group 2  7.043016  2010  1992 -0.119607  False     -18.0   \n",
       "3     1     33  Group 2  7.043016  2010  1993  0.126321  False     -17.0   \n",
       "4     1     33  Group 2  7.043016  2010  1994 -0.106921  False     -16.0   \n",
       "\n",
       "   rel_year_binned     error  te  te_dynamic   dep_var  \n",
       "0               -6 -0.086466   0         0.0  7.022709  \n",
       "1               -6  0.766593   0         0.0  7.778628  \n",
       "2               -6  1.512968   0         0.0  8.436377  \n",
       "3               -6  0.021870   0         0.0  7.191207  \n",
       "4               -6 -0.017603   0         0.0  6.918492  "
      ]
     },
     "execution_count": 2,
     "metadata": {},
     "output_type": "execute_result"
    }
   ],
   "source": [
    "url = \"https://raw.githubusercontent.com/py-econometrics/pyfixest/master/pyfixest/did/data/df_het.csv\"\n",
    "df_het = pd.read_csv(url)\n",
    "df_het.head()"
   ]
  },
  {
   "cell_type": "markdown",
   "metadata": {},
   "source": [
    "### Examining Treatment Timing\n",
    "\n",
    "Before any DiD estimation, we need to examine the treatment timing, since it is crucial to our choice of estimator. "
   ]
  },
  {
   "cell_type": "code",
   "execution_count": 3,
   "metadata": {},
   "outputs": [
    {
     "data": {
      "text/plain": [
       "<Axes: title={'center': 'Treatment Assignment Cohorts'}, xlabel='Year', ylabel='Cohort'>"
      ]
     },
     "execution_count": 3,
     "metadata": {},
     "output_type": "execute_result"
    },
    {
     "data": {
      "image/png": "[encoded data removed]",
      "text/plain": [
       "<Figure size 640x480 with 1 Axes>"
      ]
     },
     "metadata": {},
     "output_type": "display_data"
    }
   ],
   "source": [
    "panelview(\n",
    "    df_het,\n",
    "    unit=\"unit\", time=\"year\", treat=\"treat\",\n",
    "    collapse_to_cohort=True,\n",
    "    sort_by_timing=True,\n",
    "    ylab=\"Cohort\", xlab=\"Year\",\n",
    "    title = \"Treatment Assignment Cohorts\",\n",
    ")"
   ]
  },
  {
   "cell_type": "markdown",
   "metadata": {},
   "source": [
    "We immediately see that we have staggered adoption of treatment, which implies that a naive application of 2WFE might yield biased estimates under substantial effect heterogeneity.\n",
    "\n",
    "We can also plot treatment assignment in a disaggregated fashion, which gives us a sense of cohort sizes."
   ]
  },
  {
   "cell_type": "code",
   "execution_count": 4,
   "metadata": {},
   "outputs": [
    {
     "data": {
      "text/plain": [
       "<Axes: title={'center': 'Treatment Assignment (all units)'}, xlabel='Year', ylabel='Unit'>"
      ]
     },
     "execution_count": 4,
     "metadata": {},
     "output_type": "execute_result"
    },
    {
     "data": {
      "image/png": "[encoded data removed]",
      "text/plain": [
       "<Figure size 640x480 with 1 Axes>"
      ]
     },
     "metadata": {},
     "output_type": "display_data"
    }
   ],
   "source": [
    "panelview(\n",
    "    df_het,\n",
    "    unit=\"unit\", time=\"year\", treat=\"treat\",\n",
    "    sort_by_timing=True,\n",
    "    ylab=\"Unit\", xlab=\"Year\",\n",
    "    title = \"Treatment Assignment (all units)\",\n",
    ")"
   ]
  },
  {
   "cell_type": "markdown",
   "metadata": {},
   "source": [
    "### DiD Estimation via `feols()`, `did2s()` and `lpdid()`"
   ]
  },
  {
   "cell_type": "markdown",
   "metadata": {},
   "source": [
    "We can estimate a simple two-way fixed effects DiD regression via `feols()`:"
   ]
  },
  {
   "cell_type": "code",
   "execution_count": 5,
   "metadata": {},
   "outputs": [],
   "source": [
    "fit_twfe = pf.feols(\n",
    "    \"dep_var ~ i(rel_year, ref=-1.0) | state + year\",\n",
    "    df_het,\n",
    "    vcov={\"CRV1\": \"state\"},\n",
    ")"
   ]
  },
  {
   "cell_type": "markdown",
   "metadata": {},
   "source": [
    "To do the same via Gardners 2-stage estimator, we employ the the `did2s()` function: "
   ]
  },
  {
   "cell_type": "code",
   "execution_count": 6,
   "metadata": {},
   "outputs": [],
   "source": [
    "fit_did2s = did2s(\n",
    "    df_het,\n",
    "    yname=\"dep_var\",\n",
    "    first_stage=\"~ 0 | state + year\",\n",
    "    second_stage=\"~i(rel_year,ref=-1.0)\",\n",
    "    treatment=\"treat\",\n",
    "    cluster=\"state\",\n",
    ")"
   ]
  },
  {
   "cell_type": "markdown",
   "metadata": {},
   "source": [
    "Last, we can estimate the ATT for each time period via local projections by using the `lpdid()` function: "
   ]
  },
  {
   "cell_type": "code",
   "execution_count": 7,
   "metadata": {},
   "outputs": [],
   "source": [
    "fit_lpdid = lpdid(\n",
    "    data=df_het,\n",
    "    yname=\"dep_var\",\n",
    "    gname=\"g\",\n",
    "    tname=\"year\",\n",
    "    idname=\"unit\",\n",
    "    vcov={\"CRV1\": \"state\"},\n",
    "    pre_window=-20,\n",
    "    post_window=20,\n",
    "    att=False,\n",
    ")"
   ]
  },
  {
   "cell_type": "markdown",
   "metadata": {},
   "source": [
    "Let's look at some results: "
   ]
  },
  {
   "cell_type": "code",
   "execution_count": 8,
   "metadata": {},
   "outputs": [],
   "source": [
    "figsize = [1200, 400]"
   ]
  },
  {
   "cell_type": "code",
   "execution_count": 9,
   "metadata": {},
   "outputs": [
    {
     "data": {
      "text/html": [
       "   <div id=\"VBfdgt\"></div>\n",
       "   <script type=\"text/javascript\" data-lets-plot-script=\"plot\">\n",
       "       (function() {\n",
       "           var plotSpec={\n",
       "\"data\":{\n",
       "\"Model\":[\"dep_var~i(rel_year,ref=-1.0)|state+year\",\"dep_var~i(rel_year,ref=-1.0)|state+year\",\"dep_var~i(rel_year,ref=-1.0)|state+year\",\"dep_var~i(rel_year,ref=-1.0)|state+year\",\"dep_var~i(rel_year,ref=-1.0)|state+year\",\"dep_var~i(rel_year,ref=-1.0)|state+year\",\"dep_var~i(rel_year,ref=-1.0)|state+year\",\"dep_var~i(rel_year,ref=-1.0)|state+year\",\"dep_var~i(rel_year,ref=-1.0)|state+year\",\"dep_var~i(rel_year,ref=-1.0)|state+year\",\"dep_var~i(rel_year,ref=-1.0)|state+year\",\"dep_var~i(rel_year,ref=-1.0)|state+year\",\"dep_var~i(rel_year,ref=-1.0)|state+year\",\"dep_var~i(rel_year,ref=-1.0)|state+year\",\"dep_var~i(rel_year,ref=-1.0)|state+year\",\"dep_var~i(rel_year,ref=-1.0)|state+year\",\"dep_var~i(rel_year,ref=-1.0)|state+year\",\"dep_var~i(rel_year,ref=-1.0)|state+year\",\"dep_var~i(rel_year,ref=-1.0)|state+year\",\"dep_var~i(rel_year,ref=-1.0)|state+year\",\"dep_var~i(rel_year,ref=-1.0)|state+year\",\"dep_var~i(rel_year,ref=-1.0)|state+year\",\"dep_var~i(rel_year,ref=-1.0)|state+year\",\"dep_var~i(rel_year,ref=-1.0)|state+year\",\"dep_var~i(rel_year,ref=-1.0)|state+year\",\"dep_var~i(rel_year,ref=-1.0)|state+year\",\"dep_var~i(rel_year,ref=-1.0)|state+year\",\"dep_var~i(rel_year,ref=-1.0)|state+year\",\"dep_var~i(rel_year,ref=-1.0)|state+year\",\"dep_var~i(rel_year,ref=-1.0)|state+year\",\"dep_var~i(rel_year,ref=-1.0)|state+year\",\"dep_var~i(rel_year,ref=-1.0)|state+year\",\"dep_var~i(rel_year,ref=-1.0)|state+year\",\"dep_var~i(rel_year,ref=-1.0)|state+year\",\"dep_var~i(rel_year,ref=-1.0)|state+year\",\"dep_var~i(rel_year,ref=-1.0)|state+year\",\"dep_var~i(rel_year,ref=-1.0)|state+year\",\"dep_var~i(rel_year,ref=-1.0)|state+year\",\"dep_var~i(rel_year,ref=-1.0)|state+year\",\"dep_var~i(rel_year,ref=-1.0)|state+year\",\"dep_var~i(rel_year,ref=-1.0)|state+year\"],\n",
       "\"Coefficient\":[\"C(rel_year, contr.treatment(base=-1.0))[T.-20.0]\",\"C(rel_year, contr.treatment(base=-1.0))[T.-19.0]\",\"C(rel_year, contr.treatment(base=-1.0))[T.-18.0]\",\"C(rel_year, contr.treatment(base=-1.0))[T.-17.0]\",\"C(rel_year, contr.treatment(base=-1.0))[T.-16.0]\",\"C(rel_year, contr.treatment(base=-1.0))[T.-15.0]\",\"C(rel_year, contr.treatment(base=-1.0))[T.-14.0]\",\"C(rel_year, contr.treatment(base=-1.0))[T.-13.0]\",\"C(rel_year, contr.treatment(base=-1.0))[T.-12.0]\",\"C(rel_year, contr.treatment(base=-1.0))[T.-11.0]\",\"C(rel_year, contr.treatment(base=-1.0))[T.-10.0]\",\"C(rel_year, contr.treatment(base=-1.0))[T.-9.0]\",\"C(rel_year, contr.treatment(base=-1.0))[T.-8.0]\",\"C(rel_year, contr.treatment(base=-1.0))[T.-7.0]\",\"C(rel_year, contr.treatment(base=-1.0))[T.-6.0]\",\"C(rel_year, contr.treatment(base=-1.0))[T.-5.0]\",\"C(rel_year, contr.treatment(base=-1.0))[T.-4.0]\",\"C(rel_year, contr.treatment(base=-1.0))[T.-3.0]\",\"C(rel_year, contr.treatment(base=-1.0))[T.-2.0]\",\"C(rel_year, contr.treatment(base=-1.0))[T.0.0]\",\"C(rel_year, contr.treatment(base=-1.0))[T.1.0]\",\"C(rel_year, contr.treatment(base=-1.0))[T.2.0]\",\"C(rel_year, contr.treatment(base=-1.0))[T.3.0]\",\"C(rel_year, contr.treatment(base=-1.0))[T.4.0]\",\"C(rel_year, contr.treatment(base=-1.0))[T.5.0]\",\"C(rel_year, contr.treatment(base=-1.0))[T.6.0]\",\"C(rel_year, contr.treatment(base=-1.0))[T.7.0]\",\"C(rel_year, contr.treatment(base=-1.0))[T.8.0]\",\"C(rel_year, contr.treatment(base=-1.0))[T.9.0]\",\"C(rel_year, contr.treatment(base=-1.0))[T.10.0]\",\"C(rel_year, contr.treatment(base=-1.0))[T.11.0]\",\"C(rel_year, contr.treatment(base=-1.0))[T.12.0]\",\"C(rel_year, contr.treatment(base=-1.0))[T.13.0]\",\"C(rel_year, contr.treatment(base=-1.0))[T.14.0]\",\"C(rel_year, contr.treatment(base=-1.0))[T.15.0]\",\"C(rel_year, contr.treatment(base=-1.0))[T.16.0]\",\"C(rel_year, contr.treatment(base=-1.0))[T.17.0]\",\"C(rel_year, contr.treatment(base=-1.0))[T.18.0]\",\"C(rel_year, contr.treatment(base=-1.0))[T.19.0]\",\"C(rel_year, contr.treatment(base=-1.0))[T.20.0]\",\"C(rel_year, contr.treatment(base=-1.0))[T.inf]\"],\n",
       "\"Estimate\":[-0.09944466441181407,6.23519975400307E-4,0.0041247661867057995,0.021899085459484872,-0.03693340882836111,0.06957783836542085,0.03773442317032304,0.06177914337449611,0.08991270466792296,9.822487465557272E-4,-0.11303282051981747,-0.06922462711945501,-0.061289513093629025,-0.0020224309370890357,-0.05580979472634313,-0.06500868193865345,-0.009849959807181893,0.04633807990097424,0.015947312893775302,1.406404490822593,1.6605518884804105,1.7287900538935237,1.8548389960027065,1.9586760781129549,2.082161283635855,2.1910619949213292,2.279072842371443,2.3645934393351222,2.372162693677256,2.6492711880908235,2.753590871536464,2.81393547422749,2.756069650642772,2.8634270216427646,2.9866523455332556,2.9630322165965404,2.972596421114107,2.9350513290126417,2.9187065136810078,2.979701202491609,0.12805306243573136],\n",
       "\"2.5%\":[-0.10460084205550942,-0.004628170772959943,-0.0015375548239383334,0.016491288500623893,-0.04305024403948984,0.06444758497545625,0.032267809066221786,0.05651805967885457,0.08455453740558415,-0.00401014813769888,-0.11713017346775398,-0.07282491236696277,-0.06509904117048246,-0.006099584463357385,-0.05989148538945108,-0.0690989414227854,-0.013201064101792283,0.042365176323914726,0.011817178748509701,1.4028929006335664,1.6564475310158104,1.7252057455049257,1.8511586490689969,1.9541860799382091,2.0781312930557947,2.1867381954700513,2.274338581791335,2.3608951961214997,2.368593106239516,2.645725736582538,2.748824318483492,2.8089294852040343,2.751123713374378,2.8572175238738384,2.980763442167034,2.9576407677013368,2.9667655612120294,2.9291108962448136,2.9133929866107486,2.9741614769189733,0.12309797310696302],\n",
       "\"97.5%\":[-0.09428848676811873,0.005875210723760556,0.009787087197349931,0.027306882418345852,-0.030816573617232373,0.07470809175538545,0.0432010372744243,0.06704022707013765,0.09527087193026178,0.005974645630810335,-0.10893546757188097,-0.06562434187194725,-0.057479985016775585,0.0020547225891793136,-0.05172810406323518,-0.06091842245452149,-0.006498855512571502,0.05031098347803375,0.0200774470390409,1.4099160810116196,1.6646562459450105,1.7323743622821217,1.8585193429364162,1.9631660762877006,2.086191274215915,2.195385794372607,2.283807102951551,2.368291682548745,2.375732281114996,2.652816639599109,2.758357424589436,2.8189414632509457,2.7610155879111664,2.869636519411691,2.992541248899477,2.968423665491744,2.9784272810161845,2.9409917617804697,2.924020040751267,2.985240928064245,0.1330081517644997]\n",
       "},\n",
       "\"mapping\":{\n",
       "\"x\":\"Coefficient\",\n",
       "\"y\":\"Estimate\",\n",
       "\"color\":\"Model\"\n",
       "},\n",
       "\"data_meta\":{\n",
       "},\n",
       "\"ggsize\":{\n",
       "\"width\":1200.0,\n",
       "\"height\":400.0\n",
       "},\n",
       "\"theme\":{\n",
       "\"axis_text_x\":{\n",
       "\"angle\":0.0,\n",
       "\"blank\":false\n",
       "}\n",
       "},\n",
       "\"ggtitle\":{\n",
       "\"text\":\"TWFE-Estimator\"\n",
       "},\n",
       "\"kind\":\"plot\",\n",
       "\"scales\":[{\n",
       "\"name\":\"Estimate and 95.0% Confidence Interval\",\n",
       "\"aesthetic\":\"y\"\n",
       "}],\n",
       "\"layers\":[{\n",
       "\"geom\":\"point\",\n",
       "\"mapping\":{\n",
       "},\n",
       "\"position\":{\n",
       "\"name\":\"dodge\",\n",
       "\"width\":0.5\n",
       "},\n",
       "\"data_meta\":{\n",
       "},\n",
       "\"data\":{\n",
       "}\n",
       "},{\n",
       "\"geom\":\"errorbar\",\n",
       "\"mapping\":{\n",
       "\"ymin\":\"2.5%\",\n",
       "\"ymax\":\"97.5%\"\n",
       "},\n",
       "\"position\":{\n",
       "\"name\":\"dodge\",\n",
       "\"width\":0.5\n",
       "},\n",
       "\"data_meta\":{\n",
       "},\n",
       "\"width\":0.05,\n",
       "\"data\":{\n",
       "}\n",
       "},{\n",
       "\"geom\":\"hline\",\n",
       "\"mapping\":{\n",
       "},\n",
       "\"data_meta\":{\n",
       "},\n",
       "\"yintercept\":0.0,\n",
       "\"linetype\":\"dashed\",\n",
       "\"color\":\"black\",\n",
       "\"data\":{\n",
       "}\n",
       "},{\n",
       "\"geom\":\"vline\",\n",
       "\"mapping\":{\n",
       "},\n",
       "\"data_meta\":{\n",
       "},\n",
       "\"xintercept\":18.5,\n",
       "\"linetype\":\"dashed\",\n",
       "\"color\":\"black\",\n",
       "\"data\":{\n",
       "}\n",
       "}],\n",
       "\"metainfo_list\":[]\n",
       "};\n",
       "           var plotContainer = document.getElementById(\"VBfdgt\");\n",
       "           window.letsPlotCall(function() {{\n",
       "               LetsPlot.buildPlotFromProcessedSpecs(plotSpec, -1, -1, plotContainer);\n",
       "           }});\n",
       "       })();\n",
       "   </script>"
      ]
     },
     "metadata": {},
     "output_type": "display_data"
    }
   ],
   "source": [
    "fit_twfe.iplot(\n",
    "    coord_flip=False,\n",
    "    title=\"TWFE-Estimator\",\n",
    "    figsize=figsize,\n",
    "    xintercept=18.5,\n",
    "    yintercept=0,\n",
    ").show()"
   ]
  },
  {
   "cell_type": "markdown",
   "metadata": {},
   "source": []
  },
  {
   "cell_type": "code",
   "execution_count": 10,
   "metadata": {},
   "outputs": [
    {
     "data": {
      "text/html": [
       "   <div id=\"W0Gjj4\"></div>\n",
       "   <script type=\"text/javascript\" data-lets-plot-script=\"plot\">\n",
       "       (function() {\n",
       "           var plotSpec={\n",
       "\"data\":{\n",
       "\"Model\":[\"dep_var_hat~i(rel_year,ref=-1.0)\",\"dep_var_hat~i(rel_year,ref=-1.0)\",\"dep_var_hat~i(rel_year,ref=-1.0)\",\"dep_var_hat~i(rel_year,ref=-1.0)\",\"dep_var_hat~i(rel_year,ref=-1.0)\",\"dep_var_hat~i(rel_year,ref=-1.0)\",\"dep_var_hat~i(rel_year,ref=-1.0)\",\"dep_var_hat~i(rel_year,ref=-1.0)\",\"dep_var_hat~i(rel_year,ref=-1.0)\",\"dep_var_hat~i(rel_year,ref=-1.0)\",\"dep_var_hat~i(rel_year,ref=-1.0)\",\"dep_var_hat~i(rel_year,ref=-1.0)\",\"dep_var_hat~i(rel_year,ref=-1.0)\",\"dep_var_hat~i(rel_year,ref=-1.0)\",\"dep_var_hat~i(rel_year,ref=-1.0)\",\"dep_var_hat~i(rel_year,ref=-1.0)\",\"dep_var_hat~i(rel_year,ref=-1.0)\",\"dep_var_hat~i(rel_year,ref=-1.0)\",\"dep_var_hat~i(rel_year,ref=-1.0)\",\"dep_var_hat~i(rel_year,ref=-1.0)\",\"dep_var_hat~i(rel_year,ref=-1.0)\",\"dep_var_hat~i(rel_year,ref=-1.0)\",\"dep_var_hat~i(rel_year,ref=-1.0)\",\"dep_var_hat~i(rel_year,ref=-1.0)\",\"dep_var_hat~i(rel_year,ref=-1.0)\",\"dep_var_hat~i(rel_year,ref=-1.0)\",\"dep_var_hat~i(rel_year,ref=-1.0)\",\"dep_var_hat~i(rel_year,ref=-1.0)\",\"dep_var_hat~i(rel_year,ref=-1.0)\",\"dep_var_hat~i(rel_year,ref=-1.0)\",\"dep_var_hat~i(rel_year,ref=-1.0)\",\"dep_var_hat~i(rel_year,ref=-1.0)\",\"dep_var_hat~i(rel_year,ref=-1.0)\",\"dep_var_hat~i(rel_year,ref=-1.0)\",\"dep_var_hat~i(rel_year,ref=-1.0)\",\"dep_var_hat~i(rel_year,ref=-1.0)\",\"dep_var_hat~i(rel_year,ref=-1.0)\",\"dep_var_hat~i(rel_year,ref=-1.0)\",\"dep_var_hat~i(rel_year,ref=-1.0)\",\"dep_var_hat~i(rel_year,ref=-1.0)\",\"dep_var_hat~i(rel_year,ref=-1.0)\"],\n",
       "\"Coefficient\":[\"C(rel_year, contr.treatment(base=-1.0))[T.-20.0]\",\"C(rel_year, contr.treatment(base=-1.0))[T.-19.0]\",\"C(rel_year, contr.treatment(base=-1.0))[T.-18.0]\",\"C(rel_year, contr.treatment(base=-1.0))[T.-17.0]\",\"C(rel_year, contr.treatment(base=-1.0))[T.-16.0]\",\"C(rel_year, contr.treatment(base=-1.0))[T.-15.0]\",\"C(rel_year, contr.treatment(base=-1.0))[T.-14.0]\",\"C(rel_year, contr.treatment(base=-1.0))[T.-13.0]\",\"C(rel_year, contr.treatment(base=-1.0))[T.-12.0]\",\"C(rel_year, contr.treatment(base=-1.0))[T.-11.0]\",\"C(rel_year, contr.treatment(base=-1.0))[T.-10.0]\",\"C(rel_year, contr.treatment(base=-1.0))[T.-9.0]\",\"C(rel_year, contr.treatment(base=-1.0))[T.-8.0]\",\"C(rel_year, contr.treatment(base=-1.0))[T.-7.0]\",\"C(rel_year, contr.treatment(base=-1.0))[T.-6.0]\",\"C(rel_year, contr.treatment(base=-1.0))[T.-5.0]\",\"C(rel_year, contr.treatment(base=-1.0))[T.-4.0]\",\"C(rel_year, contr.treatment(base=-1.0))[T.-3.0]\",\"C(rel_year, contr.treatment(base=-1.0))[T.-2.0]\",\"C(rel_year, contr.treatment(base=-1.0))[T.0.0]\",\"C(rel_year, contr.treatment(base=-1.0))[T.1.0]\",\"C(rel_year, contr.treatment(base=-1.0))[T.2.0]\",\"C(rel_year, contr.treatment(base=-1.0))[T.3.0]\",\"C(rel_year, contr.treatment(base=-1.0))[T.4.0]\",\"C(rel_year, contr.treatment(base=-1.0))[T.5.0]\",\"C(rel_year, contr.treatment(base=-1.0))[T.6.0]\",\"C(rel_year, contr.treatment(base=-1.0))[T.7.0]\",\"C(rel_year, contr.treatment(base=-1.0))[T.8.0]\",\"C(rel_year, contr.treatment(base=-1.0))[T.9.0]\",\"C(rel_year, contr.treatment(base=-1.0))[T.10.0]\",\"C(rel_year, contr.treatment(base=-1.0))[T.11.0]\",\"C(rel_year, contr.treatment(base=-1.0))[T.12.0]\",\"C(rel_year, contr.treatment(base=-1.0))[T.13.0]\",\"C(rel_year, contr.treatment(base=-1.0))[T.14.0]\",\"C(rel_year, contr.treatment(base=-1.0))[T.15.0]\",\"C(rel_year, contr.treatment(base=-1.0))[T.16.0]\",\"C(rel_year, contr.treatment(base=-1.0))[T.17.0]\",\"C(rel_year, contr.treatment(base=-1.0))[T.18.0]\",\"C(rel_year, contr.treatment(base=-1.0))[T.19.0]\",\"C(rel_year, contr.treatment(base=-1.0))[T.20.0]\",\"C(rel_year, contr.treatment(base=-1.0))[T.inf]\"],\n",
       "\"Estimate\":[-0.07930900259626203,-0.02711527692295062,-0.027235402463776405,-0.033616340960386695,-0.055780655419594205,0.016745169380410263,-0.020869904492020277,-0.022209791559758614,0.00544710624064335,-0.04792471572381649,-0.03247849876040112,-0.037517320624783704,-0.030855210934354546,-0.007103797964663784,-0.03959725316883278,-0.07918224438339333,-0.034225503853840766,-0.01521372832580776,-0.03868704577129315,1.3044623834822837,1.5334859508078482,1.5971059113541846,1.7188457243602804,1.846295731365529,1.9905870364602578,2.078882518586963,2.1653976455207697,2.2589503298971727,2.2777620650044526,2.4147670896846156,2.4563355023754894,2.5072972378725447,2.481397359082737,2.626323300651735,2.812630406322005,2.762680227967199,2.8112964819353956,2.777034681333358,2.7861621743322673,2.814858795952651,0.03050454118024963],\n",
       "\"2.5%\":[-0.0821964089463029,-0.030448719494016178,-0.030286318021996512,-0.03630209456288557,-0.05909677984407197,0.013563177363967699,-0.023959149656586465,-0.024704947553260793,0.002582356236204295,-0.05164956042627897,-0.03461988947193456,-0.03942535700266174,-0.03286486790914595,-0.009382234409052106,-0.04129968195693502,-0.08109041068620222,-0.03597917619732093,-0.017124457956065126,-0.040713318755678934,1.3009473777643459,1.5294483561682717,1.5935515223082812,1.7150475951162027,1.8433051047915487,1.987054160835179,2.0748486013905234,2.1617324752068057,2.25531565427227,2.274419979100066,2.411000322605703,2.4512020622413058,2.5022966875876986,2.476094693085849,2.621950271769499,2.807443150354388,2.7575108563954327,2.806319494534821,2.7719070574564912,2.7805075312418923,2.8096511832357716,0.029217648554091716],\n",
       "\"97.5%\":[-0.07642159624622116,-0.02378183435188506,-0.024184486905556298,-0.03093058735788782,-0.05246453099511644,0.019927161396852827,-0.01778065932745409,-0.019714635566256435,0.008311856245082405,-0.04419987102135402,-0.030337108048867675,-0.03560928424690567,-0.02884555395956314,-0.004825361520275462,-0.03789482438073054,-0.07727407808058444,-0.0324718315103606,-0.013302998695550393,-0.03666077278690737,1.3079773892002216,1.5375235454474248,1.6006603004000879,1.722643853604358,1.8492863579395094,1.9941199120853366,2.0829164357834022,2.169062815834734,2.2625850055220753,2.2811041509088392,2.418533856763528,2.461468942509673,2.5122977881573907,2.4867000250796254,2.6306963295339707,2.8178176622896216,2.767849599538965,2.8162734693359703,2.782162305210225,2.7918168174226423,2.8200664086695304,0.031791433806407546]\n",
       "},\n",
       "\"mapping\":{\n",
       "\"x\":\"Coefficient\",\n",
       "\"y\":\"Estimate\",\n",
       "\"color\":\"Model\"\n",
       "},\n",
       "\"data_meta\":{\n",
       "},\n",
       "\"ggsize\":{\n",
       "\"width\":1200.0,\n",
       "\"height\":400.0\n",
       "},\n",
       "\"theme\":{\n",
       "\"axis_text_x\":{\n",
       "\"angle\":0.0,\n",
       "\"blank\":false\n",
       "}\n",
       "},\n",
       "\"ggtitle\":{\n",
       "\"text\":\"DID2s-Estimator\"\n",
       "},\n",
       "\"kind\":\"plot\",\n",
       "\"scales\":[{\n",
       "\"name\":\"Estimate and 95.0% Confidence Interval\",\n",
       "\"aesthetic\":\"y\"\n",
       "}],\n",
       "\"layers\":[{\n",
       "\"geom\":\"point\",\n",
       "\"mapping\":{\n",
       "},\n",
       "\"position\":{\n",
       "\"name\":\"dodge\",\n",
       "\"width\":0.5\n",
       "},\n",
       "\"data_meta\":{\n",
       "},\n",
       "\"data\":{\n",
       "}\n",
       "},{\n",
       "\"geom\":\"errorbar\",\n",
       "\"mapping\":{\n",
       "\"ymin\":\"2.5%\",\n",
       "\"ymax\":\"97.5%\"\n",
       "},\n",
       "\"position\":{\n",
       "\"name\":\"dodge\",\n",
       "\"width\":0.5\n",
       "},\n",
       "\"data_meta\":{\n",
       "},\n",
       "\"width\":0.05,\n",
       "\"data\":{\n",
       "}\n",
       "},{\n",
       "\"geom\":\"hline\",\n",
       "\"mapping\":{\n",
       "},\n",
       "\"data_meta\":{\n",
       "},\n",
       "\"yintercept\":0.0,\n",
       "\"linetype\":\"dashed\",\n",
       "\"color\":\"black\",\n",
       "\"data\":{\n",
       "}\n",
       "},{\n",
       "\"geom\":\"vline\",\n",
       "\"mapping\":{\n",
       "},\n",
       "\"data_meta\":{\n",
       "},\n",
       "\"xintercept\":18.5,\n",
       "\"linetype\":\"dashed\",\n",
       "\"color\":\"black\",\n",
       "\"data\":{\n",
       "}\n",
       "}],\n",
       "\"metainfo_list\":[]\n",
       "};\n",
       "           var plotContainer = document.getElementById(\"W0Gjj4\");\n",
       "           window.letsPlotCall(function() {{\n",
       "               LetsPlot.buildPlotFromProcessedSpecs(plotSpec, -1, -1, plotContainer);\n",
       "           }});\n",
       "       })();\n",
       "   </script>"
      ]
     },
     "metadata": {},
     "output_type": "display_data"
    }
   ],
   "source": [
    "fit_did2s.iplot(\n",
    "    coord_flip=False,\n",
    "    title=\"DID2s-Estimator\",\n",
    "    figsize=figsize,\n",
    "    xintercept=18.5,\n",
    "    yintercept=0,\n",
    ").show()"
   ]
  },
  {
   "cell_type": "code",
   "execution_count": 11,
   "metadata": {},
   "outputs": [
    {
     "data": {
      "text/html": [
       "   <div id=\"pI8tS5\"></div>\n",
       "   <script type=\"text/javascript\" data-lets-plot-script=\"plot\">\n",
       "       (function() {\n",
       "           var plotSpec={\n",
       "\"data\":{\n",
       "\"Coefficient\":[\"time_to_treatment::-20\",\"time_to_treatment::-19\",\"time_to_treatment::-18\",\"time_to_treatment::-17\",\"time_to_treatment::-16\",\"time_to_treatment::-15\",\"time_to_treatment::-14\",\"time_to_treatment::-13\",\"time_to_treatment::-12\",\"time_to_treatment::-11\",\"time_to_treatment::-10\",\"time_to_treatment::-9\",\"time_to_treatment::-8\",\"time_to_treatment::-7\",\"time_to_treatment::-6\",\"time_to_treatment::-5\",\"time_to_treatment::-4\",\"time_to_treatment::-3\",\"time_to_treatment::-2\",\"time_to_treatment::0\",\"time_to_treatment::1\",\"time_to_treatment::2\",\"time_to_treatment::3\",\"time_to_treatment::4\",\"time_to_treatment::5\",\"time_to_treatment::6\",\"time_to_treatment::7\",\"time_to_treatment::8\",\"time_to_treatment::9\",\"time_to_treatment::10\",\"time_to_treatment::11\",\"time_to_treatment::12\",\"time_to_treatment::13\",\"time_to_treatment::14\",\"time_to_treatment::15\",\"time_to_treatment::16\",\"time_to_treatment::17\",\"time_to_treatment::18\",\"time_to_treatment::19\",\"time_to_treatment::20\"],\n",
       "\"Estimate\":[-0.07305529455102057,-0.005747539400753715,0.019862595898581595,0.07556131947831908,-0.051277562684252126,0.04789121634978959,0.03006102440123136,0.039869683844842636,0.0484578972898468,-0.012820133350277516,0.01368536104092389,0.005199898128597271,0.01641627746483729,0.05641673885681887,0.0016957198969680851,-0.06496834258802509,0.010741616233677906,0.04275993550129887,0.0032290159332871316,1.4520234748273073,1.66762205650255,1.733699704558005,1.843611819985164,1.962093749379402,2.0880835635857604,2.1819660437275705,2.2546784046421315,2.348473587127565,2.360384864306779,2.5161139333617535,2.55297799431009,2.6039385093443834,2.5780442879020353,2.7229688455567262,2.9092747255962257,2.859325154708493,2.907943168261159,2.8736781792414066,2.8828072503191615,2.911501018068635],\n",
       "\"2.5%\":[-0.2270826961098405,-0.16693825914268584,-0.17099960310693896,-0.09826170522707196,-0.22455341838575843,-0.11489451024530281,-0.13002612178576894,-0.13437295272167696,-0.11730100551172672,-0.17771607684726962,-0.11566892795170586,-0.11001240538935626,-0.10769379379405318,-0.06859048773331214,-0.12148536092865649,-0.1896167874061708,-0.0988732041093079,-0.07743835566370613,-0.1185901855478567,1.336399652784727,1.5249457624566891,1.6253408299624867,1.7294961753234745,1.8189783249343026,1.962310567624104,2.0419614198097027,2.1171577125178027,2.2274111169856234,2.22074468600017,2.3975983601691073,2.3713023787051073,2.412359105803796,2.402011397023944,2.5168920592954493,2.721146526114489,2.6740882866258033,2.727898103368657,2.6590374444987335,2.672165750808046,2.7127030711606706],\n",
       "\"97.5%\":[0.08097210700779937,0.15544318034117843,0.21072479490410218,0.24938434418371014,0.12199829301725418,0.210676942944882,0.19014817058823164,0.21411232041136222,0.2142168000914203,0.1520758101467146,0.14303965003355362,0.1204122016465508,0.14052634872372777,0.18142396544694986,0.12487680072259265,0.05968010223012063,0.12035643657666371,0.16295822666630388,0.12504821741443098,1.5676472968698876,1.8102983505484107,1.8420585791535231,1.9577274646468537,2.1052091738245013,2.213856559547417,2.3219706676454384,2.3921990967664604,2.4695360572695066,2.500025042613388,2.6346295065543996,2.734653609915073,2.795517912884971,2.754077178780127,2.929045631818003,3.0974029250779624,3.0445620227911823,3.0879882331536614,3.0883189139840796,3.093448749830277,3.1102989649765993],\n",
       "\"Model\":[\"lpdid\",\"lpdid\",\"lpdid\",\"lpdid\",\"lpdid\",\"lpdid\",\"lpdid\",\"lpdid\",\"lpdid\",\"lpdid\",\"lpdid\",\"lpdid\",\"lpdid\",\"lpdid\",\"lpdid\",\"lpdid\",\"lpdid\",\"lpdid\",\"lpdid\",\"lpdid\",\"lpdid\",\"lpdid\",\"lpdid\",\"lpdid\",\"lpdid\",\"lpdid\",\"lpdid\",\"lpdid\",\"lpdid\",\"lpdid\",\"lpdid\",\"lpdid\",\"lpdid\",\"lpdid\",\"lpdid\",\"lpdid\",\"lpdid\",\"lpdid\",\"lpdid\",\"lpdid\"]\n",
       "},\n",
       "\"mapping\":{\n",
       "\"x\":\"Coefficient\",\n",
       "\"y\":\"Estimate\",\n",
       "\"color\":\"Model\"\n",
       "},\n",
       "\"data_meta\":{\n",
       "},\n",
       "\"ggsize\":{\n",
       "\"width\":1200.0,\n",
       "\"height\":400.0\n",
       "},\n",
       "\"theme\":{\n",
       "\"axis_text_x\":{\n",
       "\"angle\":0.0,\n",
       "\"blank\":false\n",
       "}\n",
       "},\n",
       "\"ggtitle\":{\n",
       "\"text\":\"Local-Projections-Estimator\"\n",
       "},\n",
       "\"kind\":\"plot\",\n",
       "\"scales\":[{\n",
       "\"name\":\"Estimate and 95.0% Confidence Interval\",\n",
       "\"aesthetic\":\"y\"\n",
       "}],\n",
       "\"layers\":[{\n",
       "\"geom\":\"point\",\n",
       "\"mapping\":{\n",
       "},\n",
       "\"position\":{\n",
       "\"name\":\"dodge\",\n",
       "\"width\":0.5\n",
       "},\n",
       "\"data_meta\":{\n",
       "},\n",
       "\"data\":{\n",
       "}\n",
       "},{\n",
       "\"geom\":\"errorbar\",\n",
       "\"mapping\":{\n",
       "\"ymin\":\"2.5%\",\n",
       "\"ymax\":\"97.5%\"\n",
       "},\n",
       "\"position\":{\n",
       "\"name\":\"dodge\",\n",
       "\"width\":0.5\n",
       "},\n",
       "\"data_meta\":{\n",
       "},\n",
       "\"width\":0.05,\n",
       "\"data\":{\n",
       "}\n",
       "},{\n",
       "\"geom\":\"hline\",\n",
       "\"mapping\":{\n",
       "},\n",
       "\"data_meta\":{\n",
       "},\n",
       "\"yintercept\":0.0,\n",
       "\"linetype\":\"dashed\",\n",
       "\"color\":\"black\",\n",
       "\"data\":{\n",
       "}\n",
       "},{\n",
       "\"geom\":\"vline\",\n",
       "\"mapping\":{\n",
       "},\n",
       "\"data_meta\":{\n",
       "},\n",
       "\"xintercept\":18.5,\n",
       "\"linetype\":\"dashed\",\n",
       "\"color\":\"black\",\n",
       "\"data\":{\n",
       "}\n",
       "}],\n",
       "\"metainfo_list\":[]\n",
       "};\n",
       "           var plotContainer = document.getElementById(\"pI8tS5\");\n",
       "           window.letsPlotCall(function() {{\n",
       "               LetsPlot.buildPlotFromProcessedSpecs(plotSpec, -1, -1, plotContainer);\n",
       "           }});\n",
       "       })();\n",
       "   </script>"
      ]
     },
     "metadata": {},
     "output_type": "display_data"
    }
   ],
   "source": [
    "fit_lpdid.iplot(\n",
    "    coord_flip=False,\n",
    "    title=\"Local-Projections-Estimator\",\n",
    "    figsize=figsize,\n",
    "    yintercept=0,\n",
    "    xintercept=18.5,\n",
    ").show()"
   ]
  },
  {
   "cell_type": "markdown",
   "metadata": {},
   "source": [
    "What if we are not interested in the ATT per treatment period, but in a pooled effects? "
   ]
  },
  {
   "cell_type": "code",
   "execution_count": 12,
   "metadata": {},
   "outputs": [],
   "source": [
    "fit_twfe = pf.feols(\n",
    "    \"dep_var ~ i(treat) | unit + year\",\n",
    "    df_het,\n",
    "    vcov={\"CRV1\": \"state\"},\n",
    ")\n",
    "\n",
    "fit_did2s = did2s(\n",
    "    df_het,\n",
    "    yname=\"dep_var\",\n",
    "    first_stage=\"~ 0 | unit + year\",\n",
    "    second_stage=\"~i(treat)\",\n",
    "    treatment=\"treat\",\n",
    "    cluster=\"state\",\n",
    ")\n",
    "\n",
    "fit_lpdid = lpdid(\n",
    "    data=df_het,\n",
    "    yname=\"dep_var\",\n",
    "    gname=\"g\",\n",
    "    tname=\"year\",\n",
    "    idname=\"unit\",\n",
    "    vcov={\"CRV1\": \"state\"},\n",
    "    pre_window=-20,\n",
    "    post_window=20,\n",
    "    att=True,\n",
    ")"
   ]
  },
  {
   "cell_type": "code",
   "execution_count": 13,
   "metadata": {},
   "outputs": [
    {
     "data": {
      "text/html": [
       "<div>\n",
       "<style scoped>\n",
       "    .dataframe tbody tr th:only-of-type {\n",
       "        vertical-align: middle;\n",
       "    }\n",
       "\n",
       "    .dataframe tbody tr th {\n",
       "        vertical-align: top;\n",
       "    }\n",
       "\n",
       "    .dataframe thead th {\n",
       "        text-align: right;\n",
       "    }\n",
       "</style>\n",
       "<table border=\"1\" class=\"dataframe\">\n",
       "  <thead>\n",
       "    <tr style=\"text-align: right;\">\n",
       "      <th></th>\n",
       "      <th>Estimate</th>\n",
       "      <th>Std. Error</th>\n",
       "      <th>t value</th>\n",
       "      <th>Pr(&gt;|t|)</th>\n",
       "      <th>2.5%</th>\n",
       "      <th>97.5%</th>\n",
       "    </tr>\n",
       "    <tr>\n",
       "      <th>Coefficient</th>\n",
       "      <th></th>\n",
       "      <th></th>\n",
       "      <th></th>\n",
       "      <th></th>\n",
       "      <th></th>\n",
       "      <th></th>\n",
       "    </tr>\n",
       "  </thead>\n",
       "  <tbody>\n",
       "    <tr>\n",
       "      <th>C(treat)[T.True]</th>\n",
       "      <td>1.98254</td>\n",
       "      <td>0.019331</td>\n",
       "      <td>102.55618</td>\n",
       "      <td>0.0</td>\n",
       "      <td>1.943439</td>\n",
       "      <td>2.021642</td>\n",
       "    </tr>\n",
       "  </tbody>\n",
       "</table>\n",
       "</div>"
      ],
      "text/plain": [
       "                  Estimate  Std. Error    t value  Pr(>|t|)      2.5%  \\\n",
       "Coefficient                                                             \n",
       "C(treat)[T.True]   1.98254    0.019331  102.55618       0.0  1.943439   \n",
       "\n",
       "                     97.5%  \n",
       "Coefficient                 \n",
       "C(treat)[T.True]  2.021642  "
      ]
     },
     "execution_count": 13,
     "metadata": {},
     "output_type": "execute_result"
    }
   ],
   "source": [
    "fit_twfe.tidy()"
   ]
  },
  {
   "cell_type": "code",
   "execution_count": 14,
   "metadata": {},
   "outputs": [
    {
     "data": {
      "text/html": [
       "<div>\n",
       "<style scoped>\n",
       "    .dataframe tbody tr th:only-of-type {\n",
       "        vertical-align: middle;\n",
       "    }\n",
       "\n",
       "    .dataframe tbody tr th {\n",
       "        vertical-align: top;\n",
       "    }\n",
       "\n",
       "    .dataframe thead th {\n",
       "        text-align: right;\n",
       "    }\n",
       "</style>\n",
       "<table border=\"1\" class=\"dataframe\">\n",
       "  <thead>\n",
       "    <tr style=\"text-align: right;\">\n",
       "      <th></th>\n",
       "      <th>Estimate</th>\n",
       "      <th>Std. Error</th>\n",
       "      <th>t value</th>\n",
       "      <th>Pr(&gt;|t|)</th>\n",
       "      <th>2.5%</th>\n",
       "      <th>97.5%</th>\n",
       "    </tr>\n",
       "    <tr>\n",
       "      <th>Coefficient</th>\n",
       "      <th></th>\n",
       "      <th></th>\n",
       "      <th></th>\n",
       "      <th></th>\n",
       "      <th></th>\n",
       "      <th></th>\n",
       "    </tr>\n",
       "  </thead>\n",
       "  <tbody>\n",
       "    <tr>\n",
       "      <th>C(treat)[T.True]</th>\n",
       "      <td>2.230482</td>\n",
       "      <td>0.024709</td>\n",
       "      <td>90.271437</td>\n",
       "      <td>0.0</td>\n",
       "      <td>2.182054</td>\n",
       "      <td>2.27891</td>\n",
       "    </tr>\n",
       "  </tbody>\n",
       "</table>\n",
       "</div>"
      ],
      "text/plain": [
       "                  Estimate  Std. Error    t value  Pr(>|t|)      2.5%    97.5%\n",
       "Coefficient                                                                   \n",
       "C(treat)[T.True]  2.230482    0.024709  90.271437       0.0  2.182054  2.27891"
      ]
     },
     "execution_count": 14,
     "metadata": {},
     "output_type": "execute_result"
    }
   ],
   "source": [
    "fit_did2s.tidy()"
   ]
  },
  {
   "cell_type": "code",
   "execution_count": 15,
   "metadata": {},
   "outputs": [
    {
     "data": {
      "text/html": [
       "<div>\n",
       "<style scoped>\n",
       "    .dataframe tbody tr th:only-of-type {\n",
       "        vertical-align: middle;\n",
       "    }\n",
       "\n",
       "    .dataframe tbody tr th {\n",
       "        vertical-align: top;\n",
       "    }\n",
       "\n",
       "    .dataframe thead th {\n",
       "        text-align: right;\n",
       "    }\n",
       "</style>\n",
       "<table border=\"1\" class=\"dataframe\">\n",
       "  <thead>\n",
       "    <tr style=\"text-align: right;\">\n",
       "      <th></th>\n",
       "      <th>Estimate</th>\n",
       "      <th>Std. Error</th>\n",
       "      <th>t value</th>\n",
       "      <th>Pr(&gt;|t|)</th>\n",
       "      <th>2.5%</th>\n",
       "      <th>97.5%</th>\n",
       "      <th>N</th>\n",
       "    </tr>\n",
       "  </thead>\n",
       "  <tbody>\n",
       "    <tr>\n",
       "      <th>treat_diff</th>\n",
       "      <td>2.506746</td>\n",
       "      <td>0.071357</td>\n",
       "      <td>35.129648</td>\n",
       "      <td>0.0</td>\n",
       "      <td>2.362413</td>\n",
       "      <td>2.65108</td>\n",
       "      <td>5716.0</td>\n",
       "    </tr>\n",
       "  </tbody>\n",
       "</table>\n",
       "</div>"
      ],
      "text/plain": [
       "            Estimate  Std. Error    t value  Pr(>|t|)      2.5%    97.5%  \\\n",
       "treat_diff  2.506746    0.071357  35.129648       0.0  2.362413  2.65108   \n",
       "\n",
       "                 N  \n",
       "treat_diff  5716.0  "
      ]
     },
     "execution_count": 15,
     "metadata": {},
     "output_type": "execute_result"
    }
   ],
   "source": [
    "fit_lpdid.tidy()"
   ]
  },
  {
   "cell_type": "code",
   "execution_count": null,
   "metadata": {},
   "outputs": [],
   "source": []
  }
 ],
 "metadata": {
  "kernelspec": {
   "display_name": "pyfixest-pKOwcWPT-py3.10",
   "language": "python",
   "name": "python3"
  },
  "language_info": {
   "codemirror_mode": {
    "name": "ipython",
    "version": 3
   },
   "file_extension": ".py",
   "mimetype": "text/x-python",
   "name": "python",
   "nbconvert_exporter": "python",
   "pygments_lexer": "ipython3",
   "version": "3.10.8"
  }
 },
 "nbformat": 4,
 "nbformat_minor": 2
}
