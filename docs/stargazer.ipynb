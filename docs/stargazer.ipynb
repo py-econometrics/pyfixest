{
 "cells": [
  {
   "cell_type": "markdown",
   "metadata": {},
   "source": [
    "## Publication-Ready Output Tables via `Stargazer`"
   ]
  },
  {
   "cell_type": "markdown",
   "metadata": {},
   "source": [
    "The [Stargazer](https://github.com/StatsReporting/stargazer) Python package support regression output for models from `PyFixest`. For details on stargazer's functionality, please take a look at the [stargazer examples](https://github.com/StatsReporting/stargazer/blob/master/examples.ipynb). \n",
    "\n",
    "We have opened a PR for `pyfixest` support to the [Stargazer repo](https://github.com/StatsReporting/stargazer/pull/105). Until it is merged, you can download the dev version from `py-econometrics` by typing \n",
    "\n",
    "```bash\n",
    "pip install git+https://github.com/py-econometrics/stargazer.git\n",
    "```\n",
    "\n",
    "In a first step, we fit a few regression models via `PyFixest's` multiple estimation syntax: "
   ]
  },
  {
   "cell_type": "code",
   "execution_count": 8,
   "metadata": {},
   "outputs": [],
   "source": [
    "import numpy as np\n",
    "from stargazer.stargazer import LineLocation\n",
    "\n",
    "import pyfixest as pf\n",
    "\n",
    "fit = pf.feols(\"Y ~ csw(X1, X2) | csw0(f1, f2)\", data=pf.get_data())"
   ]
  },
  {
   "cell_type": "markdown",
   "metadata": {},
   "source": [
    "We can now produce a html table with the results of the three regressions by simply passing a list of `Feols`, `Fepois` or `Feiv` objects to `Stargazer`:"
   ]
  },
  {
   "cell_type": "code",
   "execution_count": 9,
   "metadata": {},
   "outputs": [
    {
     "data": {
      "text/html": [
       "<table style=\"text-align:center\"><tr><td colspan=\"7\" style=\"border-bottom: 1px solid black\"></td></tr>\n",
       "<tr><td style=\"text-align:left\"></td><td colspan=\"6\"><em>Dependent variable: Y</em></td></tr><tr><td style=\"text-align:left\"></td><tr><td style=\"text-align:left\"></td><td>(1)</td><td>(2)</td><td>(3)</td><td>(4)</td><td>(5)</td><td>(6)</td></tr>\n",
       "<tr><td colspan=\"7\" style=\"border-bottom: 1px solid black\"></td></tr>\n",
       "\n",
       "<tr><td style=\"text-align:left\">Intercept</td><td>0.919<sup>***</sup></td><td>0.889<sup>***</sup></td><td></td><td></td><td></td><td></td></tr>\n",
       "<tr><td style=\"text-align:left\"></td><td>(0.112)</td><td>(0.108)</td><td></td><td></td><td></td><td></td></tr>\n",
       "<tr><td style=\"text-align:left\">X1</td><td>-1.000<sup>***</sup></td><td>-0.993<sup>***</sup></td><td>-0.949<sup>***</sup></td><td>-0.950<sup>***</sup></td><td>-0.919<sup>***</sup></td><td>-0.924<sup>***</sup></td></tr>\n",
       "<tr><td style=\"text-align:left\"></td><td>(0.085)</td><td>(0.082)</td><td>(0.069)</td><td>(0.067)</td><td>(0.065)</td><td>(0.061)</td></tr>\n",
       "<tr><td style=\"text-align:left\">X2</td><td></td><td>-0.176<sup>***</sup></td><td></td><td>-0.174<sup>***</sup></td><td></td><td>-0.174<sup>***</sup></td></tr>\n",
       "<tr><td style=\"text-align:left\"></td><td></td><td>(0.022)</td><td></td><td>(0.018)</td><td></td><td>(0.015)</td></tr>\n",
       "\n",
       "<td colspan=\"7\" style=\"border-bottom: 1px solid black\"></td></tr>\n",
       "<tr><td style=\"text-align: left\">f1</td><td>-</td><td>-</td><td>x</td><td>x</td><td>x</td><td>x</td></tr><tr><td style=\"text-align: left\">f2</td><td>-</td><td>-</td><td>-</td><td>-</td><td>x</td><td>x</td></tr><tr><td style=\"text-align: left\">Observations</td><td>998</td><td>998</td><td>997</td><td>997</td><td>997</td><td>997</td></tr><tr><td style=\"text-align: left\">R<sup>2</sup></td><td>0.123</td><td>0.177</td><td>0.437</td><td>0.489</td><td>0.609</td><td>0.659</td></tr>\n",
       "<tr><td colspan=\"7\" style=\"border-bottom: 1px solid black\"></td></tr><tr><td style=\"text-align: left\">Note:</td><td colspan=\"6\" style=\"text-align: right\"><sup>*</sup>p&lt;0.1; <sup>**</sup>p&lt;0.05; <sup>***</sup>p&lt;0.01</td></tr></table>"
      ],
      "text/plain": [
       "<pyfixest.report.summarize.Stargazer at 0x23e4ad1dc90>"
      ]
     },
     "execution_count": 9,
     "metadata": {},
     "output_type": "execute_result"
    }
   ],
   "source": [
    "result_table = pf.Stargazer(fit.to_list())\n",
    "result_table"
   ]
  },
  {
   "cell_type": "markdown",
   "metadata": {},
   "source": [
    "Note that we could have achieved a similar result by using the pyfixest native `etable()` function. "
   ]
  },
  {
   "cell_type": "code",
   "execution_count": 10,
   "metadata": {},
   "outputs": [
    {
     "name": "stdout",
     "output_type": "stream",
     "text": [
      "                           est1               est2               est3               est4               est5               est6\n",
      "------------  -----------------  -----------------  -----------------  -----------------  -----------------  -----------------\n",
      "depvar                        Y                  Y                  Y                  Y                  Y                  Y\n",
      "------------------------------------------------------------------------------------------------------------------------------\n",
      "Intercept      0.919*** (0.112)   0.889*** (0.108)\n",
      "X1            -1.000*** (0.085)  -0.993*** (0.082)  -0.949*** (0.069)  -0.950*** (0.067)  -0.919*** (0.065)  -0.924*** (0.061)\n",
      "X2                               -0.176*** (0.022)                     -0.174*** (0.018)                     -0.174*** (0.015)\n",
      "------------------------------------------------------------------------------------------------------------------------------\n",
      "f2                            -                  -                  -                  -                  x                  x\n",
      "f1                            -                  -                  x                  x                  x                  x\n",
      "------------------------------------------------------------------------------------------------------------------------------\n",
      "R2                        0.123              0.177              0.437              0.489              0.609              0.659\n",
      "S.E. type                   iid                iid             by: f1             by: f1             by: f1             by: f1\n",
      "Observations                998                998                997                997                997                997\n",
      "------------------------------------------------------------------------------------------------------------------------------\n",
      "Significance levels: * p < 0.05, ** p < 0.01, *** p < 0.001\n",
      "Format of coefficient cell:\n",
      "Coefficient (Std. Error)\n"
     ]
    }
   ],
   "source": [
    "pf.etable(fit.to_list())"
   ]
  },
  {
   "cell_type": "markdown",
   "metadata": {},
   "source": [
    "Additionally, we can ask `Stargazer` to output the results in LaTeX format:"
   ]
  },
  {
   "cell_type": "code",
   "execution_count": 11,
   "metadata": {},
   "outputs": [
    {
     "name": "stdout",
     "output_type": "stream",
     "text": [
      "\\begin{table}[!htbp] \\centering\n",
      "\\begin{tabular}{@{\\extracolsep{5pt}}lcccccc}\n",
      "\\\\[-1.8ex]\\hline\n",
      "\\hline \\\\[-1.8ex]\n",
      "& \\multicolumn{6}{c}{\\textit{Dependent variable: Y}} \\\n",
      "\\cr \\cline{2-7}\n",
      "\\\\[-1.8ex] & (1) & (2) & (3) & (4) & (5) & (6) \\\\\n",
      "\\hline \\\\[-1.8ex]\n",
      " Intercept & 0.919$^{***}$ & 0.889$^{***}$ & & & & \\\\\n",
      "& (0.112) & (0.108) & & & & \\\\\n",
      " X1 & -1.000$^{***}$ & -0.993$^{***}$ & -0.949$^{***}$ & -0.950$^{***}$ & -0.919$^{***}$ & -0.924$^{***}$ \\\\\n",
      "& (0.085) & (0.082) & (0.069) & (0.067) & (0.065) & (0.061) \\\\\n",
      " X2 & & -0.176$^{***}$ & & -0.174$^{***}$ & & -0.174$^{***}$ \\\\\n",
      "& & (0.022) & & (0.018) & & (0.015) \\\\\n",
      "\\hline \\\\[-1.8ex]\n",
      " f1 & - & - & x & x & x & x \\\\\n",
      " f2 & - & - & - & - & x & x \\\\\n",
      " Observations & 998 & 998 & 997 & 997 & 997 & 997 \\\\\n",
      " $R^2$ & 0.123 & 0.177 & 0.437 & 0.489 & 0.609 & 0.659 \\\\\n",
      "\\hline\n",
      "\\hline \\\\[-1.8ex]\n",
      "\\textit{Note:} & \\multicolumn{6}{r}{$^{*}$p$<$0.1; $^{**}$p$<$0.05; $^{***}$p$<$0.01} \\\\\n",
      "\\end{tabular}\n",
      "\\end{table}\n"
     ]
    }
   ],
   "source": [
    "print(result_table.render_latex())"
   ]
  },
  {
   "cell_type": "markdown",
   "metadata": {},
   "source": [
    "And we can add custom statistics!\n",
    "\n",
    "For example, assume that we want to correct for multiple testing via the Romano-Wolf correction. We can do this as follows:"
   ]
  },
  {
   "cell_type": "code",
   "execution_count": 12,
   "metadata": {},
   "outputs": [],
   "source": [
    "rwolf_res = pf.rwolf(fit.to_list(), param = \"X1\", seed = 123, reps = 9999)\n",
    "rwolf_pvalues = np.round(rwolf_res.xs(\"RW Pr(>|t|)\"), 3).to_list()"
   ]
  },
  {
   "cell_type": "code",
   "execution_count": 13,
   "metadata": {},
   "outputs": [
    {
     "data": {
      "text/plain": [
       "[0.234, 0.234, 0.234, 0.306, 0.753, 0.753]"
      ]
     },
     "execution_count": 13,
     "metadata": {},
     "output_type": "execute_result"
    }
   ],
   "source": [
    "rwolf_pvalues"
   ]
  },
  {
   "cell_type": "code",
   "execution_count": 14,
   "metadata": {},
   "outputs": [
    {
     "data": {
      "text/html": [
       "<table style=\"text-align:center\"><tr><td colspan=\"7\" style=\"border-bottom: 1px solid black\"></td></tr>\n",
       "<tr><td style=\"text-align:left\"></td><td colspan=\"6\"><em>Dependent variable: Y</em></td></tr><tr><td style=\"text-align:left\"></td><tr><td style=\"text-align:left\"></td><td>(1)</td><td>(2)</td><td>(3)</td><td>(4)</td><td>(5)</td><td>(6)</td></tr>\n",
       "<tr><td colspan=\"7\" style=\"border-bottom: 1px solid black\"></td></tr>\n",
       "\n",
       "<tr><td style=\"text-align:left\">Intercept</td><td>0.919<sup>***</sup></td><td>0.889<sup>***</sup></td><td></td><td></td><td></td><td></td></tr>\n",
       "<tr><td style=\"text-align:left\"></td><td>(0.112)</td><td>(0.108)</td><td></td><td></td><td></td><td></td></tr>\n",
       "<tr><td style=\"text-align:left\">X1</td><td>-1.000<sup>***</sup></td><td>-0.993<sup>***</sup></td><td>-0.949<sup>***</sup></td><td>-0.950<sup>***</sup></td><td>-0.919<sup>***</sup></td><td>-0.924<sup>***</sup></td></tr>\n",
       "<tr><td style=\"text-align:left\"></td><td>(0.085)</td><td>(0.082)</td><td>(0.069)</td><td>(0.067)</td><td>(0.065)</td><td>(0.061)</td></tr>\n",
       "<tr><td style=\"text-align:left\">X2</td><td></td><td>-0.176<sup>***</sup></td><td></td><td>-0.174<sup>***</sup></td><td></td><td>-0.174<sup>***</sup></td></tr>\n",
       "<tr><td style=\"text-align:left\"></td><td></td><td>(0.022)</td><td></td><td>(0.018)</td><td></td><td>(0.015)</td></tr>\n",
       "\n",
       "<td colspan=\"7\" style=\"border-bottom: 1px solid black\"></td></tr>\n",
       "<tr><td style=\"text-align: left\">f1</td><td>-</td><td>-</td><td>x</td><td>x</td><td>x</td><td>x</td></tr><tr><td style=\"text-align: left\">f2</td><td>-</td><td>-</td><td>-</td><td>-</td><td>x</td><td>x</td></tr><tr><td style=\"text-align: left\">Fixed Effects</td><td></td><td></td><td>f1</td><td>f1</td><td>f1+f2</td><td>f1+f2</td></tr><tr><td style=\"text-align: left\">X1: Romano-Wolf P-Value</td><td>0.234</td><td>0.234</td><td>0.234</td><td>0.306</td><td>0.753</td><td>0.753</td></tr><tr><td style=\"text-align: left\">Observations</td><td>998</td><td>998</td><td>997</td><td>997</td><td>997</td><td>997</td></tr><tr><td style=\"text-align: left\">R<sup>2</sup></td><td>0.123</td><td>0.177</td><td>0.437</td><td>0.489</td><td>0.609</td><td>0.659</td></tr>\n",
       "<tr><td colspan=\"7\" style=\"border-bottom: 1px solid black\"></td></tr><tr><td style=\"text-align: left\">Note:</td><td colspan=\"6\" style=\"text-align: right\"><sup>*</sup>p&lt;0.1; <sup>**</sup>p&lt;0.05; <sup>***</sup>p&lt;0.01</td></tr></table>"
      ],
      "text/plain": [
       "<pyfixest.report.summarize.Stargazer at 0x23e4ad1dc90>"
      ]
     },
     "execution_count": 14,
     "metadata": {},
     "output_type": "execute_result"
    }
   ],
   "source": [
    "result_table.add_line('Fixed Effects', [x._fixef for x in fit.to_list()], LineLocation.FOOTER_TOP)\n",
    "result_table.add_line('X1: Romano-Wolf P-Value', rwolf_pvalues, LineLocation.FOOTER_TOP)\n",
    "\n",
    "result_table"
   ]
  },
  {
   "cell_type": "code",
   "execution_count": null,
   "metadata": {},
   "outputs": [],
   "source": []
  }
 ],
 "metadata": {
  "kernelspec": {
   "display_name": "Python 3",
   "language": "python",
   "name": "python3"
  },
  "language_info": {
   "codemirror_mode": {
    "name": "ipython",
    "version": 3
   },
   "file_extension": ".py",
   "mimetype": "text/x-python",
   "name": "python",
   "nbconvert_exporter": "python",
   "pygments_lexer": "ipython3",
   "version": "3.10.8"
  }
 },
 "nbformat": 4,
 "nbformat_minor": 2
}
