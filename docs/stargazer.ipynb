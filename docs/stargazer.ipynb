{
 "cells": [
  {
   "cell_type": "markdown",
   "metadata": {},
   "source": [
    "## Regression Tables via `pf.etable()` and the `Stargazer` package"
   ]
  },
  {
   "cell_type": "markdown",
   "metadata": {},
   "source": [
    "To produce regression tables, we have two options: pyfixest's internal `etable()` function and the [Stargazer](https://github.com/StatsReporting/stargazer) Python package."
   ]
  },
  {
   "cell_type": "code",
   "execution_count": 4,
   "metadata": {},
   "outputs": [
    {
     "name": "stdout",
     "output_type": "stream",
     "text": [
      "The autoreload extension is already loaded. To reload it, use:\n",
      "  %reload_ext autoreload\n"
     ]
    },
    {
     "ename": "IndentationError",
     "evalue": "unexpected indent (summarize.py, line 261)",
     "output_type": "error",
     "traceback": [
      "Traceback \u001b[1;36m(most recent call last)\u001b[0m:\n",
      "\u001b[0m  File \u001b[0;32mc:\\Users\\alexa\\AppData\\Local\\pypoetry\\Cache\\virtualenvs\\pyfixest-pKOwcWPT-py3.10\\lib\\site-packages\\IPython\\core\\interactiveshell.py:3550\u001b[0m in \u001b[0;35mrun_code\u001b[0m\n    exec(code_obj, self.user_global_ns, self.user_ns)\u001b[0m\n",
      "\u001b[0m  Cell \u001b[0;32mIn[4], line 5\u001b[0m\n    import pyfixest as pf\u001b[0m\n",
      "\u001b[0m  File \u001b[0;32mc:\\Users\\alexa\\AppData\\Local\\pypoetry\\Cache\\virtualenvs\\pyfixest-pKOwcWPT-py3.10\\lib\\site-packages\\pyfixest\\__init__.py:2\u001b[0m\n    from pyfixest import (\u001b[0m\n",
      "\u001b[0m  File \u001b[0;32mc:\\Users\\alexa\\AppData\\Local\\pypoetry\\Cache\\virtualenvs\\pyfixest-pKOwcWPT-py3.10\\lib\\site-packages\\pyfixest\\estimation\\__init__.py:26\u001b[0m\n    from pyfixest.estimation.multcomp import (\u001b[0m\n",
      "\u001b[0m  File \u001b[0;32mc:\\Users\\alexa\\AppData\\Local\\pypoetry\\Cache\\virtualenvs\\pyfixest-pKOwcWPT-py3.10\\lib\\site-packages\\pyfixest\\estimation\\multcomp.py:9\u001b[0m\n    from pyfixest.report.summarize import _post_processing_input_checks\u001b[0m\n",
      "\u001b[1;36m  File \u001b[1;32mc:\\Users\\alexa\\AppData\\Local\\pypoetry\\Cache\\virtualenvs\\pyfixest-pKOwcWPT-py3.10\\lib\\site-packages\\pyfixest\\report\\__init__.py:1\u001b[1;36m\n\u001b[1;33m    from pyfixest.report.summarize import etable, summary\u001b[1;36m\n",
      "\u001b[1;36m  File \u001b[1;32mc:\\Users\\alexa\\AppData\\Local\\pypoetry\\Cache\\virtualenvs\\pyfixest-pKOwcWPT-py3.10\\lib\\site-packages\\pyfixest\\report\\summarize.py:261\u001b[1;36m\u001b[0m\n\u001b[1;33m    if signif_code:\u001b[0m\n\u001b[1;37m    ^\u001b[0m\n\u001b[1;31mIndentationError\u001b[0m\u001b[1;31m:\u001b[0m unexpected indent\n"
     ]
    }
   ],
   "source": [
    "import pyfixest as pf\n",
    "\n",
    "%load_ext autoreload\n",
    "%autoreload 2\n",
    "\n",
    "data = pf.get_data()\n",
    "\n",
    "fit1 = pf.feols(\"Y ~ X1 | f1\", data = data)\n",
    "fit2 = pf.feols(\"Y ~ X1 | f1 + f2\", data = data)\n",
    "fit3 = pf.feols(\"Y ~ X1 + X2 | f1\", data = data)\n",
    "fit4 = pf.feols(\"Y ~ X1 + X2 | f1 + f2\", data = data)\n",
    "fit5 = pf.feols(\"Y ~ X1 *X2 | f1 + f2\", data = data)"
   ]
  },
  {
   "cell_type": "markdown",
   "metadata": {},
   "source": [
    "## `pf.etable()`"
   ]
  },
  {
   "cell_type": "markdown",
   "metadata": {},
   "source": [
    "We can now compare all regression models via the `etable()` function: "
   ]
  },
  {
   "cell_type": "code",
   "execution_count": 5,
   "metadata": {},
   "outputs": [
    {
     "ename": "NameError",
     "evalue": "name 'pf' is not defined",
     "output_type": "error",
     "traceback": [
      "\u001b[1;31m---------------------------------------------------------------------------\u001b[0m",
      "\u001b[1;31mNameError\u001b[0m                                 Traceback (most recent call last)",
      "Cell \u001b[1;32mIn[5], line 1\u001b[0m\n\u001b[1;32m----> 1\u001b[0m \u001b[43mpf\u001b[49m\u001b[38;5;241m.\u001b[39metable([fit1, fit2, fit3, fit4, fit5])\n",
      "\u001b[1;31mNameError\u001b[0m: name 'pf' is not defined"
     ]
    }
   ],
   "source": [
    "pf.etable([fit1, fit2, fit3, fit4, fit5])"
   ]
  },
  {
   "cell_type": "markdown",
   "metadata": {},
   "source": [
    "`etable` allows us to do a few things out of the box. For example, we can only keep the variables that we'd like, which keeps all variables that fit the provided regex match. "
   ]
  },
  {
   "cell_type": "code",
   "execution_count": null,
   "metadata": {},
   "outputs": [
    {
     "data": {
      "text/html": [
       "<style type=\"text/css\">\n",
       "#T_ed398 tbody tr:nth-child(0) td {\n",
       "  background-color: #f0f0f0;\n",
       "  text-align: center;\n",
       "}\n",
       "#T_ed398 tbody tr:nth-child(1) td {\n",
       "  border-bottom: 2px solid black;\n",
       "  text-align: center;\n",
       "}\n",
       "#T_ed398 tbody tr:nth-child(3) td {\n",
       "  border-bottom: 1px solid black;\n",
       "}\n",
       "#T_ed398 tbody tr:nth-child(5) td {\n",
       "  border-bottom: 1px solid black;\n",
       "}\n",
       "#T_ed398 tbody tr:nth-child(8) td {\n",
       "  border-bottom: 1px solid black;\n",
       "}\n",
       "#T_ed398 tbody td {\n",
       "  background-color: #ffffff;\n",
       "}\n",
       "#T_ed398 tbody tr td:first-child {\n",
       "  background-color: #f0f0f0;\n",
       "  font-weight: bold;\n",
       "}\n",
       "#T_ed398_row0_col0, #T_ed398_row0_col1, #T_ed398_row0_col2, #T_ed398_row0_col3, #T_ed398_row0_col4, #T_ed398_row0_col5, #T_ed398_row1_col0, #T_ed398_row1_col1, #T_ed398_row1_col2, #T_ed398_row1_col3, #T_ed398_row1_col4, #T_ed398_row1_col5, #T_ed398_row2_col0, #T_ed398_row2_col1, #T_ed398_row2_col2, #T_ed398_row2_col3, #T_ed398_row2_col4, #T_ed398_row2_col5, #T_ed398_row3_col0, #T_ed398_row3_col1, #T_ed398_row3_col2, #T_ed398_row3_col3, #T_ed398_row3_col4, #T_ed398_row3_col5, #T_ed398_row4_col0, #T_ed398_row4_col1, #T_ed398_row4_col2, #T_ed398_row4_col3, #T_ed398_row4_col4, #T_ed398_row4_col5, #T_ed398_row5_col0, #T_ed398_row5_col1, #T_ed398_row5_col2, #T_ed398_row5_col3, #T_ed398_row5_col4, #T_ed398_row5_col5, #T_ed398_row6_col0, #T_ed398_row6_col1, #T_ed398_row6_col2, #T_ed398_row6_col3, #T_ed398_row6_col4, #T_ed398_row6_col5, #T_ed398_row7_col0, #T_ed398_row7_col1, #T_ed398_row7_col2, #T_ed398_row7_col3, #T_ed398_row7_col4, #T_ed398_row7_col5 {\n",
       "  text-align: center;\n",
       "}\n",
       "</style>\n",
       "<table id=\"T_ed398\">\n",
       "  <caption>Significance levels: * p < 0.05, ** p < 0.01, *** p < 0.001. Format of coefficient cell:\n",
       "Coefficient (Std. Error)</caption>\n",
       "  <thead>\n",
       "    <tr>\n",
       "      <th id=\"T_ed398_level0_col0\" class=\"col_heading level0 col0\" ></th>\n",
       "      <th id=\"T_ed398_level0_col1\" class=\"col_heading level0 col1\" >est1</th>\n",
       "      <th id=\"T_ed398_level0_col2\" class=\"col_heading level0 col2\" >est2</th>\n",
       "      <th id=\"T_ed398_level0_col3\" class=\"col_heading level0 col3\" >est3</th>\n",
       "      <th id=\"T_ed398_level0_col4\" class=\"col_heading level0 col4\" >est4</th>\n",
       "      <th id=\"T_ed398_level0_col5\" class=\"col_heading level0 col5\" >est5</th>\n",
       "    </tr>\n",
       "  </thead>\n",
       "  <tbody>\n",
       "    <tr>\n",
       "      <td id=\"T_ed398_row0_col0\" class=\"data row0 col0\" >depvar</td>\n",
       "      <td id=\"T_ed398_row0_col1\" class=\"data row0 col1\" >Y</td>\n",
       "      <td id=\"T_ed398_row0_col2\" class=\"data row0 col2\" >Y</td>\n",
       "      <td id=\"T_ed398_row0_col3\" class=\"data row0 col3\" >Y</td>\n",
       "      <td id=\"T_ed398_row0_col4\" class=\"data row0 col4\" >Y</td>\n",
       "      <td id=\"T_ed398_row0_col5\" class=\"data row0 col5\" >Y</td>\n",
       "    </tr>\n",
       "    <tr>\n",
       "      <td id=\"T_ed398_row1_col0\" class=\"data row1 col0\" >X1</td>\n",
       "      <td id=\"T_ed398_row1_col1\" class=\"data row1 col1\" >-0.949*** (0.069)</td>\n",
       "      <td id=\"T_ed398_row1_col2\" class=\"data row1 col2\" >-0.919*** (0.065)</td>\n",
       "      <td id=\"T_ed398_row1_col3\" class=\"data row1 col3\" >-0.950*** (0.067)</td>\n",
       "      <td id=\"T_ed398_row1_col4\" class=\"data row1 col4\" >-0.924*** (0.061)</td>\n",
       "      <td id=\"T_ed398_row1_col5\" class=\"data row1 col5\" >-0.924*** (0.061)</td>\n",
       "    </tr>\n",
       "    <tr>\n",
       "      <td id=\"T_ed398_row2_col0\" class=\"data row2 col0\" >X1:X2</td>\n",
       "      <td id=\"T_ed398_row2_col1\" class=\"data row2 col1\" ></td>\n",
       "      <td id=\"T_ed398_row2_col2\" class=\"data row2 col2\" ></td>\n",
       "      <td id=\"T_ed398_row2_col3\" class=\"data row2 col3\" ></td>\n",
       "      <td id=\"T_ed398_row2_col4\" class=\"data row2 col4\" ></td>\n",
       "      <td id=\"T_ed398_row2_col5\" class=\"data row2 col5\" >0.011 (0.018)</td>\n",
       "    </tr>\n",
       "    <tr>\n",
       "      <td id=\"T_ed398_row3_col0\" class=\"data row3 col0\" >f2</td>\n",
       "      <td id=\"T_ed398_row3_col1\" class=\"data row3 col1\" >-</td>\n",
       "      <td id=\"T_ed398_row3_col2\" class=\"data row3 col2\" >x</td>\n",
       "      <td id=\"T_ed398_row3_col3\" class=\"data row3 col3\" >-</td>\n",
       "      <td id=\"T_ed398_row3_col4\" class=\"data row3 col4\" >x</td>\n",
       "      <td id=\"T_ed398_row3_col5\" class=\"data row3 col5\" >x</td>\n",
       "    </tr>\n",
       "    <tr>\n",
       "      <td id=\"T_ed398_row4_col0\" class=\"data row4 col0\" >f1</td>\n",
       "      <td id=\"T_ed398_row4_col1\" class=\"data row4 col1\" >x</td>\n",
       "      <td id=\"T_ed398_row4_col2\" class=\"data row4 col2\" >x</td>\n",
       "      <td id=\"T_ed398_row4_col3\" class=\"data row4 col3\" >x</td>\n",
       "      <td id=\"T_ed398_row4_col4\" class=\"data row4 col4\" >x</td>\n",
       "      <td id=\"T_ed398_row4_col5\" class=\"data row4 col5\" >x</td>\n",
       "    </tr>\n",
       "    <tr>\n",
       "      <td id=\"T_ed398_row5_col0\" class=\"data row5 col0\" >R2</td>\n",
       "      <td id=\"T_ed398_row5_col1\" class=\"data row5 col1\" >0.437</td>\n",
       "      <td id=\"T_ed398_row5_col2\" class=\"data row5 col2\" >0.609</td>\n",
       "      <td id=\"T_ed398_row5_col3\" class=\"data row5 col3\" >0.489</td>\n",
       "      <td id=\"T_ed398_row5_col4\" class=\"data row5 col4\" >0.659</td>\n",
       "      <td id=\"T_ed398_row5_col5\" class=\"data row5 col5\" >0.659</td>\n",
       "    </tr>\n",
       "    <tr>\n",
       "      <td id=\"T_ed398_row6_col0\" class=\"data row6 col0\" >S.E. type</td>\n",
       "      <td id=\"T_ed398_row6_col1\" class=\"data row6 col1\" >by: f1</td>\n",
       "      <td id=\"T_ed398_row6_col2\" class=\"data row6 col2\" >by: f1</td>\n",
       "      <td id=\"T_ed398_row6_col3\" class=\"data row6 col3\" >by: f1</td>\n",
       "      <td id=\"T_ed398_row6_col4\" class=\"data row6 col4\" >by: f1</td>\n",
       "      <td id=\"T_ed398_row6_col5\" class=\"data row6 col5\" >by: f1</td>\n",
       "    </tr>\n",
       "    <tr>\n",
       "      <td id=\"T_ed398_row7_col0\" class=\"data row7 col0\" >Observations</td>\n",
       "      <td id=\"T_ed398_row7_col1\" class=\"data row7 col1\" >997</td>\n",
       "      <td id=\"T_ed398_row7_col2\" class=\"data row7 col2\" >997</td>\n",
       "      <td id=\"T_ed398_row7_col3\" class=\"data row7 col3\" >997</td>\n",
       "      <td id=\"T_ed398_row7_col4\" class=\"data row7 col4\" >997</td>\n",
       "      <td id=\"T_ed398_row7_col5\" class=\"data row7 col5\" >997</td>\n",
       "    </tr>\n",
       "  </tbody>\n",
       "</table>\n"
      ],
      "text/plain": [
       "<pandas.io.formats.style.Styler at 0x285015f3dc0>"
      ]
     },
     "execution_count": 36,
     "metadata": {},
     "output_type": "execute_result"
    }
   ],
   "source": [
    "pf.etable([fit1, fit2, fit3, fit4, fit5], keep = \"X1\")"
   ]
  },
  {
   "cell_type": "markdown",
   "metadata": {},
   "source": [
    "We can use the `exact_match` argument to select a specific set of variables: "
   ]
  },
  {
   "cell_type": "code",
   "execution_count": null,
   "metadata": {},
   "outputs": [
    {
     "data": {
      "text/html": [
       "<style type=\"text/css\">\n",
       "#T_f030c tbody tr:nth-child(0) td {\n",
       "  background-color: #f0f0f0;\n",
       "  text-align: center;\n",
       "}\n",
       "#T_f030c tbody tr:nth-child(1) td {\n",
       "  border-bottom: 2px solid black;\n",
       "  text-align: center;\n",
       "}\n",
       "#T_f030c tbody tr:nth-child(3) td {\n",
       "  border-bottom: 1px solid black;\n",
       "}\n",
       "#T_f030c tbody tr:nth-child(5) td {\n",
       "  border-bottom: 1px solid black;\n",
       "}\n",
       "#T_f030c tbody tr:nth-child(8) td {\n",
       "  border-bottom: 1px solid black;\n",
       "}\n",
       "#T_f030c tbody td {\n",
       "  background-color: #ffffff;\n",
       "}\n",
       "#T_f030c tbody tr td:first-child {\n",
       "  background-color: #f0f0f0;\n",
       "  font-weight: bold;\n",
       "}\n",
       "#T_f030c_row0_col0, #T_f030c_row0_col1, #T_f030c_row0_col2, #T_f030c_row0_col3, #T_f030c_row0_col4, #T_f030c_row0_col5, #T_f030c_row1_col0, #T_f030c_row1_col1, #T_f030c_row1_col2, #T_f030c_row1_col3, #T_f030c_row1_col4, #T_f030c_row1_col5, #T_f030c_row2_col0, #T_f030c_row2_col1, #T_f030c_row2_col2, #T_f030c_row2_col3, #T_f030c_row2_col4, #T_f030c_row2_col5, #T_f030c_row3_col0, #T_f030c_row3_col1, #T_f030c_row3_col2, #T_f030c_row3_col3, #T_f030c_row3_col4, #T_f030c_row3_col5, #T_f030c_row4_col0, #T_f030c_row4_col1, #T_f030c_row4_col2, #T_f030c_row4_col3, #T_f030c_row4_col4, #T_f030c_row4_col5, #T_f030c_row5_col0, #T_f030c_row5_col1, #T_f030c_row5_col2, #T_f030c_row5_col3, #T_f030c_row5_col4, #T_f030c_row5_col5, #T_f030c_row6_col0, #T_f030c_row6_col1, #T_f030c_row6_col2, #T_f030c_row6_col3, #T_f030c_row6_col4, #T_f030c_row6_col5, #T_f030c_row7_col0, #T_f030c_row7_col1, #T_f030c_row7_col2, #T_f030c_row7_col3, #T_f030c_row7_col4, #T_f030c_row7_col5 {\n",
       "  text-align: center;\n",
       "}\n",
       "</style>\n",
       "<table id=\"T_f030c\">\n",
       "  <caption>Significance levels: * p < 0.05, ** p < 0.01, *** p < 0.001. Format of coefficient cell:\n",
       "Coefficient (Std. Error)</caption>\n",
       "  <thead>\n",
       "    <tr>\n",
       "      <th id=\"T_f030c_level0_col0\" class=\"col_heading level0 col0\" ></th>\n",
       "      <th id=\"T_f030c_level0_col1\" class=\"col_heading level0 col1\" >est1</th>\n",
       "      <th id=\"T_f030c_level0_col2\" class=\"col_heading level0 col2\" >est2</th>\n",
       "      <th id=\"T_f030c_level0_col3\" class=\"col_heading level0 col3\" >est3</th>\n",
       "      <th id=\"T_f030c_level0_col4\" class=\"col_heading level0 col4\" >est4</th>\n",
       "      <th id=\"T_f030c_level0_col5\" class=\"col_heading level0 col5\" >est5</th>\n",
       "    </tr>\n",
       "  </thead>\n",
       "  <tbody>\n",
       "    <tr>\n",
       "      <td id=\"T_f030c_row0_col0\" class=\"data row0 col0\" >depvar</td>\n",
       "      <td id=\"T_f030c_row0_col1\" class=\"data row0 col1\" >Y</td>\n",
       "      <td id=\"T_f030c_row0_col2\" class=\"data row0 col2\" >Y</td>\n",
       "      <td id=\"T_f030c_row0_col3\" class=\"data row0 col3\" >Y</td>\n",
       "      <td id=\"T_f030c_row0_col4\" class=\"data row0 col4\" >Y</td>\n",
       "      <td id=\"T_f030c_row0_col5\" class=\"data row0 col5\" >Y</td>\n",
       "    </tr>\n",
       "    <tr>\n",
       "      <td id=\"T_f030c_row1_col0\" class=\"data row1 col0\" >X1</td>\n",
       "      <td id=\"T_f030c_row1_col1\" class=\"data row1 col1\" >-0.949*** (0.069)</td>\n",
       "      <td id=\"T_f030c_row1_col2\" class=\"data row1 col2\" >-0.919*** (0.065)</td>\n",
       "      <td id=\"T_f030c_row1_col3\" class=\"data row1 col3\" >-0.950*** (0.067)</td>\n",
       "      <td id=\"T_f030c_row1_col4\" class=\"data row1 col4\" >-0.924*** (0.061)</td>\n",
       "      <td id=\"T_f030c_row1_col5\" class=\"data row1 col5\" >-0.924*** (0.061)</td>\n",
       "    </tr>\n",
       "    <tr>\n",
       "      <td id=\"T_f030c_row2_col0\" class=\"data row2 col0\" >X2</td>\n",
       "      <td id=\"T_f030c_row2_col1\" class=\"data row2 col1\" ></td>\n",
       "      <td id=\"T_f030c_row2_col2\" class=\"data row2 col2\" ></td>\n",
       "      <td id=\"T_f030c_row2_col3\" class=\"data row2 col3\" >-0.174*** (0.018)</td>\n",
       "      <td id=\"T_f030c_row2_col4\" class=\"data row2 col4\" >-0.174*** (0.015)</td>\n",
       "      <td id=\"T_f030c_row2_col5\" class=\"data row2 col5\" >-0.185*** (0.025)</td>\n",
       "    </tr>\n",
       "    <tr>\n",
       "      <td id=\"T_f030c_row3_col0\" class=\"data row3 col0\" >f2</td>\n",
       "      <td id=\"T_f030c_row3_col1\" class=\"data row3 col1\" >-</td>\n",
       "      <td id=\"T_f030c_row3_col2\" class=\"data row3 col2\" >x</td>\n",
       "      <td id=\"T_f030c_row3_col3\" class=\"data row3 col3\" >-</td>\n",
       "      <td id=\"T_f030c_row3_col4\" class=\"data row3 col4\" >x</td>\n",
       "      <td id=\"T_f030c_row3_col5\" class=\"data row3 col5\" >x</td>\n",
       "    </tr>\n",
       "    <tr>\n",
       "      <td id=\"T_f030c_row4_col0\" class=\"data row4 col0\" >f1</td>\n",
       "      <td id=\"T_f030c_row4_col1\" class=\"data row4 col1\" >x</td>\n",
       "      <td id=\"T_f030c_row4_col2\" class=\"data row4 col2\" >x</td>\n",
       "      <td id=\"T_f030c_row4_col3\" class=\"data row4 col3\" >x</td>\n",
       "      <td id=\"T_f030c_row4_col4\" class=\"data row4 col4\" >x</td>\n",
       "      <td id=\"T_f030c_row4_col5\" class=\"data row4 col5\" >x</td>\n",
       "    </tr>\n",
       "    <tr>\n",
       "      <td id=\"T_f030c_row5_col0\" class=\"data row5 col0\" >R2</td>\n",
       "      <td id=\"T_f030c_row5_col1\" class=\"data row5 col1\" >0.437</td>\n",
       "      <td id=\"T_f030c_row5_col2\" class=\"data row5 col2\" >0.609</td>\n",
       "      <td id=\"T_f030c_row5_col3\" class=\"data row5 col3\" >0.489</td>\n",
       "      <td id=\"T_f030c_row5_col4\" class=\"data row5 col4\" >0.659</td>\n",
       "      <td id=\"T_f030c_row5_col5\" class=\"data row5 col5\" >0.659</td>\n",
       "    </tr>\n",
       "    <tr>\n",
       "      <td id=\"T_f030c_row6_col0\" class=\"data row6 col0\" >S.E. type</td>\n",
       "      <td id=\"T_f030c_row6_col1\" class=\"data row6 col1\" >by: f1</td>\n",
       "      <td id=\"T_f030c_row6_col2\" class=\"data row6 col2\" >by: f1</td>\n",
       "      <td id=\"T_f030c_row6_col3\" class=\"data row6 col3\" >by: f1</td>\n",
       "      <td id=\"T_f030c_row6_col4\" class=\"data row6 col4\" >by: f1</td>\n",
       "      <td id=\"T_f030c_row6_col5\" class=\"data row6 col5\" >by: f1</td>\n",
       "    </tr>\n",
       "    <tr>\n",
       "      <td id=\"T_f030c_row7_col0\" class=\"data row7 col0\" >Observations</td>\n",
       "      <td id=\"T_f030c_row7_col1\" class=\"data row7 col1\" >997</td>\n",
       "      <td id=\"T_f030c_row7_col2\" class=\"data row7 col2\" >997</td>\n",
       "      <td id=\"T_f030c_row7_col3\" class=\"data row7 col3\" >997</td>\n",
       "      <td id=\"T_f030c_row7_col4\" class=\"data row7 col4\" >997</td>\n",
       "      <td id=\"T_f030c_row7_col5\" class=\"data row7 col5\" >997</td>\n",
       "    </tr>\n",
       "  </tbody>\n",
       "</table>\n"
      ],
      "text/plain": [
       "<pandas.io.formats.style.Styler at 0x28501adba60>"
      ]
     },
     "execution_count": 37,
     "metadata": {},
     "output_type": "execute_result"
    }
   ],
   "source": [
    "pf.etable([fit1, fit2, fit3, fit4, fit5], keep = [\"X1\", \"X2\"], exact_match = True)"
   ]
  },
  {
   "cell_type": "markdown",
   "metadata": {},
   "source": [
    "We can also easily **drop** variables via the `drop` argument: "
   ]
  },
  {
   "cell_type": "code",
   "execution_count": null,
   "metadata": {},
   "outputs": [
    {
     "data": {
      "text/html": [
       "<style type=\"text/css\">\n",
       "#T_63874 tbody tr:nth-child(0) td {\n",
       "  background-color: #f0f0f0;\n",
       "  text-align: center;\n",
       "}\n",
       "#T_63874 tbody tr:nth-child(1) td {\n",
       "  border-bottom: 2px solid black;\n",
       "  text-align: center;\n",
       "}\n",
       "#T_63874 tbody tr:nth-child(2) td {\n",
       "  border-bottom: 1px solid black;\n",
       "}\n",
       "#T_63874 tbody tr:nth-child(4) td {\n",
       "  border-bottom: 1px solid black;\n",
       "}\n",
       "#T_63874 tbody tr:nth-child(7) td {\n",
       "  border-bottom: 1px solid black;\n",
       "}\n",
       "#T_63874 tbody td {\n",
       "  background-color: #ffffff;\n",
       "}\n",
       "#T_63874 tbody tr td:first-child {\n",
       "  background-color: #f0f0f0;\n",
       "  font-weight: bold;\n",
       "}\n",
       "#T_63874_row0_col0, #T_63874_row0_col1, #T_63874_row0_col2, #T_63874_row0_col3, #T_63874_row0_col4, #T_63874_row0_col5, #T_63874_row1_col0, #T_63874_row1_col1, #T_63874_row1_col2, #T_63874_row1_col3, #T_63874_row1_col4, #T_63874_row1_col5, #T_63874_row2_col0, #T_63874_row2_col1, #T_63874_row2_col2, #T_63874_row2_col3, #T_63874_row2_col4, #T_63874_row2_col5, #T_63874_row3_col0, #T_63874_row3_col1, #T_63874_row3_col2, #T_63874_row3_col3, #T_63874_row3_col4, #T_63874_row3_col5, #T_63874_row4_col0, #T_63874_row4_col1, #T_63874_row4_col2, #T_63874_row4_col3, #T_63874_row4_col4, #T_63874_row4_col5, #T_63874_row5_col0, #T_63874_row5_col1, #T_63874_row5_col2, #T_63874_row5_col3, #T_63874_row5_col4, #T_63874_row5_col5, #T_63874_row6_col0, #T_63874_row6_col1, #T_63874_row6_col2, #T_63874_row6_col3, #T_63874_row6_col4, #T_63874_row6_col5 {\n",
       "  text-align: center;\n",
       "}\n",
       "</style>\n",
       "<table id=\"T_63874\">\n",
       "  <caption>Significance levels: * p < 0.05, ** p < 0.01, *** p < 0.001. Format of coefficient cell:\n",
       "Coefficient (Std. Error)</caption>\n",
       "  <thead>\n",
       "    <tr>\n",
       "      <th id=\"T_63874_level0_col0\" class=\"col_heading level0 col0\" ></th>\n",
       "      <th id=\"T_63874_level0_col1\" class=\"col_heading level0 col1\" >est1</th>\n",
       "      <th id=\"T_63874_level0_col2\" class=\"col_heading level0 col2\" >est2</th>\n",
       "      <th id=\"T_63874_level0_col3\" class=\"col_heading level0 col3\" >est3</th>\n",
       "      <th id=\"T_63874_level0_col4\" class=\"col_heading level0 col4\" >est4</th>\n",
       "      <th id=\"T_63874_level0_col5\" class=\"col_heading level0 col5\" >est5</th>\n",
       "    </tr>\n",
       "  </thead>\n",
       "  <tbody>\n",
       "    <tr>\n",
       "      <td id=\"T_63874_row0_col0\" class=\"data row0 col0\" >depvar</td>\n",
       "      <td id=\"T_63874_row0_col1\" class=\"data row0 col1\" >Y</td>\n",
       "      <td id=\"T_63874_row0_col2\" class=\"data row0 col2\" >Y</td>\n",
       "      <td id=\"T_63874_row0_col3\" class=\"data row0 col3\" >Y</td>\n",
       "      <td id=\"T_63874_row0_col4\" class=\"data row0 col4\" >Y</td>\n",
       "      <td id=\"T_63874_row0_col5\" class=\"data row0 col5\" >Y</td>\n",
       "    </tr>\n",
       "    <tr>\n",
       "      <td id=\"T_63874_row1_col0\" class=\"data row1 col0\" >X2</td>\n",
       "      <td id=\"T_63874_row1_col1\" class=\"data row1 col1\" ></td>\n",
       "      <td id=\"T_63874_row1_col2\" class=\"data row1 col2\" ></td>\n",
       "      <td id=\"T_63874_row1_col3\" class=\"data row1 col3\" >-0.174*** (0.018)</td>\n",
       "      <td id=\"T_63874_row1_col4\" class=\"data row1 col4\" >-0.174*** (0.015)</td>\n",
       "      <td id=\"T_63874_row1_col5\" class=\"data row1 col5\" >-0.185*** (0.025)</td>\n",
       "    </tr>\n",
       "    <tr>\n",
       "      <td id=\"T_63874_row2_col0\" class=\"data row2 col0\" >f2</td>\n",
       "      <td id=\"T_63874_row2_col1\" class=\"data row2 col1\" >-</td>\n",
       "      <td id=\"T_63874_row2_col2\" class=\"data row2 col2\" >x</td>\n",
       "      <td id=\"T_63874_row2_col3\" class=\"data row2 col3\" >-</td>\n",
       "      <td id=\"T_63874_row2_col4\" class=\"data row2 col4\" >x</td>\n",
       "      <td id=\"T_63874_row2_col5\" class=\"data row2 col5\" >x</td>\n",
       "    </tr>\n",
       "    <tr>\n",
       "      <td id=\"T_63874_row3_col0\" class=\"data row3 col0\" >f1</td>\n",
       "      <td id=\"T_63874_row3_col1\" class=\"data row3 col1\" >x</td>\n",
       "      <td id=\"T_63874_row3_col2\" class=\"data row3 col2\" >x</td>\n",
       "      <td id=\"T_63874_row3_col3\" class=\"data row3 col3\" >x</td>\n",
       "      <td id=\"T_63874_row3_col4\" class=\"data row3 col4\" >x</td>\n",
       "      <td id=\"T_63874_row3_col5\" class=\"data row3 col5\" >x</td>\n",
       "    </tr>\n",
       "    <tr>\n",
       "      <td id=\"T_63874_row4_col0\" class=\"data row4 col0\" >R2</td>\n",
       "      <td id=\"T_63874_row4_col1\" class=\"data row4 col1\" >0.437</td>\n",
       "      <td id=\"T_63874_row4_col2\" class=\"data row4 col2\" >0.609</td>\n",
       "      <td id=\"T_63874_row4_col3\" class=\"data row4 col3\" >0.489</td>\n",
       "      <td id=\"T_63874_row4_col4\" class=\"data row4 col4\" >0.659</td>\n",
       "      <td id=\"T_63874_row4_col5\" class=\"data row4 col5\" >0.659</td>\n",
       "    </tr>\n",
       "    <tr>\n",
       "      <td id=\"T_63874_row5_col0\" class=\"data row5 col0\" >S.E. type</td>\n",
       "      <td id=\"T_63874_row5_col1\" class=\"data row5 col1\" >by: f1</td>\n",
       "      <td id=\"T_63874_row5_col2\" class=\"data row5 col2\" >by: f1</td>\n",
       "      <td id=\"T_63874_row5_col3\" class=\"data row5 col3\" >by: f1</td>\n",
       "      <td id=\"T_63874_row5_col4\" class=\"data row5 col4\" >by: f1</td>\n",
       "      <td id=\"T_63874_row5_col5\" class=\"data row5 col5\" >by: f1</td>\n",
       "    </tr>\n",
       "    <tr>\n",
       "      <td id=\"T_63874_row6_col0\" class=\"data row6 col0\" >Observations</td>\n",
       "      <td id=\"T_63874_row6_col1\" class=\"data row6 col1\" >997</td>\n",
       "      <td id=\"T_63874_row6_col2\" class=\"data row6 col2\" >997</td>\n",
       "      <td id=\"T_63874_row6_col3\" class=\"data row6 col3\" >997</td>\n",
       "      <td id=\"T_63874_row6_col4\" class=\"data row6 col4\" >997</td>\n",
       "      <td id=\"T_63874_row6_col5\" class=\"data row6 col5\" >997</td>\n",
       "    </tr>\n",
       "  </tbody>\n",
       "</table>\n"
      ],
      "text/plain": [
       "<pandas.io.formats.style.Styler at 0x2850185c640>"
      ]
     },
     "execution_count": 40,
     "metadata": {},
     "output_type": "execute_result"
    }
   ],
   "source": [
    "pf.etable([fit1, fit2, fit3, fit4, fit5], drop = [\"X1\"])"
   ]
  },
  {
   "cell_type": "markdown",
   "metadata": {},
   "source": [
    "By default, `pf.etable()` reports **standard errors**. But we can also ask to output p-values or confidence intervals."
   ]
  },
  {
   "cell_type": "markdown",
   "metadata": {},
   "source": [
    "Additionally, we can also overwrite the defaults for the reported significance levels and control the rounding of results via the \n",
    "`signif_code` and `digits` function arguments: "
   ]
  },
  {
   "cell_type": "code",
   "execution_count": null,
   "metadata": {},
   "outputs": [
    {
     "data": {
      "text/html": [
       "<style type=\"text/css\">\n",
       "#T_a4932 tbody tr:nth-child(0) td {\n",
       "  background-color: #f0f0f0;\n",
       "  text-align: center;\n",
       "}\n",
       "#T_a4932 tbody tr:nth-child(1) td {\n",
       "  border-bottom: 2px solid black;\n",
       "  text-align: center;\n",
       "}\n",
       "#T_a4932 tbody tr:nth-child(4) td {\n",
       "  border-bottom: 1px solid black;\n",
       "}\n",
       "#T_a4932 tbody tr:nth-child(6) td {\n",
       "  border-bottom: 1px solid black;\n",
       "}\n",
       "#T_a4932 tbody tr:nth-child(9) td {\n",
       "  border-bottom: 1px solid black;\n",
       "}\n",
       "#T_a4932 tbody td {\n",
       "  background-color: #ffffff;\n",
       "}\n",
       "#T_a4932 tbody tr td:first-child {\n",
       "  background-color: #f0f0f0;\n",
       "  font-weight: bold;\n",
       "}\n",
       "#T_a4932_row0_col0, #T_a4932_row0_col1, #T_a4932_row0_col2, #T_a4932_row0_col3, #T_a4932_row0_col4, #T_a4932_row0_col5, #T_a4932_row1_col0, #T_a4932_row1_col1, #T_a4932_row1_col2, #T_a4932_row1_col3, #T_a4932_row1_col4, #T_a4932_row1_col5, #T_a4932_row2_col0, #T_a4932_row2_col1, #T_a4932_row2_col2, #T_a4932_row2_col3, #T_a4932_row2_col4, #T_a4932_row2_col5, #T_a4932_row3_col0, #T_a4932_row3_col1, #T_a4932_row3_col2, #T_a4932_row3_col3, #T_a4932_row3_col4, #T_a4932_row3_col5, #T_a4932_row4_col0, #T_a4932_row4_col1, #T_a4932_row4_col2, #T_a4932_row4_col3, #T_a4932_row4_col4, #T_a4932_row4_col5, #T_a4932_row5_col0, #T_a4932_row5_col1, #T_a4932_row5_col2, #T_a4932_row5_col3, #T_a4932_row5_col4, #T_a4932_row5_col5, #T_a4932_row6_col0, #T_a4932_row6_col1, #T_a4932_row6_col2, #T_a4932_row6_col3, #T_a4932_row6_col4, #T_a4932_row6_col5, #T_a4932_row7_col0, #T_a4932_row7_col1, #T_a4932_row7_col2, #T_a4932_row7_col3, #T_a4932_row7_col4, #T_a4932_row7_col5, #T_a4932_row8_col0, #T_a4932_row8_col1, #T_a4932_row8_col2, #T_a4932_row8_col3, #T_a4932_row8_col4, #T_a4932_row8_col5 {\n",
       "  text-align: center;\n",
       "}\n",
       "</style>\n",
       "<table id=\"T_a4932\">\n",
       "  <caption>Significance levels: * p < 0.1, ** p < 0.05, *** p < 0.01. Format of coefficient cell:\n",
       "Coefficient (Std. Error)</caption>\n",
       "  <thead>\n",
       "    <tr>\n",
       "      <th id=\"T_a4932_level0_col0\" class=\"col_heading level0 col0\" ></th>\n",
       "      <th id=\"T_a4932_level0_col1\" class=\"col_heading level0 col1\" >est1</th>\n",
       "      <th id=\"T_a4932_level0_col2\" class=\"col_heading level0 col2\" >est2</th>\n",
       "      <th id=\"T_a4932_level0_col3\" class=\"col_heading level0 col3\" >est3</th>\n",
       "      <th id=\"T_a4932_level0_col4\" class=\"col_heading level0 col4\" >est4</th>\n",
       "      <th id=\"T_a4932_level0_col5\" class=\"col_heading level0 col5\" >est5</th>\n",
       "    </tr>\n",
       "  </thead>\n",
       "  <tbody>\n",
       "    <tr>\n",
       "      <td id=\"T_a4932_row0_col0\" class=\"data row0 col0\" >depvar</td>\n",
       "      <td id=\"T_a4932_row0_col1\" class=\"data row0 col1\" >Y</td>\n",
       "      <td id=\"T_a4932_row0_col2\" class=\"data row0 col2\" >Y</td>\n",
       "      <td id=\"T_a4932_row0_col3\" class=\"data row0 col3\" >Y</td>\n",
       "      <td id=\"T_a4932_row0_col4\" class=\"data row0 col4\" >Y</td>\n",
       "      <td id=\"T_a4932_row0_col5\" class=\"data row0 col5\" >Y</td>\n",
       "    </tr>\n",
       "    <tr>\n",
       "      <td id=\"T_a4932_row1_col0\" class=\"data row1 col0\" >X1</td>\n",
       "      <td id=\"T_a4932_row1_col1\" class=\"data row1 col1\" >-0.94944*** (0.06886)</td>\n",
       "      <td id=\"T_a4932_row1_col2\" class=\"data row1 col2\" >-0.91925*** (0.06539)</td>\n",
       "      <td id=\"T_a4932_row1_col3\" class=\"data row1 col3\" >-0.94953*** (0.06652)</td>\n",
       "      <td id=\"T_a4932_row1_col4\" class=\"data row1 col4\" >-0.92405*** (0.06093)</td>\n",
       "      <td id=\"T_a4932_row1_col5\" class=\"data row1 col5\" >-0.92417*** (0.06094)</td>\n",
       "    </tr>\n",
       "    <tr>\n",
       "      <td id=\"T_a4932_row2_col0\" class=\"data row2 col0\" >X2</td>\n",
       "      <td id=\"T_a4932_row2_col1\" class=\"data row2 col1\" ></td>\n",
       "      <td id=\"T_a4932_row2_col2\" class=\"data row2 col2\" ></td>\n",
       "      <td id=\"T_a4932_row2_col3\" class=\"data row2 col3\" >-0.17423*** (0.01840)</td>\n",
       "      <td id=\"T_a4932_row2_col4\" class=\"data row2 col4\" >-0.17411*** (0.01461)</td>\n",
       "      <td id=\"T_a4932_row2_col5\" class=\"data row2 col5\" >-0.18550*** (0.02516)</td>\n",
       "    </tr>\n",
       "    <tr>\n",
       "      <td id=\"T_a4932_row3_col0\" class=\"data row3 col0\" >X1:X2</td>\n",
       "      <td id=\"T_a4932_row3_col1\" class=\"data row3 col1\" ></td>\n",
       "      <td id=\"T_a4932_row3_col2\" class=\"data row3 col2\" ></td>\n",
       "      <td id=\"T_a4932_row3_col3\" class=\"data row3 col3\" ></td>\n",
       "      <td id=\"T_a4932_row3_col4\" class=\"data row3 col4\" ></td>\n",
       "      <td id=\"T_a4932_row3_col5\" class=\"data row3 col5\" >0.01057 (0.01818)</td>\n",
       "    </tr>\n",
       "    <tr>\n",
       "      <td id=\"T_a4932_row4_col0\" class=\"data row4 col0\" >f2</td>\n",
       "      <td id=\"T_a4932_row4_col1\" class=\"data row4 col1\" >-</td>\n",
       "      <td id=\"T_a4932_row4_col2\" class=\"data row4 col2\" >x</td>\n",
       "      <td id=\"T_a4932_row4_col3\" class=\"data row4 col3\" >-</td>\n",
       "      <td id=\"T_a4932_row4_col4\" class=\"data row4 col4\" >x</td>\n",
       "      <td id=\"T_a4932_row4_col5\" class=\"data row4 col5\" >x</td>\n",
       "    </tr>\n",
       "    <tr>\n",
       "      <td id=\"T_a4932_row5_col0\" class=\"data row5 col0\" >f1</td>\n",
       "      <td id=\"T_a4932_row5_col1\" class=\"data row5 col1\" >x</td>\n",
       "      <td id=\"T_a4932_row5_col2\" class=\"data row5 col2\" >x</td>\n",
       "      <td id=\"T_a4932_row5_col3\" class=\"data row5 col3\" >x</td>\n",
       "      <td id=\"T_a4932_row5_col4\" class=\"data row5 col4\" >x</td>\n",
       "      <td id=\"T_a4932_row5_col5\" class=\"data row5 col5\" >x</td>\n",
       "    </tr>\n",
       "    <tr>\n",
       "      <td id=\"T_a4932_row6_col0\" class=\"data row6 col0\" >R2</td>\n",
       "      <td id=\"T_a4932_row6_col1\" class=\"data row6 col1\" >0.43708</td>\n",
       "      <td id=\"T_a4932_row6_col2\" class=\"data row6 col2\" >0.60903</td>\n",
       "      <td id=\"T_a4932_row6_col3\" class=\"data row6 col3\" >0.48899</td>\n",
       "      <td id=\"T_a4932_row6_col4\" class=\"data row6 col4\" >0.65904</td>\n",
       "      <td id=\"T_a4932_row6_col5\" class=\"data row6 col5\" >0.65916</td>\n",
       "    </tr>\n",
       "    <tr>\n",
       "      <td id=\"T_a4932_row7_col0\" class=\"data row7 col0\" >S.E. type</td>\n",
       "      <td id=\"T_a4932_row7_col1\" class=\"data row7 col1\" >by: f1</td>\n",
       "      <td id=\"T_a4932_row7_col2\" class=\"data row7 col2\" >by: f1</td>\n",
       "      <td id=\"T_a4932_row7_col3\" class=\"data row7 col3\" >by: f1</td>\n",
       "      <td id=\"T_a4932_row7_col4\" class=\"data row7 col4\" >by: f1</td>\n",
       "      <td id=\"T_a4932_row7_col5\" class=\"data row7 col5\" >by: f1</td>\n",
       "    </tr>\n",
       "    <tr>\n",
       "      <td id=\"T_a4932_row8_col0\" class=\"data row8 col0\" >Observations</td>\n",
       "      <td id=\"T_a4932_row8_col1\" class=\"data row8 col1\" >997</td>\n",
       "      <td id=\"T_a4932_row8_col2\" class=\"data row8 col2\" >997</td>\n",
       "      <td id=\"T_a4932_row8_col3\" class=\"data row8 col3\" >997</td>\n",
       "      <td id=\"T_a4932_row8_col4\" class=\"data row8 col4\" >997</td>\n",
       "      <td id=\"T_a4932_row8_col5\" class=\"data row8 col5\" >997</td>\n",
       "    </tr>\n",
       "  </tbody>\n",
       "</table>\n"
      ],
      "text/plain": [
       "<pandas.io.formats.style.Styler at 0x2850340b010>"
      ]
     },
     "execution_count": 41,
     "metadata": {},
     "output_type": "execute_result"
    }
   ],
   "source": [
    "pf.etable([fit1, fit2, fit3, fit4, fit5], signif_code=[0.01, 0.05, 0.1], digits = 5)"
   ]
  },
  {
   "cell_type": "markdown",
   "metadata": {},
   "source": [
    "By default, `pf.etable()` returns a data frame, but you can also opt to output latex and markdown via the `type` argument."
   ]
  },
  {
   "cell_type": "code",
   "execution_count": null,
   "metadata": {},
   "outputs": [
    {
     "ename": "NameError",
     "evalue": "name 'pf' is not defined",
     "output_type": "error",
     "traceback": [
      "\u001b[1;31m---------------------------------------------------------------------------\u001b[0m",
      "\u001b[1;31mNameError\u001b[0m                                 Traceback (most recent call last)",
      "Cell \u001b[1;32mIn[1], line 1\u001b[0m\n\u001b[1;32m----> 1\u001b[0m \u001b[43mpf\u001b[49m\u001b[38;5;241m.\u001b[39metable([fit1, fit2, fit3, fit4, fit5], signif_code\u001b[38;5;241m=\u001b[39m[\u001b[38;5;241m0.01\u001b[39m, \u001b[38;5;241m0.05\u001b[39m, \u001b[38;5;241m0.1\u001b[39m], digits \u001b[38;5;241m=\u001b[39m \u001b[38;5;241m5\u001b[39m, \u001b[38;5;28mtype\u001b[39m \u001b[38;5;241m=\u001b[39m \u001b[38;5;124m\"\u001b[39m\u001b[38;5;124mtex\u001b[39m\u001b[38;5;124m\"\u001b[39m)\n",
      "\u001b[1;31mNameError\u001b[0m: name 'pf' is not defined"
     ]
    }
   ],
   "source": [
    "pf.etable([fit1, fit2, fit3, fit4, fit5], signif_code=[0.01, 0.05, 0.1], digits = 5, type = \"tex\")"
   ]
  },
  {
   "cell_type": "markdown",
   "metadata": {},
   "source": [
    "## Via `Stargazer`"
   ]
  },
  {
   "cell_type": "markdown",
   "metadata": {},
   "source": [
    "tba"
   ]
  }
 ],
 "metadata": {
  "kernelspec": {
   "display_name": "pyfixest-pKOwcWPT-py3.10",
   "language": "python",
   "name": "python3"
  },
  "language_info": {
   "codemirror_mode": {
    "name": "ipython",
    "version": 3
   },
   "file_extension": ".py",
   "mimetype": "text/x-python",
   "name": "python",
   "nbconvert_exporter": "python",
   "pygments_lexer": "ipython3",
   "version": "3.10.8"
  }
 },
 "nbformat": 4,
 "nbformat_minor": 2
}
