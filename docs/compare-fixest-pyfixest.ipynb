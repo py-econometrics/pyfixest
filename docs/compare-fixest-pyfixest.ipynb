{
 "cells": [
  {
   "cell_type": "markdown",
   "metadata": {},
   "source": [
    "# Does `PyFixest` match `fixest`?\n",
    "\n",
    "This vignette compares estimation results from `fixest` with `pyfixest` via the `rpy2` package."
   ]
  },
  {
   "cell_type": "markdown",
   "metadata": {},
   "source": [
    "## Setup"
   ]
  },
  {
   "cell_type": "code",
   "execution_count": null,
   "metadata": {},
   "outputs": [],
   "source": [
    "import pandas as pd\n",
    "import rpy2.robjects as ro\n",
    "from rpy2.robjects import pandas2ri\n",
    "from rpy2.robjects.packages import importr\n",
    "\n",
    "import pyfixest as pf\n",
    "\n",
    "# Activate pandas2ri\n",
    "pandas2ri.activate()\n",
    "\n",
    "# Import R packages\n",
    "fixest = importr(\"fixest\")\n",
    "stats = importr(\"stats\")\n",
    "broom = importr(\"broom\")\n",
    "\n",
    "# IPython magic commands for autoreloading\n",
    "%load_ext autoreload\n",
    "%autoreload 2\n",
    "\n",
    "# Get data using pyfixest\n",
    "data = pf.get_data(model=\"Feols\", N=10_000, seed=99292)"
   ]
  },
  {
   "cell_type": "markdown",
   "metadata": {},
   "source": [
    "## Ordinary Least Squares (OLS)\n",
    "\n",
    "### IID Inference\n",
    "\n",
    "First, we estimate a model via `pyfixest`. We compute \"iid\" standard errors."
   ]
  },
  {
   "cell_type": "code",
   "execution_count": null,
   "metadata": {},
   "outputs": [],
   "source": [
    "fit = pf.feols(fml=\"Y ~ X1 + X2 | f1 + f2\", data=data, vcov=\"iid\")"
   ]
  },
  {
   "cell_type": "markdown",
   "metadata": {},
   "source": [
    "We estimate the same model with weights:"
   ]
  },
  {
   "cell_type": "code",
   "execution_count": null,
   "metadata": {},
   "outputs": [],
   "source": [
    "fit_weights = pf.feols(\n",
    "    fml=\"Y ~ X1 + X2 | f1 + f2\", data=data, weights=\"weights\", vcov=\"iid\"\n",
    ")"
   ]
  },
  {
   "cell_type": "markdown",
   "metadata": {},
   "source": [
    "Via `r-fixest` and `rpy2`, we get"
   ]
  },
  {
   "cell_type": "code",
   "execution_count": null,
   "metadata": {},
   "outputs": [],
   "source": [
    "# Re-activate pandas2ri to ensure conversion context is available\n",
    "pandas2ri.activate()\n",
    "\n",
    "r_fit = fixest.feols(\n",
    "    ro.Formula(\"Y ~ X1 + X2 | f1 + f2\"),\n",
    "    data=data,\n",
    "    vcov=\"iid\",\n",
    ")\n",
    "\n",
    "r_fit_weights = fixest.feols(\n",
    "    ro.Formula(\"Y ~ X1 + X2 | f1 + f2\"),\n",
    "    data=data,\n",
    "    weights=ro.Formula(\"~weights\"),\n",
    "    vcov=\"iid\",\n",
    ")"
   ]
  },
  {
   "cell_type": "markdown",
   "metadata": {},
   "source": [
    "Let's compare how close the covariance matrices are:"
   ]
  },
  {
   "cell_type": "code",
   "execution_count": null,
   "metadata": {},
   "outputs": [],
   "source": [
    "fit_vcov = fit._vcov\n",
    "r_vcov = stats.vcov(r_fit)\n",
    "fit_vcov - r_vcov"
   ]
  },
  {
   "cell_type": "markdown",
   "metadata": {},
   "source": [
    "And for WLS:"
   ]
  },
  {
   "cell_type": "code",
   "execution_count": null,
   "metadata": {},
   "outputs": [],
   "source": [
    "fit_weights._vcov - stats.vcov(r_fit_weights)"
   ]
  },
  {
   "cell_type": "markdown",
   "metadata": {},
   "source": [
    "We conclude by comparing all estimation results via the `tidy` methods:"
   ]
  },
  {
   "cell_type": "code",
   "execution_count": null,
   "metadata": {},
   "outputs": [],
   "source": [
    "fit.tidy()"
   ]
  },
  {
   "cell_type": "code",
   "execution_count": null,
   "metadata": {},
   "outputs": [],
   "source": [
    "pd.DataFrame(broom.tidy_fixest(r_fit)).T"
   ]
  },
  {
   "cell_type": "code",
   "execution_count": null,
   "metadata": {},
   "outputs": [],
   "source": [
    "fit_weights.tidy()"
   ]
  },
  {
   "cell_type": "code",
   "execution_count": null,
   "metadata": {},
   "outputs": [],
   "source": [
    "pd.DataFrame(broom.tidy_fixest(r_fit_weights)).T"
   ]
  },
  {
   "cell_type": "markdown",
   "metadata": {},
   "source": [
    "### Heteroskedastic Errors\n",
    "\n",
    "We repeat the same exercise with heteroskedastic (HC1) errors:"
   ]
  },
  {
   "cell_type": "code",
   "execution_count": null,
   "metadata": {},
   "outputs": [],
   "source": [
    "fit = pf.feols(fml=\"Y ~ X1 + X2 | f1 + f2\", data=data, vcov=\"hetero\")\n",
    "fit_weights = pf.feols(\n",
    "    fml=\"Y ~ X1 + X2 | f1 + f2\", data=data, vcov=\"hetero\", weights=\"weights\"\n",
    ")"
   ]
  },
  {
   "cell_type": "code",
   "execution_count": null,
   "metadata": {},
   "outputs": [],
   "source": [
    "# Re-activate pandas2ri to ensure conversion context is available\n",
    "pandas2ri.activate()\n",
    "\n",
    "r_fit = fixest.feols(\n",
    "    ro.Formula(\"Y ~ X1 + X2 | f1 + f2\"),\n",
    "    data=data,\n",
    "    vcov=\"hetero\",\n",
    ")\n",
    "\n",
    "r_fit_weights = fixest.feols(\n",
    "    ro.Formula(\"Y ~ X1 + X2 | f1 + f2\"),\n",
    "    data=data,\n",
    "    weights=ro.Formula(\"~weights\"),\n",
    "    vcov=\"hetero\",\n",
    ")"
   ]
  },
  {
   "cell_type": "markdown",
   "metadata": {},
   "source": [
    "As before, we compare the variance covariance matrices:"
   ]
  },
  {
   "cell_type": "code",
   "execution_count": null,
   "metadata": {},
   "outputs": [],
   "source": [
    "fit._vcov - stats.vcov(r_fit)"
   ]
  },
  {
   "cell_type": "code",
   "execution_count": null,
   "metadata": {},
   "outputs": [],
   "source": [
    "fit_weights._vcov - stats.vcov(r_fit_weights)"
   ]
  },
  {
   "cell_type": "markdown",
   "metadata": {},
   "source": [
    "We conclude by comparing all estimation results via the `tidy` methods:"
   ]
  },
  {
   "cell_type": "code",
   "execution_count": null,
   "metadata": {},
   "outputs": [],
   "source": [
    "fit.tidy()"
   ]
  },
  {
   "cell_type": "code",
   "execution_count": null,
   "metadata": {},
   "outputs": [],
   "source": [
    "pd.DataFrame(broom.tidy_fixest(r_fit)).T"
   ]
  },
  {
   "cell_type": "code",
   "execution_count": null,
   "metadata": {},
   "outputs": [],
   "source": [
    "fit_weights.tidy()"
   ]
  },
  {
   "cell_type": "code",
   "execution_count": null,
   "metadata": {},
   "outputs": [],
   "source": [
    "pd.DataFrame(broom.tidy_fixest(r_fit_weights)).T"
   ]
  },
  {
   "cell_type": "markdown",
   "metadata": {},
   "source": [
    "### Cluster-Robust Errors\n",
    "\n",
    "We conclude with cluster robust errors."
   ]
  },
  {
   "cell_type": "code",
   "execution_count": null,
   "metadata": {},
   "outputs": [],
   "source": [
    "fit = pf.feols(fml=\"Y ~ X1 + X2 | f1 + f2\", data=data, vcov={\"CRV1\": \"f1\"})\n",
    "fit_weights = pf.feols(\n",
    "    fml=\"Y ~ X1 + X2 | f1 + f2\", data=data, vcov={\"CRV1\": \"f1\"}, weights=\"weights\"\n",
    ")\n",
    "\n",
    "# Re-activate pandas2ri to ensure conversion context is available\n",
    "pandas2ri.activate()\n",
    "\n",
    "r_fit = fixest.feols(\n",
    "    ro.Formula(\"Y ~ X1 + X2 | f1 + f2\"),\n",
    "    data=data,\n",
    "    vcov=ro.Formula(\"~f1\"),\n",
    ")\n",
    "r_fit_weights = fixest.feols(\n",
    "    ro.Formula(\"Y ~ X1 + X2 | f1 + f2\"),\n",
    "    data=data,\n",
    "    weights=ro.Formula(\"~weights\"),\n",
    "    vcov=ro.Formula(\"~f1\"),\n",
    ")"
   ]
  },
  {
   "cell_type": "code",
   "execution_count": null,
   "metadata": {},
   "outputs": [],
   "source": [
    "fit._vcov - stats.vcov(r_fit)"
   ]
  },
  {
   "cell_type": "code",
   "execution_count": null,
   "metadata": {},
   "outputs": [],
   "source": [
    "fit_weights._vcov - stats.vcov(r_fit_weights)"
   ]
  },
  {
   "cell_type": "markdown",
   "metadata": {},
   "source": [
    "We conclude by comparing all estimation results via the `tidy` methods:"
   ]
  },
  {
   "cell_type": "code",
   "execution_count": null,
   "metadata": {},
   "outputs": [],
   "source": [
    "fit.tidy()"
   ]
  },
  {
   "cell_type": "code",
   "execution_count": null,
   "metadata": {},
   "outputs": [],
   "source": [
    "pd.DataFrame(broom.tidy_fixest(r_fit)).T"
   ]
  },
  {
   "cell_type": "code",
   "execution_count": null,
   "metadata": {},
   "outputs": [],
   "source": [
    "fit_weights.tidy()"
   ]
  },
  {
   "cell_type": "code",
   "execution_count": null,
   "metadata": {},
   "outputs": [],
   "source": [
    "pd.DataFrame(broom.tidy_fixest(r_fit_weights)).T"
   ]
  },
  {
   "cell_type": "markdown",
   "metadata": {},
   "source": [
    "## Poisson Regression"
   ]
  },
  {
   "cell_type": "code",
   "execution_count": null,
   "metadata": {},
   "outputs": [],
   "source": [
    "data = pf.get_data(model=\"Fepois\")"
   ]
  },
  {
   "cell_type": "code",
   "execution_count": null,
   "metadata": {},
   "outputs": [],
   "source": [
    "fit_iid = pf.fepois(fml=\"Y ~ X1 + X2 | f1 + f2\", data=data, vcov=\"iid\", iwls_tol=1e-10)\n",
    "fit_hetero = pf.fepois(\n",
    "    fml=\"Y ~ X1 + X2 | f1 + f2\", data=data, vcov=\"hetero\", iwls_tol=1e-10\n",
    ")\n",
    "fit_crv = pf.fepois(\n",
    "    fml=\"Y ~ X1 + X2 | f1 + f2\", data=data, vcov={\"CRV1\": \"f1\"}, iwls_tol=1e-10\n",
    ")\n",
    "\n",
    "# Re-activate pandas2ri to ensure conversion context is available\n",
    "pandas2ri.activate()\n",
    "\n",
    "fit_r_iid = fixest.fepois(\n",
    "    ro.Formula(\"Y ~ X1 + X2 | f1 + f2\"),\n",
    "    data=data,\n",
    "    vcov=\"iid\",\n",
    ")\n",
    "\n",
    "fit_r_hetero = fixest.fepois(\n",
    "    ro.Formula(\"Y ~ X1 + X2 | f1 + f2\"),\n",
    "    data=data,\n",
    "    vcov=\"hetero\",\n",
    ")\n",
    "\n",
    "fit_r_crv = fixest.fepois(\n",
    "    ro.Formula(\"Y ~ X1 + X2 | f1 + f2\"),\n",
    "    data=data,\n",
    "    vcov=ro.Formula(\"~f1\"),\n",
    ")"
   ]
  },
  {
   "cell_type": "code",
   "execution_count": null,
   "metadata": {},
   "outputs": [],
   "source": [
    "fit_iid._vcov - stats.vcov(fit_r_iid)"
   ]
  },
  {
   "cell_type": "code",
   "execution_count": null,
   "metadata": {},
   "outputs": [],
   "source": [
    "fit_hetero._vcov - stats.vcov(fit_r_hetero)"
   ]
  },
  {
   "cell_type": "code",
   "execution_count": null,
   "metadata": {},
   "outputs": [],
   "source": [
    "fit_crv._vcov - stats.vcov(fit_r_crv)"
   ]
  },
  {
   "cell_type": "markdown",
   "metadata": {},
   "source": [
    "We conclude by comparing all estimation results via the `tidy` methods:"
   ]
  },
  {
   "cell_type": "code",
   "execution_count": null,
   "metadata": {},
   "outputs": [],
   "source": [
    "fit_iid.tidy()"
   ]
  },
  {
   "cell_type": "code",
   "execution_count": null,
   "metadata": {},
   "outputs": [],
   "source": [
    "pd.DataFrame(broom.tidy_fixest(fit_r_iid)).T"
   ]
  },
  {
   "cell_type": "code",
   "execution_count": null,
   "metadata": {},
   "outputs": [],
   "source": [
    "fit_hetero.tidy()"
   ]
  },
  {
   "cell_type": "code",
   "execution_count": null,
   "metadata": {},
   "outputs": [],
   "source": [
    "pd.DataFrame(broom.tidy_fixest(fit_r_hetero)).T"
   ]
  },
  {
   "cell_type": "code",
   "execution_count": null,
   "metadata": {},
   "outputs": [],
   "source": [
    "fit_crv.tidy()"
   ]
  },
  {
   "cell_type": "code",
   "execution_count": null,
   "metadata": {},
   "outputs": [],
   "source": [
    "pd.DataFrame(broom.tidy_fixest(fit_r_crv)).T"
   ]
  }
 ],
 "metadata": {
  "kernelspec": {
   "display_name": "Python 3",
   "language": "python",
   "name": "python3"
  },
  "language_info": {
   "codemirror_mode": {
    "name": "ipython",
    "version": 3
   },
   "file_extension": ".py",
   "mimetype": "text/x-python",
   "name": "python",
   "nbconvert_exporter": "python",
   "pygments_lexer": "ipython3",
   "version": "3.12.0"
  }
 },
 "nbformat": 4,
 "nbformat_minor": 4
}
