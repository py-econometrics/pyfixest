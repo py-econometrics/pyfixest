{
 "cells": [
  {
   "cell_type": "markdown",
   "metadata": {},
   "source": [
    "# Does `PyFixest` match `fixest`? "
   ]
  },
  {
   "cell_type": "markdown",
   "metadata": {},
   "source": [
    "This vignette compares estimation results from `fixest` with `pyfixest` via the `rpy2` package."
   ]
  },
  {
   "cell_type": "code",
   "execution_count": 53,
   "metadata": {},
   "outputs": [
    {
     "name": "stdout",
     "output_type": "stream",
     "text": [
      "The autoreload extension is already loaded. To reload it, use:\n",
      "  %reload_ext autoreload\n"
     ]
    }
   ],
   "source": [
    "import pandas as pd\n",
    "import rpy2.robjects as ro\n",
    "from rpy2.robjects import pandas2ri\n",
    "from rpy2.robjects.packages import importr\n",
    "\n",
    "import pyfixest as pf\n",
    "\n",
    "# Activate pandas2ri\n",
    "pandas2ri.activate()\n",
    "\n",
    "# Import R packages\n",
    "fixest = importr(\"fixest\")\n",
    "stats = importr(\"stats\")\n",
    "\n",
    "# IPython magic commands for autoreloading\n",
    "%load_ext autoreload\n",
    "%autoreload 2\n",
    "\n",
    "# Get data using pyfixest\n",
    "data = pf.get_data(model=\"Feols\", N=1000)"
   ]
  },
  {
   "cell_type": "markdown",
   "metadata": {},
   "source": [
    "## Ordinary Least Squares (OLS)"
   ]
  },
  {
   "cell_type": "markdown",
   "metadata": {},
   "source": [
    "### IID Inference"
   ]
  },
  {
   "cell_type": "markdown",
   "metadata": {},
   "source": [
    "First, we estimate a model via `pyfixest. We compute \"iid\" standard errors. "
   ]
  },
  {
   "cell_type": "code",
   "execution_count": 54,
   "metadata": {},
   "outputs": [],
   "source": [
    "fit = pf.feols(\"Y ~ X1 + X2 | f1 + f2\", data = data, ssc = pf.ssc(adj = True, cluster_adj = False), vcov = \"iid\")"
   ]
  },
  {
   "cell_type": "markdown",
   "metadata": {},
   "source": [
    "We estimate the same model with weights: "
   ]
  },
  {
   "cell_type": "code",
   "execution_count": 55,
   "metadata": {},
   "outputs": [],
   "source": [
    "fit_weights = pf.feols(\"Y ~ X1 + X2 | f1 + f2\", data = data, weights = \"weights\", ssc = pf.ssc(adj = True, cluster_adj = False), vcov = \"iid\")"
   ]
  },
  {
   "cell_type": "markdown",
   "metadata": {},
   "source": [
    "Via `r-fixest` and `rpy2`, we get"
   ]
  },
  {
   "cell_type": "code",
   "execution_count": 56,
   "metadata": {},
   "outputs": [
    {
     "name": "stderr",
     "output_type": "stream",
     "text": [
      "R[write to console]: NOTE: 3 observations removed because of NA values (LHS: 1, RHS: 1, Fixed-effects: 1).\n",
      "\n",
      "R[write to console]: NOTE: 3 observations removed because of NA values (LHS: 1, RHS: 1, Fixed-effects: 1).\n",
      "\n"
     ]
    }
   ],
   "source": [
    "r_fit = fixest.feols(\n",
    "    ro.Formula(\"Y ~ X1 + X2 | f1 + f2\"),\n",
    "    data=data,\n",
    "    vcov=\"iid\",\n",
    "    ssc=fixest.ssc(True, \"none\", False, \"min\", \"min\", False),\n",
    ")\n",
    "\n",
    "r_fit_weights = fixest.feols(\n",
    "    ro.Formula(\"Y ~ X1 + X2 | f1 + f2\"),\n",
    "    data=data,\n",
    "    weights=ro.Formula(\"~weights\"),\n",
    "    vcov=\"iid\",\n",
    "    ssc=fixest.ssc(True, \"none\", False, \"min\", \"min\", False),\n",
    ")"
   ]
  },
  {
   "cell_type": "markdown",
   "metadata": {},
   "source": [
    "Let's compare how close the covariance matrices are: "
   ]
  },
  {
   "cell_type": "code",
   "execution_count": 57,
   "metadata": {},
   "outputs": [
    {
     "data": {
      "text/plain": [
       "array([[-3.46944695e-18, -2.62580214e-20],\n",
       "       [-2.62580214e-20,  5.42101086e-20]])"
      ]
     },
     "execution_count": 57,
     "metadata": {},
     "output_type": "execute_result"
    }
   ],
   "source": [
    "fit_vcov = fit._vcov\n",
    "r_vcov = stats.vcov(r_fit)\n",
    "fit_vcov - r_vcov"
   ]
  },
  {
   "cell_type": "markdown",
   "metadata": {},
   "source": [
    "And for WLS: "
   ]
  },
  {
   "cell_type": "code",
   "execution_count": 58,
   "metadata": {},
   "outputs": [
    {
     "data": {
      "text/plain": [
       "array([[ 0.00000000e+00, -1.60936260e-20],\n",
       "       [-1.60936260e-20, -1.08420217e-19]])"
      ]
     },
     "execution_count": 58,
     "metadata": {},
     "output_type": "execute_result"
    }
   ],
   "source": [
    "fit_weights._vcov - stats.vcov(r_fit_weights)"
   ]
  },
  {
   "cell_type": "markdown",
   "metadata": {},
   "source": [
    "We conclude by comparing all estimation results via the `etable` function: "
   ]
  },
  {
   "cell_type": "code",
   "execution_count": 59,
   "metadata": {},
   "outputs": [
    {
     "name": "stdout",
     "output_type": "stream",
     "text": [
      "                                 est1                     est2\n",
      "------------  -----------------------  -----------------------\n",
      "depvar                              Y                        Y\n",
      "--------------------------------------------------------------\n",
      "X1            -0.924046*** (0.054373)  -0.854266*** (0.054288)\n",
      "X2            -0.174107*** (0.014412)  -0.164147*** (0.014849)\n",
      "--------------------------------------------------------------\n",
      "f2                                  x                        x\n",
      "f1                                  x                        x\n",
      "--------------------------------------------------------------\n",
      "R2                           0.659044                        -\n",
      "S.E. type                         iid                      iid\n",
      "Observations                      997                      997\n",
      "--------------------------------------------------------------\n",
      "Significance levels: * p < 0.05, ** p < 0.01, *** p < 0.001\n",
      "Format of coefficient cell:\n",
      "Coefficient (Std. Error)\n"
     ]
    }
   ],
   "source": [
    "pf.etable([fit, fit_weights], digits = 6)"
   ]
  },
  {
   "cell_type": "code",
   "execution_count": 60,
   "metadata": {},
   "outputs": [
    {
     "data": {
      "text/html": [
       "<div>\n",
       "<style scoped>\n",
       "    .dataframe tbody tr th:only-of-type {\n",
       "        vertical-align: middle;\n",
       "    }\n",
       "\n",
       "    .dataframe tbody tr th {\n",
       "        vertical-align: top;\n",
       "    }\n",
       "\n",
       "    .dataframe thead th {\n",
       "        text-align: right;\n",
       "    }\n",
       "</style>\n",
       "<table border=\"1\" class=\"dataframe\">\n",
       "  <thead>\n",
       "    <tr style=\"text-align: right;\">\n",
       "      <th></th>\n",
       "      <th>0</th>\n",
       "      <th>1</th>\n",
       "      <th>2</th>\n",
       "    </tr>\n",
       "  </thead>\n",
       "  <tbody>\n",
       "    <tr>\n",
       "      <th>0</th>\n",
       "      <td>Dependent Var.:</td>\n",
       "      <td>Y</td>\n",
       "      <td>Y</td>\n",
       "    </tr>\n",
       "    <tr>\n",
       "      <th>1</th>\n",
       "      <td></td>\n",
       "      <td></td>\n",
       "      <td></td>\n",
       "    </tr>\n",
       "    <tr>\n",
       "      <th>2</th>\n",
       "      <td>X1</td>\n",
       "      <td>-0.924046*** (0.054373)</td>\n",
       "      <td>-0.854266*** (0.054288)</td>\n",
       "    </tr>\n",
       "    <tr>\n",
       "      <th>3</th>\n",
       "      <td>X2</td>\n",
       "      <td>-0.174107*** (0.014412)</td>\n",
       "      <td>-0.164147*** (0.014849)</td>\n",
       "    </tr>\n",
       "    <tr>\n",
       "      <th>4</th>\n",
       "      <td>Fixed-Effects:</td>\n",
       "      <td>-----------------------</td>\n",
       "      <td>-----------------------</td>\n",
       "    </tr>\n",
       "    <tr>\n",
       "      <th>5</th>\n",
       "      <td>f1</td>\n",
       "      <td>Yes</td>\n",
       "      <td>Yes</td>\n",
       "    </tr>\n",
       "    <tr>\n",
       "      <th>6</th>\n",
       "      <td>f2</td>\n",
       "      <td>Yes</td>\n",
       "      <td>Yes</td>\n",
       "    </tr>\n",
       "    <tr>\n",
       "      <th>7</th>\n",
       "      <td>_______________</td>\n",
       "      <td>_______________________</td>\n",
       "      <td>_______________________</td>\n",
       "    </tr>\n",
       "    <tr>\n",
       "      <th>8</th>\n",
       "      <td>S.E. type</td>\n",
       "      <td>IID</td>\n",
       "      <td>IID</td>\n",
       "    </tr>\n",
       "    <tr>\n",
       "      <th>9</th>\n",
       "      <td>Observations</td>\n",
       "      <td>997</td>\n",
       "      <td>997</td>\n",
       "    </tr>\n",
       "    <tr>\n",
       "      <th>10</th>\n",
       "      <td>R2</td>\n",
       "      <td>0.65904</td>\n",
       "      <td>0.65208</td>\n",
       "    </tr>\n",
       "    <tr>\n",
       "      <th>11</th>\n",
       "      <td>Within R2</td>\n",
       "      <td>0.30263</td>\n",
       "      <td>0.26968</td>\n",
       "    </tr>\n",
       "  </tbody>\n",
       "</table>\n",
       "</div>"
      ],
      "text/plain": [
       "                  0                        1                        2\n",
       "0   Dependent Var.:                        Y                        Y\n",
       "1                                                                    \n",
       "2                X1  -0.924046*** (0.054373)  -0.854266*** (0.054288)\n",
       "3                X2  -0.174107*** (0.014412)  -0.164147*** (0.014849)\n",
       "4    Fixed-Effects:  -----------------------  -----------------------\n",
       "5                f1                      Yes                      Yes\n",
       "6                f2                      Yes                      Yes\n",
       "7   _______________  _______________________  _______________________\n",
       "8         S.E. type                      IID                      IID\n",
       "9      Observations                      997                      997\n",
       "10               R2                  0.65904                  0.65208\n",
       "11        Within R2                  0.30263                  0.26968"
      ]
     },
     "execution_count": 60,
     "metadata": {},
     "output_type": "execute_result"
    }
   ],
   "source": [
    "pd.DataFrame(fixest.etable(r_fit, r_fit_weights, digits = 6)).T"
   ]
  },
  {
   "cell_type": "markdown",
   "metadata": {},
   "source": [
    "### Heteroskedastic Errors"
   ]
  },
  {
   "cell_type": "markdown",
   "metadata": {},
   "source": [
    "We repeat the same exercise with heteroskedastic (HC1) errors: "
   ]
  },
  {
   "cell_type": "code",
   "execution_count": 61,
   "metadata": {},
   "outputs": [],
   "source": [
    "fit = pf.feols(\"Y ~ X1 + X2 | f1 + f2\", data = data, ssc = pf.ssc(adj = True, cluster_adj = False), vcov = \"hetero\")\n",
    "fit_weights = pf.feols(\"Y ~ X1 + X2 | f1 + f2\", data = data, ssc = pf.ssc(adj = True, cluster_adj = False), vcov = \"hetero\", weights = \"weights\")"
   ]
  },
  {
   "cell_type": "code",
   "execution_count": 62,
   "metadata": {},
   "outputs": [
    {
     "name": "stderr",
     "output_type": "stream",
     "text": [
      "R[write to console]: NOTE: 3 observations removed because of NA values (LHS: 1, RHS: 1, Fixed-effects: 1).\n",
      "\n",
      "R[write to console]: NOTE: 3 observations removed because of NA values (LHS: 1, RHS: 1, Fixed-effects: 1).\n",
      "\n"
     ]
    }
   ],
   "source": [
    "fit_r = fixest.feols(\n",
    "    ro.Formula(\"Y ~ X1 + X2 | f1 + f2\"),\n",
    "    data=data,\n",
    "    vcov=\"hetero\",\n",
    "    ssc=fixest.ssc(True, \"none\", False, \"min\", \"min\", False),\n",
    ")\n",
    "\n",
    "fit_weights_r = fixest.feols(\n",
    "    ro.Formula(\"Y ~ X1 + X2 | f1 + f2\"),\n",
    "    data=data,\n",
    "    weights=ro.Formula(\"~weights\"),\n",
    "    vcov=\"hetero\",\n",
    "    ssc=fixest.ssc(True, \"none\", False, \"min\", \"min\", False),\n",
    ")"
   ]
  },
  {
   "cell_type": "markdown",
   "metadata": {},
   "source": [
    "As before, we compare the variance covariance matrices:"
   ]
  },
  {
   "cell_type": "code",
   "execution_count": 63,
   "metadata": {},
   "outputs": [
    {
     "data": {
      "text/plain": [
       "array([[ 2.61539922e-14,  6.55185745e-14],\n",
       "       [ 6.55185745e-14, -8.23562681e-15]])"
      ]
     },
     "execution_count": 63,
     "metadata": {},
     "output_type": "execute_result"
    }
   ],
   "source": [
    "fit._vcov - stats.vcov(fit_r)"
   ]
  },
  {
   "cell_type": "code",
   "execution_count": 64,
   "metadata": {},
   "outputs": [
    {
     "data": {
      "text/plain": [
       "array([[7.61158497e-13, 3.29128177e-13],\n",
       "       [3.29128177e-13, 9.55965450e-14]])"
      ]
     },
     "execution_count": 64,
     "metadata": {},
     "output_type": "execute_result"
    }
   ],
   "source": [
    "fit_weights._vcov - stats.vcov(fit_weights_r)"
   ]
  },
  {
   "cell_type": "code",
   "execution_count": 65,
   "metadata": {},
   "outputs": [
    {
     "name": "stdout",
     "output_type": "stream",
     "text": [
      "                                 est1                     est2\n",
      "------------  -----------------------  -----------------------\n",
      "depvar                              Y                        Y\n",
      "--------------------------------------------------------------\n",
      "X1            -0.924046*** (0.054704)  -0.854266*** (0.063090)\n",
      "X2            -0.174107*** (0.015009)  -0.164147*** (0.016769)\n",
      "--------------------------------------------------------------\n",
      "f2                                  x                        x\n",
      "f1                                  x                        x\n",
      "--------------------------------------------------------------\n",
      "R2                           0.659044                        -\n",
      "S.E. type                      hetero                   hetero\n",
      "Observations                      997                      997\n",
      "--------------------------------------------------------------\n",
      "Significance levels: * p < 0.05, ** p < 0.01, *** p < 0.001\n",
      "Format of coefficient cell:\n",
      "Coefficient (Std. Error)\n"
     ]
    }
   ],
   "source": [
    "pf.etable([fit, fit_weights], digits = 6)"
   ]
  },
  {
   "cell_type": "code",
   "execution_count": 66,
   "metadata": {},
   "outputs": [
    {
     "data": {
      "text/html": [
       "<div>\n",
       "<style scoped>\n",
       "    .dataframe tbody tr th:only-of-type {\n",
       "        vertical-align: middle;\n",
       "    }\n",
       "\n",
       "    .dataframe tbody tr th {\n",
       "        vertical-align: top;\n",
       "    }\n",
       "\n",
       "    .dataframe thead th {\n",
       "        text-align: right;\n",
       "    }\n",
       "</style>\n",
       "<table border=\"1\" class=\"dataframe\">\n",
       "  <thead>\n",
       "    <tr style=\"text-align: right;\">\n",
       "      <th></th>\n",
       "      <th>0</th>\n",
       "      <th>1</th>\n",
       "      <th>2</th>\n",
       "    </tr>\n",
       "  </thead>\n",
       "  <tbody>\n",
       "    <tr>\n",
       "      <th>0</th>\n",
       "      <td>Dependent Var.:</td>\n",
       "      <td>Y</td>\n",
       "      <td>Y</td>\n",
       "    </tr>\n",
       "    <tr>\n",
       "      <th>1</th>\n",
       "      <td></td>\n",
       "      <td></td>\n",
       "      <td></td>\n",
       "    </tr>\n",
       "    <tr>\n",
       "      <th>2</th>\n",
       "      <td>X1</td>\n",
       "      <td>-0.924046*** (0.054704)</td>\n",
       "      <td>-0.854266*** (0.063090)</td>\n",
       "    </tr>\n",
       "    <tr>\n",
       "      <th>3</th>\n",
       "      <td>X2</td>\n",
       "      <td>-0.174107*** (0.015009)</td>\n",
       "      <td>-0.164147*** (0.016769)</td>\n",
       "    </tr>\n",
       "    <tr>\n",
       "      <th>4</th>\n",
       "      <td>Fixed-Effects:</td>\n",
       "      <td>-----------------------</td>\n",
       "      <td>-----------------------</td>\n",
       "    </tr>\n",
       "    <tr>\n",
       "      <th>5</th>\n",
       "      <td>f1</td>\n",
       "      <td>Yes</td>\n",
       "      <td>Yes</td>\n",
       "    </tr>\n",
       "    <tr>\n",
       "      <th>6</th>\n",
       "      <td>f2</td>\n",
       "      <td>Yes</td>\n",
       "      <td>Yes</td>\n",
       "    </tr>\n",
       "    <tr>\n",
       "      <th>7</th>\n",
       "      <td>_______________</td>\n",
       "      <td>_______________________</td>\n",
       "      <td>_______________________</td>\n",
       "    </tr>\n",
       "    <tr>\n",
       "      <th>8</th>\n",
       "      <td>S.E. type</td>\n",
       "      <td>Heteroskedasticity-rob.</td>\n",
       "      <td>Heteroskedasticity-rob.</td>\n",
       "    </tr>\n",
       "    <tr>\n",
       "      <th>9</th>\n",
       "      <td>Observations</td>\n",
       "      <td>997</td>\n",
       "      <td>997</td>\n",
       "    </tr>\n",
       "    <tr>\n",
       "      <th>10</th>\n",
       "      <td>R2</td>\n",
       "      <td>0.65904</td>\n",
       "      <td>0.65208</td>\n",
       "    </tr>\n",
       "    <tr>\n",
       "      <th>11</th>\n",
       "      <td>Within R2</td>\n",
       "      <td>0.30263</td>\n",
       "      <td>0.26968</td>\n",
       "    </tr>\n",
       "  </tbody>\n",
       "</table>\n",
       "</div>"
      ],
      "text/plain": [
       "                  0                        1                        2\n",
       "0   Dependent Var.:                        Y                        Y\n",
       "1                                                                    \n",
       "2                X1  -0.924046*** (0.054704)  -0.854266*** (0.063090)\n",
       "3                X2  -0.174107*** (0.015009)  -0.164147*** (0.016769)\n",
       "4    Fixed-Effects:  -----------------------  -----------------------\n",
       "5                f1                      Yes                      Yes\n",
       "6                f2                      Yes                      Yes\n",
       "7   _______________  _______________________  _______________________\n",
       "8         S.E. type  Heteroskedasticity-rob.  Heteroskedasticity-rob.\n",
       "9      Observations                      997                      997\n",
       "10               R2                  0.65904                  0.65208\n",
       "11        Within R2                  0.30263                  0.26968"
      ]
     },
     "execution_count": 66,
     "metadata": {},
     "output_type": "execute_result"
    }
   ],
   "source": [
    "pd.DataFrame(fixest.etable(fit_r, fit_weights_r, digits = 6)).T"
   ]
  },
  {
   "cell_type": "markdown",
   "metadata": {},
   "source": [
    "### Cluster-Robust Errors"
   ]
  },
  {
   "cell_type": "markdown",
   "metadata": {},
   "source": [
    "We conclude with cluster robust errors. "
   ]
  },
  {
   "cell_type": "code",
   "execution_count": 67,
   "metadata": {},
   "outputs": [
    {
     "name": "stderr",
     "output_type": "stream",
     "text": [
      "R[write to console]: NOTE: 3 observations removed because of NA values (LHS: 1, RHS: 1, Fixed-effects: 1).\n",
      "\n",
      "R[write to console]: NOTE: 3 observations removed because of NA values (LHS: 1, RHS: 1, Fixed-effects: 1).\n",
      "\n"
     ]
    }
   ],
   "source": [
    "fit = pf.feols(\"Y ~ X1 + X2 | f1 + f2\", data = data, ssc = pf.ssc(adj = True, cluster_adj = False), vcov = {\"CRV1\": \"f1\"})\n",
    "fit_weights = pf.feols(\"Y ~ X1 + X2 | f1 + f2\", data = data, ssc = pf.ssc(adj = True, cluster_adj = False), vcov = {\"CRV1\":\"f1\"}, weights = \"weights\")\n",
    "\n",
    "fit_r = fixest.feols(\n",
    "    ro.Formula(\"Y ~ X1 + X2 | f1 + f2\"),\n",
    "    data=data,\n",
    "    vcov= ro.Formula(\"~f1\"),\n",
    "    ssc=fixest.ssc(True, \"none\", False, \"min\", \"min\", False),\n",
    ")\n",
    "fit_r_weights = fixest.feols(\n",
    "    ro.Formula(\"Y ~ X1 + X2 | f1 + f2\"),\n",
    "    data=data,\n",
    "    weights=ro.Formula(\"~weights\"),\n",
    "    vcov= ro.Formula(\"~f1\"),\n",
    "    ssc=fixest.ssc(True, \"none\", False, \"min\", \"min\", False),\n",
    ")"
   ]
  },
  {
   "cell_type": "code",
   "execution_count": 68,
   "metadata": {},
   "outputs": [
    {
     "data": {
      "text/plain": [
       "array([[-8.45259193e-13,  8.24642309e-15],\n",
       "       [ 8.24642140e-15, -9.52734528e-15]])"
      ]
     },
     "execution_count": 68,
     "metadata": {},
     "output_type": "execute_result"
    }
   ],
   "source": [
    "fit._vcov - stats.vcov(fit_r)"
   ]
  },
  {
   "cell_type": "code",
   "execution_count": 69,
   "metadata": {},
   "outputs": [
    {
     "data": {
      "text/plain": [
       "array([[-2.75502512e-04,  7.09991484e-05],\n",
       "       [ 7.09991484e-05,  2.83672348e-06]])"
      ]
     },
     "execution_count": 69,
     "metadata": {},
     "output_type": "execute_result"
    }
   ],
   "source": [
    "fit_weights._vcov - stats.vcov(fit_weights_r)"
   ]
  },
  {
   "cell_type": "code",
   "execution_count": 70,
   "metadata": {},
   "outputs": [
    {
     "name": "stdout",
     "output_type": "stream",
     "text": [
      "                                 est1                     est2\n",
      "------------  -----------------------  -----------------------\n",
      "depvar                              Y                        Y\n",
      "--------------------------------------------------------------\n",
      "X1            -0.924046*** (0.059910)  -0.854266*** (0.060868)\n",
      "X2            -0.174107*** (0.014363)  -0.164147*** (0.016854)\n",
      "--------------------------------------------------------------\n",
      "f2                                  x                        x\n",
      "f1                                  x                        x\n",
      "--------------------------------------------------------------\n",
      "R2                           0.659044                        -\n",
      "S.E. type                      by: f1                   by: f1\n",
      "Observations                      997                      997\n",
      "--------------------------------------------------------------\n",
      "Significance levels: * p < 0.05, ** p < 0.01, *** p < 0.001\n",
      "Format of coefficient cell:\n",
      "Coefficient (Std. Error)\n"
     ]
    }
   ],
   "source": [
    "pf.etable([fit, fit_weights], digits = 6)"
   ]
  },
  {
   "cell_type": "code",
   "execution_count": 71,
   "metadata": {},
   "outputs": [
    {
     "data": {
      "text/html": [
       "<div>\n",
       "<style scoped>\n",
       "    .dataframe tbody tr th:only-of-type {\n",
       "        vertical-align: middle;\n",
       "    }\n",
       "\n",
       "    .dataframe tbody tr th {\n",
       "        vertical-align: top;\n",
       "    }\n",
       "\n",
       "    .dataframe thead th {\n",
       "        text-align: right;\n",
       "    }\n",
       "</style>\n",
       "<table border=\"1\" class=\"dataframe\">\n",
       "  <thead>\n",
       "    <tr style=\"text-align: right;\">\n",
       "      <th></th>\n",
       "      <th>0</th>\n",
       "      <th>1</th>\n",
       "      <th>2</th>\n",
       "    </tr>\n",
       "  </thead>\n",
       "  <tbody>\n",
       "    <tr>\n",
       "      <th>0</th>\n",
       "      <td>Dependent Var.:</td>\n",
       "      <td>Y</td>\n",
       "      <td>Y</td>\n",
       "    </tr>\n",
       "    <tr>\n",
       "      <th>1</th>\n",
       "      <td></td>\n",
       "      <td></td>\n",
       "      <td></td>\n",
       "    </tr>\n",
       "    <tr>\n",
       "      <th>2</th>\n",
       "      <td>X1</td>\n",
       "      <td>-0.924046*** (0.059910)</td>\n",
       "      <td>-0.854266*** (0.060868)</td>\n",
       "    </tr>\n",
       "    <tr>\n",
       "      <th>3</th>\n",
       "      <td>X2</td>\n",
       "      <td>-0.174107*** (0.014363)</td>\n",
       "      <td>-0.164147*** (0.016854)</td>\n",
       "    </tr>\n",
       "    <tr>\n",
       "      <th>4</th>\n",
       "      <td>Fixed-Effects:</td>\n",
       "      <td>-----------------------</td>\n",
       "      <td>-----------------------</td>\n",
       "    </tr>\n",
       "    <tr>\n",
       "      <th>5</th>\n",
       "      <td>f1</td>\n",
       "      <td>Yes</td>\n",
       "      <td>Yes</td>\n",
       "    </tr>\n",
       "    <tr>\n",
       "      <th>6</th>\n",
       "      <td>f2</td>\n",
       "      <td>Yes</td>\n",
       "      <td>Yes</td>\n",
       "    </tr>\n",
       "    <tr>\n",
       "      <th>7</th>\n",
       "      <td>_______________</td>\n",
       "      <td>_______________________</td>\n",
       "      <td>_______________________</td>\n",
       "    </tr>\n",
       "    <tr>\n",
       "      <th>8</th>\n",
       "      <td>S.E.: Clustered</td>\n",
       "      <td>by: f1</td>\n",
       "      <td>by: f1</td>\n",
       "    </tr>\n",
       "    <tr>\n",
       "      <th>9</th>\n",
       "      <td>Observations</td>\n",
       "      <td>997</td>\n",
       "      <td>997</td>\n",
       "    </tr>\n",
       "    <tr>\n",
       "      <th>10</th>\n",
       "      <td>R2</td>\n",
       "      <td>0.65904</td>\n",
       "      <td>0.65208</td>\n",
       "    </tr>\n",
       "    <tr>\n",
       "      <th>11</th>\n",
       "      <td>Within R2</td>\n",
       "      <td>0.30263</td>\n",
       "      <td>0.26968</td>\n",
       "    </tr>\n",
       "  </tbody>\n",
       "</table>\n",
       "</div>"
      ],
      "text/plain": [
       "                  0                        1                        2\n",
       "0   Dependent Var.:                        Y                        Y\n",
       "1                                                                    \n",
       "2                X1  -0.924046*** (0.059910)  -0.854266*** (0.060868)\n",
       "3                X2  -0.174107*** (0.014363)  -0.164147*** (0.016854)\n",
       "4    Fixed-Effects:  -----------------------  -----------------------\n",
       "5                f1                      Yes                      Yes\n",
       "6                f2                      Yes                      Yes\n",
       "7   _______________  _______________________  _______________________\n",
       "8   S.E.: Clustered                   by: f1                   by: f1\n",
       "9      Observations                      997                      997\n",
       "10               R2                  0.65904                  0.65208\n",
       "11        Within R2                  0.30263                  0.26968"
      ]
     },
     "execution_count": 71,
     "metadata": {},
     "output_type": "execute_result"
    }
   ],
   "source": [
    "pd.DataFrame(fixest.etable(fit_r, fit_r_weights, digits = 6)).T"
   ]
  },
  {
   "cell_type": "markdown",
   "metadata": {},
   "source": [
    "## Poisson Regression"
   ]
  },
  {
   "cell_type": "code",
   "execution_count": 72,
   "metadata": {},
   "outputs": [],
   "source": [
    "data = pf.get_data(model = \"Fepois\")"
   ]
  },
  {
   "cell_type": "code",
   "execution_count": 73,
   "metadata": {},
   "outputs": [
    {
     "name": "stderr",
     "output_type": "stream",
     "text": [
      "R[write to console]: NOTE: 3 observations removed because of NA values (LHS: 1, RHS: 1, Fixed-effects: 1).\n",
      "\n",
      "R[write to console]: NOTE: 3 observations removed because of NA values (LHS: 1, RHS: 1, Fixed-effects: 1).\n",
      "\n",
      "R[write to console]: NOTE: 3 observations removed because of NA values (LHS: 1, RHS: 1, Fixed-effects: 1).\n",
      "\n"
     ]
    }
   ],
   "source": [
    "fit_iid = pf.fepois(\"Y ~ X1 + X2 | f1 + f2\", data = data, ssc = pf.ssc(adj = True, cluster_adj = False), vcov = \"iid\", iwls_tol = 1e-10)\n",
    "fit_hetero = pf.fepois(\"Y ~ X1 + X2 | f1 + f2\", data = data, ssc = pf.ssc(adj = True, cluster_adj = False), vcov = \"hetero\", iwls_tol = 1e-10)\n",
    "fit_crv = pf.fepois(\"Y ~ X1 + X2 | f1 + f2\", data = data, ssc = pf.ssc(adj = True, cluster_adj = False), vcov = {\"CRV1\":\"f1\"}, iwls_tol = 1e-10)\n",
    "\n",
    "fit_r_iid = fixest.fepois(\n",
    "    ro.Formula(\"Y ~ X1 + X2 | f1 + f2\"),\n",
    "    data=data,\n",
    "    vcov=\"iid\",\n",
    "    ssc=fixest.ssc(True, \"none\", False, \"min\", \"min\", False),\n",
    ")\n",
    "\n",
    "fit_r_hetero = fixest.fepois(\n",
    "    ro.Formula(\"Y ~ X1 + X2 | f1 + f2\"),\n",
    "    data=data,\n",
    "    vcov=\"hetero\",\n",
    "    ssc=fixest.ssc(True, \"none\", False, \"min\", \"min\", False),\n",
    ")\n",
    "\n",
    "fit_r_crv = fixest.fepois(\n",
    "    ro.Formula(\"Y ~ X1 + X2 | f1 + f2\"),\n",
    "    data=data,\n",
    "    vcov=ro.Formula(\"~f1\"),\n",
    "    ssc=fixest.ssc(True, \"none\", False, \"min\", \"min\", False),\n",
    ")"
   ]
  },
  {
   "cell_type": "code",
   "execution_count": 74,
   "metadata": {},
   "outputs": [
    {
     "data": {
      "text/plain": [
       "array([[ 1.20791284e-08, -6.55604931e-10],\n",
       "       [-6.55604931e-10,  1.69958097e-09]])"
      ]
     },
     "execution_count": 74,
     "metadata": {},
     "output_type": "execute_result"
    }
   ],
   "source": [
    "fit_iid._vcov - stats.vcov(fit_r_iid)"
   ]
  },
  {
   "cell_type": "code",
   "execution_count": 75,
   "metadata": {},
   "outputs": [
    {
     "data": {
      "text/plain": [
       "array([[ 2.17883089e-08, -7.37971037e-10],\n",
       "       [-7.37971037e-10,  3.07279240e-09]])"
      ]
     },
     "execution_count": 75,
     "metadata": {},
     "output_type": "execute_result"
    }
   ],
   "source": [
    "fit_hetero._vcov - stats.vcov(fit_r_hetero)"
   ]
  },
  {
   "cell_type": "code",
   "execution_count": 76,
   "metadata": {},
   "outputs": [
    {
     "data": {
      "text/plain": [
       "array([[ 1.53194424e-08, -1.16909821e-10],\n",
       "       [-1.16909821e-10,  3.07270399e-09]])"
      ]
     },
     "execution_count": 76,
     "metadata": {},
     "output_type": "execute_result"
    }
   ],
   "source": [
    "fit_crv._vcov - stats.vcov(fit_r_crv)"
   ]
  },
  {
   "cell_type": "code",
   "execution_count": 77,
   "metadata": {},
   "outputs": [
    {
     "name": "stdout",
     "output_type": "stream",
     "text": [
      "                              est1                  est2                  est3\n",
      "------------  --------------------  --------------------  --------------------\n",
      "depvar                           Y                     Y                     Y\n",
      "------------------------------------------------------------------------------\n",
      "X1            -0.006591 (0.040758)  -0.006591 (0.039125)  -0.006591 (0.034180)\n",
      "X2            -0.014924 (0.010994)  -0.014924 (0.010496)  -0.014924 (0.010135)\n",
      "------------------------------------------------------------------------------\n",
      "f2                               x                     x                     x\n",
      "f1                               x                     x                     x\n",
      "------------------------------------------------------------------------------\n",
      "R2                               -                     -                     -\n",
      "S.E. type                      iid                hetero                by: f1\n",
      "Observations                   997                   997                   997\n",
      "------------------------------------------------------------------------------\n",
      "Significance levels: * p < 0.05, ** p < 0.01, *** p < 0.001\n",
      "Format of coefficient cell:\n",
      "Coefficient (Std. Error)\n"
     ]
    }
   ],
   "source": [
    "pf.etable([fit_iid, fit_hetero, fit_crv], digits = 6)"
   ]
  },
  {
   "cell_type": "code",
   "execution_count": 78,
   "metadata": {},
   "outputs": [
    {
     "data": {
      "text/html": [
       "<div>\n",
       "<style scoped>\n",
       "    .dataframe tbody tr th:only-of-type {\n",
       "        vertical-align: middle;\n",
       "    }\n",
       "\n",
       "    .dataframe tbody tr th {\n",
       "        vertical-align: top;\n",
       "    }\n",
       "\n",
       "    .dataframe thead th {\n",
       "        text-align: right;\n",
       "    }\n",
       "</style>\n",
       "<table border=\"1\" class=\"dataframe\">\n",
       "  <thead>\n",
       "    <tr style=\"text-align: right;\">\n",
       "      <th></th>\n",
       "      <th>0</th>\n",
       "      <th>1</th>\n",
       "      <th>2</th>\n",
       "      <th>3</th>\n",
       "    </tr>\n",
       "  </thead>\n",
       "  <tbody>\n",
       "    <tr>\n",
       "      <th>0</th>\n",
       "      <td>Dependent Var.:</td>\n",
       "      <td>Y</td>\n",
       "      <td>Y</td>\n",
       "      <td>Y</td>\n",
       "    </tr>\n",
       "    <tr>\n",
       "      <th>1</th>\n",
       "      <td></td>\n",
       "      <td></td>\n",
       "      <td></td>\n",
       "      <td></td>\n",
       "    </tr>\n",
       "    <tr>\n",
       "      <th>2</th>\n",
       "      <td>X1</td>\n",
       "      <td>-0.006591 (0.040758)</td>\n",
       "      <td>-0.006591 (0.039125)</td>\n",
       "      <td>-0.006591 (0.034180)</td>\n",
       "    </tr>\n",
       "    <tr>\n",
       "      <th>3</th>\n",
       "      <td>X2</td>\n",
       "      <td>-0.014924 (0.010994)</td>\n",
       "      <td>-0.014924 (0.010496)</td>\n",
       "      <td>-0.014924 (0.010135)</td>\n",
       "    </tr>\n",
       "    <tr>\n",
       "      <th>4</th>\n",
       "      <td>Fixed-Effects:</td>\n",
       "      <td>--------------------</td>\n",
       "      <td>--------------------</td>\n",
       "      <td>--------------------</td>\n",
       "    </tr>\n",
       "    <tr>\n",
       "      <th>5</th>\n",
       "      <td>f1</td>\n",
       "      <td>Yes</td>\n",
       "      <td>Yes</td>\n",
       "      <td>Yes</td>\n",
       "    </tr>\n",
       "    <tr>\n",
       "      <th>6</th>\n",
       "      <td>f2</td>\n",
       "      <td>Yes</td>\n",
       "      <td>Yes</td>\n",
       "      <td>Yes</td>\n",
       "    </tr>\n",
       "    <tr>\n",
       "      <th>7</th>\n",
       "      <td>_______________</td>\n",
       "      <td>____________________</td>\n",
       "      <td>____________________</td>\n",
       "      <td>____________________</td>\n",
       "    </tr>\n",
       "    <tr>\n",
       "      <th>8</th>\n",
       "      <td>S.E. type</td>\n",
       "      <td>IID</td>\n",
       "      <td>Heteroskedasti.-rob.</td>\n",
       "      <td>by: f1</td>\n",
       "    </tr>\n",
       "    <tr>\n",
       "      <th>9</th>\n",
       "      <td>Observations</td>\n",
       "      <td>997</td>\n",
       "      <td>997</td>\n",
       "      <td>997</td>\n",
       "    </tr>\n",
       "    <tr>\n",
       "      <th>10</th>\n",
       "      <td>Squared Cor.</td>\n",
       "      <td>0.07687</td>\n",
       "      <td>0.07687</td>\n",
       "      <td>0.07687</td>\n",
       "    </tr>\n",
       "    <tr>\n",
       "      <th>11</th>\n",
       "      <td>Pseudo R2</td>\n",
       "      <td>0.02866</td>\n",
       "      <td>0.02866</td>\n",
       "      <td>0.02866</td>\n",
       "    </tr>\n",
       "    <tr>\n",
       "      <th>12</th>\n",
       "      <td>BIC</td>\n",
       "      <td>2,934.7</td>\n",
       "      <td>2,934.7</td>\n",
       "      <td>2,934.7</td>\n",
       "    </tr>\n",
       "  </tbody>\n",
       "</table>\n",
       "</div>"
      ],
      "text/plain": [
       "                  0                     1                     2  \\\n",
       "0   Dependent Var.:                     Y                     Y   \n",
       "1                                                                 \n",
       "2                X1  -0.006591 (0.040758)  -0.006591 (0.039125)   \n",
       "3                X2  -0.014924 (0.010994)  -0.014924 (0.010496)   \n",
       "4    Fixed-Effects:  --------------------  --------------------   \n",
       "5                f1                   Yes                   Yes   \n",
       "6                f2                   Yes                   Yes   \n",
       "7   _______________  ____________________  ____________________   \n",
       "8         S.E. type                   IID  Heteroskedasti.-rob.   \n",
       "9      Observations                   997                   997   \n",
       "10     Squared Cor.               0.07687               0.07687   \n",
       "11        Pseudo R2               0.02866               0.02866   \n",
       "12              BIC               2,934.7               2,934.7   \n",
       "\n",
       "                       3  \n",
       "0                      Y  \n",
       "1                         \n",
       "2   -0.006591 (0.034180)  \n",
       "3   -0.014924 (0.010135)  \n",
       "4   --------------------  \n",
       "5                    Yes  \n",
       "6                    Yes  \n",
       "7   ____________________  \n",
       "8                 by: f1  \n",
       "9                    997  \n",
       "10               0.07687  \n",
       "11               0.02866  \n",
       "12               2,934.7  "
      ]
     },
     "execution_count": 78,
     "metadata": {},
     "output_type": "execute_result"
    }
   ],
   "source": [
    "pd.DataFrame(fixest.etable(fit_r_iid, fit_r_hetero, fit_r_crv, digits = 6)).T"
   ]
  },
  {
   "cell_type": "code",
   "execution_count": null,
   "metadata": {},
   "outputs": [],
   "source": []
  }
 ],
 "metadata": {
  "kernelspec": {
   "display_name": "pyfixest-pKOwcWPT-py3.10",
   "language": "python",
   "name": "python3"
  },
  "language_info": {
   "codemirror_mode": {
    "name": "ipython",
    "version": 3
   },
   "file_extension": ".py",
   "mimetype": "text/x-python",
   "name": "python",
   "nbconvert_exporter": "python",
   "pygments_lexer": "ipython3",
   "version": "3.10.8"
  }
 },
 "nbformat": 4,
 "nbformat_minor": 2
}
