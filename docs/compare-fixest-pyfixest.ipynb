{
 "cells": [
  {
   "cell_type": "markdown",
   "metadata": {},
   "source": [
    "# Does `PyFixest` match `fixest`? "
   ]
  },
  {
   "cell_type": "markdown",
   "metadata": {},
   "source": [
    "This vignette compares estimation results from `fixest` with `pyfixest` via the `rpy2` package."
   ]
  },
  {
   "cell_type": "code",
   "execution_count": 1,
   "metadata": {},
   "outputs": [
    {
     "data": {
      "text/html": [
       "\n",
       "            <div id=\"nbVtNM\"></div>\n",
       "            <script type=\"text/javascript\" data-lets-plot-script=\"library\">\n",
       "                if(!window.letsPlotCallQueue) {\n",
       "                    window.letsPlotCallQueue = [];\n",
       "                }; \n",
       "                window.letsPlotCall = function(f) {\n",
       "                    window.letsPlotCallQueue.push(f);\n",
       "                };\n",
       "                (function() {\n",
       "                    var script = document.createElement(\"script\");\n",
       "                    script.type = \"text/javascript\";\n",
       "                    script.src = \"https://cdn.jsdelivr.net/gh/JetBrains/lets-plot@v4.3.3/js-package/distr/lets-plot.min.js\";\n",
       "                    script.onload = function() {\n",
       "                        window.letsPlotCall = function(f) {f();};\n",
       "                        window.letsPlotCallQueue.forEach(function(f) {f();});\n",
       "                        window.letsPlotCallQueue = [];\n",
       "                        \n",
       "                    };\n",
       "                    script.onerror = function(event) {\n",
       "                        window.letsPlotCall = function(f) {};    // noop\n",
       "                        window.letsPlotCallQueue = [];\n",
       "                        var div = document.createElement(\"div\");\n",
       "                        div.style.color = 'darkred';\n",
       "                        div.textContent = 'Error loading Lets-Plot JS';\n",
       "                        document.getElementById(\"nbVtNM\").appendChild(div);\n",
       "                    };\n",
       "                    var e = document.getElementById(\"nbVtNM\");\n",
       "                    e.appendChild(script);\n",
       "                })()\n",
       "            </script>\n",
       "            "
      ]
     },
     "metadata": {},
     "output_type": "display_data"
    },
    {
     "data": {
      "text/html": [
       "\n",
       "            <div id=\"o06g3E\"></div>\n",
       "            <script type=\"text/javascript\" data-lets-plot-script=\"library\">\n",
       "                if(!window.letsPlotCallQueue) {\n",
       "                    window.letsPlotCallQueue = [];\n",
       "                }; \n",
       "                window.letsPlotCall = function(f) {\n",
       "                    window.letsPlotCallQueue.push(f);\n",
       "                };\n",
       "                (function() {\n",
       "                    var script = document.createElement(\"script\");\n",
       "                    script.type = \"text/javascript\";\n",
       "                    script.src = \"https://cdn.jsdelivr.net/gh/JetBrains/lets-plot@v4.3.3/js-package/distr/lets-plot.min.js\";\n",
       "                    script.onload = function() {\n",
       "                        window.letsPlotCall = function(f) {f();};\n",
       "                        window.letsPlotCallQueue.forEach(function(f) {f();});\n",
       "                        window.letsPlotCallQueue = [];\n",
       "                        \n",
       "                    };\n",
       "                    script.onerror = function(event) {\n",
       "                        window.letsPlotCall = function(f) {};    // noop\n",
       "                        window.letsPlotCallQueue = [];\n",
       "                        var div = document.createElement(\"div\");\n",
       "                        div.style.color = 'darkred';\n",
       "                        div.textContent = 'Error loading Lets-Plot JS';\n",
       "                        document.getElementById(\"o06g3E\").appendChild(div);\n",
       "                    };\n",
       "                    var e = document.getElementById(\"o06g3E\");\n",
       "                    e.appendChild(script);\n",
       "                })()\n",
       "            </script>\n",
       "            "
      ]
     },
     "metadata": {},
     "output_type": "display_data"
    }
   ],
   "source": [
    "import pandas as pd\n",
    "import rpy2.robjects as ro\n",
    "from rpy2.robjects import pandas2ri\n",
    "from rpy2.robjects.packages import importr\n",
    "\n",
    "import pyfixest as pf\n",
    "\n",
    "# Activate pandas2ri\n",
    "pandas2ri.activate()\n",
    "\n",
    "# Import R packages\n",
    "fixest = importr(\"fixest\")\n",
    "stats = importr(\"stats\")\n",
    "\n",
    "# IPython magic commands for autoreloading\n",
    "%load_ext autoreload\n",
    "%autoreload 2\n",
    "\n",
    "# Get data using pyfixest\n",
    "data = pf.get_data(model=\"Feols\", N=1000)"
   ]
  },
  {
   "cell_type": "markdown",
   "metadata": {},
   "source": [
    "## Ordinary Least Squares (OLS)"
   ]
  },
  {
   "cell_type": "markdown",
   "metadata": {},
   "source": [
    "### IID Inference"
   ]
  },
  {
   "cell_type": "markdown",
   "metadata": {},
   "source": [
    "First, we estimate a model via `pyfixest. We compute \"iid\" standard errors. "
   ]
  },
  {
   "cell_type": "code",
   "execution_count": 2,
   "metadata": {},
   "outputs": [],
   "source": [
    "fit = pf.feols(\n",
    "    fml = \"Y ~ X1 + X2 | f1 + f2\",\n",
    "    data = data,\n",
    "    vcov = \"iid\"\n",
    ")"
   ]
  },
  {
   "cell_type": "markdown",
   "metadata": {},
   "source": [
    "We estimate the same model with weights: "
   ]
  },
  {
   "cell_type": "code",
   "execution_count": 3,
   "metadata": {},
   "outputs": [],
   "source": [
    "fit_weights = pf.feols(\n",
    "    fml = \"Y ~ X1 + X2 | f1 + f2\",\n",
    "    data = data,\n",
    "    weights = \"weights\",\n",
    "    vcov = \"iid\"\n",
    ")"
   ]
  },
  {
   "cell_type": "markdown",
   "metadata": {},
   "source": [
    "Via `r-fixest` and `rpy2`, we get"
   ]
  },
  {
   "cell_type": "code",
   "execution_count": 4,
   "metadata": {},
   "outputs": [
    {
     "name": "stderr",
     "output_type": "stream",
     "text": [
      "R[write to console]: NOTE: 3 observations removed because of NA values (LHS: 1, RHS: 1, Fixed-effects: 1).\n",
      "\n",
      "R[write to console]: NOTE: 3 observations removed because of NA values (LHS: 1, RHS: 1, Fixed-effects: 1).\n",
      "\n"
     ]
    }
   ],
   "source": [
    "r_fit = fixest.feols(\n",
    "    ro.Formula(\"Y ~ X1 + X2 | f1 + f2\"),\n",
    "    data=data,\n",
    "    vcov=\"iid\",\n",
    "    ssc=fixest.ssc(True, \"none\", True, \"min\", \"min\", False),\n",
    ")\n",
    "\n",
    "r_fit_weights = fixest.feols(\n",
    "    ro.Formula(\"Y ~ X1 + X2 | f1 + f2\"),\n",
    "    data=data,\n",
    "    weights=ro.Formula(\"~weights\"),\n",
    "    vcov=\"iid\",\n",
    "    ssc=fixest.ssc(True, \"none\", True, \"min\", \"min\", False),\n",
    ")"
   ]
  },
  {
   "cell_type": "markdown",
   "metadata": {},
   "source": [
    "Let's compare how close the covariance matrices are: "
   ]
  },
  {
   "cell_type": "code",
   "execution_count": 5,
   "metadata": {},
   "outputs": [
    {
     "data": {
      "text/plain": [
       "array([[-3.46944695e-18, -2.62580214e-20],\n",
       "       [-2.62580214e-20,  5.42101086e-20]])"
      ]
     },
     "execution_count": 5,
     "metadata": {},
     "output_type": "execute_result"
    }
   ],
   "source": [
    "fit_vcov = fit._vcov\n",
    "r_vcov = stats.vcov(r_fit)\n",
    "fit_vcov - r_vcov"
   ]
  },
  {
   "cell_type": "markdown",
   "metadata": {},
   "source": [
    "And for WLS: "
   ]
  },
  {
   "cell_type": "code",
   "execution_count": 6,
   "metadata": {},
   "outputs": [
    {
     "data": {
      "text/plain": [
       "array([[ 0.00000000e+00, -1.60936260e-20],\n",
       "       [-1.60936260e-20, -1.08420217e-19]])"
      ]
     },
     "execution_count": 6,
     "metadata": {},
     "output_type": "execute_result"
    }
   ],
   "source": [
    "fit_weights._vcov - stats.vcov(r_fit_weights)"
   ]
  },
  {
   "cell_type": "markdown",
   "metadata": {},
   "source": [
    "We conclude by comparing all estimation results via the `etable` function: "
   ]
  },
  {
   "cell_type": "code",
   "execution_count": 7,
   "metadata": {},
   "outputs": [
    {
     "data": {
      "text/html": [
       "<style type=\"text/css\">\n",
       "#T_28d12 tbody tr:nth-child(0) td {\n",
       "  background-color: #f0f0f0;\n",
       "}\n",
       "#T_28d12 tbody tr:nth-child(1) td {\n",
       "  border-bottom: 2px solid black;\n",
       "}\n",
       "#T_28d12 tbody tr:nth-child(3) td {\n",
       "  border-bottom: 1px solid black;\n",
       "}\n",
       "#T_28d12 tbody tr:nth-child(5) td {\n",
       "  border-bottom: 1px solid black;\n",
       "}\n",
       "#T_28d12 tbody tr:nth-child(8) td {\n",
       "  border-bottom: 1px solid black;\n",
       "}\n",
       "#T_28d12 tbody td {\n",
       "  background-color: #ffffff;\n",
       "}\n",
       "#T_28d12 tbody tr td:first-child {\n",
       "  background-color: #f0f0f0;\n",
       "  font-weight: bold;\n",
       "  text-align: left;\n",
       "}\n",
       "#T_28d12_row0_col0, #T_28d12_row0_col1, #T_28d12_row0_col2, #T_28d12_row1_col0, #T_28d12_row1_col1, #T_28d12_row1_col2, #T_28d12_row2_col0, #T_28d12_row2_col1, #T_28d12_row2_col2, #T_28d12_row3_col0, #T_28d12_row3_col1, #T_28d12_row3_col2, #T_28d12_row4_col0, #T_28d12_row4_col1, #T_28d12_row4_col2, #T_28d12_row5_col0, #T_28d12_row5_col1, #T_28d12_row5_col2, #T_28d12_row6_col0, #T_28d12_row6_col1, #T_28d12_row6_col2, #T_28d12_row7_col0, #T_28d12_row7_col1, #T_28d12_row7_col2 {\n",
       "  text-align: right;\n",
       "}\n",
       "</style>\n",
       "<table id=\"T_28d12\">\n",
       "  <caption>Significance levels: * p < 0.05, ** p < 0.01, *** p < 0.001. Format of coefficient cell:\n",
       "Coefficient (Std. Error)</caption>\n",
       "  <thead>\n",
       "    <tr>\n",
       "      <th id=\"T_28d12_level0_col0\" class=\"col_heading level0 col0\" ></th>\n",
       "      <th id=\"T_28d12_level0_col1\" class=\"col_heading level0 col1\" >est1</th>\n",
       "      <th id=\"T_28d12_level0_col2\" class=\"col_heading level0 col2\" >est2</th>\n",
       "    </tr>\n",
       "  </thead>\n",
       "  <tbody>\n",
       "    <tr>\n",
       "      <td id=\"T_28d12_row0_col0\" class=\"data row0 col0\" >depvar</td>\n",
       "      <td id=\"T_28d12_row0_col1\" class=\"data row0 col1\" >Y</td>\n",
       "      <td id=\"T_28d12_row0_col2\" class=\"data row0 col2\" >Y</td>\n",
       "    </tr>\n",
       "    <tr>\n",
       "      <td id=\"T_28d12_row1_col0\" class=\"data row1 col0\" >X1</td>\n",
       "      <td id=\"T_28d12_row1_col1\" class=\"data row1 col1\" >-0.924046*** (0.054373)</td>\n",
       "      <td id=\"T_28d12_row1_col2\" class=\"data row1 col2\" >-0.854266*** (0.054288)</td>\n",
       "    </tr>\n",
       "    <tr>\n",
       "      <td id=\"T_28d12_row2_col0\" class=\"data row2 col0\" >X2</td>\n",
       "      <td id=\"T_28d12_row2_col1\" class=\"data row2 col1\" >-0.174107*** (0.014412)</td>\n",
       "      <td id=\"T_28d12_row2_col2\" class=\"data row2 col2\" >-0.164147*** (0.014849)</td>\n",
       "    </tr>\n",
       "    <tr>\n",
       "      <td id=\"T_28d12_row3_col0\" class=\"data row3 col0\" >f1</td>\n",
       "      <td id=\"T_28d12_row3_col1\" class=\"data row3 col1\" >x</td>\n",
       "      <td id=\"T_28d12_row3_col2\" class=\"data row3 col2\" >x</td>\n",
       "    </tr>\n",
       "    <tr>\n",
       "      <td id=\"T_28d12_row4_col0\" class=\"data row4 col0\" >f2</td>\n",
       "      <td id=\"T_28d12_row4_col1\" class=\"data row4 col1\" >x</td>\n",
       "      <td id=\"T_28d12_row4_col2\" class=\"data row4 col2\" >x</td>\n",
       "    </tr>\n",
       "    <tr>\n",
       "      <td id=\"T_28d12_row5_col0\" class=\"data row5 col0\" >R2</td>\n",
       "      <td id=\"T_28d12_row5_col1\" class=\"data row5 col1\" >0.659044</td>\n",
       "      <td id=\"T_28d12_row5_col2\" class=\"data row5 col2\" >-</td>\n",
       "    </tr>\n",
       "    <tr>\n",
       "      <td id=\"T_28d12_row6_col0\" class=\"data row6 col0\" >S.E. type</td>\n",
       "      <td id=\"T_28d12_row6_col1\" class=\"data row6 col1\" >iid</td>\n",
       "      <td id=\"T_28d12_row6_col2\" class=\"data row6 col2\" >iid</td>\n",
       "    </tr>\n",
       "    <tr>\n",
       "      <td id=\"T_28d12_row7_col0\" class=\"data row7 col0\" >Observations</td>\n",
       "      <td id=\"T_28d12_row7_col1\" class=\"data row7 col1\" >997</td>\n",
       "      <td id=\"T_28d12_row7_col2\" class=\"data row7 col2\" >997</td>\n",
       "    </tr>\n",
       "  </tbody>\n",
       "</table>\n"
      ],
      "text/plain": [
       "<pandas.io.formats.style.Styler at 0x1e7bae29900>"
      ]
     },
     "execution_count": 7,
     "metadata": {},
     "output_type": "execute_result"
    }
   ],
   "source": [
    "pf.etable([fit, fit_weights], digits = 6)"
   ]
  },
  {
   "cell_type": "code",
   "execution_count": 8,
   "metadata": {},
   "outputs": [
    {
     "data": {
      "text/html": [
       "<div>\n",
       "<style scoped>\n",
       "    .dataframe tbody tr th:only-of-type {\n",
       "        vertical-align: middle;\n",
       "    }\n",
       "\n",
       "    .dataframe tbody tr th {\n",
       "        vertical-align: top;\n",
       "    }\n",
       "\n",
       "    .dataframe thead th {\n",
       "        text-align: right;\n",
       "    }\n",
       "</style>\n",
       "<table border=\"1\" class=\"dataframe\">\n",
       "  <thead>\n",
       "    <tr style=\"text-align: right;\">\n",
       "      <th></th>\n",
       "      <th>0</th>\n",
       "      <th>1</th>\n",
       "      <th>2</th>\n",
       "    </tr>\n",
       "  </thead>\n",
       "  <tbody>\n",
       "    <tr>\n",
       "      <th>0</th>\n",
       "      <td>Dependent Var.:</td>\n",
       "      <td>Y</td>\n",
       "      <td>Y</td>\n",
       "    </tr>\n",
       "    <tr>\n",
       "      <th>1</th>\n",
       "      <td></td>\n",
       "      <td></td>\n",
       "      <td></td>\n",
       "    </tr>\n",
       "    <tr>\n",
       "      <th>2</th>\n",
       "      <td>X1</td>\n",
       "      <td>-0.924046*** (0.054373)</td>\n",
       "      <td>-0.854266*** (0.054288)</td>\n",
       "    </tr>\n",
       "    <tr>\n",
       "      <th>3</th>\n",
       "      <td>X2</td>\n",
       "      <td>-0.174107*** (0.014412)</td>\n",
       "      <td>-0.164147*** (0.014849)</td>\n",
       "    </tr>\n",
       "    <tr>\n",
       "      <th>4</th>\n",
       "      <td>Fixed-Effects:</td>\n",
       "      <td>-----------------------</td>\n",
       "      <td>-----------------------</td>\n",
       "    </tr>\n",
       "    <tr>\n",
       "      <th>5</th>\n",
       "      <td>f1</td>\n",
       "      <td>Yes</td>\n",
       "      <td>Yes</td>\n",
       "    </tr>\n",
       "    <tr>\n",
       "      <th>6</th>\n",
       "      <td>f2</td>\n",
       "      <td>Yes</td>\n",
       "      <td>Yes</td>\n",
       "    </tr>\n",
       "    <tr>\n",
       "      <th>7</th>\n",
       "      <td>_______________</td>\n",
       "      <td>_______________________</td>\n",
       "      <td>_______________________</td>\n",
       "    </tr>\n",
       "    <tr>\n",
       "      <th>8</th>\n",
       "      <td>S.E. type</td>\n",
       "      <td>IID</td>\n",
       "      <td>IID</td>\n",
       "    </tr>\n",
       "    <tr>\n",
       "      <th>9</th>\n",
       "      <td>Observations</td>\n",
       "      <td>997</td>\n",
       "      <td>997</td>\n",
       "    </tr>\n",
       "    <tr>\n",
       "      <th>10</th>\n",
       "      <td>R2</td>\n",
       "      <td>0.65904</td>\n",
       "      <td>0.65208</td>\n",
       "    </tr>\n",
       "    <tr>\n",
       "      <th>11</th>\n",
       "      <td>Within R2</td>\n",
       "      <td>0.30263</td>\n",
       "      <td>0.26968</td>\n",
       "    </tr>\n",
       "  </tbody>\n",
       "</table>\n",
       "</div>"
      ],
      "text/plain": [
       "                  0                        1                        2\n",
       "0   Dependent Var.:                        Y                        Y\n",
       "1                                                                    \n",
       "2                X1  -0.924046*** (0.054373)  -0.854266*** (0.054288)\n",
       "3                X2  -0.174107*** (0.014412)  -0.164147*** (0.014849)\n",
       "4    Fixed-Effects:  -----------------------  -----------------------\n",
       "5                f1                      Yes                      Yes\n",
       "6                f2                      Yes                      Yes\n",
       "7   _______________  _______________________  _______________________\n",
       "8         S.E. type                      IID                      IID\n",
       "9      Observations                      997                      997\n",
       "10               R2                  0.65904                  0.65208\n",
       "11        Within R2                  0.30263                  0.26968"
      ]
     },
     "execution_count": 8,
     "metadata": {},
     "output_type": "execute_result"
    }
   ],
   "source": [
    "pd.DataFrame(fixest.etable(r_fit, r_fit_weights, digits = 6)).T"
   ]
  },
  {
   "cell_type": "markdown",
   "metadata": {},
   "source": [
    "### Heteroskedastic Errors"
   ]
  },
  {
   "cell_type": "markdown",
   "metadata": {},
   "source": [
    "We repeat the same exercise with heteroskedastic (HC1) errors: "
   ]
  },
  {
   "cell_type": "code",
   "execution_count": 9,
   "metadata": {},
   "outputs": [],
   "source": [
    "fit = pf.feols(\n",
    "    fml = \"Y ~ X1 + X2 | f1 + f2\", data = data,\n",
    "    vcov = \"hetero\"\n",
    ")\n",
    "fit_weights = pf.feols(\n",
    "    fml = \"Y ~ X1 + X2 | f1 + f2\",\n",
    "    data = data,\n",
    "    vcov = \"hetero\",\n",
    "    weights = \"weights\"\n",
    ")"
   ]
  },
  {
   "cell_type": "code",
   "execution_count": 10,
   "metadata": {},
   "outputs": [
    {
     "name": "stderr",
     "output_type": "stream",
     "text": [
      "R[write to console]: NOTE: 3 observations removed because of NA values (LHS: 1, RHS: 1, Fixed-effects: 1).\n",
      "\n",
      "R[write to console]: NOTE: 3 observations removed because of NA values (LHS: 1, RHS: 1, Fixed-effects: 1).\n",
      "\n"
     ]
    }
   ],
   "source": [
    "fit_r = fixest.feols(\n",
    "    ro.Formula(\"Y ~ X1 + X2 | f1 + f2\"),\n",
    "    data=data,\n",
    "    vcov=\"hetero\",\n",
    "    ssc=fixest.ssc(True, \"none\", True, \"min\", \"min\", False),\n",
    ")\n",
    "\n",
    "fit_weights_r = fixest.feols(\n",
    "    ro.Formula(\"Y ~ X1 + X2 | f1 + f2\"),\n",
    "    data=data,\n",
    "    weights=ro.Formula(\"~weights\"),\n",
    "    vcov=\"hetero\",\n",
    "    ssc=fixest.ssc(True, \"none\", True, \"min\", \"min\", False),\n",
    ")"
   ]
  },
  {
   "cell_type": "markdown",
   "metadata": {},
   "source": [
    "As before, we compare the variance covariance matrices:"
   ]
  },
  {
   "cell_type": "code",
   "execution_count": 11,
   "metadata": {},
   "outputs": [
    {
     "data": {
      "text/plain": [
       "array([[ 2.61539922e-14,  6.55185745e-14],\n",
       "       [ 6.55185745e-14, -8.23562681e-15]])"
      ]
     },
     "execution_count": 11,
     "metadata": {},
     "output_type": "execute_result"
    }
   ],
   "source": [
    "fit._vcov - stats.vcov(fit_r)"
   ]
  },
  {
   "cell_type": "code",
   "execution_count": 12,
   "metadata": {},
   "outputs": [
    {
     "data": {
      "text/plain": [
       "array([[7.61158497e-13, 3.29128177e-13],\n",
       "       [3.29128177e-13, 9.55965450e-14]])"
      ]
     },
     "execution_count": 12,
     "metadata": {},
     "output_type": "execute_result"
    }
   ],
   "source": [
    "fit_weights._vcov - stats.vcov(fit_weights_r)"
   ]
  },
  {
   "cell_type": "code",
   "execution_count": 13,
   "metadata": {},
   "outputs": [
    {
     "data": {
      "text/html": [
       "<style type=\"text/css\">\n",
       "#T_b9144 tbody tr:nth-child(0) td {\n",
       "  background-color: #f0f0f0;\n",
       "}\n",
       "#T_b9144 tbody tr:nth-child(1) td {\n",
       "  border-bottom: 2px solid black;\n",
       "}\n",
       "#T_b9144 tbody tr:nth-child(3) td {\n",
       "  border-bottom: 1px solid black;\n",
       "}\n",
       "#T_b9144 tbody tr:nth-child(5) td {\n",
       "  border-bottom: 1px solid black;\n",
       "}\n",
       "#T_b9144 tbody tr:nth-child(8) td {\n",
       "  border-bottom: 1px solid black;\n",
       "}\n",
       "#T_b9144 tbody td {\n",
       "  background-color: #ffffff;\n",
       "}\n",
       "#T_b9144 tbody tr td:first-child {\n",
       "  background-color: #f0f0f0;\n",
       "  font-weight: bold;\n",
       "  text-align: left;\n",
       "}\n",
       "#T_b9144_row0_col0, #T_b9144_row0_col1, #T_b9144_row0_col2, #T_b9144_row1_col0, #T_b9144_row1_col1, #T_b9144_row1_col2, #T_b9144_row2_col0, #T_b9144_row2_col1, #T_b9144_row2_col2, #T_b9144_row3_col0, #T_b9144_row3_col1, #T_b9144_row3_col2, #T_b9144_row4_col0, #T_b9144_row4_col1, #T_b9144_row4_col2, #T_b9144_row5_col0, #T_b9144_row5_col1, #T_b9144_row5_col2, #T_b9144_row6_col0, #T_b9144_row6_col1, #T_b9144_row6_col2, #T_b9144_row7_col0, #T_b9144_row7_col1, #T_b9144_row7_col2 {\n",
       "  text-align: right;\n",
       "}\n",
       "</style>\n",
       "<table id=\"T_b9144\">\n",
       "  <caption>Significance levels: * p < 0.05, ** p < 0.01, *** p < 0.001. Format of coefficient cell:\n",
       "Coefficient (Std. Error)</caption>\n",
       "  <thead>\n",
       "    <tr>\n",
       "      <th id=\"T_b9144_level0_col0\" class=\"col_heading level0 col0\" ></th>\n",
       "      <th id=\"T_b9144_level0_col1\" class=\"col_heading level0 col1\" >est1</th>\n",
       "      <th id=\"T_b9144_level0_col2\" class=\"col_heading level0 col2\" >est2</th>\n",
       "    </tr>\n",
       "  </thead>\n",
       "  <tbody>\n",
       "    <tr>\n",
       "      <td id=\"T_b9144_row0_col0\" class=\"data row0 col0\" >depvar</td>\n",
       "      <td id=\"T_b9144_row0_col1\" class=\"data row0 col1\" >Y</td>\n",
       "      <td id=\"T_b9144_row0_col2\" class=\"data row0 col2\" >Y</td>\n",
       "    </tr>\n",
       "    <tr>\n",
       "      <td id=\"T_b9144_row1_col0\" class=\"data row1 col0\" >X1</td>\n",
       "      <td id=\"T_b9144_row1_col1\" class=\"data row1 col1\" >-0.924046*** (0.054704)</td>\n",
       "      <td id=\"T_b9144_row1_col2\" class=\"data row1 col2\" >-0.854266*** (0.063090)</td>\n",
       "    </tr>\n",
       "    <tr>\n",
       "      <td id=\"T_b9144_row2_col0\" class=\"data row2 col0\" >X2</td>\n",
       "      <td id=\"T_b9144_row2_col1\" class=\"data row2 col1\" >-0.174107*** (0.015009)</td>\n",
       "      <td id=\"T_b9144_row2_col2\" class=\"data row2 col2\" >-0.164147*** (0.016769)</td>\n",
       "    </tr>\n",
       "    <tr>\n",
       "      <td id=\"T_b9144_row3_col0\" class=\"data row3 col0\" >f1</td>\n",
       "      <td id=\"T_b9144_row3_col1\" class=\"data row3 col1\" >x</td>\n",
       "      <td id=\"T_b9144_row3_col2\" class=\"data row3 col2\" >x</td>\n",
       "    </tr>\n",
       "    <tr>\n",
       "      <td id=\"T_b9144_row4_col0\" class=\"data row4 col0\" >f2</td>\n",
       "      <td id=\"T_b9144_row4_col1\" class=\"data row4 col1\" >x</td>\n",
       "      <td id=\"T_b9144_row4_col2\" class=\"data row4 col2\" >x</td>\n",
       "    </tr>\n",
       "    <tr>\n",
       "      <td id=\"T_b9144_row5_col0\" class=\"data row5 col0\" >R2</td>\n",
       "      <td id=\"T_b9144_row5_col1\" class=\"data row5 col1\" >0.659044</td>\n",
       "      <td id=\"T_b9144_row5_col2\" class=\"data row5 col2\" >-</td>\n",
       "    </tr>\n",
       "    <tr>\n",
       "      <td id=\"T_b9144_row6_col0\" class=\"data row6 col0\" >S.E. type</td>\n",
       "      <td id=\"T_b9144_row6_col1\" class=\"data row6 col1\" >hetero</td>\n",
       "      <td id=\"T_b9144_row6_col2\" class=\"data row6 col2\" >hetero</td>\n",
       "    </tr>\n",
       "    <tr>\n",
       "      <td id=\"T_b9144_row7_col0\" class=\"data row7 col0\" >Observations</td>\n",
       "      <td id=\"T_b9144_row7_col1\" class=\"data row7 col1\" >997</td>\n",
       "      <td id=\"T_b9144_row7_col2\" class=\"data row7 col2\" >997</td>\n",
       "    </tr>\n",
       "  </tbody>\n",
       "</table>\n"
      ],
      "text/plain": [
       "<pandas.io.formats.style.Styler at 0x1e7bc70c3d0>"
      ]
     },
     "execution_count": 13,
     "metadata": {},
     "output_type": "execute_result"
    }
   ],
   "source": [
    "pf.etable([fit, fit_weights], digits = 6)"
   ]
  },
  {
   "cell_type": "code",
   "execution_count": 14,
   "metadata": {},
   "outputs": [
    {
     "data": {
      "text/html": [
       "<div>\n",
       "<style scoped>\n",
       "    .dataframe tbody tr th:only-of-type {\n",
       "        vertical-align: middle;\n",
       "    }\n",
       "\n",
       "    .dataframe tbody tr th {\n",
       "        vertical-align: top;\n",
       "    }\n",
       "\n",
       "    .dataframe thead th {\n",
       "        text-align: right;\n",
       "    }\n",
       "</style>\n",
       "<table border=\"1\" class=\"dataframe\">\n",
       "  <thead>\n",
       "    <tr style=\"text-align: right;\">\n",
       "      <th></th>\n",
       "      <th>0</th>\n",
       "      <th>1</th>\n",
       "      <th>2</th>\n",
       "    </tr>\n",
       "  </thead>\n",
       "  <tbody>\n",
       "    <tr>\n",
       "      <th>0</th>\n",
       "      <td>Dependent Var.:</td>\n",
       "      <td>Y</td>\n",
       "      <td>Y</td>\n",
       "    </tr>\n",
       "    <tr>\n",
       "      <th>1</th>\n",
       "      <td></td>\n",
       "      <td></td>\n",
       "      <td></td>\n",
       "    </tr>\n",
       "    <tr>\n",
       "      <th>2</th>\n",
       "      <td>X1</td>\n",
       "      <td>-0.924046*** (0.054704)</td>\n",
       "      <td>-0.854266*** (0.063090)</td>\n",
       "    </tr>\n",
       "    <tr>\n",
       "      <th>3</th>\n",
       "      <td>X2</td>\n",
       "      <td>-0.174107*** (0.015009)</td>\n",
       "      <td>-0.164147*** (0.016769)</td>\n",
       "    </tr>\n",
       "    <tr>\n",
       "      <th>4</th>\n",
       "      <td>Fixed-Effects:</td>\n",
       "      <td>-----------------------</td>\n",
       "      <td>-----------------------</td>\n",
       "    </tr>\n",
       "    <tr>\n",
       "      <th>5</th>\n",
       "      <td>f1</td>\n",
       "      <td>Yes</td>\n",
       "      <td>Yes</td>\n",
       "    </tr>\n",
       "    <tr>\n",
       "      <th>6</th>\n",
       "      <td>f2</td>\n",
       "      <td>Yes</td>\n",
       "      <td>Yes</td>\n",
       "    </tr>\n",
       "    <tr>\n",
       "      <th>7</th>\n",
       "      <td>_______________</td>\n",
       "      <td>_______________________</td>\n",
       "      <td>_______________________</td>\n",
       "    </tr>\n",
       "    <tr>\n",
       "      <th>8</th>\n",
       "      <td>S.E. type</td>\n",
       "      <td>Heteroskedasticity-rob.</td>\n",
       "      <td>Heteroskedasticity-rob.</td>\n",
       "    </tr>\n",
       "    <tr>\n",
       "      <th>9</th>\n",
       "      <td>Observations</td>\n",
       "      <td>997</td>\n",
       "      <td>997</td>\n",
       "    </tr>\n",
       "    <tr>\n",
       "      <th>10</th>\n",
       "      <td>R2</td>\n",
       "      <td>0.65904</td>\n",
       "      <td>0.65208</td>\n",
       "    </tr>\n",
       "    <tr>\n",
       "      <th>11</th>\n",
       "      <td>Within R2</td>\n",
       "      <td>0.30263</td>\n",
       "      <td>0.26968</td>\n",
       "    </tr>\n",
       "  </tbody>\n",
       "</table>\n",
       "</div>"
      ],
      "text/plain": [
       "                  0                        1                        2\n",
       "0   Dependent Var.:                        Y                        Y\n",
       "1                                                                    \n",
       "2                X1  -0.924046*** (0.054704)  -0.854266*** (0.063090)\n",
       "3                X2  -0.174107*** (0.015009)  -0.164147*** (0.016769)\n",
       "4    Fixed-Effects:  -----------------------  -----------------------\n",
       "5                f1                      Yes                      Yes\n",
       "6                f2                      Yes                      Yes\n",
       "7   _______________  _______________________  _______________________\n",
       "8         S.E. type  Heteroskedasticity-rob.  Heteroskedasticity-rob.\n",
       "9      Observations                      997                      997\n",
       "10               R2                  0.65904                  0.65208\n",
       "11        Within R2                  0.30263                  0.26968"
      ]
     },
     "execution_count": 14,
     "metadata": {},
     "output_type": "execute_result"
    }
   ],
   "source": [
    "pd.DataFrame(fixest.etable(fit_r, fit_weights_r, digits = 6)).T"
   ]
  },
  {
   "cell_type": "markdown",
   "metadata": {},
   "source": [
    "### Cluster-Robust Errors"
   ]
  },
  {
   "cell_type": "markdown",
   "metadata": {},
   "source": [
    "We conclude with cluster robust errors. "
   ]
  },
  {
   "cell_type": "code",
   "execution_count": 15,
   "metadata": {},
   "outputs": [
    {
     "name": "stderr",
     "output_type": "stream",
     "text": [
      "R[write to console]: NOTE: 3 observations removed because of NA values (LHS: 1, RHS: 1, Fixed-effects: 1).\n",
      "\n",
      "R[write to console]: NOTE: 3 observations removed because of NA values (LHS: 1, RHS: 1, Fixed-effects: 1).\n",
      "\n"
     ]
    }
   ],
   "source": [
    "fit = pf.feols(\n",
    "    fml = \"Y ~ X1 + X2 | f1 + f2\",\n",
    "    data = data,\n",
    "    vcov = {\"CRV1\": \"f1\"}\n",
    ")\n",
    "fit_weights = pf.feols(\n",
    "    fml = \"Y ~ X1 + X2 | f1 + f2\",\n",
    "    data = data,\n",
    "    vcov = {\"CRV1\":\"f1\"},\n",
    "    weights = \"weights\"\n",
    ")\n",
    "\n",
    "fit_r = fixest.feols(\n",
    "    ro.Formula(\"Y ~ X1 + X2 | f1 + f2\"),\n",
    "    data=data,\n",
    "    vcov= ro.Formula(\"~f1\"),\n",
    "    ssc=fixest.ssc(True, \"none\", True, \"min\", \"min\", False),\n",
    ")\n",
    "fit_r_weights = fixest.feols(\n",
    "    ro.Formula(\"Y ~ X1 + X2 | f1 + f2\"),\n",
    "    data=data,\n",
    "    weights=ro.Formula(\"~weights\"),\n",
    "    vcov= ro.Formula(\"~f1\"),\n",
    "    ssc=fixest.ssc(True, \"none\", True, \"min\", \"min\", False),\n",
    ")"
   ]
  },
  {
   "cell_type": "code",
   "execution_count": 16,
   "metadata": {},
   "outputs": [
    {
     "data": {
      "text/plain": [
       "array([[-8.45259193e-13,  8.24642309e-15],\n",
       "       [ 8.24642140e-15, -9.52734528e-15]])"
      ]
     },
     "execution_count": 16,
     "metadata": {},
     "output_type": "execute_result"
    }
   ],
   "source": [
    "fit._vcov - stats.vcov(fit_r)"
   ]
  },
  {
   "cell_type": "code",
   "execution_count": 17,
   "metadata": {},
   "outputs": [
    {
     "data": {
      "text/plain": [
       "array([[-2.75502512e-04,  7.09991484e-05],\n",
       "       [ 7.09991484e-05,  2.83672348e-06]])"
      ]
     },
     "execution_count": 17,
     "metadata": {},
     "output_type": "execute_result"
    }
   ],
   "source": [
    "fit_weights._vcov - stats.vcov(fit_weights_r)"
   ]
  },
  {
   "cell_type": "code",
   "execution_count": 18,
   "metadata": {},
   "outputs": [
    {
     "data": {
      "text/html": [
       "<style type=\"text/css\">\n",
       "#T_87f65 tbody tr:nth-child(0) td {\n",
       "  background-color: #f0f0f0;\n",
       "}\n",
       "#T_87f65 tbody tr:nth-child(1) td {\n",
       "  border-bottom: 2px solid black;\n",
       "}\n",
       "#T_87f65 tbody tr:nth-child(3) td {\n",
       "  border-bottom: 1px solid black;\n",
       "}\n",
       "#T_87f65 tbody tr:nth-child(5) td {\n",
       "  border-bottom: 1px solid black;\n",
       "}\n",
       "#T_87f65 tbody tr:nth-child(8) td {\n",
       "  border-bottom: 1px solid black;\n",
       "}\n",
       "#T_87f65 tbody td {\n",
       "  background-color: #ffffff;\n",
       "}\n",
       "#T_87f65 tbody tr td:first-child {\n",
       "  background-color: #f0f0f0;\n",
       "  font-weight: bold;\n",
       "  text-align: left;\n",
       "}\n",
       "#T_87f65_row0_col0, #T_87f65_row0_col1, #T_87f65_row0_col2, #T_87f65_row1_col0, #T_87f65_row1_col1, #T_87f65_row1_col2, #T_87f65_row2_col0, #T_87f65_row2_col1, #T_87f65_row2_col2, #T_87f65_row3_col0, #T_87f65_row3_col1, #T_87f65_row3_col2, #T_87f65_row4_col0, #T_87f65_row4_col1, #T_87f65_row4_col2, #T_87f65_row5_col0, #T_87f65_row5_col1, #T_87f65_row5_col2, #T_87f65_row6_col0, #T_87f65_row6_col1, #T_87f65_row6_col2, #T_87f65_row7_col0, #T_87f65_row7_col1, #T_87f65_row7_col2 {\n",
       "  text-align: right;\n",
       "}\n",
       "</style>\n",
       "<table id=\"T_87f65\">\n",
       "  <caption>Significance levels: * p < 0.05, ** p < 0.01, *** p < 0.001. Format of coefficient cell:\n",
       "Coefficient (Std. Error)</caption>\n",
       "  <thead>\n",
       "    <tr>\n",
       "      <th id=\"T_87f65_level0_col0\" class=\"col_heading level0 col0\" ></th>\n",
       "      <th id=\"T_87f65_level0_col1\" class=\"col_heading level0 col1\" >est1</th>\n",
       "      <th id=\"T_87f65_level0_col2\" class=\"col_heading level0 col2\" >est2</th>\n",
       "    </tr>\n",
       "  </thead>\n",
       "  <tbody>\n",
       "    <tr>\n",
       "      <td id=\"T_87f65_row0_col0\" class=\"data row0 col0\" >depvar</td>\n",
       "      <td id=\"T_87f65_row0_col1\" class=\"data row0 col1\" >Y</td>\n",
       "      <td id=\"T_87f65_row0_col2\" class=\"data row0 col2\" >Y</td>\n",
       "    </tr>\n",
       "    <tr>\n",
       "      <td id=\"T_87f65_row1_col0\" class=\"data row1 col0\" >X1</td>\n",
       "      <td id=\"T_87f65_row1_col1\" class=\"data row1 col1\" >-0.924046*** (0.059910)</td>\n",
       "      <td id=\"T_87f65_row1_col2\" class=\"data row1 col2\" >-0.854266*** (0.060868)</td>\n",
       "    </tr>\n",
       "    <tr>\n",
       "      <td id=\"T_87f65_row2_col0\" class=\"data row2 col0\" >X2</td>\n",
       "      <td id=\"T_87f65_row2_col1\" class=\"data row2 col1\" >-0.174107*** (0.014363)</td>\n",
       "      <td id=\"T_87f65_row2_col2\" class=\"data row2 col2\" >-0.164147*** (0.016854)</td>\n",
       "    </tr>\n",
       "    <tr>\n",
       "      <td id=\"T_87f65_row3_col0\" class=\"data row3 col0\" >f1</td>\n",
       "      <td id=\"T_87f65_row3_col1\" class=\"data row3 col1\" >x</td>\n",
       "      <td id=\"T_87f65_row3_col2\" class=\"data row3 col2\" >x</td>\n",
       "    </tr>\n",
       "    <tr>\n",
       "      <td id=\"T_87f65_row4_col0\" class=\"data row4 col0\" >f2</td>\n",
       "      <td id=\"T_87f65_row4_col1\" class=\"data row4 col1\" >x</td>\n",
       "      <td id=\"T_87f65_row4_col2\" class=\"data row4 col2\" >x</td>\n",
       "    </tr>\n",
       "    <tr>\n",
       "      <td id=\"T_87f65_row5_col0\" class=\"data row5 col0\" >R2</td>\n",
       "      <td id=\"T_87f65_row5_col1\" class=\"data row5 col1\" >0.659044</td>\n",
       "      <td id=\"T_87f65_row5_col2\" class=\"data row5 col2\" >-</td>\n",
       "    </tr>\n",
       "    <tr>\n",
       "      <td id=\"T_87f65_row6_col0\" class=\"data row6 col0\" >S.E. type</td>\n",
       "      <td id=\"T_87f65_row6_col1\" class=\"data row6 col1\" >by: f1</td>\n",
       "      <td id=\"T_87f65_row6_col2\" class=\"data row6 col2\" >by: f1</td>\n",
       "    </tr>\n",
       "    <tr>\n",
       "      <td id=\"T_87f65_row7_col0\" class=\"data row7 col0\" >Observations</td>\n",
       "      <td id=\"T_87f65_row7_col1\" class=\"data row7 col1\" >997</td>\n",
       "      <td id=\"T_87f65_row7_col2\" class=\"data row7 col2\" >997</td>\n",
       "    </tr>\n",
       "  </tbody>\n",
       "</table>\n"
      ],
      "text/plain": [
       "<pandas.io.formats.style.Styler at 0x1e7bc70f310>"
      ]
     },
     "execution_count": 18,
     "metadata": {},
     "output_type": "execute_result"
    }
   ],
   "source": [
    "pf.etable([fit, fit_weights], digits = 6)"
   ]
  },
  {
   "cell_type": "code",
   "execution_count": 19,
   "metadata": {},
   "outputs": [
    {
     "data": {
      "text/html": [
       "<div>\n",
       "<style scoped>\n",
       "    .dataframe tbody tr th:only-of-type {\n",
       "        vertical-align: middle;\n",
       "    }\n",
       "\n",
       "    .dataframe tbody tr th {\n",
       "        vertical-align: top;\n",
       "    }\n",
       "\n",
       "    .dataframe thead th {\n",
       "        text-align: right;\n",
       "    }\n",
       "</style>\n",
       "<table border=\"1\" class=\"dataframe\">\n",
       "  <thead>\n",
       "    <tr style=\"text-align: right;\">\n",
       "      <th></th>\n",
       "      <th>0</th>\n",
       "      <th>1</th>\n",
       "      <th>2</th>\n",
       "    </tr>\n",
       "  </thead>\n",
       "  <tbody>\n",
       "    <tr>\n",
       "      <th>0</th>\n",
       "      <td>Dependent Var.:</td>\n",
       "      <td>Y</td>\n",
       "      <td>Y</td>\n",
       "    </tr>\n",
       "    <tr>\n",
       "      <th>1</th>\n",
       "      <td></td>\n",
       "      <td></td>\n",
       "      <td></td>\n",
       "    </tr>\n",
       "    <tr>\n",
       "      <th>2</th>\n",
       "      <td>X1</td>\n",
       "      <td>-0.924046*** (0.059910)</td>\n",
       "      <td>-0.854266*** (0.060868)</td>\n",
       "    </tr>\n",
       "    <tr>\n",
       "      <th>3</th>\n",
       "      <td>X2</td>\n",
       "      <td>-0.174107*** (0.014363)</td>\n",
       "      <td>-0.164147*** (0.016854)</td>\n",
       "    </tr>\n",
       "    <tr>\n",
       "      <th>4</th>\n",
       "      <td>Fixed-Effects:</td>\n",
       "      <td>-----------------------</td>\n",
       "      <td>-----------------------</td>\n",
       "    </tr>\n",
       "    <tr>\n",
       "      <th>5</th>\n",
       "      <td>f1</td>\n",
       "      <td>Yes</td>\n",
       "      <td>Yes</td>\n",
       "    </tr>\n",
       "    <tr>\n",
       "      <th>6</th>\n",
       "      <td>f2</td>\n",
       "      <td>Yes</td>\n",
       "      <td>Yes</td>\n",
       "    </tr>\n",
       "    <tr>\n",
       "      <th>7</th>\n",
       "      <td>_______________</td>\n",
       "      <td>_______________________</td>\n",
       "      <td>_______________________</td>\n",
       "    </tr>\n",
       "    <tr>\n",
       "      <th>8</th>\n",
       "      <td>S.E.: Clustered</td>\n",
       "      <td>by: f1</td>\n",
       "      <td>by: f1</td>\n",
       "    </tr>\n",
       "    <tr>\n",
       "      <th>9</th>\n",
       "      <td>Observations</td>\n",
       "      <td>997</td>\n",
       "      <td>997</td>\n",
       "    </tr>\n",
       "    <tr>\n",
       "      <th>10</th>\n",
       "      <td>R2</td>\n",
       "      <td>0.65904</td>\n",
       "      <td>0.65208</td>\n",
       "    </tr>\n",
       "    <tr>\n",
       "      <th>11</th>\n",
       "      <td>Within R2</td>\n",
       "      <td>0.30263</td>\n",
       "      <td>0.26968</td>\n",
       "    </tr>\n",
       "  </tbody>\n",
       "</table>\n",
       "</div>"
      ],
      "text/plain": [
       "                  0                        1                        2\n",
       "0   Dependent Var.:                        Y                        Y\n",
       "1                                                                    \n",
       "2                X1  -0.924046*** (0.059910)  -0.854266*** (0.060868)\n",
       "3                X2  -0.174107*** (0.014363)  -0.164147*** (0.016854)\n",
       "4    Fixed-Effects:  -----------------------  -----------------------\n",
       "5                f1                      Yes                      Yes\n",
       "6                f2                      Yes                      Yes\n",
       "7   _______________  _______________________  _______________________\n",
       "8   S.E.: Clustered                   by: f1                   by: f1\n",
       "9      Observations                      997                      997\n",
       "10               R2                  0.65904                  0.65208\n",
       "11        Within R2                  0.30263                  0.26968"
      ]
     },
     "execution_count": 19,
     "metadata": {},
     "output_type": "execute_result"
    }
   ],
   "source": [
    "pd.DataFrame(fixest.etable(fit_r, fit_r_weights, digits = 6)).T"
   ]
  },
  {
   "cell_type": "markdown",
   "metadata": {},
   "source": [
    "## Poisson Regression"
   ]
  },
  {
   "cell_type": "code",
   "execution_count": 20,
   "metadata": {},
   "outputs": [],
   "source": [
    "data = pf.get_data(model = \"Fepois\")"
   ]
  },
  {
   "cell_type": "code",
   "execution_count": 21,
   "metadata": {},
   "outputs": [
    {
     "name": "stderr",
     "output_type": "stream",
     "text": [
      "R[write to console]: NOTE: 3 observations removed because of NA values (LHS: 1, RHS: 1, Fixed-effects: 1).\n",
      "\n",
      "R[write to console]: NOTE: 3 observations removed because of NA values (LHS: 1, RHS: 1, Fixed-effects: 1).\n",
      "\n",
      "R[write to console]: NOTE: 3 observations removed because of NA values (LHS: 1, RHS: 1, Fixed-effects: 1).\n",
      "\n"
     ]
    }
   ],
   "source": [
    "fit_iid = pf.fepois(\n",
    "    fml = \"Y ~ X1 + X2 | f1 + f2\",\n",
    "    data = data,\n",
    "    vcov = \"iid\",\n",
    "    iwls_tol = 1e-10\n",
    ")\n",
    "fit_hetero = pf.fepois(\n",
    "    fml = \"Y ~ X1 + X2 | f1 + f2\", data = data,\n",
    "    vcov = \"hetero\",\n",
    "    iwls_tol = 1e-10\n",
    ")\n",
    "fit_crv = pf.fepois(\n",
    "    fml = \"Y ~ X1 + X2 | f1 + f2\",\n",
    "    data = data,\n",
    "    vcov = {\"CRV1\":\"f1\"},\n",
    "    iwls_tol = 1e-10\n",
    ")\n",
    "\n",
    "fit_r_iid = fixest.fepois(\n",
    "    ro.Formula(\"Y ~ X1 + X2 | f1 + f2\"),\n",
    "    data=data,\n",
    "    vcov=\"iid\",\n",
    "    ssc=fixest.ssc(True, \"none\", True, \"min\", \"min\", False),\n",
    ")\n",
    "\n",
    "fit_r_hetero = fixest.fepois(\n",
    "    ro.Formula(\"Y ~ X1 + X2 | f1 + f2\"),\n",
    "    data=data,\n",
    "    vcov=\"hetero\",\n",
    "    ssc=fixest.ssc(True, \"none\", True, \"min\", \"min\", False),\n",
    ")\n",
    "\n",
    "fit_r_crv = fixest.fepois(\n",
    "    ro.Formula(\"Y ~ X1 + X2 | f1 + f2\"),\n",
    "    data=data,\n",
    "    vcov=ro.Formula(\"~f1\"),\n",
    "    ssc=fixest.ssc(True, \"none\", True, \"min\", \"min\", False),\n",
    ")"
   ]
  },
  {
   "cell_type": "code",
   "execution_count": 22,
   "metadata": {},
   "outputs": [
    {
     "data": {
      "text/plain": [
       "array([[ 1.20791284e-08, -6.55604931e-10],\n",
       "       [-6.55604931e-10,  1.69958097e-09]])"
      ]
     },
     "execution_count": 22,
     "metadata": {},
     "output_type": "execute_result"
    }
   ],
   "source": [
    "fit_iid._vcov - stats.vcov(fit_r_iid)"
   ]
  },
  {
   "cell_type": "code",
   "execution_count": 23,
   "metadata": {},
   "outputs": [
    {
     "data": {
      "text/plain": [
       "array([[ 2.17883089e-08, -7.37971037e-10],\n",
       "       [-7.37971037e-10,  3.07279240e-09]])"
      ]
     },
     "execution_count": 23,
     "metadata": {},
     "output_type": "execute_result"
    }
   ],
   "source": [
    "fit_hetero._vcov - stats.vcov(fit_r_hetero)"
   ]
  },
  {
   "cell_type": "code",
   "execution_count": 24,
   "metadata": {},
   "outputs": [
    {
     "data": {
      "text/plain": [
       "array([[ 1.53194424e-08, -1.16909821e-10],\n",
       "       [-1.16909821e-10,  3.07270399e-09]])"
      ]
     },
     "execution_count": 24,
     "metadata": {},
     "output_type": "execute_result"
    }
   ],
   "source": [
    "fit_crv._vcov - stats.vcov(fit_r_crv)"
   ]
  },
  {
   "cell_type": "code",
   "execution_count": 25,
   "metadata": {},
   "outputs": [
    {
     "data": {
      "text/html": [
       "<style type=\"text/css\">\n",
       "#T_485d1 tbody tr:nth-child(0) td {\n",
       "  background-color: #f0f0f0;\n",
       "}\n",
       "#T_485d1 tbody tr:nth-child(1) td {\n",
       "  border-bottom: 2px solid black;\n",
       "}\n",
       "#T_485d1 tbody tr:nth-child(3) td {\n",
       "  border-bottom: 1px solid black;\n",
       "}\n",
       "#T_485d1 tbody tr:nth-child(5) td {\n",
       "  border-bottom: 1px solid black;\n",
       "}\n",
       "#T_485d1 tbody tr:nth-child(8) td {\n",
       "  border-bottom: 1px solid black;\n",
       "}\n",
       "#T_485d1 tbody td {\n",
       "  background-color: #ffffff;\n",
       "}\n",
       "#T_485d1 tbody tr td:first-child {\n",
       "  background-color: #f0f0f0;\n",
       "  font-weight: bold;\n",
       "  text-align: left;\n",
       "}\n",
       "#T_485d1_row0_col0, #T_485d1_row0_col1, #T_485d1_row0_col2, #T_485d1_row0_col3, #T_485d1_row1_col0, #T_485d1_row1_col1, #T_485d1_row1_col2, #T_485d1_row1_col3, #T_485d1_row2_col0, #T_485d1_row2_col1, #T_485d1_row2_col2, #T_485d1_row2_col3, #T_485d1_row3_col0, #T_485d1_row3_col1, #T_485d1_row3_col2, #T_485d1_row3_col3, #T_485d1_row4_col0, #T_485d1_row4_col1, #T_485d1_row4_col2, #T_485d1_row4_col3, #T_485d1_row5_col0, #T_485d1_row5_col1, #T_485d1_row5_col2, #T_485d1_row5_col3, #T_485d1_row6_col0, #T_485d1_row6_col1, #T_485d1_row6_col2, #T_485d1_row6_col3, #T_485d1_row7_col0, #T_485d1_row7_col1, #T_485d1_row7_col2, #T_485d1_row7_col3 {\n",
       "  text-align: right;\n",
       "}\n",
       "</style>\n",
       "<table id=\"T_485d1\">\n",
       "  <caption>Significance levels: * p < 0.05, ** p < 0.01, *** p < 0.001. Format of coefficient cell:\n",
       "Coefficient (Std. Error)</caption>\n",
       "  <thead>\n",
       "    <tr>\n",
       "      <th id=\"T_485d1_level0_col0\" class=\"col_heading level0 col0\" ></th>\n",
       "      <th id=\"T_485d1_level0_col1\" class=\"col_heading level0 col1\" >est1</th>\n",
       "      <th id=\"T_485d1_level0_col2\" class=\"col_heading level0 col2\" >est2</th>\n",
       "      <th id=\"T_485d1_level0_col3\" class=\"col_heading level0 col3\" >est3</th>\n",
       "    </tr>\n",
       "  </thead>\n",
       "  <tbody>\n",
       "    <tr>\n",
       "      <td id=\"T_485d1_row0_col0\" class=\"data row0 col0\" >depvar</td>\n",
       "      <td id=\"T_485d1_row0_col1\" class=\"data row0 col1\" >Y</td>\n",
       "      <td id=\"T_485d1_row0_col2\" class=\"data row0 col2\" >Y</td>\n",
       "      <td id=\"T_485d1_row0_col3\" class=\"data row0 col3\" >Y</td>\n",
       "    </tr>\n",
       "    <tr>\n",
       "      <td id=\"T_485d1_row1_col0\" class=\"data row1 col0\" >X1</td>\n",
       "      <td id=\"T_485d1_row1_col1\" class=\"data row1 col1\" >-0.006591 (0.040758)</td>\n",
       "      <td id=\"T_485d1_row1_col2\" class=\"data row1 col2\" >-0.006591 (0.039125)</td>\n",
       "      <td id=\"T_485d1_row1_col3\" class=\"data row1 col3\" >-0.006591 (0.034180)</td>\n",
       "    </tr>\n",
       "    <tr>\n",
       "      <td id=\"T_485d1_row2_col0\" class=\"data row2 col0\" >X2</td>\n",
       "      <td id=\"T_485d1_row2_col1\" class=\"data row2 col1\" >-0.014924 (0.010994)</td>\n",
       "      <td id=\"T_485d1_row2_col2\" class=\"data row2 col2\" >-0.014924 (0.010496)</td>\n",
       "      <td id=\"T_485d1_row2_col3\" class=\"data row2 col3\" >-0.014924 (0.010135)</td>\n",
       "    </tr>\n",
       "    <tr>\n",
       "      <td id=\"T_485d1_row3_col0\" class=\"data row3 col0\" >f1</td>\n",
       "      <td id=\"T_485d1_row3_col1\" class=\"data row3 col1\" >x</td>\n",
       "      <td id=\"T_485d1_row3_col2\" class=\"data row3 col2\" >x</td>\n",
       "      <td id=\"T_485d1_row3_col3\" class=\"data row3 col3\" >x</td>\n",
       "    </tr>\n",
       "    <tr>\n",
       "      <td id=\"T_485d1_row4_col0\" class=\"data row4 col0\" >f2</td>\n",
       "      <td id=\"T_485d1_row4_col1\" class=\"data row4 col1\" >x</td>\n",
       "      <td id=\"T_485d1_row4_col2\" class=\"data row4 col2\" >x</td>\n",
       "      <td id=\"T_485d1_row4_col3\" class=\"data row4 col3\" >x</td>\n",
       "    </tr>\n",
       "    <tr>\n",
       "      <td id=\"T_485d1_row5_col0\" class=\"data row5 col0\" >R2</td>\n",
       "      <td id=\"T_485d1_row5_col1\" class=\"data row5 col1\" >-</td>\n",
       "      <td id=\"T_485d1_row5_col2\" class=\"data row5 col2\" >-</td>\n",
       "      <td id=\"T_485d1_row5_col3\" class=\"data row5 col3\" >-</td>\n",
       "    </tr>\n",
       "    <tr>\n",
       "      <td id=\"T_485d1_row6_col0\" class=\"data row6 col0\" >S.E. type</td>\n",
       "      <td id=\"T_485d1_row6_col1\" class=\"data row6 col1\" >iid</td>\n",
       "      <td id=\"T_485d1_row6_col2\" class=\"data row6 col2\" >hetero</td>\n",
       "      <td id=\"T_485d1_row6_col3\" class=\"data row6 col3\" >by: f1</td>\n",
       "    </tr>\n",
       "    <tr>\n",
       "      <td id=\"T_485d1_row7_col0\" class=\"data row7 col0\" >Observations</td>\n",
       "      <td id=\"T_485d1_row7_col1\" class=\"data row7 col1\" >997</td>\n",
       "      <td id=\"T_485d1_row7_col2\" class=\"data row7 col2\" >997</td>\n",
       "      <td id=\"T_485d1_row7_col3\" class=\"data row7 col3\" >997</td>\n",
       "    </tr>\n",
       "  </tbody>\n",
       "</table>\n"
      ],
      "text/plain": [
       "<pandas.io.formats.style.Styler at 0x1e7bd0287c0>"
      ]
     },
     "execution_count": 25,
     "metadata": {},
     "output_type": "execute_result"
    }
   ],
   "source": [
    "pf.etable([fit_iid, fit_hetero, fit_crv], digits = 6)"
   ]
  },
  {
   "cell_type": "code",
   "execution_count": 26,
   "metadata": {},
   "outputs": [
    {
     "data": {
      "text/html": [
       "<div>\n",
       "<style scoped>\n",
       "    .dataframe tbody tr th:only-of-type {\n",
       "        vertical-align: middle;\n",
       "    }\n",
       "\n",
       "    .dataframe tbody tr th {\n",
       "        vertical-align: top;\n",
       "    }\n",
       "\n",
       "    .dataframe thead th {\n",
       "        text-align: right;\n",
       "    }\n",
       "</style>\n",
       "<table border=\"1\" class=\"dataframe\">\n",
       "  <thead>\n",
       "    <tr style=\"text-align: right;\">\n",
       "      <th></th>\n",
       "      <th>0</th>\n",
       "      <th>1</th>\n",
       "      <th>2</th>\n",
       "      <th>3</th>\n",
       "    </tr>\n",
       "  </thead>\n",
       "  <tbody>\n",
       "    <tr>\n",
       "      <th>0</th>\n",
       "      <td>Dependent Var.:</td>\n",
       "      <td>Y</td>\n",
       "      <td>Y</td>\n",
       "      <td>Y</td>\n",
       "    </tr>\n",
       "    <tr>\n",
       "      <th>1</th>\n",
       "      <td></td>\n",
       "      <td></td>\n",
       "      <td></td>\n",
       "      <td></td>\n",
       "    </tr>\n",
       "    <tr>\n",
       "      <th>2</th>\n",
       "      <td>X1</td>\n",
       "      <td>-0.006591 (0.040758)</td>\n",
       "      <td>-0.006591 (0.039125)</td>\n",
       "      <td>-0.006591 (0.034180)</td>\n",
       "    </tr>\n",
       "    <tr>\n",
       "      <th>3</th>\n",
       "      <td>X2</td>\n",
       "      <td>-0.014924 (0.010994)</td>\n",
       "      <td>-0.014924 (0.010496)</td>\n",
       "      <td>-0.014924 (0.010135)</td>\n",
       "    </tr>\n",
       "    <tr>\n",
       "      <th>4</th>\n",
       "      <td>Fixed-Effects:</td>\n",
       "      <td>--------------------</td>\n",
       "      <td>--------------------</td>\n",
       "      <td>--------------------</td>\n",
       "    </tr>\n",
       "    <tr>\n",
       "      <th>5</th>\n",
       "      <td>f1</td>\n",
       "      <td>Yes</td>\n",
       "      <td>Yes</td>\n",
       "      <td>Yes</td>\n",
       "    </tr>\n",
       "    <tr>\n",
       "      <th>6</th>\n",
       "      <td>f2</td>\n",
       "      <td>Yes</td>\n",
       "      <td>Yes</td>\n",
       "      <td>Yes</td>\n",
       "    </tr>\n",
       "    <tr>\n",
       "      <th>7</th>\n",
       "      <td>_______________</td>\n",
       "      <td>____________________</td>\n",
       "      <td>____________________</td>\n",
       "      <td>____________________</td>\n",
       "    </tr>\n",
       "    <tr>\n",
       "      <th>8</th>\n",
       "      <td>S.E. type</td>\n",
       "      <td>IID</td>\n",
       "      <td>Heteroskedasti.-rob.</td>\n",
       "      <td>by: f1</td>\n",
       "    </tr>\n",
       "    <tr>\n",
       "      <th>9</th>\n",
       "      <td>Observations</td>\n",
       "      <td>997</td>\n",
       "      <td>997</td>\n",
       "      <td>997</td>\n",
       "    </tr>\n",
       "    <tr>\n",
       "      <th>10</th>\n",
       "      <td>Squared Cor.</td>\n",
       "      <td>0.07687</td>\n",
       "      <td>0.07687</td>\n",
       "      <td>0.07687</td>\n",
       "    </tr>\n",
       "    <tr>\n",
       "      <th>11</th>\n",
       "      <td>Pseudo R2</td>\n",
       "      <td>0.02866</td>\n",
       "      <td>0.02866</td>\n",
       "      <td>0.02866</td>\n",
       "    </tr>\n",
       "    <tr>\n",
       "      <th>12</th>\n",
       "      <td>BIC</td>\n",
       "      <td>2,934.7</td>\n",
       "      <td>2,934.7</td>\n",
       "      <td>2,934.7</td>\n",
       "    </tr>\n",
       "  </tbody>\n",
       "</table>\n",
       "</div>"
      ],
      "text/plain": [
       "                  0                     1                     2  \\\n",
       "0   Dependent Var.:                     Y                     Y   \n",
       "1                                                                 \n",
       "2                X1  -0.006591 (0.040758)  -0.006591 (0.039125)   \n",
       "3                X2  -0.014924 (0.010994)  -0.014924 (0.010496)   \n",
       "4    Fixed-Effects:  --------------------  --------------------   \n",
       "5                f1                   Yes                   Yes   \n",
       "6                f2                   Yes                   Yes   \n",
       "7   _______________  ____________________  ____________________   \n",
       "8         S.E. type                   IID  Heteroskedasti.-rob.   \n",
       "9      Observations                   997                   997   \n",
       "10     Squared Cor.               0.07687               0.07687   \n",
       "11        Pseudo R2               0.02866               0.02866   \n",
       "12              BIC               2,934.7               2,934.7   \n",
       "\n",
       "                       3  \n",
       "0                      Y  \n",
       "1                         \n",
       "2   -0.006591 (0.034180)  \n",
       "3   -0.014924 (0.010135)  \n",
       "4   --------------------  \n",
       "5                    Yes  \n",
       "6                    Yes  \n",
       "7   ____________________  \n",
       "8                 by: f1  \n",
       "9                    997  \n",
       "10               0.07687  \n",
       "11               0.02866  \n",
       "12               2,934.7  "
      ]
     },
     "execution_count": 26,
     "metadata": {},
     "output_type": "execute_result"
    }
   ],
   "source": [
    "pd.DataFrame(fixest.etable(fit_r_iid, fit_r_hetero, fit_r_crv, digits = 6)).T"
   ]
  },
  {
   "cell_type": "code",
   "execution_count": null,
   "metadata": {},
   "outputs": [],
   "source": []
  }
 ],
 "metadata": {
  "kernelspec": {
   "display_name": "pyfixest-pKOwcWPT-py3.10",
   "language": "python",
   "name": "python3"
  },
  "language_info": {
   "codemirror_mode": {
    "name": "ipython",
    "version": 3
   },
   "file_extension": ".py",
   "mimetype": "text/x-python",
   "name": "python",
   "nbconvert_exporter": "python",
   "pygments_lexer": "ipython3",
   "version": "3.10.8"
  }
 },
 "nbformat": 4,
 "nbformat_minor": 2
}
