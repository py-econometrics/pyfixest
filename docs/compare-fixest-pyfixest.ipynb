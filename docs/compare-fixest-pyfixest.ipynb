{
 "cells": [
  {
   "cell_type": "markdown",
   "metadata": {},
   "source": [
    "# Does `PyFixest` match `fixest`? "
   ]
  },
  {
   "cell_type": "markdown",
   "metadata": {},
   "source": [
    "This vignette compares estimation results from `fixest` with `pyfixest` via the `rpy2` package."
   ]
  },
  {
   "cell_type": "code",
   "execution_count": 79,
   "metadata": {},
   "outputs": [
    {
     "name": "stdout",
     "output_type": "stream",
     "text": [
      "The autoreload extension is already loaded. To reload it, use:\n",
      "  %reload_ext autoreload\n"
     ]
    }
   ],
   "source": [
    "import pandas as pd\n",
    "import rpy2.robjects as ro\n",
    "from rpy2.robjects import pandas2ri\n",
    "from rpy2.robjects.packages import importr\n",
    "\n",
    "import pyfixest as pf\n",
    "\n",
    "# Activate pandas2ri\n",
    "pandas2ri.activate()\n",
    "\n",
    "# Import R packages\n",
    "fixest = importr(\"fixest\")\n",
    "stats = importr(\"stats\")\n",
    "\n",
    "# IPython magic commands for autoreloading\n",
    "%load_ext autoreload\n",
    "%autoreload 2\n",
    "\n",
    "# Get data using pyfixest\n",
    "data = pf.get_data(model=\"Feols\", N=10_000, seed=99292)"
   ]
  },
  {
   "cell_type": "markdown",
   "metadata": {},
   "source": [
    "## Ordinary Least Squares (OLS)"
   ]
  },
  {
   "cell_type": "markdown",
   "metadata": {},
   "source": [
    "### IID Inference"
   ]
  },
  {
   "cell_type": "markdown",
   "metadata": {},
   "source": [
    "First, we estimate a model via `pyfixest. We compute \"iid\" standard errors. "
   ]
  },
  {
   "cell_type": "code",
   "execution_count": 80,
   "metadata": {},
   "outputs": [],
   "source": [
    "fit = pf.feols(fml=\"Y ~ X1 + X2 | f1 + f2\", data=data, vcov=\"iid\")"
   ]
  },
  {
   "cell_type": "markdown",
   "metadata": {},
   "source": [
    "We estimate the same model with weights: "
   ]
  },
  {
   "cell_type": "code",
   "execution_count": 81,
   "metadata": {},
   "outputs": [],
   "source": [
    "fit_weights = pf.feols(\n",
    "    fml=\"Y ~ X1 + X2 | f1 + f2\", data=data, weights=\"weights\", vcov=\"iid\"\n",
    ")"
   ]
  },
  {
   "cell_type": "markdown",
   "metadata": {},
   "source": [
    "Via `r-fixest` and `rpy2`, we get"
   ]
  },
  {
   "cell_type": "code",
   "execution_count": 82,
   "metadata": {},
   "outputs": [
    {
     "name": "stderr",
     "output_type": "stream",
     "text": [
      "R[write to console]: NOTE: 3 observations removed because of NA values (LHS: 1, RHS: 1, Fixed-effects: 1).\n",
      "\n",
      "R[write to console]: NOTE: 3 observations removed because of NA values (LHS: 1, RHS: 1, Fixed-effects: 1).\n",
      "\n"
     ]
    }
   ],
   "source": [
    "r_fit = fixest.feols(\n",
    "    ro.Formula(\"Y ~ X1 + X2 | f1 + f2\"),\n",
    "    data=data,\n",
    "    vcov=\"iid\",\n",
    "    ssc=fixest.ssc(True, \"none\", True, \"min\", \"min\", False),\n",
    ")\n",
    "\n",
    "r_fit_weights = fixest.feols(\n",
    "    ro.Formula(\"Y ~ X1 + X2 | f1 + f2\"),\n",
    "    data=data,\n",
    "    weights=ro.Formula(\"~weights\"),\n",
    "    vcov=\"iid\",\n",
    "    ssc=fixest.ssc(True, \"none\", True, \"min\", \"min\", False),\n",
    ")"
   ]
  },
  {
   "cell_type": "markdown",
   "metadata": {},
   "source": [
    "Let's compare how close the covariance matrices are: "
   ]
  },
  {
   "cell_type": "code",
   "execution_count": 83,
   "metadata": {},
   "outputs": [
    {
     "data": {
      "text/plain": [
       "array([[-7.04731412e-19, -3.34180967e-22],\n",
       "       [-3.34594558e-22, -1.38913403e-19]])"
      ]
     },
     "execution_count": 83,
     "metadata": {},
     "output_type": "execute_result"
    }
   ],
   "source": [
    "fit_vcov = fit._vcov\n",
    "r_vcov = stats.vcov(r_fit)\n",
    "fit_vcov - r_vcov"
   ]
  },
  {
   "cell_type": "markdown",
   "metadata": {},
   "source": [
    "And for WLS: "
   ]
  },
  {
   "cell_type": "code",
   "execution_count": 84,
   "metadata": {},
   "outputs": [
    {
     "data": {
      "text/plain": [
       "array([[ 1.68051337e-18, -1.69406589e-21],\n",
       "       [-1.69406589e-21, -1.49077799e-19]])"
      ]
     },
     "execution_count": 84,
     "metadata": {},
     "output_type": "execute_result"
    }
   ],
   "source": [
    "fit_weights._vcov - stats.vcov(r_fit_weights)"
   ]
  },
  {
   "cell_type": "markdown",
   "metadata": {},
   "source": [
    "We conclude by comparing all estimation results via the `etable` function: "
   ]
  },
  {
   "cell_type": "code",
   "execution_count": 85,
   "metadata": {},
   "outputs": [
    {
     "data": {
      "text/html": [
       "<style type=\"text/css\">\n",
       "#T_f4cad tbody tr:nth-child(0) td {\n",
       "  background-color: #f0f0f0;\n",
       "}\n",
       "#T_f4cad tbody tr:nth-child(1) td {\n",
       "  border-bottom: 2px solid black;\n",
       "}\n",
       "#T_f4cad tbody tr:nth-child(3) td {\n",
       "  border-bottom: 1px solid black;\n",
       "}\n",
       "#T_f4cad tbody tr:nth-child(5) td {\n",
       "  border-bottom: 1px solid black;\n",
       "}\n",
       "#T_f4cad tbody tr:nth-child(8) td {\n",
       "  border-bottom: 1px solid black;\n",
       "}\n",
       "#T_f4cad tbody td {\n",
       "  background-color: #ffffff;\n",
       "}\n",
       "#T_f4cad tbody tr td:first-child {\n",
       "  background-color: #f0f0f0;\n",
       "  font-weight: bold;\n",
       "  text-align: left;\n",
       "}\n",
       "#T_f4cad_row0_col0, #T_f4cad_row0_col1, #T_f4cad_row0_col2, #T_f4cad_row1_col0, #T_f4cad_row1_col1, #T_f4cad_row1_col2, #T_f4cad_row2_col0, #T_f4cad_row2_col1, #T_f4cad_row2_col2, #T_f4cad_row3_col0, #T_f4cad_row3_col1, #T_f4cad_row3_col2, #T_f4cad_row4_col0, #T_f4cad_row4_col1, #T_f4cad_row4_col2, #T_f4cad_row5_col0, #T_f4cad_row5_col1, #T_f4cad_row5_col2, #T_f4cad_row6_col0, #T_f4cad_row6_col1, #T_f4cad_row6_col2, #T_f4cad_row7_col0, #T_f4cad_row7_col1, #T_f4cad_row7_col2 {\n",
       "  text-align: right;\n",
       "}\n",
       "</style>\n",
       "<table id=\"T_f4cad\">\n",
       "  <caption>Significance levels: * p < 0.05, ** p < 0.01, *** p < 0.001. Format of coefficient cell:\n",
       "Coefficient (Std. Error)</caption>\n",
       "  <thead>\n",
       "    <tr>\n",
       "      <th id=\"T_f4cad_level0_col0\" class=\"col_heading level0 col0\" ></th>\n",
       "      <th id=\"T_f4cad_level0_col1\" class=\"col_heading level0 col1\" >est1</th>\n",
       "      <th id=\"T_f4cad_level0_col2\" class=\"col_heading level0 col2\" >est2</th>\n",
       "    </tr>\n",
       "  </thead>\n",
       "  <tbody>\n",
       "    <tr>\n",
       "      <td id=\"T_f4cad_row0_col0\" class=\"data row0 col0\" >depvar</td>\n",
       "      <td id=\"T_f4cad_row0_col1\" class=\"data row0 col1\" >Y</td>\n",
       "      <td id=\"T_f4cad_row0_col2\" class=\"data row0 col2\" >Y</td>\n",
       "    </tr>\n",
       "    <tr>\n",
       "      <td id=\"T_f4cad_row1_col0\" class=\"data row1 col0\" >X1</td>\n",
       "      <td id=\"T_f4cad_row1_col1\" class=\"data row1 col1\" >0.112019*** (0.016947)</td>\n",
       "      <td id=\"T_f4cad_row1_col2\" class=\"data row1 col2\" >0.123687*** (0.016880)</td>\n",
       "    </tr>\n",
       "    <tr>\n",
       "      <td id=\"T_f4cad_row2_col0\" class=\"data row2 col0\" >X2</td>\n",
       "      <td id=\"T_f4cad_row2_col1\" class=\"data row2 col1\" >0.732788*** (0.004595)</td>\n",
       "      <td id=\"T_f4cad_row2_col2\" class=\"data row2 col2\" >0.732244*** (0.004584)</td>\n",
       "    </tr>\n",
       "    <tr>\n",
       "      <td id=\"T_f4cad_row3_col0\" class=\"data row3 col0\" >f1</td>\n",
       "      <td id=\"T_f4cad_row3_col1\" class=\"data row3 col1\" >x</td>\n",
       "      <td id=\"T_f4cad_row3_col2\" class=\"data row3 col2\" >x</td>\n",
       "    </tr>\n",
       "    <tr>\n",
       "      <td id=\"T_f4cad_row4_col0\" class=\"data row4 col0\" >f2</td>\n",
       "      <td id=\"T_f4cad_row4_col1\" class=\"data row4 col1\" >x</td>\n",
       "      <td id=\"T_f4cad_row4_col2\" class=\"data row4 col2\" >x</td>\n",
       "    </tr>\n",
       "    <tr>\n",
       "      <td id=\"T_f4cad_row5_col0\" class=\"data row5 col0\" >R2</td>\n",
       "      <td id=\"T_f4cad_row5_col1\" class=\"data row5 col1\" >0.774375</td>\n",
       "      <td id=\"T_f4cad_row5_col2\" class=\"data row5 col2\" >-</td>\n",
       "    </tr>\n",
       "    <tr>\n",
       "      <td id=\"T_f4cad_row6_col0\" class=\"data row6 col0\" >S.E. type</td>\n",
       "      <td id=\"T_f4cad_row6_col1\" class=\"data row6 col1\" >iid</td>\n",
       "      <td id=\"T_f4cad_row6_col2\" class=\"data row6 col2\" >iid</td>\n",
       "    </tr>\n",
       "    <tr>\n",
       "      <td id=\"T_f4cad_row7_col0\" class=\"data row7 col0\" >Observations</td>\n",
       "      <td id=\"T_f4cad_row7_col1\" class=\"data row7 col1\" >9997</td>\n",
       "      <td id=\"T_f4cad_row7_col2\" class=\"data row7 col2\" >9997</td>\n",
       "    </tr>\n",
       "  </tbody>\n",
       "</table>\n"
      ],
      "text/plain": [
       "<pandas.io.formats.style.Styler at 0x1e7bcac5cf0>"
      ]
     },
     "execution_count": 85,
     "metadata": {},
     "output_type": "execute_result"
    }
   ],
   "source": [
    "pf.etable([fit, fit_weights], digits=6)"
   ]
  },
  {
   "cell_type": "code",
   "execution_count": 86,
   "metadata": {},
   "outputs": [
    {
     "data": {
      "text/html": [
       "<div>\n",
       "<style scoped>\n",
       "    .dataframe tbody tr th:only-of-type {\n",
       "        vertical-align: middle;\n",
       "    }\n",
       "\n",
       "    .dataframe tbody tr th {\n",
       "        vertical-align: top;\n",
       "    }\n",
       "\n",
       "    .dataframe thead th {\n",
       "        text-align: right;\n",
       "    }\n",
       "</style>\n",
       "<table border=\"1\" class=\"dataframe\">\n",
       "  <thead>\n",
       "    <tr style=\"text-align: right;\">\n",
       "      <th></th>\n",
       "      <th>0</th>\n",
       "      <th>1</th>\n",
       "      <th>2</th>\n",
       "    </tr>\n",
       "  </thead>\n",
       "  <tbody>\n",
       "    <tr>\n",
       "      <th>0</th>\n",
       "      <td>Dependent Var.:</td>\n",
       "      <td>Y</td>\n",
       "      <td>Y</td>\n",
       "    </tr>\n",
       "    <tr>\n",
       "      <th>1</th>\n",
       "      <td></td>\n",
       "      <td></td>\n",
       "      <td></td>\n",
       "    </tr>\n",
       "    <tr>\n",
       "      <th>2</th>\n",
       "      <td>X1</td>\n",
       "      <td>0.112019*** (0.016947)</td>\n",
       "      <td>0.123687*** (0.016880)</td>\n",
       "    </tr>\n",
       "    <tr>\n",
       "      <th>3</th>\n",
       "      <td>X2</td>\n",
       "      <td>0.732788*** (0.004595)</td>\n",
       "      <td>0.732244*** (0.004584)</td>\n",
       "    </tr>\n",
       "    <tr>\n",
       "      <th>4</th>\n",
       "      <td>Fixed-Effects:</td>\n",
       "      <td>----------------------</td>\n",
       "      <td>----------------------</td>\n",
       "    </tr>\n",
       "    <tr>\n",
       "      <th>5</th>\n",
       "      <td>f1</td>\n",
       "      <td>Yes</td>\n",
       "      <td>Yes</td>\n",
       "    </tr>\n",
       "    <tr>\n",
       "      <th>6</th>\n",
       "      <td>f2</td>\n",
       "      <td>Yes</td>\n",
       "      <td>Yes</td>\n",
       "    </tr>\n",
       "    <tr>\n",
       "      <th>7</th>\n",
       "      <td>_______________</td>\n",
       "      <td>______________________</td>\n",
       "      <td>______________________</td>\n",
       "    </tr>\n",
       "    <tr>\n",
       "      <th>8</th>\n",
       "      <td>S.E. type</td>\n",
       "      <td>IID</td>\n",
       "      <td>IID</td>\n",
       "    </tr>\n",
       "    <tr>\n",
       "      <th>9</th>\n",
       "      <td>Observations</td>\n",
       "      <td>9,997</td>\n",
       "      <td>9,997</td>\n",
       "    </tr>\n",
       "    <tr>\n",
       "      <th>10</th>\n",
       "      <td>R2</td>\n",
       "      <td>0.77438</td>\n",
       "      <td>0.77526</td>\n",
       "    </tr>\n",
       "    <tr>\n",
       "      <th>11</th>\n",
       "      <td>Within R2</td>\n",
       "      <td>0.71822</td>\n",
       "      <td>0.71886</td>\n",
       "    </tr>\n",
       "  </tbody>\n",
       "</table>\n",
       "</div>"
      ],
      "text/plain": [
       "                  0                       1                       2\n",
       "0   Dependent Var.:                       Y                       Y\n",
       "1                                                                  \n",
       "2                X1  0.112019*** (0.016947)  0.123687*** (0.016880)\n",
       "3                X2  0.732788*** (0.004595)  0.732244*** (0.004584)\n",
       "4    Fixed-Effects:  ----------------------  ----------------------\n",
       "5                f1                     Yes                     Yes\n",
       "6                f2                     Yes                     Yes\n",
       "7   _______________  ______________________  ______________________\n",
       "8         S.E. type                     IID                     IID\n",
       "9      Observations                   9,997                   9,997\n",
       "10               R2                 0.77438                 0.77526\n",
       "11        Within R2                 0.71822                 0.71886"
      ]
     },
     "execution_count": 86,
     "metadata": {},
     "output_type": "execute_result"
    }
   ],
   "source": [
    "pd.DataFrame(fixest.etable(r_fit, r_fit_weights, digits=6)).T"
   ]
  },
  {
   "cell_type": "markdown",
   "metadata": {},
   "source": [
    "### Heteroskedastic Errors"
   ]
  },
  {
   "cell_type": "markdown",
   "metadata": {},
   "source": [
    "We repeat the same exercise with heteroskedastic (HC1) errors: "
   ]
  },
  {
   "cell_type": "code",
   "execution_count": 87,
   "metadata": {},
   "outputs": [],
   "source": [
    "fit = pf.feols(fml=\"Y ~ X1 + X2 | f1 + f2\", data=data, vcov=\"hetero\")\n",
    "fit_weights = pf.feols(\n",
    "    fml=\"Y ~ X1 + X2 | f1 + f2\", data=data, vcov=\"hetero\", weights=\"weights\"\n",
    ")"
   ]
  },
  {
   "cell_type": "code",
   "execution_count": 88,
   "metadata": {},
   "outputs": [
    {
     "name": "stderr",
     "output_type": "stream",
     "text": [
      "R[write to console]: NOTE: 3 observations removed because of NA values (LHS: 1, RHS: 1, Fixed-effects: 1).\n",
      "\n",
      "R[write to console]: NOTE: 3 observations removed because of NA values (LHS: 1, RHS: 1, Fixed-effects: 1).\n",
      "\n"
     ]
    }
   ],
   "source": [
    "fit_r = fixest.feols(\n",
    "    ro.Formula(\"Y ~ X1 + X2 | f1 + f2\"),\n",
    "    data=data,\n",
    "    vcov=\"hetero\",\n",
    "    ssc=fixest.ssc(True, \"none\", True, \"min\", \"min\", False),\n",
    ")\n",
    "\n",
    "fit_weights_r = fixest.feols(\n",
    "    ro.Formula(\"Y ~ X1 + X2 | f1 + f2\"),\n",
    "    data=data,\n",
    "    weights=ro.Formula(\"~weights\"),\n",
    "    vcov=\"hetero\",\n",
    "    ssc=fixest.ssc(True, \"none\", True, \"min\", \"min\", False),\n",
    ")"
   ]
  },
  {
   "cell_type": "markdown",
   "metadata": {},
   "source": [
    "As before, we compare the variance covariance matrices:"
   ]
  },
  {
   "cell_type": "code",
   "execution_count": 89,
   "metadata": {},
   "outputs": [
    {
     "data": {
      "text/plain": [
       "array([[-1.61925594e-16, -2.13306719e-17],\n",
       "       [-2.13306719e-17, -5.39593869e-17]])"
      ]
     },
     "execution_count": 89,
     "metadata": {},
     "output_type": "execute_result"
    }
   ],
   "source": [
    "fit._vcov - stats.vcov(fit_r)"
   ]
  },
  {
   "cell_type": "code",
   "execution_count": 90,
   "metadata": {},
   "outputs": [
    {
     "data": {
      "text/plain": [
       "array([[-2.04968421e-16, -9.53780274e-18],\n",
       "       [-9.53780274e-18, -3.03136151e-17]])"
      ]
     },
     "execution_count": 90,
     "metadata": {},
     "output_type": "execute_result"
    }
   ],
   "source": [
    "fit_weights._vcov - stats.vcov(fit_weights_r)"
   ]
  },
  {
   "cell_type": "code",
   "execution_count": 91,
   "metadata": {},
   "outputs": [
    {
     "data": {
      "text/html": [
       "<style type=\"text/css\">\n",
       "#T_6f76e tbody tr:nth-child(0) td {\n",
       "  background-color: #f0f0f0;\n",
       "}\n",
       "#T_6f76e tbody tr:nth-child(1) td {\n",
       "  border-bottom: 2px solid black;\n",
       "}\n",
       "#T_6f76e tbody tr:nth-child(3) td {\n",
       "  border-bottom: 1px solid black;\n",
       "}\n",
       "#T_6f76e tbody tr:nth-child(5) td {\n",
       "  border-bottom: 1px solid black;\n",
       "}\n",
       "#T_6f76e tbody tr:nth-child(8) td {\n",
       "  border-bottom: 1px solid black;\n",
       "}\n",
       "#T_6f76e tbody td {\n",
       "  background-color: #ffffff;\n",
       "}\n",
       "#T_6f76e tbody tr td:first-child {\n",
       "  background-color: #f0f0f0;\n",
       "  font-weight: bold;\n",
       "  text-align: left;\n",
       "}\n",
       "#T_6f76e_row0_col0, #T_6f76e_row0_col1, #T_6f76e_row0_col2, #T_6f76e_row1_col0, #T_6f76e_row1_col1, #T_6f76e_row1_col2, #T_6f76e_row2_col0, #T_6f76e_row2_col1, #T_6f76e_row2_col2, #T_6f76e_row3_col0, #T_6f76e_row3_col1, #T_6f76e_row3_col2, #T_6f76e_row4_col0, #T_6f76e_row4_col1, #T_6f76e_row4_col2, #T_6f76e_row5_col0, #T_6f76e_row5_col1, #T_6f76e_row5_col2, #T_6f76e_row6_col0, #T_6f76e_row6_col1, #T_6f76e_row6_col2, #T_6f76e_row7_col0, #T_6f76e_row7_col1, #T_6f76e_row7_col2 {\n",
       "  text-align: right;\n",
       "}\n",
       "</style>\n",
       "<table id=\"T_6f76e\">\n",
       "  <caption>Significance levels: * p < 0.05, ** p < 0.01, *** p < 0.001. Format of coefficient cell:\n",
       "Coefficient (Std. Error)</caption>\n",
       "  <thead>\n",
       "    <tr>\n",
       "      <th id=\"T_6f76e_level0_col0\" class=\"col_heading level0 col0\" ></th>\n",
       "      <th id=\"T_6f76e_level0_col1\" class=\"col_heading level0 col1\" >est1</th>\n",
       "      <th id=\"T_6f76e_level0_col2\" class=\"col_heading level0 col2\" >est2</th>\n",
       "    </tr>\n",
       "  </thead>\n",
       "  <tbody>\n",
       "    <tr>\n",
       "      <td id=\"T_6f76e_row0_col0\" class=\"data row0 col0\" >depvar</td>\n",
       "      <td id=\"T_6f76e_row0_col1\" class=\"data row0 col1\" >Y</td>\n",
       "      <td id=\"T_6f76e_row0_col2\" class=\"data row0 col2\" >Y</td>\n",
       "    </tr>\n",
       "    <tr>\n",
       "      <td id=\"T_6f76e_row1_col0\" class=\"data row1 col0\" >X1</td>\n",
       "      <td id=\"T_6f76e_row1_col1\" class=\"data row1 col1\" >0.112019*** (0.017009)</td>\n",
       "      <td id=\"T_6f76e_row1_col2\" class=\"data row1 col2\" >0.123687*** (0.019361)</td>\n",
       "    </tr>\n",
       "    <tr>\n",
       "      <td id=\"T_6f76e_row2_col0\" class=\"data row2 col0\" >X2</td>\n",
       "      <td id=\"T_6f76e_row2_col1\" class=\"data row2 col1\" >0.732788*** (0.004553)</td>\n",
       "      <td id=\"T_6f76e_row2_col2\" class=\"data row2 col2\" >0.732244*** (0.005140)</td>\n",
       "    </tr>\n",
       "    <tr>\n",
       "      <td id=\"T_6f76e_row3_col0\" class=\"data row3 col0\" >f1</td>\n",
       "      <td id=\"T_6f76e_row3_col1\" class=\"data row3 col1\" >x</td>\n",
       "      <td id=\"T_6f76e_row3_col2\" class=\"data row3 col2\" >x</td>\n",
       "    </tr>\n",
       "    <tr>\n",
       "      <td id=\"T_6f76e_row4_col0\" class=\"data row4 col0\" >f2</td>\n",
       "      <td id=\"T_6f76e_row4_col1\" class=\"data row4 col1\" >x</td>\n",
       "      <td id=\"T_6f76e_row4_col2\" class=\"data row4 col2\" >x</td>\n",
       "    </tr>\n",
       "    <tr>\n",
       "      <td id=\"T_6f76e_row5_col0\" class=\"data row5 col0\" >R2</td>\n",
       "      <td id=\"T_6f76e_row5_col1\" class=\"data row5 col1\" >0.774375</td>\n",
       "      <td id=\"T_6f76e_row5_col2\" class=\"data row5 col2\" >-</td>\n",
       "    </tr>\n",
       "    <tr>\n",
       "      <td id=\"T_6f76e_row6_col0\" class=\"data row6 col0\" >S.E. type</td>\n",
       "      <td id=\"T_6f76e_row6_col1\" class=\"data row6 col1\" >hetero</td>\n",
       "      <td id=\"T_6f76e_row6_col2\" class=\"data row6 col2\" >hetero</td>\n",
       "    </tr>\n",
       "    <tr>\n",
       "      <td id=\"T_6f76e_row7_col0\" class=\"data row7 col0\" >Observations</td>\n",
       "      <td id=\"T_6f76e_row7_col1\" class=\"data row7 col1\" >9997</td>\n",
       "      <td id=\"T_6f76e_row7_col2\" class=\"data row7 col2\" >9997</td>\n",
       "    </tr>\n",
       "  </tbody>\n",
       "</table>\n"
      ],
      "text/plain": [
       "<pandas.io.formats.style.Styler at 0x1e7bcb21a20>"
      ]
     },
     "execution_count": 91,
     "metadata": {},
     "output_type": "execute_result"
    }
   ],
   "source": [
    "pf.etable([fit, fit_weights], digits=6)"
   ]
  },
  {
   "cell_type": "code",
   "execution_count": 92,
   "metadata": {},
   "outputs": [
    {
     "data": {
      "text/html": [
       "<div>\n",
       "<style scoped>\n",
       "    .dataframe tbody tr th:only-of-type {\n",
       "        vertical-align: middle;\n",
       "    }\n",
       "\n",
       "    .dataframe tbody tr th {\n",
       "        vertical-align: top;\n",
       "    }\n",
       "\n",
       "    .dataframe thead th {\n",
       "        text-align: right;\n",
       "    }\n",
       "</style>\n",
       "<table border=\"1\" class=\"dataframe\">\n",
       "  <thead>\n",
       "    <tr style=\"text-align: right;\">\n",
       "      <th></th>\n",
       "      <th>0</th>\n",
       "      <th>1</th>\n",
       "      <th>2</th>\n",
       "    </tr>\n",
       "  </thead>\n",
       "  <tbody>\n",
       "    <tr>\n",
       "      <th>0</th>\n",
       "      <td>Dependent Var.:</td>\n",
       "      <td>Y</td>\n",
       "      <td>Y</td>\n",
       "    </tr>\n",
       "    <tr>\n",
       "      <th>1</th>\n",
       "      <td></td>\n",
       "      <td></td>\n",
       "      <td></td>\n",
       "    </tr>\n",
       "    <tr>\n",
       "      <th>2</th>\n",
       "      <td>X1</td>\n",
       "      <td>0.112019*** (0.017009)</td>\n",
       "      <td>0.123687*** (0.019361)</td>\n",
       "    </tr>\n",
       "    <tr>\n",
       "      <th>3</th>\n",
       "      <td>X2</td>\n",
       "      <td>0.732788*** (0.004553)</td>\n",
       "      <td>0.732244*** (0.005140)</td>\n",
       "    </tr>\n",
       "    <tr>\n",
       "      <th>4</th>\n",
       "      <td>Fixed-Effects:</td>\n",
       "      <td>----------------------</td>\n",
       "      <td>----------------------</td>\n",
       "    </tr>\n",
       "    <tr>\n",
       "      <th>5</th>\n",
       "      <td>f1</td>\n",
       "      <td>Yes</td>\n",
       "      <td>Yes</td>\n",
       "    </tr>\n",
       "    <tr>\n",
       "      <th>6</th>\n",
       "      <td>f2</td>\n",
       "      <td>Yes</td>\n",
       "      <td>Yes</td>\n",
       "    </tr>\n",
       "    <tr>\n",
       "      <th>7</th>\n",
       "      <td>_______________</td>\n",
       "      <td>______________________</td>\n",
       "      <td>______________________</td>\n",
       "    </tr>\n",
       "    <tr>\n",
       "      <th>8</th>\n",
       "      <td>S.E. type</td>\n",
       "      <td>Heteroskedastici.-rob.</td>\n",
       "      <td>Heteroskedastici.-rob.</td>\n",
       "    </tr>\n",
       "    <tr>\n",
       "      <th>9</th>\n",
       "      <td>Observations</td>\n",
       "      <td>9,997</td>\n",
       "      <td>9,997</td>\n",
       "    </tr>\n",
       "    <tr>\n",
       "      <th>10</th>\n",
       "      <td>R2</td>\n",
       "      <td>0.77438</td>\n",
       "      <td>0.77526</td>\n",
       "    </tr>\n",
       "    <tr>\n",
       "      <th>11</th>\n",
       "      <td>Within R2</td>\n",
       "      <td>0.71822</td>\n",
       "      <td>0.71886</td>\n",
       "    </tr>\n",
       "  </tbody>\n",
       "</table>\n",
       "</div>"
      ],
      "text/plain": [
       "                  0                       1                       2\n",
       "0   Dependent Var.:                       Y                       Y\n",
       "1                                                                  \n",
       "2                X1  0.112019*** (0.017009)  0.123687*** (0.019361)\n",
       "3                X2  0.732788*** (0.004553)  0.732244*** (0.005140)\n",
       "4    Fixed-Effects:  ----------------------  ----------------------\n",
       "5                f1                     Yes                     Yes\n",
       "6                f2                     Yes                     Yes\n",
       "7   _______________  ______________________  ______________________\n",
       "8         S.E. type  Heteroskedastici.-rob.  Heteroskedastici.-rob.\n",
       "9      Observations                   9,997                   9,997\n",
       "10               R2                 0.77438                 0.77526\n",
       "11        Within R2                 0.71822                 0.71886"
      ]
     },
     "execution_count": 92,
     "metadata": {},
     "output_type": "execute_result"
    }
   ],
   "source": [
    "pd.DataFrame(fixest.etable(fit_r, fit_weights_r, digits=6)).T"
   ]
  },
  {
   "cell_type": "markdown",
   "metadata": {},
   "source": [
    "### Cluster-Robust Errors"
   ]
  },
  {
   "cell_type": "markdown",
   "metadata": {},
   "source": [
    "We conclude with cluster robust errors. "
   ]
  },
  {
   "cell_type": "code",
   "execution_count": 93,
   "metadata": {},
   "outputs": [
    {
     "name": "stderr",
     "output_type": "stream",
     "text": [
      "R[write to console]: NOTE: 3 observations removed because of NA values (LHS: 1, RHS: 1, Fixed-effects: 1).\n",
      "\n",
      "R[write to console]: NOTE: 3 observations removed because of NA values (LHS: 1, RHS: 1, Fixed-effects: 1).\n",
      "\n"
     ]
    }
   ],
   "source": [
    "fit = pf.feols(fml=\"Y ~ X1 + X2 | f1 + f2\", data=data, vcov={\"CRV1\": \"f1\"})\n",
    "fit_weights = pf.feols(\n",
    "    fml=\"Y ~ X1 + X2 | f1 + f2\", data=data, vcov={\"CRV1\": \"f1\"}, weights=\"weights\"\n",
    ")\n",
    "\n",
    "fit_r = fixest.feols(\n",
    "    ro.Formula(\"Y ~ X1 + X2 | f1 + f2\"),\n",
    "    data=data,\n",
    "    vcov=ro.Formula(\"~f1\"),\n",
    "    ssc=fixest.ssc(True, \"none\", True, \"min\", \"min\", False),\n",
    ")\n",
    "fit_r_weights = fixest.feols(\n",
    "    ro.Formula(\"Y ~ X1 + X2 | f1 + f2\"),\n",
    "    data=data,\n",
    "    weights=ro.Formula(\"~weights\"),\n",
    "    vcov=ro.Formula(\"~f1\"),\n",
    "    ssc=fixest.ssc(True, \"none\", True, \"min\", \"min\", False),\n",
    ")"
   ]
  },
  {
   "cell_type": "code",
   "execution_count": 94,
   "metadata": {},
   "outputs": [
    {
     "data": {
      "text/plain": [
       "array([[ 4.20345182e-16, -6.97387636e-17],\n",
       "       [-6.97404577e-17, -1.42166010e-17]])"
      ]
     },
     "execution_count": 94,
     "metadata": {},
     "output_type": "execute_result"
    }
   ],
   "source": [
    "fit._vcov - stats.vcov(fit_r)"
   ]
  },
  {
   "cell_type": "code",
   "execution_count": 95,
   "metadata": {},
   "outputs": [
    {
     "data": {
      "text/plain": [
       "array([[-3.95318402e-05,  2.05473422e-05],\n",
       "       [ 2.05473422e-05,  1.13249200e-06]])"
      ]
     },
     "execution_count": 95,
     "metadata": {},
     "output_type": "execute_result"
    }
   ],
   "source": [
    "fit_weights._vcov - stats.vcov(fit_weights_r)"
   ]
  },
  {
   "cell_type": "code",
   "execution_count": 96,
   "metadata": {},
   "outputs": [
    {
     "data": {
      "text/html": [
       "<style type=\"text/css\">\n",
       "#T_c24d5 tbody tr:nth-child(0) td {\n",
       "  background-color: #f0f0f0;\n",
       "}\n",
       "#T_c24d5 tbody tr:nth-child(1) td {\n",
       "  border-bottom: 2px solid black;\n",
       "}\n",
       "#T_c24d5 tbody tr:nth-child(3) td {\n",
       "  border-bottom: 1px solid black;\n",
       "}\n",
       "#T_c24d5 tbody tr:nth-child(5) td {\n",
       "  border-bottom: 1px solid black;\n",
       "}\n",
       "#T_c24d5 tbody tr:nth-child(8) td {\n",
       "  border-bottom: 1px solid black;\n",
       "}\n",
       "#T_c24d5 tbody td {\n",
       "  background-color: #ffffff;\n",
       "}\n",
       "#T_c24d5 tbody tr td:first-child {\n",
       "  background-color: #f0f0f0;\n",
       "  font-weight: bold;\n",
       "  text-align: left;\n",
       "}\n",
       "#T_c24d5_row0_col0, #T_c24d5_row0_col1, #T_c24d5_row0_col2, #T_c24d5_row1_col0, #T_c24d5_row1_col1, #T_c24d5_row1_col2, #T_c24d5_row2_col0, #T_c24d5_row2_col1, #T_c24d5_row2_col2, #T_c24d5_row3_col0, #T_c24d5_row3_col1, #T_c24d5_row3_col2, #T_c24d5_row4_col0, #T_c24d5_row4_col1, #T_c24d5_row4_col2, #T_c24d5_row5_col0, #T_c24d5_row5_col1, #T_c24d5_row5_col2, #T_c24d5_row6_col0, #T_c24d5_row6_col1, #T_c24d5_row6_col2, #T_c24d5_row7_col0, #T_c24d5_row7_col1, #T_c24d5_row7_col2 {\n",
       "  text-align: right;\n",
       "}\n",
       "</style>\n",
       "<table id=\"T_c24d5\">\n",
       "  <caption>Significance levels: * p < 0.05, ** p < 0.01, *** p < 0.001. Format of coefficient cell:\n",
       "Coefficient (Std. Error)</caption>\n",
       "  <thead>\n",
       "    <tr>\n",
       "      <th id=\"T_c24d5_level0_col0\" class=\"col_heading level0 col0\" ></th>\n",
       "      <th id=\"T_c24d5_level0_col1\" class=\"col_heading level0 col1\" >est1</th>\n",
       "      <th id=\"T_c24d5_level0_col2\" class=\"col_heading level0 col2\" >est2</th>\n",
       "    </tr>\n",
       "  </thead>\n",
       "  <tbody>\n",
       "    <tr>\n",
       "      <td id=\"T_c24d5_row0_col0\" class=\"data row0 col0\" >depvar</td>\n",
       "      <td id=\"T_c24d5_row0_col1\" class=\"data row0 col1\" >Y</td>\n",
       "      <td id=\"T_c24d5_row0_col2\" class=\"data row0 col2\" >Y</td>\n",
       "    </tr>\n",
       "    <tr>\n",
       "      <td id=\"T_c24d5_row1_col0\" class=\"data row1 col0\" >X1</td>\n",
       "      <td id=\"T_c24d5_row1_col1\" class=\"data row1 col1\" >0.112019*** (0.015816)</td>\n",
       "      <td id=\"T_c24d5_row1_col2\" class=\"data row1 col2\" >0.123687*** (0.018311)</td>\n",
       "    </tr>\n",
       "    <tr>\n",
       "      <td id=\"T_c24d5_row2_col0\" class=\"data row2 col0\" >X2</td>\n",
       "      <td id=\"T_c24d5_row2_col1\" class=\"data row2 col1\" >0.732788*** (0.004476)</td>\n",
       "      <td id=\"T_c24d5_row2_col2\" class=\"data row2 col2\" >0.732244*** (0.005249)</td>\n",
       "    </tr>\n",
       "    <tr>\n",
       "      <td id=\"T_c24d5_row3_col0\" class=\"data row3 col0\" >f1</td>\n",
       "      <td id=\"T_c24d5_row3_col1\" class=\"data row3 col1\" >x</td>\n",
       "      <td id=\"T_c24d5_row3_col2\" class=\"data row3 col2\" >x</td>\n",
       "    </tr>\n",
       "    <tr>\n",
       "      <td id=\"T_c24d5_row4_col0\" class=\"data row4 col0\" >f2</td>\n",
       "      <td id=\"T_c24d5_row4_col1\" class=\"data row4 col1\" >x</td>\n",
       "      <td id=\"T_c24d5_row4_col2\" class=\"data row4 col2\" >x</td>\n",
       "    </tr>\n",
       "    <tr>\n",
       "      <td id=\"T_c24d5_row5_col0\" class=\"data row5 col0\" >R2</td>\n",
       "      <td id=\"T_c24d5_row5_col1\" class=\"data row5 col1\" >0.774375</td>\n",
       "      <td id=\"T_c24d5_row5_col2\" class=\"data row5 col2\" >-</td>\n",
       "    </tr>\n",
       "    <tr>\n",
       "      <td id=\"T_c24d5_row6_col0\" class=\"data row6 col0\" >S.E. type</td>\n",
       "      <td id=\"T_c24d5_row6_col1\" class=\"data row6 col1\" >by: f1</td>\n",
       "      <td id=\"T_c24d5_row6_col2\" class=\"data row6 col2\" >by: f1</td>\n",
       "    </tr>\n",
       "    <tr>\n",
       "      <td id=\"T_c24d5_row7_col0\" class=\"data row7 col0\" >Observations</td>\n",
       "      <td id=\"T_c24d5_row7_col1\" class=\"data row7 col1\" >9997</td>\n",
       "      <td id=\"T_c24d5_row7_col2\" class=\"data row7 col2\" >9997</td>\n",
       "    </tr>\n",
       "  </tbody>\n",
       "</table>\n"
      ],
      "text/plain": [
       "<pandas.io.formats.style.Styler at 0x1e7bcb18eb0>"
      ]
     },
     "execution_count": 96,
     "metadata": {},
     "output_type": "execute_result"
    }
   ],
   "source": [
    "pf.etable([fit, fit_weights], digits=6)"
   ]
  },
  {
   "cell_type": "code",
   "execution_count": 97,
   "metadata": {},
   "outputs": [
    {
     "data": {
      "text/html": [
       "<div>\n",
       "<style scoped>\n",
       "    .dataframe tbody tr th:only-of-type {\n",
       "        vertical-align: middle;\n",
       "    }\n",
       "\n",
       "    .dataframe tbody tr th {\n",
       "        vertical-align: top;\n",
       "    }\n",
       "\n",
       "    .dataframe thead th {\n",
       "        text-align: right;\n",
       "    }\n",
       "</style>\n",
       "<table border=\"1\" class=\"dataframe\">\n",
       "  <thead>\n",
       "    <tr style=\"text-align: right;\">\n",
       "      <th></th>\n",
       "      <th>0</th>\n",
       "      <th>1</th>\n",
       "      <th>2</th>\n",
       "    </tr>\n",
       "  </thead>\n",
       "  <tbody>\n",
       "    <tr>\n",
       "      <th>0</th>\n",
       "      <td>Dependent Var.:</td>\n",
       "      <td>Y</td>\n",
       "      <td>Y</td>\n",
       "    </tr>\n",
       "    <tr>\n",
       "      <th>1</th>\n",
       "      <td></td>\n",
       "      <td></td>\n",
       "      <td></td>\n",
       "    </tr>\n",
       "    <tr>\n",
       "      <th>2</th>\n",
       "      <td>X1</td>\n",
       "      <td>0.112019*** (0.015816)</td>\n",
       "      <td>0.123687*** (0.018311)</td>\n",
       "    </tr>\n",
       "    <tr>\n",
       "      <th>3</th>\n",
       "      <td>X2</td>\n",
       "      <td>0.732788*** (0.004476)</td>\n",
       "      <td>0.732244*** (0.005249)</td>\n",
       "    </tr>\n",
       "    <tr>\n",
       "      <th>4</th>\n",
       "      <td>Fixed-Effects:</td>\n",
       "      <td>----------------------</td>\n",
       "      <td>----------------------</td>\n",
       "    </tr>\n",
       "    <tr>\n",
       "      <th>5</th>\n",
       "      <td>f1</td>\n",
       "      <td>Yes</td>\n",
       "      <td>Yes</td>\n",
       "    </tr>\n",
       "    <tr>\n",
       "      <th>6</th>\n",
       "      <td>f2</td>\n",
       "      <td>Yes</td>\n",
       "      <td>Yes</td>\n",
       "    </tr>\n",
       "    <tr>\n",
       "      <th>7</th>\n",
       "      <td>_______________</td>\n",
       "      <td>______________________</td>\n",
       "      <td>______________________</td>\n",
       "    </tr>\n",
       "    <tr>\n",
       "      <th>8</th>\n",
       "      <td>S.E.: Clustered</td>\n",
       "      <td>by: f1</td>\n",
       "      <td>by: f1</td>\n",
       "    </tr>\n",
       "    <tr>\n",
       "      <th>9</th>\n",
       "      <td>Observations</td>\n",
       "      <td>9,997</td>\n",
       "      <td>9,997</td>\n",
       "    </tr>\n",
       "    <tr>\n",
       "      <th>10</th>\n",
       "      <td>R2</td>\n",
       "      <td>0.77438</td>\n",
       "      <td>0.77526</td>\n",
       "    </tr>\n",
       "    <tr>\n",
       "      <th>11</th>\n",
       "      <td>Within R2</td>\n",
       "      <td>0.71822</td>\n",
       "      <td>0.71886</td>\n",
       "    </tr>\n",
       "  </tbody>\n",
       "</table>\n",
       "</div>"
      ],
      "text/plain": [
       "                  0                       1                       2\n",
       "0   Dependent Var.:                       Y                       Y\n",
       "1                                                                  \n",
       "2                X1  0.112019*** (0.015816)  0.123687*** (0.018311)\n",
       "3                X2  0.732788*** (0.004476)  0.732244*** (0.005249)\n",
       "4    Fixed-Effects:  ----------------------  ----------------------\n",
       "5                f1                     Yes                     Yes\n",
       "6                f2                     Yes                     Yes\n",
       "7   _______________  ______________________  ______________________\n",
       "8   S.E.: Clustered                  by: f1                  by: f1\n",
       "9      Observations                   9,997                   9,997\n",
       "10               R2                 0.77438                 0.77526\n",
       "11        Within R2                 0.71822                 0.71886"
      ]
     },
     "execution_count": 97,
     "metadata": {},
     "output_type": "execute_result"
    }
   ],
   "source": [
    "pd.DataFrame(fixest.etable(fit_r, fit_r_weights, digits=6)).T"
   ]
  },
  {
   "cell_type": "markdown",
   "metadata": {},
   "source": [
    "## Poisson Regression"
   ]
  },
  {
   "cell_type": "code",
   "execution_count": 98,
   "metadata": {},
   "outputs": [],
   "source": [
    "data = pf.get_data(model=\"Fepois\")"
   ]
  },
  {
   "cell_type": "code",
   "execution_count": 99,
   "metadata": {},
   "outputs": [
    {
     "name": "stderr",
     "output_type": "stream",
     "text": [
      "R[write to console]: NOTE: 3 observations removed because of NA values (LHS: 1, RHS: 1, Fixed-effects: 1).\n",
      "\n",
      "R[write to console]: NOTE: 3 observations removed because of NA values (LHS: 1, RHS: 1, Fixed-effects: 1).\n",
      "\n",
      "R[write to console]: NOTE: 3 observations removed because of NA values (LHS: 1, RHS: 1, Fixed-effects: 1).\n",
      "\n"
     ]
    }
   ],
   "source": [
    "fit_iid = pf.fepois(fml=\"Y ~ X1 + X2 | f1 + f2\", data=data, vcov=\"iid\", iwls_tol=1e-10)\n",
    "fit_hetero = pf.fepois(\n",
    "    fml=\"Y ~ X1 + X2 | f1 + f2\", data=data, vcov=\"hetero\", iwls_tol=1e-10\n",
    ")\n",
    "fit_crv = pf.fepois(\n",
    "    fml=\"Y ~ X1 + X2 | f1 + f2\", data=data, vcov={\"CRV1\": \"f1\"}, iwls_tol=1e-10\n",
    ")\n",
    "\n",
    "fit_r_iid = fixest.fepois(\n",
    "    ro.Formula(\"Y ~ X1 + X2 | f1 + f2\"),\n",
    "    data=data,\n",
    "    vcov=\"iid\",\n",
    "    ssc=fixest.ssc(True, \"none\", True, \"min\", \"min\", False),\n",
    ")\n",
    "\n",
    "fit_r_hetero = fixest.fepois(\n",
    "    ro.Formula(\"Y ~ X1 + X2 | f1 + f2\"),\n",
    "    data=data,\n",
    "    vcov=\"hetero\",\n",
    "    ssc=fixest.ssc(True, \"none\", True, \"min\", \"min\", False),\n",
    ")\n",
    "\n",
    "fit_r_crv = fixest.fepois(\n",
    "    ro.Formula(\"Y ~ X1 + X2 | f1 + f2\"),\n",
    "    data=data,\n",
    "    vcov=ro.Formula(\"~f1\"),\n",
    "    ssc=fixest.ssc(True, \"none\", True, \"min\", \"min\", False),\n",
    ")"
   ]
  },
  {
   "cell_type": "code",
   "execution_count": 100,
   "metadata": {},
   "outputs": [
    {
     "data": {
      "text/plain": [
       "array([[ 1.20791284e-08, -6.55604931e-10],\n",
       "       [-6.55604931e-10,  1.69958097e-09]])"
      ]
     },
     "execution_count": 100,
     "metadata": {},
     "output_type": "execute_result"
    }
   ],
   "source": [
    "fit_iid._vcov - stats.vcov(fit_r_iid)"
   ]
  },
  {
   "cell_type": "code",
   "execution_count": 101,
   "metadata": {},
   "outputs": [
    {
     "data": {
      "text/plain": [
       "array([[ 2.18101847e-08, -7.38711972e-10],\n",
       "       [-7.38711972e-10,  3.07587753e-09]])"
      ]
     },
     "execution_count": 101,
     "metadata": {},
     "output_type": "execute_result"
    }
   ],
   "source": [
    "fit_hetero._vcov - stats.vcov(fit_r_hetero)"
   ]
  },
  {
   "cell_type": "code",
   "execution_count": 102,
   "metadata": {},
   "outputs": [
    {
     "data": {
      "text/plain": [
       "array([[ 1.58300904e-08, -1.20806815e-10],\n",
       "       [-1.20806815e-10,  3.17512746e-09]])"
      ]
     },
     "execution_count": 102,
     "metadata": {},
     "output_type": "execute_result"
    }
   ],
   "source": [
    "fit_crv._vcov - stats.vcov(fit_r_crv)"
   ]
  },
  {
   "cell_type": "code",
   "execution_count": 103,
   "metadata": {},
   "outputs": [
    {
     "data": {
      "text/html": [
       "<style type=\"text/css\">\n",
       "#T_d66d4 tbody tr:nth-child(0) td {\n",
       "  background-color: #f0f0f0;\n",
       "}\n",
       "#T_d66d4 tbody tr:nth-child(1) td {\n",
       "  border-bottom: 2px solid black;\n",
       "}\n",
       "#T_d66d4 tbody tr:nth-child(3) td {\n",
       "  border-bottom: 1px solid black;\n",
       "}\n",
       "#T_d66d4 tbody tr:nth-child(5) td {\n",
       "  border-bottom: 1px solid black;\n",
       "}\n",
       "#T_d66d4 tbody tr:nth-child(8) td {\n",
       "  border-bottom: 1px solid black;\n",
       "}\n",
       "#T_d66d4 tbody td {\n",
       "  background-color: #ffffff;\n",
       "}\n",
       "#T_d66d4 tbody tr td:first-child {\n",
       "  background-color: #f0f0f0;\n",
       "  font-weight: bold;\n",
       "  text-align: left;\n",
       "}\n",
       "#T_d66d4_row0_col0, #T_d66d4_row0_col1, #T_d66d4_row0_col2, #T_d66d4_row0_col3, #T_d66d4_row1_col0, #T_d66d4_row1_col1, #T_d66d4_row1_col2, #T_d66d4_row1_col3, #T_d66d4_row2_col0, #T_d66d4_row2_col1, #T_d66d4_row2_col2, #T_d66d4_row2_col3, #T_d66d4_row3_col0, #T_d66d4_row3_col1, #T_d66d4_row3_col2, #T_d66d4_row3_col3, #T_d66d4_row4_col0, #T_d66d4_row4_col1, #T_d66d4_row4_col2, #T_d66d4_row4_col3, #T_d66d4_row5_col0, #T_d66d4_row5_col1, #T_d66d4_row5_col2, #T_d66d4_row5_col3, #T_d66d4_row6_col0, #T_d66d4_row6_col1, #T_d66d4_row6_col2, #T_d66d4_row6_col3, #T_d66d4_row7_col0, #T_d66d4_row7_col1, #T_d66d4_row7_col2, #T_d66d4_row7_col3 {\n",
       "  text-align: right;\n",
       "}\n",
       "</style>\n",
       "<table id=\"T_d66d4\">\n",
       "  <caption>Significance levels: * p < 0.05, ** p < 0.01, *** p < 0.001. Format of coefficient cell:\n",
       "Coefficient (Std. Error)</caption>\n",
       "  <thead>\n",
       "    <tr>\n",
       "      <th id=\"T_d66d4_level0_col0\" class=\"col_heading level0 col0\" ></th>\n",
       "      <th id=\"T_d66d4_level0_col1\" class=\"col_heading level0 col1\" >est1</th>\n",
       "      <th id=\"T_d66d4_level0_col2\" class=\"col_heading level0 col2\" >est2</th>\n",
       "      <th id=\"T_d66d4_level0_col3\" class=\"col_heading level0 col3\" >est3</th>\n",
       "    </tr>\n",
       "  </thead>\n",
       "  <tbody>\n",
       "    <tr>\n",
       "      <td id=\"T_d66d4_row0_col0\" class=\"data row0 col0\" >depvar</td>\n",
       "      <td id=\"T_d66d4_row0_col1\" class=\"data row0 col1\" >Y</td>\n",
       "      <td id=\"T_d66d4_row0_col2\" class=\"data row0 col2\" >Y</td>\n",
       "      <td id=\"T_d66d4_row0_col3\" class=\"data row0 col3\" >Y</td>\n",
       "    </tr>\n",
       "    <tr>\n",
       "      <td id=\"T_d66d4_row1_col0\" class=\"data row1 col0\" >X1</td>\n",
       "      <td id=\"T_d66d4_row1_col1\" class=\"data row1 col1\" >-0.006591 (0.040758)</td>\n",
       "      <td id=\"T_d66d4_row1_col2\" class=\"data row1 col2\" >-0.006591 (0.039145)</td>\n",
       "      <td id=\"T_d66d4_row1_col3\" class=\"data row1 col3\" >-0.006591 (0.034745)</td>\n",
       "    </tr>\n",
       "    <tr>\n",
       "      <td id=\"T_d66d4_row2_col0\" class=\"data row2 col0\" >X2</td>\n",
       "      <td id=\"T_d66d4_row2_col1\" class=\"data row2 col1\" >-0.014924 (0.010994)</td>\n",
       "      <td id=\"T_d66d4_row2_col2\" class=\"data row2 col2\" >-0.014924 (0.010501)</td>\n",
       "      <td id=\"T_d66d4_row2_col3\" class=\"data row2 col3\" >-0.014924 (0.010303)</td>\n",
       "    </tr>\n",
       "    <tr>\n",
       "      <td id=\"T_d66d4_row3_col0\" class=\"data row3 col0\" >f1</td>\n",
       "      <td id=\"T_d66d4_row3_col1\" class=\"data row3 col1\" >x</td>\n",
       "      <td id=\"T_d66d4_row3_col2\" class=\"data row3 col2\" >x</td>\n",
       "      <td id=\"T_d66d4_row3_col3\" class=\"data row3 col3\" >x</td>\n",
       "    </tr>\n",
       "    <tr>\n",
       "      <td id=\"T_d66d4_row4_col0\" class=\"data row4 col0\" >f2</td>\n",
       "      <td id=\"T_d66d4_row4_col1\" class=\"data row4 col1\" >x</td>\n",
       "      <td id=\"T_d66d4_row4_col2\" class=\"data row4 col2\" >x</td>\n",
       "      <td id=\"T_d66d4_row4_col3\" class=\"data row4 col3\" >x</td>\n",
       "    </tr>\n",
       "    <tr>\n",
       "      <td id=\"T_d66d4_row5_col0\" class=\"data row5 col0\" >R2</td>\n",
       "      <td id=\"T_d66d4_row5_col1\" class=\"data row5 col1\" >-</td>\n",
       "      <td id=\"T_d66d4_row5_col2\" class=\"data row5 col2\" >-</td>\n",
       "      <td id=\"T_d66d4_row5_col3\" class=\"data row5 col3\" >-</td>\n",
       "    </tr>\n",
       "    <tr>\n",
       "      <td id=\"T_d66d4_row6_col0\" class=\"data row6 col0\" >S.E. type</td>\n",
       "      <td id=\"T_d66d4_row6_col1\" class=\"data row6 col1\" >iid</td>\n",
       "      <td id=\"T_d66d4_row6_col2\" class=\"data row6 col2\" >hetero</td>\n",
       "      <td id=\"T_d66d4_row6_col3\" class=\"data row6 col3\" >by: f1</td>\n",
       "    </tr>\n",
       "    <tr>\n",
       "      <td id=\"T_d66d4_row7_col0\" class=\"data row7 col0\" >Observations</td>\n",
       "      <td id=\"T_d66d4_row7_col1\" class=\"data row7 col1\" >997</td>\n",
       "      <td id=\"T_d66d4_row7_col2\" class=\"data row7 col2\" >997</td>\n",
       "      <td id=\"T_d66d4_row7_col3\" class=\"data row7 col3\" >997</td>\n",
       "    </tr>\n",
       "  </tbody>\n",
       "</table>\n"
      ],
      "text/plain": [
       "<pandas.io.formats.style.Styler at 0x1e79a6a55a0>"
      ]
     },
     "execution_count": 103,
     "metadata": {},
     "output_type": "execute_result"
    }
   ],
   "source": [
    "pf.etable([fit_iid, fit_hetero, fit_crv], digits=6)"
   ]
  },
  {
   "cell_type": "code",
   "execution_count": 104,
   "metadata": {},
   "outputs": [
    {
     "data": {
      "text/html": [
       "<div>\n",
       "<style scoped>\n",
       "    .dataframe tbody tr th:only-of-type {\n",
       "        vertical-align: middle;\n",
       "    }\n",
       "\n",
       "    .dataframe tbody tr th {\n",
       "        vertical-align: top;\n",
       "    }\n",
       "\n",
       "    .dataframe thead th {\n",
       "        text-align: right;\n",
       "    }\n",
       "</style>\n",
       "<table border=\"1\" class=\"dataframe\">\n",
       "  <thead>\n",
       "    <tr style=\"text-align: right;\">\n",
       "      <th></th>\n",
       "      <th>0</th>\n",
       "      <th>1</th>\n",
       "      <th>2</th>\n",
       "      <th>3</th>\n",
       "    </tr>\n",
       "  </thead>\n",
       "  <tbody>\n",
       "    <tr>\n",
       "      <th>0</th>\n",
       "      <td>Dependent Var.:</td>\n",
       "      <td>Y</td>\n",
       "      <td>Y</td>\n",
       "      <td>Y</td>\n",
       "    </tr>\n",
       "    <tr>\n",
       "      <th>1</th>\n",
       "      <td></td>\n",
       "      <td></td>\n",
       "      <td></td>\n",
       "      <td></td>\n",
       "    </tr>\n",
       "    <tr>\n",
       "      <th>2</th>\n",
       "      <td>X1</td>\n",
       "      <td>-0.006591 (0.040758)</td>\n",
       "      <td>-0.006591 (0.039145)</td>\n",
       "      <td>-0.006591 (0.034745)</td>\n",
       "    </tr>\n",
       "    <tr>\n",
       "      <th>3</th>\n",
       "      <td>X2</td>\n",
       "      <td>-0.014924 (0.010994)</td>\n",
       "      <td>-0.014924 (0.010501)</td>\n",
       "      <td>-0.014924 (0.010302)</td>\n",
       "    </tr>\n",
       "    <tr>\n",
       "      <th>4</th>\n",
       "      <td>Fixed-Effects:</td>\n",
       "      <td>--------------------</td>\n",
       "      <td>--------------------</td>\n",
       "      <td>--------------------</td>\n",
       "    </tr>\n",
       "    <tr>\n",
       "      <th>5</th>\n",
       "      <td>f1</td>\n",
       "      <td>Yes</td>\n",
       "      <td>Yes</td>\n",
       "      <td>Yes</td>\n",
       "    </tr>\n",
       "    <tr>\n",
       "      <th>6</th>\n",
       "      <td>f2</td>\n",
       "      <td>Yes</td>\n",
       "      <td>Yes</td>\n",
       "      <td>Yes</td>\n",
       "    </tr>\n",
       "    <tr>\n",
       "      <th>7</th>\n",
       "      <td>_______________</td>\n",
       "      <td>____________________</td>\n",
       "      <td>____________________</td>\n",
       "      <td>____________________</td>\n",
       "    </tr>\n",
       "    <tr>\n",
       "      <th>8</th>\n",
       "      <td>S.E. type</td>\n",
       "      <td>IID</td>\n",
       "      <td>Heteroskedasti.-rob.</td>\n",
       "      <td>by: f1</td>\n",
       "    </tr>\n",
       "    <tr>\n",
       "      <th>9</th>\n",
       "      <td>Observations</td>\n",
       "      <td>997</td>\n",
       "      <td>997</td>\n",
       "      <td>997</td>\n",
       "    </tr>\n",
       "    <tr>\n",
       "      <th>10</th>\n",
       "      <td>Squared Cor.</td>\n",
       "      <td>0.07687</td>\n",
       "      <td>0.07687</td>\n",
       "      <td>0.07687</td>\n",
       "    </tr>\n",
       "    <tr>\n",
       "      <th>11</th>\n",
       "      <td>Pseudo R2</td>\n",
       "      <td>0.02866</td>\n",
       "      <td>0.02866</td>\n",
       "      <td>0.02866</td>\n",
       "    </tr>\n",
       "    <tr>\n",
       "      <th>12</th>\n",
       "      <td>BIC</td>\n",
       "      <td>2,934.7</td>\n",
       "      <td>2,934.7</td>\n",
       "      <td>2,934.7</td>\n",
       "    </tr>\n",
       "  </tbody>\n",
       "</table>\n",
       "</div>"
      ],
      "text/plain": [
       "                  0                     1                     2  \\\n",
       "0   Dependent Var.:                     Y                     Y   \n",
       "1                                                                 \n",
       "2                X1  -0.006591 (0.040758)  -0.006591 (0.039145)   \n",
       "3                X2  -0.014924 (0.010994)  -0.014924 (0.010501)   \n",
       "4    Fixed-Effects:  --------------------  --------------------   \n",
       "5                f1                   Yes                   Yes   \n",
       "6                f2                   Yes                   Yes   \n",
       "7   _______________  ____________________  ____________________   \n",
       "8         S.E. type                   IID  Heteroskedasti.-rob.   \n",
       "9      Observations                   997                   997   \n",
       "10     Squared Cor.               0.07687               0.07687   \n",
       "11        Pseudo R2               0.02866               0.02866   \n",
       "12              BIC               2,934.7               2,934.7   \n",
       "\n",
       "                       3  \n",
       "0                      Y  \n",
       "1                         \n",
       "2   -0.006591 (0.034745)  \n",
       "3   -0.014924 (0.010302)  \n",
       "4   --------------------  \n",
       "5                    Yes  \n",
       "6                    Yes  \n",
       "7   ____________________  \n",
       "8                 by: f1  \n",
       "9                    997  \n",
       "10               0.07687  \n",
       "11               0.02866  \n",
       "12               2,934.7  "
      ]
     },
     "execution_count": 104,
     "metadata": {},
     "output_type": "execute_result"
    }
   ],
   "source": [
    "pd.DataFrame(fixest.etable(fit_r_iid, fit_r_hetero, fit_r_crv, digits=6)).T"
   ]
  }
 ],
 "metadata": {
  "kernelspec": {
   "display_name": "pyfixest-pKOwcWPT-py3.10",
   "language": "python",
   "name": "python3"
  },
  "language_info": {
   "codemirror_mode": {
    "name": "ipython",
    "version": 3
   },
   "file_extension": ".py",
   "mimetype": "text/x-python",
   "name": "python",
   "nbconvert_exporter": "python",
   "pygments_lexer": "ipython3",
   "version": "3.10.8"
  }
 },
 "nbformat": 4,
 "nbformat_minor": 2
}
