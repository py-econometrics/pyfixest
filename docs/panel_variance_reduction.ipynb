{
 "cells": [
  {
   "cell_type": "markdown",
   "id": "7671c77a",
   "metadata": {},
   "source": [
    "## Panel Estimators for AB Tests with Repeated Observations"
   ]
  },
  {
   "cell_type": "code",
   "execution_count": null,
   "id": "3b206e77",
   "metadata": {},
   "outputs": [
    {
     "data": {
      "text/html": [
       "\n",
       "            <div id=\"HCqocJ\"></div>\n",
       "            <script type=\"text/javascript\" data-lets-plot-script=\"library\">\n",
       "                if(!window.letsPlotCallQueue) {\n",
       "                    window.letsPlotCallQueue = [];\n",
       "                }; \n",
       "                window.letsPlotCall = function(f) {\n",
       "                    window.letsPlotCallQueue.push(f);\n",
       "                };\n",
       "                (function() {\n",
       "                    var script = document.createElement(\"script\");\n",
       "                    script.type = \"text/javascript\";\n",
       "                    script.src = \"https://cdn.jsdelivr.net/gh/JetBrains/lets-plot@v4.6.2/js-package/distr/lets-plot.min.js\";\n",
       "                    script.onload = function() {\n",
       "                        window.letsPlotCall = function(f) {f();};\n",
       "                        window.letsPlotCallQueue.forEach(function(f) {f();});\n",
       "                        window.letsPlotCallQueue = [];\n",
       "                        \n",
       "                    };\n",
       "                    script.onerror = function(event) {\n",
       "                        window.letsPlotCall = function(f) {};    // noop\n",
       "                        window.letsPlotCallQueue = [];\n",
       "                        var div = document.createElement(\"div\");\n",
       "                        div.style.color = 'darkred';\n",
       "                        div.textContent = 'Error loading Lets-Plot JS';\n",
       "                        document.getElementById(\"HCqocJ\").appendChild(div);\n",
       "                    };\n",
       "                    var e = document.getElementById(\"HCqocJ\");\n",
       "                    e.appendChild(script);\n",
       "                })()\n",
       "            </script>\n",
       "            "
      ]
     },
     "metadata": {},
     "output_type": "display_data"
    },
    {
     "data": {
      "text/html": [
       "\n",
       "            <div id=\"vDFHwT\"></div>\n",
       "            <script type=\"text/javascript\" data-lets-plot-script=\"library\">\n",
       "                if(!window.letsPlotCallQueue) {\n",
       "                    window.letsPlotCallQueue = [];\n",
       "                }; \n",
       "                window.letsPlotCall = function(f) {\n",
       "                    window.letsPlotCallQueue.push(f);\n",
       "                };\n",
       "                (function() {\n",
       "                    var script = document.createElement(\"script\");\n",
       "                    script.type = \"text/javascript\";\n",
       "                    script.src = \"https://cdn.jsdelivr.net/gh/JetBrains/lets-plot@v4.6.2/js-package/distr/lets-plot.min.js\";\n",
       "                    script.onload = function() {\n",
       "                        window.letsPlotCall = function(f) {f();};\n",
       "                        window.letsPlotCallQueue.forEach(function(f) {f();});\n",
       "                        window.letsPlotCallQueue = [];\n",
       "                        \n",
       "                    };\n",
       "                    script.onerror = function(event) {\n",
       "                        window.letsPlotCall = function(f) {};    // noop\n",
       "                        window.letsPlotCallQueue = [];\n",
       "                        var div = document.createElement(\"div\");\n",
       "                        div.style.color = 'darkred';\n",
       "                        div.textContent = 'Error loading Lets-Plot JS';\n",
       "                        document.getElementById(\"vDFHwT\").appendChild(div);\n",
       "                    };\n",
       "                    var e = document.getElementById(\"vDFHwT\");\n",
       "                    e.appendChild(script);\n",
       "                })()\n",
       "            </script>\n",
       "            "
      ]
     },
     "metadata": {},
     "output_type": "display_data"
    }
   ],
   "source": [
    "import numpy as np\n",
    "import pandas as pd\n",
    "from IPython.display import display\n",
    "from tqdm import tqdm\n",
    "\n",
    "import pyfixest as pf\n",
    "from pyfixest.utils.dgps import get_sharkfin"
   ]
  },
  {
   "cell_type": "markdown",
   "id": "0e15e974",
   "metadata": {},
   "source": [
    "In this tutorial, we show how to use pyfixest to reduce the variance of your estimators in AB tests with repeated observations.\n",
    "\n",
    "For example, we may be a streaming platform and we want to estimate the effect of a new feature on the amount of time users spend watching videos. To do so, \n",
    "we randomly assign the treatment to half of our users. For 15 days prior to the experiment, we track the desired outcome (minutes watched) for each user. If\n",
    "users are not seen on the platform on a given day, the number of minutes watched is 0. Our experiment runs for 15 days. All in all, we have 30 days of data for each \n",
    "user. \n",
    "\n",
    "To get started, we simulate a panel data set of 100_000 users, with mentioned 30 days of data, with 15 days of pre and post data. "
   ]
  },
  {
   "cell_type": "code",
   "execution_count": 2,
   "id": "337fdce4",
   "metadata": {},
   "outputs": [
    {
     "data": {
      "text/html": [
       "<div>\n",
       "<style scoped>\n",
       "    .dataframe tbody tr th:only-of-type {\n",
       "        vertical-align: middle;\n",
       "    }\n",
       "\n",
       "    .dataframe tbody tr th {\n",
       "        vertical-align: top;\n",
       "    }\n",
       "\n",
       "    .dataframe thead th {\n",
       "        text-align: right;\n",
       "    }\n",
       "</style>\n",
       "<table border=\"1\" class=\"dataframe\">\n",
       "  <thead>\n",
       "    <tr style=\"text-align: right;\">\n",
       "      <th></th>\n",
       "      <th>user</th>\n",
       "      <th>day</th>\n",
       "      <th>treat</th>\n",
       "      <th>minutes_watched</th>\n",
       "      <th>ever_treated</th>\n",
       "    </tr>\n",
       "  </thead>\n",
       "  <tbody>\n",
       "    <tr>\n",
       "      <th>0</th>\n",
       "      <td>0</td>\n",
       "      <td>0</td>\n",
       "      <td>0</td>\n",
       "      <td>8.114488</td>\n",
       "      <td>0</td>\n",
       "    </tr>\n",
       "    <tr>\n",
       "      <th>1</th>\n",
       "      <td>0</td>\n",
       "      <td>1</td>\n",
       "      <td>0</td>\n",
       "      <td>7.633058</td>\n",
       "      <td>0</td>\n",
       "    </tr>\n",
       "    <tr>\n",
       "      <th>2</th>\n",
       "      <td>0</td>\n",
       "      <td>2</td>\n",
       "      <td>0</td>\n",
       "      <td>6.712332</td>\n",
       "      <td>0</td>\n",
       "    </tr>\n",
       "    <tr>\n",
       "      <th>3</th>\n",
       "      <td>0</td>\n",
       "      <td>3</td>\n",
       "      <td>0</td>\n",
       "      <td>6.230820</td>\n",
       "      <td>0</td>\n",
       "    </tr>\n",
       "    <tr>\n",
       "      <th>4</th>\n",
       "      <td>0</td>\n",
       "      <td>4</td>\n",
       "      <td>0</td>\n",
       "      <td>6.004489</td>\n",
       "      <td>0</td>\n",
       "    </tr>\n",
       "  </tbody>\n",
       "</table>\n",
       "</div>"
      ],
      "text/plain": [
       "   user  day  treat  minutes_watched  ever_treated\n",
       "0     0    0      0         8.114488             0\n",
       "1     0    1      0         7.633058             0\n",
       "2     0    2      0         6.712332             0\n",
       "3     0    3      0         6.230820             0\n",
       "4     0    4      0         6.004489             0"
      ]
     },
     "execution_count": 2,
     "metadata": {},
     "output_type": "execute_result"
    }
   ],
   "source": [
    "def get_data(num_units: int, sigma_unit: int) -> pd.DataFrame:\n",
    "    \"\"\"\n",
    "    Random example data set.\n",
    "    num_units: int\n",
    "        The number of users\n",
    "    sigma_unit: int\n",
    "        The user-level idosyncratic error term.\n",
    "    \"\"\"\n",
    "    data = get_sharkfin(\n",
    "        num_units=100_000,\n",
    "        num_periods=30,\n",
    "        num_treated=500,\n",
    "        treatment_start=15,\n",
    "        seed=231,\n",
    "        sigma_unit=18,\n",
    "    )\n",
    "    data = data.rename(columns={\"Y\": \"minutes_watched\", \"unit\": \"user\", \"year\": \"day\"})\n",
    "\n",
    "    return data\n",
    "\n",
    "\n",
    "data = get_data(num_units=100_000, sigma_unit=18)\n",
    "data.head()"
   ]
  },
  {
   "cell_type": "markdown",
   "id": "b125d2a3",
   "metadata": {},
   "source": [
    "We can inspect the data generating process via the `panelview()` function: "
   ]
  },
  {
   "cell_type": "code",
   "execution_count": 3,
   "id": "005e6a4d",
   "metadata": {},
   "outputs": [
    {
     "data": {
      "text/plain": [
       "<Axes: title={'center': 'Treatment Assignment Cohorts'}, xlabel='Day', ylabel='Cohort'>"
      ]
     },
     "execution_count": 3,
     "metadata": {},
     "output_type": "execute_result"
    },
    {
     "data": {
      "image/png": "[encoded data removed]",
      "text/plain": [
       "<Figure size 600x500 with 1 Axes>"
      ]
     },
     "metadata": {},
     "output_type": "display_data"
    }
   ],
   "source": [
    "pf.panelview(\n",
    "    data,\n",
    "    unit=\"user\",\n",
    "    time=\"day\",\n",
    "    treat=\"treat\",\n",
    "    collapse_to_cohort=True,\n",
    "    sort_by_timing=True,\n",
    "    ylab=\"Cohort\",\n",
    "    xlab=\"Day\",\n",
    "    title=\"Treatment Assignment Cohorts\",\n",
    "    figsize=(6, 5),\n",
    ")"
   ]
  },
  {
   "cell_type": "markdown",
   "id": "a368b4ea",
   "metadata": {},
   "source": [
    "We see that half of our users are treated after half the time. "
   ]
  },
  {
   "cell_type": "markdown",
   "id": "f9c7a8aa",
   "metadata": {},
   "source": [
    "In the next step, we will look at three different ways to compute the average treatment effect of our feature on the outcome: \n",
    "\n",
    "- First, we will compute a standard \"difference in means\" estimator and conduct a two-sampled t-test for inference. We do this both by hand and by means of linear regression. While standard, we will show that this estimator is relatively inefficient \n",
    "  as it throws aways valuable information from the pre-treatment periods.  \n",
    "- In a second step, we improve on the difference in means estimator and include pre-treatment measures of the outcome variable to our regression model. In the tech blog world, this method \n",
    "  is often referred to as CUPED (which stands for \"Controlled-experiment Using Pre-Experiment Data\" as far as we know). We will demonstrate that CUPED uted leads to a significant reduction in the variance of our estimators. Pre-treatment averages are a \"good control\" variable because \n",
    "  a) under uncondional randomization, pre-treatment averages should be uncorrelated of the treatment assignment and b) pre-treatment averages should be highly predictive of the post-treatment outcome. The intuition here is simply that users will behave similarly \"after\" the experiment starts / when receiving the treatment than they did before. \n",
    "- In a third step, we show that instead of using pre-treatment averages as a control variable, we can simply fit a panel model and control for user and time fixed effect. \n",
    "\n",
    "All three estimators identify the same average treatment effect, but the CUPED and panel estimator are much more efficient: they produce lower variances. \n",
    "\n",
    "But first, let's discuss why we are interested in reducing the variance of our estimators. "
   ]
  },
  {
   "cell_type": "markdown",
   "id": "d487603a",
   "metadata": {},
   "source": [
    "## Variance of Estimators, Statistical Power and Sample Size Requirements\n",
    "\n",
    "In statistical experiments, we care about power to make sure that we detect a true effect. \n",
    "\n",
    "It depends on the **signal-to-noise ratio**:\n",
    "\n",
    "$$\n",
    "\\text{Power} \\;\\sim\\; f\\!\\left(\\frac{|\\tau|}{\\text{SE}}\\right)\n",
    "$$\n",
    "\n",
    "where\n",
    "\n",
    "- $\\tau$ = the true effect size  \n",
    "- $\\text{SE} = \\frac{\\sigma}{\\sqrt{n}}$ = the standard error of the estimate  \n",
    "- $\\sigma$ = standard deviation of the outcome  \n",
    "- $n$ = sample size per group (if balanced)  \n",
    "\n",
    "So, anything that **increases the effect size**, **increases the sample size**, or **reduces outcome variance** will improve power. That's where our interest in variance reduction stems from. \n"
   ]
  },
  {
   "cell_type": "markdown",
   "id": "ef3befc5",
   "metadata": {},
   "source": [
    "## Simple Difference in Means Estimator"
   ]
  },
  {
   "cell_type": "markdown",
   "id": "94686a5c",
   "metadata": {},
   "source": [
    "The simplest way to analyse an AB test / estimate an average treatment effect is the difference in means estimator:  \n",
    "$$\n",
    "    \\tau = \\frac{1}{n_1} \\sum_{i=1}^{n_1} Y_{i,1} - \\frac{1}{n_0} \\sum_{i=1}^{n_0}  Y_{i,0}\n",
    "$$"
   ]
  },
  {
   "cell_type": "markdown",
   "id": "b037d365",
   "metadata": {},
   "source": [
    "We can compute it in a few lines of `pandas` by implementing three steps: \n",
    "- First, we throw away all pre-experimental data. \n",
    "- Then, we sum the post-treatment minutes watched into a single data point per user. \n",
    "- Finally, we compute the difference of means of total minutes watched between the treated and control group.\n",
    "Done! "
   ]
  },
  {
   "cell_type": "code",
   "execution_count": 4,
   "id": "5eeecd81",
   "metadata": {},
   "outputs": [
    {
     "data": {
      "text/html": [
       "<div>\n",
       "<style scoped>\n",
       "    .dataframe tbody tr th:only-of-type {\n",
       "        vertical-align: middle;\n",
       "    }\n",
       "\n",
       "    .dataframe tbody tr th {\n",
       "        vertical-align: top;\n",
       "    }\n",
       "\n",
       "    .dataframe thead th {\n",
       "        text-align: right;\n",
       "    }\n",
       "</style>\n",
       "<table border=\"1\" class=\"dataframe\">\n",
       "  <thead>\n",
       "    <tr style=\"text-align: right;\">\n",
       "      <th></th>\n",
       "      <th>user</th>\n",
       "      <th>total_minutes_watched</th>\n",
       "    </tr>\n",
       "    <tr>\n",
       "      <th>treat</th>\n",
       "      <th></th>\n",
       "      <th></th>\n",
       "    </tr>\n",
       "  </thead>\n",
       "  <tbody>\n",
       "    <tr>\n",
       "      <th>0</th>\n",
       "      <td>NaN</td>\n",
       "      <td>NaN</td>\n",
       "    </tr>\n",
       "    <tr>\n",
       "      <th>1</th>\n",
       "      <td>-1387.630151</td>\n",
       "      <td>0.761514</td>\n",
       "    </tr>\n",
       "  </tbody>\n",
       "</table>\n",
       "</div>"
      ],
      "text/plain": [
       "              user  total_minutes_watched\n",
       "treat                                    \n",
       "0              NaN                    NaN\n",
       "1     -1387.630151               0.761514"
      ]
     },
     "execution_count": 4,
     "metadata": {},
     "output_type": "execute_result"
    }
   ],
   "source": [
    "def _difference_in_means_pd(data):\n",
    "    # standard analyses: throw away pre-experimental data\n",
    "    data2 = data.copy()\n",
    "    data_post = data2[data2.day >= 15]\n",
    "    # collapse post-treatment minutes watched into a single data point per user\n",
    "    data_post_agg = (\n",
    "        data_post.groupby([\"user\", \"treat\"])\n",
    "        .agg({\"minutes_watched\": \"mean\"})\n",
    "        .reset_index()\n",
    "        .rename(columns={\"minutes_watched\": \"total_minutes_watched\"})\n",
    "    )\n",
    "    # compute difference of means estimator\n",
    "    return data_post_agg.groupby(\"treat\").mean().diff()\n",
    "\n",
    "\n",
    "_difference_in_means_pd(data)"
   ]
  },
  {
   "cell_type": "markdown",
   "id": "c5d99260",
   "metadata": {},
   "source": [
    "Because linear regression is just a fency way to compute and compare differences, we could also have estimated this via `pf.feols()`: "
   ]
  },
  {
   "cell_type": "code",
   "execution_count": 5,
   "id": "01495f78",
   "metadata": {},
   "outputs": [
    {
     "name": "stdout",
     "output_type": "stream",
     "text": [
      "###\n",
      "\n",
      "Estimation:  OLS\n",
      "Dep. var.: minutes_watched, Fixed effects: 0\n",
      "Inference:  iid\n",
      "Observations:  1500000\n",
      "\n",
      "| Coefficient   |   Estimate |   Std. Error |   t value |   Pr(>|t|) |   2.5% |   97.5% |\n",
      "|:--------------|-----------:|-------------:|----------:|-----------:|-------:|--------:|\n",
      "| Intercept     |      0.357 |        0.015 |    24.163 |      0.000 |  0.328 |   0.386 |\n",
      "| treat         |      0.762 |        0.209 |     3.641 |      0.000 |  0.352 |   1.171 |\n",
      "---\n",
      "RMSE: 18.07 R2: 0.0 \n"
     ]
    }
   ],
   "source": [
    "def _difference_in_means(data):\n",
    "    data2 = data.copy()\n",
    "\n",
    "    data_post = data2[data2.day >= 15]\n",
    "    fit = pf.feols(\"minutes_watched ~ treat\", data=data_post)\n",
    "\n",
    "    return fit\n",
    "\n",
    "\n",
    "fit_difference_in_means = _difference_in_means(data)\n",
    "fit_difference_in_means.summary()"
   ]
  },
  {
   "cell_type": "markdown",
   "id": "c9f44820",
   "metadata": {},
   "source": [
    "Note that no aggregation step is needed and that we get identical point estimates. As a bonus, we get standard errors and confidence intervals in the process. "
   ]
  },
  {
   "cell_type": "markdown",
   "id": "e972baa3",
   "metadata": {},
   "source": [
    "## Cuped: Using Pre-Experimental Measures of the Outcomes Variable as Controls\n",
    "\n",
    "Sometimes, throwing away data can be a winning strategy (\"garbage in garbage out\"), but not in this example: we have high-quality pre-experimental measures of the behavior \n",
    "of our users at hand, and we should use it in our favor! \n",
    "\n",
    "More specifically, instead of throwing away all of the pre-experimental measures, we could instead have used them as a control! \n",
    "\n",
    "This should help reduce the variance of our estimators because pre-experimental behavior is likely to be highly predicitive of what users do after the launch of the experiment. Consequently, including these baselines in our regression models should help us \"explain residual errors\" and thereby reduce the variance of our \n",
    "estimators. \n",
    "\n",
    "If this works, it's great news, as it allows us to run the same experiment on a smaller number of users and still achieve the same level of power!"
   ]
  },
  {
   "cell_type": "code",
   "execution_count": 6,
   "id": "817bb864",
   "metadata": {},
   "outputs": [],
   "source": [
    "def _regression_cuped(data):\n",
    "    data = data.copy()\n",
    "    data[\"pre_experiment\"] = data[\"day\"] < 15\n",
    "\n",
    "    # aggregate pre-post averages by user\n",
    "    agg = data.groupby([\"user\", \"pre_experiment\"], as_index=False).agg(\n",
    "        minutes_watched=(\"minutes_watched\", \"mean\")\n",
    "    )\n",
    "\n",
    "    wide = (\n",
    "        agg.pivot(index=\"user\", columns=\"pre_experiment\", values=\"minutes_watched\")\n",
    "        .rename(columns={True: \"minutes_pre\", False: \"minutes_post\"})\n",
    "        .reset_index()\n",
    "    )\n",
    "\n",
    "    wide = wide.merge(\n",
    "        data[[\"user\", \"ever_treated\"]].drop_duplicates(), on=\"user\", how=\"left\"\n",
    "    ).rename(columns={\"ever_treated\": \"treat\"})\n",
    "\n",
    "    # center the pre metric\n",
    "    mu_pre = wide[\"minutes_pre\"].mean()\n",
    "    wide[\"minutes_pre_c\"] = wide[\"minutes_pre\"] - mu_pre\n",
    "\n",
    "    fit_cuped = pf.feols(\n",
    "        \"minutes_post ~ treat + minutes_pre_c\", data=wide, vcov=\"hetero\"\n",
    "    )\n",
    "\n",
    "    return fit_cuped, wide\n",
    "\n",
    "\n",
    "fit_cuped, data_cuped = _regression_cuped(data)"
   ]
  },
  {
   "cell_type": "markdown",
   "id": "9ae49f77",
   "metadata": {},
   "source": [
    "Per user, we now log the total minutes watched before and after the treatment and then fit a regression model of the following form: ^^"
   ]
  },
  {
   "cell_type": "markdown",
   "id": "6df64964",
   "metadata": {},
   "source": [
    "$$\n",
    "    \\text{total minutes watched after treatment} = \\alpha + \\beta \\text{treat} + \\gamma (\\text{total minutes watched before treatment} - \\text{avg total minutes watched before treatment}) + \\epsilon\n",
    "$$"
   ]
  },
  {
   "cell_type": "code",
   "execution_count": 7,
   "id": "550da9fc",
   "metadata": {},
   "outputs": [
    {
     "data": {
      "text/html": [
       "<div>\n",
       "<style scoped>\n",
       "    .dataframe tbody tr th:only-of-type {\n",
       "        vertical-align: middle;\n",
       "    }\n",
       "\n",
       "    .dataframe tbody tr th {\n",
       "        vertical-align: top;\n",
       "    }\n",
       "\n",
       "    .dataframe thead th {\n",
       "        text-align: right;\n",
       "    }\n",
       "</style>\n",
       "<table border=\"1\" class=\"dataframe\">\n",
       "  <thead>\n",
       "    <tr style=\"text-align: right;\">\n",
       "      <th></th>\n",
       "      <th>user</th>\n",
       "      <th>minutes_post</th>\n",
       "      <th>minutes_pre</th>\n",
       "      <th>treat</th>\n",
       "      <th>minutes_pre_c</th>\n",
       "    </tr>\n",
       "  </thead>\n",
       "  <tbody>\n",
       "    <tr>\n",
       "      <th>0</th>\n",
       "      <td>0</td>\n",
       "      <td>7.747841</td>\n",
       "      <td>7.767178</td>\n",
       "      <td>0</td>\n",
       "      <td>7.894779</td>\n",
       "    </tr>\n",
       "    <tr>\n",
       "      <th>1</th>\n",
       "      <td>1</td>\n",
       "      <td>25.595928</td>\n",
       "      <td>24.674535</td>\n",
       "      <td>0</td>\n",
       "      <td>24.802136</td>\n",
       "    </tr>\n",
       "    <tr>\n",
       "      <th>2</th>\n",
       "      <td>2</td>\n",
       "      <td>-32.224392</td>\n",
       "      <td>-32.130334</td>\n",
       "      <td>0</td>\n",
       "      <td>-32.002733</td>\n",
       "    </tr>\n",
       "    <tr>\n",
       "      <th>3</th>\n",
       "      <td>3</td>\n",
       "      <td>-12.269762</td>\n",
       "      <td>-13.142435</td>\n",
       "      <td>0</td>\n",
       "      <td>-13.014835</td>\n",
       "    </tr>\n",
       "    <tr>\n",
       "      <th>4</th>\n",
       "      <td>4</td>\n",
       "      <td>-1.448348</td>\n",
       "      <td>-1.392043</td>\n",
       "      <td>0</td>\n",
       "      <td>-1.264442</td>\n",
       "    </tr>\n",
       "  </tbody>\n",
       "</table>\n",
       "</div>"
      ],
      "text/plain": [
       "   user  minutes_post  minutes_pre  treat  minutes_pre_c\n",
       "0     0      7.747841     7.767178      0       7.894779\n",
       "1     1     25.595928    24.674535      0      24.802136\n",
       "2     2    -32.224392   -32.130334      0     -32.002733\n",
       "3     3    -12.269762   -13.142435      0     -13.014835\n",
       "4     4     -1.448348    -1.392043      0      -1.264442"
      ]
     },
     "execution_count": 7,
     "metadata": {},
     "output_type": "execute_result"
    }
   ],
   "source": [
    "data_cuped.head()"
   ]
  },
  {
   "cell_type": "markdown",
   "id": "56861ab2",
   "metadata": {},
   "source": [
    "We can compare with the previous results: "
   ]
  },
  {
   "cell_type": "code",
   "execution_count": 8,
   "id": "67d8c3f6",
   "metadata": {},
   "outputs": [
    {
     "data": {
      "text/html": [
       "<div id=\"wupuajcfwh\" style=\"padding-left:0px;padding-right:0px;padding-top:10px;padding-bottom:10px;overflow-x:auto;overflow-y:auto;width:auto;height:auto;\">\n",
       "<style>\n",
       "#wupuajcfwh table {\n",
       "          font-family: -apple-system, BlinkMacSystemFont, 'Segoe UI', Roboto, Oxygen, Ubuntu, Cantarell, 'Helvetica Neue', 'Fira Sans', 'Droid Sans', Arial, sans-serif;\n",
       "          -webkit-font-smoothing: antialiased;\n",
       "          -moz-osx-font-smoothing: grayscale;\n",
       "        }\n",
       "\n",
       "#wupuajcfwh thead, tbody, tfoot, tr, td, th { border-style: none !important; }\n",
       " tr { background-color: transparent !important; }\n",
       "#wupuajcfwh p { margin: 0 !important; padding: 0 !important; }\n",
       " #wupuajcfwh .gt_table { display: table !important; border-collapse: collapse !important; line-height: normal !important; margin-left: auto !important; margin-right: auto !important; color: #333333 !important; font-size: 16px !important; font-weight: normal !important; font-style: normal !important; background-color: #FFFFFF !important; width: auto !important; border-top-style: solid !important; border-top-width: 2px !important; border-top-color: #A8A8A8 !important; border-right-style: none !important; border-right-width: 2px !important; border-right-color: #D3D3D3 !important; border-bottom-style: hidden !important; border-bottom-width: 2px !important; border-bottom-color: #A8A8A8 !important; border-left-style: none !important; border-left-width: 2px !important; border-left-color: #D3D3D3 !important; }\n",
       " #wupuajcfwh .gt_caption { padding-top: 4px !important; padding-bottom: 4px !important; }\n",
       " #wupuajcfwh .gt_title { color: #333333 !important; font-size: 125% !important; font-weight: initial !important; padding-top: 4px !important; padding-bottom: 4px !important; padding-left: 5px !important; padding-right: 5px !important; border-bottom-color: #FFFFFF !important; border-bottom-width: 0 !important; }\n",
       " #wupuajcfwh .gt_subtitle { color: #333333 !important; font-size: 85% !important; font-weight: initial !important; padding-top: 3px !important; padding-bottom: 5px !important; padding-left: 5px !important; padding-right: 5px !important; border-top-color: #FFFFFF !important; border-top-width: 0 !important; }\n",
       " #wupuajcfwh .gt_heading { background-color: #FFFFFF !important; text-align: center !important; border-bottom-color: #FFFFFF !important; border-left-style: none !important; border-left-width: 1px !important; border-left-color: #D3D3D3 !important; border-right-style: none !important; border-right-width: 1px !important; border-right-color: #D3D3D3 !important; }\n",
       " #wupuajcfwh .gt_bottom_border { border-bottom-style: solid !important; border-bottom-width: 2px !important; border-bottom-color: #D3D3D3 !important; }\n",
       " #wupuajcfwh .gt_col_headings { border-top-style: solid !important; border-top-width: 2px !important; border-top-color: black !important; border-bottom-style: solid !important; border-bottom-width: 0.5px !important; border-bottom-color: black !important; border-left-style: none !important; border-left-width: 1px !important; border-left-color: #D3D3D3 !important; border-right-style: none !important; border-right-width: 1px !important; border-right-color: #D3D3D3 !important; }\n",
       " #wupuajcfwh .gt_col_heading { color: #333333 !important; background-color: #FFFFFF !important; font-size: 100% !important; font-weight: normal !important; text-transform: inherit !important; border-left-style: none !important; border-left-width: 0px !important; border-left-color: white !important; border-right-style: none !important; border-right-width: 0px !important; border-right-color: white !important; vertical-align: bottom !important; padding-top: 4px !important; padding-bottom: 5px !important; padding-left: 5px !important; padding-right: 5px !important; overflow-x: hidden !important; }\n",
       " #wupuajcfwh .gt_column_spanner_outer { color: #333333 !important; background-color: #FFFFFF !important; font-size: 100% !important; font-weight: normal !important; text-transform: inherit !important; padding-top: 0 !important; padding-bottom: 0 !important; padding-left: 4px !important; padding-right: 4px !important; }\n",
       " #wupuajcfwh .gt_column_spanner_outer:first-child { padding-left: 0 !important; }\n",
       " #wupuajcfwh .gt_column_spanner_outer:last-child { padding-right: 0 !important; }\n",
       " #wupuajcfwh .gt_column_spanner { border-bottom-style: solid !important; border-bottom-width: 0.5px !important; border-bottom-color: black !important; vertical-align: bottom !important; padding-top: 4px !important; padding-bottom: 4px !important; overflow-x: hidden !important; display: inline-block !important; width: 100% !important; }\n",
       " #wupuajcfwh .gt_spanner_row { border-bottom-style: hidden !important; }\n",
       " #wupuajcfwh .gt_group_heading { padding-top: 0px !important; padding-bottom: 0px !important; padding-left: 5px !important; padding-right: 5px !important; color: #333333 !important; background-color: #FFFFFF !important; font-size: 0px !important; font-weight: initial !important; text-transform: inherit !important; border-top-style: solid !important; border-top-width: 0.5px !important; border-top-color: black !important; border-bottom-style: solid !important; border-bottom-width: 0.5px !important; border-bottom-color: black !important; border-left-style: none !important; border-left-width: 1px !important; border-left-color: white !important; border-right-style: none !important; border-right-width: 1px !important; border-right-color: white !important; vertical-align: middle !important; text-align: left !important; }\n",
       " #wupuajcfwh .gt_empty_group_heading { padding: 0.5px !important; color: #333333 !important; background-color: #FFFFFF !important; font-size: 0px !important; font-weight: initial !important; border-top-style: solid !important; border-top-width: 0.5px !important; border-top-color: black !important; border-bottom-style: solid !important; border-bottom-width: 0.5px !important; border-bottom-color: black !important; vertical-align: middle !important; }\n",
       " #wupuajcfwh .gt_from_md> :first-child { margin-top: 0 !important; }\n",
       " #wupuajcfwh .gt_from_md> :last-child { margin-bottom: 0 !important; }\n",
       " #wupuajcfwh .gt_row { padding-top: 4px !important; padding-bottom: 4px !important; padding-left: 5px !important; padding-right: 5px !important; margin: 10px !important; border-top-style: none !important; border-top-width: 1px !important; border-top-color: #D3D3D3 !important; border-left-style: none !important; border-left-width: 0px !important; border-left-color: white !important; border-right-style: none !important; border-right-width: 0px !important; border-right-color: white !important; vertical-align: middle !important; overflow-x: hidden !important; }\n",
       " #wupuajcfwh .gt_stub { color: #333333 !important; background-color: #FFFFFF !important; font-size: 100% !important; font-weight: initial !important; text-transform: inherit !important; border-right-style: hidden !important; border-right-width: 2px !important; border-right-color: #D3D3D3 !important; padding-left: 5px !important; padding-right: 5px !important; }\n",
       " #wupuajcfwh .gt_stub_row_group { color: #333333 !important; background-color: #FFFFFF !important; font-size: 100% !important; font-weight: initial !important; text-transform: inherit !important; border-right-style: solid !important; border-right-width: 2px !important; border-right-color: #D3D3D3 !important; padding-left: 5px !important; padding-right: 5px !important; vertical-align: top !important; }\n",
       " #wupuajcfwh .gt_row_group_first td { border-top-width: 0.5px !important; }\n",
       " #wupuajcfwh .gt_row_group_first th { border-top-width: 0.5px !important; }\n",
       " #wupuajcfwh .gt_striped { background-color: rgba(128,128,128,0.05) !important; }\n",
       " #wupuajcfwh .gt_table_body { border-top-style: solid !important; border-top-width: 0.5px !important; border-top-color: black !important; border-bottom-style: solid !important; border-bottom-width: 2px !important; border-bottom-color: black !important; }\n",
       " #wupuajcfwh .gt_sourcenotes { color: #333333 !important; background-color: #FFFFFF !important; border-bottom-style: none !important; border-bottom-width: 2px !important; border-bottom-color: #D3D3D3 !important; border-left-style: none !important; border-left-width: 2px !important; border-left-color: #D3D3D3 !important; border-right-style: none !important; border-right-width: 2px !important; border-right-color: #D3D3D3 !important; }\n",
       " #wupuajcfwh .gt_sourcenote { font-size: 90% !important; padding-top: 4px !important; padding-bottom: 4px !important; padding-left: 5px !important; padding-right: 5px !important; text-align: left !important; }\n",
       " #wupuajcfwh .gt_left { text-align: left !important; }\n",
       " #wupuajcfwh .gt_center { text-align: center !important; }\n",
       " #wupuajcfwh .gt_right { text-align: right !important; font-variant-numeric: tabular-nums !important; }\n",
       " #wupuajcfwh .gt_font_normal { font-weight: normal !important; }\n",
       " #wupuajcfwh .gt_font_bold { font-weight: bold !important; }\n",
       " #wupuajcfwh .gt_font_italic { font-style: italic !important; }\n",
       " #wupuajcfwh .gt_super { font-size: 65% !important; }\n",
       " #wupuajcfwh .gt_footnote_marks { font-size: 75% !important; vertical-align: 0.4em !important; position: initial !important; }\n",
       " #wupuajcfwh .gt_asterisk { font-size: 100% !important; vertical-align: 0 !important; }\n",
       " \n",
       "</style>\n",
       "<table class=\"gt_table\" data-quarto-disable-processing=\"false\" data-quarto-bootstrap=\"false\">\n",
       "<thead>\n",
       "\n",
       "<tr class=\"gt_col_headings gt_spanner_row\">\n",
       "  <th class=\"gt_col_heading gt_columns_bottom_border gt_left\" rowspan=\"2\" colspan=\"1\" scope=\"col\" id=\"\"></th>\n",
       "  <th class=\"gt_center gt_columns_top_border gt_column_spanner_outer\" rowspan=\"1\" colspan=\"1\" scope=\"col\" id=\"minutes_watched\">\n",
       "    <span class=\"gt_column_spanner\">minutes_watched</span>\n",
       "  </th>\n",
       "  <th class=\"gt_center gt_columns_top_border gt_column_spanner_outer\" rowspan=\"1\" colspan=\"1\" scope=\"col\" id=\"minutes_post\">\n",
       "    <span class=\"gt_column_spanner\">minutes_post</span>\n",
       "  </th>\n",
       "</tr>\n",
       "<tr class=\"gt_col_headings\">\n",
       "  <th class=\"gt_col_heading gt_columns_bottom_border gt_center\" rowspan=\"1\" colspan=\"1\" scope=\"col\" id=\"0\">(1)</th>\n",
       "  <th class=\"gt_col_heading gt_columns_bottom_border gt_center\" rowspan=\"1\" colspan=\"1\" scope=\"col\" id=\"1\">(2)</th>\n",
       "</tr>\n",
       "</thead>\n",
       "<tbody class=\"gt_table_body\">\n",
       "  <tr class=\"gt_group_heading_row\">\n",
       "    <th class=\"gt_group_heading\" colspan=\"3\">coef</th>\n",
       "  </tr>\n",
       "  <tr>\n",
       "    <th class=\"gt_row gt_left gt_stub\">treat</th>\n",
       "    <td class=\"gt_row gt_center\">0.762*** <br> (0.209)</td>\n",
       "    <td class=\"gt_row gt_center\">0.192*** <br> (0.029)</td>\n",
       "  </tr>\n",
       "  <tr>\n",
       "    <th class=\"gt_row gt_left gt_stub\">minutes_pre_c</th>\n",
       "    <td class=\"gt_row gt_center\"></td>\n",
       "    <td class=\"gt_row gt_center\">0.999*** <br> (0.000)</td>\n",
       "  </tr>\n",
       "  <tr>\n",
       "    <th class=\"gt_row gt_left gt_stub\">Intercept</th>\n",
       "    <td class=\"gt_row gt_center\">0.357*** <br> (0.015)</td>\n",
       "    <td class=\"gt_row gt_center\">0.360*** <br> (0.002)</td>\n",
       "  </tr>\n",
       "  <tr class=\"gt_group_heading_row\">\n",
       "    <th class=\"gt_group_heading\" colspan=\"3\">stats</th>\n",
       "  </tr>\n",
       "  <tr>\n",
       "    <th class=\"gt_row gt_left gt_stub\">Observations</th>\n",
       "    <td class=\"gt_row gt_center\">1500000</td>\n",
       "    <td class=\"gt_row gt_center\">100000</td>\n",
       "  </tr>\n",
       "  <tr>\n",
       "    <th class=\"gt_row gt_left gt_stub\">S.E. type</th>\n",
       "    <td class=\"gt_row gt_center\">iid</td>\n",
       "    <td class=\"gt_row gt_center\">hetero</td>\n",
       "  </tr>\n",
       "  <tr>\n",
       "    <th class=\"gt_row gt_left gt_stub\">R<sup>2</sup></th>\n",
       "    <td class=\"gt_row gt_center\">0.000</td>\n",
       "    <td class=\"gt_row gt_center\">0.999</td>\n",
       "  </tr>\n",
       "  <tr>\n",
       "    <th class=\"gt_row gt_left gt_stub\">Adj. R<sup>2</sup></th>\n",
       "    <td class=\"gt_row gt_center\">0.000</td>\n",
       "    <td class=\"gt_row gt_center\">0.999</td>\n",
       "  </tr>\n",
       "</tbody>\n",
       "  <tfoot class=\"gt_sourcenotes\">\n",
       "  \n",
       "  <tr>\n",
       "    <td class=\"gt_sourcenote\" colspan=\"3\">Significance levels: * p &lt; 0.05, ** p &lt; 0.01, *** p &lt; 0.001. Format of coefficient cell:\n",
       "Coefficient \n",
       " (Std. Error)</td>\n",
       "  </tr>\n",
       "\n",
       "</tfoot>\n",
       "\n",
       "</table>\n",
       "\n",
       "</div>\n",
       "        "
      ],
      "text/plain": [
       "GT(_tbl_data=  level_0             level_1                      0                      1\n",
       "0    coef               treat  0.762*** <br> (0.209)  0.192*** <br> (0.029)\n",
       "1    coef       minutes_pre_c                         0.999*** <br> (0.000)\n",
       "2    coef           Intercept  0.357*** <br> (0.015)  0.360*** <br> (0.002)\n",
       "3   stats        Observations                1500000                 100000\n",
       "4   stats           S.E. type                    iid                 hetero\n",
       "5   stats       R<sup>2</sup>                  0.000                  0.999\n",
       "6   stats  Adj. R<sup>2</sup>                  0.000                  0.999, _body=<great_tables._gt_data.Body object at 0x0000028E524DB3E0>, _boxhead=Boxhead([ColInfo(var='level_0', type=<ColInfoTypeEnum.row_group: 3>, column_label='level_0', column_align='center', column_width=None), ColInfo(var='level_1', type=<ColInfoTypeEnum.stub: 2>, column_label='level_1', column_align='center', column_width=None), ColInfo(var='0', type=<ColInfoTypeEnum.default: 1>, column_label='(1)', column_align='center', column_width=None), ColInfo(var='1', type=<ColInfoTypeEnum.default: 1>, column_label='(2)', column_align='center', column_width=None)]), _stub=<great_tables._gt_data.Stub object at 0x0000028E6AB85610>, _spanners=Spanners([SpannerInfo(spanner_id='minutes_watched', spanner_level=1, spanner_label='minutes_watched', spanner_units=None, spanner_pattern=None, vars=['0'], built=None), SpannerInfo(spanner_id='minutes_post', spanner_level=1, spanner_label='minutes_post', spanner_units=None, spanner_pattern=None, vars=['1'], built=None)]), _heading=Heading(title=None, subtitle=None, preheader=None), _stubhead=None, _source_notes=['Significance levels: * p < 0.05, ** p < 0.01, *** p < 0.001. Format of coefficient cell:\\nCoefficient \\n (Std. Error)'], _footnotes=[], _styles=[], _locale=<great_tables._gt_data.Locale object at 0x0000028E6AB84680>, _formats=[], _substitutions=[], _options=Options(table_id=OptionsInfo(scss=False, category='table', type='value', value=None), table_caption=OptionsInfo(scss=False, category='table', type='value', value=None), table_width=OptionsInfo(scss=True, category='table', type='px', value='auto'), table_layout=OptionsInfo(scss=True, category='table', type='value', value='fixed'), table_margin_left=OptionsInfo(scss=True, category='table', type='px', value='auto'), table_margin_right=OptionsInfo(scss=True, category='table', type='px', value='auto'), table_background_color=OptionsInfo(scss=True, category='table', type='value', value='#FFFFFF'), table_additional_css=OptionsInfo(scss=False, category='table', type='values', value=[]), table_font_names=OptionsInfo(scss=False, category='table', type='values', value=['-apple-system', 'BlinkMacSystemFont', 'Segoe UI', 'Roboto', 'Oxygen', 'Ubuntu', 'Cantarell', 'Helvetica Neue', 'Fira Sans', 'Droid Sans', 'Arial', 'sans-serif']), table_font_size=OptionsInfo(scss=True, category='table', type='px', value='16px'), table_font_weight=OptionsInfo(scss=True, category='table', type='value', value='normal'), table_font_style=OptionsInfo(scss=True, category='table', type='value', value='normal'), table_font_color=OptionsInfo(scss=True, category='table', type='value', value='#333333'), table_font_color_light=OptionsInfo(scss=True, category='table', type='value', value='#FFFFFF'), table_border_top_include=OptionsInfo(scss=False, category='table', type='boolean', value=True), table_border_top_style=OptionsInfo(scss=True, category='table', type='value', value='solid'), table_border_top_width=OptionsInfo(scss=True, category='table', type='px', value='2px'), table_border_top_color=OptionsInfo(scss=True, category='table', type='value', value='#A8A8A8'), table_border_right_style=OptionsInfo(scss=True, category='table', type='value', value='none'), table_border_right_width=OptionsInfo(scss=True, category='table', type='px', value='2px'), table_border_right_color=OptionsInfo(scss=True, category='table', type='value', value='#D3D3D3'), table_border_bottom_include=OptionsInfo(scss=False, category='table', type='boolean', value=True), table_border_bottom_style=OptionsInfo(scss=True, category='table', type='value', value='hidden'), table_border_bottom_width=OptionsInfo(scss=True, category='table', type='px', value='2px'), table_border_bottom_color=OptionsInfo(scss=True, category='table', type='value', value='#A8A8A8'), table_border_left_style=OptionsInfo(scss=True, category='table', type='value', value='none'), table_border_left_width=OptionsInfo(scss=True, category='table', type='px', value='2px'), table_border_left_color=OptionsInfo(scss=True, category='table', type='value', value='#D3D3D3'), heading_background_color=OptionsInfo(scss=True, category='heading', type='value', value=None), heading_align=OptionsInfo(scss=True, category='heading', type='value', value='center'), heading_title_font_size=OptionsInfo(scss=True, category='heading', type='px', value='125%'), heading_title_font_weight=OptionsInfo(scss=True, category='heading', type='value', value='initial'), heading_subtitle_font_size=OptionsInfo(scss=True, category='heading', type='px', value='85%'), heading_subtitle_font_weight=OptionsInfo(scss=True, category='heading', type='value', value='initial'), heading_padding=OptionsInfo(scss=True, category='heading', type='px', value='4px'), heading_padding_horizontal=OptionsInfo(scss=True, category='heading', type='px', value='5px'), heading_border_bottom_style=OptionsInfo(scss=True, category='heading', type='value', value='solid'), heading_border_bottom_width=OptionsInfo(scss=True, category='heading', type='px', value='2px'), heading_border_bottom_color=OptionsInfo(scss=True, category='heading', type='value', value='#D3D3D3'), heading_border_lr_style=OptionsInfo(scss=True, category='heading', type='value', value='none'), heading_border_lr_width=OptionsInfo(scss=True, category='heading', type='px', value='1px'), heading_border_lr_color=OptionsInfo(scss=True, category='heading', type='value', value='#D3D3D3'), column_labels_background_color=OptionsInfo(scss=True, category='column_labels', type='value', value=None), column_labels_font_size=OptionsInfo(scss=True, category='column_labels', type='px', value='100%'), column_labels_font_weight=OptionsInfo(scss=True, category='column_labels', type='value', value='normal'), column_labels_text_transform=OptionsInfo(scss=True, category='column_labels', type='value', value='inherit'), column_labels_padding=OptionsInfo(scss=True, category='column_labels', type='px', value='4px'), column_labels_padding_horizontal=OptionsInfo(scss=True, category='column_labels', type='px', value='5px'), column_labels_vlines_style=OptionsInfo(scss=True, category='table_body', type='value', value='none'), column_labels_vlines_width=OptionsInfo(scss=True, category='table_body', type='px', value='0px'), column_labels_vlines_color=OptionsInfo(scss=True, category='table_body', type='value', value='white'), column_labels_border_top_style=OptionsInfo(scss=True, category='column_labels', type='value', value='solid'), column_labels_border_top_width=OptionsInfo(scss=True, category='column_labels', type='px', value='2px'), column_labels_border_top_color=OptionsInfo(scss=True, category='column_labels', type='value', value='black'), column_labels_border_bottom_style=OptionsInfo(scss=True, category='column_labels', type='value', value='solid'), column_labels_border_bottom_width=OptionsInfo(scss=True, category='column_labels', type='px', value='0.5px'), column_labels_border_bottom_color=OptionsInfo(scss=True, category='column_labels', type='value', value='black'), column_labels_border_lr_style=OptionsInfo(scss=True, category='column_labels', type='value', value='none'), column_labels_border_lr_width=OptionsInfo(scss=True, category='column_labels', type='px', value='1px'), column_labels_border_lr_color=OptionsInfo(scss=True, category='column_labels', type='value', value='#D3D3D3'), column_labels_hidden=OptionsInfo(scss=False, category='column_labels', type='boolean', value=False), row_group_background_color=OptionsInfo(scss=True, category='row_group', type='value', value=None), row_group_font_size=OptionsInfo(scss=True, category='row_group', type='px', value='0px'), row_group_font_weight=OptionsInfo(scss=True, category='row_group', type='value', value='initial'), row_group_text_transform=OptionsInfo(scss=True, category='row_group', type='value', value='inherit'), row_group_padding=OptionsInfo(scss=True, category='row_group', type='px', value='0px'), row_group_padding_horizontal=OptionsInfo(scss=True, category='row_group', type='px', value='5px'), row_group_border_top_style=OptionsInfo(scss=True, category='row_group', type='value', value='solid'), row_group_border_top_width=OptionsInfo(scss=True, category='row_group', type='px', value='0.5px'), row_group_border_top_color=OptionsInfo(scss=True, category='row_group', type='value', value='black'), row_group_border_right_style=OptionsInfo(scss=True, category='row_group', type='value', value='none'), row_group_border_right_width=OptionsInfo(scss=True, category='row_group', type='px', value='1px'), row_group_border_right_color=OptionsInfo(scss=True, category='row_group', type='value', value='white'), row_group_border_bottom_style=OptionsInfo(scss=True, category='row_group', type='value', value='solid'), row_group_border_bottom_width=OptionsInfo(scss=True, category='row_group', type='px', value='0.5px'), row_group_border_bottom_color=OptionsInfo(scss=True, category='row_group', type='value', value='black'), row_group_border_left_style=OptionsInfo(scss=True, category='row_group', type='value', value='none'), row_group_border_left_width=OptionsInfo(scss=True, category='row_group', type='px', value='1px'), row_group_border_left_color=OptionsInfo(scss=True, category='row_group', type='value', value='white'), row_group_as_column=OptionsInfo(scss=False, category='row_group', type='boolean', value=False), table_body_hlines_style=OptionsInfo(scss=True, category='table_body', type='value', value='none'), table_body_hlines_width=OptionsInfo(scss=True, category='table_body', type='px', value='1px'), table_body_hlines_color=OptionsInfo(scss=True, category='table_body', type='value', value='#D3D3D3'), table_body_vlines_style=OptionsInfo(scss=True, category='table_body', type='value', value='none'), table_body_vlines_width=OptionsInfo(scss=True, category='table_body', type='px', value='0px'), table_body_vlines_color=OptionsInfo(scss=True, category='table_body', type='value', value='white'), table_body_border_top_style=OptionsInfo(scss=True, category='table_body', type='value', value='solid'), table_body_border_top_width=OptionsInfo(scss=True, category='table_body', type='px', value='0.5px'), table_body_border_top_color=OptionsInfo(scss=True, category='table_body', type='value', value='black'), table_body_border_bottom_style=OptionsInfo(scss=True, category='table_body', type='value', value='solid'), table_body_border_bottom_width=OptionsInfo(scss=True, category='table_body', type='px', value='2px'), table_body_border_bottom_color=OptionsInfo(scss=True, category='table_body', type='value', value='black'), data_row_padding=OptionsInfo(scss=True, category='data_row', type='px', value='4px'), data_row_padding_horizontal=OptionsInfo(scss=True, category='data_row', type='px', value='5px'), stub_background_color=OptionsInfo(scss=True, category='stub', type='value', value=None), stub_font_size=OptionsInfo(scss=True, category='stub', type='px', value='100%'), stub_font_weight=OptionsInfo(scss=True, category='stub', type='value', value='initial'), stub_text_transform=OptionsInfo(scss=True, category='stub', type='value', value='inherit'), stub_border_style=OptionsInfo(scss=True, category='stub', type='value', value='hidden'), stub_border_width=OptionsInfo(scss=True, category='stub', type='px', value='2px'), stub_border_color=OptionsInfo(scss=True, category='stub', type='value', value='#D3D3D3'), stub_row_group_background_color=OptionsInfo(scss=True, category='stub', type='value', value=None), stub_row_group_font_size=OptionsInfo(scss=True, category='stub', type='px', value='100%'), stub_row_group_font_weight=OptionsInfo(scss=True, category='stub', type='value', value='initial'), stub_row_group_text_transform=OptionsInfo(scss=True, category='stub', type='value', value='inherit'), stub_row_group_border_style=OptionsInfo(scss=True, category='stub', type='value', value='solid'), stub_row_group_border_width=OptionsInfo(scss=True, category='stub', type='px', value='2px'), stub_row_group_border_color=OptionsInfo(scss=True, category='stub', type='value', value='#D3D3D3'), source_notes_padding=OptionsInfo(scss=True, category='source_notes', type='px', value='4px'), source_notes_padding_horizontal=OptionsInfo(scss=True, category='source_notes', type='px', value='5px'), source_notes_background_color=OptionsInfo(scss=True, category='source_notes', type='value', value=None), source_notes_font_size=OptionsInfo(scss=True, category='source_notes', type='px', value='90%'), source_notes_border_bottom_style=OptionsInfo(scss=True, category='source_notes', type='value', value='none'), source_notes_border_bottom_width=OptionsInfo(scss=True, category='source_notes', type='px', value='2px'), source_notes_border_bottom_color=OptionsInfo(scss=True, category='source_notes', type='value', value='#D3D3D3'), source_notes_border_lr_style=OptionsInfo(scss=True, category='source_notes', type='value', value='none'), source_notes_border_lr_width=OptionsInfo(scss=True, category='source_notes', type='px', value='2px'), source_notes_border_lr_color=OptionsInfo(scss=True, category='source_notes', type='value', value='#D3D3D3'), source_notes_multiline=OptionsInfo(scss=False, category='source_notes', type='boolean', value=True), source_notes_sep=OptionsInfo(scss=False, category='source_notes', type='value', value=' '), row_striping_background_color=OptionsInfo(scss=True, category='row', type='value', value='rgba(128,128,128,0.05)'), row_striping_include_stub=OptionsInfo(scss=False, category='row', type='boolean', value=False), row_striping_include_table_body=OptionsInfo(scss=False, category='row', type='boolean', value=False), container_width=OptionsInfo(scss=False, category='container', type='px', value='auto'), container_height=OptionsInfo(scss=False, category='container', type='px', value='auto'), container_padding_x=OptionsInfo(scss=False, category='container', type='px', value='0px'), container_padding_y=OptionsInfo(scss=False, category='container', type='px', value='10px'), container_overflow_x=OptionsInfo(scss=False, category='container', type='overflow', value='auto'), container_overflow_y=OptionsInfo(scss=False, category='container', type='overflow', value='auto'), quarto_disable_processing=OptionsInfo(scss=False, category='quarto', type='logical', value=False), quarto_use_bootstrap=OptionsInfo(scss=False, category='quarto', type='logical', value=False)), _has_built=False)"
      ]
     },
     "execution_count": 8,
     "metadata": {},
     "output_type": "execute_result"
    }
   ],
   "source": [
    "pf.etable([fit_difference_in_means, fit_cuped])"
   ]
  },
  {
   "cell_type": "markdown",
   "id": "34dc9d20",
   "metadata": {},
   "source": [
    "Point estimates for the difference-in-means estimator is 0.762, while it is 0.192 for the Cuped estimator. But most importantly, the standard errors are much smaller for the CUPED estimator (0.03 vs 0.209). Because we have fitted a regression model with covariates, we have used heteroskedasticity-robust standard errors, which should be more conservative than the iid errors used in the difference-in-means regression."
   ]
  },
  {
   "cell_type": "markdown",
   "id": "2899a0fe",
   "metadata": {},
   "source": [
    "## Panel Estimator\n",
    "\n",
    "Instead of collapsing all pre-and post information into a single average (and thereby losing information), we can as well be lazy and just use a panel estimator.\n",
    "\n",
    "Via `pyfixest`, that's one line of code: "
   ]
  },
  {
   "cell_type": "code",
   "execution_count": 9,
   "id": "0e6998a8",
   "metadata": {},
   "outputs": [],
   "source": [
    "fit_panel = pf.feols(\n",
    "    \"minutes_watched ~ treat | user + day\",\n",
    "    data=data,\n",
    "    vcov=\"hetero\",\n",
    "    demeaner_backend=\"rust\",\n",
    ")"
   ]
  },
  {
   "cell_type": "markdown",
   "id": "52670ecf",
   "metadata": {},
   "source": [
    "We can compare all results: "
   ]
  },
  {
   "cell_type": "code",
   "execution_count": 10,
   "id": "8cf20732",
   "metadata": {},
   "outputs": [
    {
     "data": {
      "text/html": [
       "<div id=\"vispcmjwzb\" style=\"padding-left:0px;padding-right:0px;padding-top:10px;padding-bottom:10px;overflow-x:auto;overflow-y:auto;width:auto;height:auto;\">\n",
       "<style>\n",
       "#vispcmjwzb table {\n",
       "          font-family: -apple-system, BlinkMacSystemFont, 'Segoe UI', Roboto, Oxygen, Ubuntu, Cantarell, 'Helvetica Neue', 'Fira Sans', 'Droid Sans', Arial, sans-serif;\n",
       "          -webkit-font-smoothing: antialiased;\n",
       "          -moz-osx-font-smoothing: grayscale;\n",
       "        }\n",
       "\n",
       "#vispcmjwzb thead, tbody, tfoot, tr, td, th { border-style: none !important; }\n",
       " tr { background-color: transparent !important; }\n",
       "#vispcmjwzb p { margin: 0 !important; padding: 0 !important; }\n",
       " #vispcmjwzb .gt_table { display: table !important; border-collapse: collapse !important; line-height: normal !important; margin-left: auto !important; margin-right: auto !important; color: #333333 !important; font-size: 16px !important; font-weight: normal !important; font-style: normal !important; background-color: #FFFFFF !important; width: auto !important; border-top-style: solid !important; border-top-width: 2px !important; border-top-color: #A8A8A8 !important; border-right-style: none !important; border-right-width: 2px !important; border-right-color: #D3D3D3 !important; border-bottom-style: hidden !important; border-bottom-width: 2px !important; border-bottom-color: #A8A8A8 !important; border-left-style: none !important; border-left-width: 2px !important; border-left-color: #D3D3D3 !important; }\n",
       " #vispcmjwzb .gt_caption { padding-top: 4px !important; padding-bottom: 4px !important; }\n",
       " #vispcmjwzb .gt_title { color: #333333 !important; font-size: 125% !important; font-weight: initial !important; padding-top: 4px !important; padding-bottom: 4px !important; padding-left: 5px !important; padding-right: 5px !important; border-bottom-color: #FFFFFF !important; border-bottom-width: 0 !important; }\n",
       " #vispcmjwzb .gt_subtitle { color: #333333 !important; font-size: 85% !important; font-weight: initial !important; padding-top: 3px !important; padding-bottom: 5px !important; padding-left: 5px !important; padding-right: 5px !important; border-top-color: #FFFFFF !important; border-top-width: 0 !important; }\n",
       " #vispcmjwzb .gt_heading { background-color: #FFFFFF !important; text-align: center !important; border-bottom-color: #FFFFFF !important; border-left-style: none !important; border-left-width: 1px !important; border-left-color: #D3D3D3 !important; border-right-style: none !important; border-right-width: 1px !important; border-right-color: #D3D3D3 !important; }\n",
       " #vispcmjwzb .gt_bottom_border { border-bottom-style: solid !important; border-bottom-width: 2px !important; border-bottom-color: #D3D3D3 !important; }\n",
       " #vispcmjwzb .gt_col_headings { border-top-style: solid !important; border-top-width: 2px !important; border-top-color: black !important; border-bottom-style: solid !important; border-bottom-width: 0.5px !important; border-bottom-color: black !important; border-left-style: none !important; border-left-width: 1px !important; border-left-color: #D3D3D3 !important; border-right-style: none !important; border-right-width: 1px !important; border-right-color: #D3D3D3 !important; }\n",
       " #vispcmjwzb .gt_col_heading { color: #333333 !important; background-color: #FFFFFF !important; font-size: 100% !important; font-weight: normal !important; text-transform: inherit !important; border-left-style: none !important; border-left-width: 0px !important; border-left-color: white !important; border-right-style: none !important; border-right-width: 0px !important; border-right-color: white !important; vertical-align: bottom !important; padding-top: 4px !important; padding-bottom: 5px !important; padding-left: 5px !important; padding-right: 5px !important; overflow-x: hidden !important; }\n",
       " #vispcmjwzb .gt_column_spanner_outer { color: #333333 !important; background-color: #FFFFFF !important; font-size: 100% !important; font-weight: normal !important; text-transform: inherit !important; padding-top: 0 !important; padding-bottom: 0 !important; padding-left: 4px !important; padding-right: 4px !important; }\n",
       " #vispcmjwzb .gt_column_spanner_outer:first-child { padding-left: 0 !important; }\n",
       " #vispcmjwzb .gt_column_spanner_outer:last-child { padding-right: 0 !important; }\n",
       " #vispcmjwzb .gt_column_spanner { border-bottom-style: solid !important; border-bottom-width: 0.5px !important; border-bottom-color: black !important; vertical-align: bottom !important; padding-top: 4px !important; padding-bottom: 4px !important; overflow-x: hidden !important; display: inline-block !important; width: 100% !important; }\n",
       " #vispcmjwzb .gt_spanner_row { border-bottom-style: hidden !important; }\n",
       " #vispcmjwzb .gt_group_heading { padding-top: 0px !important; padding-bottom: 0px !important; padding-left: 5px !important; padding-right: 5px !important; color: #333333 !important; background-color: #FFFFFF !important; font-size: 0px !important; font-weight: initial !important; text-transform: inherit !important; border-top-style: solid !important; border-top-width: 0.5px !important; border-top-color: black !important; border-bottom-style: solid !important; border-bottom-width: 0.5px !important; border-bottom-color: black !important; border-left-style: none !important; border-left-width: 1px !important; border-left-color: white !important; border-right-style: none !important; border-right-width: 1px !important; border-right-color: white !important; vertical-align: middle !important; text-align: left !important; }\n",
       " #vispcmjwzb .gt_empty_group_heading { padding: 0.5px !important; color: #333333 !important; background-color: #FFFFFF !important; font-size: 0px !important; font-weight: initial !important; border-top-style: solid !important; border-top-width: 0.5px !important; border-top-color: black !important; border-bottom-style: solid !important; border-bottom-width: 0.5px !important; border-bottom-color: black !important; vertical-align: middle !important; }\n",
       " #vispcmjwzb .gt_from_md> :first-child { margin-top: 0 !important; }\n",
       " #vispcmjwzb .gt_from_md> :last-child { margin-bottom: 0 !important; }\n",
       " #vispcmjwzb .gt_row { padding-top: 4px !important; padding-bottom: 4px !important; padding-left: 5px !important; padding-right: 5px !important; margin: 10px !important; border-top-style: none !important; border-top-width: 1px !important; border-top-color: #D3D3D3 !important; border-left-style: none !important; border-left-width: 0px !important; border-left-color: white !important; border-right-style: none !important; border-right-width: 0px !important; border-right-color: white !important; vertical-align: middle !important; overflow-x: hidden !important; }\n",
       " #vispcmjwzb .gt_stub { color: #333333 !important; background-color: #FFFFFF !important; font-size: 100% !important; font-weight: initial !important; text-transform: inherit !important; border-right-style: hidden !important; border-right-width: 2px !important; border-right-color: #D3D3D3 !important; padding-left: 5px !important; padding-right: 5px !important; }\n",
       " #vispcmjwzb .gt_stub_row_group { color: #333333 !important; background-color: #FFFFFF !important; font-size: 100% !important; font-weight: initial !important; text-transform: inherit !important; border-right-style: solid !important; border-right-width: 2px !important; border-right-color: #D3D3D3 !important; padding-left: 5px !important; padding-right: 5px !important; vertical-align: top !important; }\n",
       " #vispcmjwzb .gt_row_group_first td { border-top-width: 0.5px !important; }\n",
       " #vispcmjwzb .gt_row_group_first th { border-top-width: 0.5px !important; }\n",
       " #vispcmjwzb .gt_striped { background-color: rgba(128,128,128,0.05) !important; }\n",
       " #vispcmjwzb .gt_table_body { border-top-style: solid !important; border-top-width: 0.5px !important; border-top-color: black !important; border-bottom-style: solid !important; border-bottom-width: 2px !important; border-bottom-color: black !important; }\n",
       " #vispcmjwzb .gt_sourcenotes { color: #333333 !important; background-color: #FFFFFF !important; border-bottom-style: none !important; border-bottom-width: 2px !important; border-bottom-color: #D3D3D3 !important; border-left-style: none !important; border-left-width: 2px !important; border-left-color: #D3D3D3 !important; border-right-style: none !important; border-right-width: 2px !important; border-right-color: #D3D3D3 !important; }\n",
       " #vispcmjwzb .gt_sourcenote { font-size: 90% !important; padding-top: 4px !important; padding-bottom: 4px !important; padding-left: 5px !important; padding-right: 5px !important; text-align: left !important; }\n",
       " #vispcmjwzb .gt_left { text-align: left !important; }\n",
       " #vispcmjwzb .gt_center { text-align: center !important; }\n",
       " #vispcmjwzb .gt_right { text-align: right !important; font-variant-numeric: tabular-nums !important; }\n",
       " #vispcmjwzb .gt_font_normal { font-weight: normal !important; }\n",
       " #vispcmjwzb .gt_font_bold { font-weight: bold !important; }\n",
       " #vispcmjwzb .gt_font_italic { font-style: italic !important; }\n",
       " #vispcmjwzb .gt_super { font-size: 65% !important; }\n",
       " #vispcmjwzb .gt_footnote_marks { font-size: 75% !important; vertical-align: 0.4em !important; position: initial !important; }\n",
       " #vispcmjwzb .gt_asterisk { font-size: 100% !important; vertical-align: 0 !important; }\n",
       " \n",
       "</style>\n",
       "<table class=\"gt_table\" data-quarto-disable-processing=\"false\" data-quarto-bootstrap=\"false\">\n",
       "<thead>\n",
       "\n",
       "<tr class=\"gt_col_headings gt_spanner_row\">\n",
       "  <th class=\"gt_col_heading gt_columns_bottom_border gt_left\" rowspan=\"2\" colspan=\"1\" scope=\"col\" id=\"\"></th>\n",
       "  <th class=\"gt_center gt_columns_top_border gt_column_spanner_outer\" rowspan=\"1\" colspan=\"1\" scope=\"col\" id=\"minutes_watched\">\n",
       "    <span class=\"gt_column_spanner\">minutes_watched</span>\n",
       "  </th>\n",
       "  <th class=\"gt_center gt_columns_top_border gt_column_spanner_outer\" rowspan=\"1\" colspan=\"1\" scope=\"col\" id=\"minutes_post\">\n",
       "    <span class=\"gt_column_spanner\">minutes_post</span>\n",
       "  </th>\n",
       "  <th class=\"gt_center gt_columns_top_border gt_column_spanner_outer\" rowspan=\"1\" colspan=\"1\" scope=\"col\" id=\"minutes_watched\">\n",
       "    <span class=\"gt_column_spanner\">minutes_watched</span>\n",
       "  </th>\n",
       "</tr>\n",
       "<tr class=\"gt_col_headings\">\n",
       "  <th class=\"gt_col_heading gt_columns_bottom_border gt_center\" rowspan=\"1\" colspan=\"1\" scope=\"col\" id=\"0\">(1)</th>\n",
       "  <th class=\"gt_col_heading gt_columns_bottom_border gt_center\" rowspan=\"1\" colspan=\"1\" scope=\"col\" id=\"1\">(2)</th>\n",
       "  <th class=\"gt_col_heading gt_columns_bottom_border gt_center\" rowspan=\"1\" colspan=\"1\" scope=\"col\" id=\"2\">(3)</th>\n",
       "</tr>\n",
       "</thead>\n",
       "<tbody class=\"gt_table_body\">\n",
       "  <tr class=\"gt_group_heading_row\">\n",
       "    <th class=\"gt_group_heading\" colspan=\"4\">coef</th>\n",
       "  </tr>\n",
       "  <tr>\n",
       "    <th class=\"gt_row gt_left gt_stub\">treat</th>\n",
       "    <td class=\"gt_row gt_center\">0.762*** <br> (0.209)</td>\n",
       "    <td class=\"gt_row gt_center\">0.192*** <br> (0.029)</td>\n",
       "    <td class=\"gt_row gt_center\">0.191*** <br> (0.012)</td>\n",
       "  </tr>\n",
       "  <tr>\n",
       "    <th class=\"gt_row gt_left gt_stub\">minutes_pre_c</th>\n",
       "    <td class=\"gt_row gt_center\"></td>\n",
       "    <td class=\"gt_row gt_center\">0.999*** <br> (0.000)</td>\n",
       "    <td class=\"gt_row gt_center\"></td>\n",
       "  </tr>\n",
       "  <tr>\n",
       "    <th class=\"gt_row gt_left gt_stub\">Intercept</th>\n",
       "    <td class=\"gt_row gt_center\">0.357*** <br> (0.015)</td>\n",
       "    <td class=\"gt_row gt_center\">0.360*** <br> (0.002)</td>\n",
       "    <td class=\"gt_row gt_center\"></td>\n",
       "  </tr>\n",
       "  <tr class=\"gt_group_heading_row\">\n",
       "    <th class=\"gt_group_heading\" colspan=\"4\">fe</th>\n",
       "  </tr>\n",
       "  <tr>\n",
       "    <th class=\"gt_row gt_left gt_stub\">day</th>\n",
       "    <td class=\"gt_row gt_center\">-</td>\n",
       "    <td class=\"gt_row gt_center\">-</td>\n",
       "    <td class=\"gt_row gt_center\">x</td>\n",
       "  </tr>\n",
       "  <tr>\n",
       "    <th class=\"gt_row gt_left gt_stub\">user</th>\n",
       "    <td class=\"gt_row gt_center\">-</td>\n",
       "    <td class=\"gt_row gt_center\">-</td>\n",
       "    <td class=\"gt_row gt_center\">x</td>\n",
       "  </tr>\n",
       "  <tr class=\"gt_group_heading_row\">\n",
       "    <th class=\"gt_group_heading\" colspan=\"4\">stats</th>\n",
       "  </tr>\n",
       "  <tr>\n",
       "    <th class=\"gt_row gt_left gt_stub\">Observations</th>\n",
       "    <td class=\"gt_row gt_center\">1500000</td>\n",
       "    <td class=\"gt_row gt_center\">100000</td>\n",
       "    <td class=\"gt_row gt_center\">3000000</td>\n",
       "  </tr>\n",
       "  <tr>\n",
       "    <th class=\"gt_row gt_left gt_stub\">S.E. type</th>\n",
       "    <td class=\"gt_row gt_center\">iid</td>\n",
       "    <td class=\"gt_row gt_center\">hetero</td>\n",
       "    <td class=\"gt_row gt_center\">hetero</td>\n",
       "  </tr>\n",
       "  <tr>\n",
       "    <th class=\"gt_row gt_left gt_stub\">R<sup>2</sup></th>\n",
       "    <td class=\"gt_row gt_center\">0.000</td>\n",
       "    <td class=\"gt_row gt_center\">0.999</td>\n",
       "    <td class=\"gt_row gt_center\">0.999</td>\n",
       "  </tr>\n",
       "  <tr>\n",
       "    <th class=\"gt_row gt_left gt_stub\">R<sup>2</sup> Within</th>\n",
       "    <td class=\"gt_row gt_center\">-</td>\n",
       "    <td class=\"gt_row gt_center\">-</td>\n",
       "    <td class=\"gt_row gt_center\">0.000</td>\n",
       "  </tr>\n",
       "</tbody>\n",
       "  <tfoot class=\"gt_sourcenotes\">\n",
       "  \n",
       "  <tr>\n",
       "    <td class=\"gt_sourcenote\" colspan=\"4\">Significance levels: * p &lt; 0.05, ** p &lt; 0.01, *** p &lt; 0.001. Format of coefficient cell:\n",
       "Coefficient \n",
       " (Std. Error)</td>\n",
       "  </tr>\n",
       "\n",
       "</tfoot>\n",
       "\n",
       "</table>\n",
       "\n",
       "</div>\n",
       "        "
      ],
      "text/plain": [
       "GT(_tbl_data=  level_0               level_1                      0                      1  \\\n",
       "0    coef                 treat  0.762*** <br> (0.209)  0.192*** <br> (0.029)   \n",
       "1    coef         minutes_pre_c                         0.999*** <br> (0.000)   \n",
       "2    coef             Intercept  0.357*** <br> (0.015)  0.360*** <br> (0.002)   \n",
       "3      fe                   day                      -                      -   \n",
       "4      fe                  user                      -                      -   \n",
       "5   stats          Observations                1500000                 100000   \n",
       "6   stats             S.E. type                    iid                 hetero   \n",
       "7   stats         R<sup>2</sup>                  0.000                  0.999   \n",
       "8   stats  R<sup>2</sup> Within                      -                      -   \n",
       "\n",
       "                       2  \n",
       "0  0.191*** <br> (0.012)  \n",
       "1                         \n",
       "2                         \n",
       "3                      x  \n",
       "4                      x  \n",
       "5                3000000  \n",
       "6                 hetero  \n",
       "7                  0.999  \n",
       "8                  0.000  , _body=<great_tables._gt_data.Body object at 0x0000028E6AAC2690>, _boxhead=Boxhead([ColInfo(var='level_0', type=<ColInfoTypeEnum.row_group: 3>, column_label='level_0', column_align='center', column_width=None), ColInfo(var='level_1', type=<ColInfoTypeEnum.stub: 2>, column_label='level_1', column_align='center', column_width=None), ColInfo(var='0', type=<ColInfoTypeEnum.default: 1>, column_label='(1)', column_align='center', column_width=None), ColInfo(var='1', type=<ColInfoTypeEnum.default: 1>, column_label='(2)', column_align='center', column_width=None), ColInfo(var='2', type=<ColInfoTypeEnum.default: 1>, column_label='(3)', column_align='center', column_width=None)]), _stub=<great_tables._gt_data.Stub object at 0x0000028E6AAC2F30>, _spanners=Spanners([SpannerInfo(spanner_id='minutes_watched', spanner_level=1, spanner_label='minutes_watched', spanner_units=None, spanner_pattern=None, vars=['0', '2'], built=None), SpannerInfo(spanner_id='minutes_post', spanner_level=1, spanner_label='minutes_post', spanner_units=None, spanner_pattern=None, vars=['1'], built=None)]), _heading=Heading(title=None, subtitle=None, preheader=None), _stubhead=None, _source_notes=['Significance levels: * p < 0.05, ** p < 0.01, *** p < 0.001. Format of coefficient cell:\\nCoefficient \\n (Std. Error)'], _footnotes=[], _styles=[], _locale=<great_tables._gt_data.Locale object at 0x0000028E6AAC2BD0>, _formats=[], _substitutions=[], _options=Options(table_id=OptionsInfo(scss=False, category='table', type='value', value=None), table_caption=OptionsInfo(scss=False, category='table', type='value', value=None), table_width=OptionsInfo(scss=True, category='table', type='px', value='auto'), table_layout=OptionsInfo(scss=True, category='table', type='value', value='fixed'), table_margin_left=OptionsInfo(scss=True, category='table', type='px', value='auto'), table_margin_right=OptionsInfo(scss=True, category='table', type='px', value='auto'), table_background_color=OptionsInfo(scss=True, category='table', type='value', value='#FFFFFF'), table_additional_css=OptionsInfo(scss=False, category='table', type='values', value=[]), table_font_names=OptionsInfo(scss=False, category='table', type='values', value=['-apple-system', 'BlinkMacSystemFont', 'Segoe UI', 'Roboto', 'Oxygen', 'Ubuntu', 'Cantarell', 'Helvetica Neue', 'Fira Sans', 'Droid Sans', 'Arial', 'sans-serif']), table_font_size=OptionsInfo(scss=True, category='table', type='px', value='16px'), table_font_weight=OptionsInfo(scss=True, category='table', type='value', value='normal'), table_font_style=OptionsInfo(scss=True, category='table', type='value', value='normal'), table_font_color=OptionsInfo(scss=True, category='table', type='value', value='#333333'), table_font_color_light=OptionsInfo(scss=True, category='table', type='value', value='#FFFFFF'), table_border_top_include=OptionsInfo(scss=False, category='table', type='boolean', value=True), table_border_top_style=OptionsInfo(scss=True, category='table', type='value', value='solid'), table_border_top_width=OptionsInfo(scss=True, category='table', type='px', value='2px'), table_border_top_color=OptionsInfo(scss=True, category='table', type='value', value='#A8A8A8'), table_border_right_style=OptionsInfo(scss=True, category='table', type='value', value='none'), table_border_right_width=OptionsInfo(scss=True, category='table', type='px', value='2px'), table_border_right_color=OptionsInfo(scss=True, category='table', type='value', value='#D3D3D3'), table_border_bottom_include=OptionsInfo(scss=False, category='table', type='boolean', value=True), table_border_bottom_style=OptionsInfo(scss=True, category='table', type='value', value='hidden'), table_border_bottom_width=OptionsInfo(scss=True, category='table', type='px', value='2px'), table_border_bottom_color=OptionsInfo(scss=True, category='table', type='value', value='#A8A8A8'), table_border_left_style=OptionsInfo(scss=True, category='table', type='value', value='none'), table_border_left_width=OptionsInfo(scss=True, category='table', type='px', value='2px'), table_border_left_color=OptionsInfo(scss=True, category='table', type='value', value='#D3D3D3'), heading_background_color=OptionsInfo(scss=True, category='heading', type='value', value=None), heading_align=OptionsInfo(scss=True, category='heading', type='value', value='center'), heading_title_font_size=OptionsInfo(scss=True, category='heading', type='px', value='125%'), heading_title_font_weight=OptionsInfo(scss=True, category='heading', type='value', value='initial'), heading_subtitle_font_size=OptionsInfo(scss=True, category='heading', type='px', value='85%'), heading_subtitle_font_weight=OptionsInfo(scss=True, category='heading', type='value', value='initial'), heading_padding=OptionsInfo(scss=True, category='heading', type='px', value='4px'), heading_padding_horizontal=OptionsInfo(scss=True, category='heading', type='px', value='5px'), heading_border_bottom_style=OptionsInfo(scss=True, category='heading', type='value', value='solid'), heading_border_bottom_width=OptionsInfo(scss=True, category='heading', type='px', value='2px'), heading_border_bottom_color=OptionsInfo(scss=True, category='heading', type='value', value='#D3D3D3'), heading_border_lr_style=OptionsInfo(scss=True, category='heading', type='value', value='none'), heading_border_lr_width=OptionsInfo(scss=True, category='heading', type='px', value='1px'), heading_border_lr_color=OptionsInfo(scss=True, category='heading', type='value', value='#D3D3D3'), column_labels_background_color=OptionsInfo(scss=True, category='column_labels', type='value', value=None), column_labels_font_size=OptionsInfo(scss=True, category='column_labels', type='px', value='100%'), column_labels_font_weight=OptionsInfo(scss=True, category='column_labels', type='value', value='normal'), column_labels_text_transform=OptionsInfo(scss=True, category='column_labels', type='value', value='inherit'), column_labels_padding=OptionsInfo(scss=True, category='column_labels', type='px', value='4px'), column_labels_padding_horizontal=OptionsInfo(scss=True, category='column_labels', type='px', value='5px'), column_labels_vlines_style=OptionsInfo(scss=True, category='table_body', type='value', value='none'), column_labels_vlines_width=OptionsInfo(scss=True, category='table_body', type='px', value='0px'), column_labels_vlines_color=OptionsInfo(scss=True, category='table_body', type='value', value='white'), column_labels_border_top_style=OptionsInfo(scss=True, category='column_labels', type='value', value='solid'), column_labels_border_top_width=OptionsInfo(scss=True, category='column_labels', type='px', value='2px'), column_labels_border_top_color=OptionsInfo(scss=True, category='column_labels', type='value', value='black'), column_labels_border_bottom_style=OptionsInfo(scss=True, category='column_labels', type='value', value='solid'), column_labels_border_bottom_width=OptionsInfo(scss=True, category='column_labels', type='px', value='0.5px'), column_labels_border_bottom_color=OptionsInfo(scss=True, category='column_labels', type='value', value='black'), column_labels_border_lr_style=OptionsInfo(scss=True, category='column_labels', type='value', value='none'), column_labels_border_lr_width=OptionsInfo(scss=True, category='column_labels', type='px', value='1px'), column_labels_border_lr_color=OptionsInfo(scss=True, category='column_labels', type='value', value='#D3D3D3'), column_labels_hidden=OptionsInfo(scss=False, category='column_labels', type='boolean', value=False), row_group_background_color=OptionsInfo(scss=True, category='row_group', type='value', value=None), row_group_font_size=OptionsInfo(scss=True, category='row_group', type='px', value='0px'), row_group_font_weight=OptionsInfo(scss=True, category='row_group', type='value', value='initial'), row_group_text_transform=OptionsInfo(scss=True, category='row_group', type='value', value='inherit'), row_group_padding=OptionsInfo(scss=True, category='row_group', type='px', value='0px'), row_group_padding_horizontal=OptionsInfo(scss=True, category='row_group', type='px', value='5px'), row_group_border_top_style=OptionsInfo(scss=True, category='row_group', type='value', value='solid'), row_group_border_top_width=OptionsInfo(scss=True, category='row_group', type='px', value='0.5px'), row_group_border_top_color=OptionsInfo(scss=True, category='row_group', type='value', value='black'), row_group_border_right_style=OptionsInfo(scss=True, category='row_group', type='value', value='none'), row_group_border_right_width=OptionsInfo(scss=True, category='row_group', type='px', value='1px'), row_group_border_right_color=OptionsInfo(scss=True, category='row_group', type='value', value='white'), row_group_border_bottom_style=OptionsInfo(scss=True, category='row_group', type='value', value='solid'), row_group_border_bottom_width=OptionsInfo(scss=True, category='row_group', type='px', value='0.5px'), row_group_border_bottom_color=OptionsInfo(scss=True, category='row_group', type='value', value='black'), row_group_border_left_style=OptionsInfo(scss=True, category='row_group', type='value', value='none'), row_group_border_left_width=OptionsInfo(scss=True, category='row_group', type='px', value='1px'), row_group_border_left_color=OptionsInfo(scss=True, category='row_group', type='value', value='white'), row_group_as_column=OptionsInfo(scss=False, category='row_group', type='boolean', value=False), table_body_hlines_style=OptionsInfo(scss=True, category='table_body', type='value', value='none'), table_body_hlines_width=OptionsInfo(scss=True, category='table_body', type='px', value='1px'), table_body_hlines_color=OptionsInfo(scss=True, category='table_body', type='value', value='#D3D3D3'), table_body_vlines_style=OptionsInfo(scss=True, category='table_body', type='value', value='none'), table_body_vlines_width=OptionsInfo(scss=True, category='table_body', type='px', value='0px'), table_body_vlines_color=OptionsInfo(scss=True, category='table_body', type='value', value='white'), table_body_border_top_style=OptionsInfo(scss=True, category='table_body', type='value', value='solid'), table_body_border_top_width=OptionsInfo(scss=True, category='table_body', type='px', value='0.5px'), table_body_border_top_color=OptionsInfo(scss=True, category='table_body', type='value', value='black'), table_body_border_bottom_style=OptionsInfo(scss=True, category='table_body', type='value', value='solid'), table_body_border_bottom_width=OptionsInfo(scss=True, category='table_body', type='px', value='2px'), table_body_border_bottom_color=OptionsInfo(scss=True, category='table_body', type='value', value='black'), data_row_padding=OptionsInfo(scss=True, category='data_row', type='px', value='4px'), data_row_padding_horizontal=OptionsInfo(scss=True, category='data_row', type='px', value='5px'), stub_background_color=OptionsInfo(scss=True, category='stub', type='value', value=None), stub_font_size=OptionsInfo(scss=True, category='stub', type='px', value='100%'), stub_font_weight=OptionsInfo(scss=True, category='stub', type='value', value='initial'), stub_text_transform=OptionsInfo(scss=True, category='stub', type='value', value='inherit'), stub_border_style=OptionsInfo(scss=True, category='stub', type='value', value='hidden'), stub_border_width=OptionsInfo(scss=True, category='stub', type='px', value='2px'), stub_border_color=OptionsInfo(scss=True, category='stub', type='value', value='#D3D3D3'), stub_row_group_background_color=OptionsInfo(scss=True, category='stub', type='value', value=None), stub_row_group_font_size=OptionsInfo(scss=True, category='stub', type='px', value='100%'), stub_row_group_font_weight=OptionsInfo(scss=True, category='stub', type='value', value='initial'), stub_row_group_text_transform=OptionsInfo(scss=True, category='stub', type='value', value='inherit'), stub_row_group_border_style=OptionsInfo(scss=True, category='stub', type='value', value='solid'), stub_row_group_border_width=OptionsInfo(scss=True, category='stub', type='px', value='2px'), stub_row_group_border_color=OptionsInfo(scss=True, category='stub', type='value', value='#D3D3D3'), source_notes_padding=OptionsInfo(scss=True, category='source_notes', type='px', value='4px'), source_notes_padding_horizontal=OptionsInfo(scss=True, category='source_notes', type='px', value='5px'), source_notes_background_color=OptionsInfo(scss=True, category='source_notes', type='value', value=None), source_notes_font_size=OptionsInfo(scss=True, category='source_notes', type='px', value='90%'), source_notes_border_bottom_style=OptionsInfo(scss=True, category='source_notes', type='value', value='none'), source_notes_border_bottom_width=OptionsInfo(scss=True, category='source_notes', type='px', value='2px'), source_notes_border_bottom_color=OptionsInfo(scss=True, category='source_notes', type='value', value='#D3D3D3'), source_notes_border_lr_style=OptionsInfo(scss=True, category='source_notes', type='value', value='none'), source_notes_border_lr_width=OptionsInfo(scss=True, category='source_notes', type='px', value='2px'), source_notes_border_lr_color=OptionsInfo(scss=True, category='source_notes', type='value', value='#D3D3D3'), source_notes_multiline=OptionsInfo(scss=False, category='source_notes', type='boolean', value=True), source_notes_sep=OptionsInfo(scss=False, category='source_notes', type='value', value=' '), row_striping_background_color=OptionsInfo(scss=True, category='row', type='value', value='rgba(128,128,128,0.05)'), row_striping_include_stub=OptionsInfo(scss=False, category='row', type='boolean', value=False), row_striping_include_table_body=OptionsInfo(scss=False, category='row', type='boolean', value=False), container_width=OptionsInfo(scss=False, category='container', type='px', value='auto'), container_height=OptionsInfo(scss=False, category='container', type='px', value='auto'), container_padding_x=OptionsInfo(scss=False, category='container', type='px', value='0px'), container_padding_y=OptionsInfo(scss=False, category='container', type='px', value='10px'), container_overflow_x=OptionsInfo(scss=False, category='container', type='overflow', value='auto'), container_overflow_y=OptionsInfo(scss=False, category='container', type='overflow', value='auto'), quarto_disable_processing=OptionsInfo(scss=False, category='quarto', type='logical', value=False), quarto_use_bootstrap=OptionsInfo(scss=False, category='quarto', type='logical', value=False)), _has_built=False)"
      ]
     },
     "execution_count": 10,
     "metadata": {},
     "output_type": "execute_result"
    }
   ],
   "source": [
    "pf.etable([fit_difference_in_means, fit_cuped, fit_panel])"
   ]
  },
  {
   "cell_type": "markdown",
   "id": "eb2bab0a",
   "metadata": {},
   "source": [
    "The panel estimator almost exactly matches CUPED, and we do even better in terms of variance. \n",
    "\n",
    "However, because we are working with panel data, the error terms are likely correlated over time within each user. If we ignore this dependence, our standard errors may be underestimated, which in turn can lead to over-rejecting the null hypothesis of no effect. A common way to address this issue is to compute cluster-robust standard errors at the user level, which account for arbitrary heteroskedasticity and autocorrelation within users."
   ]
  },
  {
   "cell_type": "code",
   "execution_count": 11,
   "id": "1342b84e",
   "metadata": {},
   "outputs": [],
   "source": [
    "fit_panel_crv = pf.feols(\n",
    "    \"minutes_watched ~ treat | user + day\",\n",
    "    data=data,\n",
    "    vcov={\"CRV1\": \"user\"},\n",
    "    demeaner_backend=\"rust\",\n",
    ")"
   ]
  },
  {
   "cell_type": "markdown",
   "id": "9ba7a9c2",
   "metadata": {},
   "source": [
    "Comparing all results, the panel estimator still does quite well in terms of the size of the estimated standard errors. "
   ]
  },
  {
   "cell_type": "code",
   "execution_count": 12,
   "id": "d99943b1",
   "metadata": {},
   "outputs": [
    {
     "data": {
      "text/html": [
       "<div id=\"wqugnidlet\" style=\"padding-left:0px;padding-right:0px;padding-top:10px;padding-bottom:10px;overflow-x:auto;overflow-y:auto;width:auto;height:auto;\">\n",
       "<style>\n",
       "#wqugnidlet table {\n",
       "          font-family: -apple-system, BlinkMacSystemFont, 'Segoe UI', Roboto, Oxygen, Ubuntu, Cantarell, 'Helvetica Neue', 'Fira Sans', 'Droid Sans', Arial, sans-serif;\n",
       "          -webkit-font-smoothing: antialiased;\n",
       "          -moz-osx-font-smoothing: grayscale;\n",
       "        }\n",
       "\n",
       "#wqugnidlet thead, tbody, tfoot, tr, td, th { border-style: none !important; }\n",
       " tr { background-color: transparent !important; }\n",
       "#wqugnidlet p { margin: 0 !important; padding: 0 !important; }\n",
       " #wqugnidlet .gt_table { display: table !important; border-collapse: collapse !important; line-height: normal !important; margin-left: auto !important; margin-right: auto !important; color: #333333 !important; font-size: 16px !important; font-weight: normal !important; font-style: normal !important; background-color: #FFFFFF !important; width: auto !important; border-top-style: solid !important; border-top-width: 2px !important; border-top-color: #A8A8A8 !important; border-right-style: none !important; border-right-width: 2px !important; border-right-color: #D3D3D3 !important; border-bottom-style: hidden !important; border-bottom-width: 2px !important; border-bottom-color: #A8A8A8 !important; border-left-style: none !important; border-left-width: 2px !important; border-left-color: #D3D3D3 !important; }\n",
       " #wqugnidlet .gt_caption { padding-top: 4px !important; padding-bottom: 4px !important; }\n",
       " #wqugnidlet .gt_title { color: #333333 !important; font-size: 125% !important; font-weight: initial !important; padding-top: 4px !important; padding-bottom: 4px !important; padding-left: 5px !important; padding-right: 5px !important; border-bottom-color: #FFFFFF !important; border-bottom-width: 0 !important; }\n",
       " #wqugnidlet .gt_subtitle { color: #333333 !important; font-size: 85% !important; font-weight: initial !important; padding-top: 3px !important; padding-bottom: 5px !important; padding-left: 5px !important; padding-right: 5px !important; border-top-color: #FFFFFF !important; border-top-width: 0 !important; }\n",
       " #wqugnidlet .gt_heading { background-color: #FFFFFF !important; text-align: center !important; border-bottom-color: #FFFFFF !important; border-left-style: none !important; border-left-width: 1px !important; border-left-color: #D3D3D3 !important; border-right-style: none !important; border-right-width: 1px !important; border-right-color: #D3D3D3 !important; }\n",
       " #wqugnidlet .gt_bottom_border { border-bottom-style: solid !important; border-bottom-width: 2px !important; border-bottom-color: #D3D3D3 !important; }\n",
       " #wqugnidlet .gt_col_headings { border-top-style: solid !important; border-top-width: 2px !important; border-top-color: black !important; border-bottom-style: solid !important; border-bottom-width: 0.5px !important; border-bottom-color: black !important; border-left-style: none !important; border-left-width: 1px !important; border-left-color: #D3D3D3 !important; border-right-style: none !important; border-right-width: 1px !important; border-right-color: #D3D3D3 !important; }\n",
       " #wqugnidlet .gt_col_heading { color: #333333 !important; background-color: #FFFFFF !important; font-size: 100% !important; font-weight: normal !important; text-transform: inherit !important; border-left-style: none !important; border-left-width: 0px !important; border-left-color: white !important; border-right-style: none !important; border-right-width: 0px !important; border-right-color: white !important; vertical-align: bottom !important; padding-top: 4px !important; padding-bottom: 5px !important; padding-left: 5px !important; padding-right: 5px !important; overflow-x: hidden !important; }\n",
       " #wqugnidlet .gt_column_spanner_outer { color: #333333 !important; background-color: #FFFFFF !important; font-size: 100% !important; font-weight: normal !important; text-transform: inherit !important; padding-top: 0 !important; padding-bottom: 0 !important; padding-left: 4px !important; padding-right: 4px !important; }\n",
       " #wqugnidlet .gt_column_spanner_outer:first-child { padding-left: 0 !important; }\n",
       " #wqugnidlet .gt_column_spanner_outer:last-child { padding-right: 0 !important; }\n",
       " #wqugnidlet .gt_column_spanner { border-bottom-style: solid !important; border-bottom-width: 0.5px !important; border-bottom-color: black !important; vertical-align: bottom !important; padding-top: 4px !important; padding-bottom: 4px !important; overflow-x: hidden !important; display: inline-block !important; width: 100% !important; }\n",
       " #wqugnidlet .gt_spanner_row { border-bottom-style: hidden !important; }\n",
       " #wqugnidlet .gt_group_heading { padding-top: 0px !important; padding-bottom: 0px !important; padding-left: 5px !important; padding-right: 5px !important; color: #333333 !important; background-color: #FFFFFF !important; font-size: 0px !important; font-weight: initial !important; text-transform: inherit !important; border-top-style: solid !important; border-top-width: 0.5px !important; border-top-color: black !important; border-bottom-style: solid !important; border-bottom-width: 0.5px !important; border-bottom-color: black !important; border-left-style: none !important; border-left-width: 1px !important; border-left-color: white !important; border-right-style: none !important; border-right-width: 1px !important; border-right-color: white !important; vertical-align: middle !important; text-align: left !important; }\n",
       " #wqugnidlet .gt_empty_group_heading { padding: 0.5px !important; color: #333333 !important; background-color: #FFFFFF !important; font-size: 0px !important; font-weight: initial !important; border-top-style: solid !important; border-top-width: 0.5px !important; border-top-color: black !important; border-bottom-style: solid !important; border-bottom-width: 0.5px !important; border-bottom-color: black !important; vertical-align: middle !important; }\n",
       " #wqugnidlet .gt_from_md> :first-child { margin-top: 0 !important; }\n",
       " #wqugnidlet .gt_from_md> :last-child { margin-bottom: 0 !important; }\n",
       " #wqugnidlet .gt_row { padding-top: 4px !important; padding-bottom: 4px !important; padding-left: 5px !important; padding-right: 5px !important; margin: 10px !important; border-top-style: none !important; border-top-width: 1px !important; border-top-color: #D3D3D3 !important; border-left-style: none !important; border-left-width: 0px !important; border-left-color: white !important; border-right-style: none !important; border-right-width: 0px !important; border-right-color: white !important; vertical-align: middle !important; overflow-x: hidden !important; }\n",
       " #wqugnidlet .gt_stub { color: #333333 !important; background-color: #FFFFFF !important; font-size: 100% !important; font-weight: initial !important; text-transform: inherit !important; border-right-style: hidden !important; border-right-width: 2px !important; border-right-color: #D3D3D3 !important; padding-left: 5px !important; padding-right: 5px !important; }\n",
       " #wqugnidlet .gt_stub_row_group { color: #333333 !important; background-color: #FFFFFF !important; font-size: 100% !important; font-weight: initial !important; text-transform: inherit !important; border-right-style: solid !important; border-right-width: 2px !important; border-right-color: #D3D3D3 !important; padding-left: 5px !important; padding-right: 5px !important; vertical-align: top !important; }\n",
       " #wqugnidlet .gt_row_group_first td { border-top-width: 0.5px !important; }\n",
       " #wqugnidlet .gt_row_group_first th { border-top-width: 0.5px !important; }\n",
       " #wqugnidlet .gt_striped { background-color: rgba(128,128,128,0.05) !important; }\n",
       " #wqugnidlet .gt_table_body { border-top-style: solid !important; border-top-width: 0.5px !important; border-top-color: black !important; border-bottom-style: solid !important; border-bottom-width: 2px !important; border-bottom-color: black !important; }\n",
       " #wqugnidlet .gt_sourcenotes { color: #333333 !important; background-color: #FFFFFF !important; border-bottom-style: none !important; border-bottom-width: 2px !important; border-bottom-color: #D3D3D3 !important; border-left-style: none !important; border-left-width: 2px !important; border-left-color: #D3D3D3 !important; border-right-style: none !important; border-right-width: 2px !important; border-right-color: #D3D3D3 !important; }\n",
       " #wqugnidlet .gt_sourcenote { font-size: 90% !important; padding-top: 4px !important; padding-bottom: 4px !important; padding-left: 5px !important; padding-right: 5px !important; text-align: left !important; }\n",
       " #wqugnidlet .gt_left { text-align: left !important; }\n",
       " #wqugnidlet .gt_center { text-align: center !important; }\n",
       " #wqugnidlet .gt_right { text-align: right !important; font-variant-numeric: tabular-nums !important; }\n",
       " #wqugnidlet .gt_font_normal { font-weight: normal !important; }\n",
       " #wqugnidlet .gt_font_bold { font-weight: bold !important; }\n",
       " #wqugnidlet .gt_font_italic { font-style: italic !important; }\n",
       " #wqugnidlet .gt_super { font-size: 65% !important; }\n",
       " #wqugnidlet .gt_footnote_marks { font-size: 75% !important; vertical-align: 0.4em !important; position: initial !important; }\n",
       " #wqugnidlet .gt_asterisk { font-size: 100% !important; vertical-align: 0 !important; }\n",
       " \n",
       "</style>\n",
       "<table class=\"gt_table\" data-quarto-disable-processing=\"false\" data-quarto-bootstrap=\"false\">\n",
       "<thead>\n",
       "\n",
       "<tr class=\"gt_col_headings gt_spanner_row\">\n",
       "  <th class=\"gt_col_heading gt_columns_bottom_border gt_left\" rowspan=\"2\" colspan=\"1\" scope=\"col\" id=\"\"></th>\n",
       "  <th class=\"gt_center gt_columns_top_border gt_column_spanner_outer\" rowspan=\"1\" colspan=\"1\" scope=\"col\" id=\"minutes_watched\">\n",
       "    <span class=\"gt_column_spanner\">minutes_watched</span>\n",
       "  </th>\n",
       "  <th class=\"gt_center gt_columns_top_border gt_column_spanner_outer\" rowspan=\"1\" colspan=\"1\" scope=\"col\" id=\"minutes_post\">\n",
       "    <span class=\"gt_column_spanner\">minutes_post</span>\n",
       "  </th>\n",
       "  <th class=\"gt_center gt_columns_top_border gt_column_spanner_outer\" rowspan=\"1\" colspan=\"2\" scope=\"colgroup\" id=\"minutes_watched\">\n",
       "    <span class=\"gt_column_spanner\">minutes_watched</span>\n",
       "  </th>\n",
       "</tr>\n",
       "<tr class=\"gt_col_headings\">\n",
       "  <th class=\"gt_col_heading gt_columns_bottom_border gt_center\" rowspan=\"1\" colspan=\"1\" scope=\"col\" id=\"0\">(1)</th>\n",
       "  <th class=\"gt_col_heading gt_columns_bottom_border gt_center\" rowspan=\"1\" colspan=\"1\" scope=\"col\" id=\"1\">(2)</th>\n",
       "  <th class=\"gt_col_heading gt_columns_bottom_border gt_center\" rowspan=\"1\" colspan=\"1\" scope=\"col\" id=\"2\">(3)</th>\n",
       "  <th class=\"gt_col_heading gt_columns_bottom_border gt_center\" rowspan=\"1\" colspan=\"1\" scope=\"col\" id=\"3\">(4)</th>\n",
       "</tr>\n",
       "</thead>\n",
       "<tbody class=\"gt_table_body\">\n",
       "  <tr class=\"gt_group_heading_row\">\n",
       "    <th class=\"gt_group_heading\" colspan=\"5\">coef</th>\n",
       "  </tr>\n",
       "  <tr>\n",
       "    <th class=\"gt_row gt_left gt_stub\">treat</th>\n",
       "    <td class=\"gt_row gt_center\">0.7615*** <br> (0.2092)</td>\n",
       "    <td class=\"gt_row gt_center\">0.1918*** <br> (0.0288)</td>\n",
       "    <td class=\"gt_row gt_center\">0.1913*** <br> (0.0118)</td>\n",
       "    <td class=\"gt_row gt_center\">0.1913*** <br> (0.0287)</td>\n",
       "  </tr>\n",
       "  <tr>\n",
       "    <th class=\"gt_row gt_left gt_stub\">minutes_pre_c</th>\n",
       "    <td class=\"gt_row gt_center\"></td>\n",
       "    <td class=\"gt_row gt_center\">0.9992*** <br> (0.0001)</td>\n",
       "    <td class=\"gt_row gt_center\"></td>\n",
       "    <td class=\"gt_row gt_center\"></td>\n",
       "  </tr>\n",
       "  <tr>\n",
       "    <th class=\"gt_row gt_left gt_stub\">Intercept</th>\n",
       "    <td class=\"gt_row gt_center\">0.3574*** <br> (0.0148)</td>\n",
       "    <td class=\"gt_row gt_center\">0.3602*** <br> (0.0021)</td>\n",
       "    <td class=\"gt_row gt_center\"></td>\n",
       "    <td class=\"gt_row gt_center\"></td>\n",
       "  </tr>\n",
       "  <tr class=\"gt_group_heading_row\">\n",
       "    <th class=\"gt_group_heading\" colspan=\"5\">fe</th>\n",
       "  </tr>\n",
       "  <tr>\n",
       "    <th class=\"gt_row gt_left gt_stub\">day</th>\n",
       "    <td class=\"gt_row gt_center\">-</td>\n",
       "    <td class=\"gt_row gt_center\">-</td>\n",
       "    <td class=\"gt_row gt_center\">x</td>\n",
       "    <td class=\"gt_row gt_center\">x</td>\n",
       "  </tr>\n",
       "  <tr>\n",
       "    <th class=\"gt_row gt_left gt_stub\">user</th>\n",
       "    <td class=\"gt_row gt_center\">-</td>\n",
       "    <td class=\"gt_row gt_center\">-</td>\n",
       "    <td class=\"gt_row gt_center\">x</td>\n",
       "    <td class=\"gt_row gt_center\">x</td>\n",
       "  </tr>\n",
       "  <tr class=\"gt_group_heading_row\">\n",
       "    <th class=\"gt_group_heading\" colspan=\"5\">stats</th>\n",
       "  </tr>\n",
       "  <tr>\n",
       "    <th class=\"gt_row gt_left gt_stub\">Observations</th>\n",
       "    <td class=\"gt_row gt_center\">1500000</td>\n",
       "    <td class=\"gt_row gt_center\">100000</td>\n",
       "    <td class=\"gt_row gt_center\">3000000</td>\n",
       "    <td class=\"gt_row gt_center\">3000000</td>\n",
       "  </tr>\n",
       "  <tr>\n",
       "    <th class=\"gt_row gt_left gt_stub\">S.E. type</th>\n",
       "    <td class=\"gt_row gt_center\">iid</td>\n",
       "    <td class=\"gt_row gt_center\">hetero</td>\n",
       "    <td class=\"gt_row gt_center\">hetero</td>\n",
       "    <td class=\"gt_row gt_center\">by: user</td>\n",
       "  </tr>\n",
       "  <tr>\n",
       "    <th class=\"gt_row gt_left gt_stub\">R<sup>2</sup></th>\n",
       "    <td class=\"gt_row gt_center\">0.0000</td>\n",
       "    <td class=\"gt_row gt_center\">0.9987</td>\n",
       "    <td class=\"gt_row gt_center\">0.9985</td>\n",
       "    <td class=\"gt_row gt_center\">0.9985</td>\n",
       "  </tr>\n",
       "  <tr>\n",
       "    <th class=\"gt_row gt_left gt_stub\">R<sup>2</sup> Within</th>\n",
       "    <td class=\"gt_row gt_center\">-</td>\n",
       "    <td class=\"gt_row gt_center\">-</td>\n",
       "    <td class=\"gt_row gt_center\">0.0001</td>\n",
       "    <td class=\"gt_row gt_center\">0.0001</td>\n",
       "  </tr>\n",
       "</tbody>\n",
       "  <tfoot class=\"gt_sourcenotes\">\n",
       "  \n",
       "  <tr>\n",
       "    <td class=\"gt_sourcenote\" colspan=\"5\">Significance levels: * p &lt; 0.05, ** p &lt; 0.01, *** p &lt; 0.001. Format of coefficient cell:\n",
       "Coefficient \n",
       " (Std. Error)</td>\n",
       "  </tr>\n",
       "\n",
       "</tfoot>\n",
       "\n",
       "</table>\n",
       "\n",
       "</div>\n",
       "        "
      ],
      "text/plain": [
       "GT(_tbl_data=  level_0               level_1                        0  \\\n",
       "0    coef                 treat  0.7615*** <br> (0.2092)   \n",
       "1    coef         minutes_pre_c                            \n",
       "2    coef             Intercept  0.3574*** <br> (0.0148)   \n",
       "3      fe                   day                        -   \n",
       "4      fe                  user                        -   \n",
       "5   stats          Observations                  1500000   \n",
       "6   stats             S.E. type                      iid   \n",
       "7   stats         R<sup>2</sup>                   0.0000   \n",
       "8   stats  R<sup>2</sup> Within                        -   \n",
       "\n",
       "                         1                        2                        3  \n",
       "0  0.1918*** <br> (0.0288)  0.1913*** <br> (0.0118)  0.1913*** <br> (0.0287)  \n",
       "1  0.9992*** <br> (0.0001)                                                    \n",
       "2  0.3602*** <br> (0.0021)                                                    \n",
       "3                        -                        x                        x  \n",
       "4                        -                        x                        x  \n",
       "5                   100000                  3000000                  3000000  \n",
       "6                   hetero                   hetero                 by: user  \n",
       "7                   0.9987                   0.9985                   0.9985  \n",
       "8                        -                   0.0001                   0.0001  , _body=<great_tables._gt_data.Body object at 0x0000028E52473D10>, _boxhead=Boxhead([ColInfo(var='level_0', type=<ColInfoTypeEnum.row_group: 3>, column_label='level_0', column_align='center', column_width=None), ColInfo(var='level_1', type=<ColInfoTypeEnum.stub: 2>, column_label='level_1', column_align='center', column_width=None), ColInfo(var='0', type=<ColInfoTypeEnum.default: 1>, column_label='(1)', column_align='center', column_width=None), ColInfo(var='1', type=<ColInfoTypeEnum.default: 1>, column_label='(2)', column_align='center', column_width=None), ColInfo(var='2', type=<ColInfoTypeEnum.default: 1>, column_label='(3)', column_align='center', column_width=None), ColInfo(var='3', type=<ColInfoTypeEnum.default: 1>, column_label='(4)', column_align='center', column_width=None)]), _stub=<great_tables._gt_data.Stub object at 0x0000028E6A8F0440>, _spanners=Spanners([SpannerInfo(spanner_id='minutes_watched', spanner_level=1, spanner_label='minutes_watched', spanner_units=None, spanner_pattern=None, vars=['0', '2', '3'], built=None), SpannerInfo(spanner_id='minutes_post', spanner_level=1, spanner_label='minutes_post', spanner_units=None, spanner_pattern=None, vars=['1'], built=None)]), _heading=Heading(title=None, subtitle=None, preheader=None), _stubhead=None, _source_notes=['Significance levels: * p < 0.05, ** p < 0.01, *** p < 0.001. Format of coefficient cell:\\nCoefficient \\n (Std. Error)'], _footnotes=[], _styles=[], _locale=<great_tables._gt_data.Locale object at 0x0000028E6A8F1D00>, _formats=[], _substitutions=[], _options=Options(table_id=OptionsInfo(scss=False, category='table', type='value', value=None), table_caption=OptionsInfo(scss=False, category='table', type='value', value=None), table_width=OptionsInfo(scss=True, category='table', type='px', value='auto'), table_layout=OptionsInfo(scss=True, category='table', type='value', value='fixed'), table_margin_left=OptionsInfo(scss=True, category='table', type='px', value='auto'), table_margin_right=OptionsInfo(scss=True, category='table', type='px', value='auto'), table_background_color=OptionsInfo(scss=True, category='table', type='value', value='#FFFFFF'), table_additional_css=OptionsInfo(scss=False, category='table', type='values', value=[]), table_font_names=OptionsInfo(scss=False, category='table', type='values', value=['-apple-system', 'BlinkMacSystemFont', 'Segoe UI', 'Roboto', 'Oxygen', 'Ubuntu', 'Cantarell', 'Helvetica Neue', 'Fira Sans', 'Droid Sans', 'Arial', 'sans-serif']), table_font_size=OptionsInfo(scss=True, category='table', type='px', value='16px'), table_font_weight=OptionsInfo(scss=True, category='table', type='value', value='normal'), table_font_style=OptionsInfo(scss=True, category='table', type='value', value='normal'), table_font_color=OptionsInfo(scss=True, category='table', type='value', value='#333333'), table_font_color_light=OptionsInfo(scss=True, category='table', type='value', value='#FFFFFF'), table_border_top_include=OptionsInfo(scss=False, category='table', type='boolean', value=True), table_border_top_style=OptionsInfo(scss=True, category='table', type='value', value='solid'), table_border_top_width=OptionsInfo(scss=True, category='table', type='px', value='2px'), table_border_top_color=OptionsInfo(scss=True, category='table', type='value', value='#A8A8A8'), table_border_right_style=OptionsInfo(scss=True, category='table', type='value', value='none'), table_border_right_width=OptionsInfo(scss=True, category='table', type='px', value='2px'), table_border_right_color=OptionsInfo(scss=True, category='table', type='value', value='#D3D3D3'), table_border_bottom_include=OptionsInfo(scss=False, category='table', type='boolean', value=True), table_border_bottom_style=OptionsInfo(scss=True, category='table', type='value', value='hidden'), table_border_bottom_width=OptionsInfo(scss=True, category='table', type='px', value='2px'), table_border_bottom_color=OptionsInfo(scss=True, category='table', type='value', value='#A8A8A8'), table_border_left_style=OptionsInfo(scss=True, category='table', type='value', value='none'), table_border_left_width=OptionsInfo(scss=True, category='table', type='px', value='2px'), table_border_left_color=OptionsInfo(scss=True, category='table', type='value', value='#D3D3D3'), heading_background_color=OptionsInfo(scss=True, category='heading', type='value', value=None), heading_align=OptionsInfo(scss=True, category='heading', type='value', value='center'), heading_title_font_size=OptionsInfo(scss=True, category='heading', type='px', value='125%'), heading_title_font_weight=OptionsInfo(scss=True, category='heading', type='value', value='initial'), heading_subtitle_font_size=OptionsInfo(scss=True, category='heading', type='px', value='85%'), heading_subtitle_font_weight=OptionsInfo(scss=True, category='heading', type='value', value='initial'), heading_padding=OptionsInfo(scss=True, category='heading', type='px', value='4px'), heading_padding_horizontal=OptionsInfo(scss=True, category='heading', type='px', value='5px'), heading_border_bottom_style=OptionsInfo(scss=True, category='heading', type='value', value='solid'), heading_border_bottom_width=OptionsInfo(scss=True, category='heading', type='px', value='2px'), heading_border_bottom_color=OptionsInfo(scss=True, category='heading', type='value', value='#D3D3D3'), heading_border_lr_style=OptionsInfo(scss=True, category='heading', type='value', value='none'), heading_border_lr_width=OptionsInfo(scss=True, category='heading', type='px', value='1px'), heading_border_lr_color=OptionsInfo(scss=True, category='heading', type='value', value='#D3D3D3'), column_labels_background_color=OptionsInfo(scss=True, category='column_labels', type='value', value=None), column_labels_font_size=OptionsInfo(scss=True, category='column_labels', type='px', value='100%'), column_labels_font_weight=OptionsInfo(scss=True, category='column_labels', type='value', value='normal'), column_labels_text_transform=OptionsInfo(scss=True, category='column_labels', type='value', value='inherit'), column_labels_padding=OptionsInfo(scss=True, category='column_labels', type='px', value='4px'), column_labels_padding_horizontal=OptionsInfo(scss=True, category='column_labels', type='px', value='5px'), column_labels_vlines_style=OptionsInfo(scss=True, category='table_body', type='value', value='none'), column_labels_vlines_width=OptionsInfo(scss=True, category='table_body', type='px', value='0px'), column_labels_vlines_color=OptionsInfo(scss=True, category='table_body', type='value', value='white'), column_labels_border_top_style=OptionsInfo(scss=True, category='column_labels', type='value', value='solid'), column_labels_border_top_width=OptionsInfo(scss=True, category='column_labels', type='px', value='2px'), column_labels_border_top_color=OptionsInfo(scss=True, category='column_labels', type='value', value='black'), column_labels_border_bottom_style=OptionsInfo(scss=True, category='column_labels', type='value', value='solid'), column_labels_border_bottom_width=OptionsInfo(scss=True, category='column_labels', type='px', value='0.5px'), column_labels_border_bottom_color=OptionsInfo(scss=True, category='column_labels', type='value', value='black'), column_labels_border_lr_style=OptionsInfo(scss=True, category='column_labels', type='value', value='none'), column_labels_border_lr_width=OptionsInfo(scss=True, category='column_labels', type='px', value='1px'), column_labels_border_lr_color=OptionsInfo(scss=True, category='column_labels', type='value', value='#D3D3D3'), column_labels_hidden=OptionsInfo(scss=False, category='column_labels', type='boolean', value=False), row_group_background_color=OptionsInfo(scss=True, category='row_group', type='value', value=None), row_group_font_size=OptionsInfo(scss=True, category='row_group', type='px', value='0px'), row_group_font_weight=OptionsInfo(scss=True, category='row_group', type='value', value='initial'), row_group_text_transform=OptionsInfo(scss=True, category='row_group', type='value', value='inherit'), row_group_padding=OptionsInfo(scss=True, category='row_group', type='px', value='0px'), row_group_padding_horizontal=OptionsInfo(scss=True, category='row_group', type='px', value='5px'), row_group_border_top_style=OptionsInfo(scss=True, category='row_group', type='value', value='solid'), row_group_border_top_width=OptionsInfo(scss=True, category='row_group', type='px', value='0.5px'), row_group_border_top_color=OptionsInfo(scss=True, category='row_group', type='value', value='black'), row_group_border_right_style=OptionsInfo(scss=True, category='row_group', type='value', value='none'), row_group_border_right_width=OptionsInfo(scss=True, category='row_group', type='px', value='1px'), row_group_border_right_color=OptionsInfo(scss=True, category='row_group', type='value', value='white'), row_group_border_bottom_style=OptionsInfo(scss=True, category='row_group', type='value', value='solid'), row_group_border_bottom_width=OptionsInfo(scss=True, category='row_group', type='px', value='0.5px'), row_group_border_bottom_color=OptionsInfo(scss=True, category='row_group', type='value', value='black'), row_group_border_left_style=OptionsInfo(scss=True, category='row_group', type='value', value='none'), row_group_border_left_width=OptionsInfo(scss=True, category='row_group', type='px', value='1px'), row_group_border_left_color=OptionsInfo(scss=True, category='row_group', type='value', value='white'), row_group_as_column=OptionsInfo(scss=False, category='row_group', type='boolean', value=False), table_body_hlines_style=OptionsInfo(scss=True, category='table_body', type='value', value='none'), table_body_hlines_width=OptionsInfo(scss=True, category='table_body', type='px', value='1px'), table_body_hlines_color=OptionsInfo(scss=True, category='table_body', type='value', value='#D3D3D3'), table_body_vlines_style=OptionsInfo(scss=True, category='table_body', type='value', value='none'), table_body_vlines_width=OptionsInfo(scss=True, category='table_body', type='px', value='0px'), table_body_vlines_color=OptionsInfo(scss=True, category='table_body', type='value', value='white'), table_body_border_top_style=OptionsInfo(scss=True, category='table_body', type='value', value='solid'), table_body_border_top_width=OptionsInfo(scss=True, category='table_body', type='px', value='0.5px'), table_body_border_top_color=OptionsInfo(scss=True, category='table_body', type='value', value='black'), table_body_border_bottom_style=OptionsInfo(scss=True, category='table_body', type='value', value='solid'), table_body_border_bottom_width=OptionsInfo(scss=True, category='table_body', type='px', value='2px'), table_body_border_bottom_color=OptionsInfo(scss=True, category='table_body', type='value', value='black'), data_row_padding=OptionsInfo(scss=True, category='data_row', type='px', value='4px'), data_row_padding_horizontal=OptionsInfo(scss=True, category='data_row', type='px', value='5px'), stub_background_color=OptionsInfo(scss=True, category='stub', type='value', value=None), stub_font_size=OptionsInfo(scss=True, category='stub', type='px', value='100%'), stub_font_weight=OptionsInfo(scss=True, category='stub', type='value', value='initial'), stub_text_transform=OptionsInfo(scss=True, category='stub', type='value', value='inherit'), stub_border_style=OptionsInfo(scss=True, category='stub', type='value', value='hidden'), stub_border_width=OptionsInfo(scss=True, category='stub', type='px', value='2px'), stub_border_color=OptionsInfo(scss=True, category='stub', type='value', value='#D3D3D3'), stub_row_group_background_color=OptionsInfo(scss=True, category='stub', type='value', value=None), stub_row_group_font_size=OptionsInfo(scss=True, category='stub', type='px', value='100%'), stub_row_group_font_weight=OptionsInfo(scss=True, category='stub', type='value', value='initial'), stub_row_group_text_transform=OptionsInfo(scss=True, category='stub', type='value', value='inherit'), stub_row_group_border_style=OptionsInfo(scss=True, category='stub', type='value', value='solid'), stub_row_group_border_width=OptionsInfo(scss=True, category='stub', type='px', value='2px'), stub_row_group_border_color=OptionsInfo(scss=True, category='stub', type='value', value='#D3D3D3'), source_notes_padding=OptionsInfo(scss=True, category='source_notes', type='px', value='4px'), source_notes_padding_horizontal=OptionsInfo(scss=True, category='source_notes', type='px', value='5px'), source_notes_background_color=OptionsInfo(scss=True, category='source_notes', type='value', value=None), source_notes_font_size=OptionsInfo(scss=True, category='source_notes', type='px', value='90%'), source_notes_border_bottom_style=OptionsInfo(scss=True, category='source_notes', type='value', value='none'), source_notes_border_bottom_width=OptionsInfo(scss=True, category='source_notes', type='px', value='2px'), source_notes_border_bottom_color=OptionsInfo(scss=True, category='source_notes', type='value', value='#D3D3D3'), source_notes_border_lr_style=OptionsInfo(scss=True, category='source_notes', type='value', value='none'), source_notes_border_lr_width=OptionsInfo(scss=True, category='source_notes', type='px', value='2px'), source_notes_border_lr_color=OptionsInfo(scss=True, category='source_notes', type='value', value='#D3D3D3'), source_notes_multiline=OptionsInfo(scss=False, category='source_notes', type='boolean', value=True), source_notes_sep=OptionsInfo(scss=False, category='source_notes', type='value', value=' '), row_striping_background_color=OptionsInfo(scss=True, category='row', type='value', value='rgba(128,128,128,0.05)'), row_striping_include_stub=OptionsInfo(scss=False, category='row', type='boolean', value=False), row_striping_include_table_body=OptionsInfo(scss=False, category='row', type='boolean', value=False), container_width=OptionsInfo(scss=False, category='container', type='px', value='auto'), container_height=OptionsInfo(scss=False, category='container', type='px', value='auto'), container_padding_x=OptionsInfo(scss=False, category='container', type='px', value='0px'), container_padding_y=OptionsInfo(scss=False, category='container', type='px', value='10px'), container_overflow_x=OptionsInfo(scss=False, category='container', type='overflow', value='auto'), container_overflow_y=OptionsInfo(scss=False, category='container', type='overflow', value='auto'), quarto_disable_processing=OptionsInfo(scss=False, category='quarto', type='logical', value=False), quarto_use_bootstrap=OptionsInfo(scss=False, category='quarto', type='logical', value=False)), _has_built=False)"
      ]
     },
     "execution_count": 12,
     "metadata": {},
     "output_type": "execute_result"
    }
   ],
   "source": [
    "pf.etable(\n",
    "    [fit_difference_in_means, fit_cuped, fit_panel, fit_panel_crv],\n",
    "    digits=4,\n",
    ")"
   ]
  },
  {
   "cell_type": "markdown",
   "id": "d78bd300",
   "metadata": {},
   "source": [
    "The panel errors produces point estimates and standard errors for the treatment variable that are very close to CUPED. "
   ]
  },
  {
   "cell_type": "markdown",
   "id": "9f4e3bc4",
   "metadata": {},
   "source": [
    "The sceptical reader might now object that this is all far from overwhelming evidence. After all , we fit each model only once! So it might well be \n",
    "that we were just lucky and our results are driven by sampling error. In the next section, we will argue that this is not the case by means of a monte carlo simulation. "
   ]
  },
  {
   "cell_type": "markdown",
   "id": "bc9cf093",
   "metadata": {},
   "source": [
    "### Digression: Heterogeneous Effects over Time via Panel Estimators"
   ]
  },
  {
   "cell_type": "markdown",
   "id": "bcf15cb8",
   "metadata": {},
   "source": [
    "One example of the panel estimator is that it allows us to track treatment effects over time. This allows us to track novelty effects where in the beginning, \n",
    "users interact a lot with a new feature, i.e. they spend a lot of time playing a gamee, but over time lose interest. "
   ]
  },
  {
   "cell_type": "code",
   "execution_count": 13,
   "id": "97d0a67c",
   "metadata": {},
   "outputs": [
    {
     "data": {
      "image/png": "[encoded data removed]",
      "text/plain": [
       "<Figure size 1000x600 with 1 Axes>"
      ]
     },
     "execution_count": 13,
     "metadata": {},
     "output_type": "execute_result"
    }
   ],
   "source": [
    "fit_panel_time = pf.feols(\n",
    "    \"minutes_watched ~ i(day, ever_treated, ref = 14) | user + day\",\n",
    "    vcov={\"CRV1\": \"user\"},\n",
    "    data=data,\n",
    "    demeaner_backend=\"rust\",\n",
    ")\n",
    "fit_panel_time.iplot(\n",
    "    coord_flip=False,\n",
    "    plot_backend=\"matplotlib\",\n",
    "    cat_template=\"{value}\",\n",
    "    title=\"Event Study Plot\",\n",
    ")"
   ]
  },
  {
   "cell_type": "markdown",
   "id": "bf038777",
   "metadata": {},
   "source": [
    "Initially, we observe a large treatment effect that reverts to a null effect on day 23: a clear novelty effect pattern. Clearly, we should not accept this \n",
    "experiment as it only adds technical complexity, but has no impact on user behavior beyond the initial effect. When ignoring time heterogeneity (as with the difference in means, cuped, and ATE panel estimators above), we completely miss that the effect fades out. With a dynamic panel estimator, we get it almost for free. \n",
    "\n",
    "For more examples, see the paper by [Lal et al](https://arxiv.org/abs/2410.09952), which also shows how to estimate very large panel models in [SQL/duckdb](https://github.com/py-econometrics/duckreg) (yep, that's not a joke!). "
   ]
  },
  {
   "cell_type": "markdown",
   "id": "41afbbe7",
   "metadata": {},
   "source": [
    "## Monte Carlo Simulation"
   ]
  },
  {
   "cell_type": "markdown",
   "id": "2a4d8a02",
   "metadata": {},
   "source": [
    "To rule out that the examples above were purely do to look, we simply repeat them a couple of times using a monte carlo simulation. "
   ]
  },
  {
   "cell_type": "code",
   "execution_count": 14,
   "id": "edd54613",
   "metadata": {},
   "outputs": [],
   "source": [
    "def _variance_monte_carlo(data):\n",
    "    fit_dim = _difference_in_means(data)\n",
    "    fit_cuped, _ = _regression_cuped(data)\n",
    "    fit_panel = pf.feols(\n",
    "        \"minutes_watched ~ treat | user + day\",\n",
    "        data=data,\n",
    "        vcov={\"CRV1\": \"user\"},\n",
    "        demeaner_backend=\"rust\",\n",
    "    )\n",
    "\n",
    "    dim_se = fit_dim.tidy().xs(\"treat\")[\"Std. Error\"]\n",
    "    cuped_se = fit_cuped.tidy().xs(\"treat\")[\"Std. Error\"]\n",
    "    panel_se = fit_panel.tidy().xs(\"treat\")[\"Std. Error\"]\n",
    "\n",
    "    return dim_se, cuped_se, panel_se\n",
    "\n",
    "\n",
    "def _run_simulation(N, sigma_unit, n_sim=100):\n",
    "    dim_se_arr = np.zeros(n_sim)\n",
    "    cuped_se_arr = np.zeros(n_sim)\n",
    "    panel_se_arr = np.zeros(n_sim)\n",
    "\n",
    "    for i in tqdm(range(n_sim)):\n",
    "        data = get_sharkfin(\n",
    "            num_units=N,\n",
    "            num_periods=30,\n",
    "            num_treated=int(N / 2),\n",
    "            treatment_start=15,\n",
    "            seed=i,\n",
    "            sigma_unit=sigma_unit,\n",
    "        )\n",
    "        data.rename(\n",
    "            columns={\"Y\": \"minutes_watched\", \"unit\": \"user\", \"year\": \"day\"},\n",
    "            inplace=True,\n",
    "        )\n",
    "\n",
    "        dim_se_arr[i], cuped_se_arr[i], panel_se_arr[i] = _variance_monte_carlo(data)\n",
    "\n",
    "    return pd.Series(\n",
    "        {\n",
    "            \"Difference-in-Means\": np.mean(dim_se_arr),\n",
    "            \"Cuped\": np.mean(cuped_se_arr),\n",
    "            \"Panel\": np.mean(panel_se_arr),\n",
    "        }\n",
    "    )"
   ]
  },
  {
   "cell_type": "code",
   "execution_count": null,
   "id": "4b0fd4eb",
   "metadata": {},
   "outputs": [
    {
     "name": "stderr",
     "output_type": "stream",
     "text": [
      "100%|██████████| 20/20 [01:30<00:00,  4.53s/it]\n"
     ]
    },
    {
     "data": {
      "text/plain": [
       "Difference-in-Means    0.029457\n",
       "Cuped                  0.004184\n",
       "Panel                  0.004185\n",
       "dtype: float64"
      ]
     },
     "execution_count": 15,
     "metadata": {},
     "output_type": "execute_result"
    }
   ],
   "source": [
    "# note that in a proper scientific simulation, we might want to set the\n",
    "# number of iterations to be much higher than 10\n",
    "se_sim_18 = _run_simulation(N=100_000, sigma_unit=18, n_sim=20)\n",
    "display(se_sim_18)"
   ]
  },
  {
   "cell_type": "markdown",
   "id": "c24d0c3e",
   "metadata": {},
   "source": [
    "So we manage to reduce our standard errors by around 6x! This is pretty fantastic news, as it implies that we can run our experiment on a much smaller sample, but still achieve the same level of power! This is what we want to verify in the last step. "
   ]
  },
  {
   "cell_type": "markdown",
   "id": "671ca0d9",
   "metadata": {},
   "source": [
    "## Power Simulation \n",
    "\n",
    "In all simulations, we conduct a two-sided t-test with size $\\alpha = 0.01$. "
   ]
  },
  {
   "cell_type": "code",
   "execution_count": 16,
   "id": "e04bee49",
   "metadata": {},
   "outputs": [],
   "source": [
    "def _power(nobs, n_sim):\n",
    "    res_df = pd.DataFrame()\n",
    "\n",
    "    for N in nobs:\n",
    "        dim_reject_null_arr = np.zeros(n_sim)\n",
    "        cuped_reject_null_arr = np.zeros(n_sim)\n",
    "        panel_reject_null_arr = np.zeros(n_sim)\n",
    "\n",
    "        for i in tqdm(range(n_sim)):\n",
    "            data = get_sharkfin(\n",
    "                num_units=N,\n",
    "                num_periods=30,\n",
    "                num_treated=int(N / 2),\n",
    "                treatment_start=15,\n",
    "                seed=i,\n",
    "                sigma_unit=18,\n",
    "            )\n",
    "            data.rename(\n",
    "                columns={\"Y\": \"minutes_watched\", \"unit\": \"user\", \"year\": \"day\"},\n",
    "                inplace=True,\n",
    "            )\n",
    "\n",
    "            fit_dim = _difference_in_means(data)\n",
    "            fit_cuped, _ = _regression_cuped(data)\n",
    "            fit_panel = pf.feols(\n",
    "                \"minutes_watched ~ treat | user + day\", data=data, vcov={\"CRV1\": \"user\"}\n",
    "            )\n",
    "\n",
    "            dim_reject_null_arr[i] = fit_dim.pvalue().xs(\"treat\") < 0.01\n",
    "            cuped_reject_null_arr[i] = fit_cuped.pvalue().xs(\"treat\") < 0.01\n",
    "            panel_reject_null_arr[i] = fit_panel.pvalue().xs(\"treat\") < 0.01\n",
    "\n",
    "        dim_reject_null_mean = np.mean(dim_reject_null_arr)\n",
    "        cuped_reject_null_mean = np.mean(cuped_reject_null_arr)\n",
    "        panel_reject_null_mean = np.mean(panel_reject_null_arr)\n",
    "\n",
    "        res = pd.DataFrame(\n",
    "            {\n",
    "                \"N\": [N],\n",
    "                \"Difference-in-Means\": [dim_reject_null_mean],\n",
    "                \"Cuped\": [cuped_reject_null_mean],\n",
    "                \"Panel\": [panel_reject_null_mean],\n",
    "            }\n",
    "        )\n",
    "\n",
    "        res_df = pd.concat([res_df, res], axis=0, ignore_index=True)\n",
    "\n",
    "    return res_df"
   ]
  },
  {
   "cell_type": "code",
   "execution_count": null,
   "id": "e9265641",
   "metadata": {},
   "outputs": [
    {
     "name": "stderr",
     "output_type": "stream",
     "text": [
      "100%|██████████| 10/10 [00:30<00:00,  3.01s/it]\n",
      "100%|██████████| 10/10 [00:07<00:00,  1.41it/s]\n",
      "100%|██████████| 10/10 [00:06<00:00,  1.46it/s]\n",
      "100%|██████████| 10/10 [00:10<00:00,  1.02s/it]\n",
      "100%|██████████| 10/10 [00:12<00:00,  1.26s/it]\n",
      "100%|██████████| 10/10 [00:53<00:00,  5.31s/it]\n"
     ]
    }
   ],
   "source": [
    "# TODO: set n_sim higher\n",
    "power_df = _power(nobs=[100, 500, 1000, 5_000, 10_000, 100_000], n_sim=10)"
   ]
  },
  {
   "cell_type": "code",
   "execution_count": null,
   "id": "6211f87d",
   "metadata": {},
   "outputs": [
    {
     "data": {
      "text/html": [
       "<div>\n",
       "<style scoped>\n",
       "    .dataframe tbody tr th:only-of-type {\n",
       "        vertical-align: middle;\n",
       "    }\n",
       "\n",
       "    .dataframe tbody tr th {\n",
       "        vertical-align: top;\n",
       "    }\n",
       "\n",
       "    .dataframe thead th {\n",
       "        text-align: right;\n",
       "    }\n",
       "</style>\n",
       "<table border=\"1\" class=\"dataframe\">\n",
       "  <thead>\n",
       "    <tr style=\"text-align: right;\">\n",
       "      <th></th>\n",
       "      <th>N</th>\n",
       "      <th>Difference-in-Means</th>\n",
       "      <th>Cuped</th>\n",
       "      <th>Panel</th>\n",
       "    </tr>\n",
       "  </thead>\n",
       "  <tbody>\n",
       "    <tr>\n",
       "      <th>0</th>\n",
       "      <td>100</td>\n",
       "      <td>0.5</td>\n",
       "      <td>0.1</td>\n",
       "      <td>0.1</td>\n",
       "    </tr>\n",
       "    <tr>\n",
       "      <th>1</th>\n",
       "      <td>500</td>\n",
       "      <td>0.4</td>\n",
       "      <td>0.9</td>\n",
       "      <td>0.9</td>\n",
       "    </tr>\n",
       "    <tr>\n",
       "      <th>2</th>\n",
       "      <td>1000</td>\n",
       "      <td>0.7</td>\n",
       "      <td>1.0</td>\n",
       "      <td>1.0</td>\n",
       "    </tr>\n",
       "    <tr>\n",
       "      <th>3</th>\n",
       "      <td>5000</td>\n",
       "      <td>0.5</td>\n",
       "      <td>1.0</td>\n",
       "      <td>1.0</td>\n",
       "    </tr>\n",
       "    <tr>\n",
       "      <th>4</th>\n",
       "      <td>10000</td>\n",
       "      <td>0.6</td>\n",
       "      <td>1.0</td>\n",
       "      <td>1.0</td>\n",
       "    </tr>\n",
       "    <tr>\n",
       "      <th>5</th>\n",
       "      <td>100000</td>\n",
       "      <td>0.9</td>\n",
       "      <td>1.0</td>\n",
       "      <td>1.0</td>\n",
       "    </tr>\n",
       "  </tbody>\n",
       "</table>\n",
       "</div>"
      ],
      "text/plain": [
       "        N  Difference-in-Means  Cuped  Panel\n",
       "0     100                  0.5    0.1    0.1\n",
       "1     500                  0.4    0.9    0.9\n",
       "2    1000                  0.7    1.0    1.0\n",
       "3    5000                  0.5    1.0    1.0\n",
       "4   10000                  0.6    1.0    1.0\n",
       "5  100000                  0.9    1.0    1.0"
      ]
     },
     "execution_count": 18,
     "metadata": {},
     "output_type": "execute_result"
    }
   ],
   "source": [
    "display(power_df)"
   ]
  },
  {
   "cell_type": "markdown",
   "id": "85cecc4d",
   "metadata": {},
   "source": [
    "CUPED and the panel estimator achieve 90% power with 500 observations, while the difference in means-estimator requires a sample that is orders of magnitude larger. \n",
    "To conclude, we should mention that these effects stem from a stylized exmaple data set - in practice, the gains from CUPED / panel methods for variance reduction are much lower - \n",
    "companies with access to high quality panel data report reductions of 10% to 50% (see e.g. this paper by [Microsoft Bing](https://exp-platform.com/Documents/2013-02-CUPED-ImprovingSensitivityOfControlledExperiments.pdf))."
   ]
  },
  {
   "cell_type": "markdown",
   "id": "9f2394bc",
   "metadata": {},
   "source": [
    "## When does CUPED not work? \n",
    "\n",
    "CUPED only works when we explain a lot of \"residual\" variation, which in our example data set is controlled by the `sigma_unit` parameter. Let's see what happens if we drastically reduce it - we now change the parameter from `18` to `4`."
   ]
  },
  {
   "cell_type": "markdown",
   "id": "8a776941",
   "metadata": {},
   "source": [
    "We repeat the standard error monte carlo simulation, but set `sigma_unit = 4`."
   ]
  },
  {
   "cell_type": "code",
   "execution_count": 19,
   "id": "9e308933",
   "metadata": {},
   "outputs": [
    {
     "name": "stderr",
     "output_type": "stream",
     "text": [
      "100%|██████████| 10/10 [00:48<00:00,  4.89s/it]\n"
     ]
    }
   ],
   "source": [
    "se_sim_1 = _run_simulation(N=100_000, sigma_unit=4, n_sim=10)"
   ]
  },
  {
   "cell_type": "code",
   "execution_count": 22,
   "id": "16388f84",
   "metadata": {},
   "outputs": [
    {
     "data": {
      "text/plain": [
       "Difference-in-Means    0.006852\n",
       "Cuped                  0.004174\n",
       "Panel                  0.004186\n",
       "dtype: float64"
      ]
     },
     "metadata": {},
     "output_type": "display_data"
    }
   ],
   "source": [
    "display(se_sim_1)"
   ]
  },
  {
   "cell_type": "markdown",
   "id": "00fdf6ac",
   "metadata": {},
   "source": [
    "All of a sudden, the difference-in-means estimator has lower variance!"
   ]
  },
  {
   "cell_type": "code",
   "execution_count": 23,
   "id": "f9b04373",
   "metadata": {},
   "outputs": [
    {
     "data": {
      "text/plain": [
       "Difference-in-Means    0.029457\n",
       "Cuped                  0.004184\n",
       "Panel                  0.004185\n",
       "dtype: float64"
      ]
     },
     "metadata": {},
     "output_type": "display_data"
    }
   ],
   "source": [
    "display(se_sim_18)"
   ]
  },
  {
   "cell_type": "markdown",
   "id": "d78b86e9",
   "metadata": {},
   "source": [
    "The reason we do not achieve variance reduction this time is that the addition of pre-treatment covariates / unit fixed effects simply explains less unobserved variance than before. "
   ]
  },
  {
   "cell_type": "markdown",
   "id": "e6f98862",
   "metadata": {},
   "source": [
    "## Other useful links\n",
    "\n",
    "- [Matteo Courthoud's great blog post on CUPED](https://matteocourthoud.github.io/post/cuped/), goes through some theory, compares CUPED with other estimators, runs simulations studies, and summarizes the literature. \n",
    "- [Lal et al on panel experiments](https://arxiv.org/abs/2410.09952) explains why using panel estimators might be a good idea when analysing AB tests, and shows how it can be done efficiently in SQL. "
   ]
  }
 ],
 "metadata": {
  "kernelspec": {
   "display_name": "docs",
   "language": "python",
   "name": "python3"
  },
  "language_info": {
   "codemirror_mode": {
    "name": "ipython",
    "version": 3
   },
   "file_extension": ".py",
   "mimetype": "text/x-python",
   "name": "python",
   "nbconvert_exporter": "python",
   "pygments_lexer": "ipython3",
   "version": "3.12.10"
  }
 },
 "nbformat": 4,
 "nbformat_minor": 5
}
