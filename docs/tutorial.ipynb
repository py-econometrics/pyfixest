{
 "cells": [
  {
   "cell_type": "markdown",
   "metadata": {},
   "source": [
    "# Getting Started with PyFixest\n",
    "\n",
    "In a first step, we load the module and some example data:"
   ]
  },
  {
   "cell_type": "code",
   "execution_count": 12,
   "metadata": {},
   "outputs": [
    {
     "name": "stdout",
     "output_type": "stream",
     "text": [
      "The autoreload extension is already loaded. To reload it, use:\n",
      "  %reload_ext autoreload\n"
     ]
    }
   ],
   "source": [
    "%load_ext autoreload\n",
    "%autoreload 2\n",
    "\n",
    "from pyfixest.estimation import feols, fepois\n",
    "from pyfixest.summarize import summary\n",
    "from pyfixest.visualize import coefplot, iplot\n",
    "from pyfixest.utils import get_data"
   ]
  },
  {
   "cell_type": "code",
   "execution_count": 13,
   "metadata": {},
   "outputs": [
    {
     "data": {
      "text/html": [
       "<div>\n",
       "<style scoped>\n",
       "    .dataframe tbody tr th:only-of-type {\n",
       "        vertical-align: middle;\n",
       "    }\n",
       "\n",
       "    .dataframe tbody tr th {\n",
       "        vertical-align: top;\n",
       "    }\n",
       "\n",
       "    .dataframe thead th {\n",
       "        text-align: right;\n",
       "    }\n",
       "</style>\n",
       "<table border=\"1\" class=\"dataframe\">\n",
       "  <thead>\n",
       "    <tr style=\"text-align: right;\">\n",
       "      <th></th>\n",
       "      <th>Y</th>\n",
       "      <th>Y2</th>\n",
       "      <th>X1</th>\n",
       "      <th>X2</th>\n",
       "      <th>f1</th>\n",
       "      <th>f2</th>\n",
       "      <th>f3</th>\n",
       "      <th>group_id</th>\n",
       "      <th>Z1</th>\n",
       "      <th>Z2</th>\n",
       "    </tr>\n",
       "  </thead>\n",
       "  <tbody>\n",
       "    <tr>\n",
       "      <th>0</th>\n",
       "      <td>NaN</td>\n",
       "      <td>-9.166216</td>\n",
       "      <td>2.0</td>\n",
       "      <td>0.457858</td>\n",
       "      <td>9.0</td>\n",
       "      <td>15.0</td>\n",
       "      <td>0.0</td>\n",
       "      <td>1.0</td>\n",
       "      <td>1.524607</td>\n",
       "      <td>-0.818696</td>\n",
       "    </tr>\n",
       "    <tr>\n",
       "      <th>1</th>\n",
       "      <td>3.221964</td>\n",
       "      <td>-2.835142</td>\n",
       "      <td>NaN</td>\n",
       "      <td>-4.998406</td>\n",
       "      <td>8.0</td>\n",
       "      <td>6.0</td>\n",
       "      <td>9.0</td>\n",
       "      <td>11.0</td>\n",
       "      <td>NaN</td>\n",
       "      <td>-5.650218</td>\n",
       "    </tr>\n",
       "    <tr>\n",
       "      <th>2</th>\n",
       "      <td>1.449755</td>\n",
       "      <td>-3.721375</td>\n",
       "      <td>1.0</td>\n",
       "      <td>1.558480</td>\n",
       "      <td>NaN</td>\n",
       "      <td>11.0</td>\n",
       "      <td>0.0</td>\n",
       "      <td>18.0</td>\n",
       "      <td>2.125211</td>\n",
       "      <td>0.656295</td>\n",
       "    </tr>\n",
       "    <tr>\n",
       "      <th>3</th>\n",
       "      <td>4.811894</td>\n",
       "      <td>14.328147</td>\n",
       "      <td>1.0</td>\n",
       "      <td>1.560402</td>\n",
       "      <td>15.0</td>\n",
       "      <td>1.0</td>\n",
       "      <td>4.0</td>\n",
       "      <td>15.0</td>\n",
       "      <td>0.903356</td>\n",
       "      <td>1.572646</td>\n",
       "    </tr>\n",
       "    <tr>\n",
       "      <th>4</th>\n",
       "      <td>1.193511</td>\n",
       "      <td>-6.568647</td>\n",
       "      <td>2.0</td>\n",
       "      <td>-3.472232</td>\n",
       "      <td>20.0</td>\n",
       "      <td>19.0</td>\n",
       "      <td>9.0</td>\n",
       "      <td>5.0</td>\n",
       "      <td>3.711146</td>\n",
       "      <td>-3.955593</td>\n",
       "    </tr>\n",
       "  </tbody>\n",
       "</table>\n",
       "</div>"
      ],
      "text/plain": [
       "          Y         Y2   X1        X2    f1    f2   f3  group_id        Z1  \\\n",
       "0       NaN  -9.166216  2.0  0.457858   9.0  15.0  0.0       1.0  1.524607   \n",
       "1  3.221964  -2.835142  NaN -4.998406   8.0   6.0  9.0      11.0       NaN   \n",
       "2  1.449755  -3.721375  1.0  1.558480   NaN  11.0  0.0      18.0  2.125211   \n",
       "3  4.811894  14.328147  1.0  1.560402  15.0   1.0  4.0      15.0  0.903356   \n",
       "4  1.193511  -6.568647  2.0 -3.472232  20.0  19.0  9.0       5.0  3.711146   \n",
       "\n",
       "         Z2  \n",
       "0 -0.818696  \n",
       "1 -5.650218  \n",
       "2  0.656295  \n",
       "3  1.572646  \n",
       "4 -3.955593  "
      ]
     },
     "execution_count": 13,
     "metadata": {},
     "output_type": "execute_result"
    }
   ],
   "source": [
    "data = get_data()\n",
    "data.head()"
   ]
  },
  {
   "cell_type": "markdown",
   "metadata": {},
   "source": [
    "## OLS Estimation"
   ]
  },
  {
   "cell_type": "markdown",
   "metadata": {},
   "source": [
    "We can estimate a fixed effects regression via the `feols()` function. `feols()` has three arguments: a two-sided model formula, the data, and optionally, the type of inference."
   ]
  },
  {
   "cell_type": "code",
   "execution_count": 14,
   "metadata": {},
   "outputs": [
    {
     "name": "stdout",
     "output_type": "stream",
     "text": [
      "Model:  Y~X1|f1\n"
     ]
    },
    {
     "data": {
      "text/plain": [
       "pyfixest.feols.Feols"
      ]
     },
     "execution_count": 14,
     "metadata": {},
     "output_type": "execute_result"
    }
   ],
   "source": [
    "fit = feols(fml=\"Y~X1 | f1\", data=data, vcov=\"HC1\")\n",
    "type(fit)"
   ]
  },
  {
   "cell_type": "markdown",
   "metadata": {},
   "source": [
    "The first part of the formula contains the dependent variable and \"regular\" covariates, while the second part contains fixed effects.\n",
    "\n",
    "`feols()` returns an instance of the `Fixest` class, which supports a range of method to inspect results: "
   ]
  },
  {
   "cell_type": "markdown",
   "metadata": {},
   "source": [
    "To inspect the results, we can use a summary function or method:"
   ]
  },
  {
   "cell_type": "code",
   "execution_count": 15,
   "metadata": {},
   "outputs": [
    {
     "name": "stdout",
     "output_type": "stream",
     "text": [
      "###\n",
      "\n",
      "Model:  OLS\n",
      "Dep. var.:  Y\n",
      "Fixed effects:  f1\n",
      "Inference:  HC1\n",
      "Observations:  997\n",
      "\n",
      "| Coefficient   |   Estimate |   Std. Error |   t value |   Pr(>|t|) |   2.5 % |   97.5 % |\n",
      "|:--------------|-----------:|-------------:|----------:|-----------:|--------:|---------:|\n",
      "| X1            |      0.349 |        0.056 |     6.276 |      0.000 |   0.240 |    0.458 |\n",
      "---\n",
      "RMSE: 1.422  Adj. R2: 0.036  Adj. R2 Within: 0.036\n"
     ]
    }
   ],
   "source": [
    "fit.summary()"
   ]
  },
  {
   "cell_type": "markdown",
   "metadata": {},
   "source": [
    "Alternatively, the `.summarize` module contains a `summary` function, which can be applied on instances of regression model objects \n",
    "or lists of regression model objects. "
   ]
  },
  {
   "cell_type": "code",
   "execution_count": 16,
   "metadata": {},
   "outputs": [
    {
     "name": "stdout",
     "output_type": "stream",
     "text": [
      "###\n",
      "\n",
      "Model:  OLS\n",
      "Dep. var.:  Y\n",
      "Fixed effects:  f1\n",
      "Inference:  HC1\n",
      "Observations:  997\n",
      "\n",
      "| Coefficient   |   Estimate |   Std. Error |   t value |   Pr(>|t|) |   2.5 % |   97.5 % |\n",
      "|:--------------|-----------:|-------------:|----------:|-----------:|--------:|---------:|\n",
      "| X1            |      0.349 |        0.056 |     6.276 |      0.000 |   0.240 |    0.458 |\n",
      "---\n",
      "RMSE: 1.422  Adj. R2: 0.036  Adj. R2 Within: 0.036\n"
     ]
    }
   ],
   "source": [
    "summary(fit)"
   ]
  },
  {
   "cell_type": "markdown",
   "metadata": {},
   "source": [
    "You can access individual elements of the summary via dedicated methods: `.tidy()` returns a \"tidy\" `pd.DataFrame`, \n",
    "`.coef()` returns estimated parameters, and `se()` estimated standard errors. Other methods include `pvalue()`, `confint()`\n",
    "and `tstat()`."
   ]
  },
  {
   "cell_type": "code",
   "execution_count": 17,
   "metadata": {},
   "outputs": [
    {
     "data": {
      "text/plain": [
       "Coefficient\n",
       "X1    0.34888\n",
       "Name: Estimate, dtype: float64"
      ]
     },
     "execution_count": 17,
     "metadata": {},
     "output_type": "execute_result"
    }
   ],
   "source": [
    "fit.coef()"
   ]
  },
  {
   "cell_type": "code",
   "execution_count": 18,
   "metadata": {},
   "outputs": [
    {
     "data": {
      "text/plain": [
       "Coefficient\n",
       "X1    0.055591\n",
       "Name: Std. Error, dtype: float64"
      ]
     },
     "execution_count": 18,
     "metadata": {},
     "output_type": "execute_result"
    }
   ],
   "source": [
    "fit.se()"
   ]
  },
  {
   "cell_type": "markdown",
   "metadata": {},
   "source": [
    "## Standard Errors and Inference"
   ]
  },
  {
   "cell_type": "markdown",
   "metadata": {},
   "source": [
    "Supported covariance types are \"iid\", \"HC1-3\", CRV1 and CRV3 (one-way clustering). Inference can be adjusted \"on-the-fly\" via the\n",
    "`.vcov()` method:"
   ]
  },
  {
   "cell_type": "code",
   "execution_count": 19,
   "metadata": {},
   "outputs": [
    {
     "name": "stdout",
     "output_type": "stream",
     "text": [
      "###\n",
      "\n",
      "Model:  OLS\n",
      "Dep. var.:  Y\n",
      "Fixed effects:  f1\n",
      "Inference:  CRV1\n",
      "Observations:  997\n",
      "\n",
      "| Coefficient   |   Estimate |   Std. Error |   t value |   Pr(>|t|) |   2.5 % |   97.5 % |\n",
      "|:--------------|-----------:|-------------:|----------:|-----------:|--------:|---------:|\n",
      "| X1            |      0.349 |        0.070 |     4.985 |      0.000 |   0.202 |    0.496 |\n",
      "---\n",
      "RMSE: 1.422  Adj. R2: 0.036  Adj. R2 Within: 0.036\n",
      "###\n",
      "\n",
      "Model:  OLS\n",
      "Dep. var.:  Y\n",
      "Fixed effects:  f1\n",
      "Inference:  HC1\n",
      "Observations:  997\n",
      "\n",
      "| Coefficient   |   Estimate |   Std. Error |   t value |   Pr(>|t|) |   2.5 % |   97.5 % |\n",
      "|:--------------|-----------:|-------------:|----------:|-----------:|--------:|---------:|\n",
      "| X1            |      0.349 |        0.056 |     6.276 |      0.000 |   0.240 |    0.458 |\n",
      "---\n",
      "RMSE: 1.422  Adj. R2: 0.036  Adj. R2 Within: 0.036\n"
     ]
    }
   ],
   "source": [
    "fit.vcov({\"CRV1\": \"group_id\"}).summary()\n",
    "fit.vcov(\"HC1\").summary()"
   ]
  },
  {
   "cell_type": "markdown",
   "metadata": {},
   "source": [
    "It is also possible to run a wild (cluster) bootstrap after estimation (via the [wildboottest module](https://github.com/s3alfisc/wildboottest), only for Python\n",
    "versions smaller than `3.11`):"
   ]
  },
  {
   "cell_type": "code",
   "execution_count": 20,
   "metadata": {},
   "outputs": [
    {
     "name": "stdout",
     "output_type": "stream",
     "text": [
      "Model:  Y~X1\n"
     ]
    },
    {
     "data": {
      "text/plain": [
       "param                X1\n",
       "statistic         4.351\n",
       "pvalue              0.0\n",
       "bootstrap_type       11\n",
       "impose_null        True\n",
       "dtype: object"
      ]
     },
     "execution_count": 20,
     "metadata": {},
     "output_type": "execute_result"
    }
   ],
   "source": [
    "fit2 = feols(fml=\"Y~ csw(X1, X2)\", data=data, vcov={\"CRV1\": \"group_id\"})\n",
    "fit2.wildboottest(param=\"X1\", B=999)"
   ]
  },
  {
   "cell_type": "markdown",
   "metadata": {},
   "source": [
    "Note that the wild bootstrap currently does not support fixed effects in the regression model. Supporting fixed effects is work in progress.\n",
    "\n",
    "## IV Estimation \n",
    "\n",
    "It is also possible to estimate instrumental variable models with *one* endogenous variable and (potentially multiple) instruments:"
   ]
  },
  {
   "cell_type": "code",
   "execution_count": 21,
   "metadata": {},
   "outputs": [
    {
     "name": "stdout",
     "output_type": "stream",
     "text": [
      "Model:  Y2~X1|f1+f2|X1~Z1+Z2\n",
      "###\n",
      "\n",
      "Model:  IV\n",
      "Dep. var.:  Y2\n",
      "Fixed effects:  f1+f2\n",
      "Inference:  CRV1\n",
      "Observations:  998\n",
      "\n",
      "| Coefficient   |   Estimate |   Std. Error |   t value |   Pr(>|t|) |   2.5 % |   97.5 % |\n",
      "|:--------------|-----------:|-------------:|----------:|-----------:|--------:|---------:|\n",
      "| X1            |      0.397 |        0.335 |     1.185 |      0.246 |  -0.288 |    1.082 |\n",
      "---\n"
     ]
    }
   ],
   "source": [
    "iv_fit = feols(fml=\"Y2~ 1 | f1 + f2 | X1 ~ Z1 + Z2\", data=data)\n",
    "iv_fit.summary()"
   ]
  },
  {
   "cell_type": "markdown",
   "metadata": {},
   "source": [
    "If the model does not contain any fixed effects, just drop the second part of the formula above:"
   ]
  },
  {
   "cell_type": "code",
   "execution_count": 22,
   "metadata": {},
   "outputs": [
    {
     "name": "stdout",
     "output_type": "stream",
     "text": [
      "Model:  Y~X1|X1~Z1+Z2\n",
      "###\n",
      "\n",
      "Model:  IV\n",
      "Dep. var.:  Y\n",
      "Inference:  iid\n",
      "Observations:  998\n",
      "\n",
      "| Coefficient   |   Estimate |   Std. Error |   t value |   Pr(>|t|) |   2.5 % |   97.5 % |\n",
      "|:--------------|-----------:|-------------:|----------:|-----------:|--------:|---------:|\n",
      "| Intercept     |      2.306 |        0.121 |    19.014 |      0.000 |   2.068 |    2.544 |\n",
      "| X1            |      0.260 |        0.106 |     2.449 |      0.015 |   0.052 |    0.468 |\n",
      "---\n"
     ]
    }
   ],
   "source": [
    "feols(fml=\"Y~ 1 | X1 ~ Z1 + Z2\", data=data).summary()"
   ]
  },
  {
   "cell_type": "markdown",
   "metadata": {},
   "source": [
    "IV estimation with multiple endogenous variables and multiple estimation syntax is currently not supported. The syntax is \"depvar ~ exog.vars | fixef effects | endog.vars ~ instruments\"."
   ]
  },
  {
   "cell_type": "markdown",
   "metadata": {},
   "source": [
    "## Poisson Regression \n",
    "\n",
    "With version `0.8.4`, it is possible to estimate Poisson Regressions (not yet on PyPi): "
   ]
  },
  {
   "cell_type": "code",
   "execution_count": 23,
   "metadata": {},
   "outputs": [
    {
     "name": "stdout",
     "output_type": "stream",
     "text": [
      "Model:  Y~X1|X2+X3+X4\n",
      "###\n",
      "\n",
      "Model:  Poisson\n",
      "Dep. var.:  Y\n",
      "Fixed effects:  X2+X3+X4\n",
      "Inference:  CRV1\n",
      "Observations:  1000\n",
      "\n",
      "| Coefficient   |   Estimate |   Std. Error |   t value |   Pr(>|t|) |   2.5 % |   97.5 % |\n",
      "|:--------------|-----------:|-------------:|----------:|-----------:|--------:|---------:|\n",
      "| X1            |      0.874 |        0.037 |    23.780 |      0.000 |   0.802 |    0.946 |\n",
      "---\n",
      "Deviance: 481157.824\n"
     ]
    }
   ],
   "source": [
    "from pyfixest.utils import get_poisson_data\n",
    "\n",
    "pois_data = get_poisson_data()\n",
    "pois_fit = fepois(fml=\"Y~X1 | X2+X3+X4\", data=pois_data, vcov={\"CRV1\": \"X4\"})\n",
    "pois_fit.summary()"
   ]
  },
  {
   "cell_type": "markdown",
   "metadata": {},
   "source": [
    "## Multiple Estimation \n",
    "\n",
    "`PyFixest` supports a range of multiple estimation functionality: `sw`, `sw0`, `csw`, `csw0`, and multiple dependent variables. If multiple regression syntax is used, \n",
    "`feols()` and `fepois` returns an instance of a `FixestMulti` object, which essentially consists of a dicionary of `Fepois` or `Feols` instances."
   ]
  },
  {
   "cell_type": "code",
   "execution_count": 24,
   "metadata": {},
   "outputs": [
    {
     "data": {
      "text/plain": [
       "<pyfixest.FixestMulti.FixestMulti at 0x1dd075717e0>"
      ]
     },
     "execution_count": 24,
     "metadata": {},
     "output_type": "execute_result"
    }
   ],
   "source": [
    "multi_fit = feols(fml=\"Y~X1 | csw0(f1, f2)\", data=data, vcov=\"HC1\")\n",
    "multi_fit"
   ]
  },
  {
   "cell_type": "code",
   "execution_count": 25,
   "metadata": {},
   "outputs": [
    {
     "name": "stdout",
     "output_type": "stream",
     "text": [
      "###\n",
      "\n",
      "Model:  OLS\n",
      "Dep. var.:  Y\n",
      "Inference:  HC1\n",
      "Observations:  998\n",
      "\n",
      "| Coefficient   |   Estimate |   Std. Error |   t value |   Pr(>|t|) |   2.5 % |   97.5 % |\n",
      "|:--------------|-----------:|-------------:|----------:|-----------:|--------:|---------:|\n",
      "| Intercept     |      2.260 |        0.093 |    24.242 |      0.000 |   2.077 |    2.443 |\n",
      "| X1            |      0.305 |        0.070 |     4.348 |      0.000 |   0.167 |    0.443 |\n",
      "---\n",
      "RMSE: 1.764  Adj. R2: 0.017  Adj. R2 Within: 0.017\n",
      "###\n",
      "\n",
      "Model:  OLS\n",
      "Dep. var.:  Y\n",
      "Fixed effects:  f1\n",
      "Inference:  HC1\n",
      "Observations:  997\n",
      "\n",
      "| Coefficient   |   Estimate |   Std. Error |   t value |   Pr(>|t|) |   2.5 % |   97.5 % |\n",
      "|:--------------|-----------:|-------------:|----------:|-----------:|--------:|---------:|\n",
      "| X1            |      0.349 |        0.056 |     6.276 |      0.000 |   0.240 |    0.458 |\n",
      "---\n",
      "RMSE: 1.422  Adj. R2: 0.036  Adj. R2 Within: 0.036\n",
      "###\n",
      "\n",
      "Model:  OLS\n",
      "Dep. var.:  Y\n",
      "Fixed effects:  f1+f2\n",
      "Inference:  HC1\n",
      "Observations:  997\n",
      "\n",
      "| Coefficient   |   Estimate |   Std. Error |   t value |   Pr(>|t|) |   2.5 % |   97.5 % |\n",
      "|:--------------|-----------:|-------------:|----------:|-----------:|--------:|---------:|\n",
      "| X1            |      0.344 |        0.047 |     7.254 |      0.000 |   0.251 |    0.437 |\n",
      "---\n",
      "RMSE: 1.2  Adj. R2: 0.048  Adj. R2 Within: 0.048\n"
     ]
    }
   ],
   "source": [
    "multi_fit.summary()"
   ]
  },
  {
   "cell_type": "markdown",
   "metadata": {},
   "source": [
    "Alternatively, you can look at the estimation results via the `etable()` method:"
   ]
  },
  {
   "cell_type": "code",
   "execution_count": 26,
   "metadata": {},
   "outputs": [
    {
     "data": {
      "text/html": [
       "<div>\n",
       "<style scoped>\n",
       "    .dataframe tbody tr th:only-of-type {\n",
       "        vertical-align: middle;\n",
       "    }\n",
       "\n",
       "    .dataframe tbody tr th {\n",
       "        vertical-align: top;\n",
       "    }\n",
       "\n",
       "    .dataframe thead tr th {\n",
       "        text-align: left;\n",
       "    }\n",
       "</style>\n",
       "<table border=\"1\" class=\"dataframe\">\n",
       "  <thead>\n",
       "    <tr>\n",
       "      <th>fml</th>\n",
       "      <th colspan=\"2\" halign=\"left\">Y~X1</th>\n",
       "      <th>Y~X1|f1</th>\n",
       "      <th>Y~X1|f1+f2</th>\n",
       "    </tr>\n",
       "    <tr>\n",
       "      <th>Coefficient</th>\n",
       "      <th>Intercept</th>\n",
       "      <th>X1</th>\n",
       "      <th>X1</th>\n",
       "      <th>X1</th>\n",
       "    </tr>\n",
       "  </thead>\n",
       "  <tbody>\n",
       "    <tr>\n",
       "      <th>Estimate</th>\n",
       "      <td>2.260</td>\n",
       "      <td>0.305</td>\n",
       "      <td>0.349</td>\n",
       "      <td>0.344</td>\n",
       "    </tr>\n",
       "    <tr>\n",
       "      <th>Std. Error</th>\n",
       "      <td>0.093</td>\n",
       "      <td>0.070</td>\n",
       "      <td>0.056</td>\n",
       "      <td>0.047</td>\n",
       "    </tr>\n",
       "    <tr>\n",
       "      <th>t value</th>\n",
       "      <td>24.242</td>\n",
       "      <td>4.348</td>\n",
       "      <td>6.276</td>\n",
       "      <td>7.254</td>\n",
       "    </tr>\n",
       "    <tr>\n",
       "      <th>Pr(&gt;|t|)</th>\n",
       "      <td>0.000</td>\n",
       "      <td>0.000</td>\n",
       "      <td>0.000</td>\n",
       "      <td>0.000</td>\n",
       "    </tr>\n",
       "    <tr>\n",
       "      <th>2.5 %</th>\n",
       "      <td>2.077</td>\n",
       "      <td>0.167</td>\n",
       "      <td>0.240</td>\n",
       "      <td>0.251</td>\n",
       "    </tr>\n",
       "    <tr>\n",
       "      <th>97.5 %</th>\n",
       "      <td>2.443</td>\n",
       "      <td>0.443</td>\n",
       "      <td>0.458</td>\n",
       "      <td>0.437</td>\n",
       "    </tr>\n",
       "  </tbody>\n",
       "</table>\n",
       "</div>"
      ],
      "text/plain": [
       "fml              Y~X1        Y~X1|f1 Y~X1|f1+f2\n",
       "Coefficient Intercept     X1      X1         X1\n",
       "Estimate        2.260  0.305   0.349      0.344\n",
       "Std. Error      0.093  0.070   0.056      0.047\n",
       "t value        24.242  4.348   6.276      7.254\n",
       "Pr(>|t|)        0.000  0.000   0.000      0.000\n",
       "2.5 %           2.077  0.167   0.240      0.251\n",
       "97.5 %          2.443  0.443   0.458      0.437"
      ]
     },
     "execution_count": 26,
     "metadata": {},
     "output_type": "execute_result"
    }
   ],
   "source": [
    "multi_fit.etable()"
   ]
  },
  {
   "cell_type": "markdown",
   "metadata": {},
   "source": [
    "If you are only insterested in some parameters, e.g. \"X1\", you can use the following syntax:"
   ]
  },
  {
   "cell_type": "code",
   "execution_count": 27,
   "metadata": {},
   "outputs": [
    {
     "data": {
      "text/html": [
       "<div>\n",
       "<style scoped>\n",
       "    .dataframe tbody tr th:only-of-type {\n",
       "        vertical-align: middle;\n",
       "    }\n",
       "\n",
       "    .dataframe tbody tr th {\n",
       "        vertical-align: top;\n",
       "    }\n",
       "\n",
       "    .dataframe thead th {\n",
       "        text-align: right;\n",
       "    }\n",
       "</style>\n",
       "<table border=\"1\" class=\"dataframe\">\n",
       "  <thead>\n",
       "    <tr style=\"text-align: right;\">\n",
       "      <th>fml</th>\n",
       "      <th>Y~X1</th>\n",
       "      <th>Y~X1|f1</th>\n",
       "      <th>Y~X1|f1+f2</th>\n",
       "    </tr>\n",
       "  </thead>\n",
       "  <tbody>\n",
       "    <tr>\n",
       "      <th>Estimate</th>\n",
       "      <td>0.305</td>\n",
       "      <td>0.349</td>\n",
       "      <td>0.344</td>\n",
       "    </tr>\n",
       "    <tr>\n",
       "      <th>Std. Error</th>\n",
       "      <td>0.070</td>\n",
       "      <td>0.056</td>\n",
       "      <td>0.047</td>\n",
       "    </tr>\n",
       "    <tr>\n",
       "      <th>t value</th>\n",
       "      <td>4.348</td>\n",
       "      <td>6.276</td>\n",
       "      <td>7.254</td>\n",
       "    </tr>\n",
       "    <tr>\n",
       "      <th>Pr(&gt;|t|)</th>\n",
       "      <td>0.000</td>\n",
       "      <td>0.000</td>\n",
       "      <td>0.000</td>\n",
       "    </tr>\n",
       "    <tr>\n",
       "      <th>2.5 %</th>\n",
       "      <td>0.167</td>\n",
       "      <td>0.240</td>\n",
       "      <td>0.251</td>\n",
       "    </tr>\n",
       "    <tr>\n",
       "      <th>97.5 %</th>\n",
       "      <td>0.443</td>\n",
       "      <td>0.458</td>\n",
       "      <td>0.437</td>\n",
       "    </tr>\n",
       "  </tbody>\n",
       "</table>\n",
       "</div>"
      ],
      "text/plain": [
       "fml          Y~X1  Y~X1|f1  Y~X1|f1+f2\n",
       "Estimate    0.305    0.349       0.344\n",
       "Std. Error  0.070    0.056       0.047\n",
       "t value     4.348    6.276       7.254\n",
       "Pr(>|t|)    0.000    0.000       0.000\n",
       "2.5 %       0.167    0.240       0.251\n",
       "97.5 %      0.443    0.458       0.437"
      ]
     },
     "execution_count": 27,
     "metadata": {},
     "output_type": "execute_result"
    }
   ],
   "source": [
    "multi_fit.etable().xs(\"X1\", level=1, axis=1)"
   ]
  },
  {
   "cell_type": "markdown",
   "metadata": {},
   "source": [
    "You can access an individual model by its name - i.e. a formula - via the `all_fitted_models` attribure."
   ]
  },
  {
   "cell_type": "code",
   "execution_count": 28,
   "metadata": {},
   "outputs": [
    {
     "data": {
      "text/html": [
       "<div>\n",
       "<style scoped>\n",
       "    .dataframe tbody tr th:only-of-type {\n",
       "        vertical-align: middle;\n",
       "    }\n",
       "\n",
       "    .dataframe tbody tr th {\n",
       "        vertical-align: top;\n",
       "    }\n",
       "\n",
       "    .dataframe thead th {\n",
       "        text-align: right;\n",
       "    }\n",
       "</style>\n",
       "<table border=\"1\" class=\"dataframe\">\n",
       "  <thead>\n",
       "    <tr style=\"text-align: right;\">\n",
       "      <th></th>\n",
       "      <th>Estimate</th>\n",
       "      <th>Std. Error</th>\n",
       "      <th>t value</th>\n",
       "      <th>Pr(&gt;|t|)</th>\n",
       "      <th>2.5 %</th>\n",
       "      <th>97.5 %</th>\n",
       "    </tr>\n",
       "    <tr>\n",
       "      <th>Coefficient</th>\n",
       "      <th></th>\n",
       "      <th></th>\n",
       "      <th></th>\n",
       "      <th></th>\n",
       "      <th></th>\n",
       "      <th></th>\n",
       "    </tr>\n",
       "  </thead>\n",
       "  <tbody>\n",
       "    <tr>\n",
       "      <th>Intercept</th>\n",
       "      <td>2.259754</td>\n",
       "      <td>0.093217</td>\n",
       "      <td>24.241742</td>\n",
       "      <td>0.000000</td>\n",
       "      <td>2.076828</td>\n",
       "      <td>2.442679</td>\n",
       "    </tr>\n",
       "    <tr>\n",
       "      <th>X1</th>\n",
       "      <td>0.305068</td>\n",
       "      <td>0.070155</td>\n",
       "      <td>4.348470</td>\n",
       "      <td>0.000015</td>\n",
       "      <td>0.167399</td>\n",
       "      <td>0.442737</td>\n",
       "    </tr>\n",
       "  </tbody>\n",
       "</table>\n",
       "</div>"
      ],
      "text/plain": [
       "             Estimate  Std. Error    t value  Pr(>|t|)     2.5 %    97.5 %\n",
       "Coefficient                                                               \n",
       "Intercept    2.259754    0.093217  24.241742  0.000000  2.076828  2.442679\n",
       "X1           0.305068    0.070155   4.348470  0.000015  0.167399  0.442737"
      ]
     },
     "execution_count": 28,
     "metadata": {},
     "output_type": "execute_result"
    }
   ],
   "source": [
    "multi_fit.all_fitted_models[\"Y~X1\"].tidy()"
   ]
  },
  {
   "cell_type": "markdown",
   "metadata": {},
   "source": [
    "or equivalently via the `fetch_model` method:"
   ]
  },
  {
   "cell_type": "code",
   "execution_count": 29,
   "metadata": {},
   "outputs": [
    {
     "name": "stdout",
     "output_type": "stream",
     "text": [
      "Model:  Y~X1\n"
     ]
    },
    {
     "data": {
      "text/html": [
       "<div>\n",
       "<style scoped>\n",
       "    .dataframe tbody tr th:only-of-type {\n",
       "        vertical-align: middle;\n",
       "    }\n",
       "\n",
       "    .dataframe tbody tr th {\n",
       "        vertical-align: top;\n",
       "    }\n",
       "\n",
       "    .dataframe thead th {\n",
       "        text-align: right;\n",
       "    }\n",
       "</style>\n",
       "<table border=\"1\" class=\"dataframe\">\n",
       "  <thead>\n",
       "    <tr style=\"text-align: right;\">\n",
       "      <th></th>\n",
       "      <th>Estimate</th>\n",
       "      <th>Std. Error</th>\n",
       "      <th>t value</th>\n",
       "      <th>Pr(&gt;|t|)</th>\n",
       "      <th>2.5 %</th>\n",
       "      <th>97.5 %</th>\n",
       "    </tr>\n",
       "    <tr>\n",
       "      <th>Coefficient</th>\n",
       "      <th></th>\n",
       "      <th></th>\n",
       "      <th></th>\n",
       "      <th></th>\n",
       "      <th></th>\n",
       "      <th></th>\n",
       "    </tr>\n",
       "  </thead>\n",
       "  <tbody>\n",
       "    <tr>\n",
       "      <th>Intercept</th>\n",
       "      <td>2.259754</td>\n",
       "      <td>0.093217</td>\n",
       "      <td>24.241742</td>\n",
       "      <td>0.000000</td>\n",
       "      <td>2.076828</td>\n",
       "      <td>2.442679</td>\n",
       "    </tr>\n",
       "    <tr>\n",
       "      <th>X1</th>\n",
       "      <td>0.305068</td>\n",
       "      <td>0.070155</td>\n",
       "      <td>4.348470</td>\n",
       "      <td>0.000015</td>\n",
       "      <td>0.167399</td>\n",
       "      <td>0.442737</td>\n",
       "    </tr>\n",
       "  </tbody>\n",
       "</table>\n",
       "</div>"
      ],
      "text/plain": [
       "             Estimate  Std. Error    t value  Pr(>|t|)     2.5 %    97.5 %\n",
       "Coefficient                                                               \n",
       "Intercept    2.259754    0.093217  24.241742  0.000000  2.076828  2.442679\n",
       "X1           0.305068    0.070155   4.348470  0.000015  0.167399  0.442737"
      ]
     },
     "execution_count": 29,
     "metadata": {},
     "output_type": "execute_result"
    }
   ],
   "source": [
    "multi_fit.fetch_model(0).tidy()"
   ]
  },
  {
   "cell_type": "markdown",
   "metadata": {},
   "source": [
    "Here, `0` simply fetches the first model stored in the `all_fitted_models` dictionary, `1` the second etc."
   ]
  },
  {
   "cell_type": "markdown",
   "metadata": {},
   "source": [
    "Objects of type `Fixest` come with a range of additional methods: `tidy()`, `coef()`, `vcov()` etc, which \n",
    "essentially loop over the equivalent methods of all fitted models. E.g. `Fixest.vcov()` updates inference for all \n",
    "models stored in `Fixest`."
   ]
  },
  {
   "cell_type": "code",
   "execution_count": 30,
   "metadata": {},
   "outputs": [
    {
     "name": "stdout",
     "output_type": "stream",
     "text": [
      "###\n",
      "\n",
      "Model:  OLS\n",
      "Dep. var.:  Y\n",
      "Inference:  iid\n",
      "Observations:  998\n",
      "\n",
      "| Coefficient   |   Estimate |   Std. Error |   t value |   Pr(>|t|) |   2.5 % |   97.5 % |\n",
      "|:--------------|-----------:|-------------:|----------:|-----------:|--------:|---------:|\n",
      "| Intercept     |      2.260 |        0.090 |    25.218 |      0.000 |   2.084 |    2.436 |\n",
      "| X1            |      0.305 |        0.069 |     4.417 |      0.000 |   0.170 |    0.441 |\n",
      "---\n",
      "RMSE: 1.764  Adj. R2: 0.017  Adj. R2 Within: 0.017\n",
      "###\n",
      "\n",
      "Model:  OLS\n",
      "Dep. var.:  Y\n",
      "Fixed effects:  f1\n",
      "Inference:  iid\n",
      "Observations:  997\n",
      "\n",
      "| Coefficient   |   Estimate |   Std. Error |   t value |   Pr(>|t|) |   2.5 % |   97.5 % |\n",
      "|:--------------|-----------:|-------------:|----------:|-----------:|--------:|---------:|\n",
      "| X1            |      0.349 |        0.056 |     6.219 |      0.000 |   0.239 |    0.459 |\n",
      "---\n",
      "RMSE: 1.422  Adj. R2: 0.036  Adj. R2 Within: 0.036\n",
      "###\n",
      "\n",
      "Model:  OLS\n",
      "Dep. var.:  Y\n",
      "Fixed effects:  f1+f2\n",
      "Inference:  iid\n",
      "Observations:  997\n",
      "\n",
      "| Coefficient   |   Estimate |   Std. Error |   t value |   Pr(>|t|) |   2.5 % |   97.5 % |\n",
      "|:--------------|-----------:|-------------:|----------:|-----------:|--------:|---------:|\n",
      "| X1            |      0.344 |        0.048 |     7.142 |      0.000 |   0.250 |    0.439 |\n",
      "---\n",
      "RMSE: 1.2  Adj. R2: 0.048  Adj. R2 Within: 0.048\n"
     ]
    }
   ],
   "source": [
    "multi_fit.vcov(\"iid\").summary()"
   ]
  },
  {
   "cell_type": "markdown",
   "metadata": {},
   "source": [
    "## TWFE Event Study\n",
    "\n",
    "To conclude this intro, we estimate an event study from an example of the the [LOST](https://lost-stats.github.io/Model_Estimation/Research_Design/event_study.html) library of statistical techniques."
   ]
  },
  {
   "cell_type": "code",
   "execution_count": 31,
   "metadata": {},
   "outputs": [
    {
     "name": "stdout",
     "output_type": "stream",
     "text": [
      "Model:  asmrs~i(time_to_treat,treat,ref=-1)+pcinc|stfips+year\n"
     ]
    },
    {
     "data": {
      "image/png": "[encoded data removed]",
      "text/plain": [
       "<Figure size 2000x500 with 1 Axes>"
      ]
     },
     "metadata": {},
     "output_type": "display_data"
    }
   ],
   "source": [
    "import pandas as pd\n",
    "import numpy as np\n",
    "\n",
    "# Read in data\n",
    "df = pd.read_csv(\n",
    "    \"https://raw.githubusercontent.com/LOST-STATS/LOST-STATS.github.io/master/Model_Estimation/Data/Event_Study_DiD/bacon_example.csv\"\n",
    ")\n",
    "\n",
    "df[\"time_to_treat\"] = (df[\"year\"] - df[\"_nfd\"]).fillna(0).astype(int)\n",
    "df[\"time_to_treat\"] = pd.Categorical(\n",
    "    df.time_to_treat, np.sort(df.time_to_treat.unique())\n",
    ")\n",
    "df[\"treat\"] = np.where(pd.isna(df[\"_nfd\"]), 0, 1)\n",
    "\n",
    "fml = \"asmrs ~ i(time_to_treat, treat, ref = -1) + csw(pcinc, asmrh, cases) | stfips + year\"\n",
    "fit = feols(fml=fml, data=df, vcov={\"CRV1\": \"stfips\"})\n",
    "fit.iplot(yintercept=0, figsize=(20, 5))"
   ]
  },
  {
   "cell_type": "markdown",
   "metadata": {},
   "source": []
  }
 ],
 "metadata": {
  "kernelspec": {
   "display_name": "Python 3",
   "language": "python",
   "name": "python3"
  },
  "language_info": {
   "codemirror_mode": {
    "name": "ipython",
    "version": 3
   },
   "file_extension": ".py",
   "mimetype": "text/x-python",
   "name": "python",
   "nbconvert_exporter": "python",
   "pygments_lexer": "ipython3",
   "version": "3.10.8"
  },
  "orig_nbformat": 4
 },
 "nbformat": 4,
 "nbformat_minor": 2
}
