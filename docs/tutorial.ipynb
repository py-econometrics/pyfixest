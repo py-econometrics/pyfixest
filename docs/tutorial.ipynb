{
 "cells": [
  {
   "cell_type": "markdown",
   "metadata": {},
   "source": [
    "# Getting Started with PyFixest\n",
    "\n",
    "In a first step, we load the module and some example data:"
   ]
  },
  {
   "cell_type": "code",
   "execution_count": 68,
   "metadata": {},
   "outputs": [
    {
     "name": "stdout",
     "output_type": "stream",
     "text": [
      "The autoreload extension is already loaded. To reload it, use:\n",
      "  %reload_ext autoreload\n"
     ]
    }
   ],
   "source": [
    "%load_ext autoreload\n",
    "%autoreload 2\n",
    "\n",
    "from pyfixest.estimation import feols, fepois\n",
    "from pyfixest.summarize import summary, etable\n",
    "from pyfixest.visualize import coefplot, iplot\n",
    "from pyfixest.utils import get_data"
   ]
  },
  {
   "cell_type": "code",
   "execution_count": 69,
   "metadata": {},
   "outputs": [
    {
     "data": {
      "text/html": [
       "<div>\n",
       "<style scoped>\n",
       "    .dataframe tbody tr th:only-of-type {\n",
       "        vertical-align: middle;\n",
       "    }\n",
       "\n",
       "    .dataframe tbody tr th {\n",
       "        vertical-align: top;\n",
       "    }\n",
       "\n",
       "    .dataframe thead th {\n",
       "        text-align: right;\n",
       "    }\n",
       "</style>\n",
       "<table border=\"1\" class=\"dataframe\">\n",
       "  <thead>\n",
       "    <tr style=\"text-align: right;\">\n",
       "      <th></th>\n",
       "      <th>Y</th>\n",
       "      <th>Y2</th>\n",
       "      <th>X1</th>\n",
       "      <th>X2</th>\n",
       "      <th>f1</th>\n",
       "      <th>f2</th>\n",
       "      <th>f3</th>\n",
       "      <th>group_id</th>\n",
       "      <th>Z1</th>\n",
       "      <th>Z2</th>\n",
       "    </tr>\n",
       "  </thead>\n",
       "  <tbody>\n",
       "    <tr>\n",
       "      <th>0</th>\n",
       "      <td>NaN</td>\n",
       "      <td>-9.166216</td>\n",
       "      <td>2.0</td>\n",
       "      <td>0.457858</td>\n",
       "      <td>9.0</td>\n",
       "      <td>15.0</td>\n",
       "      <td>0.0</td>\n",
       "      <td>1.0</td>\n",
       "      <td>2.464146</td>\n",
       "      <td>1.583723</td>\n",
       "    </tr>\n",
       "    <tr>\n",
       "      <th>1</th>\n",
       "      <td>3.221964</td>\n",
       "      <td>-2.835142</td>\n",
       "      <td>NaN</td>\n",
       "      <td>-4.998406</td>\n",
       "      <td>8.0</td>\n",
       "      <td>6.0</td>\n",
       "      <td>9.0</td>\n",
       "      <td>11.0</td>\n",
       "      <td>NaN</td>\n",
       "      <td>-2.749629</td>\n",
       "    </tr>\n",
       "    <tr>\n",
       "      <th>2</th>\n",
       "      <td>1.449755</td>\n",
       "      <td>-3.721375</td>\n",
       "      <td>1.0</td>\n",
       "      <td>1.558480</td>\n",
       "      <td>NaN</td>\n",
       "      <td>11.0</td>\n",
       "      <td>0.0</td>\n",
       "      <td>18.0</td>\n",
       "      <td>0.449560</td>\n",
       "      <td>0.910130</td>\n",
       "    </tr>\n",
       "    <tr>\n",
       "      <th>3</th>\n",
       "      <td>5.179868</td>\n",
       "      <td>14.696121</td>\n",
       "      <td>2.0</td>\n",
       "      <td>1.560402</td>\n",
       "      <td>15.0</td>\n",
       "      <td>1.0</td>\n",
       "      <td>4.0</td>\n",
       "      <td>15.0</td>\n",
       "      <td>0.823438</td>\n",
       "      <td>0.914900</td>\n",
       "    </tr>\n",
       "    <tr>\n",
       "      <th>4</th>\n",
       "      <td>1.193511</td>\n",
       "      <td>-6.568647</td>\n",
       "      <td>2.0</td>\n",
       "      <td>-3.472232</td>\n",
       "      <td>20.0</td>\n",
       "      <td>19.0</td>\n",
       "      <td>9.0</td>\n",
       "      <td>5.0</td>\n",
       "      <td>0.895978</td>\n",
       "      <td>-3.056434</td>\n",
       "    </tr>\n",
       "  </tbody>\n",
       "</table>\n",
       "</div>"
      ],
      "text/plain": [
       "          Y         Y2   X1        X2    f1    f2   f3  group_id        Z1  \\\n",
       "0       NaN  -9.166216  2.0  0.457858   9.0  15.0  0.0       1.0  2.464146   \n",
       "1  3.221964  -2.835142  NaN -4.998406   8.0   6.0  9.0      11.0       NaN   \n",
       "2  1.449755  -3.721375  1.0  1.558480   NaN  11.0  0.0      18.0  0.449560   \n",
       "3  5.179868  14.696121  2.0  1.560402  15.0   1.0  4.0      15.0  0.823438   \n",
       "4  1.193511  -6.568647  2.0 -3.472232  20.0  19.0  9.0       5.0  0.895978   \n",
       "\n",
       "         Z2  \n",
       "0  1.583723  \n",
       "1 -2.749629  \n",
       "2  0.910130  \n",
       "3  0.914900  \n",
       "4 -3.056434  "
      ]
     },
     "execution_count": 69,
     "metadata": {},
     "output_type": "execute_result"
    }
   ],
   "source": [
    "data = get_data()\n",
    "data.head()"
   ]
  },
  {
   "cell_type": "markdown",
   "metadata": {},
   "source": [
    "## OLS Estimation"
   ]
  },
  {
   "cell_type": "markdown",
   "metadata": {},
   "source": [
    "We can estimate a fixed effects regression via the `feols()` function. `feols()` has three arguments: a two-sided model formula, the data, and optionally, the type of inference."
   ]
  },
  {
   "cell_type": "code",
   "execution_count": 70,
   "metadata": {},
   "outputs": [
    {
     "data": {
      "text/plain": [
       "pyfixest.feols.Feols"
      ]
     },
     "execution_count": 70,
     "metadata": {},
     "output_type": "execute_result"
    }
   ],
   "source": [
    "fit = feols(fml=\"Y~X1 | f1\", data=data, vcov=\"HC1\")\n",
    "type(fit)"
   ]
  },
  {
   "cell_type": "markdown",
   "metadata": {},
   "source": [
    "The first part of the formula contains the dependent variable and \"regular\" covariates, while the second part contains fixed effects.\n",
    "\n",
    "`feols()` returns an instance of the `Fixest` class."
   ]
  },
  {
   "cell_type": "markdown",
   "metadata": {},
   "source": [
    "To inspect the results, we can use a summary function or method:"
   ]
  },
  {
   "cell_type": "code",
   "execution_count": 71,
   "metadata": {},
   "outputs": [
    {
     "name": "stdout",
     "output_type": "stream",
     "text": [
      "###\n",
      "\n",
      "Estimation:  OLS\n",
      "Dep. var.: Y, Fixed effects: f1\n",
      "Inference:  HC1\n",
      "Observations:  997\n",
      "\n",
      "| Coefficient   |   Estimate |   Std. Error |   t value |   Pr(>|t|) |   2.5 % |   97.5 % |\n",
      "|:--------------|-----------:|-------------:|----------:|-----------:|--------:|---------:|\n",
      "| X1            |      0.362 |        0.057 |     6.321 |      0.000 |   0.249 |    0.474 |\n",
      "---\n",
      "RMSE: 1.422  Adj. R2: 0.038  Adj. R2 Within: 0.038\n"
     ]
    }
   ],
   "source": [
    "fit.summary()"
   ]
  },
  {
   "cell_type": "markdown",
   "metadata": {},
   "source": [
    "Alternatively, the `.summarize` module contains a `summary` function, which can be applied on instances of regression model objects \n",
    "or lists of regression model objects. "
   ]
  },
  {
   "cell_type": "code",
   "execution_count": 72,
   "metadata": {},
   "outputs": [
    {
     "name": "stdout",
     "output_type": "stream",
     "text": [
      "###\n",
      "\n",
      "Estimation:  OLS\n",
      "Dep. var.: Y, Fixed effects: f1\n",
      "Inference:  HC1\n",
      "Observations:  997\n",
      "\n",
      "| Coefficient   |   Estimate |   Std. Error |   t value |   Pr(>|t|) |   2.5 % |   97.5 % |\n",
      "|:--------------|-----------:|-------------:|----------:|-----------:|--------:|---------:|\n",
      "| X1            |      0.362 |        0.057 |     6.321 |      0.000 |   0.249 |    0.474 |\n",
      "---\n",
      "RMSE: 1.422  Adj. R2: 0.038  Adj. R2 Within: 0.038\n"
     ]
    }
   ],
   "source": [
    "summary(fit)"
   ]
  },
  {
   "cell_type": "markdown",
   "metadata": {},
   "source": [
    "You can access individual elements of the summary via dedicated methods: `.tidy()` returns a \"tidy\" `pd.DataFrame`, \n",
    "`.coef()` returns estimated parameters, and `se()` estimated standard errors. Other methods include `pvalue()`, `confint()`\n",
    "and `tstat()`."
   ]
  },
  {
   "cell_type": "code",
   "execution_count": 73,
   "metadata": {},
   "outputs": [
    {
     "data": {
      "text/plain": [
       "Coefficient\n",
       "X1    0.361642\n",
       "Name: Estimate, dtype: float64"
      ]
     },
     "execution_count": 73,
     "metadata": {},
     "output_type": "execute_result"
    }
   ],
   "source": [
    "fit.coef()"
   ]
  },
  {
   "cell_type": "code",
   "execution_count": 74,
   "metadata": {},
   "outputs": [
    {
     "data": {
      "text/plain": [
       "Coefficient\n",
       "X1    0.057212\n",
       "Name: Std. Error, dtype: float64"
      ]
     },
     "execution_count": 74,
     "metadata": {},
     "output_type": "execute_result"
    }
   ],
   "source": [
    "fit.se()"
   ]
  },
  {
   "cell_type": "markdown",
   "metadata": {},
   "source": [
    "## Standard Errors and Inference"
   ]
  },
  {
   "cell_type": "markdown",
   "metadata": {},
   "source": [
    "Supported covariance types are \"iid\", \"HC1-3\", CRV1 and CRV3 (up to two-way clustering). Inference can be adjusted \"on-the-fly\" via the\n",
    "`.vcov()` method:"
   ]
  },
  {
   "cell_type": "code",
   "execution_count": 75,
   "metadata": {},
   "outputs": [
    {
     "name": "stdout",
     "output_type": "stream",
     "text": [
      "###\n",
      "\n",
      "Estimation:  OLS\n",
      "Dep. var.: Y, Fixed effects: f1\n",
      "Inference:  CRV1\n",
      "Observations:  997\n",
      "\n",
      "| Coefficient   |   Estimate |   Std. Error |   t value |   Pr(>|t|) |   2.5 % |   97.5 % |\n",
      "|:--------------|-----------:|-------------:|----------:|-----------:|--------:|---------:|\n",
      "| X1            |      0.362 |        0.068 |     5.315 |      0.000 |   0.219 |    0.505 |\n",
      "---\n",
      "RMSE: 1.422  Adj. R2: 0.038  Adj. R2 Within: 0.038\n",
      "###\n",
      "\n",
      "Estimation:  OLS\n",
      "Dep. var.: Y, Fixed effects: f1\n",
      "Inference:  CRV3\n",
      "Observations:  997\n",
      "\n",
      "| Coefficient   |   Estimate |   Std. Error |   t value |   Pr(>|t|) |   2.5 % |   97.5 % |\n",
      "|:--------------|-----------:|-------------:|----------:|-----------:|--------:|---------:|\n",
      "| X1            |      0.362 |        0.072 |     5.032 |      0.000 |   0.211 |    0.513 |\n",
      "---\n",
      "RMSE: 1.422  Adj. R2: 0.038  Adj. R2 Within: 0.038\n"
     ]
    }
   ],
   "source": [
    "fit.vcov({\"CRV1\": \"group_id + f1\"}).summary()\n",
    "fit.vcov({\"CRV3\": \"group_id\"}).summary()"
   ]
  },
  {
   "cell_type": "markdown",
   "metadata": {},
   "source": [
    "It is also possible to run a wild (cluster) bootstrap after estimation (via the [wildboottest module](https://github.com/s3alfisc/wildboottest)):"
   ]
  },
  {
   "cell_type": "code",
   "execution_count": 76,
   "metadata": {},
   "outputs": [
    {
     "data": {
      "text/plain": [
       "param                            X1\n",
       "t value                    5.452993\n",
       "Pr(>|t|)                        0.0\n",
       "bootstrap_type                   11\n",
       "inference         CRV(['group_id'])\n",
       "impose_null                    True\n",
       "dtype: object"
      ]
     },
     "execution_count": 76,
     "metadata": {},
     "output_type": "execute_result"
    }
   ],
   "source": [
    "fit2 = feols(fml=\"Y~ X1\", data=data, vcov={\"CRV1\": \"group_id\"})\n",
    "fit2.wildboottest(param=\"X1\", B=999)"
   ]
  },
  {
   "cell_type": "markdown",
   "metadata": {},
   "source": [
    "Note that the wild bootstrap currently does not support fixed effects in the regression model. Supporting fixed effects is work in progress.\n",
    "\n",
    "## IV Estimation \n",
    "\n",
    "It is also possible to estimate instrumental variable models with *one* endogenous variable and (potentially multiple) instruments:"
   ]
  },
  {
   "cell_type": "code",
   "execution_count": 77,
   "metadata": {},
   "outputs": [
    {
     "name": "stdout",
     "output_type": "stream",
     "text": [
      "###\n",
      "\n",
      "Estimation:  IV\n",
      "Dep. var.: Y2, Fixed effects: f1+f2\n",
      "Inference:  CRV1\n",
      "Observations:  998\n",
      "\n",
      "| Coefficient   |   Estimate |   Std. Error |   t value |   Pr(>|t|) |   2.5 % |   97.5 % |\n",
      "|:--------------|-----------:|-------------:|----------:|-----------:|--------:|---------:|\n",
      "| X1            |      0.043 |        0.307 |     0.138 |      0.891 |  -0.586 |    0.671 |\n",
      "---\n"
     ]
    }
   ],
   "source": [
    "iv_fit = feols(fml=\"Y2~ 1 | f1 + f2 | X1 ~ Z1 + Z2\", data=data)\n",
    "iv_fit.summary()"
   ]
  },
  {
   "cell_type": "markdown",
   "metadata": {},
   "source": [
    "If the model does not contain any fixed effects, just drop the second part of the formula above:"
   ]
  },
  {
   "cell_type": "code",
   "execution_count": 78,
   "metadata": {},
   "outputs": [
    {
     "name": "stdout",
     "output_type": "stream",
     "text": [
      "###\n",
      "\n",
      "Estimation:  IV\n",
      "Dep. var.: Y\n",
      "Inference:  iid\n",
      "Observations:  998\n",
      "\n",
      "| Coefficient   |   Estimate |   Std. Error |   t value |   Pr(>|t|) |   2.5 % |   97.5 % |\n",
      "|:--------------|-----------:|-------------:|----------:|-----------:|--------:|---------:|\n",
      "| Intercept     |      2.282 |        0.120 |    19.031 |      0.000 |   2.047 |    2.518 |\n",
      "| X1            |      0.280 |        0.107 |     2.609 |      0.009 |   0.069 |    0.491 |\n",
      "---\n"
     ]
    }
   ],
   "source": [
    "feols(fml=\"Y~ 1 | X1 ~ Z1 + Z2\", data=data).summary()"
   ]
  },
  {
   "cell_type": "markdown",
   "metadata": {},
   "source": [
    "IV estimation with multiple endogenous variables and multiple estimation syntax is currently not supported. The syntax is \"depvar ~ exog.vars | fixef effects | endog.vars ~ instruments\"."
   ]
  },
  {
   "cell_type": "markdown",
   "metadata": {},
   "source": [
    "## Poisson Regression \n",
    "\n",
    "With version `0.8.4`, it is possible to estimate Poisson Regressions (not yet on PyPi): "
   ]
  },
  {
   "cell_type": "code",
   "execution_count": 79,
   "metadata": {},
   "outputs": [
    {
     "name": "stdout",
     "output_type": "stream",
     "text": [
      "###\n",
      "\n",
      "Estimation:  Poisson\n",
      "Dep. var.: Y, Fixed effects: f1+f2\n",
      "Inference:  CRV1\n",
      "Observations:  997\n",
      "\n",
      "| Coefficient   |   Estimate |   Std. Error |   t value |   Pr(>|t|) |   2.5 % |   97.5 % |\n",
      "|:--------------|-----------:|-------------:|----------:|-----------:|--------:|---------:|\n",
      "| X1            |     -0.000 |        0.033 |    -0.010 |      0.992 |  -0.066 |    0.065 |\n",
      "---\n",
      "Deviance: 1068.044\n"
     ]
    }
   ],
   "source": [
    "from pyfixest.utils import get_data\n",
    "\n",
    "pois_data = get_data(model=\"Fepois\")\n",
    "pois_fit = fepois(fml=\"Y~X1 | f1+f2\", data=pois_data, vcov={\"CRV1\": \"group_id\"})\n",
    "pois_fit.summary()"
   ]
  },
  {
   "cell_type": "markdown",
   "metadata": {},
   "source": [
    "## Multiple Estimation \n",
    "\n",
    "`PyFixest` supports a range of multiple estimation functionality: `sw`, `sw0`, `csw`, `csw0`, and multiple dependent variables. If multiple regression syntax is used, \n",
    "`feols()` and `fepois` returns an instance of a `FixestMulti` object, which essentially consists of a dicionary of `Fepois` or `Feols` instances."
   ]
  },
  {
   "cell_type": "code",
   "execution_count": 80,
   "metadata": {},
   "outputs": [
    {
     "data": {
      "text/plain": [
       "<pyfixest.FixestMulti.FixestMulti at 0x2650c75db10>"
      ]
     },
     "execution_count": 80,
     "metadata": {},
     "output_type": "execute_result"
    }
   ],
   "source": [
    "multi_fit = feols(fml=\"Y~X1 | csw0(f1, f2)\", data=data, vcov=\"HC1\")\n",
    "multi_fit"
   ]
  },
  {
   "cell_type": "code",
   "execution_count": 81,
   "metadata": {},
   "outputs": [
    {
     "name": "stdout",
     "output_type": "stream",
     "text": [
      "###\n",
      "\n",
      "Estimation:  OLS\n",
      "Dep. var.: Y\n",
      "Inference:  HC1\n",
      "Observations:  998\n",
      "\n",
      "| Coefficient   |   Estimate |   Std. Error |   t value |   Pr(>|t|) |   2.5 % |   97.5 % |\n",
      "|:--------------|-----------:|-------------:|----------:|-----------:|--------:|---------:|\n",
      "| Intercept     |      2.231 |        0.091 |    24.542 |      0.000 |   2.052 |    2.409 |\n",
      "| X1            |      0.333 |        0.070 |     4.745 |      0.000 |   0.195 |    0.471 |\n",
      "---\n",
      "RMSE: 1.765  Adj. R2: 0.021  Adj. R2 Within: 0.021\n",
      "###\n",
      "\n",
      "Estimation:  OLS\n",
      "Dep. var.: Y, Fixed effects: f1\n",
      "Inference:  HC1\n",
      "Observations:  997\n",
      "\n",
      "| Coefficient   |   Estimate |   Std. Error |   t value |   Pr(>|t|) |   2.5 % |   97.5 % |\n",
      "|:--------------|-----------:|-------------:|----------:|-----------:|--------:|---------:|\n",
      "| X1            |      0.362 |        0.057 |     6.321 |      0.000 |   0.249 |    0.474 |\n",
      "---\n",
      "RMSE: 1.422  Adj. R2: 0.038  Adj. R2 Within: 0.038\n",
      "###\n",
      "\n",
      "Estimation:  OLS\n",
      "Dep. var.: Y, Fixed effects: f1+f2\n",
      "Inference:  HC1\n",
      "Observations:  997\n",
      "\n",
      "| Coefficient   |   Estimate |   Std. Error |   t value |   Pr(>|t|) |   2.5 % |   97.5 % |\n",
      "|:--------------|-----------:|-------------:|----------:|-----------:|--------:|---------:|\n",
      "| X1            |      0.351 |        0.049 |     7.102 |      0.000 |   0.254 |    0.448 |\n",
      "---\n",
      "RMSE: 1.201  Adj. R2: 0.049  Adj. R2 Within: 0.049\n"
     ]
    }
   ],
   "source": [
    "multi_fit.summary()"
   ]
  },
  {
   "cell_type": "markdown",
   "metadata": {},
   "source": [
    "Alternatively, you can look at the estimation results via the `etable()` method:"
   ]
  },
  {
   "cell_type": "code",
   "execution_count": 82,
   "metadata": {},
   "outputs": [
    {
     "data": {
      "text/html": [
       "<div>\n",
       "<style scoped>\n",
       "    .dataframe tbody tr th:only-of-type {\n",
       "        vertical-align: middle;\n",
       "    }\n",
       "\n",
       "    .dataframe tbody tr th {\n",
       "        vertical-align: top;\n",
       "    }\n",
       "\n",
       "    .dataframe thead tr th {\n",
       "        text-align: left;\n",
       "    }\n",
       "</style>\n",
       "<table border=\"1\" class=\"dataframe\">\n",
       "  <thead>\n",
       "    <tr>\n",
       "      <th>fml</th>\n",
       "      <th colspan=\"2\" halign=\"left\">Y~X1</th>\n",
       "      <th>Y~X1|f1</th>\n",
       "      <th>Y~X1|f1+f2</th>\n",
       "    </tr>\n",
       "    <tr>\n",
       "      <th>Coefficient</th>\n",
       "      <th>Intercept</th>\n",
       "      <th>X1</th>\n",
       "      <th>X1</th>\n",
       "      <th>X1</th>\n",
       "    </tr>\n",
       "  </thead>\n",
       "  <tbody>\n",
       "    <tr>\n",
       "      <th>Estimate</th>\n",
       "      <td>2.231</td>\n",
       "      <td>0.333</td>\n",
       "      <td>0.362</td>\n",
       "      <td>0.351</td>\n",
       "    </tr>\n",
       "    <tr>\n",
       "      <th>Std. Error</th>\n",
       "      <td>0.091</td>\n",
       "      <td>0.070</td>\n",
       "      <td>0.057</td>\n",
       "      <td>0.049</td>\n",
       "    </tr>\n",
       "    <tr>\n",
       "      <th>t value</th>\n",
       "      <td>24.542</td>\n",
       "      <td>4.745</td>\n",
       "      <td>6.321</td>\n",
       "      <td>7.102</td>\n",
       "    </tr>\n",
       "    <tr>\n",
       "      <th>Pr(&gt;|t|)</th>\n",
       "      <td>0.000</td>\n",
       "      <td>0.000</td>\n",
       "      <td>0.000</td>\n",
       "      <td>0.000</td>\n",
       "    </tr>\n",
       "    <tr>\n",
       "      <th>2.5 %</th>\n",
       "      <td>2.052</td>\n",
       "      <td>0.195</td>\n",
       "      <td>0.249</td>\n",
       "      <td>0.254</td>\n",
       "    </tr>\n",
       "    <tr>\n",
       "      <th>97.5 %</th>\n",
       "      <td>2.409</td>\n",
       "      <td>0.471</td>\n",
       "      <td>0.474</td>\n",
       "      <td>0.448</td>\n",
       "    </tr>\n",
       "  </tbody>\n",
       "</table>\n",
       "</div>"
      ],
      "text/plain": [
       "fml              Y~X1        Y~X1|f1 Y~X1|f1+f2\n",
       "Coefficient Intercept     X1      X1         X1\n",
       "Estimate        2.231  0.333   0.362      0.351\n",
       "Std. Error      0.091  0.070   0.057      0.049\n",
       "t value        24.542  4.745   6.321      7.102\n",
       "Pr(>|t|)        0.000  0.000   0.000      0.000\n",
       "2.5 %           2.052  0.195   0.249      0.254\n",
       "97.5 %          2.409  0.471   0.474      0.448"
      ]
     },
     "execution_count": 82,
     "metadata": {},
     "output_type": "execute_result"
    }
   ],
   "source": [
    "multi_fit.etable()"
   ]
  },
  {
   "cell_type": "markdown",
   "metadata": {},
   "source": [
    "If you are only insterested in some parameters, e.g. \"X1\", you can use the following syntax:"
   ]
  },
  {
   "cell_type": "code",
   "execution_count": 83,
   "metadata": {},
   "outputs": [
    {
     "data": {
      "text/html": [
       "<div>\n",
       "<style scoped>\n",
       "    .dataframe tbody tr th:only-of-type {\n",
       "        vertical-align: middle;\n",
       "    }\n",
       "\n",
       "    .dataframe tbody tr th {\n",
       "        vertical-align: top;\n",
       "    }\n",
       "\n",
       "    .dataframe thead th {\n",
       "        text-align: right;\n",
       "    }\n",
       "</style>\n",
       "<table border=\"1\" class=\"dataframe\">\n",
       "  <thead>\n",
       "    <tr style=\"text-align: right;\">\n",
       "      <th>fml</th>\n",
       "      <th>Y~X1</th>\n",
       "      <th>Y~X1|f1</th>\n",
       "      <th>Y~X1|f1+f2</th>\n",
       "    </tr>\n",
       "  </thead>\n",
       "  <tbody>\n",
       "    <tr>\n",
       "      <th>Estimate</th>\n",
       "      <td>0.333</td>\n",
       "      <td>0.362</td>\n",
       "      <td>0.351</td>\n",
       "    </tr>\n",
       "    <tr>\n",
       "      <th>Std. Error</th>\n",
       "      <td>0.070</td>\n",
       "      <td>0.057</td>\n",
       "      <td>0.049</td>\n",
       "    </tr>\n",
       "    <tr>\n",
       "      <th>t value</th>\n",
       "      <td>4.745</td>\n",
       "      <td>6.321</td>\n",
       "      <td>7.102</td>\n",
       "    </tr>\n",
       "    <tr>\n",
       "      <th>Pr(&gt;|t|)</th>\n",
       "      <td>0.000</td>\n",
       "      <td>0.000</td>\n",
       "      <td>0.000</td>\n",
       "    </tr>\n",
       "    <tr>\n",
       "      <th>2.5 %</th>\n",
       "      <td>0.195</td>\n",
       "      <td>0.249</td>\n",
       "      <td>0.254</td>\n",
       "    </tr>\n",
       "    <tr>\n",
       "      <th>97.5 %</th>\n",
       "      <td>0.471</td>\n",
       "      <td>0.474</td>\n",
       "      <td>0.448</td>\n",
       "    </tr>\n",
       "  </tbody>\n",
       "</table>\n",
       "</div>"
      ],
      "text/plain": [
       "fml          Y~X1  Y~X1|f1  Y~X1|f1+f2\n",
       "Estimate    0.333    0.362       0.351\n",
       "Std. Error  0.070    0.057       0.049\n",
       "t value     4.745    6.321       7.102\n",
       "Pr(>|t|)    0.000    0.000       0.000\n",
       "2.5 %       0.195    0.249       0.254\n",
       "97.5 %      0.471    0.474       0.448"
      ]
     },
     "execution_count": 83,
     "metadata": {},
     "output_type": "execute_result"
    }
   ],
   "source": [
    "multi_fit.etable().xs(\"X1\", level=1, axis=1)"
   ]
  },
  {
   "cell_type": "markdown",
   "metadata": {},
   "source": [
    "You can access an individual model by its name - i.e. a formula - via the `all_fitted_models` attribure."
   ]
  },
  {
   "cell_type": "code",
   "execution_count": 84,
   "metadata": {},
   "outputs": [
    {
     "data": {
      "text/html": [
       "<div>\n",
       "<style scoped>\n",
       "    .dataframe tbody tr th:only-of-type {\n",
       "        vertical-align: middle;\n",
       "    }\n",
       "\n",
       "    .dataframe tbody tr th {\n",
       "        vertical-align: top;\n",
       "    }\n",
       "\n",
       "    .dataframe thead th {\n",
       "        text-align: right;\n",
       "    }\n",
       "</style>\n",
       "<table border=\"1\" class=\"dataframe\">\n",
       "  <thead>\n",
       "    <tr style=\"text-align: right;\">\n",
       "      <th></th>\n",
       "      <th>Estimate</th>\n",
       "      <th>Std. Error</th>\n",
       "      <th>t value</th>\n",
       "      <th>Pr(&gt;|t|)</th>\n",
       "      <th>2.5 %</th>\n",
       "      <th>97.5 %</th>\n",
       "    </tr>\n",
       "    <tr>\n",
       "      <th>Coefficient</th>\n",
       "      <th></th>\n",
       "      <th></th>\n",
       "      <th></th>\n",
       "      <th></th>\n",
       "      <th></th>\n",
       "      <th></th>\n",
       "    </tr>\n",
       "  </thead>\n",
       "  <tbody>\n",
       "    <tr>\n",
       "      <th>Intercept</th>\n",
       "      <td>2.230613</td>\n",
       "      <td>0.090888</td>\n",
       "      <td>24.542465</td>\n",
       "      <td>0.000000</td>\n",
       "      <td>2.052259</td>\n",
       "      <td>2.408967</td>\n",
       "    </tr>\n",
       "    <tr>\n",
       "      <th>X1</th>\n",
       "      <td>0.332869</td>\n",
       "      <td>0.070151</td>\n",
       "      <td>4.745052</td>\n",
       "      <td>0.000002</td>\n",
       "      <td>0.195209</td>\n",
       "      <td>0.470529</td>\n",
       "    </tr>\n",
       "  </tbody>\n",
       "</table>\n",
       "</div>"
      ],
      "text/plain": [
       "             Estimate  Std. Error    t value  Pr(>|t|)     2.5 %    97.5 %\n",
       "Coefficient                                                               \n",
       "Intercept    2.230613    0.090888  24.542465  0.000000  2.052259  2.408967\n",
       "X1           0.332869    0.070151   4.745052  0.000002  0.195209  0.470529"
      ]
     },
     "execution_count": 84,
     "metadata": {},
     "output_type": "execute_result"
    }
   ],
   "source": [
    "multi_fit.all_fitted_models[\"Y~X1\"].tidy()"
   ]
  },
  {
   "cell_type": "markdown",
   "metadata": {},
   "source": [
    "or equivalently via the `fetch_model` method:"
   ]
  },
  {
   "cell_type": "code",
   "execution_count": 85,
   "metadata": {},
   "outputs": [
    {
     "name": "stdout",
     "output_type": "stream",
     "text": [
      "Model:  Y~X1\n"
     ]
    },
    {
     "data": {
      "text/html": [
       "<div>\n",
       "<style scoped>\n",
       "    .dataframe tbody tr th:only-of-type {\n",
       "        vertical-align: middle;\n",
       "    }\n",
       "\n",
       "    .dataframe tbody tr th {\n",
       "        vertical-align: top;\n",
       "    }\n",
       "\n",
       "    .dataframe thead th {\n",
       "        text-align: right;\n",
       "    }\n",
       "</style>\n",
       "<table border=\"1\" class=\"dataframe\">\n",
       "  <thead>\n",
       "    <tr style=\"text-align: right;\">\n",
       "      <th></th>\n",
       "      <th>Estimate</th>\n",
       "      <th>Std. Error</th>\n",
       "      <th>t value</th>\n",
       "      <th>Pr(&gt;|t|)</th>\n",
       "      <th>2.5 %</th>\n",
       "      <th>97.5 %</th>\n",
       "    </tr>\n",
       "    <tr>\n",
       "      <th>Coefficient</th>\n",
       "      <th></th>\n",
       "      <th></th>\n",
       "      <th></th>\n",
       "      <th></th>\n",
       "      <th></th>\n",
       "      <th></th>\n",
       "    </tr>\n",
       "  </thead>\n",
       "  <tbody>\n",
       "    <tr>\n",
       "      <th>Intercept</th>\n",
       "      <td>2.230613</td>\n",
       "      <td>0.090888</td>\n",
       "      <td>24.542465</td>\n",
       "      <td>0.000000</td>\n",
       "      <td>2.052259</td>\n",
       "      <td>2.408967</td>\n",
       "    </tr>\n",
       "    <tr>\n",
       "      <th>X1</th>\n",
       "      <td>0.332869</td>\n",
       "      <td>0.070151</td>\n",
       "      <td>4.745052</td>\n",
       "      <td>0.000002</td>\n",
       "      <td>0.195209</td>\n",
       "      <td>0.470529</td>\n",
       "    </tr>\n",
       "  </tbody>\n",
       "</table>\n",
       "</div>"
      ],
      "text/plain": [
       "             Estimate  Std. Error    t value  Pr(>|t|)     2.5 %    97.5 %\n",
       "Coefficient                                                               \n",
       "Intercept    2.230613    0.090888  24.542465  0.000000  2.052259  2.408967\n",
       "X1           0.332869    0.070151   4.745052  0.000002  0.195209  0.470529"
      ]
     },
     "execution_count": 85,
     "metadata": {},
     "output_type": "execute_result"
    }
   ],
   "source": [
    "multi_fit.fetch_model(0).tidy()"
   ]
  },
  {
   "cell_type": "markdown",
   "metadata": {},
   "source": [
    "Here, `0` simply fetches the first model stored in the `all_fitted_models` dictionary, `1` the second etc."
   ]
  },
  {
   "cell_type": "markdown",
   "metadata": {},
   "source": [
    "Objects of type `Fixest` come with a range of additional methods: `tidy()`, `coef()`, `vcov()` etc, which \n",
    "essentially loop over the equivalent methods of all fitted models. E.g. `Fixest.vcov()` updates inference for all \n",
    "models stored in `Fixest`."
   ]
  },
  {
   "cell_type": "code",
   "execution_count": 86,
   "metadata": {},
   "outputs": [
    {
     "name": "stdout",
     "output_type": "stream",
     "text": [
      "###\n",
      "\n",
      "Estimation:  OLS\n",
      "Dep. var.: Y\n",
      "Inference:  iid\n",
      "Observations:  998\n",
      "\n",
      "| Coefficient   |   Estimate |   Std. Error |   t value |   Pr(>|t|) |   2.5 % |   97.5 % |\n",
      "|:--------------|-----------:|-------------:|----------:|-----------:|--------:|---------:|\n",
      "| Intercept     |      2.231 |        0.088 |    25.261 |      0.000 |   2.057 |    2.404 |\n",
      "| X1            |      0.333 |        0.069 |     4.807 |      0.000 |   0.197 |    0.469 |\n",
      "---\n",
      "RMSE: 1.765  Adj. R2: 0.021  Adj. R2 Within: 0.021\n",
      "###\n",
      "\n",
      "Estimation:  OLS\n",
      "Dep. var.: Y, Fixed effects: f1\n",
      "Inference:  iid\n",
      "Observations:  997\n",
      "\n",
      "| Coefficient   |   Estimate |   Std. Error |   t value |   Pr(>|t|) |   2.5 % |   97.5 % |\n",
      "|:--------------|-----------:|-------------:|----------:|-----------:|--------:|---------:|\n",
      "| X1            |      0.362 |        0.057 |     6.369 |      0.000 |   0.250 |    0.473 |\n",
      "---\n",
      "RMSE: 1.422  Adj. R2: 0.038  Adj. R2 Within: 0.038\n",
      "###\n",
      "\n",
      "Estimation:  OLS\n",
      "Dep. var.: Y, Fixed effects: f1+f2\n",
      "Inference:  iid\n",
      "Observations:  997\n",
      "\n",
      "| Coefficient   |   Estimate |   Std. Error |   t value |   Pr(>|t|) |   2.5 % |   97.5 % |\n",
      "|:--------------|-----------:|-------------:|----------:|-----------:|--------:|---------:|\n",
      "| X1            |      0.351 |        0.049 |     7.235 |      0.000 |   0.256 |    0.446 |\n",
      "---\n",
      "RMSE: 1.201  Adj. R2: 0.049  Adj. R2 Within: 0.049\n"
     ]
    }
   ],
   "source": [
    "multi_fit.vcov(\"iid\").summary()"
   ]
  },
  {
   "cell_type": "markdown",
   "metadata": {},
   "source": [
    "If you have estimated multiple models without multiple estimation syntax and still want to compare them, you can use the `etable()` function: "
   ]
  },
  {
   "cell_type": "code",
   "execution_count": 87,
   "metadata": {},
   "outputs": [
    {
     "name": "stdout",
     "output_type": "stream",
     "text": [
      "| Coefficient   | est1             | est2             |\n",
      "|:--------------|:-----------------|:-----------------|\n",
      "| X1            | 0.362*** (0.072) | 0.333*** (0.061) |\n",
      "| Intercept     |                  | 2.231*** (0.079) |\n",
      "Significance levels: * p < 0.05, ** p < 0.01, *** p < 0.001\n"
     ]
    }
   ],
   "source": [
    "from pyfixest.summarize import etable\n",
    "\n",
    "etable([fit, fit2])"
   ]
  },
  {
   "cell_type": "markdown",
   "metadata": {},
   "source": [
    "## Visualization \n",
    "\n",
    "`PyFixest` provides two functions to visualize the results of a regression: `coefplot` and `iplot`."
   ]
  },
  {
   "cell_type": "code",
   "execution_count": 88,
   "metadata": {},
   "outputs": [
    {
     "data": {
      "text/html": [
       "\n",
       "            <div id=\"ndrGur\"></div>\n",
       "            <script type=\"text/javascript\" data-lets-plot-script=\"library\">\n",
       "                if(!window.letsPlotCallQueue) {\n",
       "                    window.letsPlotCallQueue = [];\n",
       "                }; \n",
       "                window.letsPlotCall = function(f) {\n",
       "                    window.letsPlotCallQueue.push(f);\n",
       "                };\n",
       "                (function() {\n",
       "                    var script = document.createElement(\"script\");\n",
       "                    script.type = \"text/javascript\";\n",
       "                    script.src = \"https://cdn.jsdelivr.net/gh/JetBrains/lets-plot@v4.0.1/js-package/distr/lets-plot.min.js\";\n",
       "                    script.onload = function() {\n",
       "                        window.letsPlotCall = function(f) {f();};\n",
       "                        window.letsPlotCallQueue.forEach(function(f) {f();});\n",
       "                        window.letsPlotCallQueue = [];\n",
       "                        \n",
       "                    };\n",
       "                    script.onerror = function(event) {\n",
       "                        window.letsPlotCall = function(f) {};    // noop\n",
       "                        window.letsPlotCallQueue = [];\n",
       "                        var div = document.createElement(\"div\");\n",
       "                        div.style.color = 'darkred';\n",
       "                        div.textContent = 'Error loading Lets-Plot JS';\n",
       "                        document.getElementById(\"ndrGur\").appendChild(div);\n",
       "                    };\n",
       "                    var e = document.getElementById(\"ndrGur\");\n",
       "                    e.appendChild(script);\n",
       "                })()\n",
       "            </script>\n",
       "            "
      ]
     },
     "metadata": {},
     "output_type": "display_data"
    },
    {
     "data": {
      "text/html": [
       "   <div id=\"25ZfhU\"></div>\n",
       "   <script type=\"text/javascript\" data-lets-plot-script=\"plot\">\n",
       "       (function() {\n",
       "           var plotSpec={\n",
       "\"data\":{\n",
       "\"Model\":[\"Y~X1\",\"Y~X1\",\"Y~X1|f1\",\"Y~X1|f1+f2\"],\n",
       "\"Coefficient\":[\"Intercept\",\"X1\",\"X1\",\"X1\"],\n",
       "\"Estimate\":[2.2306130334701564,0.33286862011449464,0.36164218935043657,0.35122626369652554],\n",
       "\"2.5 %\":[2.0573325636277318,0.196988592147843,0.2502249605221692,0.2559655999962873],\n",
       "\"97.5 %\":[2.403893503312581,0.46874864808114625,0.47305941817870395,0.44648692739676377]\n",
       "},\n",
       "\"mapping\":{\n",
       "\"x\":\"Coefficient\",\n",
       "\"y\":\"Estimate\",\n",
       "\"color\":\"Model\"\n",
       "},\n",
       "\"data_meta\":{\n",
       "},\n",
       "\"coord\":{\n",
       "\"name\":\"flip\",\n",
       "\"flip\":true\n",
       "},\n",
       "\"ggsize\":{\n",
       "\"width\":500.0,\n",
       "\"height\":300.0\n",
       "},\n",
       "\"theme\":{\n",
       "\"axis_text_x\":{\n",
       "\"angle\":0.0,\n",
       "\"blank\":false\n",
       "}\n",
       "},\n",
       "\"kind\":\"plot\",\n",
       "\"scales\":[{\n",
       "\"name\":\"Estimate and 95% Confidence Interval\",\n",
       "\"aesthetic\":\"y\"\n",
       "}],\n",
       "\"layers\":[{\n",
       "\"geom\":\"point\",\n",
       "\"mapping\":{\n",
       "},\n",
       "\"position\":{\n",
       "\"name\":\"dodge\",\n",
       "\"width\":0.5\n",
       "},\n",
       "\"data_meta\":{\n",
       "},\n",
       "\"data\":{\n",
       "}\n",
       "},{\n",
       "\"geom\":\"errorbar\",\n",
       "\"mapping\":{\n",
       "\"ymin\":\"2.5 %\",\n",
       "\"ymax\":\"97.5 %\"\n",
       "},\n",
       "\"position\":{\n",
       "\"name\":\"dodge\",\n",
       "\"width\":0.5\n",
       "},\n",
       "\"data_meta\":{\n",
       "},\n",
       "\"width\":0.05,\n",
       "\"data\":{\n",
       "}\n",
       "},{\n",
       "\"geom\":\"hline\",\n",
       "\"mapping\":{\n",
       "},\n",
       "\"data_meta\":{\n",
       "},\n",
       "\"yintercept\":0.0,\n",
       "\"linetype\":\"dashed\",\n",
       "\"color\":\"red\",\n",
       "\"data\":{\n",
       "}\n",
       "}],\n",
       "\"metainfo_list\":[]\n",
       "};\n",
       "           var plotContainer = document.getElementById(\"25ZfhU\");\n",
       "           window.letsPlotCall(function() {{\n",
       "               LetsPlot.buildPlotFromProcessedSpecs(plotSpec, -1, -1, plotContainer);\n",
       "           }});\n",
       "       })();    \n",
       "   </script>"
      ]
     },
     "metadata": {},
     "output_type": "display_data"
    }
   ],
   "source": [
    "from lets_plot import *\n",
    "\n",
    "LetsPlot.setup_html()\n",
    "\n",
    "multi_fit.coefplot().show()"
   ]
  },
  {
   "cell_type": "markdown",
   "metadata": {},
   "source": [
    "## Difference-in-Differences / Event Study Designs\n",
    "\n",
    "`PyFixest` supports eventy study designs via two-way fixed effects and Gardner's 2-stage estimator. "
   ]
  },
  {
   "cell_type": "code",
   "execution_count": 89,
   "metadata": {},
   "outputs": [
    {
     "data": {
      "text/html": [
       "<div>\n",
       "<style scoped>\n",
       "    .dataframe tbody tr th:only-of-type {\n",
       "        vertical-align: middle;\n",
       "    }\n",
       "\n",
       "    .dataframe tbody tr th {\n",
       "        vertical-align: top;\n",
       "    }\n",
       "\n",
       "    .dataframe thead th {\n",
       "        text-align: right;\n",
       "    }\n",
       "</style>\n",
       "<table border=\"1\" class=\"dataframe\">\n",
       "  <thead>\n",
       "    <tr style=\"text-align: right;\">\n",
       "      <th></th>\n",
       "      <th>unit</th>\n",
       "      <th>state</th>\n",
       "      <th>group</th>\n",
       "      <th>unit_fe</th>\n",
       "      <th>g</th>\n",
       "      <th>year</th>\n",
       "      <th>year_fe</th>\n",
       "      <th>treat</th>\n",
       "      <th>rel_year</th>\n",
       "      <th>rel_year_binned</th>\n",
       "      <th>error</th>\n",
       "      <th>te</th>\n",
       "      <th>te_dynamic</th>\n",
       "      <th>dep_var</th>\n",
       "    </tr>\n",
       "  </thead>\n",
       "  <tbody>\n",
       "    <tr>\n",
       "      <th>0</th>\n",
       "      <td>1</td>\n",
       "      <td>33</td>\n",
       "      <td>Group 2</td>\n",
       "      <td>7.043016</td>\n",
       "      <td>2010</td>\n",
       "      <td>1990</td>\n",
       "      <td>0.066159</td>\n",
       "      <td>False</td>\n",
       "      <td>-20.0</td>\n",
       "      <td>-6</td>\n",
       "      <td>-0.086466</td>\n",
       "      <td>0</td>\n",
       "      <td>0.0</td>\n",
       "      <td>7.022709</td>\n",
       "    </tr>\n",
       "    <tr>\n",
       "      <th>1</th>\n",
       "      <td>1</td>\n",
       "      <td>33</td>\n",
       "      <td>Group 2</td>\n",
       "      <td>7.043016</td>\n",
       "      <td>2010</td>\n",
       "      <td>1991</td>\n",
       "      <td>-0.030980</td>\n",
       "      <td>False</td>\n",
       "      <td>-19.0</td>\n",
       "      <td>-6</td>\n",
       "      <td>0.766593</td>\n",
       "      <td>0</td>\n",
       "      <td>0.0</td>\n",
       "      <td>7.778628</td>\n",
       "    </tr>\n",
       "    <tr>\n",
       "      <th>2</th>\n",
       "      <td>1</td>\n",
       "      <td>33</td>\n",
       "      <td>Group 2</td>\n",
       "      <td>7.043016</td>\n",
       "      <td>2010</td>\n",
       "      <td>1992</td>\n",
       "      <td>-0.119607</td>\n",
       "      <td>False</td>\n",
       "      <td>-18.0</td>\n",
       "      <td>-6</td>\n",
       "      <td>1.512968</td>\n",
       "      <td>0</td>\n",
       "      <td>0.0</td>\n",
       "      <td>8.436377</td>\n",
       "    </tr>\n",
       "    <tr>\n",
       "      <th>3</th>\n",
       "      <td>1</td>\n",
       "      <td>33</td>\n",
       "      <td>Group 2</td>\n",
       "      <td>7.043016</td>\n",
       "      <td>2010</td>\n",
       "      <td>1993</td>\n",
       "      <td>0.126321</td>\n",
       "      <td>False</td>\n",
       "      <td>-17.0</td>\n",
       "      <td>-6</td>\n",
       "      <td>0.021870</td>\n",
       "      <td>0</td>\n",
       "      <td>0.0</td>\n",
       "      <td>7.191207</td>\n",
       "    </tr>\n",
       "    <tr>\n",
       "      <th>4</th>\n",
       "      <td>1</td>\n",
       "      <td>33</td>\n",
       "      <td>Group 2</td>\n",
       "      <td>7.043016</td>\n",
       "      <td>2010</td>\n",
       "      <td>1994</td>\n",
       "      <td>-0.106921</td>\n",
       "      <td>False</td>\n",
       "      <td>-16.0</td>\n",
       "      <td>-6</td>\n",
       "      <td>-0.017603</td>\n",
       "      <td>0</td>\n",
       "      <td>0.0</td>\n",
       "      <td>6.918492</td>\n",
       "    </tr>\n",
       "  </tbody>\n",
       "</table>\n",
       "</div>"
      ],
      "text/plain": [
       "   unit  state    group   unit_fe     g  year   year_fe  treat  rel_year  \\\n",
       "0     1     33  Group 2  7.043016  2010  1990  0.066159  False     -20.0   \n",
       "1     1     33  Group 2  7.043016  2010  1991 -0.030980  False     -19.0   \n",
       "2     1     33  Group 2  7.043016  2010  1992 -0.119607  False     -18.0   \n",
       "3     1     33  Group 2  7.043016  2010  1993  0.126321  False     -17.0   \n",
       "4     1     33  Group 2  7.043016  2010  1994 -0.106921  False     -16.0   \n",
       "\n",
       "   rel_year_binned     error  te  te_dynamic   dep_var  \n",
       "0               -6 -0.086466   0         0.0  7.022709  \n",
       "1               -6  0.766593   0         0.0  7.778628  \n",
       "2               -6  1.512968   0         0.0  8.436377  \n",
       "3               -6  0.021870   0         0.0  7.191207  \n",
       "4               -6 -0.017603   0         0.0  6.918492  "
      ]
     },
     "execution_count": 89,
     "metadata": {},
     "output_type": "execute_result"
    }
   ],
   "source": [
    "import pandas as pd\n",
    "import numpy as np\n",
    "from pyfixest.experimental.did import did2s\n",
    "\n",
    "file_path = \"../pyfixest/experimental/data/df_het.csv\"\n",
    "df_het = pd.read_csv(file_path)\n",
    "df_het.head()"
   ]
  },
  {
   "cell_type": "code",
   "execution_count": 90,
   "metadata": {},
   "outputs": [
    {
     "name": "stderr",
     "output_type": "stream",
     "text": [
      "c:\\Users\\alexa\\AppData\\Local\\Programs\\Python\\Python310\\lib\\site-packages\\pyfixest\\model_matrix_fixest.py:383: UserWarning: i_ref1 is not used because i() syntax is not used.\n",
      "  warnings.warn(f\"i_ref1 is not used because i() syntax is not used.\")\n",
      "c:\\Users\\alexa\\AppData\\Local\\Programs\\Python\\Python310\\lib\\site-packages\\scipy\\sparse\\linalg\\_dsolve\\linsolve.py:394: SparseEfficiencyWarning: splu converted its input to CSC format\n",
      "  warn('splu converted its input to CSC format', SparseEfficiencyWarning)\n",
      "c:\\Users\\alexa\\AppData\\Local\\Programs\\Python\\Python310\\lib\\site-packages\\scipy\\sparse\\linalg\\_dsolve\\linsolve.py:285: SparseEfficiencyWarning: spsolve is more efficient when sparse b is in the CSC matrix format\n",
      "  warn('spsolve is more efficient when sparse b '\n"
     ]
    },
    {
     "data": {
      "text/html": [
       "   <div id=\"d5jeWU\"></div>\n",
       "   <script type=\"text/javascript\" data-lets-plot-script=\"plot\">\n",
       "       (function() {\n",
       "           var plotSpec={\n",
       "\"data\":{\n",
       "\"Model\":[\"dep_var_hat~i(rel_year)+0\",\"dep_var_hat~i(rel_year)+0\",\"dep_var_hat~i(rel_year)+0\",\"dep_var_hat~i(rel_year)+0\",\"dep_var_hat~i(rel_year)+0\",\"dep_var_hat~i(rel_year)+0\",\"dep_var_hat~i(rel_year)+0\",\"dep_var_hat~i(rel_year)+0\",\"dep_var_hat~i(rel_year)+0\",\"dep_var_hat~i(rel_year)+0\",\"dep_var_hat~i(rel_year)+0\",\"dep_var_hat~i(rel_year)+0\",\"dep_var_hat~i(rel_year)+0\",\"dep_var_hat~i(rel_year)+0\",\"dep_var_hat~i(rel_year)+0\",\"dep_var_hat~i(rel_year)+0\",\"dep_var_hat~i(rel_year)+0\",\"dep_var_hat~i(rel_year)+0\",\"dep_var_hat~i(rel_year)+0\",\"dep_var_hat~i(rel_year)+0\",\"dep_var_hat~i(rel_year)+0\",\"dep_var_hat~i(rel_year)+0\",\"dep_var_hat~i(rel_year)+0\",\"dep_var_hat~i(rel_year)+0\",\"dep_var_hat~i(rel_year)+0\",\"dep_var_hat~i(rel_year)+0\",\"dep_var_hat~i(rel_year)+0\",\"dep_var_hat~i(rel_year)+0\",\"dep_var_hat~i(rel_year)+0\",\"dep_var_hat~i(rel_year)+0\",\"dep_var_hat~i(rel_year)+0\",\"dep_var_hat~i(rel_year)+0\",\"dep_var_hat~i(rel_year)+0\",\"dep_var_hat~i(rel_year)+0\",\"dep_var_hat~i(rel_year)+0\",\"dep_var_hat~i(rel_year)+0\",\"dep_var_hat~i(rel_year)+0\",\"dep_var_hat~i(rel_year)+0\",\"dep_var_hat~i(rel_year)+0\",\"dep_var_hat~i(rel_year)+0\",\"dep_var~i(rel_year)|state+year\",\"dep_var~i(rel_year)|state+year\",\"dep_var~i(rel_year)|state+year\",\"dep_var~i(rel_year)|state+year\",\"dep_var~i(rel_year)|state+year\",\"dep_var~i(rel_year)|state+year\",\"dep_var~i(rel_year)|state+year\",\"dep_var~i(rel_year)|state+year\",\"dep_var~i(rel_year)|state+year\",\"dep_var~i(rel_year)|state+year\",\"dep_var~i(rel_year)|state+year\",\"dep_var~i(rel_year)|state+year\",\"dep_var~i(rel_year)|state+year\",\"dep_var~i(rel_year)|state+year\",\"dep_var~i(rel_year)|state+year\",\"dep_var~i(rel_year)|state+year\",\"dep_var~i(rel_year)|state+year\",\"dep_var~i(rel_year)|state+year\",\"dep_var~i(rel_year)|state+year\",\"dep_var~i(rel_year)|state+year\",\"dep_var~i(rel_year)|state+year\",\"dep_var~i(rel_year)|state+year\",\"dep_var~i(rel_year)|state+year\",\"dep_var~i(rel_year)|state+year\",\"dep_var~i(rel_year)|state+year\",\"dep_var~i(rel_year)|state+year\",\"dep_var~i(rel_year)|state+year\",\"dep_var~i(rel_year)|state+year\",\"dep_var~i(rel_year)|state+year\",\"dep_var~i(rel_year)|state+year\",\"dep_var~i(rel_year)|state+year\",\"dep_var~i(rel_year)|state+year\",\"dep_var~i(rel_year)|state+year\",\"dep_var~i(rel_year)|state+year\",\"dep_var~i(rel_year)|state+year\",\"dep_var~i(rel_year)|state+year\",\"dep_var~i(rel_year)|state+year\",\"dep_var~i(rel_year)|state+year\",\"dep_var~i(rel_year)|state+year\"],\n",
       "\"Coefficient\":[\"C(rel_year)[T.-20.0]\",\"C(rel_year)[T.-19.0]\",\"C(rel_year)[T.-18.0]\",\"C(rel_year)[T.-17.0]\",\"C(rel_year)[T.-16.0]\",\"C(rel_year)[T.-15.0]\",\"C(rel_year)[T.-14.0]\",\"C(rel_year)[T.-13.0]\",\"C(rel_year)[T.-12.0]\",\"C(rel_year)[T.-11.0]\",\"C(rel_year)[T.-10.0]\",\"C(rel_year)[T.-9.0]\",\"C(rel_year)[T.-8.0]\",\"C(rel_year)[T.-7.0]\",\"C(rel_year)[T.-6.0]\",\"C(rel_year)[T.-5.0]\",\"C(rel_year)[T.-4.0]\",\"C(rel_year)[T.-3.0]\",\"C(rel_year)[T.-2.0]\",\"C(rel_year)[T.0.0]\",\"C(rel_year)[T.1.0]\",\"C(rel_year)[T.2.0]\",\"C(rel_year)[T.3.0]\",\"C(rel_year)[T.4.0]\",\"C(rel_year)[T.5.0]\",\"C(rel_year)[T.6.0]\",\"C(rel_year)[T.7.0]\",\"C(rel_year)[T.8.0]\",\"C(rel_year)[T.9.0]\",\"C(rel_year)[T.10.0]\",\"C(rel_year)[T.11.0]\",\"C(rel_year)[T.12.0]\",\"C(rel_year)[T.13.0]\",\"C(rel_year)[T.14.0]\",\"C(rel_year)[T.15.0]\",\"C(rel_year)[T.16.0]\",\"C(rel_year)[T.17.0]\",\"C(rel_year)[T.18.0]\",\"C(rel_year)[T.19.0]\",\"C(rel_year)[T.20.0]\",\"C(rel_year)[T.-19.0]\",\"C(rel_year)[T.-18.0]\",\"C(rel_year)[T.-17.0]\",\"C(rel_year)[T.-16.0]\",\"C(rel_year)[T.-15.0]\",\"C(rel_year)[T.-14.0]\",\"C(rel_year)[T.-13.0]\",\"C(rel_year)[T.-12.0]\",\"C(rel_year)[T.-11.0]\",\"C(rel_year)[T.-10.0]\",\"C(rel_year)[T.-9.0]\",\"C(rel_year)[T.-8.0]\",\"C(rel_year)[T.-7.0]\",\"C(rel_year)[T.-6.0]\",\"C(rel_year)[T.-5.0]\",\"C(rel_year)[T.-4.0]\",\"C(rel_year)[T.-3.0]\",\"C(rel_year)[T.-2.0]\",\"C(rel_year)[T.0.0]\",\"C(rel_year)[T.1.0]\",\"C(rel_year)[T.2.0]\",\"C(rel_year)[T.3.0]\",\"C(rel_year)[T.4.0]\",\"C(rel_year)[T.5.0]\",\"C(rel_year)[T.6.0]\",\"C(rel_year)[T.7.0]\",\"C(rel_year)[T.8.0]\",\"C(rel_year)[T.9.0]\",\"C(rel_year)[T.10.0]\",\"C(rel_year)[T.11.0]\",\"C(rel_year)[T.12.0]\",\"C(rel_year)[T.13.0]\",\"C(rel_year)[T.14.0]\",\"C(rel_year)[T.15.0]\",\"C(rel_year)[T.16.0]\",\"C(rel_year)[T.17.0]\",\"C(rel_year)[T.18.0]\",\"C(rel_year)[T.19.0]\",\"C(rel_year)[T.20.0]\"],\n",
       "\"Estimate\":[-0.07930892379170715,-0.02711530987324645,-0.027235435350764604,-0.03361637397575999,-0.05578068831093985,0.01674513656446697,-0.020869937444561407,-0.022209824688846917,0.00544707327478019,-0.04792474874869792,-0.032478559342959595,-0.03751722264066758,-0.03085694264432183,-0.007104690258118021,-0.039598001783395204,-0.07918308610819624,-0.03422655342074967,-0.015214092720010595,-0.038687531424548345,1.3044622847590663,1.533486047693671,1.5971037484422883,1.7188473091801473,1.8462967066123772,1.9905872778860922,2.0788829001715436,2.1653995661371646,2.258950448012608,2.277763076406236,2.4147668193865734,2.4563352194604433,2.5072957344947375,2.481401513052385,2.626326070707077,2.8126319507465785,2.7626823798588394,2.8113003934115035,2.777035404391758,2.786164475469506,2.814858243218984,-0.12698247918206437,-0.12348123297075875,-0.10570691369797973,-0.1645394079858257,-0.05802816079204381,-0.08987157598714136,-0.06582685578296832,-0.03769329448954135,-0.0673158006972716,-0.18271129058123683,-0.19694481707294595,-0.18900970304711975,-0.12974262089057992,-0.18352998467983403,-0.1927288718921445,-0.13757014976067242,-0.08138211005251633,-0.1117728770597151,1.2935501693424627,1.532775040641535,1.6010132060546483,1.7270621481638313,1.830899230274079,1.9543844357969795,2.0632851470824543,2.151295994532567,2.236816591496248,2.2791606060270344,2.5255419149646516,2.6256920104444137,2.6860366131354403,2.6281707895507243,2.7355281605507145,2.858753484441207,2.8351333555044906,2.8446975600220576,2.8071524679205933,2.8080617960542096,2.85381062080682],\n",
       "\"2.5 %\":[-0.16956009129324529,-0.13130815604198642,-0.12259738219920244,-0.11756451630107546,-0.1594322241664388,-0.08271384501074824,-0.11742994686643358,-0.10020049055235927,-0.08409592787927839,-0.16435158421433974,-0.09941164456393811,-0.09715638902117162,-0.09367244143565662,-0.0783213936449981,-0.09281052910308848,-0.1388263127314339,-0.08904078725047826,-0.07493744178711444,-0.1020224018064744,1.1945943466366218,1.40728362502748,1.4860049541612093,1.6001299023938702,1.7528192640216589,1.8801608388053463,1.9527955115427071,2.05083796683395,2.145342028402031,2.1733000689115616,2.2970296208885306,2.2958801506363242,2.35099437907472,2.315656867723913,2.489639041115562,2.6504947368999923,2.6011041420023724,2.655735406522673,2.6167621025362164,2.609418196922358,2.652084779734768,-0.33440052434316936,-0.31692424821808096,-0.28492966103095363,-0.37551963688580503,-0.2508645047774962,-0.2820337123571112,-0.23009180872051538,-0.2083886291881714,-0.2552842307343681,-0.30827961898042733,-0.33031266197998854,-0.330202732214121,-0.28615210589225426,-0.31512789022176313,-0.326232304322678,-0.26053386893142483,-0.22257258835619673,-0.23876894188633724,1.1644145760158753,1.3823152784996973,1.4801524005331388,1.5878073083799347,1.718601913863633,1.8229722146406362,1.9148069511442771,2.010633057971422,2.0996855216037846,2.174615541468198,2.3989234406251465,2.449121016757584,2.529817562559008,2.4454881055254556,2.574698665421661,2.674517384271591,2.651241736841561,2.669955548834006,2.631362836173913,2.635044304852042,2.6781205756231024],\n",
       "\"97.5 %\":[0.010942243709830976,0.07707753629549353,0.06812651149767324,0.05033176834955548,0.047870847544559086,0.11620411813968218,0.07569007197731077,0.055780841174665446,0.09499007442883878,0.06850208671694391,0.03445452587801892,0.02212194373983646,0.031958556147012956,0.06411201312876205,0.013614525536298078,-0.0195398594849586,0.020587680408978917,0.04450925634709324,0.024647338957377703,1.414330222881511,1.6596884703598618,1.7082025427233674,1.8375647159664243,1.9397741492030955,2.1010137169668384,2.2049702888003804,2.2799611654403793,2.372558867623185,2.382226083900911,2.5325040178846163,2.6167902882845624,2.663597089914755,2.647146158380857,2.7630131002985916,2.9747691645931646,2.9242606177153063,2.966865380300334,2.9373087062472996,2.9629107540166535,2.9776317067032,0.08043556597904061,0.06996178227656344,0.07351583363499418,0.046440820914153635,0.13480818319340862,0.10229056038282848,0.09843809715457874,0.1330020402090887,0.12065262933982494,-0.057142962182046314,-0.06357697216590338,-0.04781667388011851,0.026666864111094424,-0.05193207913790496,-0.059225439461610935,-0.01460643058992002,0.05980836825116406,0.015223187766907023,1.4226857626690501,1.6832348027833728,1.7218740115761577,1.866316987947728,1.943196546684525,2.085796656953323,2.2117633430206314,2.291958931093712,2.3739476613887116,2.383705670585871,2.6521603893041568,2.8022630041312433,2.8422556637118728,2.810853473575993,2.896357655679768,3.042989584610823,3.0190249741674204,3.019439571210109,2.9829420996672735,2.981079287256377,3.0295006659905375]\n",
       "},\n",
       "\"mapping\":{\n",
       "\"x\":\"Coefficient\",\n",
       "\"y\":\"Estimate\",\n",
       "\"color\":\"Model\"\n",
       "},\n",
       "\"data_meta\":{\n",
       "},\n",
       "\"ggsize\":{\n",
       "\"width\":900.0,\n",
       "\"height\":400.0\n",
       "},\n",
       "\"theme\":{\n",
       "\"axis_text_x\":{\n",
       "\"angle\":0.0,\n",
       "\"blank\":false\n",
       "}\n",
       "},\n",
       "\"ggtitle\":{\n",
       "\"text\":\"TWFE vs DID2S\"\n",
       "},\n",
       "\"kind\":\"plot\",\n",
       "\"scales\":[{\n",
       "\"name\":\"Estimate and 95% Confidence Interval\",\n",
       "\"aesthetic\":\"y\"\n",
       "}],\n",
       "\"layers\":[{\n",
       "\"geom\":\"point\",\n",
       "\"mapping\":{\n",
       "},\n",
       "\"position\":{\n",
       "\"name\":\"dodge\",\n",
       "\"width\":0.5\n",
       "},\n",
       "\"data_meta\":{\n",
       "},\n",
       "\"data\":{\n",
       "}\n",
       "},{\n",
       "\"geom\":\"errorbar\",\n",
       "\"mapping\":{\n",
       "\"ymin\":\"2.5 %\",\n",
       "\"ymax\":\"97.5 %\"\n",
       "},\n",
       "\"position\":{\n",
       "\"name\":\"dodge\",\n",
       "\"width\":0.5\n",
       "},\n",
       "\"data_meta\":{\n",
       "},\n",
       "\"width\":0.05,\n",
       "\"data\":{\n",
       "}\n",
       "}],\n",
       "\"metainfo_list\":[]\n",
       "};\n",
       "           var plotContainer = document.getElementById(\"d5jeWU\");\n",
       "           window.letsPlotCall(function() {{\n",
       "               LetsPlot.buildPlotFromProcessedSpecs(plotSpec, -1, -1, plotContainer);\n",
       "           }});\n",
       "       })();    \n",
       "   </script>"
      ],
      "text/plain": [
       "<lets_plot.plot.core.PlotSpec at 0x26510717b50>"
      ]
     },
     "execution_count": 90,
     "metadata": {},
     "output_type": "execute_result"
    }
   ],
   "source": [
    "fit_did2s = did2s(\n",
    "    df_het,\n",
    "    yname=\"dep_var\",\n",
    "    first_stage=\"~ 0 | state + year\",\n",
    "    second_stage=\"~i(rel_year)\",\n",
    "    treatment=\"treat\",\n",
    "    cluster=\"state\",\n",
    "    i_ref1=[-1.0, np.inf],\n",
    ")\n",
    "\n",
    "fit_twfe = feols(\n",
    "    \"dep_var ~ i(rel_year) | state + year\",\n",
    "    df_het,\n",
    "    i_ref1=[-1.0, np.inf],\n",
    "    vcov={\"CRV1\": \"state\"},\n",
    ")\n",
    "\n",
    "iplot(\n",
    "    [fit_did2s, fit_twfe], coord_flip=False, figsize=(900, 400), title=\"TWFE vs DID2S\"\n",
    ")"
   ]
  },
  {
   "cell_type": "markdown",
   "metadata": {},
   "source": [
    "The `event_study()` function provides a common API for several event study estimators."
   ]
  },
  {
   "cell_type": "code",
   "execution_count": 91,
   "metadata": {},
   "outputs": [
    {
     "name": "stdout",
     "output_type": "stream",
     "text": [
      "| Coefficient   | est1             | est2             |\n",
      "|:--------------|:-----------------|:-----------------|\n",
      "| ATT           | 2.135*** (0.044) | 2.152*** (0.048) |\n",
      "Significance levels: * p < 0.05, ** p < 0.01, *** p < 0.001\n"
     ]
    }
   ],
   "source": [
    "from pyfixest.experimental.did import event_study\n",
    "from pyfixest.summarize import etable\n",
    "\n",
    "fit_twfe = event_study(\n",
    "    data=df_het,\n",
    "    yname=\"dep_var\",\n",
    "    idname=\"state\",\n",
    "    tname=\"year\",\n",
    "    gname=\"g\",\n",
    "    estimator=\"twfe\",\n",
    ")\n",
    "\n",
    "fit_did2s = event_study(\n",
    "    data=df_het,\n",
    "    yname=\"dep_var\",\n",
    "    idname=\"state\",\n",
    "    tname=\"year\",\n",
    "    gname=\"g\",\n",
    "    estimator=\"did2s\",\n",
    ")\n",
    "\n",
    "etable([fit_twfe, fit_did2s])"
   ]
  },
  {
   "cell_type": "markdown",
   "metadata": {},
   "source": []
  }
 ],
 "metadata": {
  "kernelspec": {
   "display_name": "Python 3",
   "language": "python",
   "name": "python3"
  },
  "language_info": {
   "codemirror_mode": {
    "name": "ipython",
    "version": 3
   },
   "file_extension": ".py",
   "mimetype": "text/x-python",
   "name": "python",
   "nbconvert_exporter": "python",
   "pygments_lexer": "ipython3",
   "version": "3.10.8"
  },
  "orig_nbformat": 4
 },
 "nbformat": 4,
 "nbformat_minor": 2
}
