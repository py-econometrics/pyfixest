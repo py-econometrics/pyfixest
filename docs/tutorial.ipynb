{
 "cells": [
  {
   "cell_type": "markdown",
   "metadata": {},
   "source": [
    "# Getting Started with PyFixest\n",
    "\n",
    "In a first step, we load the module and some example data:"
   ]
  },
  {
   "cell_type": "code",
   "execution_count": 1,
   "metadata": {},
   "outputs": [
    {
     "data": {
      "text/html": [
       "\n",
       "            <div id=\"ddvneb\"></div>\n",
       "            <script type=\"text/javascript\" data-lets-plot-script=\"library\">\n",
       "                if(!window.letsPlotCallQueue) {\n",
       "                    window.letsPlotCallQueue = [];\n",
       "                }; \n",
       "                window.letsPlotCall = function(f) {\n",
       "                    window.letsPlotCallQueue.push(f);\n",
       "                };\n",
       "                (function() {\n",
       "                    var script = document.createElement(\"script\");\n",
       "                    script.type = \"text/javascript\";\n",
       "                    script.src = \"https://cdn.jsdelivr.net/gh/JetBrains/lets-plot@v4.0.1/js-package/distr/lets-plot.min.js\";\n",
       "                    script.onload = function() {\n",
       "                        window.letsPlotCall = function(f) {f();};\n",
       "                        window.letsPlotCallQueue.forEach(function(f) {f();});\n",
       "                        window.letsPlotCallQueue = [];\n",
       "                        \n",
       "                    };\n",
       "                    script.onerror = function(event) {\n",
       "                        window.letsPlotCall = function(f) {};    // noop\n",
       "                        window.letsPlotCallQueue = [];\n",
       "                        var div = document.createElement(\"div\");\n",
       "                        div.style.color = 'darkred';\n",
       "                        div.textContent = 'Error loading Lets-Plot JS';\n",
       "                        document.getElementById(\"ddvneb\").appendChild(div);\n",
       "                    };\n",
       "                    var e = document.getElementById(\"ddvneb\");\n",
       "                    e.appendChild(script);\n",
       "                })()\n",
       "            </script>\n",
       "            "
      ]
     },
     "metadata": {},
     "output_type": "display_data"
    }
   ],
   "source": [
    "%load_ext autoreload\n",
    "%autoreload 2\n",
    "\n",
    "from pyfixest.estimation import feols, fepois\n",
    "from pyfixest.summarize import summary, etable\n",
    "from pyfixest.visualize import coefplot, iplot\n",
    "from pyfixest.utils import get_data"
   ]
  },
  {
   "cell_type": "code",
   "execution_count": 2,
   "metadata": {},
   "outputs": [
    {
     "data": {
      "text/html": [
       "<div>\n",
       "<style scoped>\n",
       "    .dataframe tbody tr th:only-of-type {\n",
       "        vertical-align: middle;\n",
       "    }\n",
       "\n",
       "    .dataframe tbody tr th {\n",
       "        vertical-align: top;\n",
       "    }\n",
       "\n",
       "    .dataframe thead th {\n",
       "        text-align: right;\n",
       "    }\n",
       "</style>\n",
       "<table border=\"1\" class=\"dataframe\">\n",
       "  <thead>\n",
       "    <tr style=\"text-align: right;\">\n",
       "      <th></th>\n",
       "      <th>Y</th>\n",
       "      <th>Y2</th>\n",
       "      <th>X1</th>\n",
       "      <th>X2</th>\n",
       "      <th>f1</th>\n",
       "      <th>f2</th>\n",
       "      <th>f3</th>\n",
       "      <th>group_id</th>\n",
       "      <th>Z1</th>\n",
       "      <th>Z2</th>\n",
       "    </tr>\n",
       "  </thead>\n",
       "  <tbody>\n",
       "    <tr>\n",
       "      <th>0</th>\n",
       "      <td>NaN</td>\n",
       "      <td>-9.902164</td>\n",
       "      <td>0.0</td>\n",
       "      <td>0.457858</td>\n",
       "      <td>9.0</td>\n",
       "      <td>15.0</td>\n",
       "      <td>0.0</td>\n",
       "      <td>1.0</td>\n",
       "      <td>-0.302072</td>\n",
       "      <td>-0.786966</td>\n",
       "    </tr>\n",
       "    <tr>\n",
       "      <th>1</th>\n",
       "      <td>2.486016</td>\n",
       "      <td>-3.571090</td>\n",
       "      <td>NaN</td>\n",
       "      <td>-4.998406</td>\n",
       "      <td>8.0</td>\n",
       "      <td>6.0</td>\n",
       "      <td>9.0</td>\n",
       "      <td>11.0</td>\n",
       "      <td>NaN</td>\n",
       "      <td>-3.482305</td>\n",
       "    </tr>\n",
       "    <tr>\n",
       "      <th>2</th>\n",
       "      <td>1.817729</td>\n",
       "      <td>-3.353401</td>\n",
       "      <td>2.0</td>\n",
       "      <td>1.558480</td>\n",
       "      <td>NaN</td>\n",
       "      <td>11.0</td>\n",
       "      <td>0.0</td>\n",
       "      <td>18.0</td>\n",
       "      <td>1.698868</td>\n",
       "      <td>1.988056</td>\n",
       "    </tr>\n",
       "    <tr>\n",
       "      <th>3</th>\n",
       "      <td>5.179868</td>\n",
       "      <td>14.696121</td>\n",
       "      <td>2.0</td>\n",
       "      <td>1.560402</td>\n",
       "      <td>15.0</td>\n",
       "      <td>1.0</td>\n",
       "      <td>4.0</td>\n",
       "      <td>15.0</td>\n",
       "      <td>5.068548</td>\n",
       "      <td>2.063131</td>\n",
       "    </tr>\n",
       "    <tr>\n",
       "      <th>4</th>\n",
       "      <td>1.193511</td>\n",
       "      <td>-6.568647</td>\n",
       "      <td>2.0</td>\n",
       "      <td>-3.472232</td>\n",
       "      <td>20.0</td>\n",
       "      <td>19.0</td>\n",
       "      <td>9.0</td>\n",
       "      <td>5.0</td>\n",
       "      <td>0.315810</td>\n",
       "      <td>-2.827332</td>\n",
       "    </tr>\n",
       "  </tbody>\n",
       "</table>\n",
       "</div>"
      ],
      "text/plain": [
       "          Y         Y2   X1        X2    f1    f2   f3  group_id        Z1  \\\n",
       "0       NaN  -9.902164  0.0  0.457858   9.0  15.0  0.0       1.0 -0.302072   \n",
       "1  2.486016  -3.571090  NaN -4.998406   8.0   6.0  9.0      11.0       NaN   \n",
       "2  1.817729  -3.353401  2.0  1.558480   NaN  11.0  0.0      18.0  1.698868   \n",
       "3  5.179868  14.696121  2.0  1.560402  15.0   1.0  4.0      15.0  5.068548   \n",
       "4  1.193511  -6.568647  2.0 -3.472232  20.0  19.0  9.0       5.0  0.315810   \n",
       "\n",
       "         Z2  \n",
       "0 -0.786966  \n",
       "1 -3.482305  \n",
       "2  1.988056  \n",
       "3  2.063131  \n",
       "4 -2.827332  "
      ]
     },
     "execution_count": 2,
     "metadata": {},
     "output_type": "execute_result"
    }
   ],
   "source": [
    "data = get_data()\n",
    "data.head()"
   ]
  },
  {
   "cell_type": "markdown",
   "metadata": {},
   "source": [
    "## OLS Estimation"
   ]
  },
  {
   "cell_type": "markdown",
   "metadata": {},
   "source": [
    "We can estimate a fixed effects regression via the `feols()` function. `feols()` has three arguments: a two-sided model formula, the data, and optionally, the type of inference."
   ]
  },
  {
   "cell_type": "code",
   "execution_count": 3,
   "metadata": {},
   "outputs": [
    {
     "data": {
      "text/plain": [
       "pyfixest.feols.Feols"
      ]
     },
     "execution_count": 3,
     "metadata": {},
     "output_type": "execute_result"
    }
   ],
   "source": [
    "fit = feols(fml=\"Y~X1 | f1\", data=data, vcov=\"HC1\")\n",
    "type(fit)"
   ]
  },
  {
   "cell_type": "markdown",
   "metadata": {},
   "source": [
    "The first part of the formula contains the dependent variable and \"regular\" covariates, while the second part contains fixed effects.\n",
    "\n",
    "`feols()` returns an instance of the `Fixest` class."
   ]
  },
  {
   "cell_type": "markdown",
   "metadata": {},
   "source": [
    "To inspect the results, we can use a summary function or method:"
   ]
  },
  {
   "cell_type": "code",
   "execution_count": 4,
   "metadata": {},
   "outputs": [
    {
     "name": "stdout",
     "output_type": "stream",
     "text": [
      "###\n",
      "\n",
      "Estimation:  OLS\n",
      "Dep. var.: Y, Fixed effects: f1\n",
      "Inference:  HC1\n",
      "Observations:  997\n",
      "\n",
      "| Coefficient   |   Estimate |   Std. Error |   t value |   Pr(>|t|) |   2.5 % |   97.5 % |\n",
      "|:--------------|-----------:|-------------:|----------:|-----------:|--------:|---------:|\n",
      "| X1            |      0.424 |        0.058 |     7.330 |      0.000 |   0.310 |    0.538 |\n",
      "---\n",
      "RMSE: 1.421   R2: 0.371   R2 Within: 0.052\n"
     ]
    }
   ],
   "source": [
    "fit.summary()"
   ]
  },
  {
   "cell_type": "markdown",
   "metadata": {},
   "source": [
    "Alternatively, the `.summarize` module contains a `summary` function, which can be applied on instances of regression model objects \n",
    "or lists of regression model objects. "
   ]
  },
  {
   "cell_type": "code",
   "execution_count": 5,
   "metadata": {},
   "outputs": [
    {
     "name": "stdout",
     "output_type": "stream",
     "text": [
      "###\n",
      "\n",
      "Estimation:  OLS\n",
      "Dep. var.: Y, Fixed effects: f1\n",
      "Inference:  HC1\n",
      "Observations:  997\n",
      "\n",
      "| Coefficient   |   Estimate |   Std. Error |   t value |   Pr(>|t|) |   2.5 % |   97.5 % |\n",
      "|:--------------|-----------:|-------------:|----------:|-----------:|--------:|---------:|\n",
      "| X1            |      0.424 |        0.058 |     7.330 |      0.000 |   0.310 |    0.538 |\n",
      "---\n",
      "RMSE: 1.421   R2: 0.371   R2 Within: 0.052\n"
     ]
    }
   ],
   "source": [
    "summary(fit)"
   ]
  },
  {
   "cell_type": "markdown",
   "metadata": {},
   "source": [
    "You can access individual elements of the summary via dedicated methods: `.tidy()` returns a \"tidy\" `pd.DataFrame`, \n",
    "`.coef()` returns estimated parameters, and `se()` estimated standard errors. Other methods include `pvalue()`, `confint()`\n",
    "and `tstat()`."
   ]
  },
  {
   "cell_type": "code",
   "execution_count": 6,
   "metadata": {},
   "outputs": [
    {
     "data": {
      "text/plain": [
       "Coefficient\n",
       "X1    0.424004\n",
       "Name: Estimate, dtype: float64"
      ]
     },
     "execution_count": 6,
     "metadata": {},
     "output_type": "execute_result"
    }
   ],
   "source": [
    "fit.coef()"
   ]
  },
  {
   "cell_type": "code",
   "execution_count": 7,
   "metadata": {},
   "outputs": [
    {
     "data": {
      "text/plain": [
       "Coefficient\n",
       "X1    0.057843\n",
       "Name: Std. Error, dtype: float64"
      ]
     },
     "execution_count": 7,
     "metadata": {},
     "output_type": "execute_result"
    }
   ],
   "source": [
    "fit.se()"
   ]
  },
  {
   "cell_type": "markdown",
   "metadata": {},
   "source": [
    "## Standard Errors and Inference"
   ]
  },
  {
   "cell_type": "markdown",
   "metadata": {},
   "source": [
    "Supported covariance types are \"iid\", \"HC1-3\", CRV1 and CRV3 (up to two-way clustering). Inference can be adjusted \"on-the-fly\" via the\n",
    "`.vcov()` method:"
   ]
  },
  {
   "cell_type": "code",
   "execution_count": 8,
   "metadata": {},
   "outputs": [
    {
     "name": "stdout",
     "output_type": "stream",
     "text": [
      "###\n",
      "\n",
      "Estimation:  OLS\n",
      "Dep. var.: Y, Fixed effects: f1\n",
      "Inference:  CRV1\n",
      "Observations:  997\n",
      "\n",
      "| Coefficient   |   Estimate |   Std. Error |   t value |   Pr(>|t|) |   2.5 % |   97.5 % |\n",
      "|:--------------|-----------:|-------------:|----------:|-----------:|--------:|---------:|\n",
      "| X1            |      0.424 |        0.076 |     5.598 |      0.000 |   0.265 |    0.583 |\n",
      "---\n",
      "RMSE: 1.421   R2: 0.371   R2 Within: 0.052\n",
      "###\n",
      "\n",
      "Estimation:  OLS\n",
      "Dep. var.: Y, Fixed effects: f1\n",
      "Inference:  CRV3\n",
      "Observations:  997\n",
      "\n",
      "| Coefficient   |   Estimate |   Std. Error |   t value |   Pr(>|t|) |   2.5 % |   97.5 % |\n",
      "|:--------------|-----------:|-------------:|----------:|-----------:|--------:|---------:|\n",
      "| X1            |      0.424 |        0.076 |     5.590 |      0.000 |   0.265 |    0.583 |\n",
      "---\n",
      "RMSE: 1.421   R2: 0.371   R2 Within: 0.052\n"
     ]
    }
   ],
   "source": [
    "fit.vcov({\"CRV1\": \"group_id + f1\"}).summary()\n",
    "fit.vcov({\"CRV3\": \"group_id\"}).summary()"
   ]
  },
  {
   "cell_type": "markdown",
   "metadata": {},
   "source": [
    "It is also possible to run a wild (cluster) bootstrap after estimation (via the [wildboottest module](https://github.com/s3alfisc/wildboottest)):"
   ]
  },
  {
   "cell_type": "code",
   "execution_count": 9,
   "metadata": {},
   "outputs": [
    {
     "data": {
      "text/plain": [
       "param                            X1\n",
       "t value                    5.187938\n",
       "Pr(>|t|)                   0.002002\n",
       "bootstrap_type                   11\n",
       "inference         CRV(['group_id'])\n",
       "impose_null                    True\n",
       "dtype: object"
      ]
     },
     "execution_count": 9,
     "metadata": {},
     "output_type": "execute_result"
    }
   ],
   "source": [
    "fit2 = feols(fml=\"Y~ X1\", data=data, vcov={\"CRV1\": \"group_id\"})\n",
    "fit2.wildboottest(param=\"X1\", B=999)"
   ]
  },
  {
   "cell_type": "markdown",
   "metadata": {},
   "source": [
    "Note that the wild bootstrap currently does not support fixed effects in the regression model. Supporting fixed effects is work in progress.\n",
    "\n",
    "## IV Estimation \n",
    "\n",
    "It is also possible to estimate instrumental variable models with *one* endogenous variable and (potentially multiple) instruments:"
   ]
  },
  {
   "cell_type": "code",
   "execution_count": 10,
   "metadata": {},
   "outputs": [
    {
     "name": "stdout",
     "output_type": "stream",
     "text": [
      "###\n",
      "\n",
      "Estimation:  IV\n",
      "Dep. var.: Y2, Fixed effects: f1+f2\n",
      "Inference:  CRV1\n",
      "Observations:  998\n",
      "\n",
      "| Coefficient   |   Estimate |   Std. Error |   t value |   Pr(>|t|) |   2.5 % |   97.5 % |\n",
      "|:--------------|-----------:|-------------:|----------:|-----------:|--------:|---------:|\n",
      "| X1            |      0.195 |        0.406 |     0.479 |      0.636 |  -0.636 |    1.026 |\n",
      "---\n"
     ]
    }
   ],
   "source": [
    "iv_fit = feols(fml=\"Y2~ 1 | f1 + f2 | X1 ~ Z1 + Z2\", data=data)\n",
    "iv_fit.summary()"
   ]
  },
  {
   "cell_type": "markdown",
   "metadata": {},
   "source": [
    "If the model does not contain any fixed effects, just drop the second part of the formula above:"
   ]
  },
  {
   "cell_type": "code",
   "execution_count": 11,
   "metadata": {},
   "outputs": [
    {
     "name": "stdout",
     "output_type": "stream",
     "text": [
      "###\n",
      "\n",
      "Estimation:  IV\n",
      "Dep. var.: Y\n",
      "Inference:  iid\n",
      "Observations:  998\n",
      "\n",
      "| Coefficient   |   Estimate |   Std. Error |   t value |   Pr(>|t|) |   2.5 % |   97.5 % |\n",
      "|:--------------|-----------:|-------------:|----------:|-----------:|--------:|---------:|\n",
      "| Intercept     |      2.091 |        0.125 |    16.763 |      0.000 |   1.846 |    2.336 |\n",
      "| X1            |      0.469 |        0.107 |     4.383 |      0.000 |   0.259 |    0.679 |\n",
      "---\n"
     ]
    }
   ],
   "source": [
    "feols(fml=\"Y~ 1 | X1 ~ Z1 + Z2\", data=data).summary()"
   ]
  },
  {
   "cell_type": "markdown",
   "metadata": {},
   "source": [
    "IV estimation with multiple endogenous variables and multiple estimation syntax is currently not supported. The syntax is \"depvar ~ exog.vars | fixef effects | endog.vars ~ instruments\"."
   ]
  },
  {
   "cell_type": "markdown",
   "metadata": {},
   "source": [
    "## Poisson Regression \n",
    "\n",
    "With version `0.8.4`, it is possible to estimate Poisson Regressions (not yet on PyPi): "
   ]
  },
  {
   "cell_type": "code",
   "execution_count": 12,
   "metadata": {},
   "outputs": [
    {
     "name": "stdout",
     "output_type": "stream",
     "text": [
      "###\n",
      "\n",
      "Estimation:  Poisson\n",
      "Dep. var.: Y, Fixed effects: f1+f2\n",
      "Inference:  CRV1\n",
      "Observations:  997\n",
      "\n",
      "| Coefficient   |   Estimate |   Std. Error |   t value |   Pr(>|t|) |   2.5 % |   97.5 % |\n",
      "|:--------------|-----------:|-------------:|----------:|-----------:|--------:|---------:|\n",
      "| X1            |     -0.012 |        0.035 |    -0.333 |      0.739 |  -0.079 |    0.056 |\n",
      "---\n",
      "Deviance: 1067.961\n"
     ]
    }
   ],
   "source": [
    "from pyfixest.utils import get_data\n",
    "\n",
    "pois_data = get_data(model=\"Fepois\")\n",
    "pois_fit = fepois(fml=\"Y~X1 | f1+f2\", data=pois_data, vcov={\"CRV1\": \"group_id\"})\n",
    "pois_fit.summary()"
   ]
  },
  {
   "cell_type": "markdown",
   "metadata": {},
   "source": [
    "## Multiple Estimation \n",
    "\n",
    "`PyFixest` supports a range of multiple estimation functionality: `sw`, `sw0`, `csw`, `csw0`, and multiple dependent variables. If multiple regression syntax is used, \n",
    "`feols()` and `fepois` returns an instance of a `FixestMulti` object, which essentially consists of a dicionary of `Fepois` or `Feols` instances."
   ]
  },
  {
   "cell_type": "code",
   "execution_count": 13,
   "metadata": {},
   "outputs": [
    {
     "data": {
      "text/plain": [
       "<pyfixest.FixestMulti.FixestMulti at 0x257c596e800>"
      ]
     },
     "execution_count": 13,
     "metadata": {},
     "output_type": "execute_result"
    }
   ],
   "source": [
    "multi_fit = feols(fml=\"Y~X1 | csw0(f1, f2)\", data=data, vcov=\"HC1\")\n",
    "multi_fit"
   ]
  },
  {
   "cell_type": "code",
   "execution_count": 14,
   "metadata": {},
   "outputs": [
    {
     "name": "stdout",
     "output_type": "stream",
     "text": [
      "###\n",
      "\n",
      "Estimation:  OLS\n",
      "Dep. var.: Y\n",
      "Inference:  HC1\n",
      "Observations:  998\n",
      "\n",
      "| Coefficient   |   Estimate |   Std. Error |   t value |   Pr(>|t|) |   2.5 % |   97.5 % |\n",
      "|:--------------|-----------:|-------------:|----------:|-----------:|--------:|---------:|\n",
      "| Intercept     |      2.181 |        0.090 |    24.141 |      0.000 |   2.004 |    2.359 |\n",
      "| X1            |      0.382 |        0.070 |     5.485 |      0.000 |   0.245 |    0.519 |\n",
      "---\n",
      "RMSE: 1.765   R2: 0.03\n",
      "###\n",
      "\n",
      "Estimation:  OLS\n",
      "Dep. var.: Y, Fixed effects: f1\n",
      "Inference:  HC1\n",
      "Observations:  997\n",
      "\n",
      "| Coefficient   |   Estimate |   Std. Error |   t value |   Pr(>|t|) |   2.5 % |   97.5 % |\n",
      "|:--------------|-----------:|-------------:|----------:|-----------:|--------:|---------:|\n",
      "| X1            |      0.424 |        0.058 |     7.330 |      0.000 |   0.310 |    0.538 |\n",
      "---\n",
      "RMSE: 1.421   R2: 0.371   R2 Within: 0.052\n",
      "###\n",
      "\n",
      "Estimation:  OLS\n",
      "Dep. var.: Y, Fixed effects: f1+f2\n",
      "Inference:  HC1\n",
      "Observations:  997\n",
      "\n",
      "| Coefficient   |   Estimate |   Std. Error |   t value |   Pr(>|t|) |   2.5 % |   97.5 % |\n",
      "|:--------------|-----------:|-------------:|----------:|-----------:|--------:|---------:|\n",
      "| X1            |      0.430 |        0.049 |     8.701 |      0.000 |   0.333 |    0.527 |\n",
      "---\n",
      "RMSE: 1.2   R2: 0.552   R2 Within: 0.071\n"
     ]
    }
   ],
   "source": [
    "multi_fit.summary()"
   ]
  },
  {
   "cell_type": "markdown",
   "metadata": {},
   "source": [
    "Alternatively, you can look at the estimation results via the `etable()` method:"
   ]
  },
  {
   "cell_type": "code",
   "execution_count": 15,
   "metadata": {},
   "outputs": [
    {
     "data": {
      "text/html": [
       "<div>\n",
       "<style scoped>\n",
       "    .dataframe tbody tr th:only-of-type {\n",
       "        vertical-align: middle;\n",
       "    }\n",
       "\n",
       "    .dataframe tbody tr th {\n",
       "        vertical-align: top;\n",
       "    }\n",
       "\n",
       "    .dataframe thead tr th {\n",
       "        text-align: left;\n",
       "    }\n",
       "</style>\n",
       "<table border=\"1\" class=\"dataframe\">\n",
       "  <thead>\n",
       "    <tr>\n",
       "      <th>fml</th>\n",
       "      <th colspan=\"2\" halign=\"left\">Y~X1</th>\n",
       "      <th>Y~X1|f1</th>\n",
       "      <th>Y~X1|f1+f2</th>\n",
       "    </tr>\n",
       "    <tr>\n",
       "      <th>Coefficient</th>\n",
       "      <th>Intercept</th>\n",
       "      <th>X1</th>\n",
       "      <th>X1</th>\n",
       "      <th>X1</th>\n",
       "    </tr>\n",
       "  </thead>\n",
       "  <tbody>\n",
       "    <tr>\n",
       "      <th>Estimate</th>\n",
       "      <td>2.181</td>\n",
       "      <td>0.382</td>\n",
       "      <td>0.424</td>\n",
       "      <td>0.430</td>\n",
       "    </tr>\n",
       "    <tr>\n",
       "      <th>Std. Error</th>\n",
       "      <td>0.090</td>\n",
       "      <td>0.070</td>\n",
       "      <td>0.058</td>\n",
       "      <td>0.049</td>\n",
       "    </tr>\n",
       "    <tr>\n",
       "      <th>t value</th>\n",
       "      <td>24.141</td>\n",
       "      <td>5.485</td>\n",
       "      <td>7.330</td>\n",
       "      <td>8.701</td>\n",
       "    </tr>\n",
       "    <tr>\n",
       "      <th>Pr(&gt;|t|)</th>\n",
       "      <td>0.000</td>\n",
       "      <td>0.000</td>\n",
       "      <td>0.000</td>\n",
       "      <td>0.000</td>\n",
       "    </tr>\n",
       "    <tr>\n",
       "      <th>2.5 %</th>\n",
       "      <td>2.004</td>\n",
       "      <td>0.245</td>\n",
       "      <td>0.310</td>\n",
       "      <td>0.333</td>\n",
       "    </tr>\n",
       "    <tr>\n",
       "      <th>97.5 %</th>\n",
       "      <td>2.359</td>\n",
       "      <td>0.519</td>\n",
       "      <td>0.538</td>\n",
       "      <td>0.527</td>\n",
       "    </tr>\n",
       "  </tbody>\n",
       "</table>\n",
       "</div>"
      ],
      "text/plain": [
       "fml              Y~X1        Y~X1|f1 Y~X1|f1+f2\n",
       "Coefficient Intercept     X1      X1         X1\n",
       "Estimate        2.181  0.382   0.424      0.430\n",
       "Std. Error      0.090  0.070   0.058      0.049\n",
       "t value        24.141  5.485   7.330      8.701\n",
       "Pr(>|t|)        0.000  0.000   0.000      0.000\n",
       "2.5 %           2.004  0.245   0.310      0.333\n",
       "97.5 %          2.359  0.519   0.538      0.527"
      ]
     },
     "execution_count": 15,
     "metadata": {},
     "output_type": "execute_result"
    }
   ],
   "source": [
    "multi_fit.etable()"
   ]
  },
  {
   "cell_type": "markdown",
   "metadata": {},
   "source": [
    "If you are only insterested in some parameters, e.g. \"X1\", you can use the following syntax:"
   ]
  },
  {
   "cell_type": "code",
   "execution_count": 16,
   "metadata": {},
   "outputs": [
    {
     "data": {
      "text/html": [
       "<div>\n",
       "<style scoped>\n",
       "    .dataframe tbody tr th:only-of-type {\n",
       "        vertical-align: middle;\n",
       "    }\n",
       "\n",
       "    .dataframe tbody tr th {\n",
       "        vertical-align: top;\n",
       "    }\n",
       "\n",
       "    .dataframe thead th {\n",
       "        text-align: right;\n",
       "    }\n",
       "</style>\n",
       "<table border=\"1\" class=\"dataframe\">\n",
       "  <thead>\n",
       "    <tr style=\"text-align: right;\">\n",
       "      <th>fml</th>\n",
       "      <th>Y~X1</th>\n",
       "      <th>Y~X1|f1</th>\n",
       "      <th>Y~X1|f1+f2</th>\n",
       "    </tr>\n",
       "  </thead>\n",
       "  <tbody>\n",
       "    <tr>\n",
       "      <th>Estimate</th>\n",
       "      <td>0.382</td>\n",
       "      <td>0.424</td>\n",
       "      <td>0.430</td>\n",
       "    </tr>\n",
       "    <tr>\n",
       "      <th>Std. Error</th>\n",
       "      <td>0.070</td>\n",
       "      <td>0.058</td>\n",
       "      <td>0.049</td>\n",
       "    </tr>\n",
       "    <tr>\n",
       "      <th>t value</th>\n",
       "      <td>5.485</td>\n",
       "      <td>7.330</td>\n",
       "      <td>8.701</td>\n",
       "    </tr>\n",
       "    <tr>\n",
       "      <th>Pr(&gt;|t|)</th>\n",
       "      <td>0.000</td>\n",
       "      <td>0.000</td>\n",
       "      <td>0.000</td>\n",
       "    </tr>\n",
       "    <tr>\n",
       "      <th>2.5 %</th>\n",
       "      <td>0.245</td>\n",
       "      <td>0.310</td>\n",
       "      <td>0.333</td>\n",
       "    </tr>\n",
       "    <tr>\n",
       "      <th>97.5 %</th>\n",
       "      <td>0.519</td>\n",
       "      <td>0.538</td>\n",
       "      <td>0.527</td>\n",
       "    </tr>\n",
       "  </tbody>\n",
       "</table>\n",
       "</div>"
      ],
      "text/plain": [
       "fml          Y~X1  Y~X1|f1  Y~X1|f1+f2\n",
       "Estimate    0.382    0.424       0.430\n",
       "Std. Error  0.070    0.058       0.049\n",
       "t value     5.485    7.330       8.701\n",
       "Pr(>|t|)    0.000    0.000       0.000\n",
       "2.5 %       0.245    0.310       0.333\n",
       "97.5 %      0.519    0.538       0.527"
      ]
     },
     "execution_count": 16,
     "metadata": {},
     "output_type": "execute_result"
    }
   ],
   "source": [
    "multi_fit.etable().xs(\"X1\", level=1, axis=1)"
   ]
  },
  {
   "cell_type": "markdown",
   "metadata": {},
   "source": [
    "You can access an individual model by its name - i.e. a formula - via the `all_fitted_models` attribure."
   ]
  },
  {
   "cell_type": "code",
   "execution_count": 17,
   "metadata": {},
   "outputs": [
    {
     "data": {
      "text/html": [
       "<div>\n",
       "<style scoped>\n",
       "    .dataframe tbody tr th:only-of-type {\n",
       "        vertical-align: middle;\n",
       "    }\n",
       "\n",
       "    .dataframe tbody tr th {\n",
       "        vertical-align: top;\n",
       "    }\n",
       "\n",
       "    .dataframe thead th {\n",
       "        text-align: right;\n",
       "    }\n",
       "</style>\n",
       "<table border=\"1\" class=\"dataframe\">\n",
       "  <thead>\n",
       "    <tr style=\"text-align: right;\">\n",
       "      <th></th>\n",
       "      <th>Estimate</th>\n",
       "      <th>Std. Error</th>\n",
       "      <th>t value</th>\n",
       "      <th>Pr(&gt;|t|)</th>\n",
       "      <th>2.5 %</th>\n",
       "      <th>97.5 %</th>\n",
       "    </tr>\n",
       "    <tr>\n",
       "      <th>Coefficient</th>\n",
       "      <th></th>\n",
       "      <th></th>\n",
       "      <th></th>\n",
       "      <th></th>\n",
       "      <th></th>\n",
       "      <th></th>\n",
       "    </tr>\n",
       "  </thead>\n",
       "  <tbody>\n",
       "    <tr>\n",
       "      <th>Intercept</th>\n",
       "      <td>2.181441</td>\n",
       "      <td>0.090362</td>\n",
       "      <td>24.141261</td>\n",
       "      <td>0.000000e+00</td>\n",
       "      <td>2.004120</td>\n",
       "      <td>2.358762</td>\n",
       "    </tr>\n",
       "    <tr>\n",
       "      <th>X1</th>\n",
       "      <td>0.381912</td>\n",
       "      <td>0.069623</td>\n",
       "      <td>5.485410</td>\n",
       "      <td>5.230771e-08</td>\n",
       "      <td>0.245287</td>\n",
       "      <td>0.518537</td>\n",
       "    </tr>\n",
       "  </tbody>\n",
       "</table>\n",
       "</div>"
      ],
      "text/plain": [
       "             Estimate  Std. Error    t value      Pr(>|t|)     2.5 %    97.5 %\n",
       "Coefficient                                                                   \n",
       "Intercept    2.181441    0.090362  24.141261  0.000000e+00  2.004120  2.358762\n",
       "X1           0.381912    0.069623   5.485410  5.230771e-08  0.245287  0.518537"
      ]
     },
     "execution_count": 17,
     "metadata": {},
     "output_type": "execute_result"
    }
   ],
   "source": [
    "multi_fit.all_fitted_models[\"Y~X1\"].tidy()"
   ]
  },
  {
   "cell_type": "markdown",
   "metadata": {},
   "source": [
    "or equivalently via the `fetch_model` method:"
   ]
  },
  {
   "cell_type": "code",
   "execution_count": 18,
   "metadata": {},
   "outputs": [
    {
     "name": "stdout",
     "output_type": "stream",
     "text": [
      "Model:  Y~X1\n"
     ]
    },
    {
     "data": {
      "text/html": [
       "<div>\n",
       "<style scoped>\n",
       "    .dataframe tbody tr th:only-of-type {\n",
       "        vertical-align: middle;\n",
       "    }\n",
       "\n",
       "    .dataframe tbody tr th {\n",
       "        vertical-align: top;\n",
       "    }\n",
       "\n",
       "    .dataframe thead th {\n",
       "        text-align: right;\n",
       "    }\n",
       "</style>\n",
       "<table border=\"1\" class=\"dataframe\">\n",
       "  <thead>\n",
       "    <tr style=\"text-align: right;\">\n",
       "      <th></th>\n",
       "      <th>Estimate</th>\n",
       "      <th>Std. Error</th>\n",
       "      <th>t value</th>\n",
       "      <th>Pr(&gt;|t|)</th>\n",
       "      <th>2.5 %</th>\n",
       "      <th>97.5 %</th>\n",
       "    </tr>\n",
       "    <tr>\n",
       "      <th>Coefficient</th>\n",
       "      <th></th>\n",
       "      <th></th>\n",
       "      <th></th>\n",
       "      <th></th>\n",
       "      <th></th>\n",
       "      <th></th>\n",
       "    </tr>\n",
       "  </thead>\n",
       "  <tbody>\n",
       "    <tr>\n",
       "      <th>Intercept</th>\n",
       "      <td>2.181441</td>\n",
       "      <td>0.090362</td>\n",
       "      <td>24.141261</td>\n",
       "      <td>0.000000e+00</td>\n",
       "      <td>2.004120</td>\n",
       "      <td>2.358762</td>\n",
       "    </tr>\n",
       "    <tr>\n",
       "      <th>X1</th>\n",
       "      <td>0.381912</td>\n",
       "      <td>0.069623</td>\n",
       "      <td>5.485410</td>\n",
       "      <td>5.230771e-08</td>\n",
       "      <td>0.245287</td>\n",
       "      <td>0.518537</td>\n",
       "    </tr>\n",
       "  </tbody>\n",
       "</table>\n",
       "</div>"
      ],
      "text/plain": [
       "             Estimate  Std. Error    t value      Pr(>|t|)     2.5 %    97.5 %\n",
       "Coefficient                                                                   \n",
       "Intercept    2.181441    0.090362  24.141261  0.000000e+00  2.004120  2.358762\n",
       "X1           0.381912    0.069623   5.485410  5.230771e-08  0.245287  0.518537"
      ]
     },
     "execution_count": 18,
     "metadata": {},
     "output_type": "execute_result"
    }
   ],
   "source": [
    "multi_fit.fetch_model(0).tidy()"
   ]
  },
  {
   "cell_type": "markdown",
   "metadata": {},
   "source": [
    "Here, `0` simply fetches the first model stored in the `all_fitted_models` dictionary, `1` the second etc."
   ]
  },
  {
   "cell_type": "markdown",
   "metadata": {},
   "source": [
    "Objects of type `Fixest` come with a range of additional methods: `tidy()`, `coef()`, `vcov()` etc, which \n",
    "essentially loop over the equivalent methods of all fitted models. E.g. `Fixest.vcov()` updates inference for all \n",
    "models stored in `Fixest`."
   ]
  },
  {
   "cell_type": "code",
   "execution_count": 19,
   "metadata": {},
   "outputs": [
    {
     "name": "stdout",
     "output_type": "stream",
     "text": [
      "###\n",
      "\n",
      "Estimation:  OLS\n",
      "Dep. var.: Y\n",
      "Inference:  iid\n",
      "Observations:  998\n",
      "\n",
      "| Coefficient   |   Estimate |   Std. Error |   t value |   Pr(>|t|) |   2.5 % |   97.5 % |\n",
      "|:--------------|-----------:|-------------:|----------:|-----------:|--------:|---------:|\n",
      "| Intercept     |      2.181 |        0.091 |    23.864 |      0.000 |   2.002 |    2.361 |\n",
      "| X1            |      0.382 |        0.069 |     5.504 |      0.000 |   0.246 |    0.518 |\n",
      "---\n",
      "RMSE: 1.765   R2: 0.03\n",
      "###\n",
      "\n",
      "Estimation:  OLS\n",
      "Dep. var.: Y, Fixed effects: f1\n",
      "Inference:  iid\n",
      "Observations:  997\n",
      "\n",
      "| Coefficient   |   Estimate |   Std. Error |   t value |   Pr(>|t|) |   2.5 % |   97.5 % |\n",
      "|:--------------|-----------:|-------------:|----------:|-----------:|--------:|---------:|\n",
      "| X1            |      0.424 |        0.057 |     7.393 |      0.000 |   0.311 |    0.537 |\n",
      "---\n",
      "RMSE: 1.421   R2: 0.371   R2 Within: 0.052\n",
      "###\n",
      "\n",
      "Estimation:  OLS\n",
      "Dep. var.: Y, Fixed effects: f1+f2\n",
      "Inference:  iid\n",
      "Observations:  997\n",
      "\n",
      "| Coefficient   |   Estimate |   Std. Error |   t value |   Pr(>|t|) |   2.5 % |   97.5 % |\n",
      "|:--------------|-----------:|-------------:|----------:|-----------:|--------:|---------:|\n",
      "| X1            |      0.430 |        0.049 |     8.739 |      0.000 |   0.333 |    0.526 |\n",
      "---\n",
      "RMSE: 1.2   R2: 0.552   R2 Within: 0.071\n"
     ]
    }
   ],
   "source": [
    "multi_fit.vcov(\"iid\").summary()"
   ]
  },
  {
   "cell_type": "markdown",
   "metadata": {},
   "source": [
    "If you have estimated multiple models without multiple estimation syntax and still want to compare them, you can use the `etable()` function: "
   ]
  },
  {
   "cell_type": "code",
   "execution_count": 20,
   "metadata": {},
   "outputs": [
    {
     "name": "stdout",
     "output_type": "stream",
     "text": [
      "                          est1              est2\n",
      "------------  ----------------  ----------------\n",
      "depvar                       Y                 Y\n",
      "------------------------------------------------\n",
      "X1            0.424*** (0.076)  0.382*** (0.074)\n",
      "Intercept                       2.181*** (0.086)\n",
      "------------------------------------------------\n",
      "f1                           x                 -\n",
      "------------------------------------------------\n",
      "Observations               997               998\n",
      "S.E. type         by: group_id      by: group_id\n",
      "------------------------------------------------\n",
      "Significance levels: * p < 0.05, ** p < 0.01, *** p < 0.001\n"
     ]
    }
   ],
   "source": [
    "from pyfixest.summarize import etable\n",
    "\n",
    "etable([fit, fit2])"
   ]
  },
  {
   "cell_type": "markdown",
   "metadata": {},
   "source": [
    "## Visualization \n",
    "\n",
    "`PyFixest` provides two functions to visualize the results of a regression: `coefplot` and `iplot`."
   ]
  },
  {
   "cell_type": "code",
   "execution_count": 21,
   "metadata": {},
   "outputs": [
    {
     "data": {
      "text/html": [
       "\n",
       "            <div id=\"hw40sV\"></div>\n",
       "            <script type=\"text/javascript\" data-lets-plot-script=\"library\">\n",
       "                if(!window.letsPlotCallQueue) {\n",
       "                    window.letsPlotCallQueue = [];\n",
       "                }; \n",
       "                window.letsPlotCall = function(f) {\n",
       "                    window.letsPlotCallQueue.push(f);\n",
       "                };\n",
       "                (function() {\n",
       "                    var script = document.createElement(\"script\");\n",
       "                    script.type = \"text/javascript\";\n",
       "                    script.src = \"https://cdn.jsdelivr.net/gh/JetBrains/lets-plot@v4.0.1/js-package/distr/lets-plot.min.js\";\n",
       "                    script.onload = function() {\n",
       "                        window.letsPlotCall = function(f) {f();};\n",
       "                        window.letsPlotCallQueue.forEach(function(f) {f();});\n",
       "                        window.letsPlotCallQueue = [];\n",
       "                        \n",
       "                    };\n",
       "                    script.onerror = function(event) {\n",
       "                        window.letsPlotCall = function(f) {};    // noop\n",
       "                        window.letsPlotCallQueue = [];\n",
       "                        var div = document.createElement(\"div\");\n",
       "                        div.style.color = 'darkred';\n",
       "                        div.textContent = 'Error loading Lets-Plot JS';\n",
       "                        document.getElementById(\"hw40sV\").appendChild(div);\n",
       "                    };\n",
       "                    var e = document.getElementById(\"hw40sV\");\n",
       "                    e.appendChild(script);\n",
       "                })()\n",
       "            </script>\n",
       "            "
      ]
     },
     "metadata": {},
     "output_type": "display_data"
    },
    {
     "data": {
      "text/html": [
       "   <div id=\"bTxBmD\"></div>\n",
       "   <script type=\"text/javascript\" data-lets-plot-script=\"plot\">\n",
       "       (function() {\n",
       "           var plotSpec={\n",
       "\"data\":{\n",
       "\"Model\":[\"Y~X1\",\"Y~X1\",\"Y~X1|f1\",\"Y~X1|f1+f2\"],\n",
       "\"Coefficient\":[\"Intercept\",\"X1\",\"X1\",\"X1\"],\n",
       "\"Estimate\":[2.1814407531423794,0.3819116297643176,0.4240041108913647,0.4298430986670834],\n",
       "\"2.5 %\":[2.002058221347071,0.24574475303348167,0.3114579431152339,0.3333261995501962],\n",
       "\"97.5 %\":[2.360823284937688,0.5180785064951535,0.5365502786674955,0.5263599977839707]\n",
       "},\n",
       "\"mapping\":{\n",
       "\"x\":\"Coefficient\",\n",
       "\"y\":\"Estimate\",\n",
       "\"color\":\"Model\"\n",
       "},\n",
       "\"data_meta\":{\n",
       "},\n",
       "\"coord\":{\n",
       "\"name\":\"flip\",\n",
       "\"flip\":true\n",
       "},\n",
       "\"ggsize\":{\n",
       "\"width\":500.0,\n",
       "\"height\":300.0\n",
       "},\n",
       "\"theme\":{\n",
       "\"axis_text_x\":{\n",
       "\"angle\":0.0,\n",
       "\"blank\":false\n",
       "}\n",
       "},\n",
       "\"kind\":\"plot\",\n",
       "\"scales\":[{\n",
       "\"name\":\"Estimate and 95% Confidence Interval\",\n",
       "\"aesthetic\":\"y\"\n",
       "}],\n",
       "\"layers\":[{\n",
       "\"geom\":\"point\",\n",
       "\"mapping\":{\n",
       "},\n",
       "\"position\":{\n",
       "\"name\":\"dodge\",\n",
       "\"width\":0.5\n",
       "},\n",
       "\"data_meta\":{\n",
       "},\n",
       "\"data\":{\n",
       "}\n",
       "},{\n",
       "\"geom\":\"errorbar\",\n",
       "\"mapping\":{\n",
       "\"ymin\":\"2.5 %\",\n",
       "\"ymax\":\"97.5 %\"\n",
       "},\n",
       "\"position\":{\n",
       "\"name\":\"dodge\",\n",
       "\"width\":0.5\n",
       "},\n",
       "\"data_meta\":{\n",
       "},\n",
       "\"width\":0.05,\n",
       "\"data\":{\n",
       "}\n",
       "},{\n",
       "\"geom\":\"hline\",\n",
       "\"mapping\":{\n",
       "},\n",
       "\"data_meta\":{\n",
       "},\n",
       "\"yintercept\":0.0,\n",
       "\"linetype\":\"dashed\",\n",
       "\"color\":\"red\",\n",
       "\"data\":{\n",
       "}\n",
       "}],\n",
       "\"metainfo_list\":[]\n",
       "};\n",
       "           var plotContainer = document.getElementById(\"bTxBmD\");\n",
       "           window.letsPlotCall(function() {{\n",
       "               LetsPlot.buildPlotFromProcessedSpecs(plotSpec, -1, -1, plotContainer);\n",
       "           }});\n",
       "       })();    \n",
       "   </script>"
      ]
     },
     "metadata": {},
     "output_type": "display_data"
    }
   ],
   "source": [
    "from lets_plot import *\n",
    "\n",
    "LetsPlot.setup_html()\n",
    "\n",
    "multi_fit.coefplot().show()"
   ]
  },
  {
   "cell_type": "markdown",
   "metadata": {},
   "source": [
    "## Difference-in-Differences / Event Study Designs\n",
    "\n",
    "`PyFixest` supports eventy study designs via two-way fixed effects and Gardner's 2-stage estimator. "
   ]
  },
  {
   "cell_type": "code",
   "execution_count": 22,
   "metadata": {},
   "outputs": [
    {
     "name": "stdout",
     "output_type": "stream",
     "text": [
      "\n",
      "      You have loaded the 'pyfixest.experimental' module. Code in this module is not yet stable and\n",
      "      may change in the future. It may also not be sufficiently unit tested (if at all) or documented.\n",
      "      \n"
     ]
    },
    {
     "data": {
      "text/html": [
       "<div>\n",
       "<style scoped>\n",
       "    .dataframe tbody tr th:only-of-type {\n",
       "        vertical-align: middle;\n",
       "    }\n",
       "\n",
       "    .dataframe tbody tr th {\n",
       "        vertical-align: top;\n",
       "    }\n",
       "\n",
       "    .dataframe thead th {\n",
       "        text-align: right;\n",
       "    }\n",
       "</style>\n",
       "<table border=\"1\" class=\"dataframe\">\n",
       "  <thead>\n",
       "    <tr style=\"text-align: right;\">\n",
       "      <th></th>\n",
       "      <th>unit</th>\n",
       "      <th>state</th>\n",
       "      <th>group</th>\n",
       "      <th>unit_fe</th>\n",
       "      <th>g</th>\n",
       "      <th>year</th>\n",
       "      <th>year_fe</th>\n",
       "      <th>treat</th>\n",
       "      <th>rel_year</th>\n",
       "      <th>rel_year_binned</th>\n",
       "      <th>error</th>\n",
       "      <th>te</th>\n",
       "      <th>te_dynamic</th>\n",
       "      <th>dep_var</th>\n",
       "    </tr>\n",
       "  </thead>\n",
       "  <tbody>\n",
       "    <tr>\n",
       "      <th>0</th>\n",
       "      <td>1</td>\n",
       "      <td>33</td>\n",
       "      <td>Group 2</td>\n",
       "      <td>7.043016</td>\n",
       "      <td>2010</td>\n",
       "      <td>1990</td>\n",
       "      <td>0.066159</td>\n",
       "      <td>False</td>\n",
       "      <td>-20.0</td>\n",
       "      <td>-6</td>\n",
       "      <td>-0.086466</td>\n",
       "      <td>0</td>\n",
       "      <td>0.0</td>\n",
       "      <td>7.022709</td>\n",
       "    </tr>\n",
       "    <tr>\n",
       "      <th>1</th>\n",
       "      <td>1</td>\n",
       "      <td>33</td>\n",
       "      <td>Group 2</td>\n",
       "      <td>7.043016</td>\n",
       "      <td>2010</td>\n",
       "      <td>1991</td>\n",
       "      <td>-0.030980</td>\n",
       "      <td>False</td>\n",
       "      <td>-19.0</td>\n",
       "      <td>-6</td>\n",
       "      <td>0.766593</td>\n",
       "      <td>0</td>\n",
       "      <td>0.0</td>\n",
       "      <td>7.778628</td>\n",
       "    </tr>\n",
       "    <tr>\n",
       "      <th>2</th>\n",
       "      <td>1</td>\n",
       "      <td>33</td>\n",
       "      <td>Group 2</td>\n",
       "      <td>7.043016</td>\n",
       "      <td>2010</td>\n",
       "      <td>1992</td>\n",
       "      <td>-0.119607</td>\n",
       "      <td>False</td>\n",
       "      <td>-18.0</td>\n",
       "      <td>-6</td>\n",
       "      <td>1.512968</td>\n",
       "      <td>0</td>\n",
       "      <td>0.0</td>\n",
       "      <td>8.436377</td>\n",
       "    </tr>\n",
       "    <tr>\n",
       "      <th>3</th>\n",
       "      <td>1</td>\n",
       "      <td>33</td>\n",
       "      <td>Group 2</td>\n",
       "      <td>7.043016</td>\n",
       "      <td>2010</td>\n",
       "      <td>1993</td>\n",
       "      <td>0.126321</td>\n",
       "      <td>False</td>\n",
       "      <td>-17.0</td>\n",
       "      <td>-6</td>\n",
       "      <td>0.021870</td>\n",
       "      <td>0</td>\n",
       "      <td>0.0</td>\n",
       "      <td>7.191207</td>\n",
       "    </tr>\n",
       "    <tr>\n",
       "      <th>4</th>\n",
       "      <td>1</td>\n",
       "      <td>33</td>\n",
       "      <td>Group 2</td>\n",
       "      <td>7.043016</td>\n",
       "      <td>2010</td>\n",
       "      <td>1994</td>\n",
       "      <td>-0.106921</td>\n",
       "      <td>False</td>\n",
       "      <td>-16.0</td>\n",
       "      <td>-6</td>\n",
       "      <td>-0.017603</td>\n",
       "      <td>0</td>\n",
       "      <td>0.0</td>\n",
       "      <td>6.918492</td>\n",
       "    </tr>\n",
       "  </tbody>\n",
       "</table>\n",
       "</div>"
      ],
      "text/plain": [
       "   unit  state    group   unit_fe     g  year   year_fe  treat  rel_year  \\\n",
       "0     1     33  Group 2  7.043016  2010  1990  0.066159  False     -20.0   \n",
       "1     1     33  Group 2  7.043016  2010  1991 -0.030980  False     -19.0   \n",
       "2     1     33  Group 2  7.043016  2010  1992 -0.119607  False     -18.0   \n",
       "3     1     33  Group 2  7.043016  2010  1993  0.126321  False     -17.0   \n",
       "4     1     33  Group 2  7.043016  2010  1994 -0.106921  False     -16.0   \n",
       "\n",
       "   rel_year_binned     error  te  te_dynamic   dep_var  \n",
       "0               -6 -0.086466   0         0.0  7.022709  \n",
       "1               -6  0.766593   0         0.0  7.778628  \n",
       "2               -6  1.512968   0         0.0  8.436377  \n",
       "3               -6  0.021870   0         0.0  7.191207  \n",
       "4               -6 -0.017603   0         0.0  6.918492  "
      ]
     },
     "execution_count": 22,
     "metadata": {},
     "output_type": "execute_result"
    }
   ],
   "source": [
    "import pandas as pd\n",
    "import numpy as np\n",
    "from pyfixest.experimental.did import did2s\n",
    "\n",
    "file_path = \"../pyfixest/experimental/data/df_het.csv\"\n",
    "df_het = pd.read_csv(file_path)\n",
    "df_het.head()"
   ]
  },
  {
   "cell_type": "code",
   "execution_count": 23,
   "metadata": {},
   "outputs": [
    {
     "name": "stderr",
     "output_type": "stream",
     "text": [
      "c:\\Users\\alexa\\AppData\\Local\\Programs\\Python\\Python310\\lib\\site-packages\\scipy\\sparse\\linalg\\_dsolve\\linsolve.py:394: SparseEfficiencyWarning: splu converted its input to CSC format\n",
      "  warn('splu converted its input to CSC format', SparseEfficiencyWarning)\n",
      "c:\\Users\\alexa\\AppData\\Local\\Programs\\Python\\Python310\\lib\\site-packages\\scipy\\sparse\\linalg\\_dsolve\\linsolve.py:285: SparseEfficiencyWarning: spsolve is more efficient when sparse b is in the CSC matrix format\n",
      "  warn('spsolve is more efficient when sparse b '\n"
     ]
    },
    {
     "data": {
      "text/html": [
       "   <div id=\"kVvC7Y\"></div>\n",
       "   <script type=\"text/javascript\" data-lets-plot-script=\"plot\">\n",
       "       (function() {\n",
       "           var plotSpec={\n",
       "\"data\":{\n",
       "\"Model\":[\"dep_var_hat~i(rel_year)\",\"dep_var_hat~i(rel_year)\",\"dep_var_hat~i(rel_year)\",\"dep_var_hat~i(rel_year)\",\"dep_var_hat~i(rel_year)\",\"dep_var_hat~i(rel_year)\",\"dep_var_hat~i(rel_year)\",\"dep_var_hat~i(rel_year)\",\"dep_var_hat~i(rel_year)\",\"dep_var_hat~i(rel_year)\",\"dep_var_hat~i(rel_year)\",\"dep_var_hat~i(rel_year)\",\"dep_var_hat~i(rel_year)\",\"dep_var_hat~i(rel_year)\",\"dep_var_hat~i(rel_year)\",\"dep_var_hat~i(rel_year)\",\"dep_var_hat~i(rel_year)\",\"dep_var_hat~i(rel_year)\",\"dep_var_hat~i(rel_year)\",\"dep_var_hat~i(rel_year)\",\"dep_var_hat~i(rel_year)\",\"dep_var_hat~i(rel_year)\",\"dep_var_hat~i(rel_year)\",\"dep_var_hat~i(rel_year)\",\"dep_var_hat~i(rel_year)\",\"dep_var_hat~i(rel_year)\",\"dep_var_hat~i(rel_year)\",\"dep_var_hat~i(rel_year)\",\"dep_var_hat~i(rel_year)\",\"dep_var_hat~i(rel_year)\",\"dep_var_hat~i(rel_year)\",\"dep_var_hat~i(rel_year)\",\"dep_var_hat~i(rel_year)\",\"dep_var_hat~i(rel_year)\",\"dep_var_hat~i(rel_year)\",\"dep_var_hat~i(rel_year)\",\"dep_var_hat~i(rel_year)\",\"dep_var_hat~i(rel_year)\",\"dep_var_hat~i(rel_year)\",\"dep_var_hat~i(rel_year)\",\"dep_var~i(rel_year)|state+year\",\"dep_var~i(rel_year)|state+year\",\"dep_var~i(rel_year)|state+year\",\"dep_var~i(rel_year)|state+year\",\"dep_var~i(rel_year)|state+year\",\"dep_var~i(rel_year)|state+year\",\"dep_var~i(rel_year)|state+year\",\"dep_var~i(rel_year)|state+year\",\"dep_var~i(rel_year)|state+year\",\"dep_var~i(rel_year)|state+year\",\"dep_var~i(rel_year)|state+year\",\"dep_var~i(rel_year)|state+year\",\"dep_var~i(rel_year)|state+year\",\"dep_var~i(rel_year)|state+year\",\"dep_var~i(rel_year)|state+year\",\"dep_var~i(rel_year)|state+year\",\"dep_var~i(rel_year)|state+year\",\"dep_var~i(rel_year)|state+year\",\"dep_var~i(rel_year)|state+year\",\"dep_var~i(rel_year)|state+year\",\"dep_var~i(rel_year)|state+year\",\"dep_var~i(rel_year)|state+year\",\"dep_var~i(rel_year)|state+year\",\"dep_var~i(rel_year)|state+year\",\"dep_var~i(rel_year)|state+year\",\"dep_var~i(rel_year)|state+year\",\"dep_var~i(rel_year)|state+year\",\"dep_var~i(rel_year)|state+year\",\"dep_var~i(rel_year)|state+year\",\"dep_var~i(rel_year)|state+year\",\"dep_var~i(rel_year)|state+year\",\"dep_var~i(rel_year)|state+year\",\"dep_var~i(rel_year)|state+year\",\"dep_var~i(rel_year)|state+year\",\"dep_var~i(rel_year)|state+year\",\"dep_var~i(rel_year)|state+year\",\"dep_var~i(rel_year)|state+year\",\"dep_var~i(rel_year)|state+year\",\"dep_var~i(rel_year)|state+year\",\"dep_var~i(rel_year)|state+year\"],\n",
       "\"Coefficient\":[\"C(rel_year,contr.treatment(base=-1.0))[T.-20.0]\",\"C(rel_year,contr.treatment(base=-1.0))[T.-19.0]\",\"C(rel_year,contr.treatment(base=-1.0))[T.-18.0]\",\"C(rel_year,contr.treatment(base=-1.0))[T.-17.0]\",\"C(rel_year,contr.treatment(base=-1.0))[T.-16.0]\",\"C(rel_year,contr.treatment(base=-1.0))[T.-15.0]\",\"C(rel_year,contr.treatment(base=-1.0))[T.-14.0]\",\"C(rel_year,contr.treatment(base=-1.0))[T.-13.0]\",\"C(rel_year,contr.treatment(base=-1.0))[T.-12.0]\",\"C(rel_year,contr.treatment(base=-1.0))[T.-11.0]\",\"C(rel_year,contr.treatment(base=-1.0))[T.-10.0]\",\"C(rel_year,contr.treatment(base=-1.0))[T.-9.0]\",\"C(rel_year,contr.treatment(base=-1.0))[T.-8.0]\",\"C(rel_year,contr.treatment(base=-1.0))[T.-7.0]\",\"C(rel_year,contr.treatment(base=-1.0))[T.-6.0]\",\"C(rel_year,contr.treatment(base=-1.0))[T.-5.0]\",\"C(rel_year,contr.treatment(base=-1.0))[T.-4.0]\",\"C(rel_year,contr.treatment(base=-1.0))[T.-3.0]\",\"C(rel_year,contr.treatment(base=-1.0))[T.-2.0]\",\"C(rel_year,contr.treatment(base=-1.0))[T.0.0]\",\"C(rel_year,contr.treatment(base=-1.0))[T.1.0]\",\"C(rel_year,contr.treatment(base=-1.0))[T.2.0]\",\"C(rel_year,contr.treatment(base=-1.0))[T.3.0]\",\"C(rel_year,contr.treatment(base=-1.0))[T.4.0]\",\"C(rel_year,contr.treatment(base=-1.0))[T.5.0]\",\"C(rel_year,contr.treatment(base=-1.0))[T.6.0]\",\"C(rel_year,contr.treatment(base=-1.0))[T.7.0]\",\"C(rel_year,contr.treatment(base=-1.0))[T.8.0]\",\"C(rel_year,contr.treatment(base=-1.0))[T.9.0]\",\"C(rel_year,contr.treatment(base=-1.0))[T.10.0]\",\"C(rel_year,contr.treatment(base=-1.0))[T.11.0]\",\"C(rel_year,contr.treatment(base=-1.0))[T.12.0]\",\"C(rel_year,contr.treatment(base=-1.0))[T.13.0]\",\"C(rel_year,contr.treatment(base=-1.0))[T.14.0]\",\"C(rel_year,contr.treatment(base=-1.0))[T.15.0]\",\"C(rel_year,contr.treatment(base=-1.0))[T.16.0]\",\"C(rel_year,contr.treatment(base=-1.0))[T.17.0]\",\"C(rel_year,contr.treatment(base=-1.0))[T.18.0]\",\"C(rel_year,contr.treatment(base=-1.0))[T.19.0]\",\"C(rel_year,contr.treatment(base=-1.0))[T.20.0]\",\"C(rel_year,contr.treatment(base=-1.0))[T.-20.0]\",\"C(rel_year,contr.treatment(base=-1.0))[T.-19.0]\",\"C(rel_year,contr.treatment(base=-1.0))[T.-18.0]\",\"C(rel_year,contr.treatment(base=-1.0))[T.-17.0]\",\"C(rel_year,contr.treatment(base=-1.0))[T.-16.0]\",\"C(rel_year,contr.treatment(base=-1.0))[T.-15.0]\",\"C(rel_year,contr.treatment(base=-1.0))[T.-14.0]\",\"C(rel_year,contr.treatment(base=-1.0))[T.-13.0]\",\"C(rel_year,contr.treatment(base=-1.0))[T.-12.0]\",\"C(rel_year,contr.treatment(base=-1.0))[T.-11.0]\",\"C(rel_year,contr.treatment(base=-1.0))[T.-10.0]\",\"C(rel_year,contr.treatment(base=-1.0))[T.-9.0]\",\"C(rel_year,contr.treatment(base=-1.0))[T.-8.0]\",\"C(rel_year,contr.treatment(base=-1.0))[T.-7.0]\",\"C(rel_year,contr.treatment(base=-1.0))[T.-6.0]\",\"C(rel_year,contr.treatment(base=-1.0))[T.-5.0]\",\"C(rel_year,contr.treatment(base=-1.0))[T.-4.0]\",\"C(rel_year,contr.treatment(base=-1.0))[T.-3.0]\",\"C(rel_year,contr.treatment(base=-1.0))[T.-2.0]\",\"C(rel_year,contr.treatment(base=-1.0))[T.0.0]\",\"C(rel_year,contr.treatment(base=-1.0))[T.1.0]\",\"C(rel_year,contr.treatment(base=-1.0))[T.2.0]\",\"C(rel_year,contr.treatment(base=-1.0))[T.3.0]\",\"C(rel_year,contr.treatment(base=-1.0))[T.4.0]\",\"C(rel_year,contr.treatment(base=-1.0))[T.5.0]\",\"C(rel_year,contr.treatment(base=-1.0))[T.6.0]\",\"C(rel_year,contr.treatment(base=-1.0))[T.7.0]\",\"C(rel_year,contr.treatment(base=-1.0))[T.8.0]\",\"C(rel_year,contr.treatment(base=-1.0))[T.9.0]\",\"C(rel_year,contr.treatment(base=-1.0))[T.10.0]\",\"C(rel_year,contr.treatment(base=-1.0))[T.11.0]\",\"C(rel_year,contr.treatment(base=-1.0))[T.12.0]\",\"C(rel_year,contr.treatment(base=-1.0))[T.13.0]\",\"C(rel_year,contr.treatment(base=-1.0))[T.14.0]\",\"C(rel_year,contr.treatment(base=-1.0))[T.15.0]\",\"C(rel_year,contr.treatment(base=-1.0))[T.16.0]\",\"C(rel_year,contr.treatment(base=-1.0))[T.17.0]\",\"C(rel_year,contr.treatment(base=-1.0))[T.18.0]\",\"C(rel_year,contr.treatment(base=-1.0))[T.19.0]\",\"C(rel_year,contr.treatment(base=-1.0))[T.20.0]\"],\n",
       "\"Estimate\":[-0.07930892379170715,-0.02711530987324645,-0.027235435350764604,-0.03361637397575999,-0.05578068831093985,0.01674513656446697,-0.020869937444561407,-0.022209824688846917,0.00544707327478019,-0.04792474874869792,-0.032478559342959595,-0.03751722264066758,-0.03085694264432183,-0.007104690258118021,-0.039598001783395204,-0.07918308610819624,-0.03422655342074967,-0.015214092720010595,-0.038687531424548345,1.3044622847590663,1.533486047693671,1.5971037484422883,1.7188473091801473,1.8462967066123772,1.9905872778860922,2.0788829001715436,2.1653995661371646,2.258950448012608,2.277763076406236,2.4147668193865734,2.4563352194604433,2.5072957344947375,2.481401513052385,2.626326070707077,2.8126319507465785,2.7626823798588394,2.8113003934115035,2.777035404391758,2.786164475469506,2.814858243218984,-0.22734633251765932,-0.1272771153120834,-0.12377586910077777,-0.10600154982799846,-0.16483404411584465,-0.05832279692206301,-0.09016621211716043,-0.06612149191298733,-0.03798793061956069,-0.06754151202395557,-0.24090366482529513,-0.19709324724153146,-0.1891581332157053,-0.1298910510591649,-0.1836784148484193,-0.19287730206073042,-0.13771857992925798,-0.0815305402211019,-0.11192130722830132,1.2785435159225225,1.5326991532775687,1.6009373186906826,1.7269862607998652,1.8308233429101133,1.9543085484330123,2.0632092597184877,2.1512201071686015,2.23674070413228,2.2791251321914157,2.521420534475568,2.6257723446465353,2.6861169473375615,2.628251123752844,2.7356084947528356,2.858833818643327,2.8352136897066123,2.844777894224179,2.807232802122714,2.8081621821794,2.851883708420042],\n",
       "\"2.5 %\":[-0.16956009129324529,-0.13130815604198642,-0.12259738219920244,-0.11756451630107546,-0.1594322241664388,-0.08271384501074824,-0.11742994686643358,-0.10020049055235927,-0.08409592787927839,-0.16435158421433974,-0.09941164456393811,-0.09715638902117162,-0.09367244143565662,-0.0783213936449981,-0.09281052910308848,-0.1388263127314339,-0.08904078725047826,-0.07493744178711444,-0.1020224018064744,1.1945943466366218,1.40728362502748,1.4860049541612093,1.6001299023938702,1.7528192640216589,1.8801608388053463,1.9527955115427071,2.05083796683395,2.145342028402031,2.1733000689115616,2.2970296208885306,2.2958801506363242,2.35099437907472,2.315656867723913,2.489639041115562,2.6504947368999923,2.6011041420023724,2.655735406522673,2.6167621025362164,2.609418196922358,2.652084779734768,-0.41835234678585803,-0.3348536090653791,-0.31734468879636096,-0.28538047233394737,-0.3759363204064433,-0.25129599132604946,-0.2824539551123869,-0.23049548638024436,-0.20884854788249646,-0.2556242102679864,-0.39812183801104584,-0.33055175249792834,-0.33043959200876427,-0.286398085172976,-0.3153550129578754,-0.326460416118722,-0.26076590707324954,-0.22279806864569876,-0.2389947756329739,1.1425949792170855,1.3821962851103922,1.4800248877728912,1.5876806679251547,1.718482840270004,1.8228490095869487,1.9146676837813423,2.0105204921269295,2.0995591034099332,2.17455094502644,2.3938558899523463,2.4491911684724914,2.5298743417406335,2.445545445279106,2.5747538383715662,2.67455882286333,2.6512960000258317,2.669990129775669,2.6314491363009735,2.635127852241938,2.6761322982214155],\n",
       "\"97.5 %\":[0.010942243709830976,0.07707753629549353,0.06812651149767324,0.05033176834955548,0.047870847544559086,0.11620411813968218,0.07569007197731077,0.055780841174665446,0.09499007442883878,0.06850208671694391,0.03445452587801892,0.02212194373983646,0.031958556147012956,0.06411201312876205,0.013614525536298078,-0.0195398594849586,0.020587680408978917,0.04450925634709324,0.024647338957377703,1.414330222881511,1.6596884703598618,1.7082025427233674,1.8375647159664243,1.9397741492030955,2.1010137169668384,2.2049702888003804,2.2799611654403793,2.372558867623185,2.382226083900911,2.5325040178846163,2.6167902882845624,2.663597089914755,2.647146158380857,2.7630131002985916,2.9747691645931646,2.9242606177153063,2.966865380300334,2.9373087062472996,2.9629107540166535,2.9776317067032,-0.0363403182494606,0.08029937844121227,0.06979295059480543,0.07337737267795043,0.04626823217475398,0.13465039748192345,0.10212153087806604,0.0982525025542697,0.1328726866433751,0.12054118622007524,-0.08368549163954445,-0.06363474198513455,-0.04787667442264629,0.026615983054646186,-0.052001816738963175,-0.059294188002738835,-0.014671252785266417,0.05973698820349496,0.015152161176371248,1.4144920526279594,1.6832020214447452,1.721849749608474,1.8662918536745756,1.9431638455502225,2.085768087279076,2.211750835655633,2.2919197222102734,2.373922304854627,2.383699319356391,2.6489851789987893,2.802353520820579,2.8423595529344894,2.810956802226582,2.896463151134105,3.043108814423324,3.019131379387393,3.0195656586726884,2.9830164679444544,2.9811965121168615,3.0276351186186687]\n",
       "},\n",
       "\"mapping\":{\n",
       "\"x\":\"Coefficient\",\n",
       "\"y\":\"Estimate\",\n",
       "\"color\":\"Model\"\n",
       "},\n",
       "\"data_meta\":{\n",
       "},\n",
       "\"ggsize\":{\n",
       "\"width\":900.0,\n",
       "\"height\":400.0\n",
       "},\n",
       "\"theme\":{\n",
       "\"axis_text_x\":{\n",
       "\"angle\":0.0,\n",
       "\"blank\":false\n",
       "}\n",
       "},\n",
       "\"ggtitle\":{\n",
       "\"text\":\"TWFE vs DID2S\"\n",
       "},\n",
       "\"kind\":\"plot\",\n",
       "\"scales\":[{\n",
       "\"name\":\"Estimate and 95% Confidence Interval\",\n",
       "\"aesthetic\":\"y\"\n",
       "}],\n",
       "\"layers\":[{\n",
       "\"geom\":\"point\",\n",
       "\"mapping\":{\n",
       "},\n",
       "\"position\":{\n",
       "\"name\":\"dodge\",\n",
       "\"width\":0.5\n",
       "},\n",
       "\"data_meta\":{\n",
       "},\n",
       "\"data\":{\n",
       "}\n",
       "},{\n",
       "\"geom\":\"errorbar\",\n",
       "\"mapping\":{\n",
       "\"ymin\":\"2.5 %\",\n",
       "\"ymax\":\"97.5 %\"\n",
       "},\n",
       "\"position\":{\n",
       "\"name\":\"dodge\",\n",
       "\"width\":0.5\n",
       "},\n",
       "\"data_meta\":{\n",
       "},\n",
       "\"width\":0.05,\n",
       "\"data\":{\n",
       "}\n",
       "}],\n",
       "\"metainfo_list\":[]\n",
       "};\n",
       "           var plotContainer = document.getElementById(\"kVvC7Y\");\n",
       "           window.letsPlotCall(function() {{\n",
       "               LetsPlot.buildPlotFromProcessedSpecs(plotSpec, -1, -1, plotContainer);\n",
       "           }});\n",
       "       })();    \n",
       "   </script>"
      ],
      "text/plain": [
       "<lets_plot.plot.core.PlotSpec at 0x257cab36980>"
      ]
     },
     "execution_count": 23,
     "metadata": {},
     "output_type": "execute_result"
    }
   ],
   "source": [
    "fit_did2s = did2s(\n",
    "    df_het,\n",
    "    yname=\"dep_var\",\n",
    "    first_stage=\"~ 0 | state + year\",\n",
    "    second_stage=\"~i(rel_year)\",\n",
    "    treatment=\"treat\",\n",
    "    cluster=\"state\",\n",
    "    i_ref1=[-1.0, np.inf],\n",
    ")\n",
    "\n",
    "fit_twfe = feols(\n",
    "    \"dep_var ~ i(rel_year) | state + year\",\n",
    "    df_het,\n",
    "    i_ref1=[-1.0, np.inf],\n",
    "    vcov={\"CRV1\": \"state\"},\n",
    ")\n",
    "\n",
    "iplot(\n",
    "    [fit_did2s, fit_twfe], coord_flip=False, figsize=(900, 400), title=\"TWFE vs DID2S\"\n",
    ")"
   ]
  },
  {
   "cell_type": "markdown",
   "metadata": {},
   "source": [
    "The `event_study()` function provides a common API for several event study estimators."
   ]
  },
  {
   "cell_type": "code",
   "execution_count": 24,
   "metadata": {},
   "outputs": [
    {
     "name": "stdout",
     "output_type": "stream",
     "text": [
      "                          est1              est2\n",
      "------------  ----------------  ----------------\n",
      "depvar                 dep_var       dep_var_hat\n",
      "------------------------------------------------\n",
      "ATT           2.135*** (0.044)  2.152*** (0.048)\n",
      "------------------------------------------------\n",
      "state                        x                 -\n",
      "year                         x                 -\n",
      "------------------------------------------------\n",
      "Observations             46500             46500\n",
      "S.E. type            by: state              CRV1\n",
      "------------------------------------------------\n",
      "Significance levels: * p < 0.05, ** p < 0.01, *** p < 0.001\n"
     ]
    }
   ],
   "source": [
    "from pyfixest.experimental.did import event_study\n",
    "from pyfixest.summarize import etable\n",
    "\n",
    "fit_twfe = event_study(\n",
    "    data=df_het,\n",
    "    yname=\"dep_var\",\n",
    "    idname=\"state\",\n",
    "    tname=\"year\",\n",
    "    gname=\"g\",\n",
    "    estimator=\"twfe\",\n",
    ")\n",
    "\n",
    "fit_did2s = event_study(\n",
    "    data=df_het,\n",
    "    yname=\"dep_var\",\n",
    "    idname=\"state\",\n",
    "    tname=\"year\",\n",
    "    gname=\"g\",\n",
    "    estimator=\"did2s\",\n",
    ")\n",
    "\n",
    "etable([fit_twfe, fit_did2s])"
   ]
  },
  {
   "cell_type": "markdown",
   "metadata": {},
   "source": []
  }
 ],
 "metadata": {
  "kernelspec": {
   "display_name": "Python 3",
   "language": "python",
   "name": "python3"
  },
  "language_info": {
   "codemirror_mode": {
    "name": "ipython",
    "version": 3
   },
   "file_extension": ".py",
   "mimetype": "text/x-python",
   "name": "python",
   "nbconvert_exporter": "python",
   "pygments_lexer": "ipython3",
   "version": "3.10.8"
  },
  "orig_nbformat": 4
 },
 "nbformat": 4,
 "nbformat_minor": 2
}
