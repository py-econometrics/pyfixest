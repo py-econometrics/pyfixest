{
 "cells": [
  {
   "cell_type": "markdown",
   "metadata": {},
   "source": [
    "# Getting Started with PyFixest\n",
    "\n",
    "In a first step, we load the module and some example data:"
   ]
  },
  {
   "cell_type": "code",
   "execution_count": 29,
   "metadata": {},
   "outputs": [
    {
     "name": "stdout",
     "output_type": "stream",
     "text": [
      "The autoreload extension is already loaded. To reload it, use:\n",
      "  %reload_ext autoreload\n"
     ]
    }
   ],
   "source": [
    "%load_ext autoreload\n",
    "%autoreload 2\n",
    "\n",
    "from pyfixest.estimation import feols, fepois\n",
    "from pyfixest.summarize import summary, etable\n",
    "from pyfixest.visualize import coefplot, iplot\n",
    "from pyfixest.utils import get_data"
   ]
  },
  {
   "cell_type": "code",
   "execution_count": 30,
   "metadata": {},
   "outputs": [
    {
     "data": {
      "text/html": [
       "<div>\n",
       "<style scoped>\n",
       "    .dataframe tbody tr th:only-of-type {\n",
       "        vertical-align: middle;\n",
       "    }\n",
       "\n",
       "    .dataframe tbody tr th {\n",
       "        vertical-align: top;\n",
       "    }\n",
       "\n",
       "    .dataframe thead th {\n",
       "        text-align: right;\n",
       "    }\n",
       "</style>\n",
       "<table border=\"1\" class=\"dataframe\">\n",
       "  <thead>\n",
       "    <tr style=\"text-align: right;\">\n",
       "      <th></th>\n",
       "      <th>Y</th>\n",
       "      <th>Y2</th>\n",
       "      <th>X1</th>\n",
       "      <th>X2</th>\n",
       "      <th>f1</th>\n",
       "      <th>f2</th>\n",
       "      <th>f3</th>\n",
       "      <th>group_id</th>\n",
       "      <th>Z1</th>\n",
       "      <th>Z2</th>\n",
       "    </tr>\n",
       "  </thead>\n",
       "  <tbody>\n",
       "    <tr>\n",
       "      <th>0</th>\n",
       "      <td>NaN</td>\n",
       "      <td>-9.534190</td>\n",
       "      <td>1.0</td>\n",
       "      <td>0.457858</td>\n",
       "      <td>9.0</td>\n",
       "      <td>15.0</td>\n",
       "      <td>0.0</td>\n",
       "      <td>1.0</td>\n",
       "      <td>-2.294594</td>\n",
       "      <td>0.644690</td>\n",
       "    </tr>\n",
       "    <tr>\n",
       "      <th>1</th>\n",
       "      <td>3.221964</td>\n",
       "      <td>-2.835142</td>\n",
       "      <td>NaN</td>\n",
       "      <td>-4.998406</td>\n",
       "      <td>8.0</td>\n",
       "      <td>6.0</td>\n",
       "      <td>9.0</td>\n",
       "      <td>11.0</td>\n",
       "      <td>NaN</td>\n",
       "      <td>-3.706959</td>\n",
       "    </tr>\n",
       "    <tr>\n",
       "      <th>2</th>\n",
       "      <td>1.449755</td>\n",
       "      <td>-3.721375</td>\n",
       "      <td>1.0</td>\n",
       "      <td>1.558480</td>\n",
       "      <td>NaN</td>\n",
       "      <td>11.0</td>\n",
       "      <td>0.0</td>\n",
       "      <td>18.0</td>\n",
       "      <td>0.543363</td>\n",
       "      <td>2.102921</td>\n",
       "    </tr>\n",
       "    <tr>\n",
       "      <th>3</th>\n",
       "      <td>4.443920</td>\n",
       "      <td>13.960173</td>\n",
       "      <td>0.0</td>\n",
       "      <td>1.560402</td>\n",
       "      <td>15.0</td>\n",
       "      <td>1.0</td>\n",
       "      <td>4.0</td>\n",
       "      <td>15.0</td>\n",
       "      <td>-1.593905</td>\n",
       "      <td>2.193772</td>\n",
       "    </tr>\n",
       "    <tr>\n",
       "      <th>4</th>\n",
       "      <td>0.825537</td>\n",
       "      <td>-6.936620</td>\n",
       "      <td>1.0</td>\n",
       "      <td>-3.472232</td>\n",
       "      <td>20.0</td>\n",
       "      <td>19.0</td>\n",
       "      <td>9.0</td>\n",
       "      <td>5.0</td>\n",
       "      <td>1.482674</td>\n",
       "      <td>-3.239027</td>\n",
       "    </tr>\n",
       "  </tbody>\n",
       "</table>\n",
       "</div>"
      ],
      "text/plain": [
       "          Y         Y2   X1        X2  ...   f3  group_id        Z1        Z2\n",
       "0       NaN  -9.534190  1.0  0.457858  ...  0.0       1.0 -2.294594  0.644690\n",
       "1  3.221964  -2.835142  NaN -4.998406  ...  9.0      11.0       NaN -3.706959\n",
       "2  1.449755  -3.721375  1.0  1.558480  ...  0.0      18.0  0.543363  2.102921\n",
       "3  4.443920  13.960173  0.0  1.560402  ...  4.0      15.0 -1.593905  2.193772\n",
       "4  0.825537  -6.936620  1.0 -3.472232  ...  9.0       5.0  1.482674 -3.239027\n",
       "\n",
       "[5 rows x 10 columns]"
      ]
     },
     "execution_count": 30,
     "metadata": {},
     "output_type": "execute_result"
    }
   ],
   "source": [
    "data = get_data()\n",
    "data.head()"
   ]
  },
  {
   "cell_type": "markdown",
   "metadata": {},
   "source": [
    "## OLS Estimation"
   ]
  },
  {
   "cell_type": "markdown",
   "metadata": {},
   "source": [
    "We can estimate a fixed effects regression via the `feols()` function. `feols()` has three arguments: a two-sided model formula, the data, and optionally, the type of inference."
   ]
  },
  {
   "cell_type": "code",
   "execution_count": 31,
   "metadata": {},
   "outputs": [
    {
     "data": {
      "text/plain": [
       "pyfixest.feols.Feols"
      ]
     },
     "execution_count": 31,
     "metadata": {},
     "output_type": "execute_result"
    }
   ],
   "source": [
    "fit = feols(fml=\"Y~X1 | f1\", data=data, vcov=\"HC1\")\n",
    "type(fit)"
   ]
  },
  {
   "cell_type": "markdown",
   "metadata": {},
   "source": [
    "The first part of the formula contains the dependent variable and \"regular\" covariates, while the second part contains fixed effects.\n",
    "\n",
    "`feols()` returns an instance of the `Fixest` class."
   ]
  },
  {
   "cell_type": "markdown",
   "metadata": {},
   "source": [
    "To inspect the results, we can use a summary function or method:"
   ]
  },
  {
   "cell_type": "code",
   "execution_count": 32,
   "metadata": {},
   "outputs": [
    {
     "name": "stdout",
     "output_type": "stream",
     "text": [
      "###\n",
      "\n",
      "Estimation:  OLS\n",
      "Dep. var.: Y, Fixed effects: f1\n",
      "Inference:  HC1\n",
      "Observations:  997\n",
      "\n",
      "| Coefficient   |   Estimate |   Std. Error |   t value |   Pr(>|t|) |   2.5 % |   97.5 % |\n",
      "|:--------------|-----------:|-------------:|----------:|-----------:|--------:|---------:|\n",
      "| X1            |      0.271 |        0.056 |     4.812 |      0.000 |   0.161 |    0.382 |\n",
      "---\n",
      "RMSE: 1.42  Adj. R2: 0.022  Adj. R2 Within: 0.022\n"
     ]
    }
   ],
   "source": [
    "fit.summary()"
   ]
  },
  {
   "cell_type": "markdown",
   "metadata": {},
   "source": [
    "Alternatively, the `.summarize` module contains a `summary` function, which can be applied on instances of regression model objects \n",
    "or lists of regression model objects. "
   ]
  },
  {
   "cell_type": "code",
   "execution_count": 33,
   "metadata": {},
   "outputs": [
    {
     "name": "stdout",
     "output_type": "stream",
     "text": [
      "###\n",
      "\n",
      "Estimation:  OLS\n",
      "Dep. var.: Y, Fixed effects: f1\n",
      "Inference:  HC1\n",
      "Observations:  997\n",
      "\n",
      "| Coefficient   |   Estimate |   Std. Error |   t value |   Pr(>|t|) |   2.5 % |   97.5 % |\n",
      "|:--------------|-----------:|-------------:|----------:|-----------:|--------:|---------:|\n",
      "| X1            |      0.271 |        0.056 |     4.812 |      0.000 |   0.161 |    0.382 |\n",
      "---\n",
      "RMSE: 1.42  Adj. R2: 0.022  Adj. R2 Within: 0.022\n"
     ]
    }
   ],
   "source": [
    "summary(fit)"
   ]
  },
  {
   "cell_type": "markdown",
   "metadata": {},
   "source": [
    "You can access individual elements of the summary via dedicated methods: `.tidy()` returns a \"tidy\" `pd.DataFrame`, \n",
    "`.coef()` returns estimated parameters, and `se()` estimated standard errors. Other methods include `pvalue()`, `confint()`\n",
    "and `tstat()`."
   ]
  },
  {
   "cell_type": "code",
   "execution_count": 34,
   "metadata": {},
   "outputs": [
    {
     "data": {
      "text/plain": [
       "Coefficient\n",
       "X1    0.271127\n",
       "Name: Estimate, dtype: float64"
      ]
     },
     "execution_count": 34,
     "metadata": {},
     "output_type": "execute_result"
    }
   ],
   "source": [
    "fit.coef()"
   ]
  },
  {
   "cell_type": "code",
   "execution_count": 35,
   "metadata": {},
   "outputs": [
    {
     "data": {
      "text/plain": [
       "Coefficient\n",
       "X1    0.056346\n",
       "Name: Std. Error, dtype: float64"
      ]
     },
     "execution_count": 35,
     "metadata": {},
     "output_type": "execute_result"
    }
   ],
   "source": [
    "fit.se()"
   ]
  },
  {
   "cell_type": "markdown",
   "metadata": {},
   "source": [
    "## Standard Errors and Inference"
   ]
  },
  {
   "cell_type": "markdown",
   "metadata": {},
   "source": [
    "Supported covariance types are \"iid\", \"HC1-3\", CRV1 and CRV3 (up to two-way clustering). Inference can be adjusted \"on-the-fly\" via the\n",
    "`.vcov()` method:"
   ]
  },
  {
   "cell_type": "code",
   "execution_count": 36,
   "metadata": {},
   "outputs": [
    {
     "name": "stdout",
     "output_type": "stream",
     "text": [
      "###\n",
      "\n",
      "Estimation:  OLS\n",
      "Dep. var.: Y, Fixed effects: f1\n",
      "Inference:  CRV1\n",
      "Observations:  997\n",
      "\n",
      "| Coefficient   |   Estimate |   Std. Error |   t value |   Pr(>|t|) |   2.5 % |   97.5 % |\n",
      "|:--------------|-----------:|-------------:|----------:|-----------:|--------:|---------:|\n",
      "| X1            |      0.271 |        0.029 |     9.279 |      0.000 |   0.210 |    0.333 |\n",
      "---\n",
      "RMSE: 1.42  Adj. R2: 0.022  Adj. R2 Within: 0.022\n",
      "###\n",
      "\n",
      "Estimation:  OLS\n",
      "Dep. var.: Y, Fixed effects: f1\n",
      "Inference:  CRV3\n",
      "Observations:  997\n",
      "\n",
      "| Coefficient   |   Estimate |   Std. Error |   t value |   Pr(>|t|) |   2.5 % |   97.5 % |\n",
      "|:--------------|-----------:|-------------:|----------:|-----------:|--------:|---------:|\n",
      "| X1            |      0.271 |        0.044 |     6.137 |      0.000 |   0.178 |    0.364 |\n",
      "---\n",
      "RMSE: 1.42  Adj. R2: 0.022  Adj. R2 Within: 0.022\n"
     ]
    }
   ],
   "source": [
    "fit.vcov({\"CRV1\": \"group_id + f1\"}).summary()\n",
    "fit.vcov({\"CRV3\": \"group_id\"}).summary()"
   ]
  },
  {
   "cell_type": "markdown",
   "metadata": {},
   "source": [
    "It is also possible to run a wild (cluster) bootstrap after estimation (via the [wildboottest module](https://github.com/s3alfisc/wildboottest)):"
   ]
  },
  {
   "cell_type": "code",
   "execution_count": 37,
   "metadata": {},
   "outputs": [
    {
     "data": {
      "text/plain": [
       "param                            X1\n",
       "t value                    6.267915\n",
       "Pr(>|t|)                        0.0\n",
       "bootstrap_type                   11\n",
       "inference         CRV(['group_id'])\n",
       "impose_null                    True\n",
       "dtype: object"
      ]
     },
     "execution_count": 37,
     "metadata": {},
     "output_type": "execute_result"
    }
   ],
   "source": [
    "fit2 = feols(fml=\"Y~ X1\", data=data, vcov={\"CRV1\": \"group_id\"})\n",
    "fit2.wildboottest(param=\"X1\", B=999)"
   ]
  },
  {
   "cell_type": "markdown",
   "metadata": {},
   "source": [
    "Note that the wild bootstrap currently does not support fixed effects in the regression model. Supporting fixed effects is work in progress.\n",
    "\n",
    "## IV Estimation \n",
    "\n",
    "It is also possible to estimate instrumental variable models with *one* endogenous variable and (potentially multiple) instruments:"
   ]
  },
  {
   "cell_type": "code",
   "execution_count": 38,
   "metadata": {},
   "outputs": [
    {
     "name": "stdout",
     "output_type": "stream",
     "text": [
      "###\n",
      "\n",
      "Estimation:  IV\n",
      "Dep. var.: Y2, Fixed effects: f1+f2\n",
      "Inference:  CRV1\n",
      "Observations:  998\n",
      "\n",
      "| Coefficient   |   Estimate |   Std. Error |   t value |   Pr(>|t|) |   2.5 % |   97.5 % |\n",
      "|:--------------|-----------:|-------------:|----------:|-----------:|--------:|---------:|\n",
      "| X1            |      0.301 |        0.332 |     0.906 |      0.372 |  -0.379 |    0.981 |\n",
      "---\n"
     ]
    }
   ],
   "source": [
    "iv_fit = feols(fml=\"Y2~ 1 | f1 + f2 | X1 ~ Z1 + Z2\", data=data)\n",
    "iv_fit.summary()"
   ]
  },
  {
   "cell_type": "markdown",
   "metadata": {},
   "source": [
    "If the model does not contain any fixed effects, just drop the second part of the formula above:"
   ]
  },
  {
   "cell_type": "code",
   "execution_count": 39,
   "metadata": {},
   "outputs": [
    {
     "name": "stdout",
     "output_type": "stream",
     "text": [
      "###\n",
      "\n",
      "Estimation:  IV\n",
      "Dep. var.: Y\n",
      "Inference:  iid\n",
      "Observations:  998\n",
      "\n",
      "| Coefficient   |   Estimate |   Std. Error |   t value |   Pr(>|t|) |   2.5 % |   97.5 % |\n",
      "|:--------------|-----------:|-------------:|----------:|-----------:|--------:|---------:|\n",
      "| Intercept     |      2.198 |        0.121 |    18.133 |      0.000 |   1.960 |    2.436 |\n",
      "| X1            |      0.366 |        0.107 |     3.437 |      0.001 |   0.157 |    0.575 |\n",
      "---\n"
     ]
    }
   ],
   "source": [
    "feols(fml=\"Y~ 1 | X1 ~ Z1 + Z2\", data=data).summary()"
   ]
  },
  {
   "cell_type": "markdown",
   "metadata": {},
   "source": [
    "IV estimation with multiple endogenous variables and multiple estimation syntax is currently not supported. The syntax is \"depvar ~ exog.vars | fixef effects | endog.vars ~ instruments\"."
   ]
  },
  {
   "cell_type": "markdown",
   "metadata": {},
   "source": [
    "## Poisson Regression \n",
    "\n",
    "With version `0.8.4`, it is possible to estimate Poisson Regressions (not yet on PyPi): "
   ]
  },
  {
   "cell_type": "code",
   "execution_count": 40,
   "metadata": {},
   "outputs": [
    {
     "name": "stdout",
     "output_type": "stream",
     "text": [
      "###\n",
      "\n",
      "Estimation:  Poisson\n",
      "Dep. var.: Y, Fixed effects: f1+f2\n",
      "Inference:  CRV1\n",
      "Observations:  997\n",
      "\n",
      "| Coefficient   |   Estimate |   Std. Error |   t value |   Pr(>|t|) |   2.5 % |   97.5 % |\n",
      "|:--------------|-----------:|-------------:|----------:|-----------:|--------:|---------:|\n",
      "| X1            |     -0.008 |        0.045 |    -0.177 |      0.859 |  -0.097 |    0.081 |\n",
      "---\n",
      "Deviance: 1068.008\n"
     ]
    }
   ],
   "source": [
    "from pyfixest.utils import get_data\n",
    "\n",
    "pois_data = get_data(model=\"Fepois\")\n",
    "pois_fit = fepois(fml=\"Y~X1 | f1+f2\", data=pois_data, vcov={\"CRV1\": \"group_id\"})\n",
    "pois_fit.summary()"
   ]
  },
  {
   "cell_type": "markdown",
   "metadata": {},
   "source": [
    "## Multiple Estimation \n",
    "\n",
    "`PyFixest` supports a range of multiple estimation functionality: `sw`, `sw0`, `csw`, `csw0`, and multiple dependent variables. If multiple regression syntax is used, \n",
    "`feols()` and `fepois` returns an instance of a `FixestMulti` object, which essentially consists of a dicionary of `Fepois` or `Feols` instances."
   ]
  },
  {
   "cell_type": "code",
   "execution_count": 41,
   "metadata": {},
   "outputs": [
    {
     "data": {
      "text/plain": [
       "<pyfixest.FixestMulti.FixestMulti at 0x29aa98edbd0>"
      ]
     },
     "execution_count": 41,
     "metadata": {},
     "output_type": "execute_result"
    }
   ],
   "source": [
    "multi_fit = feols(fml=\"Y~X1 | csw0(f1, f2)\", data=data, vcov=\"HC1\")\n",
    "multi_fit"
   ]
  },
  {
   "cell_type": "code",
   "execution_count": 42,
   "metadata": {},
   "outputs": [
    {
     "name": "stdout",
     "output_type": "stream",
     "text": [
      "###\n",
      "\n",
      "Estimation:  OLS\n",
      "Dep. var.: Y\n",
      "Inference:  HC1\n",
      "Observations:  998\n",
      "\n",
      "| Coefficient   |   Estimate |   Std. Error |   t value |   Pr(>|t|) |   2.5 % |   97.5 % |\n",
      "|:--------------|-----------:|-------------:|----------:|-----------:|--------:|---------:|\n",
      "| Intercept     |      2.221 |        0.088 |    25.231 |      0.000 |   2.048 |    2.394 |\n",
      "| X1            |      0.343 |        0.067 |     5.090 |      0.000 |   0.211 |    0.476 |\n",
      "---\n",
      "RMSE: 1.765  Adj. R2: 0.022  Adj. R2 Within: 0.022\n",
      "###\n",
      "\n",
      "Estimation:  OLS\n",
      "Dep. var.: Y, Fixed effects: f1\n",
      "Inference:  HC1\n",
      "Observations:  997\n",
      "\n",
      "| Coefficient   |   Estimate |   Std. Error |   t value |   Pr(>|t|) |   2.5 % |   97.5 % |\n",
      "|:--------------|-----------:|-------------:|----------:|-----------:|--------:|---------:|\n",
      "| X1            |      0.271 |        0.056 |     4.812 |      0.000 |   0.161 |    0.382 |\n",
      "---\n",
      "RMSE: 1.42  Adj. R2: 0.022  Adj. R2 Within: 0.022\n",
      "###\n",
      "\n",
      "Estimation:  OLS\n",
      "Dep. var.: Y, Fixed effects: f1+f2\n",
      "Inference:  HC1\n",
      "Observations:  997\n",
      "\n",
      "| Coefficient   |   Estimate |   Std. Error |   t value |   Pr(>|t|) |   2.5 % |   97.5 % |\n",
      "|:--------------|-----------:|-------------:|----------:|-----------:|--------:|---------:|\n",
      "| X1            |      0.330 |        0.048 |     6.945 |      0.000 |   0.237 |    0.424 |\n",
      "---\n",
      "RMSE: 1.2  Adj. R2: 0.044  Adj. R2 Within: 0.044\n"
     ]
    }
   ],
   "source": [
    "multi_fit.summary()"
   ]
  },
  {
   "cell_type": "markdown",
   "metadata": {},
   "source": [
    "Alternatively, you can look at the estimation results via the `etable()` method:"
   ]
  },
  {
   "cell_type": "code",
   "execution_count": 43,
   "metadata": {},
   "outputs": [
    {
     "data": {
      "text/html": [
       "<div>\n",
       "<style scoped>\n",
       "    .dataframe tbody tr th:only-of-type {\n",
       "        vertical-align: middle;\n",
       "    }\n",
       "\n",
       "    .dataframe tbody tr th {\n",
       "        vertical-align: top;\n",
       "    }\n",
       "\n",
       "    .dataframe thead tr th {\n",
       "        text-align: left;\n",
       "    }\n",
       "</style>\n",
       "<table border=\"1\" class=\"dataframe\">\n",
       "  <thead>\n",
       "    <tr>\n",
       "      <th>fml</th>\n",
       "      <th colspan=\"2\" halign=\"left\">Y~X1</th>\n",
       "      <th>Y~X1|f1</th>\n",
       "      <th>Y~X1|f1+f2</th>\n",
       "    </tr>\n",
       "    <tr>\n",
       "      <th>Coefficient</th>\n",
       "      <th>Intercept</th>\n",
       "      <th>X1</th>\n",
       "      <th>X1</th>\n",
       "      <th>X1</th>\n",
       "    </tr>\n",
       "  </thead>\n",
       "  <tbody>\n",
       "    <tr>\n",
       "      <th>Estimate</th>\n",
       "      <td>2.221</td>\n",
       "      <td>0.343</td>\n",
       "      <td>0.271</td>\n",
       "      <td>0.330</td>\n",
       "    </tr>\n",
       "    <tr>\n",
       "      <th>Std. Error</th>\n",
       "      <td>0.088</td>\n",
       "      <td>0.067</td>\n",
       "      <td>0.056</td>\n",
       "      <td>0.048</td>\n",
       "    </tr>\n",
       "    <tr>\n",
       "      <th>t value</th>\n",
       "      <td>25.231</td>\n",
       "      <td>5.090</td>\n",
       "      <td>4.812</td>\n",
       "      <td>6.945</td>\n",
       "    </tr>\n",
       "    <tr>\n",
       "      <th>Pr(&gt;|t|)</th>\n",
       "      <td>0.000</td>\n",
       "      <td>0.000</td>\n",
       "      <td>0.000</td>\n",
       "      <td>0.000</td>\n",
       "    </tr>\n",
       "    <tr>\n",
       "      <th>2.5 %</th>\n",
       "      <td>2.048</td>\n",
       "      <td>0.211</td>\n",
       "      <td>0.161</td>\n",
       "      <td>0.237</td>\n",
       "    </tr>\n",
       "    <tr>\n",
       "      <th>97.5 %</th>\n",
       "      <td>2.394</td>\n",
       "      <td>0.476</td>\n",
       "      <td>0.382</td>\n",
       "      <td>0.424</td>\n",
       "    </tr>\n",
       "  </tbody>\n",
       "</table>\n",
       "</div>"
      ],
      "text/plain": [
       "fml              Y~X1        Y~X1|f1 Y~X1|f1+f2\n",
       "Coefficient Intercept     X1      X1         X1\n",
       "Estimate        2.221  0.343   0.271      0.330\n",
       "Std. Error      0.088  0.067   0.056      0.048\n",
       "t value        25.231  5.090   4.812      6.945\n",
       "Pr(>|t|)        0.000  0.000   0.000      0.000\n",
       "2.5 %           2.048  0.211   0.161      0.237\n",
       "97.5 %          2.394  0.476   0.382      0.424"
      ]
     },
     "execution_count": 43,
     "metadata": {},
     "output_type": "execute_result"
    }
   ],
   "source": [
    "multi_fit.etable()"
   ]
  },
  {
   "cell_type": "markdown",
   "metadata": {},
   "source": [
    "If you are only insterested in some parameters, e.g. \"X1\", you can use the following syntax:"
   ]
  },
  {
   "cell_type": "code",
   "execution_count": 44,
   "metadata": {},
   "outputs": [
    {
     "data": {
      "text/html": [
       "<div>\n",
       "<style scoped>\n",
       "    .dataframe tbody tr th:only-of-type {\n",
       "        vertical-align: middle;\n",
       "    }\n",
       "\n",
       "    .dataframe tbody tr th {\n",
       "        vertical-align: top;\n",
       "    }\n",
       "\n",
       "    .dataframe thead th {\n",
       "        text-align: right;\n",
       "    }\n",
       "</style>\n",
       "<table border=\"1\" class=\"dataframe\">\n",
       "  <thead>\n",
       "    <tr style=\"text-align: right;\">\n",
       "      <th>fml</th>\n",
       "      <th>Y~X1</th>\n",
       "      <th>Y~X1|f1</th>\n",
       "      <th>Y~X1|f1+f2</th>\n",
       "    </tr>\n",
       "  </thead>\n",
       "  <tbody>\n",
       "    <tr>\n",
       "      <th>Estimate</th>\n",
       "      <td>0.343</td>\n",
       "      <td>0.271</td>\n",
       "      <td>0.330</td>\n",
       "    </tr>\n",
       "    <tr>\n",
       "      <th>Std. Error</th>\n",
       "      <td>0.067</td>\n",
       "      <td>0.056</td>\n",
       "      <td>0.048</td>\n",
       "    </tr>\n",
       "    <tr>\n",
       "      <th>t value</th>\n",
       "      <td>5.090</td>\n",
       "      <td>4.812</td>\n",
       "      <td>6.945</td>\n",
       "    </tr>\n",
       "    <tr>\n",
       "      <th>Pr(&gt;|t|)</th>\n",
       "      <td>0.000</td>\n",
       "      <td>0.000</td>\n",
       "      <td>0.000</td>\n",
       "    </tr>\n",
       "    <tr>\n",
       "      <th>2.5 %</th>\n",
       "      <td>0.211</td>\n",
       "      <td>0.161</td>\n",
       "      <td>0.237</td>\n",
       "    </tr>\n",
       "    <tr>\n",
       "      <th>97.5 %</th>\n",
       "      <td>0.476</td>\n",
       "      <td>0.382</td>\n",
       "      <td>0.424</td>\n",
       "    </tr>\n",
       "  </tbody>\n",
       "</table>\n",
       "</div>"
      ],
      "text/plain": [
       "fml          Y~X1  Y~X1|f1  Y~X1|f1+f2\n",
       "Estimate    0.343    0.271       0.330\n",
       "Std. Error  0.067    0.056       0.048\n",
       "t value     5.090    4.812       6.945\n",
       "Pr(>|t|)    0.000    0.000       0.000\n",
       "2.5 %       0.211    0.161       0.237\n",
       "97.5 %      0.476    0.382       0.424"
      ]
     },
     "execution_count": 44,
     "metadata": {},
     "output_type": "execute_result"
    }
   ],
   "source": [
    "multi_fit.etable().xs(\"X1\", level=1, axis=1)"
   ]
  },
  {
   "cell_type": "markdown",
   "metadata": {},
   "source": [
    "You can access an individual model by its name - i.e. a formula - via the `all_fitted_models` attribure."
   ]
  },
  {
   "cell_type": "code",
   "execution_count": 45,
   "metadata": {},
   "outputs": [
    {
     "data": {
      "text/html": [
       "<div>\n",
       "<style scoped>\n",
       "    .dataframe tbody tr th:only-of-type {\n",
       "        vertical-align: middle;\n",
       "    }\n",
       "\n",
       "    .dataframe tbody tr th {\n",
       "        vertical-align: top;\n",
       "    }\n",
       "\n",
       "    .dataframe thead th {\n",
       "        text-align: right;\n",
       "    }\n",
       "</style>\n",
       "<table border=\"1\" class=\"dataframe\">\n",
       "  <thead>\n",
       "    <tr style=\"text-align: right;\">\n",
       "      <th></th>\n",
       "      <th>Estimate</th>\n",
       "      <th>Std. Error</th>\n",
       "      <th>t value</th>\n",
       "      <th>Pr(&gt;|t|)</th>\n",
       "      <th>2.5 %</th>\n",
       "      <th>97.5 %</th>\n",
       "    </tr>\n",
       "    <tr>\n",
       "      <th>Coefficient</th>\n",
       "      <th></th>\n",
       "      <th></th>\n",
       "      <th></th>\n",
       "      <th></th>\n",
       "      <th></th>\n",
       "      <th></th>\n",
       "    </tr>\n",
       "  </thead>\n",
       "  <tbody>\n",
       "    <tr>\n",
       "      <th>Intercept</th>\n",
       "      <td>2.220916</td>\n",
       "      <td>0.088024</td>\n",
       "      <td>25.230741</td>\n",
       "      <td>0.000000e+00</td>\n",
       "      <td>2.048182</td>\n",
       "      <td>2.393650</td>\n",
       "    </tr>\n",
       "    <tr>\n",
       "      <th>X1</th>\n",
       "      <td>0.343246</td>\n",
       "      <td>0.067438</td>\n",
       "      <td>5.089815</td>\n",
       "      <td>4.283430e-07</td>\n",
       "      <td>0.210909</td>\n",
       "      <td>0.475582</td>\n",
       "    </tr>\n",
       "  </tbody>\n",
       "</table>\n",
       "</div>"
      ],
      "text/plain": [
       "             Estimate  Std. Error    t value      Pr(>|t|)     2.5 %    97.5 %\n",
       "Coefficient                                                                   \n",
       "Intercept    2.220916    0.088024  25.230741  0.000000e+00  2.048182  2.393650\n",
       "X1           0.343246    0.067438   5.089815  4.283430e-07  0.210909  0.475582"
      ]
     },
     "execution_count": 45,
     "metadata": {},
     "output_type": "execute_result"
    }
   ],
   "source": [
    "multi_fit.all_fitted_models[\"Y~X1\"].tidy()"
   ]
  },
  {
   "cell_type": "markdown",
   "metadata": {},
   "source": [
    "or equivalently via the `fetch_model` method:"
   ]
  },
  {
   "cell_type": "code",
   "execution_count": 46,
   "metadata": {},
   "outputs": [
    {
     "name": "stdout",
     "output_type": "stream",
     "text": [
      "Model:  Y~X1\n"
     ]
    },
    {
     "data": {
      "text/html": [
       "<div>\n",
       "<style scoped>\n",
       "    .dataframe tbody tr th:only-of-type {\n",
       "        vertical-align: middle;\n",
       "    }\n",
       "\n",
       "    .dataframe tbody tr th {\n",
       "        vertical-align: top;\n",
       "    }\n",
       "\n",
       "    .dataframe thead th {\n",
       "        text-align: right;\n",
       "    }\n",
       "</style>\n",
       "<table border=\"1\" class=\"dataframe\">\n",
       "  <thead>\n",
       "    <tr style=\"text-align: right;\">\n",
       "      <th></th>\n",
       "      <th>Estimate</th>\n",
       "      <th>Std. Error</th>\n",
       "      <th>t value</th>\n",
       "      <th>Pr(&gt;|t|)</th>\n",
       "      <th>2.5 %</th>\n",
       "      <th>97.5 %</th>\n",
       "    </tr>\n",
       "    <tr>\n",
       "      <th>Coefficient</th>\n",
       "      <th></th>\n",
       "      <th></th>\n",
       "      <th></th>\n",
       "      <th></th>\n",
       "      <th></th>\n",
       "      <th></th>\n",
       "    </tr>\n",
       "  </thead>\n",
       "  <tbody>\n",
       "    <tr>\n",
       "      <th>Intercept</th>\n",
       "      <td>2.220916</td>\n",
       "      <td>0.088024</td>\n",
       "      <td>25.230741</td>\n",
       "      <td>0.000000e+00</td>\n",
       "      <td>2.048182</td>\n",
       "      <td>2.393650</td>\n",
       "    </tr>\n",
       "    <tr>\n",
       "      <th>X1</th>\n",
       "      <td>0.343246</td>\n",
       "      <td>0.067438</td>\n",
       "      <td>5.089815</td>\n",
       "      <td>4.283430e-07</td>\n",
       "      <td>0.210909</td>\n",
       "      <td>0.475582</td>\n",
       "    </tr>\n",
       "  </tbody>\n",
       "</table>\n",
       "</div>"
      ],
      "text/plain": [
       "             Estimate  Std. Error    t value      Pr(>|t|)     2.5 %    97.5 %\n",
       "Coefficient                                                                   \n",
       "Intercept    2.220916    0.088024  25.230741  0.000000e+00  2.048182  2.393650\n",
       "X1           0.343246    0.067438   5.089815  4.283430e-07  0.210909  0.475582"
      ]
     },
     "execution_count": 46,
     "metadata": {},
     "output_type": "execute_result"
    }
   ],
   "source": [
    "multi_fit.fetch_model(0).tidy()"
   ]
  },
  {
   "cell_type": "markdown",
   "metadata": {},
   "source": [
    "Here, `0` simply fetches the first model stored in the `all_fitted_models` dictionary, `1` the second etc."
   ]
  },
  {
   "cell_type": "markdown",
   "metadata": {},
   "source": [
    "Objects of type `Fixest` come with a range of additional methods: `tidy()`, `coef()`, `vcov()` etc, which \n",
    "essentially loop over the equivalent methods of all fitted models. E.g. `Fixest.vcov()` updates inference for all \n",
    "models stored in `Fixest`."
   ]
  },
  {
   "cell_type": "code",
   "execution_count": 47,
   "metadata": {},
   "outputs": [
    {
     "name": "stdout",
     "output_type": "stream",
     "text": [
      "###\n",
      "\n",
      "Estimation:  OLS\n",
      "Dep. var.: Y\n",
      "Inference:  iid\n",
      "Observations:  998\n",
      "\n",
      "| Coefficient   |   Estimate |   Std. Error |   t value |   Pr(>|t|) |   2.5 % |   97.5 % |\n",
      "|:--------------|-----------:|-------------:|----------:|-----------:|--------:|---------:|\n",
      "| Intercept     |      2.221 |        0.089 |    24.909 |      0.000 |   2.046 |    2.396 |\n",
      "| X1            |      0.343 |        0.069 |     4.987 |      0.000 |   0.208 |    0.478 |\n",
      "---\n",
      "RMSE: 1.765  Adj. R2: 0.022  Adj. R2 Within: 0.022\n",
      "###\n",
      "\n",
      "Estimation:  OLS\n",
      "Dep. var.: Y, Fixed effects: f1\n",
      "Inference:  iid\n",
      "Observations:  997\n",
      "\n",
      "| Coefficient   |   Estimate |   Std. Error |   t value |   Pr(>|t|) |   2.5 % |   97.5 % |\n",
      "|:--------------|-----------:|-------------:|----------:|-----------:|--------:|---------:|\n",
      "| X1            |      0.271 |        0.056 |     4.837 |      0.000 |   0.161 |    0.381 |\n",
      "---\n",
      "RMSE: 1.42  Adj. R2: 0.022  Adj. R2 Within: 0.022\n",
      "###\n",
      "\n",
      "Estimation:  OLS\n",
      "Dep. var.: Y, Fixed effects: f1+f2\n",
      "Inference:  iid\n",
      "Observations:  997\n",
      "\n",
      "| Coefficient   |   Estimate |   Std. Error |   t value |   Pr(>|t|) |   2.5 % |   97.5 % |\n",
      "|:--------------|-----------:|-------------:|----------:|-----------:|--------:|---------:|\n",
      "| X1            |      0.330 |        0.048 |     6.861 |      0.000 |   0.236 |    0.425 |\n",
      "---\n",
      "RMSE: 1.2  Adj. R2: 0.044  Adj. R2 Within: 0.044\n"
     ]
    }
   ],
   "source": [
    "multi_fit.vcov(\"iid\").summary()"
   ]
  },
  {
   "cell_type": "markdown",
   "metadata": {},
   "source": [
    "If you have estimated multiple models without multiple estimation syntax and still want to compare them, you can use the `etable()` function: "
   ]
  },
  {
   "cell_type": "code",
   "execution_count": 48,
   "metadata": {},
   "outputs": [
    {
     "name": "stdout",
     "output_type": "stream",
     "text": [
      "| Coefficient   | est1             | est2             |\n",
      "|:--------------|:-----------------|:-----------------|\n",
      "| X1            | 0.271*** (0.044) | 0.343*** (0.055) |\n",
      "| Intercept     |                  | 2.221*** (0.062) |\n",
      "Significance levels: * p < 0.05, ** p < 0.01, *** p < 0.001\n"
     ]
    }
   ],
   "source": [
    "from pyfixest.summarize import etable\n",
    "etable([fit, fit2])"
   ]
  },
  {
   "cell_type": "markdown",
   "metadata": {},
   "source": [
    "## Visualization \n",
    "\n",
    "`PyFixest` provides two functions to visualize the results of a regression: `coefplot` and `iplot`."
   ]
  },
  {
   "cell_type": "code",
   "execution_count": 49,
   "metadata": {},
   "outputs": [
    {
     "data": {
      "text/html": [
       "\n",
       "            <div id=\"rvcO26\"></div>\n",
       "            <script type=\"text/javascript\" data-lets-plot-script=\"library\">\n",
       "                if(!window.letsPlotCallQueue) {\n",
       "                    window.letsPlotCallQueue = [];\n",
       "                }; \n",
       "                window.letsPlotCall = function(f) {\n",
       "                    window.letsPlotCallQueue.push(f);\n",
       "                };\n",
       "                (function() {\n",
       "                    var script = document.createElement(\"script\");\n",
       "                    script.type = \"text/javascript\";\n",
       "                    script.src = \"https://cdn.jsdelivr.net/gh/JetBrains/lets-plot@v4.0.1/js-package/distr/lets-plot.min.js\";\n",
       "                    script.onload = function() {\n",
       "                        window.letsPlotCall = function(f) {f();};\n",
       "                        window.letsPlotCallQueue.forEach(function(f) {f();});\n",
       "                        window.letsPlotCallQueue = [];\n",
       "                        \n",
       "                    };\n",
       "                    script.onerror = function(event) {\n",
       "                        window.letsPlotCall = function(f) {};    // noop\n",
       "                        window.letsPlotCallQueue = [];\n",
       "                        var div = document.createElement(\"div\");\n",
       "                        div.style.color = 'darkred';\n",
       "                        div.textContent = 'Error loading Lets-Plot JS';\n",
       "                        document.getElementById(\"rvcO26\").appendChild(div);\n",
       "                    };\n",
       "                    var e = document.getElementById(\"rvcO26\");\n",
       "                    e.appendChild(script);\n",
       "                })()\n",
       "            </script>\n",
       "            "
      ]
     },
     "metadata": {},
     "output_type": "display_data"
    },
    {
     "data": {
      "text/html": [
       "   <div id=\"mw2VS4\"></div>\n",
       "   <script type=\"text/javascript\" data-lets-plot-script=\"plot\">\n",
       "       (function() {\n",
       "           var plotSpec={\n",
       "\"data\":{\n",
       "\"Model\":[\"Y~X1\",\"Y~X1\",\"Y~X1|f1\",\"Y~X1|f1+f2\"],\n",
       "\"Coefficient\":[\"Intercept\",\"X1\",\"X1\",\"X1\"],\n",
       "\"Estimate\":[2.220916098483409,0.34324583841067235,0.27112720480331165,0.33036598281700336],\n",
       "\"2.5 %\":[2.0459541167551167,0.20819367234761826,0.1611353837985357,0.2358826927581384],\n",
       "\"97.5 %\":[2.395878080211701,0.47829800447372645,0.3811190258080876,0.4248492728758683]\n",
       "},\n",
       "\"mapping\":{\n",
       "\"x\":\"Coefficient\",\n",
       "\"y\":\"Estimate\",\n",
       "\"color\":\"Model\"\n",
       "},\n",
       "\"data_meta\":{\n",
       "},\n",
       "\"coord\":{\n",
       "\"name\":\"flip\",\n",
       "\"flip\":true\n",
       "},\n",
       "\"ggsize\":{\n",
       "\"width\":500.0,\n",
       "\"height\":300.0\n",
       "},\n",
       "\"theme\":{\n",
       "\"axis_text_x\":{\n",
       "\"angle\":0.0,\n",
       "\"blank\":false\n",
       "}\n",
       "},\n",
       "\"kind\":\"plot\",\n",
       "\"scales\":[{\n",
       "\"name\":\"Estimate and 95% Confidence Interval\",\n",
       "\"aesthetic\":\"y\"\n",
       "}],\n",
       "\"layers\":[{\n",
       "\"geom\":\"point\",\n",
       "\"mapping\":{\n",
       "},\n",
       "\"position\":{\n",
       "\"name\":\"dodge\",\n",
       "\"width\":0.5\n",
       "},\n",
       "\"data_meta\":{\n",
       "},\n",
       "\"data\":{\n",
       "}\n",
       "},{\n",
       "\"geom\":\"errorbar\",\n",
       "\"mapping\":{\n",
       "\"ymin\":\"2.5 %\",\n",
       "\"ymax\":\"97.5 %\"\n",
       "},\n",
       "\"position\":{\n",
       "\"name\":\"dodge\",\n",
       "\"width\":0.5\n",
       "},\n",
       "\"data_meta\":{\n",
       "},\n",
       "\"width\":0.05,\n",
       "\"data\":{\n",
       "}\n",
       "},{\n",
       "\"geom\":\"hline\",\n",
       "\"mapping\":{\n",
       "},\n",
       "\"data_meta\":{\n",
       "},\n",
       "\"yintercept\":0.0,\n",
       "\"linetype\":\"dashed\",\n",
       "\"color\":\"red\",\n",
       "\"data\":{\n",
       "}\n",
       "}],\n",
       "\"metainfo_list\":[]\n",
       "};\n",
       "           var plotContainer = document.getElementById(\"mw2VS4\");\n",
       "           window.letsPlotCall(function() {{\n",
       "               LetsPlot.buildPlotFromProcessedSpecs(plotSpec, -1, -1, plotContainer);\n",
       "           }});\n",
       "       })();    \n",
       "   </script>"
      ]
     },
     "metadata": {},
     "output_type": "display_data"
    }
   ],
   "source": [
    "from lets_plot import *\n",
    "LetsPlot.setup_html()\n",
    "\n",
    "multi_fit.coefplot().show()"
   ]
  },
  {
   "cell_type": "markdown",
   "metadata": {},
   "source": [
    "## TWFE Event Study\n",
    "\n",
    "To conclude this intro, we estimate an event study from an example of the the [LOST](https://lost-stats.github.io/Model_Estimation/Research_Design/event_study.html) library of statistical techniques."
   ]
  },
  {
   "cell_type": "code",
   "execution_count": 50,
   "metadata": {},
   "outputs": [],
   "source": [
    "import pandas as pd\n",
    "import numpy as np\n",
    "\n",
    "# Read in data\n",
    "df = pd.read_csv(\n",
    "    \"https://raw.githubusercontent.com/LOST-STATS/LOST-STATS.github.io/master/Model_Estimation/Data/Event_Study_DiD/bacon_example.csv\"\n",
    ")\n",
    "\n",
    "df[\"time_to_treat\"] = (df[\"year\"] - df[\"_nfd\"]).fillna(0).astype(int)\n",
    "df[\"time_to_treat\"] = pd.Categorical(\n",
    "    df.time_to_treat, np.sort(df.time_to_treat.unique())\n",
    ")\n",
    "df[\"treat\"] = np.where(pd.isna(df[\"_nfd\"]), 0, 1)\n",
    "\n",
    "fml = \"asmrs ~ i(time_to_treat, treat, ref = -1) + csw(pcinc, asmrh, cases) | stfips + year\"\n",
    "fit = feols(fml=fml, data=df, vcov={\"CRV1\": \"stfips\"})"
   ]
  },
  {
   "cell_type": "code",
   "execution_count": 51,
   "metadata": {},
   "outputs": [
    {
     "data": {
      "text/html": [
       "   <div id=\"UfR9zy\"></div>\n",
       "   <script type=\"text/javascript\" data-lets-plot-script=\"plot\">\n",
       "       (function() {\n",
       "           var plotSpec={\n",
       "\"data\":{\n",
       "\"Model\":[\"asmrs~i(time_to_treat,treat,ref=-1)+pcinc|stfips+year\",\"asmrs~i(time_to_treat,treat,ref=-1)+pcinc|stfips+year\",\"asmrs~i(time_to_treat,treat,ref=-1)+pcinc|stfips+year\",\"asmrs~i(time_to_treat,treat,ref=-1)+pcinc|stfips+year\",\"asmrs~i(time_to_treat,treat,ref=-1)+pcinc|stfips+year\",\"asmrs~i(time_to_treat,treat,ref=-1)+pcinc|stfips+year\",\"asmrs~i(time_to_treat,treat,ref=-1)+pcinc|stfips+year\",\"asmrs~i(time_to_treat,treat,ref=-1)+pcinc|stfips+year\",\"asmrs~i(time_to_treat,treat,ref=-1)+pcinc|stfips+year\",\"asmrs~i(time_to_treat,treat,ref=-1)+pcinc|stfips+year\",\"asmrs~i(time_to_treat,treat,ref=-1)+pcinc|stfips+year\",\"asmrs~i(time_to_treat,treat,ref=-1)+pcinc|stfips+year\",\"asmrs~i(time_to_treat,treat,ref=-1)+pcinc|stfips+year\",\"asmrs~i(time_to_treat,treat,ref=-1)+pcinc|stfips+year\",\"asmrs~i(time_to_treat,treat,ref=-1)+pcinc|stfips+year\",\"asmrs~i(time_to_treat,treat,ref=-1)+pcinc|stfips+year\",\"asmrs~i(time_to_treat,treat,ref=-1)+pcinc|stfips+year\",\"asmrs~i(time_to_treat,treat,ref=-1)+pcinc|stfips+year\",\"asmrs~i(time_to_treat,treat,ref=-1)+pcinc|stfips+year\",\"asmrs~i(time_to_treat,treat,ref=-1)+pcinc|stfips+year\",\"asmrs~i(time_to_treat,treat,ref=-1)+pcinc|stfips+year\",\"asmrs~i(time_to_treat,treat,ref=-1)+pcinc|stfips+year\",\"asmrs~i(time_to_treat,treat,ref=-1)+pcinc|stfips+year\",\"asmrs~i(time_to_treat,treat,ref=-1)+pcinc|stfips+year\",\"asmrs~i(time_to_treat,treat,ref=-1)+pcinc|stfips+year\",\"asmrs~i(time_to_treat,treat,ref=-1)+pcinc|stfips+year\",\"asmrs~i(time_to_treat,treat,ref=-1)+pcinc|stfips+year\",\"asmrs~i(time_to_treat,treat,ref=-1)+pcinc|stfips+year\",\"asmrs~i(time_to_treat,treat,ref=-1)+pcinc|stfips+year\",\"asmrs~i(time_to_treat,treat,ref=-1)+pcinc|stfips+year\",\"asmrs~i(time_to_treat,treat,ref=-1)+pcinc|stfips+year\",\"asmrs~i(time_to_treat,treat,ref=-1)+pcinc|stfips+year\",\"asmrs~i(time_to_treat,treat,ref=-1)+pcinc|stfips+year\",\"asmrs~i(time_to_treat,treat,ref=-1)+pcinc|stfips+year\",\"asmrs~i(time_to_treat,treat,ref=-1)+pcinc|stfips+year\",\"asmrs~i(time_to_treat,treat,ref=-1)+pcinc|stfips+year\",\"asmrs~i(time_to_treat,treat,ref=-1)+pcinc|stfips+year\",\"asmrs~i(time_to_treat,treat,ref=-1)+pcinc|stfips+year\",\"asmrs~i(time_to_treat,treat,ref=-1)+pcinc|stfips+year\",\"asmrs~i(time_to_treat,treat,ref=-1)+pcinc|stfips+year\",\"asmrs~i(time_to_treat,treat,ref=-1)+pcinc|stfips+year\",\"asmrs~i(time_to_treat,treat,ref=-1)+pcinc|stfips+year\",\"asmrs~i(time_to_treat,treat,ref=-1)+pcinc|stfips+year\",\"asmrs~i(time_to_treat,treat,ref=-1)+pcinc|stfips+year\",\"asmrs~i(time_to_treat,treat,ref=-1)+pcinc|stfips+year\",\"asmrs~i(time_to_treat,treat,ref=-1)+pcinc|stfips+year\",\"asmrs~i(time_to_treat,treat,ref=-1)+pcinc|stfips+year\",\"asmrs~i(time_to_treat,treat,ref=-1)+pcinc|stfips+year\",\"asmrs~i(time_to_treat,treat,ref=-1)+pcinc+asmrh|stfips+year\",\"asmrs~i(time_to_treat,treat,ref=-1)+pcinc+asmrh|stfips+year\",\"asmrs~i(time_to_treat,treat,ref=-1)+pcinc+asmrh|stfips+year\",\"asmrs~i(time_to_treat,treat,ref=-1)+pcinc+asmrh|stfips+year\",\"asmrs~i(time_to_treat,treat,ref=-1)+pcinc+asmrh|stfips+year\",\"asmrs~i(time_to_treat,treat,ref=-1)+pcinc+asmrh|stfips+year\",\"asmrs~i(time_to_treat,treat,ref=-1)+pcinc+asmrh|stfips+year\",\"asmrs~i(time_to_treat,treat,ref=-1)+pcinc+asmrh|stfips+year\",\"asmrs~i(time_to_treat,treat,ref=-1)+pcinc+asmrh|stfips+year\",\"asmrs~i(time_to_treat,treat,ref=-1)+pcinc+asmrh|stfips+year\",\"asmrs~i(time_to_treat,treat,ref=-1)+pcinc+asmrh|stfips+year\",\"asmrs~i(time_to_treat,treat,ref=-1)+pcinc+asmrh|stfips+year\",\"asmrs~i(time_to_treat,treat,ref=-1)+pcinc+asmrh|stfips+year\",\"asmrs~i(time_to_treat,treat,ref=-1)+pcinc+asmrh|stfips+year\",\"asmrs~i(time_to_treat,treat,ref=-1)+pcinc+asmrh|stfips+year\",\"asmrs~i(time_to_treat,treat,ref=-1)+pcinc+asmrh|stfips+year\",\"asmrs~i(time_to_treat,treat,ref=-1)+pcinc+asmrh|stfips+year\",\"asmrs~i(time_to_treat,treat,ref=-1)+pcinc+asmrh|stfips+year\",\"asmrs~i(time_to_treat,treat,ref=-1)+pcinc+asmrh|stfips+year\",\"asmrs~i(time_to_treat,treat,ref=-1)+pcinc+asmrh|stfips+year\",\"asmrs~i(time_to_treat,treat,ref=-1)+pcinc+asmrh|stfips+year\",\"asmrs~i(time_to_treat,treat,ref=-1)+pcinc+asmrh|stfips+year\",\"asmrs~i(time_to_treat,treat,ref=-1)+pcinc+asmrh|stfips+year\",\"asmrs~i(time_to_treat,treat,ref=-1)+pcinc+asmrh|stfips+year\",\"asmrs~i(time_to_treat,treat,ref=-1)+pcinc+asmrh|stfips+year\",\"asmrs~i(time_to_treat,treat,ref=-1)+pcinc+asmrh|stfips+year\",\"asmrs~i(time_to_treat,treat,ref=-1)+pcinc+asmrh|stfips+year\",\"asmrs~i(time_to_treat,treat,ref=-1)+pcinc+asmrh|stfips+year\",\"asmrs~i(time_to_treat,treat,ref=-1)+pcinc+asmrh|stfips+year\",\"asmrs~i(time_to_treat,treat,ref=-1)+pcinc+asmrh|stfips+year\",\"asmrs~i(time_to_treat,treat,ref=-1)+pcinc+asmrh|stfips+year\",\"asmrs~i(time_to_treat,treat,ref=-1)+pcinc+asmrh|stfips+year\",\"asmrs~i(time_to_treat,treat,ref=-1)+pcinc+asmrh|stfips+year\",\"asmrs~i(time_to_treat,treat,ref=-1)+pcinc+asmrh|stfips+year\",\"asmrs~i(time_to_treat,treat,ref=-1)+pcinc+asmrh|stfips+year\",\"asmrs~i(time_to_treat,treat,ref=-1)+pcinc+asmrh|stfips+year\",\"asmrs~i(time_to_treat,treat,ref=-1)+pcinc+asmrh|stfips+year\",\"asmrs~i(time_to_treat,treat,ref=-1)+pcinc+asmrh|stfips+year\",\"asmrs~i(time_to_treat,treat,ref=-1)+pcinc+asmrh|stfips+year\",\"asmrs~i(time_to_treat,treat,ref=-1)+pcinc+asmrh|stfips+year\",\"asmrs~i(time_to_treat,treat,ref=-1)+pcinc+asmrh|stfips+year\",\"asmrs~i(time_to_treat,treat,ref=-1)+pcinc+asmrh|stfips+year\",\"asmrs~i(time_to_treat,treat,ref=-1)+pcinc+asmrh|stfips+year\",\"asmrs~i(time_to_treat,treat,ref=-1)+pcinc+asmrh|stfips+year\",\"asmrs~i(time_to_treat,treat,ref=-1)+pcinc+asmrh|stfips+year\",\"asmrs~i(time_to_treat,treat,ref=-1)+pcinc+asmrh|stfips+year\",\"asmrs~i(time_to_treat,treat,ref=-1)+pcinc+asmrh|stfips+year\",\"asmrs~i(time_to_treat,treat,ref=-1)+pcinc+asmrh|stfips+year\",\"asmrs~i(time_to_treat,treat,ref=-1)+pcinc+asmrh+cases|stfips+year\",\"asmrs~i(time_to_treat,treat,ref=-1)+pcinc+asmrh+cases|stfips+year\",\"asmrs~i(time_to_treat,treat,ref=-1)+pcinc+asmrh+cases|stfips+year\",\"asmrs~i(time_to_treat,treat,ref=-1)+pcinc+asmrh+cases|stfips+year\",\"asmrs~i(time_to_treat,treat,ref=-1)+pcinc+asmrh+cases|stfips+year\",\"asmrs~i(time_to_treat,treat,ref=-1)+pcinc+asmrh+cases|stfips+year\",\"asmrs~i(time_to_treat,treat,ref=-1)+pcinc+asmrh+cases|stfips+year\",\"asmrs~i(time_to_treat,treat,ref=-1)+pcinc+asmrh+cases|stfips+year\",\"asmrs~i(time_to_treat,treat,ref=-1)+pcinc+asmrh+cases|stfips+year\",\"asmrs~i(time_to_treat,treat,ref=-1)+pcinc+asmrh+cases|stfips+year\",\"asmrs~i(time_to_treat,treat,ref=-1)+pcinc+asmrh+cases|stfips+year\",\"asmrs~i(time_to_treat,treat,ref=-1)+pcinc+asmrh+cases|stfips+year\",\"asmrs~i(time_to_treat,treat,ref=-1)+pcinc+asmrh+cases|stfips+year\",\"asmrs~i(time_to_treat,treat,ref=-1)+pcinc+asmrh+cases|stfips+year\",\"asmrs~i(time_to_treat,treat,ref=-1)+pcinc+asmrh+cases|stfips+year\",\"asmrs~i(time_to_treat,treat,ref=-1)+pcinc+asmrh+cases|stfips+year\",\"asmrs~i(time_to_treat,treat,ref=-1)+pcinc+asmrh+cases|stfips+year\",\"asmrs~i(time_to_treat,treat,ref=-1)+pcinc+asmrh+cases|stfips+year\",\"asmrs~i(time_to_treat,treat,ref=-1)+pcinc+asmrh+cases|stfips+year\",\"asmrs~i(time_to_treat,treat,ref=-1)+pcinc+asmrh+cases|stfips+year\",\"asmrs~i(time_to_treat,treat,ref=-1)+pcinc+asmrh+cases|stfips+year\",\"asmrs~i(time_to_treat,treat,ref=-1)+pcinc+asmrh+cases|stfips+year\",\"asmrs~i(time_to_treat,treat,ref=-1)+pcinc+asmrh+cases|stfips+year\",\"asmrs~i(time_to_treat,treat,ref=-1)+pcinc+asmrh+cases|stfips+year\",\"asmrs~i(time_to_treat,treat,ref=-1)+pcinc+asmrh+cases|stfips+year\",\"asmrs~i(time_to_treat,treat,ref=-1)+pcinc+asmrh+cases|stfips+year\",\"asmrs~i(time_to_treat,treat,ref=-1)+pcinc+asmrh+cases|stfips+year\",\"asmrs~i(time_to_treat,treat,ref=-1)+pcinc+asmrh+cases|stfips+year\",\"asmrs~i(time_to_treat,treat,ref=-1)+pcinc+asmrh+cases|stfips+year\",\"asmrs~i(time_to_treat,treat,ref=-1)+pcinc+asmrh+cases|stfips+year\",\"asmrs~i(time_to_treat,treat,ref=-1)+pcinc+asmrh+cases|stfips+year\",\"asmrs~i(time_to_treat,treat,ref=-1)+pcinc+asmrh+cases|stfips+year\",\"asmrs~i(time_to_treat,treat,ref=-1)+pcinc+asmrh+cases|stfips+year\",\"asmrs~i(time_to_treat,treat,ref=-1)+pcinc+asmrh+cases|stfips+year\",\"asmrs~i(time_to_treat,treat,ref=-1)+pcinc+asmrh+cases|stfips+year\",\"asmrs~i(time_to_treat,treat,ref=-1)+pcinc+asmrh+cases|stfips+year\",\"asmrs~i(time_to_treat,treat,ref=-1)+pcinc+asmrh+cases|stfips+year\",\"asmrs~i(time_to_treat,treat,ref=-1)+pcinc+asmrh+cases|stfips+year\",\"asmrs~i(time_to_treat,treat,ref=-1)+pcinc+asmrh+cases|stfips+year\",\"asmrs~i(time_to_treat,treat,ref=-1)+pcinc+asmrh+cases|stfips+year\",\"asmrs~i(time_to_treat,treat,ref=-1)+pcinc+asmrh+cases|stfips+year\",\"asmrs~i(time_to_treat,treat,ref=-1)+pcinc+asmrh+cases|stfips+year\",\"asmrs~i(time_to_treat,treat,ref=-1)+pcinc+asmrh+cases|stfips+year\",\"asmrs~i(time_to_treat,treat,ref=-1)+pcinc+asmrh+cases|stfips+year\",\"asmrs~i(time_to_treat,treat,ref=-1)+pcinc+asmrh+cases|stfips+year\",\"asmrs~i(time_to_treat,treat,ref=-1)+pcinc+asmrh+cases|stfips+year\",\"asmrs~i(time_to_treat,treat,ref=-1)+pcinc+asmrh+cases|stfips+year\",\"asmrs~i(time_to_treat,treat,ref=-1)+pcinc+asmrh+cases|stfips+year\"],\n",
       "\"Coefficient\":[\"C(time_to_treat)[T.-21]:treat\",\"C(time_to_treat)[T.-20]:treat\",\"C(time_to_treat)[T.-19]:treat\",\"C(time_to_treat)[T.-18]:treat\",\"C(time_to_treat)[T.-17]:treat\",\"C(time_to_treat)[T.-16]:treat\",\"C(time_to_treat)[T.-15]:treat\",\"C(time_to_treat)[T.-14]:treat\",\"C(time_to_treat)[T.-13]:treat\",\"C(time_to_treat)[T.-12]:treat\",\"C(time_to_treat)[T.-11]:treat\",\"C(time_to_treat)[T.-10]:treat\",\"C(time_to_treat)[T.-9]:treat\",\"C(time_to_treat)[T.-8]:treat\",\"C(time_to_treat)[T.-7]:treat\",\"C(time_to_treat)[T.-6]:treat\",\"C(time_to_treat)[T.-5]:treat\",\"C(time_to_treat)[T.-4]:treat\",\"C(time_to_treat)[T.-3]:treat\",\"C(time_to_treat)[T.-2]:treat\",\"C(time_to_treat)[T.0]:treat\",\"C(time_to_treat)[T.1]:treat\",\"C(time_to_treat)[T.2]:treat\",\"C(time_to_treat)[T.3]:treat\",\"C(time_to_treat)[T.4]:treat\",\"C(time_to_treat)[T.5]:treat\",\"C(time_to_treat)[T.6]:treat\",\"C(time_to_treat)[T.7]:treat\",\"C(time_to_treat)[T.8]:treat\",\"C(time_to_treat)[T.9]:treat\",\"C(time_to_treat)[T.10]:treat\",\"C(time_to_treat)[T.11]:treat\",\"C(time_to_treat)[T.12]:treat\",\"C(time_to_treat)[T.13]:treat\",\"C(time_to_treat)[T.14]:treat\",\"C(time_to_treat)[T.15]:treat\",\"C(time_to_treat)[T.16]:treat\",\"C(time_to_treat)[T.17]:treat\",\"C(time_to_treat)[T.18]:treat\",\"C(time_to_treat)[T.19]:treat\",\"C(time_to_treat)[T.20]:treat\",\"C(time_to_treat)[T.21]:treat\",\"C(time_to_treat)[T.22]:treat\",\"C(time_to_treat)[T.23]:treat\",\"C(time_to_treat)[T.24]:treat\",\"C(time_to_treat)[T.25]:treat\",\"C(time_to_treat)[T.26]:treat\",\"C(time_to_treat)[T.27]:treat\",\"C(time_to_treat)[T.-21]:treat\",\"C(time_to_treat)[T.-20]:treat\",\"C(time_to_treat)[T.-19]:treat\",\"C(time_to_treat)[T.-18]:treat\",\"C(time_to_treat)[T.-17]:treat\",\"C(time_to_treat)[T.-16]:treat\",\"C(time_to_treat)[T.-15]:treat\",\"C(time_to_treat)[T.-14]:treat\",\"C(time_to_treat)[T.-13]:treat\",\"C(time_to_treat)[T.-12]:treat\",\"C(time_to_treat)[T.-11]:treat\",\"C(time_to_treat)[T.-10]:treat\",\"C(time_to_treat)[T.-9]:treat\",\"C(time_to_treat)[T.-8]:treat\",\"C(time_to_treat)[T.-7]:treat\",\"C(time_to_treat)[T.-6]:treat\",\"C(time_to_treat)[T.-5]:treat\",\"C(time_to_treat)[T.-4]:treat\",\"C(time_to_treat)[T.-3]:treat\",\"C(time_to_treat)[T.-2]:treat\",\"C(time_to_treat)[T.0]:treat\",\"C(time_to_treat)[T.1]:treat\",\"C(time_to_treat)[T.2]:treat\",\"C(time_to_treat)[T.3]:treat\",\"C(time_to_treat)[T.4]:treat\",\"C(time_to_treat)[T.5]:treat\",\"C(time_to_treat)[T.6]:treat\",\"C(time_to_treat)[T.7]:treat\",\"C(time_to_treat)[T.8]:treat\",\"C(time_to_treat)[T.9]:treat\",\"C(time_to_treat)[T.10]:treat\",\"C(time_to_treat)[T.11]:treat\",\"C(time_to_treat)[T.12]:treat\",\"C(time_to_treat)[T.13]:treat\",\"C(time_to_treat)[T.14]:treat\",\"C(time_to_treat)[T.15]:treat\",\"C(time_to_treat)[T.16]:treat\",\"C(time_to_treat)[T.17]:treat\",\"C(time_to_treat)[T.18]:treat\",\"C(time_to_treat)[T.19]:treat\",\"C(time_to_treat)[T.20]:treat\",\"C(time_to_treat)[T.21]:treat\",\"C(time_to_treat)[T.22]:treat\",\"C(time_to_treat)[T.23]:treat\",\"C(time_to_treat)[T.24]:treat\",\"C(time_to_treat)[T.25]:treat\",\"C(time_to_treat)[T.26]:treat\",\"C(time_to_treat)[T.27]:treat\",\"C(time_to_treat)[T.-21]:treat\",\"C(time_to_treat)[T.-20]:treat\",\"C(time_to_treat)[T.-19]:treat\",\"C(time_to_treat)[T.-18]:treat\",\"C(time_to_treat)[T.-17]:treat\",\"C(time_to_treat)[T.-16]:treat\",\"C(time_to_treat)[T.-15]:treat\",\"C(time_to_treat)[T.-14]:treat\",\"C(time_to_treat)[T.-13]:treat\",\"C(time_to_treat)[T.-12]:treat\",\"C(time_to_treat)[T.-11]:treat\",\"C(time_to_treat)[T.-10]:treat\",\"C(time_to_treat)[T.-9]:treat\",\"C(time_to_treat)[T.-8]:treat\",\"C(time_to_treat)[T.-7]:treat\",\"C(time_to_treat)[T.-6]:treat\",\"C(time_to_treat)[T.-5]:treat\",\"C(time_to_treat)[T.-4]:treat\",\"C(time_to_treat)[T.-3]:treat\",\"C(time_to_treat)[T.-2]:treat\",\"C(time_to_treat)[T.0]:treat\",\"C(time_to_treat)[T.1]:treat\",\"C(time_to_treat)[T.2]:treat\",\"C(time_to_treat)[T.3]:treat\",\"C(time_to_treat)[T.4]:treat\",\"C(time_to_treat)[T.5]:treat\",\"C(time_to_treat)[T.6]:treat\",\"C(time_to_treat)[T.7]:treat\",\"C(time_to_treat)[T.8]:treat\",\"C(time_to_treat)[T.9]:treat\",\"C(time_to_treat)[T.10]:treat\",\"C(time_to_treat)[T.11]:treat\",\"C(time_to_treat)[T.12]:treat\",\"C(time_to_treat)[T.13]:treat\",\"C(time_to_treat)[T.14]:treat\",\"C(time_to_treat)[T.15]:treat\",\"C(time_to_treat)[T.16]:treat\",\"C(time_to_treat)[T.17]:treat\",\"C(time_to_treat)[T.18]:treat\",\"C(time_to_treat)[T.19]:treat\",\"C(time_to_treat)[T.20]:treat\",\"C(time_to_treat)[T.21]:treat\",\"C(time_to_treat)[T.22]:treat\",\"C(time_to_treat)[T.23]:treat\",\"C(time_to_treat)[T.24]:treat\",\"C(time_to_treat)[T.25]:treat\",\"C(time_to_treat)[T.26]:treat\",\"C(time_to_treat)[T.27]:treat\"],\n",
       "\"Estimate\":[-23.29665273526224,-11.989310783961495,9.768059745730723,0.5425257659437186,-3.3028217654312093,-0.1483724293644615,2.3270080876436428,5.0549813370023005,0.6001032702812599,1.1741876896908048,-8.203880105734566,-0.39200045395110455,-4.484466037933688,-1.6507643487697217,-0.4712693883547756,0.05348315505950615,-2.1223369600692643,0.6498461181003803,-1.8966161973315527,-0.2692991404192742,-0.13470747276252454,-1.6805719452187229,-1.6509431985056844,-0.6613258453927694,-2.794194533869217,-1.9415683904140946,-3.031853024533484,-4.638135043829062,-6.654169506194621,-4.495363315305339,-8.556563811253952,-6.939892308084805,-5.855862562247505,-7.78198046041563,-6.219937614944246,-7.827959511259331,-7.108431606846624,-8.589692459211578,-10.453602931422255,-11.953194955449534,-9.580331855782546,-10.977809564887833,-10.99907862255639,-12.085191612607044,-10.752844343254237,-10.096794994374857,-17.35959981583331,-0.22193267442170414,-22.967460430759647,-11.094868892884326,9.764203940222922,0.405713503429676,-3.4496463407368263,-0.0352835399891533,1.9680921062270698,5.593033389812538,0.6943049901152596,1.67272031794507,-7.987736785048488,0.05332517140172203,-4.254996775233174,-1.9336099027794185,-0.7254180301001513,-0.2687827388814599,-2.4197469104406646,0.46501863572126073,-2.1974878464819727,-0.4680210879590138,0.16677694451851693,-1.7233612714240363,-1.749241157922881,-0.6674278928051971,-2.770865041434917,-2.1038411098259453,-3.0022299632546194,-4.825083535355805,-6.692635687002914,-4.544660075959391,-8.567121826632292,-7.113649050145545,-6.0682738994137075,-8.199325048134698,-6.552439751997082,-7.832657563326379,-7.248702320193618,-8.579682016841012,-10.153595336969016,-11.629709805344223,-9.209361104923087,-10.710443326489175,-10.569213245968115,-11.834371303004458,-10.25915906681725,-9.87318267369461,-16.723454998501527,0.3250369524053419,-22.920726446144098,-12.084178725140598,8.842727259132444,-0.515951296460095,-4.434873692863327,-1.0225770388830737,0.8477567093812975,4.32799533587638,-1.3885684432172904,-0.04345010461400868,-9.381947731733238,-1.1506662260127494,-5.000702072366545,-2.737650385786912,-1.2564342803159203,-0.7505581537755835,-2.7754232450632164,0.22835743744364279,-2.3125873906425785,-0.5157396600784601,0.2507466434442777,-1.6193514470230537,-1.6871067447254333,-0.7444708543655568,-2.9563537988169197,-2.377840792570944,-3.3118876050409187,-5.136502322443831,-6.991146213164913,-4.823210281431113,-8.814157647870177,-7.273309616037591,-6.151558743311063,-8.276836692325793,-6.593221113341277,-7.850839465421148,-7.234421778646811,-8.516897935774553,-9.991581577810294,-11.536133013476944,-9.219164596693458,-10.790883661451376,-10.65478207625891,-12.086576886972285,-10.6779563350719,-10.26776853132618,-16.69255018481889,-0.43447518954512593],\n",
       "\"2.5 %\":[-31.395248937746423,-34.73781624449841,-0.23798994490656256,-9.695010645898513,-16.909822044609136,-7.478666685696333,-5.36006780822849,-3.780530634081864,-7.258974318501545,-10.947744028119445,-15.565810067842534,-9.487852463107815,-11.096425068261016,-8.8594830853938,-8.654731137844482,-5.827788157184806,-7.1601332946282845,-3.919801369518619,-7.697227479348983,-5.108665402954954,-5.365000016140023,-7.593159920699595,-9.41129553132629,-6.327256269389927,-8.238711287266776,-7.296922300096094,-9.936170152352751,-11.181047122390256,-12.677019556445279,-10.476078980516274,-15.464924508694143,-13.889590100849368,-13.710851850599614,-15.39775799548304,-13.696517589115032,-15.670132913298994,-15.329765932248026,-17.116020757509023,-17.681622208996746,-19.472202098316327,-18.359651661147367,-19.66733939594369,-20.024902173231645,-22.722467648001405,-23.11555212568048,-25.342497810128435,-39.36678548649826,-15.694361676414873,-30.96909630880444,-35.204871101045306,-0.013227384739378678,-10.379970095251897,-17.754410116806078,-7.113283925616031,-5.448323205699069,-3.8291763954886573,-7.26676794270023,-10.833167792393178,-15.194311394365412,-9.000212729039763,-10.805779262800495,-9.065175064838675,-8.942605771774257,-6.014625408336174,-7.437728801453753,-4.19845334084318,-8.073041200627642,-5.429901340048492,-5.222942992208974,-7.543941144465414,-9.413543613682707,-6.330145316701926,-8.30866321658632,-7.47730471140528,-9.954168242215566,-11.406563789648914,-12.704465208843903,-10.546802476598996,-15.655458665301683,-14.104153128636602,-13.907055862342617,-15.76078505960814,-13.985432316378269,-15.788373511416452,-15.613467505270954,-17.17684673313821,-17.620215492841623,-19.3014046478436,-18.144467557802223,-19.497266229928464,-19.77189371135353,-22.509661655667973,-22.730242813103743,-25.123383956608514,-38.94791389230291,-15.694202266719607,-30.900083118962858,-33.95965694615251,-3.0094025368086132,-9.823951448535349,-16.7906099335518,-8.1715132815089,-7.498545935283717,-6.0523974908094536,-10.60843139156563,-13.795241391907485,-17.29998050288392,-10.962142244456869,-12.138397337883983,-10.501887741377086,-9.89087377330233,-6.700271326253105,-7.988982290538237,-4.540778948071597,-8.221054816237977,-5.518737265342241,-5.1645158837765255,-7.471060962354333,-9.441897160558742,-6.439092072912741,-8.591406308704618,-7.857947322739127,-10.410153899084404,-11.904120700479606,-13.130984935629485,-10.96922876552008,-16.12417520139863,-14.49810171472503,-14.28697763775034,-16.12725683594605,-14.286531693847074,-15.949105434297447,-15.730555248295992,-17.15913210727596,-17.469063482596752,-19.218493025278676,-18.174898934059062,-19.579504237807562,-19.822341294577065,-22.614427482606466,-22.90745115947768,-25.10632056916142,-37.66481213385486,-16.641816398915974],\n",
       "\"97.5 %\":[-15.198056532778054,10.759194676575424,19.774109436368008,10.78006217778595,10.304178513746717,7.18192182696741,10.014083983515775,13.890493308086466,8.459180859064064,13.296119407501052,-0.8419501436265975,8.703851555205608,2.127492992393641,5.557954387854355,7.712192361134932,5.934754467303819,2.9154593744897563,5.2194936057193795,3.903995084685878,4.570067122116405,5.095585070614973,4.232016030262148,6.109409134314921,5.004604578604387,2.650322219528342,3.4137855192679054,3.872464103285784,1.9047770347321311,-0.631319455943963,1.4853523499055958,-1.6482031138137616,0.009805484679758614,1.9991267261046053,-0.16620292534822045,1.2566423592265403,0.01421389078033286,1.1129027185547784,-0.06336416091413355,-3.225583653847763,-4.434187812582743,-0.8010120504177269,-2.2882797338319776,-1.973255071881134,-1.4479155772126813,1.609863439172008,5.148907821378719,4.647585854831643,15.250496327571463,-14.965824552714858,13.015133315276655,19.54163526518522,11.191397102111248,10.855117435332424,7.042716845637724,9.384507418153207,15.015243175113733,8.655377922930748,14.178608428283317,-0.7811621757315645,9.106863071843208,2.2957857123341485,5.197955259279839,7.491769711573955,5.477059930573255,2.5982349805724243,5.128490612285702,3.6780655076636974,4.493859164130464,5.556496881246009,4.097218601617341,5.915061297836944,4.995289531091532,2.7669331337164853,3.2696224917533896,3.9497083157063266,1.7563967189373022,-0.6808061651619255,1.457482324680214,-1.4787849879629,-0.12314497165448834,1.7705080635152015,-0.6378650366612577,0.8805528123841055,0.12305838476369413,1.1160628648837188,0.017482699456184747,-2.6869751810964075,-3.958014962844846,-0.2742546520439486,-1.9236204230498846,-1.3665327805826983,-1.1590809503409432,2.2119246794692398,5.377018609219293,5.501003895299856,16.34427617153029,-14.941369773325338,9.791299495871316,20.6948570550735,8.792048855615159,7.920862547825145,6.126359203742752,9.194059354046312,14.708388162562212,7.831294505131049,13.708341182679469,-1.4639149605825557,8.66080979243137,2.136993193150892,5.026586969803263,7.378005212670489,5.199155018701939,2.4381358004118048,4.997493822958883,3.5958800349528213,4.487257945185321,5.666009170665081,4.232358068308226,6.0676836711078765,4.950150364181628,2.6786987110707785,3.1022657375972393,3.7863786890025666,1.6311160555919448,-0.851307490700342,1.3228082026578551,-1.5041400943417242,-0.04851751735015242,1.983860151128213,-0.4264165487055367,1.100089467164521,0.2474265034551495,1.2617116910023691,0.12533623572685215,-2.5140996730238374,-3.8537730016752123,-0.2634302593278548,-2.0022630850951924,-1.487222857940754,-1.5587262913381057,1.5515384893338808,4.570783506509057,4.279711764217076,15.772866019825724]\n",
       "},\n",
       "\"mapping\":{\n",
       "\"x\":\"Coefficient\",\n",
       "\"y\":\"Estimate\",\n",
       "\"color\":\"Model\"\n",
       "},\n",
       "\"data_meta\":{\n",
       "},\n",
       "\"ggsize\":{\n",
       "\"width\":2000.0,\n",
       "\"height\":600.0\n",
       "},\n",
       "\"theme\":{\n",
       "\"axis_text_x\":{\n",
       "\"angle\":90.0,\n",
       "\"blank\":false\n",
       "}\n",
       "},\n",
       "\"ggtitle\":{\n",
       "\"text\":\"Event Study Plot\"\n",
       "},\n",
       "\"kind\":\"plot\",\n",
       "\"scales\":[{\n",
       "\"name\":\"Estimate and 95% Confidence Interval\",\n",
       "\"aesthetic\":\"y\"\n",
       "}],\n",
       "\"layers\":[{\n",
       "\"geom\":\"point\",\n",
       "\"mapping\":{\n",
       "},\n",
       "\"position\":{\n",
       "\"name\":\"dodge\",\n",
       "\"width\":0.5\n",
       "},\n",
       "\"data_meta\":{\n",
       "},\n",
       "\"data\":{\n",
       "}\n",
       "},{\n",
       "\"geom\":\"errorbar\",\n",
       "\"mapping\":{\n",
       "\"ymin\":\"2.5 %\",\n",
       "\"ymax\":\"97.5 %\"\n",
       "},\n",
       "\"position\":{\n",
       "\"name\":\"dodge\",\n",
       "\"width\":0.5\n",
       "},\n",
       "\"data_meta\":{\n",
       "},\n",
       "\"width\":0.05,\n",
       "\"data\":{\n",
       "}\n",
       "},{\n",
       "\"geom\":\"hline\",\n",
       "\"mapping\":{\n",
       "},\n",
       "\"data_meta\":{\n",
       "},\n",
       "\"yintercept\":0.0,\n",
       "\"linetype\":\"dashed\",\n",
       "\"color\":\"red\",\n",
       "\"data\":{\n",
       "}\n",
       "}],\n",
       "\"metainfo_list\":[]\n",
       "};\n",
       "           var plotContainer = document.getElementById(\"UfR9zy\");\n",
       "           window.letsPlotCall(function() {{\n",
       "               LetsPlot.buildPlotFromProcessedSpecs(plotSpec, -1, -1, plotContainer);\n",
       "           }});\n",
       "       })();    \n",
       "   </script>"
      ]
     },
     "metadata": {},
     "output_type": "display_data"
    }
   ],
   "source": [
    "plot = fit.iplot(\n",
    "    yintercept=0,\n",
    "    figsize=(2000, 600),\n",
    "    coord_flip=False,\n",
    "    title=\"Event Study Plot\",\n",
    "    rotate_xticks=90,\n",
    ")\n",
    "plot.show()"
   ]
  },
  {
   "cell_type": "markdown",
   "metadata": {},
   "source": []
  }
 ],
 "metadata": {
  "kernelspec": {
   "display_name": "Python 3",
   "language": "python",
   "name": "python3"
  },
  "language_info": {
   "codemirror_mode": {
    "name": "ipython",
    "version": 3
   },
   "file_extension": ".py",
   "mimetype": "text/x-python",
   "name": "python",
   "nbconvert_exporter": "python",
   "pygments_lexer": "ipython3",
   "version": "3.10.8"
  },
  "orig_nbformat": 4
 },
 "nbformat": 4,
 "nbformat_minor": 2
}
