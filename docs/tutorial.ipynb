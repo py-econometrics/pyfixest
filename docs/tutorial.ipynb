{
 "cells": [
  {
   "cell_type": "markdown",
   "metadata": {},
   "source": [
    "# Getting Started with PyFixest\n",
    "\n",
    "In a first step, we load the module and some example data:"
   ]
  },
  {
   "cell_type": "code",
   "execution_count": 1,
   "metadata": {},
   "outputs": [],
   "source": [
    "%load_ext autoreload\n",
    "%autoreload 2\n",
    "\n",
    "from pyfixest.estimation import feols, fepois\n",
    "from pyfixest.summarize import summary\n",
    "from pyfixest.visualize import coefplot, iplot\n",
    "from pyfixest.utils import get_data"
   ]
  },
  {
   "cell_type": "code",
   "execution_count": 2,
   "metadata": {},
   "outputs": [
    {
     "data": {
      "text/html": [
       "<div>\n",
       "<style scoped>\n",
       "    .dataframe tbody tr th:only-of-type {\n",
       "        vertical-align: middle;\n",
       "    }\n",
       "\n",
       "    .dataframe tbody tr th {\n",
       "        vertical-align: top;\n",
       "    }\n",
       "\n",
       "    .dataframe thead th {\n",
       "        text-align: right;\n",
       "    }\n",
       "</style>\n",
       "<table border=\"1\" class=\"dataframe\">\n",
       "  <thead>\n",
       "    <tr style=\"text-align: right;\">\n",
       "      <th></th>\n",
       "      <th>Y</th>\n",
       "      <th>Y2</th>\n",
       "      <th>X1</th>\n",
       "      <th>X2</th>\n",
       "      <th>f1</th>\n",
       "      <th>f2</th>\n",
       "      <th>f3</th>\n",
       "      <th>group_id</th>\n",
       "      <th>Z1</th>\n",
       "      <th>Z2</th>\n",
       "    </tr>\n",
       "  </thead>\n",
       "  <tbody>\n",
       "    <tr>\n",
       "      <th>0</th>\n",
       "      <td>NaN</td>\n",
       "      <td>-9.166216</td>\n",
       "      <td>2.0</td>\n",
       "      <td>0.457858</td>\n",
       "      <td>9.0</td>\n",
       "      <td>15.0</td>\n",
       "      <td>0.0</td>\n",
       "      <td>1.0</td>\n",
       "      <td>1.387208</td>\n",
       "      <td>2.018192</td>\n",
       "    </tr>\n",
       "    <tr>\n",
       "      <th>1</th>\n",
       "      <td>2.486016</td>\n",
       "      <td>-3.571090</td>\n",
       "      <td>NaN</td>\n",
       "      <td>-4.998406</td>\n",
       "      <td>8.0</td>\n",
       "      <td>6.0</td>\n",
       "      <td>9.0</td>\n",
       "      <td>11.0</td>\n",
       "      <td>NaN</td>\n",
       "      <td>-2.967624</td>\n",
       "    </tr>\n",
       "    <tr>\n",
       "      <th>2</th>\n",
       "      <td>1.449755</td>\n",
       "      <td>-3.721375</td>\n",
       "      <td>1.0</td>\n",
       "      <td>1.558480</td>\n",
       "      <td>NaN</td>\n",
       "      <td>11.0</td>\n",
       "      <td>0.0</td>\n",
       "      <td>18.0</td>\n",
       "      <td>2.531429</td>\n",
       "      <td>3.008302</td>\n",
       "    </tr>\n",
       "    <tr>\n",
       "      <th>3</th>\n",
       "      <td>4.443920</td>\n",
       "      <td>13.960173</td>\n",
       "      <td>0.0</td>\n",
       "      <td>1.560402</td>\n",
       "      <td>15.0</td>\n",
       "      <td>1.0</td>\n",
       "      <td>4.0</td>\n",
       "      <td>15.0</td>\n",
       "      <td>0.163519</td>\n",
       "      <td>2.086421</td>\n",
       "    </tr>\n",
       "    <tr>\n",
       "      <th>4</th>\n",
       "      <td>1.193511</td>\n",
       "      <td>-6.568647</td>\n",
       "      <td>2.0</td>\n",
       "      <td>-3.472232</td>\n",
       "      <td>20.0</td>\n",
       "      <td>19.0</td>\n",
       "      <td>9.0</td>\n",
       "      <td>5.0</td>\n",
       "      <td>2.769067</td>\n",
       "      <td>-3.645078</td>\n",
       "    </tr>\n",
       "  </tbody>\n",
       "</table>\n",
       "</div>"
      ],
      "text/plain": [
       "          Y         Y2   X1        X2    f1    f2   f3  group_id        Z1  \\\n",
       "0       NaN  -9.166216  2.0  0.457858   9.0  15.0  0.0       1.0  1.387208   \n",
       "1  2.486016  -3.571090  NaN -4.998406   8.0   6.0  9.0      11.0       NaN   \n",
       "2  1.449755  -3.721375  1.0  1.558480   NaN  11.0  0.0      18.0  2.531429   \n",
       "3  4.443920  13.960173  0.0  1.560402  15.0   1.0  4.0      15.0  0.163519   \n",
       "4  1.193511  -6.568647  2.0 -3.472232  20.0  19.0  9.0       5.0  2.769067   \n",
       "\n",
       "         Z2  \n",
       "0  2.018192  \n",
       "1 -2.967624  \n",
       "2  3.008302  \n",
       "3  2.086421  \n",
       "4 -3.645078  "
      ]
     },
     "execution_count": 2,
     "metadata": {},
     "output_type": "execute_result"
    }
   ],
   "source": [
    "data = get_data()\n",
    "data.head()"
   ]
  },
  {
   "cell_type": "markdown",
   "metadata": {},
   "source": [
    "## OLS Estimation"
   ]
  },
  {
   "cell_type": "markdown",
   "metadata": {},
   "source": [
    "We can estimate a fixed effects regression via the `feols()` function. `feols()` has three arguments: a two-sided model formula, the data, and optionally, the type of inference."
   ]
  },
  {
   "cell_type": "code",
   "execution_count": 3,
   "metadata": {},
   "outputs": [
    {
     "data": {
      "text/plain": [
       "pyfixest.feols.Feols"
      ]
     },
     "execution_count": 3,
     "metadata": {},
     "output_type": "execute_result"
    }
   ],
   "source": [
    "fit = feols(fml=\"Y~X1 | f1\", data=data, vcov=\"HC1\")\n",
    "type(fit)"
   ]
  },
  {
   "cell_type": "markdown",
   "metadata": {},
   "source": [
    "The first part of the formula contains the dependent variable and \"regular\" covariates, while the second part contains fixed effects.\n",
    "\n",
    "`feols()` returns an instance of the `Fixest` class."
   ]
  },
  {
   "cell_type": "markdown",
   "metadata": {},
   "source": [
    "To inspect the results, we can use a summary function or method:"
   ]
  },
  {
   "cell_type": "code",
   "execution_count": 4,
   "metadata": {},
   "outputs": [
    {
     "name": "stdout",
     "output_type": "stream",
     "text": [
      "###\n",
      "\n",
      "Estimation:  OLS\n",
      "Dep. var.: Y, Fixed effects: f1\n",
      "Inference:  HC1\n",
      "Observations:  997\n",
      "\n",
      "| Coefficient   |   Estimate |   Std. Error |   t value |   Pr(>|t|) |   2.5 % |   97.5 % |\n",
      "|:--------------|-----------:|-------------:|----------:|-----------:|--------:|---------:|\n",
      "| X1            |      0.337 |        0.056 |     6.039 |      0.000 |   0.228 |    0.447 |\n",
      "---\n",
      "RMSE: 1.422  Adj. R2: 0.035  Adj. R2 Within: 0.035\n"
     ]
    }
   ],
   "source": [
    "fit.summary()"
   ]
  },
  {
   "cell_type": "markdown",
   "metadata": {},
   "source": [
    "Alternatively, the `.summarize` module contains a `summary` function, which can be applied on instances of regression model objects \n",
    "or lists of regression model objects. "
   ]
  },
  {
   "cell_type": "code",
   "execution_count": 5,
   "metadata": {},
   "outputs": [
    {
     "name": "stdout",
     "output_type": "stream",
     "text": [
      "###\n",
      "\n",
      "Estimation:  OLS\n",
      "Dep. var.: Y, Fixed effects: f1\n",
      "Inference:  HC1\n",
      "Observations:  997\n",
      "\n",
      "| Coefficient   |   Estimate |   Std. Error |   t value |   Pr(>|t|) |   2.5 % |   97.5 % |\n",
      "|:--------------|-----------:|-------------:|----------:|-----------:|--------:|---------:|\n",
      "| X1            |      0.337 |        0.056 |     6.039 |      0.000 |   0.228 |    0.447 |\n",
      "---\n",
      "RMSE: 1.422  Adj. R2: 0.035  Adj. R2 Within: 0.035\n"
     ]
    }
   ],
   "source": [
    "summary(fit)"
   ]
  },
  {
   "cell_type": "markdown",
   "metadata": {},
   "source": [
    "You can access individual elements of the summary via dedicated methods: `.tidy()` returns a \"tidy\" `pd.DataFrame`, \n",
    "`.coef()` returns estimated parameters, and `se()` estimated standard errors. Other methods include `pvalue()`, `confint()`\n",
    "and `tstat()`."
   ]
  },
  {
   "cell_type": "code",
   "execution_count": 6,
   "metadata": {},
   "outputs": [
    {
     "data": {
      "text/plain": [
       "Coefficient\n",
       "X1    0.337318\n",
       "Name: Estimate, dtype: float64"
      ]
     },
     "execution_count": 6,
     "metadata": {},
     "output_type": "execute_result"
    }
   ],
   "source": [
    "fit.coef()"
   ]
  },
  {
   "cell_type": "code",
   "execution_count": 7,
   "metadata": {},
   "outputs": [
    {
     "data": {
      "text/plain": [
       "Coefficient\n",
       "X1    0.055861\n",
       "Name: Std. Error, dtype: float64"
      ]
     },
     "execution_count": 7,
     "metadata": {},
     "output_type": "execute_result"
    }
   ],
   "source": [
    "fit.se()"
   ]
  },
  {
   "cell_type": "markdown",
   "metadata": {},
   "source": [
    "## Standard Errors and Inference"
   ]
  },
  {
   "cell_type": "markdown",
   "metadata": {},
   "source": [
    "Supported covariance types are \"iid\", \"HC1-3\", CRV1 and CRV3 (one-way clustering). Inference can be adjusted \"on-the-fly\" via the\n",
    "`.vcov()` method:"
   ]
  },
  {
   "cell_type": "code",
   "execution_count": 8,
   "metadata": {},
   "outputs": [
    {
     "name": "stdout",
     "output_type": "stream",
     "text": [
      "###\n",
      "\n",
      "Estimation:  OLS\n",
      "Dep. var.: Y, Fixed effects: f1\n",
      "Inference:  CRV1\n",
      "Observations:  997\n",
      "\n",
      "| Coefficient   |   Estimate |   Std. Error |   t value |   Pr(>|t|) |   2.5 % |   97.5 % |\n",
      "|:--------------|-----------:|-------------:|----------:|-----------:|--------:|---------:|\n",
      "| X1            |      0.337 |        0.056 |     5.974 |      0.000 |   0.219 |    0.456 |\n",
      "---\n",
      "RMSE: 1.422  Adj. R2: 0.035  Adj. R2 Within: 0.035\n",
      "###\n",
      "\n",
      "Estimation:  OLS\n",
      "Dep. var.: Y, Fixed effects: f1\n",
      "Inference:  CRV3\n",
      "Observations:  997\n",
      "\n",
      "| Coefficient   |   Estimate |   Std. Error |   t value |   Pr(>|t|) |   2.5 % |   97.5 % |\n",
      "|:--------------|-----------:|-------------:|----------:|-----------:|--------:|---------:|\n",
      "| X1            |      0.337 |        0.060 |     5.587 |      0.000 |   0.210 |    0.464 |\n",
      "---\n",
      "RMSE: 1.422  Adj. R2: 0.035  Adj. R2 Within: 0.035\n"
     ]
    }
   ],
   "source": [
    "fit.vcov({\"CRV1\": \"group_id\"}).summary()\n",
    "fit.vcov({\"CRV3\": \"group_id\"}).summary()"
   ]
  },
  {
   "cell_type": "markdown",
   "metadata": {},
   "source": [
    "It is also possible to run a wild (cluster) bootstrap after estimation (via the [wildboottest module](https://github.com/s3alfisc/wildboottest), only for Python\n",
    "versions smaller than `3.11`):"
   ]
  },
  {
   "cell_type": "code",
   "execution_count": 9,
   "metadata": {},
   "outputs": [
    {
     "data": {
      "text/plain": [
       "param                X1\n",
       "statistic         5.542\n",
       "pvalue              0.0\n",
       "bootstrap_type       11\n",
       "impose_null        True\n",
       "dtype: object"
      ]
     },
     "execution_count": 9,
     "metadata": {},
     "output_type": "execute_result"
    }
   ],
   "source": [
    "fit2 = feols(fml=\"Y~ X1\", data=data, vcov={\"CRV1\": \"group_id\"})\n",
    "fit2.wildboottest(param=\"X1\", B=999)"
   ]
  },
  {
   "cell_type": "markdown",
   "metadata": {},
   "source": [
    "Note that the wild bootstrap currently does not support fixed effects in the regression model. Supporting fixed effects is work in progress.\n",
    "\n",
    "## IV Estimation \n",
    "\n",
    "It is also possible to estimate instrumental variable models with *one* endogenous variable and (potentially multiple) instruments:"
   ]
  },
  {
   "cell_type": "code",
   "execution_count": 10,
   "metadata": {},
   "outputs": [
    {
     "name": "stdout",
     "output_type": "stream",
     "text": [
      "###\n",
      "\n",
      "Estimation:  IV\n",
      "Dep. var.: Y2, Fixed effects: f1+f2\n",
      "Inference:  CRV1\n",
      "Observations:  998\n",
      "\n",
      "| Coefficient   |   Estimate |   Std. Error |   t value |   Pr(>|t|) |   2.5 % |   97.5 % |\n",
      "|:--------------|-----------:|-------------:|----------:|-----------:|--------:|---------:|\n",
      "| X1            |      0.355 |        0.313 |     1.137 |      0.265 |  -0.284 |    0.995 |\n",
      "---\n"
     ]
    }
   ],
   "source": [
    "iv_fit = feols(fml=\"Y2~ 1 | f1 + f2 | X1 ~ Z1 + Z2\", data=data)\n",
    "iv_fit.summary()"
   ]
  },
  {
   "cell_type": "markdown",
   "metadata": {},
   "source": [
    "If the model does not contain any fixed effects, just drop the second part of the formula above:"
   ]
  },
  {
   "cell_type": "code",
   "execution_count": 11,
   "metadata": {},
   "outputs": [
    {
     "name": "stdout",
     "output_type": "stream",
     "text": [
      "###\n",
      "\n",
      "Estimation:  IV\n",
      "Dep. var.: Y\n",
      "Inference:  iid\n",
      "Observations:  998\n",
      "\n",
      "| Coefficient   |   Estimate |   Std. Error |   t value |   Pr(>|t|) |   2.5 % |   97.5 % |\n",
      "|:--------------|-----------:|-------------:|----------:|-----------:|--------:|---------:|\n",
      "| Intercept     |      2.355 |        0.122 |    19.226 |      0.000 |   2.114 |    2.595 |\n",
      "| X1            |      0.215 |        0.105 |     2.057 |      0.040 |   0.010 |    0.421 |\n",
      "---\n"
     ]
    }
   ],
   "source": [
    "feols(fml=\"Y~ 1 | X1 ~ Z1 + Z2\", data=data).summary()"
   ]
  },
  {
   "cell_type": "markdown",
   "metadata": {},
   "source": [
    "IV estimation with multiple endogenous variables and multiple estimation syntax is currently not supported. The syntax is \"depvar ~ exog.vars | fixef effects | endog.vars ~ instruments\"."
   ]
  },
  {
   "cell_type": "markdown",
   "metadata": {},
   "source": [
    "## Poisson Regression \n",
    "\n",
    "With version `0.8.4`, it is possible to estimate Poisson Regressions (not yet on PyPi): "
   ]
  },
  {
   "cell_type": "code",
   "execution_count": 12,
   "metadata": {},
   "outputs": [
    {
     "name": "stdout",
     "output_type": "stream",
     "text": [
      "###\n",
      "\n",
      "Estimation:  Poisson\n",
      "Dep. var.: Y, Fixed effects: f1+f2\n",
      "Inference:  CRV1\n",
      "Observations:  997\n",
      "\n",
      "| Coefficient   |   Estimate |   Std. Error |   t value |   Pr(>|t|) |   2.5 % |   97.5 % |\n",
      "|:--------------|-----------:|-------------:|----------:|-----------:|--------:|---------:|\n",
      "| X1            |      0.003 |        0.054 |     0.057 |      0.954 |  -0.103 |    0.109 |\n",
      "---\n",
      "Deviance: 1068.039\n"
     ]
    }
   ],
   "source": [
    "from pyfixest.utils import get_data\n",
    "\n",
    "pois_data = get_data(model = \"Fepois\")\n",
    "pois_fit = fepois(fml=\"Y~X1 | f1+f2\", data=pois_data, vcov={\"CRV1\": \"group_id\"})\n",
    "pois_fit.summary()"
   ]
  },
  {
   "cell_type": "markdown",
   "metadata": {},
   "source": [
    "## Multiple Estimation \n",
    "\n",
    "`PyFixest` supports a range of multiple estimation functionality: `sw`, `sw0`, `csw`, `csw0`, and multiple dependent variables. If multiple regression syntax is used, \n",
    "`feols()` and `fepois` returns an instance of a `FixestMulti` object, which essentially consists of a dicionary of `Fepois` or `Feols` instances."
   ]
  },
  {
   "cell_type": "code",
   "execution_count": 13,
   "metadata": {},
   "outputs": [
    {
     "data": {
      "text/plain": [
       "<pyfixest.FixestMulti.FixestMulti at 0x20d3a2735e0>"
      ]
     },
     "execution_count": 13,
     "metadata": {},
     "output_type": "execute_result"
    }
   ],
   "source": [
    "multi_fit = feols(fml=\"Y~X1 | csw0(f1, f2)\", data=data, vcov=\"HC1\")\n",
    "multi_fit"
   ]
  },
  {
   "cell_type": "code",
   "execution_count": 14,
   "metadata": {},
   "outputs": [
    {
     "name": "stdout",
     "output_type": "stream",
     "text": [
      "###\n",
      "\n",
      "Estimation:  OLS\n",
      "Dep. var.: Y\n",
      "Inference:  HC1\n",
      "Observations:  998\n",
      "\n",
      "| Coefficient   |   Estimate |   Std. Error |   t value |   Pr(>|t|) |   2.5 % |   97.5 % |\n",
      "|:--------------|-----------:|-------------:|----------:|-----------:|--------:|---------:|\n",
      "| Intercept     |      2.189 |        0.092 |    23.844 |      0.000 |   2.009 |    2.369 |\n",
      "| X1            |      0.374 |        0.068 |     5.539 |      0.000 |   0.242 |    0.507 |\n",
      "---\n",
      "RMSE: 1.765  Adj. R2: 0.028  Adj. R2 Within: 0.028\n",
      "###\n",
      "\n",
      "Estimation:  OLS\n",
      "Dep. var.: Y, Fixed effects: f1\n",
      "Inference:  HC1\n",
      "Observations:  997\n",
      "\n",
      "| Coefficient   |   Estimate |   Std. Error |   t value |   Pr(>|t|) |   2.5 % |   97.5 % |\n",
      "|:--------------|-----------:|-------------:|----------:|-----------:|--------:|---------:|\n",
      "| X1            |      0.337 |        0.056 |     6.039 |      0.000 |   0.228 |    0.447 |\n",
      "---\n",
      "RMSE: 1.422  Adj. R2: 0.035  Adj. R2 Within: 0.035\n",
      "###\n",
      "\n",
      "Estimation:  OLS\n",
      "Dep. var.: Y, Fixed effects: f1+f2\n",
      "Inference:  HC1\n",
      "Observations:  997\n",
      "\n",
      "| Coefficient   |   Estimate |   Std. Error |   t value |   Pr(>|t|) |   2.5 % |   97.5 % |\n",
      "|:--------------|-----------:|-------------:|----------:|-----------:|--------:|---------:|\n",
      "| X1            |      0.379 |        0.046 |     8.230 |      0.000 |   0.289 |    0.470 |\n",
      "---\n",
      "RMSE: 1.201  Adj. R2: 0.059  Adj. R2 Within: 0.059\n"
     ]
    }
   ],
   "source": [
    "multi_fit.summary()"
   ]
  },
  {
   "cell_type": "markdown",
   "metadata": {},
   "source": [
    "Alternatively, you can look at the estimation results via the `etable()` method:"
   ]
  },
  {
   "cell_type": "code",
   "execution_count": 15,
   "metadata": {},
   "outputs": [
    {
     "data": {
      "text/html": [
       "<div>\n",
       "<style scoped>\n",
       "    .dataframe tbody tr th:only-of-type {\n",
       "        vertical-align: middle;\n",
       "    }\n",
       "\n",
       "    .dataframe tbody tr th {\n",
       "        vertical-align: top;\n",
       "    }\n",
       "\n",
       "    .dataframe thead tr th {\n",
       "        text-align: left;\n",
       "    }\n",
       "</style>\n",
       "<table border=\"1\" class=\"dataframe\">\n",
       "  <thead>\n",
       "    <tr>\n",
       "      <th>fml</th>\n",
       "      <th colspan=\"2\" halign=\"left\">Y~X1</th>\n",
       "      <th>Y~X1|f1</th>\n",
       "      <th>Y~X1|f1+f2</th>\n",
       "    </tr>\n",
       "    <tr>\n",
       "      <th>Coefficient</th>\n",
       "      <th>Intercept</th>\n",
       "      <th>X1</th>\n",
       "      <th>X1</th>\n",
       "      <th>X1</th>\n",
       "    </tr>\n",
       "  </thead>\n",
       "  <tbody>\n",
       "    <tr>\n",
       "      <th>Estimate</th>\n",
       "      <td>2.189</td>\n",
       "      <td>0.374</td>\n",
       "      <td>0.337</td>\n",
       "      <td>0.379</td>\n",
       "    </tr>\n",
       "    <tr>\n",
       "      <th>Std. Error</th>\n",
       "      <td>0.092</td>\n",
       "      <td>0.068</td>\n",
       "      <td>0.056</td>\n",
       "      <td>0.046</td>\n",
       "    </tr>\n",
       "    <tr>\n",
       "      <th>t value</th>\n",
       "      <td>23.844</td>\n",
       "      <td>5.539</td>\n",
       "      <td>6.039</td>\n",
       "      <td>8.230</td>\n",
       "    </tr>\n",
       "    <tr>\n",
       "      <th>Pr(&gt;|t|)</th>\n",
       "      <td>0.000</td>\n",
       "      <td>0.000</td>\n",
       "      <td>0.000</td>\n",
       "      <td>0.000</td>\n",
       "    </tr>\n",
       "    <tr>\n",
       "      <th>2.5 %</th>\n",
       "      <td>2.009</td>\n",
       "      <td>0.242</td>\n",
       "      <td>0.228</td>\n",
       "      <td>0.289</td>\n",
       "    </tr>\n",
       "    <tr>\n",
       "      <th>97.5 %</th>\n",
       "      <td>2.369</td>\n",
       "      <td>0.507</td>\n",
       "      <td>0.447</td>\n",
       "      <td>0.470</td>\n",
       "    </tr>\n",
       "  </tbody>\n",
       "</table>\n",
       "</div>"
      ],
      "text/plain": [
       "fml              Y~X1        Y~X1|f1 Y~X1|f1+f2\n",
       "Coefficient Intercept     X1      X1         X1\n",
       "Estimate        2.189  0.374   0.337      0.379\n",
       "Std. Error      0.092  0.068   0.056      0.046\n",
       "t value        23.844  5.539   6.039      8.230\n",
       "Pr(>|t|)        0.000  0.000   0.000      0.000\n",
       "2.5 %           2.009  0.242   0.228      0.289\n",
       "97.5 %          2.369  0.507   0.447      0.470"
      ]
     },
     "execution_count": 15,
     "metadata": {},
     "output_type": "execute_result"
    }
   ],
   "source": [
    "multi_fit.etable()"
   ]
  },
  {
   "cell_type": "markdown",
   "metadata": {},
   "source": [
    "If you are only insterested in some parameters, e.g. \"X1\", you can use the following syntax:"
   ]
  },
  {
   "cell_type": "code",
   "execution_count": 16,
   "metadata": {},
   "outputs": [
    {
     "data": {
      "text/html": [
       "<div>\n",
       "<style scoped>\n",
       "    .dataframe tbody tr th:only-of-type {\n",
       "        vertical-align: middle;\n",
       "    }\n",
       "\n",
       "    .dataframe tbody tr th {\n",
       "        vertical-align: top;\n",
       "    }\n",
       "\n",
       "    .dataframe thead th {\n",
       "        text-align: right;\n",
       "    }\n",
       "</style>\n",
       "<table border=\"1\" class=\"dataframe\">\n",
       "  <thead>\n",
       "    <tr style=\"text-align: right;\">\n",
       "      <th>fml</th>\n",
       "      <th>Y~X1</th>\n",
       "      <th>Y~X1|f1</th>\n",
       "      <th>Y~X1|f1+f2</th>\n",
       "    </tr>\n",
       "  </thead>\n",
       "  <tbody>\n",
       "    <tr>\n",
       "      <th>Estimate</th>\n",
       "      <td>0.374</td>\n",
       "      <td>0.337</td>\n",
       "      <td>0.379</td>\n",
       "    </tr>\n",
       "    <tr>\n",
       "      <th>Std. Error</th>\n",
       "      <td>0.068</td>\n",
       "      <td>0.056</td>\n",
       "      <td>0.046</td>\n",
       "    </tr>\n",
       "    <tr>\n",
       "      <th>t value</th>\n",
       "      <td>5.539</td>\n",
       "      <td>6.039</td>\n",
       "      <td>8.230</td>\n",
       "    </tr>\n",
       "    <tr>\n",
       "      <th>Pr(&gt;|t|)</th>\n",
       "      <td>0.000</td>\n",
       "      <td>0.000</td>\n",
       "      <td>0.000</td>\n",
       "    </tr>\n",
       "    <tr>\n",
       "      <th>2.5 %</th>\n",
       "      <td>0.242</td>\n",
       "      <td>0.228</td>\n",
       "      <td>0.289</td>\n",
       "    </tr>\n",
       "    <tr>\n",
       "      <th>97.5 %</th>\n",
       "      <td>0.507</td>\n",
       "      <td>0.447</td>\n",
       "      <td>0.470</td>\n",
       "    </tr>\n",
       "  </tbody>\n",
       "</table>\n",
       "</div>"
      ],
      "text/plain": [
       "fml          Y~X1  Y~X1|f1  Y~X1|f1+f2\n",
       "Estimate    0.374    0.337       0.379\n",
       "Std. Error  0.068    0.056       0.046\n",
       "t value     5.539    6.039       8.230\n",
       "Pr(>|t|)    0.000    0.000       0.000\n",
       "2.5 %       0.242    0.228       0.289\n",
       "97.5 %      0.507    0.447       0.470"
      ]
     },
     "execution_count": 16,
     "metadata": {},
     "output_type": "execute_result"
    }
   ],
   "source": [
    "multi_fit.etable().xs(\"X1\", level=1, axis=1)"
   ]
  },
  {
   "cell_type": "markdown",
   "metadata": {},
   "source": [
    "You can access an individual model by its name - i.e. a formula - via the `all_fitted_models` attribure."
   ]
  },
  {
   "cell_type": "code",
   "execution_count": 17,
   "metadata": {},
   "outputs": [
    {
     "data": {
      "text/html": [
       "<div>\n",
       "<style scoped>\n",
       "    .dataframe tbody tr th:only-of-type {\n",
       "        vertical-align: middle;\n",
       "    }\n",
       "\n",
       "    .dataframe tbody tr th {\n",
       "        vertical-align: top;\n",
       "    }\n",
       "\n",
       "    .dataframe thead th {\n",
       "        text-align: right;\n",
       "    }\n",
       "</style>\n",
       "<table border=\"1\" class=\"dataframe\">\n",
       "  <thead>\n",
       "    <tr style=\"text-align: right;\">\n",
       "      <th></th>\n",
       "      <th>Estimate</th>\n",
       "      <th>Std. Error</th>\n",
       "      <th>t value</th>\n",
       "      <th>Pr(&gt;|t|)</th>\n",
       "      <th>2.5 %</th>\n",
       "      <th>97.5 %</th>\n",
       "    </tr>\n",
       "    <tr>\n",
       "      <th>Coefficient</th>\n",
       "      <th></th>\n",
       "      <th></th>\n",
       "      <th></th>\n",
       "      <th></th>\n",
       "      <th></th>\n",
       "      <th></th>\n",
       "    </tr>\n",
       "  </thead>\n",
       "  <tbody>\n",
       "    <tr>\n",
       "      <th>Intercept</th>\n",
       "      <td>2.189301</td>\n",
       "      <td>0.091816</td>\n",
       "      <td>23.844375</td>\n",
       "      <td>0.000000e+00</td>\n",
       "      <td>2.009126</td>\n",
       "      <td>2.369477</td>\n",
       "    </tr>\n",
       "    <tr>\n",
       "      <th>X1</th>\n",
       "      <td>0.374381</td>\n",
       "      <td>0.067585</td>\n",
       "      <td>5.539372</td>\n",
       "      <td>3.884382e-08</td>\n",
       "      <td>0.241755</td>\n",
       "      <td>0.507007</td>\n",
       "    </tr>\n",
       "  </tbody>\n",
       "</table>\n",
       "</div>"
      ],
      "text/plain": [
       "             Estimate  Std. Error    t value      Pr(>|t|)     2.5 %    97.5 %\n",
       "Coefficient                                                                   \n",
       "Intercept    2.189301    0.091816  23.844375  0.000000e+00  2.009126  2.369477\n",
       "X1           0.374381    0.067585   5.539372  3.884382e-08  0.241755  0.507007"
      ]
     },
     "execution_count": 17,
     "metadata": {},
     "output_type": "execute_result"
    }
   ],
   "source": [
    "multi_fit.all_fitted_models[\"Y~X1\"].tidy()"
   ]
  },
  {
   "cell_type": "markdown",
   "metadata": {},
   "source": [
    "or equivalently via the `fetch_model` method:"
   ]
  },
  {
   "cell_type": "code",
   "execution_count": 18,
   "metadata": {},
   "outputs": [
    {
     "name": "stdout",
     "output_type": "stream",
     "text": [
      "Model:  Y~X1\n"
     ]
    },
    {
     "data": {
      "text/html": [
       "<div>\n",
       "<style scoped>\n",
       "    .dataframe tbody tr th:only-of-type {\n",
       "        vertical-align: middle;\n",
       "    }\n",
       "\n",
       "    .dataframe tbody tr th {\n",
       "        vertical-align: top;\n",
       "    }\n",
       "\n",
       "    .dataframe thead th {\n",
       "        text-align: right;\n",
       "    }\n",
       "</style>\n",
       "<table border=\"1\" class=\"dataframe\">\n",
       "  <thead>\n",
       "    <tr style=\"text-align: right;\">\n",
       "      <th></th>\n",
       "      <th>Estimate</th>\n",
       "      <th>Std. Error</th>\n",
       "      <th>t value</th>\n",
       "      <th>Pr(&gt;|t|)</th>\n",
       "      <th>2.5 %</th>\n",
       "      <th>97.5 %</th>\n",
       "    </tr>\n",
       "    <tr>\n",
       "      <th>Coefficient</th>\n",
       "      <th></th>\n",
       "      <th></th>\n",
       "      <th></th>\n",
       "      <th></th>\n",
       "      <th></th>\n",
       "      <th></th>\n",
       "    </tr>\n",
       "  </thead>\n",
       "  <tbody>\n",
       "    <tr>\n",
       "      <th>Intercept</th>\n",
       "      <td>2.189301</td>\n",
       "      <td>0.091816</td>\n",
       "      <td>23.844375</td>\n",
       "      <td>0.000000e+00</td>\n",
       "      <td>2.009126</td>\n",
       "      <td>2.369477</td>\n",
       "    </tr>\n",
       "    <tr>\n",
       "      <th>X1</th>\n",
       "      <td>0.374381</td>\n",
       "      <td>0.067585</td>\n",
       "      <td>5.539372</td>\n",
       "      <td>3.884382e-08</td>\n",
       "      <td>0.241755</td>\n",
       "      <td>0.507007</td>\n",
       "    </tr>\n",
       "  </tbody>\n",
       "</table>\n",
       "</div>"
      ],
      "text/plain": [
       "             Estimate  Std. Error    t value      Pr(>|t|)     2.5 %    97.5 %\n",
       "Coefficient                                                                   \n",
       "Intercept    2.189301    0.091816  23.844375  0.000000e+00  2.009126  2.369477\n",
       "X1           0.374381    0.067585   5.539372  3.884382e-08  0.241755  0.507007"
      ]
     },
     "execution_count": 18,
     "metadata": {},
     "output_type": "execute_result"
    }
   ],
   "source": [
    "multi_fit.fetch_model(0).tidy()"
   ]
  },
  {
   "cell_type": "markdown",
   "metadata": {},
   "source": [
    "Here, `0` simply fetches the first model stored in the `all_fitted_models` dictionary, `1` the second etc."
   ]
  },
  {
   "cell_type": "markdown",
   "metadata": {},
   "source": [
    "Objects of type `Fixest` come with a range of additional methods: `tidy()`, `coef()`, `vcov()` etc, which \n",
    "essentially loop over the equivalent methods of all fitted models. E.g. `Fixest.vcov()` updates inference for all \n",
    "models stored in `Fixest`."
   ]
  },
  {
   "cell_type": "code",
   "execution_count": 19,
   "metadata": {},
   "outputs": [
    {
     "name": "stdout",
     "output_type": "stream",
     "text": [
      "###\n",
      "\n",
      "Estimation:  OLS\n",
      "Dep. var.: Y\n",
      "Inference:  iid\n",
      "Observations:  998\n",
      "\n",
      "| Coefficient   |   Estimate |   Std. Error |   t value |   Pr(>|t|) |   2.5 % |   97.5 % |\n",
      "|:--------------|-----------:|-------------:|----------:|-----------:|--------:|---------:|\n",
      "| Intercept     |      2.189 |        0.090 |    24.318 |      0.000 |   2.013 |    2.366 |\n",
      "| X1            |      0.374 |        0.068 |     5.519 |      0.000 |   0.241 |    0.507 |\n",
      "---\n",
      "RMSE: 1.765  Adj. R2: 0.028  Adj. R2 Within: 0.028\n",
      "###\n",
      "\n",
      "Estimation:  OLS\n",
      "Dep. var.: Y, Fixed effects: f1\n",
      "Inference:  iid\n",
      "Observations:  997\n",
      "\n",
      "| Coefficient   |   Estimate |   Std. Error |   t value |   Pr(>|t|) |   2.5 % |   97.5 % |\n",
      "|:--------------|-----------:|-------------:|----------:|-----------:|--------:|---------:|\n",
      "| X1            |      0.337 |        0.055 |     6.088 |      0.000 |   0.229 |    0.446 |\n",
      "---\n",
      "RMSE: 1.422  Adj. R2: 0.035  Adj. R2 Within: 0.035\n",
      "###\n",
      "\n",
      "Estimation:  OLS\n",
      "Dep. var.: Y, Fixed effects: f1+f2\n",
      "Inference:  iid\n",
      "Observations:  997\n",
      "\n",
      "| Coefficient   |   Estimate |   Std. Error |   t value |   Pr(>|t|) |   2.5 % |   97.5 % |\n",
      "|:--------------|-----------:|-------------:|----------:|-----------:|--------:|---------:|\n",
      "| X1            |      0.379 |        0.047 |     8.000 |      0.000 |   0.286 |    0.472 |\n",
      "---\n",
      "RMSE: 1.201  Adj. R2: 0.059  Adj. R2 Within: 0.059\n"
     ]
    }
   ],
   "source": [
    "multi_fit.vcov(\"iid\").summary()"
   ]
  },
  {
   "cell_type": "markdown",
   "metadata": {},
   "source": [
    "## TWFE Event Study\n",
    "\n",
    "To conclude this intro, we estimate an event study from an example of the the [LOST](https://lost-stats.github.io/Model_Estimation/Research_Design/event_study.html) library of statistical techniques."
   ]
  },
  {
   "cell_type": "code",
   "execution_count": 20,
   "metadata": {},
   "outputs": [
    {
     "data": {
      "image/png": "[encoded data removed]",
      "text/plain": [
       "<Figure size 2000x500 with 3 Axes>"
      ]
     },
     "metadata": {},
     "output_type": "display_data"
    }
   ],
   "source": [
    "import pandas as pd\n",
    "import numpy as np\n",
    "\n",
    "# Read in data\n",
    "df = pd.read_csv(\n",
    "    \"https://raw.githubusercontent.com/LOST-STATS/LOST-STATS.github.io/master/Model_Estimation/Data/Event_Study_DiD/bacon_example.csv\"\n",
    ")\n",
    "\n",
    "df[\"time_to_treat\"] = (df[\"year\"] - df[\"_nfd\"]).fillna(0).astype(int)\n",
    "df[\"time_to_treat\"] = pd.Categorical(\n",
    "    df.time_to_treat, np.sort(df.time_to_treat.unique())\n",
    ")\n",
    "df[\"treat\"] = np.where(pd.isna(df[\"_nfd\"]), 0, 1)\n",
    "\n",
    "fml = \"asmrs ~ i(time_to_treat, treat, ref = -1) + csw(pcinc, asmrh, cases) | stfips + year\"\n",
    "fit = feols(fml=fml, data=df, vcov={\"CRV1\": \"stfips\"})\n",
    "fit.iplot(yintercept=0, figsize=(20, 5))"
   ]
  },
  {
   "cell_type": "markdown",
   "metadata": {},
   "source": []
  }
 ],
 "metadata": {
  "kernelspec": {
   "display_name": "Python 3",
   "language": "python",
   "name": "python3"
  },
  "language_info": {
   "codemirror_mode": {
    "name": "ipython",
    "version": 3
   },
   "file_extension": ".py",
   "mimetype": "text/x-python",
   "name": "python",
   "nbconvert_exporter": "python",
   "pygments_lexer": "ipython3",
   "version": "3.10.8"
  },
  "orig_nbformat": 4
 },
 "nbformat": 4,
 "nbformat_minor": 2
}
