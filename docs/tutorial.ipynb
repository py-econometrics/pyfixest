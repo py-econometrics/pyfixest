{
 "cells": [
  {
   "cell_type": "markdown",
   "metadata": {},
   "source": [
    "# Getting Started with PyFixest\n",
    "\n",
    "In a first step, we load the module and some example data:"
   ]
  },
  {
   "cell_type": "code",
   "execution_count": 5,
   "metadata": {},
   "outputs": [
    {
     "name": "stdout",
     "output_type": "stream",
     "text": [
      "The autoreload extension is already loaded. To reload it, use:\n",
      "  %reload_ext autoreload\n"
     ]
    },
    {
     "data": {
      "text/html": [
       "\n",
       "            <div id=\"yrgfoe\"></div>\n",
       "            <script type=\"text/javascript\" data-lets-plot-script=\"library\">\n",
       "                if(!window.letsPlotCallQueue) {\n",
       "                    window.letsPlotCallQueue = [];\n",
       "                }; \n",
       "                window.letsPlotCall = function(f) {\n",
       "                    window.letsPlotCallQueue.push(f);\n",
       "                };\n",
       "                (function() {\n",
       "                    var script = document.createElement(\"script\");\n",
       "                    script.type = \"text/javascript\";\n",
       "                    script.src = \"https://cdn.jsdelivr.net/gh/JetBrains/lets-plot@v4.0.1/js-package/distr/lets-plot.min.js\";\n",
       "                    script.onload = function() {\n",
       "                        window.letsPlotCall = function(f) {f();};\n",
       "                        window.letsPlotCallQueue.forEach(function(f) {f();});\n",
       "                        window.letsPlotCallQueue = [];\n",
       "                        \n",
       "                    };\n",
       "                    script.onerror = function(event) {\n",
       "                        window.letsPlotCall = function(f) {};    // noop\n",
       "                        window.letsPlotCallQueue = [];\n",
       "                        var div = document.createElement(\"div\");\n",
       "                        div.style.color = 'darkred';\n",
       "                        div.textContent = 'Error loading Lets-Plot JS';\n",
       "                        document.getElementById(\"yrgfoe\").appendChild(div);\n",
       "                    };\n",
       "                    var e = document.getElementById(\"yrgfoe\");\n",
       "                    e.appendChild(script);\n",
       "                })()\n",
       "            </script>\n",
       "            "
      ]
     },
     "metadata": {},
     "output_type": "display_data"
    }
   ],
   "source": [
    "%load_ext autoreload\n",
    "%autoreload 2\n",
    "\n",
    "from pyfixest.estimation import feols, fepois\n",
    "from pyfixest.summarize import summary\n",
    "from pyfixest.visualize import coefplot, iplot\n",
    "from pyfixest.utils import get_data"
   ]
  },
  {
   "cell_type": "code",
   "execution_count": 6,
   "metadata": {},
   "outputs": [
    {
     "data": {
      "text/html": [
       "<div>\n",
       "<style scoped>\n",
       "    .dataframe tbody tr th:only-of-type {\n",
       "        vertical-align: middle;\n",
       "    }\n",
       "\n",
       "    .dataframe tbody tr th {\n",
       "        vertical-align: top;\n",
       "    }\n",
       "\n",
       "    .dataframe thead th {\n",
       "        text-align: right;\n",
       "    }\n",
       "</style>\n",
       "<table border=\"1\" class=\"dataframe\">\n",
       "  <thead>\n",
       "    <tr style=\"text-align: right;\">\n",
       "      <th></th>\n",
       "      <th>Y</th>\n",
       "      <th>Y2</th>\n",
       "      <th>X1</th>\n",
       "      <th>X2</th>\n",
       "      <th>f1</th>\n",
       "      <th>f2</th>\n",
       "      <th>f3</th>\n",
       "      <th>group_id</th>\n",
       "      <th>Z1</th>\n",
       "      <th>Z2</th>\n",
       "    </tr>\n",
       "  </thead>\n",
       "  <tbody>\n",
       "    <tr>\n",
       "      <th>0</th>\n",
       "      <td>NaN</td>\n",
       "      <td>-9.534190</td>\n",
       "      <td>1.0</td>\n",
       "      <td>0.457858</td>\n",
       "      <td>9.0</td>\n",
       "      <td>15.0</td>\n",
       "      <td>0.0</td>\n",
       "      <td>1.0</td>\n",
       "      <td>1.144217</td>\n",
       "      <td>0.966141</td>\n",
       "    </tr>\n",
       "    <tr>\n",
       "      <th>1</th>\n",
       "      <td>2.486016</td>\n",
       "      <td>-3.571090</td>\n",
       "      <td>NaN</td>\n",
       "      <td>-4.998406</td>\n",
       "      <td>8.0</td>\n",
       "      <td>6.0</td>\n",
       "      <td>9.0</td>\n",
       "      <td>11.0</td>\n",
       "      <td>NaN</td>\n",
       "      <td>-5.889014</td>\n",
       "    </tr>\n",
       "    <tr>\n",
       "      <th>2</th>\n",
       "      <td>1.817729</td>\n",
       "      <td>-3.353401</td>\n",
       "      <td>2.0</td>\n",
       "      <td>1.558480</td>\n",
       "      <td>NaN</td>\n",
       "      <td>11.0</td>\n",
       "      <td>0.0</td>\n",
       "      <td>18.0</td>\n",
       "      <td>2.033647</td>\n",
       "      <td>2.392247</td>\n",
       "    </tr>\n",
       "    <tr>\n",
       "      <th>3</th>\n",
       "      <td>4.811894</td>\n",
       "      <td>14.328147</td>\n",
       "      <td>1.0</td>\n",
       "      <td>1.560402</td>\n",
       "      <td>15.0</td>\n",
       "      <td>1.0</td>\n",
       "      <td>4.0</td>\n",
       "      <td>15.0</td>\n",
       "      <td>1.870371</td>\n",
       "      <td>1.083727</td>\n",
       "    </tr>\n",
       "    <tr>\n",
       "      <th>4</th>\n",
       "      <td>0.457563</td>\n",
       "      <td>-7.304594</td>\n",
       "      <td>0.0</td>\n",
       "      <td>-3.472232</td>\n",
       "      <td>20.0</td>\n",
       "      <td>19.0</td>\n",
       "      <td>9.0</td>\n",
       "      <td>5.0</td>\n",
       "      <td>1.879240</td>\n",
       "      <td>-3.319665</td>\n",
       "    </tr>\n",
       "  </tbody>\n",
       "</table>\n",
       "</div>"
      ],
      "text/plain": [
       "          Y         Y2   X1        X2    f1    f2   f3  group_id        Z1  \\\n",
       "0       NaN  -9.534190  1.0  0.457858   9.0  15.0  0.0       1.0  1.144217   \n",
       "1  2.486016  -3.571090  NaN -4.998406   8.0   6.0  9.0      11.0       NaN   \n",
       "2  1.817729  -3.353401  2.0  1.558480   NaN  11.0  0.0      18.0  2.033647   \n",
       "3  4.811894  14.328147  1.0  1.560402  15.0   1.0  4.0      15.0  1.870371   \n",
       "4  0.457563  -7.304594  0.0 -3.472232  20.0  19.0  9.0       5.0  1.879240   \n",
       "\n",
       "         Z2  \n",
       "0  0.966141  \n",
       "1 -5.889014  \n",
       "2  2.392247  \n",
       "3  1.083727  \n",
       "4 -3.319665  "
      ]
     },
     "execution_count": 6,
     "metadata": {},
     "output_type": "execute_result"
    }
   ],
   "source": [
    "data = get_data()\n",
    "data.head()"
   ]
  },
  {
   "cell_type": "markdown",
   "metadata": {},
   "source": [
    "## OLS Estimation"
   ]
  },
  {
   "cell_type": "markdown",
   "metadata": {},
   "source": [
    "We can estimate a fixed effects regression via the `feols()` function. `feols()` has three arguments: a two-sided model formula, the data, and optionally, the type of inference."
   ]
  },
  {
   "cell_type": "code",
   "execution_count": 7,
   "metadata": {},
   "outputs": [
    {
     "data": {
      "text/plain": [
       "pyfixest.feols.Feols"
      ]
     },
     "execution_count": 7,
     "metadata": {},
     "output_type": "execute_result"
    }
   ],
   "source": [
    "fit = feols(fml=\"Y~X1 | f1\", data=data, vcov=\"HC1\")\n",
    "type(fit)"
   ]
  },
  {
   "cell_type": "markdown",
   "metadata": {},
   "source": [
    "The first part of the formula contains the dependent variable and \"regular\" covariates, while the second part contains fixed effects.\n",
    "\n",
    "`feols()` returns an instance of the `Fixest` class."
   ]
  },
  {
   "cell_type": "markdown",
   "metadata": {},
   "source": [
    "To inspect the results, we can use a summary function or method:"
   ]
  },
  {
   "cell_type": "code",
   "execution_count": 8,
   "metadata": {},
   "outputs": [
    {
     "name": "stdout",
     "output_type": "stream",
     "text": [
      "###\n",
      "\n",
      "Estimation:  OLS\n",
      "Dep. var.: Y, Fixed effects: f1\n",
      "Inference:  HC1\n",
      "Observations:  997\n",
      "\n",
      "| Coefficient   |   Estimate |   Std. Error |   t value |   Pr(>|t|) |   2.5 % |   97.5 % |\n",
      "|:--------------|-----------:|-------------:|----------:|-----------:|--------:|---------:|\n",
      "| X1            |      0.402 |        0.058 |     6.964 |      0.000 |   0.289 |    0.516 |\n",
      "---\n",
      "RMSE: 1.422  Adj. R2: 0.046  Adj. R2 Within: 0.046\n"
     ]
    }
   ],
   "source": [
    "fit.summary()"
   ]
  },
  {
   "cell_type": "markdown",
   "metadata": {},
   "source": [
    "Alternatively, the `.summarize` module contains a `summary` function, which can be applied on instances of regression model objects \n",
    "or lists of regression model objects. "
   ]
  },
  {
   "cell_type": "code",
   "execution_count": 9,
   "metadata": {},
   "outputs": [
    {
     "name": "stdout",
     "output_type": "stream",
     "text": [
      "###\n",
      "\n",
      "Estimation:  OLS\n",
      "Dep. var.: Y, Fixed effects: f1\n",
      "Inference:  HC1\n",
      "Observations:  997\n",
      "\n",
      "| Coefficient   |   Estimate |   Std. Error |   t value |   Pr(>|t|) |   2.5 % |   97.5 % |\n",
      "|:--------------|-----------:|-------------:|----------:|-----------:|--------:|---------:|\n",
      "| X1            |      0.402 |        0.058 |     6.964 |      0.000 |   0.289 |    0.516 |\n",
      "---\n",
      "RMSE: 1.422  Adj. R2: 0.046  Adj. R2 Within: 0.046\n"
     ]
    }
   ],
   "source": [
    "summary(fit)"
   ]
  },
  {
   "cell_type": "markdown",
   "metadata": {},
   "source": [
    "You can access individual elements of the summary via dedicated methods: `.tidy()` returns a \"tidy\" `pd.DataFrame`, \n",
    "`.coef()` returns estimated parameters, and `se()` estimated standard errors. Other methods include `pvalue()`, `confint()`\n",
    "and `tstat()`."
   ]
  },
  {
   "cell_type": "code",
   "execution_count": 10,
   "metadata": {},
   "outputs": [
    {
     "data": {
      "text/plain": [
       "Coefficient\n",
       "X1    0.402235\n",
       "Name: Estimate, dtype: float64"
      ]
     },
     "execution_count": 10,
     "metadata": {},
     "output_type": "execute_result"
    }
   ],
   "source": [
    "fit.coef()"
   ]
  },
  {
   "cell_type": "code",
   "execution_count": 11,
   "metadata": {},
   "outputs": [
    {
     "data": {
      "text/plain": [
       "Coefficient\n",
       "X1    0.057756\n",
       "Name: Std. Error, dtype: float64"
      ]
     },
     "execution_count": 11,
     "metadata": {},
     "output_type": "execute_result"
    }
   ],
   "source": [
    "fit.se()"
   ]
  },
  {
   "cell_type": "markdown",
   "metadata": {},
   "source": [
    "## Standard Errors and Inference"
   ]
  },
  {
   "cell_type": "markdown",
   "metadata": {},
   "source": [
    "Supported covariance types are \"iid\", \"HC1-3\", CRV1 and CRV3 (one-way clustering). Inference can be adjusted \"on-the-fly\" via the\n",
    "`.vcov()` method:"
   ]
  },
  {
   "cell_type": "code",
   "execution_count": 12,
   "metadata": {},
   "outputs": [
    {
     "name": "stdout",
     "output_type": "stream",
     "text": [
      "###\n",
      "\n",
      "Estimation:  OLS\n",
      "Dep. var.: Y, Fixed effects: f1\n",
      "Inference:  CRV1\n",
      "Observations:  997\n",
      "\n",
      "| Coefficient   |   Estimate |   Std. Error |   t value |   Pr(>|t|) |   2.5 % |   97.5 % |\n",
      "|:--------------|-----------:|-------------:|----------:|-----------:|--------:|---------:|\n",
      "| X1            |      0.402 |        0.064 |     6.315 |      0.000 |   0.268 |    0.536 |\n",
      "---\n",
      "RMSE: 1.422  Adj. R2: 0.046  Adj. R2 Within: 0.046\n",
      "###\n",
      "\n",
      "Estimation:  OLS\n",
      "Dep. var.: Y, Fixed effects: f1\n",
      "Inference:  CRV3\n",
      "Observations:  997\n",
      "\n",
      "| Coefficient   |   Estimate |   Std. Error |   t value |   Pr(>|t|) |   2.5 % |   97.5 % |\n",
      "|:--------------|-----------:|-------------:|----------:|-----------:|--------:|---------:|\n",
      "| X1            |      0.402 |        0.068 |     5.884 |      0.000 |   0.259 |    0.546 |\n",
      "---\n",
      "RMSE: 1.422  Adj. R2: 0.046  Adj. R2 Within: 0.046\n"
     ]
    }
   ],
   "source": [
    "fit.vcov({\"CRV1\": \"group_id\"}).summary()\n",
    "fit.vcov({\"CRV3\": \"group_id\"}).summary()"
   ]
  },
  {
   "cell_type": "markdown",
   "metadata": {},
   "source": [
    "It is also possible to run a wild (cluster) bootstrap after estimation (via the [wildboottest module](https://github.com/s3alfisc/wildboottest), only for Python\n",
    "versions smaller than `3.11`):"
   ]
  },
  {
   "cell_type": "code",
   "execution_count": 13,
   "metadata": {},
   "outputs": [
    {
     "data": {
      "text/plain": [
       "param                X1\n",
       "t value           5.199\n",
       "Pr(>|t|)            0.0\n",
       "bootstrap_type       11\n",
       "impose_null        True\n",
       "dtype: object"
      ]
     },
     "execution_count": 13,
     "metadata": {},
     "output_type": "execute_result"
    }
   ],
   "source": [
    "fit2 = feols(fml=\"Y~ X1\", data=data, vcov={\"CRV1\": \"group_id\"})\n",
    "fit2.wildboottest(param=\"X1\", B=999)"
   ]
  },
  {
   "cell_type": "markdown",
   "metadata": {},
   "source": [
    "Note that the wild bootstrap currently does not support fixed effects in the regression model. Supporting fixed effects is work in progress.\n",
    "\n",
    "## IV Estimation \n",
    "\n",
    "It is also possible to estimate instrumental variable models with *one* endogenous variable and (potentially multiple) instruments:"
   ]
  },
  {
   "cell_type": "code",
   "execution_count": 14,
   "metadata": {},
   "outputs": [
    {
     "name": "stdout",
     "output_type": "stream",
     "text": [
      "###\n",
      "\n",
      "Estimation:  IV\n",
      "Dep. var.: Y2, Fixed effects: f1+f2\n",
      "Inference:  CRV1\n",
      "Observations:  998\n",
      "\n",
      "| Coefficient   |   Estimate |   Std. Error |   t value |   Pr(>|t|) |   2.5 % |   97.5 % |\n",
      "|:--------------|-----------:|-------------:|----------:|-----------:|--------:|---------:|\n",
      "| X1            |      0.725 |        0.290 |     2.502 |      0.018 |   0.132 |    1.317 |\n",
      "---\n"
     ]
    }
   ],
   "source": [
    "iv_fit = feols(fml=\"Y2~ 1 | f1 + f2 | X1 ~ Z1 + Z2\", data=data)\n",
    "iv_fit.summary()"
   ]
  },
  {
   "cell_type": "markdown",
   "metadata": {},
   "source": [
    "If the model does not contain any fixed effects, just drop the second part of the formula above:"
   ]
  },
  {
   "cell_type": "code",
   "execution_count": 15,
   "metadata": {},
   "outputs": [
    {
     "name": "stdout",
     "output_type": "stream",
     "text": [
      "###\n",
      "\n",
      "Estimation:  IV\n",
      "Dep. var.: Y\n",
      "Inference:  iid\n",
      "Observations:  998\n",
      "\n",
      "| Coefficient   |   Estimate |   Std. Error |   t value |   Pr(>|t|) |   2.5 % |   97.5 % |\n",
      "|:--------------|-----------:|-------------:|----------:|-----------:|--------:|---------:|\n",
      "| Intercept     |      2.228 |        0.127 |    17.543 |      0.000 |   1.979 |    2.478 |\n",
      "| X1            |      0.336 |        0.114 |     2.952 |      0.003 |   0.113 |    0.559 |\n",
      "---\n"
     ]
    }
   ],
   "source": [
    "feols(fml=\"Y~ 1 | X1 ~ Z1 + Z2\", data=data).summary()"
   ]
  },
  {
   "cell_type": "markdown",
   "metadata": {},
   "source": [
    "IV estimation with multiple endogenous variables and multiple estimation syntax is currently not supported. The syntax is \"depvar ~ exog.vars | fixef effects | endog.vars ~ instruments\"."
   ]
  },
  {
   "cell_type": "markdown",
   "metadata": {},
   "source": [
    "## Poisson Regression \n",
    "\n",
    "With version `0.8.4`, it is possible to estimate Poisson Regressions (not yet on PyPi): "
   ]
  },
  {
   "cell_type": "code",
   "execution_count": 16,
   "metadata": {},
   "outputs": [
    {
     "name": "stdout",
     "output_type": "stream",
     "text": [
      "###\n",
      "\n",
      "Estimation:  Poisson\n",
      "Dep. var.: Y, Fixed effects: f1+f2\n",
      "Inference:  CRV1\n",
      "Observations:  997\n",
      "\n",
      "| Coefficient   |   Estimate |   Std. Error |   t value |   Pr(>|t|) |   2.5 % |   97.5 % |\n",
      "|:--------------|-----------:|-------------:|----------:|-----------:|--------:|---------:|\n",
      "| X1            |     -0.029 |        0.041 |    -0.713 |      0.476 |  -0.109 |    0.051 |\n",
      "---\n",
      "Deviance: 1067.556\n"
     ]
    }
   ],
   "source": [
    "from pyfixest.utils import get_data\n",
    "\n",
    "pois_data = get_data(model=\"Fepois\")\n",
    "pois_fit = fepois(fml=\"Y~X1 | f1+f2\", data=pois_data, vcov={\"CRV1\": \"group_id\"})\n",
    "pois_fit.summary()"
   ]
  },
  {
   "cell_type": "markdown",
   "metadata": {},
   "source": [
    "## Multiple Estimation \n",
    "\n",
    "`PyFixest` supports a range of multiple estimation functionality: `sw`, `sw0`, `csw`, `csw0`, and multiple dependent variables. If multiple regression syntax is used, \n",
    "`feols()` and `fepois` returns an instance of a `FixestMulti` object, which essentially consists of a dicionary of `Fepois` or `Feols` instances."
   ]
  },
  {
   "cell_type": "code",
   "execution_count": 17,
   "metadata": {},
   "outputs": [
    {
     "data": {
      "text/plain": [
       "<pyfixest.FixestMulti.FixestMulti at 0x2839e8f6350>"
      ]
     },
     "execution_count": 17,
     "metadata": {},
     "output_type": "execute_result"
    }
   ],
   "source": [
    "multi_fit = feols(fml=\"Y~X1 | csw0(f1, f2)\", data=data, vcov=\"HC1\")\n",
    "multi_fit"
   ]
  },
  {
   "cell_type": "code",
   "execution_count": 18,
   "metadata": {},
   "outputs": [
    {
     "name": "stdout",
     "output_type": "stream",
     "text": [
      "###\n",
      "\n",
      "Estimation:  OLS\n",
      "Dep. var.: Y\n",
      "Inference:  HC1\n",
      "Observations:  998\n",
      "\n",
      "| Coefficient   |   Estimate |   Std. Error |   t value |   Pr(>|t|) |   2.5 % |   97.5 % |\n",
      "|:--------------|-----------:|-------------:|----------:|-----------:|--------:|---------:|\n",
      "| Intercept     |      2.195 |        0.090 |    24.297 |      0.000 |   2.018 |    2.372 |\n",
      "| X1            |      0.369 |        0.071 |     5.196 |      0.000 |   0.230 |    0.508 |\n",
      "---\n",
      "RMSE: 1.765  Adj. R2: 0.025  Adj. R2 Within: 0.025\n",
      "###\n",
      "\n",
      "Estimation:  OLS\n",
      "Dep. var.: Y, Fixed effects: f1\n",
      "Inference:  HC1\n",
      "Observations:  997\n",
      "\n",
      "| Coefficient   |   Estimate |   Std. Error |   t value |   Pr(>|t|) |   2.5 % |   97.5 % |\n",
      "|:--------------|-----------:|-------------:|----------:|-----------:|--------:|---------:|\n",
      "| X1            |      0.402 |        0.058 |     6.964 |      0.000 |   0.289 |    0.516 |\n",
      "---\n",
      "RMSE: 1.422  Adj. R2: 0.046  Adj. R2 Within: 0.046\n",
      "###\n",
      "\n",
      "Estimation:  OLS\n",
      "Dep. var.: Y, Fixed effects: f1+f2\n",
      "Inference:  HC1\n",
      "Observations:  997\n",
      "\n",
      "| Coefficient   |   Estimate |   Std. Error |   t value |   Pr(>|t|) |   2.5 % |   97.5 % |\n",
      "|:--------------|-----------:|-------------:|----------:|-----------:|--------:|---------:|\n",
      "| X1            |      0.364 |        0.049 |     7.400 |      0.000 |   0.268 |    0.461 |\n",
      "---\n",
      "RMSE: 1.201  Adj. R2: 0.051  Adj. R2 Within: 0.051\n"
     ]
    }
   ],
   "source": [
    "multi_fit.summary()"
   ]
  },
  {
   "cell_type": "markdown",
   "metadata": {},
   "source": [
    "Alternatively, you can look at the estimation results via the `etable()` method:"
   ]
  },
  {
   "cell_type": "code",
   "execution_count": 19,
   "metadata": {},
   "outputs": [
    {
     "data": {
      "text/html": [
       "<div>\n",
       "<style scoped>\n",
       "    .dataframe tbody tr th:only-of-type {\n",
       "        vertical-align: middle;\n",
       "    }\n",
       "\n",
       "    .dataframe tbody tr th {\n",
       "        vertical-align: top;\n",
       "    }\n",
       "\n",
       "    .dataframe thead tr th {\n",
       "        text-align: left;\n",
       "    }\n",
       "</style>\n",
       "<table border=\"1\" class=\"dataframe\">\n",
       "  <thead>\n",
       "    <tr>\n",
       "      <th>fml</th>\n",
       "      <th colspan=\"2\" halign=\"left\">Y~X1</th>\n",
       "      <th>Y~X1|f1</th>\n",
       "      <th>Y~X1|f1+f2</th>\n",
       "    </tr>\n",
       "    <tr>\n",
       "      <th>Coefficient</th>\n",
       "      <th>Intercept</th>\n",
       "      <th>X1</th>\n",
       "      <th>X1</th>\n",
       "      <th>X1</th>\n",
       "    </tr>\n",
       "  </thead>\n",
       "  <tbody>\n",
       "    <tr>\n",
       "      <th>Estimate</th>\n",
       "      <td>2.195</td>\n",
       "      <td>0.369</td>\n",
       "      <td>0.402</td>\n",
       "      <td>0.364</td>\n",
       "    </tr>\n",
       "    <tr>\n",
       "      <th>Std. Error</th>\n",
       "      <td>0.090</td>\n",
       "      <td>0.071</td>\n",
       "      <td>0.058</td>\n",
       "      <td>0.049</td>\n",
       "    </tr>\n",
       "    <tr>\n",
       "      <th>t value</th>\n",
       "      <td>24.297</td>\n",
       "      <td>5.196</td>\n",
       "      <td>6.964</td>\n",
       "      <td>7.400</td>\n",
       "    </tr>\n",
       "    <tr>\n",
       "      <th>Pr(&gt;|t|)</th>\n",
       "      <td>0.000</td>\n",
       "      <td>0.000</td>\n",
       "      <td>0.000</td>\n",
       "      <td>0.000</td>\n",
       "    </tr>\n",
       "    <tr>\n",
       "      <th>2.5 %</th>\n",
       "      <td>2.018</td>\n",
       "      <td>0.230</td>\n",
       "      <td>0.289</td>\n",
       "      <td>0.268</td>\n",
       "    </tr>\n",
       "    <tr>\n",
       "      <th>97.5 %</th>\n",
       "      <td>2.372</td>\n",
       "      <td>0.508</td>\n",
       "      <td>0.516</td>\n",
       "      <td>0.461</td>\n",
       "    </tr>\n",
       "  </tbody>\n",
       "</table>\n",
       "</div>"
      ],
      "text/plain": [
       "fml              Y~X1        Y~X1|f1 Y~X1|f1+f2\n",
       "Coefficient Intercept     X1      X1         X1\n",
       "Estimate        2.195  0.369   0.402      0.364\n",
       "Std. Error      0.090  0.071   0.058      0.049\n",
       "t value        24.297  5.196   6.964      7.400\n",
       "Pr(>|t|)        0.000  0.000   0.000      0.000\n",
       "2.5 %           2.018  0.230   0.289      0.268\n",
       "97.5 %          2.372  0.508   0.516      0.461"
      ]
     },
     "execution_count": 19,
     "metadata": {},
     "output_type": "execute_result"
    }
   ],
   "source": [
    "multi_fit.etable()"
   ]
  },
  {
   "cell_type": "markdown",
   "metadata": {},
   "source": [
    "If you are only insterested in some parameters, e.g. \"X1\", you can use the following syntax:"
   ]
  },
  {
   "cell_type": "code",
   "execution_count": 20,
   "metadata": {},
   "outputs": [
    {
     "data": {
      "text/html": [
       "<div>\n",
       "<style scoped>\n",
       "    .dataframe tbody tr th:only-of-type {\n",
       "        vertical-align: middle;\n",
       "    }\n",
       "\n",
       "    .dataframe tbody tr th {\n",
       "        vertical-align: top;\n",
       "    }\n",
       "\n",
       "    .dataframe thead th {\n",
       "        text-align: right;\n",
       "    }\n",
       "</style>\n",
       "<table border=\"1\" class=\"dataframe\">\n",
       "  <thead>\n",
       "    <tr style=\"text-align: right;\">\n",
       "      <th>fml</th>\n",
       "      <th>Y~X1</th>\n",
       "      <th>Y~X1|f1</th>\n",
       "      <th>Y~X1|f1+f2</th>\n",
       "    </tr>\n",
       "  </thead>\n",
       "  <tbody>\n",
       "    <tr>\n",
       "      <th>Estimate</th>\n",
       "      <td>0.369</td>\n",
       "      <td>0.402</td>\n",
       "      <td>0.364</td>\n",
       "    </tr>\n",
       "    <tr>\n",
       "      <th>Std. Error</th>\n",
       "      <td>0.071</td>\n",
       "      <td>0.058</td>\n",
       "      <td>0.049</td>\n",
       "    </tr>\n",
       "    <tr>\n",
       "      <th>t value</th>\n",
       "      <td>5.196</td>\n",
       "      <td>6.964</td>\n",
       "      <td>7.400</td>\n",
       "    </tr>\n",
       "    <tr>\n",
       "      <th>Pr(&gt;|t|)</th>\n",
       "      <td>0.000</td>\n",
       "      <td>0.000</td>\n",
       "      <td>0.000</td>\n",
       "    </tr>\n",
       "    <tr>\n",
       "      <th>2.5 %</th>\n",
       "      <td>0.230</td>\n",
       "      <td>0.289</td>\n",
       "      <td>0.268</td>\n",
       "    </tr>\n",
       "    <tr>\n",
       "      <th>97.5 %</th>\n",
       "      <td>0.508</td>\n",
       "      <td>0.516</td>\n",
       "      <td>0.461</td>\n",
       "    </tr>\n",
       "  </tbody>\n",
       "</table>\n",
       "</div>"
      ],
      "text/plain": [
       "fml          Y~X1  Y~X1|f1  Y~X1|f1+f2\n",
       "Estimate    0.369    0.402       0.364\n",
       "Std. Error  0.071    0.058       0.049\n",
       "t value     5.196    6.964       7.400\n",
       "Pr(>|t|)    0.000    0.000       0.000\n",
       "2.5 %       0.230    0.289       0.268\n",
       "97.5 %      0.508    0.516       0.461"
      ]
     },
     "execution_count": 20,
     "metadata": {},
     "output_type": "execute_result"
    }
   ],
   "source": [
    "multi_fit.etable().xs(\"X1\", level=1, axis=1)"
   ]
  },
  {
   "cell_type": "markdown",
   "metadata": {},
   "source": [
    "You can access an individual model by its name - i.e. a formula - via the `all_fitted_models` attribure."
   ]
  },
  {
   "cell_type": "code",
   "execution_count": 21,
   "metadata": {},
   "outputs": [
    {
     "data": {
      "text/html": [
       "<div>\n",
       "<style scoped>\n",
       "    .dataframe tbody tr th:only-of-type {\n",
       "        vertical-align: middle;\n",
       "    }\n",
       "\n",
       "    .dataframe tbody tr th {\n",
       "        vertical-align: top;\n",
       "    }\n",
       "\n",
       "    .dataframe thead th {\n",
       "        text-align: right;\n",
       "    }\n",
       "</style>\n",
       "<table border=\"1\" class=\"dataframe\">\n",
       "  <thead>\n",
       "    <tr style=\"text-align: right;\">\n",
       "      <th></th>\n",
       "      <th>Estimate</th>\n",
       "      <th>Std. Error</th>\n",
       "      <th>t value</th>\n",
       "      <th>Pr(&gt;|t|)</th>\n",
       "      <th>2.5 %</th>\n",
       "      <th>97.5 %</th>\n",
       "    </tr>\n",
       "    <tr>\n",
       "      <th>Coefficient</th>\n",
       "      <th></th>\n",
       "      <th></th>\n",
       "      <th></th>\n",
       "      <th></th>\n",
       "      <th></th>\n",
       "      <th></th>\n",
       "    </tr>\n",
       "  </thead>\n",
       "  <tbody>\n",
       "    <tr>\n",
       "      <th>Intercept</th>\n",
       "      <td>2.194854</td>\n",
       "      <td>0.090333</td>\n",
       "      <td>24.297498</td>\n",
       "      <td>0.000000e+00</td>\n",
       "      <td>2.017590</td>\n",
       "      <td>2.372118</td>\n",
       "    </tr>\n",
       "    <tr>\n",
       "      <th>X1</th>\n",
       "      <td>0.369081</td>\n",
       "      <td>0.071030</td>\n",
       "      <td>5.196115</td>\n",
       "      <td>2.467969e-07</td>\n",
       "      <td>0.229695</td>\n",
       "      <td>0.508467</td>\n",
       "    </tr>\n",
       "  </tbody>\n",
       "</table>\n",
       "</div>"
      ],
      "text/plain": [
       "             Estimate  Std. Error    t value      Pr(>|t|)     2.5 %    97.5 %\n",
       "Coefficient                                                                   \n",
       "Intercept    2.194854    0.090333  24.297498  0.000000e+00  2.017590  2.372118\n",
       "X1           0.369081    0.071030   5.196115  2.467969e-07  0.229695  0.508467"
      ]
     },
     "execution_count": 21,
     "metadata": {},
     "output_type": "execute_result"
    }
   ],
   "source": [
    "multi_fit.all_fitted_models[\"Y~X1\"].tidy()"
   ]
  },
  {
   "cell_type": "markdown",
   "metadata": {},
   "source": [
    "or equivalently via the `fetch_model` method:"
   ]
  },
  {
   "cell_type": "code",
   "execution_count": 22,
   "metadata": {},
   "outputs": [
    {
     "name": "stdout",
     "output_type": "stream",
     "text": [
      "Model:  Y~X1\n"
     ]
    },
    {
     "data": {
      "text/html": [
       "<div>\n",
       "<style scoped>\n",
       "    .dataframe tbody tr th:only-of-type {\n",
       "        vertical-align: middle;\n",
       "    }\n",
       "\n",
       "    .dataframe tbody tr th {\n",
       "        vertical-align: top;\n",
       "    }\n",
       "\n",
       "    .dataframe thead th {\n",
       "        text-align: right;\n",
       "    }\n",
       "</style>\n",
       "<table border=\"1\" class=\"dataframe\">\n",
       "  <thead>\n",
       "    <tr style=\"text-align: right;\">\n",
       "      <th></th>\n",
       "      <th>Estimate</th>\n",
       "      <th>Std. Error</th>\n",
       "      <th>t value</th>\n",
       "      <th>Pr(&gt;|t|)</th>\n",
       "      <th>2.5 %</th>\n",
       "      <th>97.5 %</th>\n",
       "    </tr>\n",
       "    <tr>\n",
       "      <th>Coefficient</th>\n",
       "      <th></th>\n",
       "      <th></th>\n",
       "      <th></th>\n",
       "      <th></th>\n",
       "      <th></th>\n",
       "      <th></th>\n",
       "    </tr>\n",
       "  </thead>\n",
       "  <tbody>\n",
       "    <tr>\n",
       "      <th>Intercept</th>\n",
       "      <td>2.194854</td>\n",
       "      <td>0.090333</td>\n",
       "      <td>24.297498</td>\n",
       "      <td>0.000000e+00</td>\n",
       "      <td>2.017590</td>\n",
       "      <td>2.372118</td>\n",
       "    </tr>\n",
       "    <tr>\n",
       "      <th>X1</th>\n",
       "      <td>0.369081</td>\n",
       "      <td>0.071030</td>\n",
       "      <td>5.196115</td>\n",
       "      <td>2.467969e-07</td>\n",
       "      <td>0.229695</td>\n",
       "      <td>0.508467</td>\n",
       "    </tr>\n",
       "  </tbody>\n",
       "</table>\n",
       "</div>"
      ],
      "text/plain": [
       "             Estimate  Std. Error    t value      Pr(>|t|)     2.5 %    97.5 %\n",
       "Coefficient                                                                   \n",
       "Intercept    2.194854    0.090333  24.297498  0.000000e+00  2.017590  2.372118\n",
       "X1           0.369081    0.071030   5.196115  2.467969e-07  0.229695  0.508467"
      ]
     },
     "execution_count": 22,
     "metadata": {},
     "output_type": "execute_result"
    }
   ],
   "source": [
    "multi_fit.fetch_model(0).tidy()"
   ]
  },
  {
   "cell_type": "markdown",
   "metadata": {},
   "source": [
    "Here, `0` simply fetches the first model stored in the `all_fitted_models` dictionary, `1` the second etc."
   ]
  },
  {
   "cell_type": "markdown",
   "metadata": {},
   "source": [
    "Objects of type `Fixest` come with a range of additional methods: `tidy()`, `coef()`, `vcov()` etc, which \n",
    "essentially loop over the equivalent methods of all fitted models. E.g. `Fixest.vcov()` updates inference for all \n",
    "models stored in `Fixest`."
   ]
  },
  {
   "cell_type": "code",
   "execution_count": 23,
   "metadata": {},
   "outputs": [
    {
     "name": "stdout",
     "output_type": "stream",
     "text": [
      "###\n",
      "\n",
      "Estimation:  OLS\n",
      "Dep. var.: Y\n",
      "Inference:  iid\n",
      "Observations:  998\n",
      "\n",
      "| Coefficient   |   Estimate |   Std. Error |   t value |   Pr(>|t|) |   2.5 % |   97.5 % |\n",
      "|:--------------|-----------:|-------------:|----------:|-----------:|--------:|---------:|\n",
      "| Intercept     |      2.195 |        0.090 |    24.357 |      0.000 |   2.018 |    2.372 |\n",
      "| X1            |      0.369 |        0.070 |     5.239 |      0.000 |   0.231 |    0.507 |\n",
      "---\n",
      "RMSE: 1.765  Adj. R2: 0.025  Adj. R2 Within: 0.025\n",
      "###\n",
      "\n",
      "Estimation:  OLS\n",
      "Dep. var.: Y, Fixed effects: f1\n",
      "Inference:  iid\n",
      "Observations:  997\n",
      "\n",
      "| Coefficient   |   Estimate |   Std. Error |   t value |   Pr(>|t|) |   2.5 % |   97.5 % |\n",
      "|:--------------|-----------:|-------------:|----------:|-----------:|--------:|---------:|\n",
      "| X1            |      0.402 |        0.058 |     6.995 |      0.000 |   0.289 |    0.515 |\n",
      "---\n",
      "RMSE: 1.422  Adj. R2: 0.046  Adj. R2 Within: 0.046\n",
      "###\n",
      "\n",
      "Estimation:  OLS\n",
      "Dep. var.: Y, Fixed effects: f1+f2\n",
      "Inference:  iid\n",
      "Observations:  997\n",
      "\n",
      "| Coefficient   |   Estimate |   Std. Error |   t value |   Pr(>|t|) |   2.5 % |   97.5 % |\n",
      "|:--------------|-----------:|-------------:|----------:|-----------:|--------:|---------:|\n",
      "| X1            |      0.364 |        0.049 |     7.386 |      0.000 |   0.267 |    0.461 |\n",
      "---\n",
      "RMSE: 1.201  Adj. R2: 0.051  Adj. R2 Within: 0.051\n"
     ]
    }
   ],
   "source": [
    "multi_fit.vcov(\"iid\").summary()"
   ]
  },
  {
   "cell_type": "markdown",
   "metadata": {},
   "source": [
    "## Visualization \n",
    "\n",
    "`PyFixest` provides two functions to visualize the results of a regression: `coefplot` and `iplot`."
   ]
  },
  {
   "cell_type": "code",
   "execution_count": 24,
   "metadata": {},
   "outputs": [
    {
     "data": {
      "text/html": [
       "\n",
       "            <div id=\"3h7vK9\"></div>\n",
       "            <script type=\"text/javascript\" data-lets-plot-script=\"library\">\n",
       "                if(!window.letsPlotCallQueue) {\n",
       "                    window.letsPlotCallQueue = [];\n",
       "                }; \n",
       "                window.letsPlotCall = function(f) {\n",
       "                    window.letsPlotCallQueue.push(f);\n",
       "                };\n",
       "                (function() {\n",
       "                    var script = document.createElement(\"script\");\n",
       "                    script.type = \"text/javascript\";\n",
       "                    script.src = \"https://cdn.jsdelivr.net/gh/JetBrains/lets-plot@v4.0.1/js-package/distr/lets-plot.min.js\";\n",
       "                    script.onload = function() {\n",
       "                        window.letsPlotCall = function(f) {f();};\n",
       "                        window.letsPlotCallQueue.forEach(function(f) {f();});\n",
       "                        window.letsPlotCallQueue = [];\n",
       "                        \n",
       "                    };\n",
       "                    script.onerror = function(event) {\n",
       "                        window.letsPlotCall = function(f) {};    // noop\n",
       "                        window.letsPlotCallQueue = [];\n",
       "                        var div = document.createElement(\"div\");\n",
       "                        div.style.color = 'darkred';\n",
       "                        div.textContent = 'Error loading Lets-Plot JS';\n",
       "                        document.getElementById(\"3h7vK9\").appendChild(div);\n",
       "                    };\n",
       "                    var e = document.getElementById(\"3h7vK9\");\n",
       "                    e.appendChild(script);\n",
       "                })()\n",
       "            </script>\n",
       "            "
      ]
     },
     "metadata": {},
     "output_type": "display_data"
    },
    {
     "ename": "TypeError",
     "evalue": "'bool' object is not callable",
     "output_type": "error",
     "traceback": [
      "\u001b[1;31m---------------------------------------------------------------------------\u001b[0m",
      "\u001b[1;31mTypeError\u001b[0m                                 Traceback (most recent call last)",
      "\u001b[1;32mc:\\Users\\alexa\\Documents\\pyfixest\\docs\\tutorial.ipynb Cell 42\u001b[0m line \u001b[0;36m4\n\u001b[0;32m      <a href='vscode-notebook-cell:/c%3A/Users/alexa/Documents/pyfixest/docs/tutorial.ipynb#X64sZmlsZQ%3D%3D?line=0'>1</a>\u001b[0m \u001b[39mfrom\u001b[39;00m \u001b[39mlets_plot\u001b[39;00m \u001b[39mimport\u001b[39;00m \u001b[39m*\u001b[39m\n\u001b[0;32m      <a href='vscode-notebook-cell:/c%3A/Users/alexa/Documents/pyfixest/docs/tutorial.ipynb#X64sZmlsZQ%3D%3D?line=1'>2</a>\u001b[0m LetsPlot\u001b[39m.\u001b[39msetup_html()\n\u001b[1;32m----> <a href='vscode-notebook-cell:/c%3A/Users/alexa/Documents/pyfixest/docs/tutorial.ipynb#X64sZmlsZQ%3D%3D?line=3'>4</a>\u001b[0m multi_fit\u001b[39m.\u001b[39;49mcoefplot()\n",
      "File \u001b[1;32mc:\\Users\\alexa\\AppData\\Local\\Programs\\Python\\Python310\\lib\\site-packages\\pyfixest\\FixestMulti.py:486\u001b[0m, in \u001b[0;36mFixestMulti.coefplot\u001b[1;34m(self, alpha, figsize, yintercept, rotate_xticks, title, coord_flip)\u001b[0m\n\u001b[0;32m    483\u001b[0m models \u001b[39m=\u001b[39m \u001b[39mself\u001b[39m\u001b[39m.\u001b[39mall_fitted_models\n\u001b[0;32m    484\u001b[0m models \u001b[39m=\u001b[39m [models[x] \u001b[39mfor\u001b[39;00m x \u001b[39min\u001b[39;00m \u001b[39mlist\u001b[39m(\u001b[39mself\u001b[39m\u001b[39m.\u001b[39mall_fitted_models\u001b[39m.\u001b[39mkeys())]\n\u001b[1;32m--> 486\u001b[0m plot \u001b[39m=\u001b[39m coefplot(\n\u001b[0;32m    487\u001b[0m     models\u001b[39m=\u001b[39;49mmodels,\n\u001b[0;32m    488\u001b[0m     figsize\u001b[39m=\u001b[39;49mfigsize,\n\u001b[0;32m    489\u001b[0m     alpha\u001b[39m=\u001b[39;49malpha,\n\u001b[0;32m    490\u001b[0m     yintercept\u001b[39m=\u001b[39;49myintercept,\n\u001b[0;32m    491\u001b[0m     xintercept\u001b[39m=\u001b[39;49m\u001b[39mNone\u001b[39;49;00m,\n\u001b[0;32m    492\u001b[0m     rotate_xticks\u001b[39m=\u001b[39;49mrotate_xticks,\n\u001b[0;32m    493\u001b[0m     title\u001b[39m=\u001b[39;49mtitle,\n\u001b[0;32m    494\u001b[0m     coord_flip\u001b[39m=\u001b[39;49mcoord_flip\n\u001b[0;32m    495\u001b[0m )\n\u001b[0;32m    497\u001b[0m \u001b[39mreturn\u001b[39;00m plot\n",
      "File \u001b[1;32mc:\\Users\\alexa\\AppData\\Local\\Programs\\Python\\Python310\\lib\\site-packages\\pyfixest\\visualize.py:126\u001b[0m, in \u001b[0;36mcoefplot\u001b[1;34m(models, alpha, figsize, yintercept, xintercept, rotate_xticks, coefficients, title, coord_flip)\u001b[0m\n\u001b[0;32m    123\u001b[0m \u001b[39mif\u001b[39;00m coefficients \u001b[39mis\u001b[39;00m \u001b[39mnot\u001b[39;00m \u001b[39mNone\u001b[39;00m:\n\u001b[0;32m    124\u001b[0m     df \u001b[39m=\u001b[39m df[df\u001b[39m.\u001b[39mCoefficient\u001b[39m.\u001b[39misin(coefficients)]\u001b[39m.\u001b[39mreset_index()\n\u001b[1;32m--> 126\u001b[0m plot \u001b[39m=\u001b[39m _coefplot(\n\u001b[0;32m    127\u001b[0m     df\u001b[39m=\u001b[39;49mdf,\n\u001b[0;32m    128\u001b[0m     figsize\u001b[39m=\u001b[39;49mfigsize,\n\u001b[0;32m    129\u001b[0m     alpha\u001b[39m=\u001b[39;49malpha,\n\u001b[0;32m    130\u001b[0m     yintercept\u001b[39m=\u001b[39;49myintercept,\n\u001b[0;32m    131\u001b[0m     xintercept\u001b[39m=\u001b[39;49mxintercept,\n\u001b[0;32m    132\u001b[0m     rotate_xticks\u001b[39m=\u001b[39;49mrotate_xticks,\n\u001b[0;32m    133\u001b[0m     title\u001b[39m=\u001b[39;49mtitle,\n\u001b[0;32m    134\u001b[0m     coord_flip\u001b[39m=\u001b[39;49mcoord_flip\n\u001b[0;32m    135\u001b[0m )\n\u001b[0;32m    137\u001b[0m \u001b[39mreturn\u001b[39;00m plot\n",
      "File \u001b[1;32mc:\\Users\\alexa\\AppData\\Local\\Programs\\Python\\Python310\\lib\\site-packages\\pyfixest\\visualize.py:178\u001b[0m, in \u001b[0;36m_coefplot\u001b[1;34m(df, figsize, alpha, yintercept, xintercept, rotate_xticks, title, coord_flip)\u001b[0m\n\u001b[0;32m    169\u001b[0m plot \u001b[39m=\u001b[39m (\n\u001b[0;32m    170\u001b[0m \n\u001b[0;32m    171\u001b[0m     ggplot(df, aes(x \u001b[39m=\u001b[39m \u001b[39m\"\u001b[39m\u001b[39mCoefficient\u001b[39m\u001b[39m\"\u001b[39m, y \u001b[39m=\u001b[39m \u001b[39m\"\u001b[39m\u001b[39mEstimate\u001b[39m\u001b[39m\"\u001b[39m, color \u001b[39m=\u001b[39m \u001b[39m\"\u001b[39m\u001b[39mModel\u001b[39m\u001b[39m\"\u001b[39m)) \u001b[39m+\u001b[39m\n\u001b[1;32m   (...)\u001b[0m\n\u001b[0;32m    174\u001b[0m         ylab(\u001b[39m\"\u001b[39m\u001b[39mEstimate and 95\u001b[39m\u001b[39m%\u001b[39m\u001b[39m Confidence Interval\u001b[39m\u001b[39m\"\u001b[39m)\n\u001b[0;32m    175\u001b[0m )\n\u001b[0;32m    177\u001b[0m \u001b[39mif\u001b[39;00m coord_flip:\n\u001b[1;32m--> 178\u001b[0m     plot \u001b[39m+\u001b[39m\u001b[39m=\u001b[39m coord_flip()\n\u001b[0;32m    179\u001b[0m \u001b[39mif\u001b[39;00m yintercept \u001b[39mis\u001b[39;00m \u001b[39mnot\u001b[39;00m \u001b[39mNone\u001b[39;00m:\n\u001b[0;32m    180\u001b[0m     plot \u001b[39m+\u001b[39m\u001b[39m=\u001b[39m geom_hline(yintercept\u001b[39m=\u001b[39myintercept, linetype\u001b[39m=\u001b[39m\u001b[39m\"\u001b[39m\u001b[39mdashed\u001b[39m\u001b[39m\"\u001b[39m, color \u001b[39m=\u001b[39m \u001b[39m\"\u001b[39m\u001b[39mred\u001b[39m\u001b[39m\"\u001b[39m)\n",
      "\u001b[1;31mTypeError\u001b[0m: 'bool' object is not callable"
     ]
    }
   ],
   "source": [
    "from lets_plot import *\n",
    "LetsPlot.setup_html()\n",
    "\n",
    "multi_fit.coefplot().show()"
   ]
  },
  {
   "cell_type": "markdown",
   "metadata": {},
   "source": [
    "## TWFE Event Study\n",
    "\n",
    "To conclude this intro, we estimate an event study from an example of the the [LOST](https://lost-stats.github.io/Model_Estimation/Research_Design/event_study.html) library of statistical techniques."
   ]
  },
  {
   "cell_type": "code",
   "execution_count": null,
   "metadata": {},
   "outputs": [],
   "source": [
    "import pandas as pd\n",
    "import numpy as np\n",
    "\n",
    "# Read in data\n",
    "df = pd.read_csv(\n",
    "    \"https://raw.githubusercontent.com/LOST-STATS/LOST-STATS.github.io/master/Model_Estimation/Data/Event_Study_DiD/bacon_example.csv\"\n",
    ")\n",
    "\n",
    "df[\"time_to_treat\"] = (df[\"year\"] - df[\"_nfd\"]).fillna(0).astype(int)\n",
    "df[\"time_to_treat\"] = pd.Categorical(\n",
    "    df.time_to_treat, np.sort(df.time_to_treat.unique())\n",
    ")\n",
    "df[\"treat\"] = np.where(pd.isna(df[\"_nfd\"]), 0, 1)\n",
    "\n",
    "fml = \"asmrs ~ i(time_to_treat, treat, ref = -1) + csw(pcinc, asmrh, cases) | stfips + year\"\n",
    "fit = feols(fml=fml, data=df, vcov={\"CRV1\": \"stfips\"})\n"
   ]
  },
  {
   "cell_type": "code",
   "execution_count": null,
   "metadata": {},
   "outputs": [
    {
     "ename": "NameError",
     "evalue": "name 'fit' is not defined",
     "output_type": "error",
     "traceback": [
      "\u001b[1;31m---------------------------------------------------------------------------\u001b[0m",
      "\u001b[1;31mNameError\u001b[0m                                 Traceback (most recent call last)",
      "\u001b[1;32mc:\\Users\\alexa\\Documents\\pyfixest\\docs\\tutorial.ipynb Cell 45\u001b[0m line \u001b[0;36m1\n\u001b[1;32m----> <a href='vscode-notebook-cell:/c%3A/Users/alexa/Documents/pyfixest/docs/tutorial.ipynb#X65sZmlsZQ%3D%3D?line=0'>1</a>\u001b[0m plot \u001b[39m=\u001b[39m fit\u001b[39m.\u001b[39miplot(yintercept\u001b[39m=\u001b[39m\u001b[39m0\u001b[39m, figsize\u001b[39m=\u001b[39m(\u001b[39m800\u001b[39m, \u001b[39m400\u001b[39m))\n",
      "\u001b[1;31mNameError\u001b[0m: name 'fit' is not defined"
     ]
    }
   ],
   "source": [
    "plot = fit.iplot(yintercept=0, figsize=(800, 400))\n",
    "plot.show()"
   ]
  },
  {
   "cell_type": "markdown",
   "metadata": {},
   "source": []
  }
 ],
 "metadata": {
  "kernelspec": {
   "display_name": "Python 3",
   "language": "python",
   "name": "python3"
  },
  "language_info": {
   "codemirror_mode": {
    "name": "ipython",
    "version": 3
   },
   "file_extension": ".py",
   "mimetype": "text/x-python",
   "name": "python",
   "nbconvert_exporter": "python",
   "pygments_lexer": "ipython3",
   "version": "3.10.8"
  },
  "orig_nbformat": 4
 },
 "nbformat": 4,
 "nbformat_minor": 2
}
