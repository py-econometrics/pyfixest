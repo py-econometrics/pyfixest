{
 "cells": [
  {
   "cell_type": "markdown",
   "metadata": {},
   "source": [
    "# Getting Started with PyFixest\n",
    "\n",
    "In a first step, we load the module and some example data:"
   ]
  },
  {
   "cell_type": "code",
   "execution_count": 1,
   "metadata": {},
   "outputs": [
    {
     "data": {
      "text/html": [
       "\n",
       "            <div id=\"jQyQUf\"></div>\n",
       "            <script type=\"text/javascript\" data-lets-plot-script=\"library\">\n",
       "                if(!window.letsPlotCallQueue) {\n",
       "                    window.letsPlotCallQueue = [];\n",
       "                }; \n",
       "                window.letsPlotCall = function(f) {\n",
       "                    window.letsPlotCallQueue.push(f);\n",
       "                };\n",
       "                (function() {\n",
       "                    var script = document.createElement(\"script\");\n",
       "                    script.type = \"text/javascript\";\n",
       "                    script.src = \"https://cdn.jsdelivr.net/gh/JetBrains/lets-plot@v4.0.1/js-package/distr/lets-plot.min.js\";\n",
       "                    script.onload = function() {\n",
       "                        window.letsPlotCall = function(f) {f();};\n",
       "                        window.letsPlotCallQueue.forEach(function(f) {f();});\n",
       "                        window.letsPlotCallQueue = [];\n",
       "                        \n",
       "                    };\n",
       "                    script.onerror = function(event) {\n",
       "                        window.letsPlotCall = function(f) {};    // noop\n",
       "                        window.letsPlotCallQueue = [];\n",
       "                        var div = document.createElement(\"div\");\n",
       "                        div.style.color = 'darkred';\n",
       "                        div.textContent = 'Error loading Lets-Plot JS';\n",
       "                        document.getElementById(\"jQyQUf\").appendChild(div);\n",
       "                    };\n",
       "                    var e = document.getElementById(\"jQyQUf\");\n",
       "                    e.appendChild(script);\n",
       "                })()\n",
       "            </script>\n",
       "            "
      ]
     },
     "metadata": {},
     "output_type": "display_data"
    }
   ],
   "source": [
    "%load_ext autoreload\n",
    "%autoreload 2\n",
    "\n",
    "from pyfixest.estimation import feols, fepois\n",
    "from pyfixest.summarize import summary\n",
    "from pyfixest.visualize import coefplot, iplot\n",
    "from pyfixest.utils import get_data"
   ]
  },
  {
   "cell_type": "code",
   "execution_count": 2,
   "metadata": {},
   "outputs": [
    {
     "data": {
      "text/html": [
       "<div>\n",
       "<style scoped>\n",
       "    .dataframe tbody tr th:only-of-type {\n",
       "        vertical-align: middle;\n",
       "    }\n",
       "\n",
       "    .dataframe tbody tr th {\n",
       "        vertical-align: top;\n",
       "    }\n",
       "\n",
       "    .dataframe thead th {\n",
       "        text-align: right;\n",
       "    }\n",
       "</style>\n",
       "<table border=\"1\" class=\"dataframe\">\n",
       "  <thead>\n",
       "    <tr style=\"text-align: right;\">\n",
       "      <th></th>\n",
       "      <th>Y</th>\n",
       "      <th>Y2</th>\n",
       "      <th>X1</th>\n",
       "      <th>X2</th>\n",
       "      <th>f1</th>\n",
       "      <th>f2</th>\n",
       "      <th>f3</th>\n",
       "      <th>group_id</th>\n",
       "      <th>Z1</th>\n",
       "      <th>Z2</th>\n",
       "    </tr>\n",
       "  </thead>\n",
       "  <tbody>\n",
       "    <tr>\n",
       "      <th>0</th>\n",
       "      <td>NaN</td>\n",
       "      <td>-9.902164</td>\n",
       "      <td>0.0</td>\n",
       "      <td>0.457858</td>\n",
       "      <td>9.0</td>\n",
       "      <td>15.0</td>\n",
       "      <td>0.0</td>\n",
       "      <td>1.0</td>\n",
       "      <td>0.026577</td>\n",
       "      <td>0.872533</td>\n",
       "    </tr>\n",
       "    <tr>\n",
       "      <th>1</th>\n",
       "      <td>2.486016</td>\n",
       "      <td>-3.571090</td>\n",
       "      <td>NaN</td>\n",
       "      <td>-4.998406</td>\n",
       "      <td>8.0</td>\n",
       "      <td>6.0</td>\n",
       "      <td>9.0</td>\n",
       "      <td>11.0</td>\n",
       "      <td>NaN</td>\n",
       "      <td>-4.233272</td>\n",
       "    </tr>\n",
       "    <tr>\n",
       "      <th>2</th>\n",
       "      <td>1.449755</td>\n",
       "      <td>-3.721375</td>\n",
       "      <td>1.0</td>\n",
       "      <td>1.558480</td>\n",
       "      <td>NaN</td>\n",
       "      <td>11.0</td>\n",
       "      <td>0.0</td>\n",
       "      <td>18.0</td>\n",
       "      <td>0.049540</td>\n",
       "      <td>2.803328</td>\n",
       "    </tr>\n",
       "    <tr>\n",
       "      <th>3</th>\n",
       "      <td>5.179868</td>\n",
       "      <td>14.696121</td>\n",
       "      <td>2.0</td>\n",
       "      <td>1.560402</td>\n",
       "      <td>15.0</td>\n",
       "      <td>1.0</td>\n",
       "      <td>4.0</td>\n",
       "      <td>15.0</td>\n",
       "      <td>0.517344</td>\n",
       "      <td>2.151939</td>\n",
       "    </tr>\n",
       "    <tr>\n",
       "      <th>4</th>\n",
       "      <td>0.825537</td>\n",
       "      <td>-6.936620</td>\n",
       "      <td>1.0</td>\n",
       "      <td>-3.472232</td>\n",
       "      <td>20.0</td>\n",
       "      <td>19.0</td>\n",
       "      <td>9.0</td>\n",
       "      <td>5.0</td>\n",
       "      <td>-0.708624</td>\n",
       "      <td>-3.526701</td>\n",
       "    </tr>\n",
       "  </tbody>\n",
       "</table>\n",
       "</div>"
      ],
      "text/plain": [
       "          Y         Y2   X1        X2    f1    f2   f3  group_id        Z1  \\\n",
       "0       NaN  -9.902164  0.0  0.457858   9.0  15.0  0.0       1.0  0.026577   \n",
       "1  2.486016  -3.571090  NaN -4.998406   8.0   6.0  9.0      11.0       NaN   \n",
       "2  1.449755  -3.721375  1.0  1.558480   NaN  11.0  0.0      18.0  0.049540   \n",
       "3  5.179868  14.696121  2.0  1.560402  15.0   1.0  4.0      15.0  0.517344   \n",
       "4  0.825537  -6.936620  1.0 -3.472232  20.0  19.0  9.0       5.0 -0.708624   \n",
       "\n",
       "         Z2  \n",
       "0  0.872533  \n",
       "1 -4.233272  \n",
       "2  2.803328  \n",
       "3  2.151939  \n",
       "4 -3.526701  "
      ]
     },
     "execution_count": 2,
     "metadata": {},
     "output_type": "execute_result"
    }
   ],
   "source": [
    "data = get_data()\n",
    "data.head()"
   ]
  },
  {
   "cell_type": "markdown",
   "metadata": {},
   "source": [
    "## OLS Estimation"
   ]
  },
  {
   "cell_type": "markdown",
   "metadata": {},
   "source": [
    "We can estimate a fixed effects regression via the `feols()` function. `feols()` has three arguments: a two-sided model formula, the data, and optionally, the type of inference."
   ]
  },
  {
   "cell_type": "code",
   "execution_count": 3,
   "metadata": {},
   "outputs": [
    {
     "data": {
      "text/plain": [
       "pyfixest.feols.Feols"
      ]
     },
     "execution_count": 3,
     "metadata": {},
     "output_type": "execute_result"
    }
   ],
   "source": [
    "fit = feols(fml=\"Y~X1 | f1\", data=data, vcov=\"HC1\")\n",
    "type(fit)"
   ]
  },
  {
   "cell_type": "markdown",
   "metadata": {},
   "source": [
    "The first part of the formula contains the dependent variable and \"regular\" covariates, while the second part contains fixed effects.\n",
    "\n",
    "`feols()` returns an instance of the `Fixest` class."
   ]
  },
  {
   "cell_type": "markdown",
   "metadata": {},
   "source": [
    "To inspect the results, we can use a summary function or method:"
   ]
  },
  {
   "cell_type": "code",
   "execution_count": 4,
   "metadata": {},
   "outputs": [
    {
     "name": "stdout",
     "output_type": "stream",
     "text": [
      "###\n",
      "\n",
      "Estimation:  OLS\n",
      "Dep. var.: Y, Fixed effects: f1\n",
      "Inference:  HC1\n",
      "Observations:  997\n",
      "\n",
      "| Coefficient   |   Estimate |   Std. Error |   t value |   Pr(>|t|) |   2.5 % |   97.5 % |\n",
      "|:--------------|-----------:|-------------:|----------:|-----------:|--------:|---------:|\n",
      "| X1            |      0.373 |        0.056 |     6.694 |      0.000 |   0.264 |    0.482 |\n",
      "---\n",
      "RMSE: 1.422  Adj. R2: 0.041  Adj. R2 Within: 0.041\n"
     ]
    }
   ],
   "source": [
    "fit.summary()"
   ]
  },
  {
   "cell_type": "markdown",
   "metadata": {},
   "source": [
    "Alternatively, the `.summarize` module contains a `summary` function, which can be applied on instances of regression model objects \n",
    "or lists of regression model objects. "
   ]
  },
  {
   "cell_type": "code",
   "execution_count": 5,
   "metadata": {},
   "outputs": [
    {
     "name": "stdout",
     "output_type": "stream",
     "text": [
      "###\n",
      "\n",
      "Estimation:  OLS\n",
      "Dep. var.: Y, Fixed effects: f1\n",
      "Inference:  HC1\n",
      "Observations:  997\n",
      "\n",
      "| Coefficient   |   Estimate |   Std. Error |   t value |   Pr(>|t|) |   2.5 % |   97.5 % |\n",
      "|:--------------|-----------:|-------------:|----------:|-----------:|--------:|---------:|\n",
      "| X1            |      0.373 |        0.056 |     6.694 |      0.000 |   0.264 |    0.482 |\n",
      "---\n",
      "RMSE: 1.422  Adj. R2: 0.041  Adj. R2 Within: 0.041\n"
     ]
    }
   ],
   "source": [
    "summary(fit)"
   ]
  },
  {
   "cell_type": "markdown",
   "metadata": {},
   "source": [
    "You can access individual elements of the summary via dedicated methods: `.tidy()` returns a \"tidy\" `pd.DataFrame`, \n",
    "`.coef()` returns estimated parameters, and `se()` estimated standard errors. Other methods include `pvalue()`, `confint()`\n",
    "and `tstat()`."
   ]
  },
  {
   "cell_type": "code",
   "execution_count": 6,
   "metadata": {},
   "outputs": [
    {
     "data": {
      "text/plain": [
       "Coefficient\n",
       "X1    0.373086\n",
       "Name: Estimate, dtype: float64"
      ]
     },
     "execution_count": 6,
     "metadata": {},
     "output_type": "execute_result"
    }
   ],
   "source": [
    "fit.coef()"
   ]
  },
  {
   "cell_type": "code",
   "execution_count": 7,
   "metadata": {},
   "outputs": [
    {
     "data": {
      "text/plain": [
       "Coefficient\n",
       "X1    0.055733\n",
       "Name: Std. Error, dtype: float64"
      ]
     },
     "execution_count": 7,
     "metadata": {},
     "output_type": "execute_result"
    }
   ],
   "source": [
    "fit.se()"
   ]
  },
  {
   "cell_type": "markdown",
   "metadata": {},
   "source": [
    "## Standard Errors and Inference"
   ]
  },
  {
   "cell_type": "markdown",
   "metadata": {},
   "source": [
    "Supported covariance types are \"iid\", \"HC1-3\", CRV1 and CRV3 (one-way clustering). Inference can be adjusted \"on-the-fly\" via the\n",
    "`.vcov()` method:"
   ]
  },
  {
   "cell_type": "code",
   "execution_count": 8,
   "metadata": {},
   "outputs": [
    {
     "name": "stdout",
     "output_type": "stream",
     "text": [
      "###\n",
      "\n",
      "Estimation:  OLS\n",
      "Dep. var.: Y, Fixed effects: f1\n",
      "Inference:  CRV1\n",
      "Observations:  997\n",
      "\n",
      "| Coefficient   |   Estimate |   Std. Error |   t value |   Pr(>|t|) |   2.5 % |   97.5 % |\n",
      "|:--------------|-----------:|-------------:|----------:|-----------:|--------:|---------:|\n",
      "| X1            |      0.373 |        0.063 |     5.947 |      0.000 |   0.241 |    0.505 |\n",
      "---\n",
      "RMSE: 1.422  Adj. R2: 0.041  Adj. R2 Within: 0.041\n",
      "###\n",
      "\n",
      "Estimation:  OLS\n",
      "Dep. var.: Y, Fixed effects: f1\n",
      "Inference:  CRV3\n",
      "Observations:  997\n",
      "\n",
      "| Coefficient   |   Estimate |   Std. Error |   t value |   Pr(>|t|) |   2.5 % |   97.5 % |\n",
      "|:--------------|-----------:|-------------:|----------:|-----------:|--------:|---------:|\n",
      "| X1            |      0.373 |        0.067 |     5.565 |      0.000 |   0.232 |    0.514 |\n",
      "---\n",
      "RMSE: 1.422  Adj. R2: 0.041  Adj. R2 Within: 0.041\n"
     ]
    }
   ],
   "source": [
    "fit.vcov({\"CRV1\": \"group_id\"}).summary()\n",
    "fit.vcov({\"CRV3\": \"group_id\"}).summary()"
   ]
  },
  {
   "cell_type": "markdown",
   "metadata": {},
   "source": [
    "It is also possible to run a wild (cluster) bootstrap after estimation (via the [wildboottest module](https://github.com/s3alfisc/wildboottest)):"
   ]
  },
  {
   "cell_type": "code",
   "execution_count": null,
   "metadata": {},
   "outputs": [],
   "source": []
  },
  {
   "cell_type": "code",
   "execution_count": 9,
   "metadata": {},
   "outputs": [
    {
     "data": {
      "text/plain": [
       "param                X1\n",
       "t value           4.934\n",
       "Pr(>|t|)            0.0\n",
       "bootstrap_type       11\n",
       "impose_null        True\n",
       "dtype: object"
      ]
     },
     "execution_count": 9,
     "metadata": {},
     "output_type": "execute_result"
    }
   ],
   "source": [
    "fit2 = feols(fml=\"Y~ X1\", data=data, vcov={\"CRV1\": \"group_id\"})\n",
    "fit2.wildboottest(param=\"X1\", B=999)"
   ]
  },
  {
   "cell_type": "markdown",
   "metadata": {},
   "source": [
    "Note that the wild bootstrap currently does not support fixed effects in the regression model. Supporting fixed effects is work in progress.\n",
    "\n",
    "## IV Estimation \n",
    "\n",
    "It is also possible to estimate instrumental variable models with *one* endogenous variable and (potentially multiple) instruments:"
   ]
  },
  {
   "cell_type": "code",
   "execution_count": 10,
   "metadata": {},
   "outputs": [
    {
     "name": "stdout",
     "output_type": "stream",
     "text": [
      "###\n",
      "\n",
      "Estimation:  IV\n",
      "Dep. var.: Y2, Fixed effects: f1+f2\n",
      "Inference:  CRV1\n",
      "Observations:  998\n",
      "\n",
      "| Coefficient   |   Estimate |   Std. Error |   t value |   Pr(>|t|) |   2.5 % |   97.5 % |\n",
      "|:--------------|-----------:|-------------:|----------:|-----------:|--------:|---------:|\n",
      "| X1            |      0.467 |        0.251 |     1.859 |      0.073 |  -0.047 |    0.982 |\n",
      "---\n"
     ]
    }
   ],
   "source": [
    "iv_fit = feols(fml=\"Y2~ 1 | f1 + f2 | X1 ~ Z1 + Z2\", data=data)\n",
    "iv_fit.summary()"
   ]
  },
  {
   "cell_type": "markdown",
   "metadata": {},
   "source": [
    "If the model does not contain any fixed effects, just drop the second part of the formula above:"
   ]
  },
  {
   "cell_type": "code",
   "execution_count": 11,
   "metadata": {},
   "outputs": [
    {
     "name": "stdout",
     "output_type": "stream",
     "text": [
      "###\n",
      "\n",
      "Estimation:  IV\n",
      "Dep. var.: Y\n",
      "Inference:  iid\n",
      "Observations:  998\n",
      "\n",
      "| Coefficient   |   Estimate |   Std. Error |   t value |   Pr(>|t|) |   2.5 % |   97.5 % |\n",
      "|:--------------|-----------:|-------------:|----------:|-----------:|--------:|---------:|\n",
      "| Intercept     |      2.166 |        0.123 |    17.673 |      0.000 |   1.925 |    2.406 |\n",
      "| X1            |      0.398 |        0.110 |     3.606 |      0.000 |   0.182 |    0.615 |\n",
      "---\n"
     ]
    }
   ],
   "source": [
    "feols(fml=\"Y~ 1 | X1 ~ Z1 + Z2\", data=data).summary()"
   ]
  },
  {
   "cell_type": "markdown",
   "metadata": {},
   "source": [
    "IV estimation with multiple endogenous variables and multiple estimation syntax is currently not supported. The syntax is \"depvar ~ exog.vars | fixef effects | endog.vars ~ instruments\"."
   ]
  },
  {
   "cell_type": "markdown",
   "metadata": {},
   "source": [
    "## Poisson Regression \n",
    "\n",
    "With version `0.8.4`, it is possible to estimate Poisson Regressions (not yet on PyPi): "
   ]
  },
  {
   "cell_type": "code",
   "execution_count": 12,
   "metadata": {},
   "outputs": [
    {
     "name": "stdout",
     "output_type": "stream",
     "text": [
      "###\n",
      "\n",
      "Estimation:  Poisson\n",
      "Dep. var.: Y, Fixed effects: f1+f2\n",
      "Inference:  CRV1\n",
      "Observations:  997\n",
      "\n",
      "| Coefficient   |   Estimate |   Std. Error |   t value |   Pr(>|t|) |   2.5 % |   97.5 % |\n",
      "|:--------------|-----------:|-------------:|----------:|-----------:|--------:|---------:|\n",
      "| X1            |     -0.034 |        0.033 |    -1.002 |      0.316 |  -0.099 |    0.032 |\n",
      "---\n",
      "Deviance: 1067.364\n"
     ]
    }
   ],
   "source": [
    "from pyfixest.utils import get_data\n",
    "\n",
    "pois_data = get_data(model=\"Fepois\")\n",
    "pois_fit = fepois(fml=\"Y~X1 | f1+f2\", data=pois_data, vcov={\"CRV1\": \"group_id\"})\n",
    "pois_fit.summary()"
   ]
  },
  {
   "cell_type": "markdown",
   "metadata": {},
   "source": [
    "## Multiple Estimation \n",
    "\n",
    "`PyFixest` supports a range of multiple estimation functionality: `sw`, `sw0`, `csw`, `csw0`, and multiple dependent variables. If multiple regression syntax is used, \n",
    "`feols()` and `fepois` returns an instance of a `FixestMulti` object, which essentially consists of a dicionary of `Fepois` or `Feols` instances."
   ]
  },
  {
   "cell_type": "code",
   "execution_count": 13,
   "metadata": {},
   "outputs": [
    {
     "data": {
      "text/plain": [
       "<pyfixest.FixestMulti.FixestMulti at 0x2803c6dcf70>"
      ]
     },
     "execution_count": 13,
     "metadata": {},
     "output_type": "execute_result"
    }
   ],
   "source": [
    "multi_fit = feols(fml=\"Y~X1 | csw0(f1, f2)\", data=data, vcov=\"HC1\")\n",
    "multi_fit"
   ]
  },
  {
   "cell_type": "code",
   "execution_count": 14,
   "metadata": {},
   "outputs": [
    {
     "name": "stdout",
     "output_type": "stream",
     "text": [
      "###\n",
      "\n",
      "Estimation:  OLS\n",
      "Dep. var.: Y\n",
      "Inference:  HC1\n",
      "Observations:  998\n",
      "\n",
      "| Coefficient   |   Estimate |   Std. Error |   t value |   Pr(>|t|) |   2.5 % |   97.5 % |\n",
      "|:--------------|-----------:|-------------:|----------:|-----------:|--------:|---------:|\n",
      "| Intercept     |      2.228 |        0.088 |    25.418 |      0.000 |   2.056 |    2.400 |\n",
      "| X1            |      0.336 |        0.068 |     4.932 |      0.000 |   0.202 |    0.469 |\n",
      "---\n",
      "RMSE: 1.765  Adj. R2: 0.021  Adj. R2 Within: 0.021\n",
      "###\n",
      "\n",
      "Estimation:  OLS\n",
      "Dep. var.: Y, Fixed effects: f1\n",
      "Inference:  HC1\n",
      "Observations:  997\n",
      "\n",
      "| Coefficient   |   Estimate |   Std. Error |   t value |   Pr(>|t|) |   2.5 % |   97.5 % |\n",
      "|:--------------|-----------:|-------------:|----------:|-----------:|--------:|---------:|\n",
      "| X1            |      0.373 |        0.056 |     6.694 |      0.000 |   0.264 |    0.482 |\n",
      "---\n",
      "RMSE: 1.422  Adj. R2: 0.041  Adj. R2 Within: 0.041\n",
      "###\n",
      "\n",
      "Estimation:  OLS\n",
      "Dep. var.: Y, Fixed effects: f1+f2\n",
      "Inference:  HC1\n",
      "Observations:  997\n",
      "\n",
      "| Coefficient   |   Estimate |   Std. Error |   t value |   Pr(>|t|) |   2.5 % |   97.5 % |\n",
      "|:--------------|-----------:|-------------:|----------:|-----------:|--------:|---------:|\n",
      "| X1            |      0.402 |        0.049 |     8.290 |      0.000 |   0.307 |    0.498 |\n",
      "---\n",
      "RMSE: 1.2  Adj. R2: 0.064  Adj. R2 Within: 0.064\n"
     ]
    }
   ],
   "source": [
    "multi_fit.summary()"
   ]
  },
  {
   "cell_type": "markdown",
   "metadata": {},
   "source": [
    "Alternatively, you can look at the estimation results via the `etable()` method:"
   ]
  },
  {
   "cell_type": "code",
   "execution_count": 15,
   "metadata": {},
   "outputs": [
    {
     "data": {
      "text/html": [
       "<div>\n",
       "<style scoped>\n",
       "    .dataframe tbody tr th:only-of-type {\n",
       "        vertical-align: middle;\n",
       "    }\n",
       "\n",
       "    .dataframe tbody tr th {\n",
       "        vertical-align: top;\n",
       "    }\n",
       "\n",
       "    .dataframe thead tr th {\n",
       "        text-align: left;\n",
       "    }\n",
       "</style>\n",
       "<table border=\"1\" class=\"dataframe\">\n",
       "  <thead>\n",
       "    <tr>\n",
       "      <th>fml</th>\n",
       "      <th colspan=\"2\" halign=\"left\">Y~X1</th>\n",
       "      <th>Y~X1|f1</th>\n",
       "      <th>Y~X1|f1+f2</th>\n",
       "    </tr>\n",
       "    <tr>\n",
       "      <th>Coefficient</th>\n",
       "      <th>Intercept</th>\n",
       "      <th>X1</th>\n",
       "      <th>X1</th>\n",
       "      <th>X1</th>\n",
       "    </tr>\n",
       "  </thead>\n",
       "  <tbody>\n",
       "    <tr>\n",
       "      <th>Estimate</th>\n",
       "      <td>2.228</td>\n",
       "      <td>0.336</td>\n",
       "      <td>0.373</td>\n",
       "      <td>0.402</td>\n",
       "    </tr>\n",
       "    <tr>\n",
       "      <th>Std. Error</th>\n",
       "      <td>0.088</td>\n",
       "      <td>0.068</td>\n",
       "      <td>0.056</td>\n",
       "      <td>0.049</td>\n",
       "    </tr>\n",
       "    <tr>\n",
       "      <th>t value</th>\n",
       "      <td>25.418</td>\n",
       "      <td>4.932</td>\n",
       "      <td>6.694</td>\n",
       "      <td>8.290</td>\n",
       "    </tr>\n",
       "    <tr>\n",
       "      <th>Pr(&gt;|t|)</th>\n",
       "      <td>0.000</td>\n",
       "      <td>0.000</td>\n",
       "      <td>0.000</td>\n",
       "      <td>0.000</td>\n",
       "    </tr>\n",
       "    <tr>\n",
       "      <th>2.5 %</th>\n",
       "      <td>2.056</td>\n",
       "      <td>0.202</td>\n",
       "      <td>0.264</td>\n",
       "      <td>0.307</td>\n",
       "    </tr>\n",
       "    <tr>\n",
       "      <th>97.5 %</th>\n",
       "      <td>2.400</td>\n",
       "      <td>0.469</td>\n",
       "      <td>0.482</td>\n",
       "      <td>0.498</td>\n",
       "    </tr>\n",
       "  </tbody>\n",
       "</table>\n",
       "</div>"
      ],
      "text/plain": [
       "fml              Y~X1        Y~X1|f1 Y~X1|f1+f2\n",
       "Coefficient Intercept     X1      X1         X1\n",
       "Estimate        2.228  0.336   0.373      0.402\n",
       "Std. Error      0.088  0.068   0.056      0.049\n",
       "t value        25.418  4.932   6.694      8.290\n",
       "Pr(>|t|)        0.000  0.000   0.000      0.000\n",
       "2.5 %           2.056  0.202   0.264      0.307\n",
       "97.5 %          2.400  0.469   0.482      0.498"
      ]
     },
     "execution_count": 15,
     "metadata": {},
     "output_type": "execute_result"
    }
   ],
   "source": [
    "multi_fit.etable()"
   ]
  },
  {
   "cell_type": "markdown",
   "metadata": {},
   "source": [
    "If you are only insterested in some parameters, e.g. \"X1\", you can use the following syntax:"
   ]
  },
  {
   "cell_type": "code",
   "execution_count": 16,
   "metadata": {},
   "outputs": [
    {
     "data": {
      "text/html": [
       "<div>\n",
       "<style scoped>\n",
       "    .dataframe tbody tr th:only-of-type {\n",
       "        vertical-align: middle;\n",
       "    }\n",
       "\n",
       "    .dataframe tbody tr th {\n",
       "        vertical-align: top;\n",
       "    }\n",
       "\n",
       "    .dataframe thead th {\n",
       "        text-align: right;\n",
       "    }\n",
       "</style>\n",
       "<table border=\"1\" class=\"dataframe\">\n",
       "  <thead>\n",
       "    <tr style=\"text-align: right;\">\n",
       "      <th>fml</th>\n",
       "      <th>Y~X1</th>\n",
       "      <th>Y~X1|f1</th>\n",
       "      <th>Y~X1|f1+f2</th>\n",
       "    </tr>\n",
       "  </thead>\n",
       "  <tbody>\n",
       "    <tr>\n",
       "      <th>Estimate</th>\n",
       "      <td>0.336</td>\n",
       "      <td>0.373</td>\n",
       "      <td>0.402</td>\n",
       "    </tr>\n",
       "    <tr>\n",
       "      <th>Std. Error</th>\n",
       "      <td>0.068</td>\n",
       "      <td>0.056</td>\n",
       "      <td>0.049</td>\n",
       "    </tr>\n",
       "    <tr>\n",
       "      <th>t value</th>\n",
       "      <td>4.932</td>\n",
       "      <td>6.694</td>\n",
       "      <td>8.290</td>\n",
       "    </tr>\n",
       "    <tr>\n",
       "      <th>Pr(&gt;|t|)</th>\n",
       "      <td>0.000</td>\n",
       "      <td>0.000</td>\n",
       "      <td>0.000</td>\n",
       "    </tr>\n",
       "    <tr>\n",
       "      <th>2.5 %</th>\n",
       "      <td>0.202</td>\n",
       "      <td>0.264</td>\n",
       "      <td>0.307</td>\n",
       "    </tr>\n",
       "    <tr>\n",
       "      <th>97.5 %</th>\n",
       "      <td>0.469</td>\n",
       "      <td>0.482</td>\n",
       "      <td>0.498</td>\n",
       "    </tr>\n",
       "  </tbody>\n",
       "</table>\n",
       "</div>"
      ],
      "text/plain": [
       "fml          Y~X1  Y~X1|f1  Y~X1|f1+f2\n",
       "Estimate    0.336    0.373       0.402\n",
       "Std. Error  0.068    0.056       0.049\n",
       "t value     4.932    6.694       8.290\n",
       "Pr(>|t|)    0.000    0.000       0.000\n",
       "2.5 %       0.202    0.264       0.307\n",
       "97.5 %      0.469    0.482       0.498"
      ]
     },
     "execution_count": 16,
     "metadata": {},
     "output_type": "execute_result"
    }
   ],
   "source": [
    "multi_fit.etable().xs(\"X1\", level=1, axis=1)"
   ]
  },
  {
   "cell_type": "markdown",
   "metadata": {},
   "source": [
    "You can access an individual model by its name - i.e. a formula - via the `all_fitted_models` attribure."
   ]
  },
  {
   "cell_type": "code",
   "execution_count": 17,
   "metadata": {},
   "outputs": [
    {
     "data": {
      "text/html": [
       "<div>\n",
       "<style scoped>\n",
       "    .dataframe tbody tr th:only-of-type {\n",
       "        vertical-align: middle;\n",
       "    }\n",
       "\n",
       "    .dataframe tbody tr th {\n",
       "        vertical-align: top;\n",
       "    }\n",
       "\n",
       "    .dataframe thead th {\n",
       "        text-align: right;\n",
       "    }\n",
       "</style>\n",
       "<table border=\"1\" class=\"dataframe\">\n",
       "  <thead>\n",
       "    <tr style=\"text-align: right;\">\n",
       "      <th></th>\n",
       "      <th>Estimate</th>\n",
       "      <th>Std. Error</th>\n",
       "      <th>t value</th>\n",
       "      <th>Pr(&gt;|t|)</th>\n",
       "      <th>2.5 %</th>\n",
       "      <th>97.5 %</th>\n",
       "    </tr>\n",
       "    <tr>\n",
       "      <th>Coefficient</th>\n",
       "      <th></th>\n",
       "      <th></th>\n",
       "      <th></th>\n",
       "      <th></th>\n",
       "      <th></th>\n",
       "      <th></th>\n",
       "    </tr>\n",
       "  </thead>\n",
       "  <tbody>\n",
       "    <tr>\n",
       "      <th>Intercept</th>\n",
       "      <td>2.227929</td>\n",
       "      <td>0.087650</td>\n",
       "      <td>25.418482</td>\n",
       "      <td>0.000000e+00</td>\n",
       "      <td>2.055930</td>\n",
       "      <td>2.399929</td>\n",
       "    </tr>\n",
       "    <tr>\n",
       "      <th>X1</th>\n",
       "      <td>0.335588</td>\n",
       "      <td>0.068044</td>\n",
       "      <td>4.931907</td>\n",
       "      <td>9.536936e-07</td>\n",
       "      <td>0.202061</td>\n",
       "      <td>0.469114</td>\n",
       "    </tr>\n",
       "  </tbody>\n",
       "</table>\n",
       "</div>"
      ],
      "text/plain": [
       "             Estimate  Std. Error    t value      Pr(>|t|)     2.5 %    97.5 %\n",
       "Coefficient                                                                   \n",
       "Intercept    2.227929    0.087650  25.418482  0.000000e+00  2.055930  2.399929\n",
       "X1           0.335588    0.068044   4.931907  9.536936e-07  0.202061  0.469114"
      ]
     },
     "execution_count": 17,
     "metadata": {},
     "output_type": "execute_result"
    }
   ],
   "source": [
    "multi_fit.all_fitted_models[\"Y~X1\"].tidy()"
   ]
  },
  {
   "cell_type": "markdown",
   "metadata": {},
   "source": [
    "or equivalently via the `fetch_model` method:"
   ]
  },
  {
   "cell_type": "code",
   "execution_count": 18,
   "metadata": {},
   "outputs": [
    {
     "name": "stdout",
     "output_type": "stream",
     "text": [
      "Model:  Y~X1\n"
     ]
    },
    {
     "data": {
      "text/html": [
       "<div>\n",
       "<style scoped>\n",
       "    .dataframe tbody tr th:only-of-type {\n",
       "        vertical-align: middle;\n",
       "    }\n",
       "\n",
       "    .dataframe tbody tr th {\n",
       "        vertical-align: top;\n",
       "    }\n",
       "\n",
       "    .dataframe thead th {\n",
       "        text-align: right;\n",
       "    }\n",
       "</style>\n",
       "<table border=\"1\" class=\"dataframe\">\n",
       "  <thead>\n",
       "    <tr style=\"text-align: right;\">\n",
       "      <th></th>\n",
       "      <th>Estimate</th>\n",
       "      <th>Std. Error</th>\n",
       "      <th>t value</th>\n",
       "      <th>Pr(&gt;|t|)</th>\n",
       "      <th>2.5 %</th>\n",
       "      <th>97.5 %</th>\n",
       "    </tr>\n",
       "    <tr>\n",
       "      <th>Coefficient</th>\n",
       "      <th></th>\n",
       "      <th></th>\n",
       "      <th></th>\n",
       "      <th></th>\n",
       "      <th></th>\n",
       "      <th></th>\n",
       "    </tr>\n",
       "  </thead>\n",
       "  <tbody>\n",
       "    <tr>\n",
       "      <th>Intercept</th>\n",
       "      <td>2.227929</td>\n",
       "      <td>0.087650</td>\n",
       "      <td>25.418482</td>\n",
       "      <td>0.000000e+00</td>\n",
       "      <td>2.055930</td>\n",
       "      <td>2.399929</td>\n",
       "    </tr>\n",
       "    <tr>\n",
       "      <th>X1</th>\n",
       "      <td>0.335588</td>\n",
       "      <td>0.068044</td>\n",
       "      <td>4.931907</td>\n",
       "      <td>9.536936e-07</td>\n",
       "      <td>0.202061</td>\n",
       "      <td>0.469114</td>\n",
       "    </tr>\n",
       "  </tbody>\n",
       "</table>\n",
       "</div>"
      ],
      "text/plain": [
       "             Estimate  Std. Error    t value      Pr(>|t|)     2.5 %    97.5 %\n",
       "Coefficient                                                                   \n",
       "Intercept    2.227929    0.087650  25.418482  0.000000e+00  2.055930  2.399929\n",
       "X1           0.335588    0.068044   4.931907  9.536936e-07  0.202061  0.469114"
      ]
     },
     "execution_count": 18,
     "metadata": {},
     "output_type": "execute_result"
    }
   ],
   "source": [
    "multi_fit.fetch_model(0).tidy()"
   ]
  },
  {
   "cell_type": "markdown",
   "metadata": {},
   "source": [
    "Here, `0` simply fetches the first model stored in the `all_fitted_models` dictionary, `1` the second etc."
   ]
  },
  {
   "cell_type": "markdown",
   "metadata": {},
   "source": [
    "Objects of type `Fixest` come with a range of additional methods: `tidy()`, `coef()`, `vcov()` etc, which \n",
    "essentially loop over the equivalent methods of all fitted models. E.g. `Fixest.vcov()` updates inference for all \n",
    "models stored in `Fixest`."
   ]
  },
  {
   "cell_type": "code",
   "execution_count": 19,
   "metadata": {},
   "outputs": [
    {
     "name": "stdout",
     "output_type": "stream",
     "text": [
      "###\n",
      "\n",
      "Estimation:  OLS\n",
      "Dep. var.: Y\n",
      "Inference:  iid\n",
      "Observations:  998\n",
      "\n",
      "| Coefficient   |   Estimate |   Std. Error |   t value |   Pr(>|t|) |   2.5 % |   97.5 % |\n",
      "|:--------------|-----------:|-------------:|----------:|-----------:|--------:|---------:|\n",
      "| Intercept     |      2.228 |        0.088 |    25.322 |      0.000 |   2.055 |    2.401 |\n",
      "| X1            |      0.336 |        0.069 |     4.876 |      0.000 |   0.201 |    0.471 |\n",
      "---\n",
      "RMSE: 1.765  Adj. R2: 0.021  Adj. R2 Within: 0.021\n",
      "###\n",
      "\n",
      "Estimation:  OLS\n",
      "Dep. var.: Y, Fixed effects: f1\n",
      "Inference:  iid\n",
      "Observations:  997\n",
      "\n",
      "| Coefficient   |   Estimate |   Std. Error |   t value |   Pr(>|t|) |   2.5 % |   97.5 % |\n",
      "|:--------------|-----------:|-------------:|----------:|-----------:|--------:|---------:|\n",
      "| X1            |      0.373 |        0.057 |     6.592 |      0.000 |   0.262 |    0.484 |\n",
      "---\n",
      "RMSE: 1.422  Adj. R2: 0.041  Adj. R2 Within: 0.041\n",
      "###\n",
      "\n",
      "Estimation:  OLS\n",
      "Dep. var.: Y, Fixed effects: f1+f2\n",
      "Inference:  iid\n",
      "Observations:  997\n",
      "\n",
      "| Coefficient   |   Estimate |   Std. Error |   t value |   Pr(>|t|) |   2.5 % |   97.5 % |\n",
      "|:--------------|-----------:|-------------:|----------:|-----------:|--------:|---------:|\n",
      "| X1            |      0.402 |        0.048 |     8.303 |      0.000 |   0.307 |    0.498 |\n",
      "---\n",
      "RMSE: 1.2  Adj. R2: 0.064  Adj. R2 Within: 0.064\n"
     ]
    }
   ],
   "source": [
    "multi_fit.vcov(\"iid\").summary()"
   ]
  },
  {
   "cell_type": "markdown",
   "metadata": {},
   "source": [
    "## Visualization \n",
    "\n",
    "`PyFixest` provides two functions to visualize the results of a regression: `coefplot` and `iplot`."
   ]
  },
  {
   "cell_type": "code",
   "execution_count": 20,
   "metadata": {},
   "outputs": [
    {
     "data": {
      "text/html": [
       "\n",
       "            <div id=\"60G34S\"></div>\n",
       "            <script type=\"text/javascript\" data-lets-plot-script=\"library\">\n",
       "                if(!window.letsPlotCallQueue) {\n",
       "                    window.letsPlotCallQueue = [];\n",
       "                }; \n",
       "                window.letsPlotCall = function(f) {\n",
       "                    window.letsPlotCallQueue.push(f);\n",
       "                };\n",
       "                (function() {\n",
       "                    var script = document.createElement(\"script\");\n",
       "                    script.type = \"text/javascript\";\n",
       "                    script.src = \"https://cdn.jsdelivr.net/gh/JetBrains/lets-plot@v4.0.1/js-package/distr/lets-plot.min.js\";\n",
       "                    script.onload = function() {\n",
       "                        window.letsPlotCall = function(f) {f();};\n",
       "                        window.letsPlotCallQueue.forEach(function(f) {f();});\n",
       "                        window.letsPlotCallQueue = [];\n",
       "                        \n",
       "                    };\n",
       "                    script.onerror = function(event) {\n",
       "                        window.letsPlotCall = function(f) {};    // noop\n",
       "                        window.letsPlotCallQueue = [];\n",
       "                        var div = document.createElement(\"div\");\n",
       "                        div.style.color = 'darkred';\n",
       "                        div.textContent = 'Error loading Lets-Plot JS';\n",
       "                        document.getElementById(\"60G34S\").appendChild(div);\n",
       "                    };\n",
       "                    var e = document.getElementById(\"60G34S\");\n",
       "                    e.appendChild(script);\n",
       "                })()\n",
       "            </script>\n",
       "            "
      ]
     },
     "metadata": {},
     "output_type": "display_data"
    },
    {
     "data": {
      "text/html": [
       "   <div id=\"EtSvj9\"></div>\n",
       "   <script type=\"text/javascript\" data-lets-plot-script=\"plot\">\n",
       "       (function() {\n",
       "           var plotSpec={\n",
       "\"data\":{\n",
       "\"Model\":[\"Y~X1\",\"Y~X1\",\"Y~X1|f1\",\"Y~X1|f1+f2\"],\n",
       "\"Coefficient\":[\"Intercept\",\"X1\",\"X1\",\"X1\"],\n",
       "\"Estimate\":[2.2279294578967326,0.3355876134366026,0.3730855730126438,0.40241618362559695],\n",
       "\"2.5 %\":[2.0552772261301273,0.20053266958480737,0.26201929625383397,0.3073101984844758],\n",
       "\"97.5 %\":[2.400581689663338,0.4706425572883978,0.4841518497714536,0.49752216876671806]\n",
       "},\n",
       "\"mapping\":{\n",
       "\"x\":\"Coefficient\",\n",
       "\"y\":\"Estimate\",\n",
       "\"color\":\"Model\"\n",
       "},\n",
       "\"data_meta\":{\n",
       "},\n",
       "\"coord\":{\n",
       "\"name\":\"flip\",\n",
       "\"flip\":true\n",
       "},\n",
       "\"ggsize\":{\n",
       "\"width\":500.0,\n",
       "\"height\":300.0\n",
       "},\n",
       "\"theme\":{\n",
       "\"axis_text_x\":{\n",
       "\"angle\":0.0,\n",
       "\"blank\":false\n",
       "}\n",
       "},\n",
       "\"kind\":\"plot\",\n",
       "\"scales\":[{\n",
       "\"name\":\"Estimate and 95% Confidence Interval\",\n",
       "\"aesthetic\":\"y\"\n",
       "}],\n",
       "\"layers\":[{\n",
       "\"geom\":\"point\",\n",
       "\"mapping\":{\n",
       "},\n",
       "\"position\":{\n",
       "\"name\":\"dodge\",\n",
       "\"width\":0.5\n",
       "},\n",
       "\"data_meta\":{\n",
       "},\n",
       "\"data\":{\n",
       "}\n",
       "},{\n",
       "\"geom\":\"errorbar\",\n",
       "\"mapping\":{\n",
       "\"ymin\":\"2.5 %\",\n",
       "\"ymax\":\"97.5 %\"\n",
       "},\n",
       "\"position\":{\n",
       "\"name\":\"dodge\",\n",
       "\"width\":0.5\n",
       "},\n",
       "\"data_meta\":{\n",
       "},\n",
       "\"width\":0.05,\n",
       "\"data\":{\n",
       "}\n",
       "},{\n",
       "\"geom\":\"hline\",\n",
       "\"mapping\":{\n",
       "},\n",
       "\"data_meta\":{\n",
       "},\n",
       "\"yintercept\":0.0,\n",
       "\"linetype\":\"dashed\",\n",
       "\"color\":\"red\",\n",
       "\"data\":{\n",
       "}\n",
       "}],\n",
       "\"metainfo_list\":[]\n",
       "};\n",
       "           var plotContainer = document.getElementById(\"EtSvj9\");\n",
       "           window.letsPlotCall(function() {{\n",
       "               LetsPlot.buildPlotFromProcessedSpecs(plotSpec, -1, -1, plotContainer);\n",
       "           }});\n",
       "       })();    \n",
       "   </script>"
      ]
     },
     "metadata": {},
     "output_type": "display_data"
    }
   ],
   "source": [
    "from lets_plot import *\n",
    "\n",
    "LetsPlot.setup_html()\n",
    "\n",
    "multi_fit.coefplot().show()"
   ]
  },
  {
   "cell_type": "markdown",
   "metadata": {},
   "source": [
    "## TWFE Event Study\n",
    "\n",
    "To conclude this intro, we estimate an event study from an example of the the [LOST](https://lost-stats.github.io/Model_Estimation/Research_Design/event_study.html) library of statistical techniques."
   ]
  },
  {
   "cell_type": "code",
   "execution_count": 21,
   "metadata": {},
   "outputs": [],
   "source": [
    "import pandas as pd\n",
    "import numpy as np\n",
    "\n",
    "# Read in data\n",
    "df = pd.read_csv(\n",
    "    \"https://raw.githubusercontent.com/LOST-STATS/LOST-STATS.github.io/master/Model_Estimation/Data/Event_Study_DiD/bacon_example.csv\"\n",
    ")\n",
    "\n",
    "df[\"time_to_treat\"] = (df[\"year\"] - df[\"_nfd\"]).fillna(0).astype(int)\n",
    "df[\"time_to_treat\"] = pd.Categorical(\n",
    "    df.time_to_treat, np.sort(df.time_to_treat.unique())\n",
    ")\n",
    "df[\"treat\"] = np.where(pd.isna(df[\"_nfd\"]), 0, 1)\n",
    "\n",
    "fml = \"asmrs ~ i(time_to_treat, treat, ref = -1) + csw(pcinc, asmrh, cases) | stfips + year\"\n",
    "fit = feols(fml=fml, data=df, vcov={\"CRV1\": \"stfips\"})"
   ]
  },
  {
   "cell_type": "code",
   "execution_count": 22,
   "metadata": {},
   "outputs": [
    {
     "data": {
      "text/html": [
       "   <div id=\"jhFEoU\"></div>\n",
       "   <script type=\"text/javascript\" data-lets-plot-script=\"plot\">\n",
       "       (function() {\n",
       "           var plotSpec={\n",
       "\"data\":{\n",
       "\"Model\":[\"asmrs~i(time_to_treat,treat,ref=-1)+pcinc|stfips+year\",\"asmrs~i(time_to_treat,treat,ref=-1)+pcinc|stfips+year\",\"asmrs~i(time_to_treat,treat,ref=-1)+pcinc|stfips+year\",\"asmrs~i(time_to_treat,treat,ref=-1)+pcinc|stfips+year\",\"asmrs~i(time_to_treat,treat,ref=-1)+pcinc|stfips+year\",\"asmrs~i(time_to_treat,treat,ref=-1)+pcinc|stfips+year\",\"asmrs~i(time_to_treat,treat,ref=-1)+pcinc|stfips+year\",\"asmrs~i(time_to_treat,treat,ref=-1)+pcinc|stfips+year\",\"asmrs~i(time_to_treat,treat,ref=-1)+pcinc|stfips+year\",\"asmrs~i(time_to_treat,treat,ref=-1)+pcinc|stfips+year\",\"asmrs~i(time_to_treat,treat,ref=-1)+pcinc|stfips+year\",\"asmrs~i(time_to_treat,treat,ref=-1)+pcinc|stfips+year\",\"asmrs~i(time_to_treat,treat,ref=-1)+pcinc|stfips+year\",\"asmrs~i(time_to_treat,treat,ref=-1)+pcinc|stfips+year\",\"asmrs~i(time_to_treat,treat,ref=-1)+pcinc|stfips+year\",\"asmrs~i(time_to_treat,treat,ref=-1)+pcinc|stfips+year\",\"asmrs~i(time_to_treat,treat,ref=-1)+pcinc|stfips+year\",\"asmrs~i(time_to_treat,treat,ref=-1)+pcinc|stfips+year\",\"asmrs~i(time_to_treat,treat,ref=-1)+pcinc|stfips+year\",\"asmrs~i(time_to_treat,treat,ref=-1)+pcinc|stfips+year\",\"asmrs~i(time_to_treat,treat,ref=-1)+pcinc|stfips+year\",\"asmrs~i(time_to_treat,treat,ref=-1)+pcinc|stfips+year\",\"asmrs~i(time_to_treat,treat,ref=-1)+pcinc|stfips+year\",\"asmrs~i(time_to_treat,treat,ref=-1)+pcinc|stfips+year\",\"asmrs~i(time_to_treat,treat,ref=-1)+pcinc|stfips+year\",\"asmrs~i(time_to_treat,treat,ref=-1)+pcinc|stfips+year\",\"asmrs~i(time_to_treat,treat,ref=-1)+pcinc|stfips+year\",\"asmrs~i(time_to_treat,treat,ref=-1)+pcinc|stfips+year\",\"asmrs~i(time_to_treat,treat,ref=-1)+pcinc|stfips+year\",\"asmrs~i(time_to_treat,treat,ref=-1)+pcinc|stfips+year\",\"asmrs~i(time_to_treat,treat,ref=-1)+pcinc|stfips+year\",\"asmrs~i(time_to_treat,treat,ref=-1)+pcinc|stfips+year\",\"asmrs~i(time_to_treat,treat,ref=-1)+pcinc|stfips+year\",\"asmrs~i(time_to_treat,treat,ref=-1)+pcinc|stfips+year\",\"asmrs~i(time_to_treat,treat,ref=-1)+pcinc|stfips+year\",\"asmrs~i(time_to_treat,treat,ref=-1)+pcinc|stfips+year\",\"asmrs~i(time_to_treat,treat,ref=-1)+pcinc|stfips+year\",\"asmrs~i(time_to_treat,treat,ref=-1)+pcinc|stfips+year\",\"asmrs~i(time_to_treat,treat,ref=-1)+pcinc|stfips+year\",\"asmrs~i(time_to_treat,treat,ref=-1)+pcinc|stfips+year\",\"asmrs~i(time_to_treat,treat,ref=-1)+pcinc|stfips+year\",\"asmrs~i(time_to_treat,treat,ref=-1)+pcinc|stfips+year\",\"asmrs~i(time_to_treat,treat,ref=-1)+pcinc|stfips+year\",\"asmrs~i(time_to_treat,treat,ref=-1)+pcinc|stfips+year\",\"asmrs~i(time_to_treat,treat,ref=-1)+pcinc|stfips+year\",\"asmrs~i(time_to_treat,treat,ref=-1)+pcinc|stfips+year\",\"asmrs~i(time_to_treat,treat,ref=-1)+pcinc|stfips+year\",\"asmrs~i(time_to_treat,treat,ref=-1)+pcinc|stfips+year\",\"asmrs~i(time_to_treat,treat,ref=-1)+pcinc+asmrh|stfips+year\",\"asmrs~i(time_to_treat,treat,ref=-1)+pcinc+asmrh|stfips+year\",\"asmrs~i(time_to_treat,treat,ref=-1)+pcinc+asmrh|stfips+year\",\"asmrs~i(time_to_treat,treat,ref=-1)+pcinc+asmrh|stfips+year\",\"asmrs~i(time_to_treat,treat,ref=-1)+pcinc+asmrh|stfips+year\",\"asmrs~i(time_to_treat,treat,ref=-1)+pcinc+asmrh|stfips+year\",\"asmrs~i(time_to_treat,treat,ref=-1)+pcinc+asmrh|stfips+year\",\"asmrs~i(time_to_treat,treat,ref=-1)+pcinc+asmrh|stfips+year\",\"asmrs~i(time_to_treat,treat,ref=-1)+pcinc+asmrh|stfips+year\",\"asmrs~i(time_to_treat,treat,ref=-1)+pcinc+asmrh|stfips+year\",\"asmrs~i(time_to_treat,treat,ref=-1)+pcinc+asmrh|stfips+year\",\"asmrs~i(time_to_treat,treat,ref=-1)+pcinc+asmrh|stfips+year\",\"asmrs~i(time_to_treat,treat,ref=-1)+pcinc+asmrh|stfips+year\",\"asmrs~i(time_to_treat,treat,ref=-1)+pcinc+asmrh|stfips+year\",\"asmrs~i(time_to_treat,treat,ref=-1)+pcinc+asmrh|stfips+year\",\"asmrs~i(time_to_treat,treat,ref=-1)+pcinc+asmrh|stfips+year\",\"asmrs~i(time_to_treat,treat,ref=-1)+pcinc+asmrh|stfips+year\",\"asmrs~i(time_to_treat,treat,ref=-1)+pcinc+asmrh|stfips+year\",\"asmrs~i(time_to_treat,treat,ref=-1)+pcinc+asmrh|stfips+year\",\"asmrs~i(time_to_treat,treat,ref=-1)+pcinc+asmrh|stfips+year\",\"asmrs~i(time_to_treat,treat,ref=-1)+pcinc+asmrh|stfips+year\",\"asmrs~i(time_to_treat,treat,ref=-1)+pcinc+asmrh|stfips+year\",\"asmrs~i(time_to_treat,treat,ref=-1)+pcinc+asmrh|stfips+year\",\"asmrs~i(time_to_treat,treat,ref=-1)+pcinc+asmrh|stfips+year\",\"asmrs~i(time_to_treat,treat,ref=-1)+pcinc+asmrh|stfips+year\",\"asmrs~i(time_to_treat,treat,ref=-1)+pcinc+asmrh|stfips+year\",\"asmrs~i(time_to_treat,treat,ref=-1)+pcinc+asmrh|stfips+year\",\"asmrs~i(time_to_treat,treat,ref=-1)+pcinc+asmrh|stfips+year\",\"asmrs~i(time_to_treat,treat,ref=-1)+pcinc+asmrh|stfips+year\",\"asmrs~i(time_to_treat,treat,ref=-1)+pcinc+asmrh|stfips+year\",\"asmrs~i(time_to_treat,treat,ref=-1)+pcinc+asmrh|stfips+year\",\"asmrs~i(time_to_treat,treat,ref=-1)+pcinc+asmrh|stfips+year\",\"asmrs~i(time_to_treat,treat,ref=-1)+pcinc+asmrh|stfips+year\",\"asmrs~i(time_to_treat,treat,ref=-1)+pcinc+asmrh|stfips+year\",\"asmrs~i(time_to_treat,treat,ref=-1)+pcinc+asmrh|stfips+year\",\"asmrs~i(time_to_treat,treat,ref=-1)+pcinc+asmrh|stfips+year\",\"asmrs~i(time_to_treat,treat,ref=-1)+pcinc+asmrh|stfips+year\",\"asmrs~i(time_to_treat,treat,ref=-1)+pcinc+asmrh|stfips+year\",\"asmrs~i(time_to_treat,treat,ref=-1)+pcinc+asmrh|stfips+year\",\"asmrs~i(time_to_treat,treat,ref=-1)+pcinc+asmrh|stfips+year\",\"asmrs~i(time_to_treat,treat,ref=-1)+pcinc+asmrh|stfips+year\",\"asmrs~i(time_to_treat,treat,ref=-1)+pcinc+asmrh|stfips+year\",\"asmrs~i(time_to_treat,treat,ref=-1)+pcinc+asmrh|stfips+year\",\"asmrs~i(time_to_treat,treat,ref=-1)+pcinc+asmrh|stfips+year\",\"asmrs~i(time_to_treat,treat,ref=-1)+pcinc+asmrh|stfips+year\",\"asmrs~i(time_to_treat,treat,ref=-1)+pcinc+asmrh|stfips+year\",\"asmrs~i(time_to_treat,treat,ref=-1)+pcinc+asmrh|stfips+year\",\"asmrs~i(time_to_treat,treat,ref=-1)+pcinc+asmrh|stfips+year\",\"asmrs~i(time_to_treat,treat,ref=-1)+pcinc+asmrh+cases|stfips+year\",\"asmrs~i(time_to_treat,treat,ref=-1)+pcinc+asmrh+cases|stfips+year\",\"asmrs~i(time_to_treat,treat,ref=-1)+pcinc+asmrh+cases|stfips+year\",\"asmrs~i(time_to_treat,treat,ref=-1)+pcinc+asmrh+cases|stfips+year\",\"asmrs~i(time_to_treat,treat,ref=-1)+pcinc+asmrh+cases|stfips+year\",\"asmrs~i(time_to_treat,treat,ref=-1)+pcinc+asmrh+cases|stfips+year\",\"asmrs~i(time_to_treat,treat,ref=-1)+pcinc+asmrh+cases|stfips+year\",\"asmrs~i(time_to_treat,treat,ref=-1)+pcinc+asmrh+cases|stfips+year\",\"asmrs~i(time_to_treat,treat,ref=-1)+pcinc+asmrh+cases|stfips+year\",\"asmrs~i(time_to_treat,treat,ref=-1)+pcinc+asmrh+cases|stfips+year\",\"asmrs~i(time_to_treat,treat,ref=-1)+pcinc+asmrh+cases|stfips+year\",\"asmrs~i(time_to_treat,treat,ref=-1)+pcinc+asmrh+cases|stfips+year\",\"asmrs~i(time_to_treat,treat,ref=-1)+pcinc+asmrh+cases|stfips+year\",\"asmrs~i(time_to_treat,treat,ref=-1)+pcinc+asmrh+cases|stfips+year\",\"asmrs~i(time_to_treat,treat,ref=-1)+pcinc+asmrh+cases|stfips+year\",\"asmrs~i(time_to_treat,treat,ref=-1)+pcinc+asmrh+cases|stfips+year\",\"asmrs~i(time_to_treat,treat,ref=-1)+pcinc+asmrh+cases|stfips+year\",\"asmrs~i(time_to_treat,treat,ref=-1)+pcinc+asmrh+cases|stfips+year\",\"asmrs~i(time_to_treat,treat,ref=-1)+pcinc+asmrh+cases|stfips+year\",\"asmrs~i(time_to_treat,treat,ref=-1)+pcinc+asmrh+cases|stfips+year\",\"asmrs~i(time_to_treat,treat,ref=-1)+pcinc+asmrh+cases|stfips+year\",\"asmrs~i(time_to_treat,treat,ref=-1)+pcinc+asmrh+cases|stfips+year\",\"asmrs~i(time_to_treat,treat,ref=-1)+pcinc+asmrh+cases|stfips+year\",\"asmrs~i(time_to_treat,treat,ref=-1)+pcinc+asmrh+cases|stfips+year\",\"asmrs~i(time_to_treat,treat,ref=-1)+pcinc+asmrh+cases|stfips+year\",\"asmrs~i(time_to_treat,treat,ref=-1)+pcinc+asmrh+cases|stfips+year\",\"asmrs~i(time_to_treat,treat,ref=-1)+pcinc+asmrh+cases|stfips+year\",\"asmrs~i(time_to_treat,treat,ref=-1)+pcinc+asmrh+cases|stfips+year\",\"asmrs~i(time_to_treat,treat,ref=-1)+pcinc+asmrh+cases|stfips+year\",\"asmrs~i(time_to_treat,treat,ref=-1)+pcinc+asmrh+cases|stfips+year\",\"asmrs~i(time_to_treat,treat,ref=-1)+pcinc+asmrh+cases|stfips+year\",\"asmrs~i(time_to_treat,treat,ref=-1)+pcinc+asmrh+cases|stfips+year\",\"asmrs~i(time_to_treat,treat,ref=-1)+pcinc+asmrh+cases|stfips+year\",\"asmrs~i(time_to_treat,treat,ref=-1)+pcinc+asmrh+cases|stfips+year\",\"asmrs~i(time_to_treat,treat,ref=-1)+pcinc+asmrh+cases|stfips+year\",\"asmrs~i(time_to_treat,treat,ref=-1)+pcinc+asmrh+cases|stfips+year\",\"asmrs~i(time_to_treat,treat,ref=-1)+pcinc+asmrh+cases|stfips+year\",\"asmrs~i(time_to_treat,treat,ref=-1)+pcinc+asmrh+cases|stfips+year\",\"asmrs~i(time_to_treat,treat,ref=-1)+pcinc+asmrh+cases|stfips+year\",\"asmrs~i(time_to_treat,treat,ref=-1)+pcinc+asmrh+cases|stfips+year\",\"asmrs~i(time_to_treat,treat,ref=-1)+pcinc+asmrh+cases|stfips+year\",\"asmrs~i(time_to_treat,treat,ref=-1)+pcinc+asmrh+cases|stfips+year\",\"asmrs~i(time_to_treat,treat,ref=-1)+pcinc+asmrh+cases|stfips+year\",\"asmrs~i(time_to_treat,treat,ref=-1)+pcinc+asmrh+cases|stfips+year\",\"asmrs~i(time_to_treat,treat,ref=-1)+pcinc+asmrh+cases|stfips+year\",\"asmrs~i(time_to_treat,treat,ref=-1)+pcinc+asmrh+cases|stfips+year\",\"asmrs~i(time_to_treat,treat,ref=-1)+pcinc+asmrh+cases|stfips+year\",\"asmrs~i(time_to_treat,treat,ref=-1)+pcinc+asmrh+cases|stfips+year\"],\n",
       "\"Coefficient\":[\"C(time_to_treat)[T.-21]:treat\",\"C(time_to_treat)[T.-20]:treat\",\"C(time_to_treat)[T.-19]:treat\",\"C(time_to_treat)[T.-18]:treat\",\"C(time_to_treat)[T.-17]:treat\",\"C(time_to_treat)[T.-16]:treat\",\"C(time_to_treat)[T.-15]:treat\",\"C(time_to_treat)[T.-14]:treat\",\"C(time_to_treat)[T.-13]:treat\",\"C(time_to_treat)[T.-12]:treat\",\"C(time_to_treat)[T.-11]:treat\",\"C(time_to_treat)[T.-10]:treat\",\"C(time_to_treat)[T.-9]:treat\",\"C(time_to_treat)[T.-8]:treat\",\"C(time_to_treat)[T.-7]:treat\",\"C(time_to_treat)[T.-6]:treat\",\"C(time_to_treat)[T.-5]:treat\",\"C(time_to_treat)[T.-4]:treat\",\"C(time_to_treat)[T.-3]:treat\",\"C(time_to_treat)[T.-2]:treat\",\"C(time_to_treat)[T.0]:treat\",\"C(time_to_treat)[T.1]:treat\",\"C(time_to_treat)[T.2]:treat\",\"C(time_to_treat)[T.3]:treat\",\"C(time_to_treat)[T.4]:treat\",\"C(time_to_treat)[T.5]:treat\",\"C(time_to_treat)[T.6]:treat\",\"C(time_to_treat)[T.7]:treat\",\"C(time_to_treat)[T.8]:treat\",\"C(time_to_treat)[T.9]:treat\",\"C(time_to_treat)[T.10]:treat\",\"C(time_to_treat)[T.11]:treat\",\"C(time_to_treat)[T.12]:treat\",\"C(time_to_treat)[T.13]:treat\",\"C(time_to_treat)[T.14]:treat\",\"C(time_to_treat)[T.15]:treat\",\"C(time_to_treat)[T.16]:treat\",\"C(time_to_treat)[T.17]:treat\",\"C(time_to_treat)[T.18]:treat\",\"C(time_to_treat)[T.19]:treat\",\"C(time_to_treat)[T.20]:treat\",\"C(time_to_treat)[T.21]:treat\",\"C(time_to_treat)[T.22]:treat\",\"C(time_to_treat)[T.23]:treat\",\"C(time_to_treat)[T.24]:treat\",\"C(time_to_treat)[T.25]:treat\",\"C(time_to_treat)[T.26]:treat\",\"C(time_to_treat)[T.27]:treat\",\"C(time_to_treat)[T.-21]:treat\",\"C(time_to_treat)[T.-20]:treat\",\"C(time_to_treat)[T.-19]:treat\",\"C(time_to_treat)[T.-18]:treat\",\"C(time_to_treat)[T.-17]:treat\",\"C(time_to_treat)[T.-16]:treat\",\"C(time_to_treat)[T.-15]:treat\",\"C(time_to_treat)[T.-14]:treat\",\"C(time_to_treat)[T.-13]:treat\",\"C(time_to_treat)[T.-12]:treat\",\"C(time_to_treat)[T.-11]:treat\",\"C(time_to_treat)[T.-10]:treat\",\"C(time_to_treat)[T.-9]:treat\",\"C(time_to_treat)[T.-8]:treat\",\"C(time_to_treat)[T.-7]:treat\",\"C(time_to_treat)[T.-6]:treat\",\"C(time_to_treat)[T.-5]:treat\",\"C(time_to_treat)[T.-4]:treat\",\"C(time_to_treat)[T.-3]:treat\",\"C(time_to_treat)[T.-2]:treat\",\"C(time_to_treat)[T.0]:treat\",\"C(time_to_treat)[T.1]:treat\",\"C(time_to_treat)[T.2]:treat\",\"C(time_to_treat)[T.3]:treat\",\"C(time_to_treat)[T.4]:treat\",\"C(time_to_treat)[T.5]:treat\",\"C(time_to_treat)[T.6]:treat\",\"C(time_to_treat)[T.7]:treat\",\"C(time_to_treat)[T.8]:treat\",\"C(time_to_treat)[T.9]:treat\",\"C(time_to_treat)[T.10]:treat\",\"C(time_to_treat)[T.11]:treat\",\"C(time_to_treat)[T.12]:treat\",\"C(time_to_treat)[T.13]:treat\",\"C(time_to_treat)[T.14]:treat\",\"C(time_to_treat)[T.15]:treat\",\"C(time_to_treat)[T.16]:treat\",\"C(time_to_treat)[T.17]:treat\",\"C(time_to_treat)[T.18]:treat\",\"C(time_to_treat)[T.19]:treat\",\"C(time_to_treat)[T.20]:treat\",\"C(time_to_treat)[T.21]:treat\",\"C(time_to_treat)[T.22]:treat\",\"C(time_to_treat)[T.23]:treat\",\"C(time_to_treat)[T.24]:treat\",\"C(time_to_treat)[T.25]:treat\",\"C(time_to_treat)[T.26]:treat\",\"C(time_to_treat)[T.27]:treat\",\"C(time_to_treat)[T.-21]:treat\",\"C(time_to_treat)[T.-20]:treat\",\"C(time_to_treat)[T.-19]:treat\",\"C(time_to_treat)[T.-18]:treat\",\"C(time_to_treat)[T.-17]:treat\",\"C(time_to_treat)[T.-16]:treat\",\"C(time_to_treat)[T.-15]:treat\",\"C(time_to_treat)[T.-14]:treat\",\"C(time_to_treat)[T.-13]:treat\",\"C(time_to_treat)[T.-12]:treat\",\"C(time_to_treat)[T.-11]:treat\",\"C(time_to_treat)[T.-10]:treat\",\"C(time_to_treat)[T.-9]:treat\",\"C(time_to_treat)[T.-8]:treat\",\"C(time_to_treat)[T.-7]:treat\",\"C(time_to_treat)[T.-6]:treat\",\"C(time_to_treat)[T.-5]:treat\",\"C(time_to_treat)[T.-4]:treat\",\"C(time_to_treat)[T.-3]:treat\",\"C(time_to_treat)[T.-2]:treat\",\"C(time_to_treat)[T.0]:treat\",\"C(time_to_treat)[T.1]:treat\",\"C(time_to_treat)[T.2]:treat\",\"C(time_to_treat)[T.3]:treat\",\"C(time_to_treat)[T.4]:treat\",\"C(time_to_treat)[T.5]:treat\",\"C(time_to_treat)[T.6]:treat\",\"C(time_to_treat)[T.7]:treat\",\"C(time_to_treat)[T.8]:treat\",\"C(time_to_treat)[T.9]:treat\",\"C(time_to_treat)[T.10]:treat\",\"C(time_to_treat)[T.11]:treat\",\"C(time_to_treat)[T.12]:treat\",\"C(time_to_treat)[T.13]:treat\",\"C(time_to_treat)[T.14]:treat\",\"C(time_to_treat)[T.15]:treat\",\"C(time_to_treat)[T.16]:treat\",\"C(time_to_treat)[T.17]:treat\",\"C(time_to_treat)[T.18]:treat\",\"C(time_to_treat)[T.19]:treat\",\"C(time_to_treat)[T.20]:treat\",\"C(time_to_treat)[T.21]:treat\",\"C(time_to_treat)[T.22]:treat\",\"C(time_to_treat)[T.23]:treat\",\"C(time_to_treat)[T.24]:treat\",\"C(time_to_treat)[T.25]:treat\",\"C(time_to_treat)[T.26]:treat\",\"C(time_to_treat)[T.27]:treat\"],\n",
       "\"Estimate\":[-23.296652735262214,-11.9893107839615,9.768059745730717,0.5425257659437132,-3.3028217654312213,-0.1483724293644722,2.3270080876436334,5.054981337002291,0.6001032702812492,1.1741876896907883,-8.203880105734576,-0.3920004539511191,-4.484466037933698,-1.650764348769735,-0.47126938835478405,0.053483155059492866,-2.1223369600692767,0.6498461181003647,-1.8966161973315656,-0.2692991404192939,-0.13470747276253858,-1.6805719452187367,-1.6509431985056982,-0.6613258453927859,-2.7941945338692316,-1.9415683904141106,-3.0318530245334974,-4.638135043829075,-6.654169506194633,-4.4953633153053545,-8.55656381125397,-6.93989230808482,-5.855862562247521,-7.781980460415645,-6.2199376149442624,-7.827959511259349,-7.10843160684664,-8.5896924592116,-10.453602931422274,-11.953194955449556,-9.580331855782562,-10.97780956488785,-10.999078622556405,-12.08519161260706,-10.752844343254257,-10.096794994374877,-17.359599815833324,-0.22193267442172201,-22.96746043075964,-11.09486889288434,9.764203940222922,0.40571350342967505,-3.449646340736838,-0.03528353998916091,1.96809210622706,5.59303338981253,0.6943049901152536,1.672720317945059,-7.987736785048494,0.05332517140171443,-4.254996775233181,-1.9336099027794262,-0.7254180301001555,-0.2687827388814669,-2.4197469104406726,0.46501863572124796,-2.1974878464819816,-0.46802108795902736,0.16677694451850722,-1.7233612714240454,-1.749241157922891,-0.6674278928052101,-2.7708650414349263,-2.103841109825956,-3.002229963254627,-4.8250835353558115,-6.692635687002923,-4.544660075959399,-8.567121826632302,-7.113649050145555,-6.068273899413718,-8.199325048134705,-6.552439751997092,-7.83265756332639,-7.248702320193626,-8.579682016841025,-10.153595336969031,-11.62970980534423,-9.209361104923097,-10.710443326489187,-10.569213245968127,-11.834371303004469,-10.259159066817267,-9.873182673694624,-16.723454998501534,0.3250369524053293,-22.920726446144084,-12.084178725140594,8.84272725913246,-0.5159512964600916,-4.434873692863331,-1.0225770388830757,0.8477567093812953,4.327995335876377,-1.3885684432172944,-0.04345010461401766,-9.381947731733241,-1.1506662260127527,-5.000702072366546,-2.7376503857869143,-1.2564342803159203,-0.7505581537755817,-2.7754232450632217,0.22835743744363693,-2.3125873906425842,-0.5157396600784707,0.2507466434442711,-1.6193514470230603,-1.687106744725439,-0.7444708543655678,-2.9563537988169255,-2.3778407925709537,-3.3118876050409254,-5.136502322443836,-6.991146213164918,-4.823210281431118,-8.814157647870188,-7.273309616037599,-6.1515587433110746,-8.276836692325798,-6.5932211133412855,-7.850839465421159,-7.234421778646823,-8.516897935774564,-9.991581577810308,-11.536133013476954,-9.21916459669347,-10.790883661451389,-10.654782076258918,-12.086576886972296,-10.677956335071913,-10.267768531326192,-16.692550184818902,-0.43447518954513076],\n",
       "\"2.5 %\":[-31.395248937746402,-34.737816244498426,-0.23798994490656966,-9.695010645898515,-16.909822044609147,-7.478666685696344,-5.3600678082285,-3.7805306340818756,-7.2589743185015525,-10.94774402811946,-15.565810067842548,-9.487852463107831,-11.09642506826103,-8.859483085393812,-8.654731137844491,-5.827788157184815,-7.160133294628299,-3.9198013695186362,-7.697227479348998,-5.108665402954975,-5.365000016140041,-7.593159920699612,-9.411295531326308,-6.327256269389938,-8.238711287266792,-7.296922300096114,-9.936170152352766,-11.181047122390268,-12.677019556445295,-10.476078980516293,-15.464924508694164,-13.889590100849386,-13.710851850599635,-15.397757995483055,-13.696517589115054,-15.67013291329901,-15.329765932248037,-17.116020757509048,-17.68162220899677,-19.472202098316355,-18.359651661147385,-19.667339395943706,-20.024902173231663,-22.722467648001427,-23.1155521256805,-25.342497810128457,-39.36678548649827,-15.69436167641489,-30.969096308804435,-35.20487110104532,-0.013227384739385784,-10.3799700952519,-17.754410116806092,-7.113283925616039,-5.448323205699078,-3.8291763954886653,-7.266767942700243,-10.833167792393189,-15.19431139436542,-9.000212729039772,-10.805779262800502,-9.065175064838684,-8.942605771774264,-6.014625408336187,-7.437728801453767,-4.198453340843199,-8.073041200627653,-5.429901340048509,-5.2229429922089885,-7.54394114446542,-9.41354361368272,-6.33014531670194,-8.308663216586332,-7.47730471140529,-9.954168242215577,-11.406563789648917,-12.704465208843914,-10.54680247659901,-15.655458665301698,-14.104153128636613,-13.907055862342627,-15.76078505960815,-13.98543231637828,-15.788373511416463,-15.613467505270963,-17.17684673313822,-17.620215492841645,-19.301404647843608,-18.144467557802237,-19.497266229928485,-19.771893711353542,-22.509661655667983,-22.73024281310375,-25.123383956608528,-38.94791389230292,-15.694202266719616,-30.900083118962847,-33.95965694615251,-3.0094025368085973,-9.823951448535352,-16.7906099335518,-8.171513281508904,-7.498545935283712,-6.052397490809453,-10.608431391565636,-13.795241391907485,-17.299980502883933,-10.96214224445688,-12.138397337883973,-10.50188774137708,-9.890873773302344,-6.7002713262531035,-7.988982290538246,-4.540778948071602,-8.221054816237986,-5.518737265342248,-5.164515883776534,-7.471060962354328,-9.441897160558746,-6.439092072912759,-8.59140630870463,-7.857947322739142,-10.410153899084413,-11.904120700479616,-13.130984935629488,-10.969228765520086,-16.124175201398643,-14.498101714725042,-14.286977637750356,-16.12725683594606,-14.286531693847088,-15.949105434297447,-15.730555248296003,-17.159132107275973,-17.469063482596773,-19.218493025278693,-18.174898934059083,-19.579504237807576,-19.82234129457708,-22.61442748260648,-22.907451159477702,-25.10632056916144,-37.664812133854866,-16.641816398915978],\n",
       "\"97.5 %\":[-15.198056532778024,10.759194676575426,19.774109436368004,10.780062177785942,10.304178513746706,7.1819218269673994,10.014083983515766,13.890493308086457,8.45918085906405,13.296119407501036,-0.8419501436266046,8.703851555205592,2.127492992393635,5.557954387854343,7.712192361134923,5.934754467303802,2.915459374489745,5.219493605719366,3.903995084685866,4.570067122116387,5.095585070614963,4.232016030262138,6.109409134314912,5.004604578604367,2.65032221952833,3.413785519267892,3.8724641032857705,1.9047770347321196,-0.631319455943971,1.4853523499055843,-1.648203113813774,0.00980548467974618,1.9991267261045929,-0.16620292534823555,1.2566423592265288,0.014213890780311544,1.112902718554757,-0.06336416091415131,-3.225583653847779,-4.434187812582757,-0.8010120504177394,-2.2882797338319953,-1.9732550718811481,-1.4479155772126955,1.6098634391719902,5.148907821378703,4.647585854831629,15.250496327571444,-14.965824552714846,13.01513331527664,19.541635265185228,11.191397102111251,10.855117435332415,7.042716845637718,9.384507418153198,15.015243175113724,8.65537792293075,14.178608428283306,-0.7811621757315681,9.106863071843202,2.2957857123341414,5.197955259279832,7.491769711573954,5.477059930573253,2.5982349805724225,5.128490612285694,3.6780655076636903,4.4938591641304555,5.556496881246003,4.097218601617329,5.915061297836938,4.99528953109152,2.7669331337164795,3.269622491753378,3.9497083157063217,1.756396718937295,-0.6808061651619335,1.4574823246802122,-1.4787849879629062,-0.12314497165449723,1.7705080635151917,-0.6378650366612595,0.8805528123840967,0.1230583847636817,1.1160628648837108,0.017482699456172313,-2.68697518109642,-3.958014962844854,-0.27425465204395927,-1.9236204230498917,-1.3665327805827108,-1.159080950340952,2.2119246794692184,5.377018609219279,5.501003895299853,16.344276171530275,-14.941369773325322,9.791299495871323,20.694857055073516,8.79204885561517,7.920862547825138,6.126359203742752,9.194059354046303,14.708388162562207,7.831294505131047,13.708341182679451,-1.4639149605825477,8.660809792431374,2.1369931931508797,5.026586969803251,7.378005212670503,5.199155018701941,2.438135800411802,4.997493822958876,3.5958800349528173,4.4872579451853065,5.666009170665076,4.232358068308208,6.067683671107867,4.9501503641816225,2.67869871107078,3.102265737597235,3.7863786890025617,1.631116055591943,-0.8513074907003473,1.3228082026578498,-1.5041400943417331,-0.04851751735015508,1.9838601511282068,-0.4264165487055358,1.1000894671645174,0.24742650345512995,1.2617116910023576,0.12533623572684327,-2.5140996730238436,-3.853773001675215,-0.26343025932785835,-2.0022630850951995,-1.4872228579407594,-1.5587262913381092,1.5515384893338737,4.570783506509054,4.279711764217062,15.772866019825715]\n",
       "},\n",
       "\"mapping\":{\n",
       "\"x\":\"Coefficient\",\n",
       "\"y\":\"Estimate\",\n",
       "\"color\":\"Model\"\n",
       "},\n",
       "\"data_meta\":{\n",
       "},\n",
       "\"ggsize\":{\n",
       "\"width\":2000.0,\n",
       "\"height\":600.0\n",
       "},\n",
       "\"theme\":{\n",
       "\"axis_text_x\":{\n",
       "\"angle\":90.0,\n",
       "\"blank\":false\n",
       "}\n",
       "},\n",
       "\"ggtitle\":{\n",
       "\"text\":\"Event Study Plot\"\n",
       "},\n",
       "\"kind\":\"plot\",\n",
       "\"scales\":[{\n",
       "\"name\":\"Estimate and 95% Confidence Interval\",\n",
       "\"aesthetic\":\"y\"\n",
       "}],\n",
       "\"layers\":[{\n",
       "\"geom\":\"point\",\n",
       "\"mapping\":{\n",
       "},\n",
       "\"position\":{\n",
       "\"name\":\"dodge\",\n",
       "\"width\":0.5\n",
       "},\n",
       "\"data_meta\":{\n",
       "},\n",
       "\"data\":{\n",
       "}\n",
       "},{\n",
       "\"geom\":\"errorbar\",\n",
       "\"mapping\":{\n",
       "\"ymin\":\"2.5 %\",\n",
       "\"ymax\":\"97.5 %\"\n",
       "},\n",
       "\"position\":{\n",
       "\"name\":\"dodge\",\n",
       "\"width\":0.5\n",
       "},\n",
       "\"data_meta\":{\n",
       "},\n",
       "\"width\":0.05,\n",
       "\"data\":{\n",
       "}\n",
       "},{\n",
       "\"geom\":\"hline\",\n",
       "\"mapping\":{\n",
       "},\n",
       "\"data_meta\":{\n",
       "},\n",
       "\"yintercept\":0.0,\n",
       "\"linetype\":\"dashed\",\n",
       "\"color\":\"red\",\n",
       "\"data\":{\n",
       "}\n",
       "}],\n",
       "\"metainfo_list\":[]\n",
       "};\n",
       "           var plotContainer = document.getElementById(\"jhFEoU\");\n",
       "           window.letsPlotCall(function() {{\n",
       "               LetsPlot.buildPlotFromProcessedSpecs(plotSpec, -1, -1, plotContainer);\n",
       "           }});\n",
       "       })();    \n",
       "   </script>"
      ]
     },
     "metadata": {},
     "output_type": "display_data"
    }
   ],
   "source": [
    "plot = fit.iplot(\n",
    "    yintercept=0,\n",
    "    figsize=(2000, 600),\n",
    "    coord_flip=False,\n",
    "    title=\"Event Study Plot\",\n",
    "    rotate_xticks=90,\n",
    ")\n",
    "plot.show()"
   ]
  },
  {
   "cell_type": "markdown",
   "metadata": {},
   "source": []
  }
 ],
 "metadata": {
  "kernelspec": {
   "display_name": "Python 3",
   "language": "python",
   "name": "python3"
  },
  "language_info": {
   "codemirror_mode": {
    "name": "ipython",
    "version": 3
   },
   "file_extension": ".py",
   "mimetype": "text/x-python",
   "name": "python",
   "nbconvert_exporter": "python",
   "pygments_lexer": "ipython3",
   "version": "3.10.8"
  },
  "orig_nbformat": 4
 },
 "nbformat": 4,
 "nbformat_minor": 2
}
