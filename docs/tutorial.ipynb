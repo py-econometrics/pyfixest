{
 "cells": [
  {
   "cell_type": "markdown",
   "metadata": {},
   "source": [
    "# Getting Started with PyFixest\n",
    "\n",
    "In a first step, we load the module and some example data:"
   ]
  },
  {
   "cell_type": "code",
   "execution_count": 1,
   "metadata": {},
   "outputs": [
    {
     "name": "stderr",
     "output_type": "stream",
     "text": [
      "c:\\Users\\alexa\\Documents\\pyfixest\\pyfixest\\utils.py:40: SettingWithCopyWarning: \n",
      "A value is trying to be set on a copy of a slice from a DataFrame\n",
      "\n",
      "See the caveats in the documentation: https://pandas.pydata.org/pandas-docs/stable/user_guide/indexing.html#returning-a-view-versus-a-copy\n",
      "  data['Y'][0] = np.nan\n",
      "c:\\Users\\alexa\\Documents\\pyfixest\\pyfixest\\utils.py:41: SettingWithCopyWarning: \n",
      "A value is trying to be set on a copy of a slice from a DataFrame\n",
      "\n",
      "See the caveats in the documentation: https://pandas.pydata.org/pandas-docs/stable/user_guide/indexing.html#returning-a-view-versus-a-copy\n",
      "  data['X1'][1] = np.nan\n"
     ]
    },
    {
     "data": {
      "text/html": [
       "<div>\n",
       "<style scoped>\n",
       "    .dataframe tbody tr th:only-of-type {\n",
       "        vertical-align: middle;\n",
       "    }\n",
       "\n",
       "    .dataframe tbody tr th {\n",
       "        vertical-align: top;\n",
       "    }\n",
       "\n",
       "    .dataframe thead th {\n",
       "        text-align: right;\n",
       "    }\n",
       "</style>\n",
       "<table border=\"1\" class=\"dataframe\">\n",
       "  <thead>\n",
       "    <tr style=\"text-align: right;\">\n",
       "      <th></th>\n",
       "      <th>Y</th>\n",
       "      <th>X1</th>\n",
       "      <th>X2</th>\n",
       "      <th>X3</th>\n",
       "      <th>X4</th>\n",
       "      <th>X5</th>\n",
       "      <th>5</th>\n",
       "      <th>6</th>\n",
       "      <th>7</th>\n",
       "      <th>8</th>\n",
       "      <th>...</th>\n",
       "      <th>15</th>\n",
       "      <th>16</th>\n",
       "      <th>17</th>\n",
       "      <th>18</th>\n",
       "      <th>19</th>\n",
       "      <th>group_id</th>\n",
       "      <th>Y2</th>\n",
       "      <th>Z1</th>\n",
       "      <th>Z2</th>\n",
       "      <th>Z3</th>\n",
       "    </tr>\n",
       "  </thead>\n",
       "  <tbody>\n",
       "    <tr>\n",
       "      <th>0</th>\n",
       "      <td>NaN</td>\n",
       "      <td>0.471435</td>\n",
       "      <td>0</td>\n",
       "      <td>6</td>\n",
       "      <td>7</td>\n",
       "      <td>0.796202</td>\n",
       "      <td>0.887163</td>\n",
       "      <td>0.859588</td>\n",
       "      <td>-0.636524</td>\n",
       "      <td>0.015696</td>\n",
       "      <td>...</td>\n",
       "      <td>0.002118</td>\n",
       "      <td>0.405453</td>\n",
       "      <td>0.289092</td>\n",
       "      <td>1.321158</td>\n",
       "      <td>-1.546906</td>\n",
       "      <td>3</td>\n",
       "      <td>-1.568085</td>\n",
       "      <td>0.971477</td>\n",
       "      <td>-0.555298</td>\n",
       "      <td>4.615535</td>\n",
       "    </tr>\n",
       "    <tr>\n",
       "      <th>1</th>\n",
       "      <td>-1.470802</td>\n",
       "      <td>NaN</td>\n",
       "      <td>4</td>\n",
       "      <td>6</td>\n",
       "      <td>6</td>\n",
       "      <td>0.075006</td>\n",
       "      <td>-0.469305</td>\n",
       "      <td>0.675554</td>\n",
       "      <td>-1.817027</td>\n",
       "      <td>-0.183109</td>\n",
       "      <td>...</td>\n",
       "      <td>-0.122092</td>\n",
       "      <td>0.124713</td>\n",
       "      <td>-0.322795</td>\n",
       "      <td>0.841675</td>\n",
       "      <td>2.390961</td>\n",
       "      <td>20</td>\n",
       "      <td>-2.418717</td>\n",
       "      <td>NaN</td>\n",
       "      <td>5.641167</td>\n",
       "      <td>6.670944</td>\n",
       "    </tr>\n",
       "    <tr>\n",
       "      <th>2</th>\n",
       "      <td>-6.429899</td>\n",
       "      <td>0.076200</td>\n",
       "      <td>4</td>\n",
       "      <td>8</td>\n",
       "      <td>3</td>\n",
       "      <td>-0.471863</td>\n",
       "      <td>-0.897157</td>\n",
       "      <td>-0.136795</td>\n",
       "      <td>0.018289</td>\n",
       "      <td>0.755414</td>\n",
       "      <td>...</td>\n",
       "      <td>-0.144620</td>\n",
       "      <td>0.354020</td>\n",
       "      <td>-0.035513</td>\n",
       "      <td>0.565738</td>\n",
       "      <td>1.545659</td>\n",
       "      <td>21</td>\n",
       "      <td>-6.491542</td>\n",
       "      <td>-1.122705</td>\n",
       "      <td>5.825601</td>\n",
       "      <td>7.275710</td>\n",
       "    </tr>\n",
       "    <tr>\n",
       "      <th>3</th>\n",
       "      <td>-15.911375</td>\n",
       "      <td>-0.974236</td>\n",
       "      <td>4</td>\n",
       "      <td>8</td>\n",
       "      <td>2</td>\n",
       "      <td>-0.927182</td>\n",
       "      <td>-2.400454</td>\n",
       "      <td>2.030604</td>\n",
       "      <td>-1.142631</td>\n",
       "      <td>0.211883</td>\n",
       "      <td>...</td>\n",
       "      <td>2.007843</td>\n",
       "      <td>0.226963</td>\n",
       "      <td>-1.152659</td>\n",
       "      <td>0.631979</td>\n",
       "      <td>0.039513</td>\n",
       "      <td>22</td>\n",
       "      <td>-14.777766</td>\n",
       "      <td>-1.381387</td>\n",
       "      <td>3.722082</td>\n",
       "      <td>8.210927</td>\n",
       "    </tr>\n",
       "    <tr>\n",
       "      <th>4</th>\n",
       "      <td>-6.537525</td>\n",
       "      <td>0.464392</td>\n",
       "      <td>3</td>\n",
       "      <td>8</td>\n",
       "      <td>6</td>\n",
       "      <td>0.030819</td>\n",
       "      <td>-0.430096</td>\n",
       "      <td>0.767369</td>\n",
       "      <td>0.984920</td>\n",
       "      <td>0.270836</td>\n",
       "      <td>...</td>\n",
       "      <td>-0.081947</td>\n",
       "      <td>-0.344766</td>\n",
       "      <td>0.528288</td>\n",
       "      <td>-1.068989</td>\n",
       "      <td>-0.511881</td>\n",
       "      <td>6</td>\n",
       "      <td>-7.470515</td>\n",
       "      <td>0.327149</td>\n",
       "      <td>3.218038</td>\n",
       "      <td>8.780831</td>\n",
       "    </tr>\n",
       "  </tbody>\n",
       "</table>\n",
       "<p>5 rows × 26 columns</p>\n",
       "</div>"
      ],
      "text/plain": [
       "           Y        X1  X2  X3  X4        X5         5         6         7  \\\n",
       "0        NaN  0.471435   0   6   7  0.796202  0.887163  0.859588 -0.636524   \n",
       "1  -1.470802       NaN   4   6   6  0.075006 -0.469305  0.675554 -1.817027   \n",
       "2  -6.429899  0.076200   4   8   3 -0.471863 -0.897157 -0.136795  0.018289   \n",
       "3 -15.911375 -0.974236   4   8   2 -0.927182 -2.400454  2.030604 -1.142631   \n",
       "4  -6.537525  0.464392   3   8   6  0.030819 -0.430096  0.767369  0.984920   \n",
       "\n",
       "          8  ...        15        16        17        18        19  group_id  \\\n",
       "0  0.015696  ...  0.002118  0.405453  0.289092  1.321158 -1.546906         3   \n",
       "1 -0.183109  ... -0.122092  0.124713 -0.322795  0.841675  2.390961        20   \n",
       "2  0.755414  ... -0.144620  0.354020 -0.035513  0.565738  1.545659        21   \n",
       "3  0.211883  ...  2.007843  0.226963 -1.152659  0.631979  0.039513        22   \n",
       "4  0.270836  ... -0.081947 -0.344766  0.528288 -1.068989 -0.511881         6   \n",
       "\n",
       "          Y2        Z1        Z2        Z3  \n",
       "0  -1.568085  0.971477 -0.555298  4.615535  \n",
       "1  -2.418717       NaN  5.641167  6.670944  \n",
       "2  -6.491542 -1.122705  5.825601  7.275710  \n",
       "3 -14.777766 -1.381387  3.722082  8.210927  \n",
       "4  -7.470515  0.327149  3.218038  8.780831  \n",
       "\n",
       "[5 rows x 26 columns]"
      ]
     },
     "execution_count": 1,
     "metadata": {},
     "output_type": "execute_result"
    }
   ],
   "source": [
    "from pyfixest import Fixest\n",
    "from pyfixest.utils import get_data\n",
    "\n",
    "data = get_data()\n",
    "data.head()\n"
   ]
  },
  {
   "cell_type": "markdown",
   "metadata": {},
   "source": [
    "## OLS Estimation"
   ]
  },
  {
   "cell_type": "markdown",
   "metadata": {},
   "source": [
    "We then initiate an object of type `Fixest`."
   ]
  },
  {
   "cell_type": "code",
   "execution_count": 2,
   "metadata": {},
   "outputs": [],
   "source": [
    "fixest = Fixest(data = data)"
   ]
  },
  {
   "cell_type": "markdown",
   "metadata": {},
   "source": [
    "For this object, we can now estimate a fixed effects regression via the `.feols()` method. `.feols()` has two arguments: a two-sided model formula, and the type of inference."
   ]
  },
  {
   "cell_type": "code",
   "execution_count": 3,
   "metadata": {},
   "outputs": [
    {
     "data": {
      "text/plain": [
       "<pyfixest.fixest.Fixest at 0x148e8235ea0>"
      ]
     },
     "execution_count": 3,
     "metadata": {},
     "output_type": "execute_result"
    }
   ],
   "source": [
    "fixest.feols(\"Y~X1 | X2\", vcov = \"HC1\")"
   ]
  },
  {
   "cell_type": "markdown",
   "metadata": {},
   "source": [
    "The first part of the formula contains the dependent variable and \"regular\" covariates, while the second part contains fixed effects.\n",
    "\n",
    "Estimation results can be accessed via a `.summary()` or `.tidy()` method:"
   ]
  },
  {
   "cell_type": "code",
   "execution_count": 4,
   "metadata": {},
   "outputs": [
    {
     "name": "stdout",
     "output_type": "stream",
     "text": [
      "###\n",
      "\n",
      "Model:  OLS\n",
      "Dep. var.:  Y\n",
      "Fixed effects:  X2\n",
      "Inference:  HC1\n",
      "Observations:  1998\n",
      "\n",
      " Estimate  Std. Error  t value  Pr(>|t|)   ci_l  ci_u\n",
      "    -0.26       0.175   -1.485     0.138 -0.605 0.084\n",
      "---\n",
      "RMSE: 8.25  Adj. R2: 0.001  Adj. R2 Within: 0.001\n"
     ]
    }
   ],
   "source": [
    "fixest.summary()"
   ]
  },
  {
   "cell_type": "markdown",
   "metadata": {},
   "source": [
    "## Standard Errors and Inference"
   ]
  },
  {
   "cell_type": "markdown",
   "metadata": {},
   "source": [
    "Supported covariance types are \"iid\", \"HC1-3\", CRV1 and CRV3 (one-way clustering). Inference can be adjusted \"on-the-fly\" via the\n",
    "`.vcov()` method:"
   ]
  },
  {
   "cell_type": "code",
   "execution_count": 5,
   "metadata": {},
   "outputs": [
    {
     "name": "stdout",
     "output_type": "stream",
     "text": [
      "###\n",
      "\n",
      "Model:  OLS\n",
      "Dep. var.:  Y\n",
      "Fixed effects:  X2\n",
      "Inference:  {'CRV1': 'group_id'}\n",
      "Observations:  1998\n",
      "\n",
      " Estimate  Std. Error  t value  Pr(>|t|)   ci_l  ci_u\n",
      "    -0.26       0.164   -1.589     0.125 -0.599 0.078\n",
      "---\n",
      "RMSE: 8.25  Adj. R2: 0.001  Adj. R2 Within: 0.001\n"
     ]
    }
   ],
   "source": [
    "fixest.vcov({'CRV1':'group_id'}).summary()"
   ]
  },
  {
   "cell_type": "markdown",
   "metadata": {},
   "source": [
    "It is also possible to run a wild (cluster) bootstrap after estimation (via the [wildboottest module](https://github.com/s3alfisc/wildboottest), only for Python\n",
    "versions smaller than `3.11`):"
   ]
  },
  {
   "cell_type": "code",
   "execution_count": 7,
   "metadata": {},
   "outputs": [
    {
     "data": {
      "text/html": [
       "<div>\n",
       "<style scoped>\n",
       "    .dataframe tbody tr th:only-of-type {\n",
       "        vertical-align: middle;\n",
       "    }\n",
       "\n",
       "    .dataframe tbody tr th {\n",
       "        vertical-align: top;\n",
       "    }\n",
       "\n",
       "    .dataframe thead th {\n",
       "        text-align: right;\n",
       "    }\n",
       "</style>\n",
       "<table border=\"1\" class=\"dataframe\">\n",
       "  <thead>\n",
       "    <tr style=\"text-align: right;\">\n",
       "      <th></th>\n",
       "      <th>param</th>\n",
       "      <th>t value</th>\n",
       "      <th>Pr(&gt;|t|)</th>\n",
       "    </tr>\n",
       "    <tr>\n",
       "      <th>fml</th>\n",
       "      <th></th>\n",
       "      <th></th>\n",
       "      <th></th>\n",
       "    </tr>\n",
       "  </thead>\n",
       "  <tbody>\n",
       "    <tr>\n",
       "      <th>Y~X1</th>\n",
       "      <td>X1</td>\n",
       "      <td>-1.65358</td>\n",
       "      <td>0.121121</td>\n",
       "    </tr>\n",
       "    <tr>\n",
       "      <th>Y~X1+X2</th>\n",
       "      <td>X1</td>\n",
       "      <td>-1.617177</td>\n",
       "      <td>0.121121</td>\n",
       "    </tr>\n",
       "    <tr>\n",
       "      <th>Y~X1+X2+X3</th>\n",
       "      <td>X1</td>\n",
       "      <td>0.388201</td>\n",
       "      <td>0.702703</td>\n",
       "    </tr>\n",
       "  </tbody>\n",
       "</table>\n",
       "</div>"
      ],
      "text/plain": [
       "           param   t value  Pr(>|t|)\n",
       "fml                                 \n",
       "Y~X1          X1  -1.65358  0.121121\n",
       "Y~X1+X2       X1 -1.617177  0.121121\n",
       "Y~X1+X2+X3    X1  0.388201  0.702703"
      ]
     },
     "execution_count": 7,
     "metadata": {},
     "output_type": "execute_result"
    }
   ],
   "source": [
    "fixest = Fixest(data = data)\n",
    "fixest.feols(\"Y~ csw(X1, X2, X3)\", vcov = {\"CRV1\":\"group_id\"})\n",
    "fixest.wildboottest(param = \"X1\", B = 999)"
   ]
  },
  {
   "cell_type": "markdown",
   "metadata": {},
   "source": [
    "Note that the wild bootstrap currently does not support fixed effects in the regression model. Supporting fixed effects is work in progress.\n",
    "\n",
    "## IV Estimation \n",
    "\n",
    "It is also possible to estimate instrumental variable models with *one* endogenous variable and (potentially multiple) instruments:"
   ]
  },
  {
   "cell_type": "code",
   "execution_count": 8,
   "metadata": {},
   "outputs": [
    {
     "name": "stdout",
     "output_type": "stream",
     "text": [
      "###\n",
      "\n",
      "Model:  IV\n",
      "Dep. var.:  Y2\n",
      "Fixed effects:  X2\n",
      "Inference:  {'CRV1': 'X2'}\n",
      "Observations:  1999\n",
      "\n",
      " Estimate  Std. Error  t value  Pr(>|t|)   ci_l  ci_u\n",
      "   -0.246       0.245   -1.002     0.373 -0.927 0.435\n",
      "---\n"
     ]
    }
   ],
   "source": [
    "fixest = Fixest(data = data)\n",
    "fixest.feols(\"Y2~ 1 | X2 | X1 ~ Z1 + Z2\")\n",
    "fixest.summary()\n"
   ]
  },
  {
   "cell_type": "markdown",
   "metadata": {},
   "source": [
    "If the model does not contain any fixed effects, just drop the second part of the formula above:"
   ]
  },
  {
   "cell_type": "code",
   "execution_count": 9,
   "metadata": {},
   "outputs": [
    {
     "data": {
      "text/plain": [
       "<pyfixest.fixest.Fixest at 0x148e8234100>"
      ]
     },
     "execution_count": 9,
     "metadata": {},
     "output_type": "execute_result"
    }
   ],
   "source": [
    "fixest.feols(\"Y~ 1 | X1 ~ Z1 + Z2\")"
   ]
  },
  {
   "cell_type": "markdown",
   "metadata": {},
   "source": [
    "IV estimation with multiple endogenous variables and multiple estimation syntax is currently not supported. The syntax is \"depvar ~ exog.vars | fixef effects | endog.vars ~ instruments\"."
   ]
  },
  {
   "cell_type": "markdown",
   "metadata": {},
   "source": [
    "## Poisson Regression \n",
    "\n",
    "With version `0.8.4`, it is possible to estimate Poisson Regressions (not yet on PyPi): "
   ]
  },
  {
   "cell_type": "code",
   "execution_count": 21,
   "metadata": {},
   "outputs": [
    {
     "name": "stdout",
     "output_type": "stream",
     "text": [
      "###\n",
      "\n",
      "Model:  Poisson\n",
      "Dep. var.:  Y\n",
      "Fixed effects:  X2+X3+X4\n",
      "Inference:  {'CRV1': 'X4'}\n",
      "Observations:  1000\n",
      "\n",
      " Estimate  Std. Error  t value  Pr(>|t|)  ci_l  ci_u\n",
      "    0.874       0.037    23.78       0.0 0.802 0.946\n",
      "---\n"
     ]
    }
   ],
   "source": [
    "import pyfixest as pf\n",
    "from pyfixest.utils import get_poisson_data\n",
    "\n",
    "pdata = get_poisson_data()\n",
    "fixest = Fixest(data = pdata)\n",
    "fixest.fepois(\"Y~X1 | X2+X3+X4\", vcov = {'CRV1':'X4'})\n",
    "\n",
    "fixest.summary()"
   ]
  },
  {
   "cell_type": "markdown",
   "metadata": {},
   "source": [
    "## Multiple Estimation \n",
    "\n",
    "`PyFixest` supports a range of multiple estimation functionality: `sw`, `sw0`, `csw`, `csw0`, and multiple dependent variables. Note that every new call of `.feols()` attaches new regression results the `Fixest` object."
   ]
  },
  {
   "cell_type": "code",
   "execution_count": 11,
   "metadata": {},
   "outputs": [
    {
     "name": "stdout",
     "output_type": "stream",
     "text": [
      "###\n",
      "\n",
      "Model:  OLS\n",
      "Dep. var.:  Y\n",
      "Inference:  HC1\n",
      "Observations:  1998\n",
      "\n",
      " Estimate  Std. Error  t value  Pr(>|t|)   ci_l   ci_u\n",
      "   -3.941       0.185  -21.308      0.00 -4.304 -3.579\n",
      "   -0.273       0.175   -1.557      0.12 -0.617  0.071\n",
      "---\n",
      "RMSE: 8.26  Adj. R2: 0.0  Adj. R2 Within: 0.0\n",
      "###\n",
      "\n",
      "Model:  OLS\n",
      "Dep. var.:  Y\n",
      "Fixed effects:  X3\n",
      "Inference:  HC1\n",
      "Observations:  1998\n",
      "\n",
      " Estimate  Std. Error  t value  Pr(>|t|)   ci_l  ci_u\n",
      "    0.035       0.117    0.296     0.767 -0.196 0.265\n",
      "---\n",
      "RMSE: 5.521  Adj. R2: -0.0  Adj. R2 Within: -0.0\n",
      "###\n",
      "\n",
      "Model:  OLS\n",
      "Dep. var.:  Y\n",
      "Fixed effects:  X3+X4\n",
      "Inference:  HC1\n",
      "Observations:  1998\n",
      "\n",
      " Estimate  Std. Error  t value  Pr(>|t|)   ci_l  ci_u\n",
      "    0.049       0.107     0.46     0.645 -0.161 0.259\n",
      "---\n",
      "RMSE: 4.981  Adj. R2: -0.0  Adj. R2 Within: -0.0\n"
     ]
    }
   ],
   "source": [
    "fixest = Fixest(data)\n",
    "fixest.feols(\"Y~X1 | csw0(X3, X4)\", vcov = \"HC1\").summary()"
   ]
  },
  {
   "cell_type": "markdown",
   "metadata": {},
   "source": [
    "You can access an individual model by its name - i.e. a formula - via the `all_fitted_models` attribure."
   ]
  },
  {
   "cell_type": "code",
   "execution_count": 18,
   "metadata": {},
   "outputs": [
    {
     "data": {
      "text/html": [
       "<div>\n",
       "<style scoped>\n",
       "    .dataframe tbody tr th:only-of-type {\n",
       "        vertical-align: middle;\n",
       "    }\n",
       "\n",
       "    .dataframe tbody tr th {\n",
       "        vertical-align: top;\n",
       "    }\n",
       "\n",
       "    .dataframe thead th {\n",
       "        text-align: right;\n",
       "    }\n",
       "</style>\n",
       "<table border=\"1\" class=\"dataframe\">\n",
       "  <thead>\n",
       "    <tr style=\"text-align: right;\">\n",
       "      <th></th>\n",
       "      <th>Estimate</th>\n",
       "      <th>Std. Error</th>\n",
       "      <th>t value</th>\n",
       "      <th>Pr(&gt;|t|)</th>\n",
       "      <th>ci_l</th>\n",
       "      <th>ci_u</th>\n",
       "    </tr>\n",
       "    <tr>\n",
       "      <th>coefnames</th>\n",
       "      <th></th>\n",
       "      <th></th>\n",
       "      <th></th>\n",
       "      <th></th>\n",
       "      <th></th>\n",
       "      <th></th>\n",
       "    </tr>\n",
       "  </thead>\n",
       "  <tbody>\n",
       "    <tr>\n",
       "      <th>Intercept</th>\n",
       "      <td>-3.941395</td>\n",
       "      <td>0.184974</td>\n",
       "      <td>-21.307836</td>\n",
       "      <td>0.000000</td>\n",
       "      <td>-4.304157</td>\n",
       "      <td>-3.578632</td>\n",
       "    </tr>\n",
       "    <tr>\n",
       "      <th>X1</th>\n",
       "      <td>-0.273096</td>\n",
       "      <td>0.175432</td>\n",
       "      <td>-1.556710</td>\n",
       "      <td>0.119698</td>\n",
       "      <td>-0.617145</td>\n",
       "      <td>0.070952</td>\n",
       "    </tr>\n",
       "  </tbody>\n",
       "</table>\n",
       "</div>"
      ],
      "text/plain": [
       "           Estimate  Std. Error    t value  Pr(>|t|)      ci_l      ci_u\n",
       "coefnames                                                               \n",
       "Intercept -3.941395    0.184974 -21.307836  0.000000 -4.304157 -3.578632\n",
       "X1        -0.273096    0.175432  -1.556710  0.119698 -0.617145  0.070952"
      ]
     },
     "execution_count": 18,
     "metadata": {},
     "output_type": "execute_result"
    }
   ],
   "source": [
    "fixest.all_fitted_models[\"Y~X1\"].tidy()"
   ]
  },
  {
   "cell_type": "markdown",
   "metadata": {},
   "source": [
    "or equivalently via the `fetch_model` method:"
   ]
  },
  {
   "cell_type": "code",
   "execution_count": 19,
   "metadata": {},
   "outputs": [
    {
     "name": "stdout",
     "output_type": "stream",
     "text": [
      "Model:  Y~X1\n"
     ]
    },
    {
     "data": {
      "text/html": [
       "<div>\n",
       "<style scoped>\n",
       "    .dataframe tbody tr th:only-of-type {\n",
       "        vertical-align: middle;\n",
       "    }\n",
       "\n",
       "    .dataframe tbody tr th {\n",
       "        vertical-align: top;\n",
       "    }\n",
       "\n",
       "    .dataframe thead th {\n",
       "        text-align: right;\n",
       "    }\n",
       "</style>\n",
       "<table border=\"1\" class=\"dataframe\">\n",
       "  <thead>\n",
       "    <tr style=\"text-align: right;\">\n",
       "      <th></th>\n",
       "      <th>Estimate</th>\n",
       "      <th>Std. Error</th>\n",
       "      <th>t value</th>\n",
       "      <th>Pr(&gt;|t|)</th>\n",
       "      <th>ci_l</th>\n",
       "      <th>ci_u</th>\n",
       "    </tr>\n",
       "    <tr>\n",
       "      <th>coefnames</th>\n",
       "      <th></th>\n",
       "      <th></th>\n",
       "      <th></th>\n",
       "      <th></th>\n",
       "      <th></th>\n",
       "      <th></th>\n",
       "    </tr>\n",
       "  </thead>\n",
       "  <tbody>\n",
       "    <tr>\n",
       "      <th>Intercept</th>\n",
       "      <td>-3.941395</td>\n",
       "      <td>0.184974</td>\n",
       "      <td>-21.307836</td>\n",
       "      <td>0.000000</td>\n",
       "      <td>-4.304157</td>\n",
       "      <td>-3.578632</td>\n",
       "    </tr>\n",
       "    <tr>\n",
       "      <th>X1</th>\n",
       "      <td>-0.273096</td>\n",
       "      <td>0.175432</td>\n",
       "      <td>-1.556710</td>\n",
       "      <td>0.119698</td>\n",
       "      <td>-0.617145</td>\n",
       "      <td>0.070952</td>\n",
       "    </tr>\n",
       "  </tbody>\n",
       "</table>\n",
       "</div>"
      ],
      "text/plain": [
       "           Estimate  Std. Error    t value  Pr(>|t|)      ci_l      ci_u\n",
       "coefnames                                                               \n",
       "Intercept -3.941395    0.184974 -21.307836  0.000000 -4.304157 -3.578632\n",
       "X1        -0.273096    0.175432  -1.556710  0.119698 -0.617145  0.070952"
      ]
     },
     "execution_count": 19,
     "metadata": {},
     "output_type": "execute_result"
    }
   ],
   "source": [
    "fixest.fetch_model(0).tidy()"
   ]
  },
  {
   "cell_type": "markdown",
   "metadata": {},
   "source": [
    "Here, `0` simply fetches the first model stored in the `all_fitted_models` dictionary, `1` the second etc."
   ]
  },
  {
   "cell_type": "markdown",
   "metadata": {},
   "source": [
    "## TWFE Event Study\n",
    "\n",
    "To conclude this intro, we estimate an event study from an example of the the [LOST](https://lost-stats.github.io/Model_Estimation/Research_Design/event_study.html) library of statistical techniques."
   ]
  },
  {
   "cell_type": "code",
   "execution_count": null,
   "metadata": {},
   "outputs": [],
   "source": [
    "import pandas as pd\n",
    "import numpy as np\n",
    "from pyfixest import Fixest\n",
    "\n",
    "# Read in data\n",
    "df = pd.read_csv(\"https://raw.githubusercontent.com/LOST-STATS/LOST-STATS.github.io/master/Model_Estimation/Data/Event_Study_DiD/bacon_example.csv\")\n",
    "\n",
    "df['time_to_treat'] = (df['year'] - df['_nfd'] ).fillna(0).astype(int)\n",
    "df['time_to_treat'] = pd.Categorical(df.time_to_treat, np.sort(df.time_to_treat.unique()))\n",
    "df['treat'] = np.where(pd.isna(df['_nfd']), 0, 1)\n",
    "\n",
    "fixest = Fixest(df)\n",
    "fml = 'asmrs ~ i(time_to_treat, treat, ref = -1) + csw(pcinc, asmrh, cases) | stfips + year'\n",
    "fixest.feols(fml, vcov = {'CRV1':'stfips'})\n",
    "fixest.iplot()\n"
   ]
  },
  {
   "cell_type": "markdown",
   "metadata": {},
   "source": []
  }
 ],
 "metadata": {
  "kernelspec": {
   "display_name": "Python 3",
   "language": "python",
   "name": "python3"
  },
  "language_info": {
   "codemirror_mode": {
    "name": "ipython",
    "version": 3
   },
   "file_extension": ".py",
   "mimetype": "text/x-python",
   "name": "python",
   "nbconvert_exporter": "python",
   "pygments_lexer": "ipython3",
   "version": "3.10.8"
  },
  "orig_nbformat": 4
 },
 "nbformat": 4,
 "nbformat_minor": 2
}
