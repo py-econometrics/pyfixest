{
 "cells": [
  {
   "cell_type": "markdown",
   "metadata": {},
   "source": [
    "# Replicating Examples from \"The Effect\"\n",
    "\n",
    "This notebook replicates code examples from Nick Huntington-Klein's book on causal inference, [The Effect](https://theeffectbook.net/). "
   ]
  },
  {
   "cell_type": "code",
   "execution_count": 1,
   "metadata": {},
   "outputs": [],
   "source": [
    "%load_ext autoreload\n",
    "%autoreload 2\n",
    "\n",
    "import pandas as pd\n",
    "import numpy as np\n",
    "from pyfixest.estimation import feols\n",
    "from pyfixest.summarize import summary"
   ]
  },
  {
   "cell_type": "markdown",
   "metadata": {},
   "source": [
    "## Chapter 4: Describing Relationships"
   ]
  },
  {
   "cell_type": "code",
   "execution_count": 2,
   "metadata": {},
   "outputs": [
    {
     "name": "stdout",
     "output_type": "stream",
     "text": [
      "Model:  lwg~inc\n",
      "###\n",
      "\n",
      "Model:  OLS\n",
      "Dep. var.:  lwg\n",
      "Inference:  iid\n",
      "Observations:  428\n",
      "\n",
      "| Coefficient   |   Estimate |   Std. Error |   t value |   Pr(>|t|) |   2.5 % |   97.5 % |\n",
      "|:--------------|-----------:|-------------:|----------:|-----------:|--------:|---------:|\n",
      "| Intercept     |      1.007 |        0.071 |    14.180 |      0.000 |   0.868 |    1.147 |\n",
      "| inc           |      0.010 |        0.003 |     2.947 |      0.003 |   0.003 |    0.016 |\n",
      "---\n",
      "RMSE: 0.715  Adj. R2: 0.015  Adj. R2 Within: 0.015\n"
     ]
    },
    {
     "name": "stderr",
     "output_type": "stream",
     "text": [
      "C:\\Users\\alexa\\AppData\\Local\\Temp\\ipykernel_11416\\1676904683.py:8: SettingWithCopyWarning: \n",
      "A value is trying to be set on a copy of a slice from a DataFrame.\n",
      "Try using .loc[row_indexer,col_indexer] = value instead\n",
      "\n",
      "See the caveats in the documentation: https://pandas.pydata.org/pandas-docs/stable/user_guide/indexing.html#returning-a-view-versus-a-copy\n",
      "  dt.loc[:, \"earn\"] = dt[\"lwg\"].apply(\"exp\")\n"
     ]
    }
   ],
   "source": [
    "from causaldata import Mroz\n",
    "\n",
    "# Read in data\n",
    "dt = Mroz.load_pandas().data\n",
    "# Keep just working women\n",
    "dt = dt[dt[\"lfp\"] == True]\n",
    "# Create unlogged earnings\n",
    "dt.loc[:, \"earn\"] = dt[\"lwg\"].apply(\"exp\")\n",
    "\n",
    "# 5. Run multiple linear regression models by succesively adding controls\n",
    "fit = feols(fml = \"lwg ~ csw(inc, wc, k5)\", data = dt, vcov=\"iid\")\n",
    "summary(fit)"
   ]
  },
  {
   "cell_type": "markdown",
   "metadata": {},
   "source": [
    "## Chapter 13: Regression\n",
    "\n",
    "### Example 1"
   ]
  },
  {
   "cell_type": "code",
   "execution_count": 3,
   "metadata": {},
   "outputs": [
    {
     "name": "stdout",
     "output_type": "stream",
     "text": [
      "Model:  inspection_score~NumberofLocations\n",
      "###\n",
      "\n",
      "Model:  OLS\n",
      "Dep. var.:  inspection_score\n",
      "Inference:  iid\n",
      "Observations:  27178\n",
      "\n",
      "| Coefficient       |   Estimate |   Std. Error |   t value |   Pr(>|t|) |   2.5 % |   97.5 % |\n",
      "|:------------------|-----------:|-------------:|----------:|-----------:|--------:|---------:|\n",
      "| Intercept         |     94.866 |        0.046 |  2049.047 |      0.000 |  94.775 |   94.956 |\n",
      "| NumberofLocations |     -0.019 |        0.000 |   -43.321 |      0.000 |  -0.020 |   -0.018 |\n",
      "---\n",
      "RMSE: 6.051  Adj. R2: 0.065  Adj. R2 Within: 0.065\n"
     ]
    }
   ],
   "source": [
    "from causaldata import restaurant_inspections\n",
    "\n",
    "res = restaurant_inspections.load_pandas().data\n",
    "res.inspection_score = res.inspection_score.astype(float)\n",
    "res.NumberofLocations = res.NumberofLocations.astype(float)\n",
    "res.dtypes\n",
    "\n",
    "fit = feols(fml = \"inspection_score ~ NumberofLocations\", data = res)\n",
    "summary(fit)"
   ]
  },
  {
   "cell_type": "markdown",
   "metadata": {},
   "source": [
    "### Example 2"
   ]
  },
  {
   "cell_type": "code",
   "execution_count": 4,
   "metadata": {},
   "outputs": [
    {
     "name": "stdout",
     "output_type": "stream",
     "text": [
      "Model:  inspection_score~NumberofLocations+I(NumberofLocations^2)+Year\n",
      "Model:  inspection_score~NumberofLocations*Weekend+Year\n",
      "###\n",
      "\n",
      "Model:  OLS\n",
      "Dep. var.:  inspection_score\n",
      "Inference:  iid\n",
      "Observations:  27178\n",
      "\n",
      "| Coefficient            |   Estimate |   Std. Error |   t value |   Pr(>|t|) |   2.5 % |   97.5 % |\n",
      "|:-----------------------|-----------:|-------------:|----------:|-----------:|--------:|---------:|\n",
      "| Intercept              |    225.504 |       12.409 |    18.172 |      0.000 | 201.181 |  249.827 |\n",
      "| NumberofLocations      |     -0.075 |        0.019 |    -4.041 |      0.000 |  -0.111 |   -0.039 |\n",
      "| I(NumberofLocations^2) |      0.056 |        0.019 |     3.009 |      0.003 |   0.020 |    0.093 |\n",
      "| Year                   |     -0.065 |        0.006 |   -10.527 |      0.000 |  -0.077 |   -0.053 |\n",
      "---\n",
      "RMSE: 6.038  Adj. R2: 0.069  Adj. R2 Within: 0.069\n",
      "###\n",
      "\n",
      "Model:  OLS\n",
      "Dep. var.:  inspection_score\n",
      "Inference:  iid\n",
      "Observations:  27178\n",
      "\n",
      "| Coefficient               |   Estimate |   Std. Error |   t value |   Pr(>|t|) |   2.5 % |   97.5 % |\n",
      "|:--------------------------|-----------:|-------------:|----------:|-----------:|--------:|---------:|\n",
      "| Intercept                 |    225.126 |       12.415 |    18.134 |      0.000 | 200.793 |  249.460 |\n",
      "| NumberofLocations         |     -0.019 |        0.000 |   -43.759 |      0.000 |  -0.020 |   -0.018 |\n",
      "| Weekend                   |      1.759 |        0.488 |     3.606 |      0.000 |   0.803 |    2.715 |\n",
      "| Year                      |     -0.065 |        0.006 |   -10.494 |      0.000 |  -0.077 |   -0.053 |\n",
      "| NumberofLocations:Weekend |     -0.010 |        0.008 |    -1.307 |      0.191 |  -0.025 |    0.005 |\n",
      "---\n",
      "RMSE: 6.038  Adj. R2: 0.069  Adj. R2 Within: 0.069\n"
     ]
    }
   ],
   "source": [
    "df = restaurant_inspections.load_pandas().data\n",
    "\n",
    "fit1 = feols(fml = \"inspection_score ~ NumberofLocations + I(NumberofLocations^2) + Year\", data = df)\n",
    "fit2 = feols(fml = \"inspection_score ~ NumberofLocations*Weekend + Year\", data = df)\n",
    "\n",
    "summary([fit1, fit2])"
   ]
  },
  {
   "cell_type": "markdown",
   "metadata": {},
   "source": [
    "### Example 3: HC Standard Errors"
   ]
  },
  {
   "cell_type": "code",
   "execution_count": 5,
   "metadata": {},
   "outputs": [
    {
     "name": "stdout",
     "output_type": "stream",
     "text": [
      "Model:  inspection_score~Year+Weekend\n",
      "###\n",
      "\n",
      "Model:  OLS\n",
      "Dep. var.:  inspection_score\n",
      "Inference:  HC3\n",
      "Observations:  27178\n",
      "\n",
      "| Coefficient   |   Estimate |   Std. Error |   t value |   Pr(>|t|) |   2.5 % |   97.5 % |\n",
      "|:--------------|-----------:|-------------:|----------:|-----------:|--------:|---------:|\n",
      "| Intercept     |    185.380 |       12.150 |    15.257 |      0.000 | 161.564 |  209.196 |\n",
      "| Year          |     -0.046 |        0.006 |    -7.551 |      0.000 |  -0.057 |   -0.034 |\n",
      "| Weekend       |      2.057 |        0.353 |     5.829 |      0.000 |   1.365 |    2.749 |\n",
      "---\n",
      "RMSE: 6.248  Adj. R2: 0.003  Adj. R2 Within: 0.003\n"
     ]
    }
   ],
   "source": [
    "feols(fml = \"inspection_score ~ Year + Weekend\", data = df, vcov=\"HC3\").summary()"
   ]
  },
  {
   "cell_type": "markdown",
   "metadata": {},
   "source": [
    "### Example 4: Clustered Standard Errors"
   ]
  },
  {
   "cell_type": "code",
   "execution_count": 6,
   "metadata": {},
   "outputs": [
    {
     "name": "stdout",
     "output_type": "stream",
     "text": [
      "Model:  inspection_score~Year+Weekend\n"
     ]
    },
    {
     "data": {
      "text/html": [
       "<div>\n",
       "<style scoped>\n",
       "    .dataframe tbody tr th:only-of-type {\n",
       "        vertical-align: middle;\n",
       "    }\n",
       "\n",
       "    .dataframe tbody tr th {\n",
       "        vertical-align: top;\n",
       "    }\n",
       "\n",
       "    .dataframe thead th {\n",
       "        text-align: right;\n",
       "    }\n",
       "</style>\n",
       "<table border=\"1\" class=\"dataframe\">\n",
       "  <thead>\n",
       "    <tr style=\"text-align: right;\">\n",
       "      <th></th>\n",
       "      <th>Estimate</th>\n",
       "      <th>Std. Error</th>\n",
       "      <th>t value</th>\n",
       "      <th>Pr(&gt;|t|)</th>\n",
       "      <th>2.5 %</th>\n",
       "      <th>97.5 %</th>\n",
       "    </tr>\n",
       "    <tr>\n",
       "      <th>Coefficient</th>\n",
       "      <th></th>\n",
       "      <th></th>\n",
       "      <th></th>\n",
       "      <th></th>\n",
       "      <th></th>\n",
       "      <th></th>\n",
       "    </tr>\n",
       "  </thead>\n",
       "  <tbody>\n",
       "    <tr>\n",
       "      <th>Intercept</th>\n",
       "      <td>185.380033</td>\n",
       "      <td>3.264345</td>\n",
       "      <td>56.789343</td>\n",
       "      <td>0.011209</td>\n",
       "      <td>143.902592</td>\n",
       "      <td>226.857474</td>\n",
       "    </tr>\n",
       "    <tr>\n",
       "      <th>Year</th>\n",
       "      <td>-0.045640</td>\n",
       "      <td>0.001624</td>\n",
       "      <td>-28.107556</td>\n",
       "      <td>0.022640</td>\n",
       "      <td>-0.066272</td>\n",
       "      <td>-0.025008</td>\n",
       "    </tr>\n",
       "    <tr>\n",
       "      <th>Weekend</th>\n",
       "      <td>2.057166</td>\n",
       "      <td>0.001401</td>\n",
       "      <td>1468.256800</td>\n",
       "      <td>0.000434</td>\n",
       "      <td>2.039364</td>\n",
       "      <td>2.074969</td>\n",
       "    </tr>\n",
       "  </tbody>\n",
       "</table>\n",
       "</div>"
      ],
      "text/plain": [
       "               Estimate  Std. Error      t value  Pr(>|t|)       2.5 %  \\\n",
       "Coefficient                                                              \n",
       "Intercept    185.380033    3.264345    56.789343  0.011209  143.902592   \n",
       "Year          -0.045640    0.001624   -28.107556  0.022640   -0.066272   \n",
       "Weekend        2.057166    0.001401  1468.256800  0.000434    2.039364   \n",
       "\n",
       "                 97.5 %  \n",
       "Coefficient              \n",
       "Intercept    226.857474  \n",
       "Year          -0.025008  \n",
       "Weekend        2.074969  "
      ]
     },
     "execution_count": 6,
     "metadata": {},
     "output_type": "execute_result"
    }
   ],
   "source": [
    "feols(fml = \"inspection_score ~ Year + Weekend\", data = df, vcov={\"CRV1\": \"Weekend\"}).tidy()"
   ]
  },
  {
   "cell_type": "markdown",
   "metadata": {},
   "source": [
    "### Example 5: Bootstrap Inference "
   ]
  },
  {
   "cell_type": "code",
   "execution_count": 7,
   "metadata": {},
   "outputs": [
    {
     "name": "stdout",
     "output_type": "stream",
     "text": [
      "Model:  inspection_score~Year+Weekend\n"
     ]
    },
    {
     "data": {
      "text/plain": [
       "param              Year\n",
       "statistic        -7.552\n",
       "pvalue              0.0\n",
       "bootstrap_type       11\n",
       "impose_null        True\n",
       "dtype: object"
      ]
     },
     "execution_count": 7,
     "metadata": {},
     "output_type": "execute_result"
    }
   ],
   "source": [
    "fit = feols(fml = \"inspection_score ~ Year + Weekend\", data = df)\n",
    "fit.wildboottest(B=999, param=\"Year\")"
   ]
  },
  {
   "cell_type": "markdown",
   "metadata": {},
   "source": [
    "## Chapter 16: Fixed Effects\n",
    "\n",
    "### Example 1"
   ]
  },
  {
   "cell_type": "markdown",
   "metadata": {},
   "source": [
    "tba"
   ]
  },
  {
   "cell_type": "markdown",
   "metadata": {},
   "source": [
    "### Example 2"
   ]
  },
  {
   "cell_type": "code",
   "execution_count": 8,
   "metadata": {},
   "outputs": [
    {
     "name": "stdout",
     "output_type": "stream",
     "text": [
      "Model:  lifeExp~C(country)+np.log(gdpPercap)\n"
     ]
    },
    {
     "data": {
      "text/html": [
       "<div>\n",
       "<style scoped>\n",
       "    .dataframe tbody tr th:only-of-type {\n",
       "        vertical-align: middle;\n",
       "    }\n",
       "\n",
       "    .dataframe tbody tr th {\n",
       "        vertical-align: top;\n",
       "    }\n",
       "\n",
       "    .dataframe thead th {\n",
       "        text-align: right;\n",
       "    }\n",
       "</style>\n",
       "<table border=\"1\" class=\"dataframe\">\n",
       "  <thead>\n",
       "    <tr style=\"text-align: right;\">\n",
       "      <th></th>\n",
       "      <th>Estimate</th>\n",
       "      <th>Std. Error</th>\n",
       "      <th>t value</th>\n",
       "      <th>Pr(&gt;|t|)</th>\n",
       "      <th>2.5 %</th>\n",
       "      <th>97.5 %</th>\n",
       "    </tr>\n",
       "    <tr>\n",
       "      <th>Coefficient</th>\n",
       "      <th></th>\n",
       "      <th></th>\n",
       "      <th></th>\n",
       "      <th></th>\n",
       "      <th></th>\n",
       "      <th></th>\n",
       "    </tr>\n",
       "  </thead>\n",
       "  <tbody>\n",
       "    <tr>\n",
       "      <th>Intercept</th>\n",
       "      <td>-27.773459</td>\n",
       "      <td>2.500533</td>\n",
       "      <td>-11.107015</td>\n",
       "      <td>0.000000e+00</td>\n",
       "      <td>-32.678217</td>\n",
       "      <td>-22.868701</td>\n",
       "    </tr>\n",
       "    <tr>\n",
       "      <th>C(country)[T.Albania]</th>\n",
       "      <td>17.782625</td>\n",
       "      <td>2.195160</td>\n",
       "      <td>8.100835</td>\n",
       "      <td>1.110223e-15</td>\n",
       "      <td>13.476853</td>\n",
       "      <td>22.088397</td>\n",
       "    </tr>\n",
       "    <tr>\n",
       "      <th>C(country)[T.Algeria]</th>\n",
       "      <td>5.241055</td>\n",
       "      <td>2.214496</td>\n",
       "      <td>2.366704</td>\n",
       "      <td>1.806875e-02</td>\n",
       "      <td>0.897356</td>\n",
       "      <td>9.584755</td>\n",
       "    </tr>\n",
       "    <tr>\n",
       "      <th>C(country)[T.Angola]</th>\n",
       "      <td>-13.907122</td>\n",
       "      <td>2.201727</td>\n",
       "      <td>-6.316460</td>\n",
       "      <td>3.481857e-10</td>\n",
       "      <td>-18.225777</td>\n",
       "      <td>-9.588468</td>\n",
       "    </tr>\n",
       "    <tr>\n",
       "      <th>C(country)[T.Argentina]</th>\n",
       "      <td>8.132158</td>\n",
       "      <td>2.272781</td>\n",
       "      <td>3.578065</td>\n",
       "      <td>3.567229e-04</td>\n",
       "      <td>3.674133</td>\n",
       "      <td>12.590183</td>\n",
       "    </tr>\n",
       "  </tbody>\n",
       "</table>\n",
       "</div>"
      ],
      "text/plain": [
       "                          Estimate  Std. Error    t value      Pr(>|t|)  \\\n",
       "Coefficient                                                               \n",
       "Intercept               -27.773459    2.500533 -11.107015  0.000000e+00   \n",
       "C(country)[T.Albania]    17.782625    2.195160   8.100835  1.110223e-15   \n",
       "C(country)[T.Algeria]     5.241055    2.214496   2.366704  1.806875e-02   \n",
       "C(country)[T.Angola]    -13.907122    2.201727  -6.316460  3.481857e-10   \n",
       "C(country)[T.Argentina]   8.132158    2.272781   3.578065  3.567229e-04   \n",
       "\n",
       "                             2.5 %     97.5 %  \n",
       "Coefficient                                    \n",
       "Intercept               -32.678217 -22.868701  \n",
       "C(country)[T.Albania]    13.476853  22.088397  \n",
       "C(country)[T.Algeria]     0.897356   9.584755  \n",
       "C(country)[T.Angola]    -18.225777  -9.588468  \n",
       "C(country)[T.Argentina]   3.674133  12.590183  "
      ]
     },
     "execution_count": 8,
     "metadata": {},
     "output_type": "execute_result"
    }
   ],
   "source": [
    "from causaldata import gapminder\n",
    "\n",
    "gm = gapminder.load_pandas().data\n",
    "gm[\"logGDPpercap\"] = gm[\"gdpPercap\"].apply(\"log\")\n",
    "\n",
    "fit = feols(fml = \"lifeExp ~ C(country) + np.log(gdpPercap)\", data = gm)\n",
    "fit.tidy().head()"
   ]
  },
  {
   "cell_type": "markdown",
   "metadata": {},
   "source": [
    "### Example 3: TWFE"
   ]
  },
  {
   "cell_type": "code",
   "execution_count": 9,
   "metadata": {},
   "outputs": [
    {
     "name": "stdout",
     "output_type": "stream",
     "text": [
      "Model:  lifeExp~np.log(gdpPercap)|country+year\n",
      "###\n",
      "\n",
      "Model:  OLS\n",
      "Dep. var.:  lifeExp\n",
      "Fixed effects:  country+year\n",
      "Inference:  CRV1\n",
      "Observations:  1704\n",
      "\n",
      "| Coefficient       |   Estimate |   Std. Error |   t value |   Pr(>|t|) |   2.5 % |   97.5 % |\n",
      "|:------------------|-----------:|-------------:|----------:|-----------:|--------:|---------:|\n",
      "| np.log(gdpPercap) |      1.450 |        0.677 |     2.141 |      0.034 |   0.111 |    2.788 |\n",
      "---\n",
      "RMSE: 3.267  Adj. R2: 0.018  Adj. R2 Within: 0.018\n"
     ]
    }
   ],
   "source": [
    "# Set our individual and time (index) for our data\n",
    "fit = feols(fml = \"lifeExp ~ np.log(gdpPercap) | country + year\", data = gm)\n",
    "fit.summary()"
   ]
  },
  {
   "cell_type": "markdown",
   "metadata": {},
   "source": [
    "## Chapter 18: Difference-in-Differences\n",
    "\n",
    "### Example 1"
   ]
  },
  {
   "cell_type": "code",
   "execution_count": 10,
   "metadata": {},
   "outputs": [
    {
     "name": "stdout",
     "output_type": "stream",
     "text": [
      "Model:  Rate~Treated|State+Quarter\n",
      "###\n",
      "\n",
      "Model:  OLS\n",
      "Dep. var.:  Rate\n",
      "Fixed effects:  State+Quarter\n",
      "Inference:  CRV1\n",
      "Observations:  162\n",
      "\n",
      "| Coefficient   |   Estimate |   Std. Error |   t value |   Pr(>|t|) |   2.5 % |   97.5 % |\n",
      "|:--------------|-----------:|-------------:|----------:|-----------:|--------:|---------:|\n",
      "| Treated       |     -0.022 |        0.006 |    -3.733 |      0.001 |  -0.035 |   -0.010 |\n",
      "---\n",
      "RMSE: 0.022  Adj. R2: 0.003  Adj. R2 Within: 0.003\n"
     ]
    }
   ],
   "source": [
    "from causaldata import organ_donations\n",
    "\n",
    "od = organ_donations.load_pandas().data\n",
    "\n",
    "# Create Treatment Variable\n",
    "od[\"California\"] = od[\"State\"] == \"California\"\n",
    "od[\"After\"] = od[\"Quarter_Num\"] > 3\n",
    "od[\"Treated\"] = 1 * (od[\"California\"] & od[\"After\"])\n",
    "\n",
    "did = feols(fml = \"Rate ~ Treated | State + Quarter\", data = od)\n",
    "did.summary()"
   ]
  },
  {
   "cell_type": "markdown",
   "metadata": {},
   "source": [
    "### Example 3: Dynamic Treatment Effect"
   ]
  },
  {
   "cell_type": "code",
   "execution_count": 11,
   "metadata": {},
   "outputs": [
    {
     "name": "stdout",
     "output_type": "stream",
     "text": [
      "Model:  Rate~i(Quarter_Num,California,ref=3)|State+Quarter_Num\n"
     ]
    },
    {
     "ename": "NameError",
     "evalue": "name 'fixest' is not defined",
     "output_type": "error",
     "traceback": [
      "\u001b[1;31m---------------------------------------------------------------------------\u001b[0m",
      "\u001b[1;31mNameError\u001b[0m                                 Traceback (most recent call last)",
      "\u001b[1;32mc:\\Users\\alexa\\Documents\\pyfixest\\docs\\Replicating-the-Effect.ipynb Cell 24\u001b[0m line \u001b[0;36m1\n\u001b[0;32m      <a href='vscode-notebook-cell:/c%3A/Users/alexa/Documents/pyfixest/docs/Replicating-the-Effect.ipynb#X33sZmlsZQ%3D%3D?line=8'>9</a>\u001b[0m od[\u001b[39m\"\u001b[39m\u001b[39mCalifornia\u001b[39m\u001b[39m\"\u001b[39m] \u001b[39m=\u001b[39m od\u001b[39m.\u001b[39mCalifornia\u001b[39m.\u001b[39mastype(\u001b[39mfloat\u001b[39m)\n\u001b[0;32m     <a href='vscode-notebook-cell:/c%3A/Users/alexa/Documents/pyfixest/docs/Replicating-the-Effect.ipynb#X33sZmlsZQ%3D%3D?line=10'>11</a>\u001b[0m did2 \u001b[39m=\u001b[39m feols(fml \u001b[39m=\u001b[39m \u001b[39m\"\u001b[39m\u001b[39mRate ~ i(Quarter_Num, California, ref = 3) | State + Quarter_Num\u001b[39m\u001b[39m\"\u001b[39m, data \u001b[39m=\u001b[39m od)\n\u001b[1;32m---> <a href='vscode-notebook-cell:/c%3A/Users/alexa/Documents/pyfixest/docs/Replicating-the-Effect.ipynb#X33sZmlsZQ%3D%3D?line=11'>12</a>\u001b[0m fixest\u001b[39m.\u001b[39miplot(yintercept\u001b[39m=\u001b[39m\u001b[39m0\u001b[39m)\n",
      "\u001b[1;31mNameError\u001b[0m: name 'fixest' is not defined"
     ]
    }
   ],
   "source": [
    "import matplotlib as plt\n",
    "from causaldata import organ_donations\n",
    "\n",
    "od = organ_donations.load_pandas().data\n",
    "\n",
    "# Create Treatment Variable\n",
    "od[\"California\"] = od[\"State\"] == \"California\"\n",
    "od[\"Quarter_Num\"] = pd.Categorical(od.Quarter_Num)\n",
    "od[\"California\"] = od.California.astype(float)\n",
    "\n",
    "did2 = feols(fml = \"Rate ~ i(Quarter_Num, California, ref = 3) | State + Quarter_Num\", data = od)\n",
    "did2.iplot(yintercept=0)"
   ]
  },
  {
   "cell_type": "code",
   "execution_count": null,
   "metadata": {},
   "outputs": [],
   "source": []
  }
 ],
 "metadata": {
  "kernelspec": {
   "display_name": "Python 3",
   "language": "python",
   "name": "python3"
  },
  "language_info": {
   "codemirror_mode": {
    "name": "ipython",
    "version": 3
   },
   "file_extension": ".py",
   "mimetype": "text/x-python",
   "name": "python",
   "nbconvert_exporter": "python",
   "pygments_lexer": "ipython3",
   "version": "3.10.8"
  },
  "orig_nbformat": 4
 },
 "nbformat": 4,
 "nbformat_minor": 2
}
