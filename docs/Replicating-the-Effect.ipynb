{
 "cells": [
  {
   "cell_type": "markdown",
   "metadata": {},
   "source": [
    "# Replicating Examples from \"The Effect\"\n",
    "\n",
    "This notebook replicates code examples from Nick Huntington-Klein's book on causal inference, [The Effect](https://theeffectbook.net/). "
   ]
  },
  {
   "cell_type": "code",
   "execution_count": 63,
   "metadata": {},
   "outputs": [
    {
     "name": "stdout",
     "output_type": "stream",
     "text": [
      "The autoreload extension is already loaded. To reload it, use:\n",
      "  %reload_ext autoreload\n"
     ]
    }
   ],
   "source": [
    "%load_ext autoreload\n",
    "%autoreload 2\n",
    "\n",
    "import pandas as pd\n",
    "import numpy as np\n",
    "import pyfixest as pf"
   ]
  },
  {
   "cell_type": "markdown",
   "metadata": {},
   "source": [
    "## Chapter 4: Describing Relationships"
   ]
  },
  {
   "cell_type": "code",
   "execution_count": 67,
   "metadata": {},
   "outputs": [
    {
     "name": "stderr",
     "output_type": "stream",
     "text": [
      "C:\\Users\\alexa\\AppData\\Local\\Temp\\ipykernel_22772\\1873377555.py:8: SettingWithCopyWarning: \n",
      "A value is trying to be set on a copy of a slice from a DataFrame.\n",
      "Try using .loc[row_indexer,col_indexer] = value instead\n",
      "\n",
      "See the caveats in the documentation: https://pandas.pydata.org/pandas-docs/stable/user_guide/indexing.html#returning-a-view-versus-a-copy\n",
      "  dt.loc[:,'earn'] = dt['lwg'].apply('exp')\n"
     ]
    },
    {
     "data": {
      "text/html": [
       "<div>\n",
       "<style scoped>\n",
       "    .dataframe tbody tr th:only-of-type {\n",
       "        vertical-align: middle;\n",
       "    }\n",
       "\n",
       "    .dataframe tbody tr th {\n",
       "        vertical-align: top;\n",
       "    }\n",
       "\n",
       "    .dataframe thead tr th {\n",
       "        text-align: left;\n",
       "    }\n",
       "</style>\n",
       "<table border=\"1\" class=\"dataframe\">\n",
       "  <thead>\n",
       "    <tr>\n",
       "      <th>fml</th>\n",
       "      <th colspan=\"2\" halign=\"left\">lwg~inc</th>\n",
       "      <th colspan=\"3\" halign=\"left\">lwg~inc+wc</th>\n",
       "      <th colspan=\"4\" halign=\"left\">lwg~inc+wc+k5</th>\n",
       "    </tr>\n",
       "    <tr>\n",
       "      <th>Coefficient</th>\n",
       "      <th>Intercept</th>\n",
       "      <th>inc</th>\n",
       "      <th>Intercept</th>\n",
       "      <th>inc</th>\n",
       "      <th>wc</th>\n",
       "      <th>Intercept</th>\n",
       "      <th>inc</th>\n",
       "      <th>wc</th>\n",
       "      <th>k5</th>\n",
       "    </tr>\n",
       "  </thead>\n",
       "  <tbody>\n",
       "    <tr>\n",
       "      <th>Estimate</th>\n",
       "      <td>1.007</td>\n",
       "      <td>0.010</td>\n",
       "      <td>0.972</td>\n",
       "      <td>0.005</td>\n",
       "      <td>0.342</td>\n",
       "      <td>0.982</td>\n",
       "      <td>0.005</td>\n",
       "      <td>0.349</td>\n",
       "      <td>-0.072</td>\n",
       "    </tr>\n",
       "    <tr>\n",
       "      <th>Std. Error</th>\n",
       "      <td>0.071</td>\n",
       "      <td>0.003</td>\n",
       "      <td>0.070</td>\n",
       "      <td>0.003</td>\n",
       "      <td>0.075</td>\n",
       "      <td>0.071</td>\n",
       "      <td>0.003</td>\n",
       "      <td>0.075</td>\n",
       "      <td>0.087</td>\n",
       "    </tr>\n",
       "    <tr>\n",
       "      <th>t value</th>\n",
       "      <td>14.180</td>\n",
       "      <td>2.947</td>\n",
       "      <td>13.909</td>\n",
       "      <td>1.640</td>\n",
       "      <td>4.595</td>\n",
       "      <td>13.819</td>\n",
       "      <td>1.590</td>\n",
       "      <td>4.656</td>\n",
       "      <td>-0.825</td>\n",
       "    </tr>\n",
       "    <tr>\n",
       "      <th>Pr(&gt;|t|)</th>\n",
       "      <td>0.000</td>\n",
       "      <td>0.003</td>\n",
       "      <td>0.000</td>\n",
       "      <td>0.102</td>\n",
       "      <td>0.000</td>\n",
       "      <td>0.000</td>\n",
       "      <td>0.113</td>\n",
       "      <td>0.000</td>\n",
       "      <td>0.410</td>\n",
       "    </tr>\n",
       "    <tr>\n",
       "      <th>2.5 %</th>\n",
       "      <td>0.868</td>\n",
       "      <td>0.003</td>\n",
       "      <td>0.834</td>\n",
       "      <td>-0.001</td>\n",
       "      <td>0.196</td>\n",
       "      <td>0.843</td>\n",
       "      <td>-0.001</td>\n",
       "      <td>0.202</td>\n",
       "      <td>-0.243</td>\n",
       "    </tr>\n",
       "    <tr>\n",
       "      <th>97.5 %</th>\n",
       "      <td>1.147</td>\n",
       "      <td>0.016</td>\n",
       "      <td>1.109</td>\n",
       "      <td>0.012</td>\n",
       "      <td>0.489</td>\n",
       "      <td>1.122</td>\n",
       "      <td>0.012</td>\n",
       "      <td>0.497</td>\n",
       "      <td>0.099</td>\n",
       "    </tr>\n",
       "  </tbody>\n",
       "</table>\n",
       "</div>"
      ],
      "text/plain": [
       "fml           lwg~inc        lwg~inc+wc               lwg~inc+wc+k5         \\\n",
       "Coefficient Intercept    inc  Intercept    inc     wc     Intercept    inc   \n",
       "Estimate        1.007  0.010      0.972  0.005  0.342         0.982  0.005   \n",
       "Std. Error      0.071  0.003      0.070  0.003  0.075         0.071  0.003   \n",
       "t value        14.180  2.947     13.909  1.640  4.595        13.819  1.590   \n",
       "Pr(>|t|)        0.000  0.003      0.000  0.102  0.000         0.000  0.113   \n",
       "2.5 %           0.868  0.003      0.834 -0.001  0.196         0.843 -0.001   \n",
       "97.5 %          1.147  0.016      1.109  0.012  0.489         1.122  0.012   \n",
       "\n",
       "fml                        \n",
       "Coefficient     wc     k5  \n",
       "Estimate     0.349 -0.072  \n",
       "Std. Error   0.075  0.087  \n",
       "t value      4.656 -0.825  \n",
       "Pr(>|t|)     0.000  0.410  \n",
       "2.5 %        0.202 -0.243  \n",
       "97.5 %       0.497  0.099  "
      ]
     },
     "execution_count": 67,
     "metadata": {},
     "output_type": "execute_result"
    }
   ],
   "source": [
    "from causaldata import Mroz\n",
    "\n",
    "# Read in data\n",
    "dt = Mroz.load_pandas().data\n",
    "# Keep just working women\n",
    "dt = dt[dt['lfp'] == True]\n",
    "# Create unlogged earnings\n",
    "dt.loc[:,'earn'] = dt['lwg'].apply('exp')\n",
    "\n",
    "# 5. Run multiple linear regression models by succesively adding controls\n",
    "fixest = pf.Fixest(dt)\n",
    "fixest.feols(\"lwg ~ csw(inc, wc, k5)\", vcov = \"iid\")\n",
    "fixest.etable()"
   ]
  },
  {
   "cell_type": "code",
   "execution_count": 68,
   "metadata": {},
   "outputs": [
    {
     "data": {
      "text/html": [
       "<div>\n",
       "<style scoped>\n",
       "    .dataframe tbody tr th:only-of-type {\n",
       "        vertical-align: middle;\n",
       "    }\n",
       "\n",
       "    .dataframe tbody tr th {\n",
       "        vertical-align: top;\n",
       "    }\n",
       "\n",
       "    .dataframe thead th {\n",
       "        text-align: right;\n",
       "    }\n",
       "</style>\n",
       "<table border=\"1\" class=\"dataframe\">\n",
       "  <thead>\n",
       "    <tr style=\"text-align: right;\">\n",
       "      <th>fml</th>\n",
       "      <th>lwg~inc</th>\n",
       "      <th>lwg~inc+wc</th>\n",
       "      <th>lwg~inc+wc+k5</th>\n",
       "    </tr>\n",
       "  </thead>\n",
       "  <tbody>\n",
       "    <tr>\n",
       "      <th>Estimate</th>\n",
       "      <td>0.010</td>\n",
       "      <td>0.005</td>\n",
       "      <td>0.005</td>\n",
       "    </tr>\n",
       "    <tr>\n",
       "      <th>Std. Error</th>\n",
       "      <td>0.003</td>\n",
       "      <td>0.003</td>\n",
       "      <td>0.003</td>\n",
       "    </tr>\n",
       "    <tr>\n",
       "      <th>t value</th>\n",
       "      <td>2.947</td>\n",
       "      <td>1.640</td>\n",
       "      <td>1.590</td>\n",
       "    </tr>\n",
       "    <tr>\n",
       "      <th>Pr(&gt;|t|)</th>\n",
       "      <td>0.003</td>\n",
       "      <td>0.102</td>\n",
       "      <td>0.113</td>\n",
       "    </tr>\n",
       "    <tr>\n",
       "      <th>2.5 %</th>\n",
       "      <td>0.003</td>\n",
       "      <td>-0.001</td>\n",
       "      <td>-0.001</td>\n",
       "    </tr>\n",
       "    <tr>\n",
       "      <th>97.5 %</th>\n",
       "      <td>0.016</td>\n",
       "      <td>0.012</td>\n",
       "      <td>0.012</td>\n",
       "    </tr>\n",
       "  </tbody>\n",
       "</table>\n",
       "</div>"
      ],
      "text/plain": [
       "fml         lwg~inc  lwg~inc+wc  lwg~inc+wc+k5\n",
       "Estimate      0.010       0.005          0.005\n",
       "Std. Error    0.003       0.003          0.003\n",
       "t value       2.947       1.640          1.590\n",
       "Pr(>|t|)      0.003       0.102          0.113\n",
       "2.5 %         0.003      -0.001         -0.001\n",
       "97.5 %        0.016       0.012          0.012"
      ]
     },
     "execution_count": 68,
     "metadata": {},
     "output_type": "execute_result"
    }
   ],
   "source": [
    "# to only get the coefficients for inc\n",
    "fixest.etable().xs(key = \"inc\", level = 1, axis = 1)"
   ]
  },
  {
   "cell_type": "markdown",
   "metadata": {},
   "source": [
    "## Chapter 13: Regression\n",
    "\n",
    "### Example 1"
   ]
  },
  {
   "cell_type": "code",
   "execution_count": 72,
   "metadata": {},
   "outputs": [
    {
     "data": {
      "text/html": [
       "<div>\n",
       "<style scoped>\n",
       "    .dataframe tbody tr th:only-of-type {\n",
       "        vertical-align: middle;\n",
       "    }\n",
       "\n",
       "    .dataframe tbody tr th {\n",
       "        vertical-align: top;\n",
       "    }\n",
       "\n",
       "    .dataframe thead tr th {\n",
       "        text-align: left;\n",
       "    }\n",
       "</style>\n",
       "<table border=\"1\" class=\"dataframe\">\n",
       "  <thead>\n",
       "    <tr>\n",
       "      <th>fml</th>\n",
       "      <th colspan=\"2\" halign=\"left\">inspection_score~NumberofLocations</th>\n",
       "    </tr>\n",
       "    <tr>\n",
       "      <th>Coefficient</th>\n",
       "      <th>Intercept</th>\n",
       "      <th>NumberofLocations</th>\n",
       "    </tr>\n",
       "  </thead>\n",
       "  <tbody>\n",
       "    <tr>\n",
       "      <th>Estimate</th>\n",
       "      <td>94.866</td>\n",
       "      <td>-0.019</td>\n",
       "    </tr>\n",
       "    <tr>\n",
       "      <th>Std. Error</th>\n",
       "      <td>0.046</td>\n",
       "      <td>0.000</td>\n",
       "    </tr>\n",
       "    <tr>\n",
       "      <th>t value</th>\n",
       "      <td>2049.047</td>\n",
       "      <td>-43.321</td>\n",
       "    </tr>\n",
       "    <tr>\n",
       "      <th>Pr(&gt;|t|)</th>\n",
       "      <td>0.000</td>\n",
       "      <td>0.000</td>\n",
       "    </tr>\n",
       "    <tr>\n",
       "      <th>2.5 %</th>\n",
       "      <td>94.775</td>\n",
       "      <td>-0.020</td>\n",
       "    </tr>\n",
       "    <tr>\n",
       "      <th>97.5 %</th>\n",
       "      <td>94.956</td>\n",
       "      <td>-0.018</td>\n",
       "    </tr>\n",
       "  </tbody>\n",
       "</table>\n",
       "</div>"
      ],
      "text/plain": [
       "fml         inspection_score~NumberofLocations                  \n",
       "Coefficient                          Intercept NumberofLocations\n",
       "Estimate                                94.866            -0.019\n",
       "Std. Error                               0.046             0.000\n",
       "t value                               2049.047           -43.321\n",
       "Pr(>|t|)                                 0.000             0.000\n",
       "2.5 %                                   94.775            -0.020\n",
       "97.5 %                                  94.956            -0.018"
      ]
     },
     "execution_count": 72,
     "metadata": {},
     "output_type": "execute_result"
    }
   ],
   "source": [
    "from causaldata import restaurant_inspections\n",
    "\n",
    "res = restaurant_inspections.load_pandas().data\n",
    "res.inspection_score = res.inspection_score.astype(float)\n",
    "res.NumberofLocations = res.NumberofLocations.astype(float)\n",
    "res.dtypes\n",
    "\n",
    "fixest = pf.Fixest(res)\n",
    "fixest.feols(\"inspection_score ~ NumberofLocations\")\n",
    "fixest.etable()"
   ]
  },
  {
   "cell_type": "markdown",
   "metadata": {},
   "source": [
    "### Example 2"
   ]
  },
  {
   "cell_type": "code",
   "execution_count": 98,
   "metadata": {},
   "outputs": [
    {
     "name": "stdout",
     "output_type": "stream",
     "text": [
      "###\n",
      "\n",
      "Model:  OLS\n",
      "Dep. var.:  inspection_score\n",
      "Inference:  iid\n",
      "Observations:  27178\n",
      "\n",
      "| Coefficient            |   Estimate |   Std. Error |   t value |   Pr(>|t|) |   2.5 % |   97.5 % |\n",
      "|:-----------------------|-----------:|-------------:|----------:|-----------:|--------:|---------:|\n",
      "| Intercept              |    225.504 |       12.409 |    18.172 |      0.000 | 201.181 |  249.827 |\n",
      "| NumberofLocations      |     -0.075 |        0.019 |    -4.041 |      0.000 |  -0.111 |   -0.039 |\n",
      "| I(NumberofLocations^2) |      0.056 |        0.019 |     3.009 |      0.003 |   0.020 |    0.093 |\n",
      "| Year                   |     -0.065 |        0.006 |   -10.527 |      0.000 |  -0.077 |   -0.053 |\n",
      "---\n",
      "RMSE: 6.038  Adj. R2: 0.069  Adj. R2 Within: 0.069\n",
      "###\n",
      "\n",
      "Model:  OLS\n",
      "Dep. var.:  inspection_score\n",
      "Inference:  iid\n",
      "Observations:  27178\n",
      "\n",
      "| Coefficient               |   Estimate |   Std. Error |   t value |   Pr(>|t|) |   2.5 % |   97.5 % |\n",
      "|:--------------------------|-----------:|-------------:|----------:|-----------:|--------:|---------:|\n",
      "| Intercept                 |    225.126 |       12.415 |    18.134 |      0.000 | 200.793 |  249.460 |\n",
      "| NumberofLocations         |     -0.019 |        0.000 |   -43.759 |      0.000 |  -0.020 |   -0.018 |\n",
      "| Weekend                   |      1.759 |        0.488 |     3.606 |      0.000 |   0.803 |    2.715 |\n",
      "| Year                      |     -0.065 |        0.006 |   -10.494 |      0.000 |  -0.077 |   -0.053 |\n",
      "| NumberofLocations:Weekend |     -0.010 |        0.008 |    -1.307 |      0.191 |  -0.025 |    0.005 |\n",
      "---\n",
      "RMSE: 6.038  Adj. R2: 0.069  Adj. R2 Within: 0.069\n"
     ]
    }
   ],
   "source": [
    "df = restaurant_inspections.load_pandas().data\n",
    "fixest = pf.Fixest(df)\n",
    "\n",
    "fixest.feols(\"inspection_score ~ NumberofLocations + I(NumberofLocations^2) + Year\")\n",
    "fixest.feols(\"inspection_score ~ NumberofLocations*Weekend + Year\")\n",
    "\n",
    "pd.set_option(\"display.max_colwidth\", 1)\n",
    "fixest.summary()"
   ]
  },
  {
   "cell_type": "markdown",
   "metadata": {},
   "source": [
    "### Example 3: HC Standard Errors"
   ]
  },
  {
   "cell_type": "code",
   "execution_count": 78,
   "metadata": {},
   "outputs": [
    {
     "name": "stdout",
     "output_type": "stream",
     "text": [
      "###\n",
      "\n",
      "Model:  OLS\n",
      "Dep. var.:  inspection_score\n",
      "Inference:  HC3\n",
      "Observations:  27178\n",
      "\n",
      "| Coefficient   |   Estimate |   Std. Error |   t value |   Pr(>|t|) |   2.5 % |   97.5 % |\n",
      "|:--------------|-----------:|-------------:|----------:|-----------:|--------:|---------:|\n",
      "| Intercept     |    185.380 |       12.150 |    15.257 |      0.000 | 161.564 |  209.196 |\n",
      "| Year          |     -0.046 |        0.006 |    -7.551 |      0.000 |  -0.057 |   -0.034 |\n",
      "| Weekend       |      2.057 |        0.353 |     5.829 |      0.000 |   1.365 |    2.749 |\n",
      "---\n",
      "RMSE: 6.248  Adj. R2: 0.003  Adj. R2 Within: 0.003\n"
     ]
    }
   ],
   "source": [
    "fixest = pf.Fixest(df)\n",
    "fixest.feols('inspection_score ~ Year + Weekend', vcov = \"HC3\").summary()"
   ]
  },
  {
   "cell_type": "markdown",
   "metadata": {},
   "source": [
    "### Example 4: Clustered Standard Errors"
   ]
  },
  {
   "cell_type": "code",
   "execution_count": 79,
   "metadata": {},
   "outputs": [
    {
     "name": "stdout",
     "output_type": "stream",
     "text": [
      "###\n",
      "\n",
      "Model:  OLS\n",
      "Dep. var.:  inspection_score\n",
      "Inference:  {'CRV1': 'Weekend'}\n",
      "Observations:  27178\n",
      "\n",
      "| Coefficient   |   Estimate |   Std. Error |   t value |   Pr(>|t|) |   2.5 % |   97.5 % |\n",
      "|:--------------|-----------:|-------------:|----------:|-----------:|--------:|---------:|\n",
      "| Intercept     |    185.380 |        3.264 |    56.789 |      0.011 | 143.903 |  226.857 |\n",
      "| Year          |     -0.046 |        0.002 |   -28.108 |      0.023 |  -0.066 |   -0.025 |\n",
      "| Weekend       |      2.057 |        0.001 |  1468.257 |      0.000 |   2.039 |    2.075 |\n",
      "---\n",
      "RMSE: 6.248  Adj. R2: 0.003  Adj. R2 Within: 0.003\n"
     ]
    }
   ],
   "source": [
    "fixest = pf.Fixest(df)\n",
    "fixest.feols('inspection_score ~ Year + Weekend', vcov = {\"CRV1\":\"Weekend\"}).summary()"
   ]
  },
  {
   "cell_type": "markdown",
   "metadata": {},
   "source": [
    "### Example 5: Bootstrap Inference "
   ]
  },
  {
   "cell_type": "code",
   "execution_count": 83,
   "metadata": {},
   "outputs": [
    {
     "data": {
      "text/html": [
       "<div>\n",
       "<style scoped>\n",
       "    .dataframe tbody tr th:only-of-type {\n",
       "        vertical-align: middle;\n",
       "    }\n",
       "\n",
       "    .dataframe tbody tr th {\n",
       "        vertical-align: top;\n",
       "    }\n",
       "\n",
       "    .dataframe thead th {\n",
       "        text-align: right;\n",
       "    }\n",
       "</style>\n",
       "<table border=\"1\" class=\"dataframe\">\n",
       "  <thead>\n",
       "    <tr style=\"text-align: right;\">\n",
       "      <th></th>\n",
       "      <th>param</th>\n",
       "      <th>t value</th>\n",
       "      <th>Pr(&gt;|t|)</th>\n",
       "    </tr>\n",
       "    <tr>\n",
       "      <th>fml</th>\n",
       "      <th></th>\n",
       "      <th></th>\n",
       "      <th></th>\n",
       "    </tr>\n",
       "  </thead>\n",
       "  <tbody>\n",
       "    <tr>\n",
       "      <th>inspection_score~Year+Weekend</th>\n",
       "      <td>Year</td>\n",
       "      <td>[-7.5523300180667245]</td>\n",
       "      <td>0.0</td>\n",
       "    </tr>\n",
       "  </tbody>\n",
       "</table>\n",
       "</div>"
      ],
      "text/plain": [
       "                              param                t value Pr(>|t|)\n",
       "fml                                                                \n",
       "inspection_score~Year+Weekend  Year  [-7.5523300180667245]      0.0"
      ]
     },
     "execution_count": 83,
     "metadata": {},
     "output_type": "execute_result"
    }
   ],
   "source": [
    "fixest = pf.Fixest(df)\n",
    "fixest.feols('inspection_score ~ Year + Weekend').wildboottest(B = 999, param = \"Year\")\n"
   ]
  },
  {
   "cell_type": "markdown",
   "metadata": {},
   "source": [
    "## Chapter 16: Fixed Effects\n",
    "\n",
    "### Example 1"
   ]
  },
  {
   "cell_type": "markdown",
   "metadata": {},
   "source": [
    "tba"
   ]
  },
  {
   "cell_type": "markdown",
   "metadata": {},
   "source": [
    "### Example 2"
   ]
  },
  {
   "cell_type": "code",
   "execution_count": 100,
   "metadata": {},
   "outputs": [
    {
     "data": {
      "text/html": [
       "<div>\n",
       "<style scoped>\n",
       "    .dataframe tbody tr th:only-of-type {\n",
       "        vertical-align: middle;\n",
       "    }\n",
       "\n",
       "    .dataframe tbody tr th {\n",
       "        vertical-align: top;\n",
       "    }\n",
       "\n",
       "    .dataframe thead th {\n",
       "        text-align: right;\n",
       "    }\n",
       "</style>\n",
       "<table border=\"1\" class=\"dataframe\">\n",
       "  <thead>\n",
       "    <tr style=\"text-align: right;\">\n",
       "      <th></th>\n",
       "      <th></th>\n",
       "      <th>Estimate</th>\n",
       "      <th>Std. Error</th>\n",
       "      <th>t value</th>\n",
       "      <th>Pr(&gt;|t|)</th>\n",
       "      <th>2.5 %</th>\n",
       "      <th>97.5 %</th>\n",
       "    </tr>\n",
       "    <tr>\n",
       "      <th>fml</th>\n",
       "      <th>Coefficient</th>\n",
       "      <th></th>\n",
       "      <th></th>\n",
       "      <th></th>\n",
       "      <th></th>\n",
       "      <th></th>\n",
       "      <th></th>\n",
       "    </tr>\n",
       "  </thead>\n",
       "  <tbody>\n",
       "    <tr>\n",
       "      <th rowspan=\"11\" valign=\"top\">lifeExp~C(country)+np.log(gdpPercap)</th>\n",
       "      <th>Intercept</th>\n",
       "      <td>-27.773459</td>\n",
       "      <td>2.500533</td>\n",
       "      <td>-11.107015</td>\n",
       "      <td>0.000000e+00</td>\n",
       "      <td>-32.678217</td>\n",
       "      <td>-22.868701</td>\n",
       "    </tr>\n",
       "    <tr>\n",
       "      <th>C(country)[T.Albania]</th>\n",
       "      <td>17.782625</td>\n",
       "      <td>2.195160</td>\n",
       "      <td>8.100835</td>\n",
       "      <td>1.110223e-15</td>\n",
       "      <td>13.476853</td>\n",
       "      <td>22.088397</td>\n",
       "    </tr>\n",
       "    <tr>\n",
       "      <th>C(country)[T.Algeria]</th>\n",
       "      <td>5.241055</td>\n",
       "      <td>2.214496</td>\n",
       "      <td>2.366704</td>\n",
       "      <td>1.806875e-02</td>\n",
       "      <td>0.897356</td>\n",
       "      <td>9.584755</td>\n",
       "    </tr>\n",
       "    <tr>\n",
       "      <th>C(country)[T.Angola]</th>\n",
       "      <td>-13.907122</td>\n",
       "      <td>2.201727</td>\n",
       "      <td>-6.316460</td>\n",
       "      <td>3.481857e-10</td>\n",
       "      <td>-18.225777</td>\n",
       "      <td>-9.588468</td>\n",
       "    </tr>\n",
       "    <tr>\n",
       "      <th>C(country)[T.Argentina]</th>\n",
       "      <td>8.132158</td>\n",
       "      <td>2.272781</td>\n",
       "      <td>3.578065</td>\n",
       "      <td>3.567229e-04</td>\n",
       "      <td>3.674133</td>\n",
       "      <td>12.590183</td>\n",
       "    </tr>\n",
       "    <tr>\n",
       "      <th>...</th>\n",
       "      <td>...</td>\n",
       "      <td>...</td>\n",
       "      <td>...</td>\n",
       "      <td>...</td>\n",
       "      <td>...</td>\n",
       "      <td>...</td>\n",
       "    </tr>\n",
       "    <tr>\n",
       "      <th>C(country)[T.West Bank and Gaza]</th>\n",
       "      <td>8.657483</td>\n",
       "      <td>2.201015</td>\n",
       "      <td>3.933405</td>\n",
       "      <td>8.742297e-05</td>\n",
       "      <td>4.340226</td>\n",
       "      <td>12.974740</td>\n",
       "    </tr>\n",
       "    <tr>\n",
       "      <th>C(country)[T.Yemen, Rep.]</th>\n",
       "      <td>3.484655</td>\n",
       "      <td>2.165652</td>\n",
       "      <td>1.609056</td>\n",
       "      <td>1.078064e-01</td>\n",
       "      <td>-0.763239</td>\n",
       "      <td>7.732550</td>\n",
       "    </tr>\n",
       "    <tr>\n",
       "      <th>C(country)[T.Zambia]</th>\n",
       "      <td>3.439994</td>\n",
       "      <td>2.163938</td>\n",
       "      <td>1.589692</td>\n",
       "      <td>1.121068e-01</td>\n",
       "      <td>-0.804537</td>\n",
       "      <td>7.684526</td>\n",
       "    </tr>\n",
       "    <tr>\n",
       "      <th>C(country)[T.Zimbabwe]</th>\n",
       "      <td>17.592362</td>\n",
       "      <td>2.159680</td>\n",
       "      <td>8.145821</td>\n",
       "      <td>8.881784e-16</td>\n",
       "      <td>13.356184</td>\n",
       "      <td>21.828541</td>\n",
       "    </tr>\n",
       "    <tr>\n",
       "      <th>np.log(gdpPercap)</th>\n",
       "      <td>9.768959</td>\n",
       "      <td>0.296534</td>\n",
       "      <td>32.943815</td>\n",
       "      <td>0.000000e+00</td>\n",
       "      <td>9.187312</td>\n",
       "      <td>10.350605</td>\n",
       "    </tr>\n",
       "  </tbody>\n",
       "</table>\n",
       "<p>143 rows × 6 columns</p>\n",
       "</div>"
      ],
      "text/plain": [
       "                                                                        Estimate  \\\n",
       "fml                                  Coefficient                                   \n",
       "lifeExp~C(country)+np.log(gdpPercap) Intercept                        -27.773459   \n",
       "                                     C(country)[T.Albania]             17.782625   \n",
       "                                     C(country)[T.Algeria]             5.241055    \n",
       "                                     C(country)[T.Angola]             -13.907122   \n",
       "                                     C(country)[T.Argentina]           8.132158    \n",
       "...                                                                          ...   \n",
       "                                     C(country)[T.West Bank and Gaza]  8.657483    \n",
       "                                     C(country)[T.Yemen, Rep.]         3.484655    \n",
       "                                     C(country)[T.Zambia]              3.439994    \n",
       "                                     C(country)[T.Zimbabwe]            17.592362   \n",
       "                                     np.log(gdpPercap)                 9.768959    \n",
       "\n",
       "                                                                       Std. Error  \\\n",
       "fml                                  Coefficient                                    \n",
       "lifeExp~C(country)+np.log(gdpPercap) Intercept                         2.500533     \n",
       "                                     C(country)[T.Albania]             2.195160     \n",
       "                                     C(country)[T.Algeria]             2.214496     \n",
       "                                     C(country)[T.Angola]              2.201727     \n",
       "                                     C(country)[T.Argentina]           2.272781     \n",
       "...                                                                         ...     \n",
       "                                     C(country)[T.West Bank and Gaza]  2.201015     \n",
       "                                     C(country)[T.Yemen, Rep.]         2.165652     \n",
       "                                     C(country)[T.Zambia]              2.163938     \n",
       "                                     C(country)[T.Zimbabwe]            2.159680     \n",
       "                                     np.log(gdpPercap)                 0.296534     \n",
       "\n",
       "                                                                         t value  \\\n",
       "fml                                  Coefficient                                   \n",
       "lifeExp~C(country)+np.log(gdpPercap) Intercept                        -11.107015   \n",
       "                                     C(country)[T.Albania]             8.100835    \n",
       "                                     C(country)[T.Algeria]             2.366704    \n",
       "                                     C(country)[T.Angola]             -6.316460    \n",
       "                                     C(country)[T.Argentina]           3.578065    \n",
       "...                                                                         ...    \n",
       "                                     C(country)[T.West Bank and Gaza]  3.933405    \n",
       "                                     C(country)[T.Yemen, Rep.]         1.609056    \n",
       "                                     C(country)[T.Zambia]              1.589692    \n",
       "                                     C(country)[T.Zimbabwe]            8.145821    \n",
       "                                     np.log(gdpPercap)                 32.943815   \n",
       "\n",
       "                                                                           Pr(>|t|)  \\\n",
       "fml                                  Coefficient                                      \n",
       "lifeExp~C(country)+np.log(gdpPercap) Intercept                         0.000000e+00   \n",
       "                                     C(country)[T.Albania]             1.110223e-15   \n",
       "                                     C(country)[T.Algeria]             1.806875e-02   \n",
       "                                     C(country)[T.Angola]              3.481857e-10   \n",
       "                                     C(country)[T.Argentina]           3.567229e-04   \n",
       "...                                                                             ...   \n",
       "                                     C(country)[T.West Bank and Gaza]  8.742297e-05   \n",
       "                                     C(country)[T.Yemen, Rep.]         1.078064e-01   \n",
       "                                     C(country)[T.Zambia]              1.121068e-01   \n",
       "                                     C(country)[T.Zimbabwe]            8.881784e-16   \n",
       "                                     np.log(gdpPercap)                 0.000000e+00   \n",
       "\n",
       "                                                                           2.5 %  \\\n",
       "fml                                  Coefficient                                   \n",
       "lifeExp~C(country)+np.log(gdpPercap) Intercept                        -32.678217   \n",
       "                                     C(country)[T.Albania]             13.476853   \n",
       "                                     C(country)[T.Algeria]             0.897356    \n",
       "                                     C(country)[T.Angola]             -18.225777   \n",
       "                                     C(country)[T.Argentina]           3.674133    \n",
       "...                                                                          ...   \n",
       "                                     C(country)[T.West Bank and Gaza]  4.340226    \n",
       "                                     C(country)[T.Yemen, Rep.]        -0.763239    \n",
       "                                     C(country)[T.Zambia]             -0.804537    \n",
       "                                     C(country)[T.Zimbabwe]            13.356184   \n",
       "                                     np.log(gdpPercap)                 9.187312    \n",
       "\n",
       "                                                                          97.5 %  \n",
       "fml                                  Coefficient                                  \n",
       "lifeExp~C(country)+np.log(gdpPercap) Intercept                        -22.868701  \n",
       "                                     C(country)[T.Albania]             22.088397  \n",
       "                                     C(country)[T.Algeria]             9.584755   \n",
       "                                     C(country)[T.Angola]             -9.588468   \n",
       "                                     C(country)[T.Argentina]           12.590183  \n",
       "...                                                                         ...   \n",
       "                                     C(country)[T.West Bank and Gaza]  12.974740  \n",
       "                                     C(country)[T.Yemen, Rep.]         7.732550   \n",
       "                                     C(country)[T.Zambia]              7.684526   \n",
       "                                     C(country)[T.Zimbabwe]            21.828541  \n",
       "                                     np.log(gdpPercap)                 10.350605  \n",
       "\n",
       "[143 rows x 6 columns]"
      ]
     },
     "execution_count": 100,
     "metadata": {},
     "output_type": "execute_result"
    }
   ],
   "source": [
    "from causaldata import gapminder\n",
    "gm = gapminder.load_pandas().data\n",
    "gm['logGDPpercap'] = gm['gdpPercap'].apply('log')\n",
    "\n",
    "fixest = pf.Fixest(gm)\n",
    "fixest.feols(\"lifeExp ~ C(country) + np.log(gdpPercap)\")\n",
    "fixest.tidy().head()"
   ]
  },
  {
   "cell_type": "markdown",
   "metadata": {},
   "source": [
    "### Example 3: TWFE"
   ]
  },
  {
   "cell_type": "code",
   "execution_count": 86,
   "metadata": {},
   "outputs": [
    {
     "name": "stdout",
     "output_type": "stream",
     "text": [
      "###\n",
      "\n",
      "Model:  OLS\n",
      "Dep. var.:  lifeExp\n",
      "Fixed effects:  country+year\n",
      "Inference:  {'CRV1': 'country'}\n",
      "Observations:  1704\n",
      "\n",
      "| Coefficient       |   Estimate |   Std. Error |   t value |   Pr(>|t|) |   2.5 % |   97.5 % |\n",
      "|:------------------|-----------:|-------------:|----------:|-----------:|--------:|---------:|\n",
      "| np.log(gdpPercap) |      1.450 |        0.677 |     2.141 |      0.034 |   0.111 |    2.788 |\n",
      "---\n",
      "RMSE: 3.267  Adj. R2: 0.018  Adj. R2 Within: 0.018\n"
     ]
    }
   ],
   "source": [
    "# Set our individual and time (index) for our data\n",
    "fixest = pf.Fixest(gm)\n",
    "fixest.feols(\"lifeExp ~ np.log(gdpPercap) | country + year\")\n",
    "fixest.summary()"
   ]
  },
  {
   "cell_type": "markdown",
   "metadata": {},
   "source": [
    "## Chapter 18: Difference-in-Differences\n",
    "\n",
    "### Example 1"
   ]
  },
  {
   "cell_type": "code",
   "execution_count": 87,
   "metadata": {},
   "outputs": [
    {
     "name": "stdout",
     "output_type": "stream",
     "text": [
      "###\n",
      "\n",
      "Model:  OLS\n",
      "Dep. var.:  Rate\n",
      "Fixed effects:  State+Quarter\n",
      "Inference:  {'CRV1': 'State'}\n",
      "Observations:  162\n",
      "\n",
      "| Coefficient   |   Estimate |   Std. Error |   t value |   Pr(>|t|) |   2.5 % |   97.5 % |\n",
      "|:--------------|-----------:|-------------:|----------:|-----------:|--------:|---------:|\n",
      "| Treated       |     -0.022 |        0.006 |    -3.733 |      0.001 |  -0.035 |   -0.010 |\n",
      "---\n",
      "RMSE: 0.022  Adj. R2: 0.003  Adj. R2 Within: 0.003\n"
     ]
    }
   ],
   "source": [
    "from causaldata import organ_donations\n",
    "\n",
    "od = organ_donations.load_pandas().data\n",
    "\n",
    "# Create Treatment Variable\n",
    "od['California'] = od['State'] == 'California'\n",
    "od['After'] = od['Quarter_Num'] > 3\n",
    "od['Treated'] = 1*(od['California'] & od['After'])\n",
    "\n",
    "fixest = pf.Fixest(od)\n",
    "fixest.feols(\"Rate ~ Treated | State + Quarter\")\n",
    "fixest.summary()"
   ]
  },
  {
   "cell_type": "markdown",
   "metadata": {},
   "source": [
    "### Example 3: Dynamic Treatment Effect"
   ]
  },
  {
   "cell_type": "code",
   "execution_count": 91,
   "metadata": {},
   "outputs": [
    {
     "data": {
      "image/png": "[encoded data removed]",
      "text/plain": [
       "<Figure size 1000x1000 with 1 Axes>"
      ]
     },
     "metadata": {},
     "output_type": "display_data"
    }
   ],
   "source": [
    "import matplotlib as plt\n",
    "from causaldata import organ_donations\n",
    "od = organ_donations.load_pandas().data\n",
    "\n",
    "# Create Treatment Variable\n",
    "od['California'] = od['State'] == 'California'\n",
    "od[\"Quarter_Num\"] = pd.Categorical(od.Quarter_Num)\n",
    "od[\"California\"] = od.California.astype(float)\n",
    "\n",
    "fixest = pf.Fixest(od)\n",
    "fixest.feols(\"Rate ~ i(Quarter_Num, California, ref = 3) | State + Quarter_Num\")\n",
    "fixest.iplot(yintercept = 0)"
   ]
  }
 ],
 "metadata": {
  "kernelspec": {
   "display_name": "Python 3",
   "language": "python",
   "name": "python3"
  },
  "language_info": {
   "codemirror_mode": {
    "name": "ipython",
    "version": 3
   },
   "file_extension": ".py",
   "mimetype": "text/x-python",
   "name": "python",
   "nbconvert_exporter": "python",
   "pygments_lexer": "ipython3",
   "version": "3.10.8"
  },
  "orig_nbformat": 4
 },
 "nbformat": 4,
 "nbformat_minor": 2
}
