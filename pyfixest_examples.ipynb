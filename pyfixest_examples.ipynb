{
 "cells": [
  {
   "cell_type": "markdown",
   "metadata": {},
   "source": [
    "## pyfixest examples"
   ]
  },
  {
   "cell_type": "code",
   "execution_count": 20,
   "metadata": {},
   "outputs": [],
   "source": [
    "# create some data\n",
    "\n",
    "import pandas as pd\n",
    "import numpy as np\n",
    "from pyfixest.api import feols\n",
    "\n",
    "# create data\n",
    "np.random.seed(123)\n",
    "N = 100000\n",
    "k = 4\n",
    "G = 25\n",
    "X = np.random.normal(0, 1, N * k).reshape((N,k))\n",
    "X = pd.DataFrame(X)\n",
    "X[1] = np.random.choice(list(range(0, 50)), N, True)\n",
    "X[2] = np.random.choice(list(range(0, 1000)), N, True)\n",
    "X[3] = np.random.choice(list(range(0, 1000)), N, True)\n",
    "\n",
    "beta = np.random.normal(0,1,k)\n",
    "beta[0] = 0.005\n",
    "u = np.random.normal(0,1,N)\n",
    "Y = 1 + X @ beta + u\n",
    "cluster = np.random.choice(list(range(0,G)), N)\n",
    "\n",
    "Y = pd.DataFrame(Y)\n",
    "Y.rename(columns = {0:'Y'}, inplace = True)\n",
    "X = pd.DataFrame(X)\n",
    "\n",
    "data = pd.concat([Y, X], axis = 1)\n",
    "data.rename(columns = {0:'X1', 1:'X2', 2:'X3', 3:'X4'}, inplace = True)\n",
    "data['X4'] = data['X4'].astype('category')\n",
    "data['X3'] = data['X3'].astype('category')\n",
    "data['X2'] = data['X2'].astype('category')\n",
    "data['group_id'] = cluster\n",
    "data['Y2'] = data.Y + np.random.normal(0, 1, N)"
   ]
  },
  {
   "cell_type": "code",
   "execution_count": 14,
   "metadata": {},
   "outputs": [
    {
     "data": {
      "text/plain": [
       "[  depvar colnames      coef        se     tstat    pvalue\n",
       " 0      Y       X1  0.001469  0.003164  0.464335  0.642408]"
      ]
     },
     "execution_count": 14,
     "metadata": {},
     "output_type": "execute_result"
    }
   ],
   "source": [
    "# HC1 inference\n",
    "feols('Y ~ X1 | X2 + X3 + X4', 'hetero', data)"
   ]
  },
  {
   "cell_type": "code",
   "execution_count": 15,
   "metadata": {},
   "outputs": [
    {
     "data": {
      "text/plain": [
       "[  depvar colnames      coef        se     tstat    pvalue\n",
       " 0      Y       X1  0.001469  0.003164  0.464344  0.642401]"
      ]
     },
     "execution_count": 15,
     "metadata": {},
     "output_type": "execute_result"
    }
   ],
   "source": [
    "# HC3 inference\n",
    "feols('Y ~ X1 | X2 + X3 + X4', 'HC3', data)"
   ]
  },
  {
   "cell_type": "code",
   "execution_count": 17,
   "metadata": {},
   "outputs": [
    {
     "data": {
      "text/plain": [
       "[  depvar   colnames        coef        se       tstat    pvalue\n",
       " 0      Y  Intercept -577.090042  1.094118 -527.447656  0.000000\n",
       " 1      Y         X1    1.389563  1.023390    1.357804  0.174526]"
      ]
     },
     "execution_count": 17,
     "metadata": {},
     "output_type": "execute_result"
    }
   ],
   "source": [
    "# CRV1\n",
    "feols(fml = 'Y ~ X1', vcov = {'CRV1':'group_id'}, data = data)"
   ]
  },
  {
   "cell_type": "code",
   "execution_count": 16,
   "metadata": {},
   "outputs": [
    {
     "data": {
      "text/plain": [
       "[  depvar   colnames        coef        se       tstat    pvalue\n",
       " 0      Y  Intercept -577.090042  1.139483 -506.449086  0.000000\n",
       " 1      Y         X1    1.389563  1.066219    1.303261  0.192486]"
      ]
     },
     "execution_count": 16,
     "metadata": {},
     "output_type": "execute_result"
    }
   ],
   "source": [
    "# CRV1\n",
    "feols(fml = 'Y ~ X1', vcov = {'CRV3':'group_id'}, data = data)"
   ]
  },
  {
   "cell_type": "code",
   "execution_count": 19,
   "metadata": {},
   "outputs": [
    {
     "data": {
      "text/plain": [
       "[  depvar colnames      coef       se     tstat    pvalue\n",
       " 0      Y       X1  0.018823  0.01947  0.966804  0.333642,\n",
       "   depvar colnames      coef        se     tstat    pvalue\n",
       " 0     Y2       X1  0.015098  0.019733  0.765114  0.444204]"
      ]
     },
     "execution_count": 19,
     "metadata": {},
     "output_type": "execute_result"
    }
   ],
   "source": [
    "#  multiple estimation = multiple dependend variables\n",
    "\n",
    "feols(fml = 'Y + Y2 ~ X1 | X3 + X4 ', vcov = 'hetero', data = data)"
   ]
  }
 ],
 "metadata": {
  "kernelspec": {
   "display_name": "Python 3",
   "language": "python",
   "name": "python3"
  },
  "language_info": {
   "codemirror_mode": {
    "name": "ipython",
    "version": 3
   },
   "file_extension": ".py",
   "mimetype": "text/x-python",
   "name": "python",
   "nbconvert_exporter": "python",
   "pygments_lexer": "ipython3",
   "version": "3.10.8"
  },
  "orig_nbformat": 4,
  "vscode": {
   "interpreter": {
    "hash": "bbc3c3d932324566a9bf4b4a52ddf64063695fc3adbf25b3fda92572428493bb"
   }
  }
 },
 "nbformat": 4,
 "nbformat_minor": 2
}
