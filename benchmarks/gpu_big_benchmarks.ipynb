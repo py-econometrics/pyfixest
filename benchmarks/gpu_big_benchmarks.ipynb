{
 "cells": [
  {
   "cell_type": "markdown",
   "metadata": {},
   "source": [
    "## `PyFixest` on professional-tier GPUs \n",
    "\n",
    "We test two back-ends for the iterative alternating-projections component of the fixed-effects regression on an Nvidia A100 GPU with 40 GB VRAM (a GPU that one typically wouldn't have installed to play graphics-intensive videogames on consumer hardware). `numba` benchmarks are run on a 12-core xeon CPU. \n",
    "\n",
    "The Jax backend exhibits major performance improvements over numba in large problems. "
   ]
  },
  {
   "cell_type": "code",
   "execution_count": 1,
   "metadata": {
    "execution": {
     "iopub.execute_input": "2025-01-12T17:32:45.604971Z",
     "iopub.status.busy": "2025-01-12T17:32:45.604766Z",
     "iopub.status.idle": "2025-01-12T17:32:46.391541Z",
     "shell.execute_reply": "2025-01-12T17:32:46.390991Z",
     "shell.execute_reply.started": "2025-01-12T17:32:45.604955Z"
    }
   },
   "outputs": [
    {
     "data": {
      "text/plain": [
       "[CudaDevice(id=0)]"
      ]
     },
     "execution_count": 1,
     "metadata": {},
     "output_type": "execute_result"
    }
   ],
   "source": [
    "import jax\n",
    "import jax.numpy as jnp\n",
    "\n",
    "jax.devices()"
   ]
  },
  {
   "cell_type": "code",
   "execution_count": 2,
   "metadata": {
    "execution": {
     "iopub.execute_input": "2025-01-12T17:32:46.392674Z",
     "iopub.status.busy": "2025-01-12T17:32:46.392347Z",
     "iopub.status.idle": "2025-01-12T17:32:46.986455Z",
     "shell.execute_reply": "2025-01-12T17:32:46.985981Z",
     "shell.execute_reply.started": "2025-01-12T17:32:46.392647Z"
    },
    "scrolled": true
   },
   "outputs": [
    {
     "data": {
      "text/plain": [
       "{CudaDevice(id=0)}"
      ]
     },
     "execution_count": 2,
     "metadata": {},
     "output_type": "execute_result"
    }
   ],
   "source": [
    "jnp.ones(10).devices()"
   ]
  },
  {
   "cell_type": "markdown",
   "metadata": {},
   "source": [
    "When jax is configured on a GPU-equipped machine, arrays are created on the GPU by default."
   ]
  },
  {
   "cell_type": "code",
   "execution_count": 3,
   "metadata": {
    "execution": {
     "iopub.execute_input": "2025-01-12T17:32:46.987285Z",
     "iopub.status.busy": "2025-01-12T17:32:46.987118Z",
     "iopub.status.idle": "2025-01-12T17:32:47.542600Z",
     "shell.execute_reply": "2025-01-12T17:32:47.542006Z",
     "shell.execute_reply.started": "2025-01-12T17:32:46.987271Z"
    }
   },
   "outputs": [
    {
     "name": "stdout",
     "output_type": "stream",
     "text": [
      "Sun Jan 12 15:23:01 2025       \n",
      "+---------------------------------------------------------------------------------------+\n",
      "| NVIDIA-SMI 535.183.01             Driver Version: 535.183.01   CUDA Version: 12.2     |\n",
      "|-----------------------------------------+----------------------+----------------------+\n",
      "| GPU  Name                 Persistence-M | Bus-Id        Disp.A | Volatile Uncorr. ECC |\n",
      "| Fan  Temp   Perf          Pwr:Usage/Cap |         Memory-Usage | GPU-Util  Compute M. |\n",
      "|                                         |                      |               MIG M. |\n",
      "|=========================================+======================+======================|\n",
      "|   0  NVIDIA A100-SXM4-40GB          On  | 00000000:90:1C.0 Off |                    0 |\n",
      "| N/A   43C    P0              79W / 400W |  30812MiB / 40960MiB |      0%      Default |\n",
      "|                                         |                      |             Disabled |\n",
      "+-----------------------------------------+----------------------+----------------------+\n",
      "                                                                                         \n",
      "+---------------------------------------------------------------------------------------+\n",
      "| Processes:                                                                            |\n",
      "|  GPU   GI   CI        PID   Type   Process name                            GPU Memory |\n",
      "|        ID   ID                                                             Usage      |\n",
      "|=======================================================================================|\n",
      "+---------------------------------------------------------------------------------------+\n"
     ]
    },
    {
     "name": "stderr",
     "output_type": "stream",
     "text": [
      "/root/miniconda3/envs/jaxgpu/lib/python3.11/pty.py:89: RuntimeWarning: os.fork() was called. os.fork() is incompatible with multithreaded code, and JAX is multithreaded, so this will likely lead to a deadlock.\n",
      "  pid, fd = os.forkpty()\n"
     ]
    }
   ],
   "source": [
    "!nvidia-smi"
   ]
  },
  {
   "cell_type": "markdown",
   "metadata": {},
   "source": [
    "Jax pre-allocates 75% VRAM"
   ]
  },
  {
   "cell_type": "code",
   "execution_count": 4,
   "metadata": {
    "execution": {
     "iopub.execute_input": "2025-01-12T17:32:47.543813Z",
     "iopub.status.busy": "2025-01-12T17:32:47.543552Z",
     "iopub.status.idle": "2025-01-12T17:32:48.268402Z",
     "shell.execute_reply": "2025-01-12T17:32:48.267956Z",
     "shell.execute_reply.started": "2025-01-12T17:32:47.543792Z"
    },
    "id": "fHzEldNvR2_K"
   },
   "outputs": [],
   "source": [
    "import time\n",
    "from itertools import product\n",
    "\n",
    "import numpy as np\n",
    "import pandas as pd\n",
    "from scipy.stats import nbinom\n",
    "from tqdm import tqdm\n",
    "\n",
    "np.random.seed(42)"
   ]
  },
  {
   "cell_type": "code",
   "execution_count": 5,
   "metadata": {
    "execution": {
     "iopub.execute_input": "2025-01-12T17:32:48.269845Z",
     "iopub.status.busy": "2025-01-12T17:32:48.269573Z",
     "iopub.status.idle": "2025-01-12T17:32:48.686679Z",
     "shell.execute_reply": "2025-01-12T17:32:48.686264Z",
     "shell.execute_reply.started": "2025-01-12T17:32:48.269828Z"
    },
    "id": "fHzEldNvR2_K"
   },
   "outputs": [
    {
     "data": {
      "text/html": [
       "\n",
       "            <div id=\"x3e1NQ\"></div>\n",
       "            <script type=\"text/javascript\" data-lets-plot-script=\"library\">\n",
       "                if(!window.letsPlotCallQueue) {\n",
       "                    window.letsPlotCallQueue = [];\n",
       "                }; \n",
       "                window.letsPlotCall = function(f) {\n",
       "                    window.letsPlotCallQueue.push(f);\n",
       "                };\n",
       "                (function() {\n",
       "                    var script = document.createElement(\"script\");\n",
       "                    script.type = \"text/javascript\";\n",
       "                    script.src = \"https://cdn.jsdelivr.net/gh/JetBrains/lets-plot@v4.5.2/js-package/distr/lets-plot.min.js\";\n",
       "                    script.onload = function() {\n",
       "                        window.letsPlotCall = function(f) {f();};\n",
       "                        window.letsPlotCallQueue.forEach(function(f) {f();});\n",
       "                        window.letsPlotCallQueue = [];\n",
       "                        \n",
       "                    };\n",
       "                    script.onerror = function(event) {\n",
       "                        window.letsPlotCall = function(f) {};    // noop\n",
       "                        window.letsPlotCallQueue = [];\n",
       "                        var div = document.createElement(\"div\");\n",
       "                        div.style.color = 'darkred';\n",
       "                        div.textContent = 'Error loading Lets-Plot JS';\n",
       "                        document.getElementById(\"x3e1NQ\").appendChild(div);\n",
       "                    };\n",
       "                    var e = document.getElementById(\"x3e1NQ\");\n",
       "                    e.appendChild(script);\n",
       "                })()\n",
       "            </script>\n",
       "            "
      ]
     },
     "metadata": {},
     "output_type": "display_data"
    },
    {
     "data": {
      "text/html": [
       "\n",
       "            <div id=\"rJsNy5\"></div>\n",
       "            <script type=\"text/javascript\" data-lets-plot-script=\"library\">\n",
       "                if(!window.letsPlotCallQueue) {\n",
       "                    window.letsPlotCallQueue = [];\n",
       "                }; \n",
       "                window.letsPlotCall = function(f) {\n",
       "                    window.letsPlotCallQueue.push(f);\n",
       "                };\n",
       "                (function() {\n",
       "                    var script = document.createElement(\"script\");\n",
       "                    script.type = \"text/javascript\";\n",
       "                    script.src = \"https://cdn.jsdelivr.net/gh/JetBrains/lets-plot@v4.5.2/js-package/distr/lets-plot.min.js\";\n",
       "                    script.onload = function() {\n",
       "                        window.letsPlotCall = function(f) {f();};\n",
       "                        window.letsPlotCallQueue.forEach(function(f) {f();});\n",
       "                        window.letsPlotCallQueue = [];\n",
       "                        \n",
       "                    };\n",
       "                    script.onerror = function(event) {\n",
       "                        window.letsPlotCall = function(f) {};    // noop\n",
       "                        window.letsPlotCallQueue = [];\n",
       "                        var div = document.createElement(\"div\");\n",
       "                        div.style.color = 'darkred';\n",
       "                        div.textContent = 'Error loading Lets-Plot JS';\n",
       "                        document.getElementById(\"rJsNy5\").appendChild(div);\n",
       "                    };\n",
       "                    var e = document.getElementById(\"rJsNy5\");\n",
       "                    e.appendChild(script);\n",
       "                })()\n",
       "            </script>\n",
       "            "
      ]
     },
     "metadata": {},
     "output_type": "display_data"
    }
   ],
   "source": [
    "import pyfixest as pf\n",
    "from pyfixest.estimation.demean_ import demean\n",
    "from pyfixest.estimation.demean_jax_ import demean_jax"
   ]
  },
  {
   "cell_type": "code",
   "execution_count": null,
   "metadata": {
    "colab": {
     "base_uri": "https://localhost:8080/"
    },
    "execution": {
     "iopub.execute_input": "2025-01-12T17:32:48.687648Z",
     "iopub.status.busy": "2025-01-12T17:32:48.687350Z",
     "iopub.status.idle": "2025-01-12T17:32:48.807466Z",
     "shell.execute_reply": "2025-01-12T17:32:48.807065Z",
     "shell.execute_reply.started": "2025-01-12T17:32:48.687633Z"
    },
    "id": "XQjP2889YJxs",
    "outputId": "3e686d7b-0774-4bb5-c1b9-28e5b9f286a9"
   },
   "outputs": [
    {
     "name": "stdout",
     "output_type": "stream",
     "text": [
      "seaborn   : 0.13.2\n",
      "tqdm      : 4.67.1\n",
      "numpy     : 2.0.2\n",
      "pyfixest  : 0.27.0\n",
      "jax       : 0.4.35\n",
      "matplotlib: 3.9.2\n",
      "pandas    : 2.2.3\n",
      "\n"
     ]
    }
   ],
   "source": [
    "%load_ext watermark\n",
    "%watermark --iversions"
   ]
  },
  {
   "cell_type": "markdown",
   "metadata": {},
   "source": [
    "First, we define a function to simulate a test data set which closely mimics the data generating process in the original fixest benchmarks \n",
    "that produced the data for [this figure](https://raw.githubusercontent.com/lrberge/fixest/refs/heads/master/vignettes/images/benchmark_gaussian.png).\n",
    "\n",
    "In one slight adjustment, we allow to vary the number of regressors `k`, which in the original fixest dgp is always set to 1. "
   ]
  },
  {
   "cell_type": "code",
   "execution_count": 7,
   "metadata": {
    "colab": {
     "background_save": true
    },
    "execution": {
     "iopub.execute_input": "2025-01-12T17:32:57.667829Z",
     "iopub.status.busy": "2025-01-12T17:32:57.667533Z",
     "iopub.status.idle": "2025-01-12T17:32:57.674922Z",
     "shell.execute_reply": "2025-01-12T17:32:57.674530Z",
     "shell.execute_reply.started": "2025-01-12T17:32:57.667811Z"
    },
    "id": "bxMmeyCxR3fb"
   },
   "outputs": [],
   "source": [
    "def generate_test_data(size: int, k: int = 2):\n",
    "    \"\"\"\n",
    "    Generate benchmark data for pyfixest on GPU (similar to the R fixest benchmark data).\n",
    "\n",
    "    Args:\n",
    "        size (int): The number of observations in the data frame.\n",
    "        k (int): The number of covariates in the data frame.\n",
    "\n",
    "    Returns\n",
    "    -------\n",
    "        pd.DataFrame: The generated data frame for the given size.\n",
    "    \"\"\"\n",
    "    # Constants\n",
    "    all_n = [1000 * 10**i for i in range(5)]\n",
    "    a = 1\n",
    "    b = 0.05\n",
    "\n",
    "    n = all_n[size - 1]\n",
    "\n",
    "    dum_all = []\n",
    "    nb_dum = [n // 20, int(np.sqrt(n)), int(n**0.33)]\n",
    "\n",
    "    dum_all = np.zeros((n, 3))\n",
    "    dum_all[:, 0] = np.random.choice(nb_dum[0], n, replace=True)\n",
    "    dum_all[:, 1] = np.random.choice(nb_dum[1], n, replace=True)\n",
    "    dum_all[:, 2] = np.random.choice(nb_dum[2], n, replace=True)\n",
    "    dum_all = dum_all.astype(int)\n",
    "\n",
    "    X1 = np.random.normal(size=n)\n",
    "    X2 = X1**2\n",
    "\n",
    "    mu = a * X1 + b * X2\n",
    "\n",
    "    for m in range(3):\n",
    "        coef_dum = np.random.normal(size=nb_dum[m])\n",
    "        mu += coef_dum[dum_all[:, m]]\n",
    "\n",
    "    mu = np.exp(mu)\n",
    "    y = nbinom.rvs(0.5, 1 - (mu / (mu + 0.5)), size=n)\n",
    "\n",
    "    X_full = np.column_stack((X1, X2))\n",
    "    base = pd.DataFrame(\n",
    "        {\n",
    "            \"y\": y,\n",
    "            \"ln_y\": np.log(y + 1),\n",
    "            \"X1\": X1,\n",
    "            \"X2\": X2,\n",
    "        }\n",
    "    )\n",
    "\n",
    "    if k > 2:\n",
    "        X = np.random.normal(size=(n, k - 2))\n",
    "        X_df = pd.DataFrame(X, columns=[f\"X{i}\" for i in range(3, k + 1, 1)])\n",
    "        base = pd.concat([base, X_df], axis=1)\n",
    "        X_full = np.column_stack((X_full, X))\n",
    "\n",
    "    for m in range(3):\n",
    "        base[f\"dum_{m + 1}\"] = dum_all[:, m]\n",
    "\n",
    "    weights = np.random.uniform(0, 1, n)\n",
    "    return base, y, X_full, dum_all, weights"
   ]
  },
  {
   "cell_type": "code",
   "execution_count": 8,
   "metadata": {
    "execution": {
     "iopub.execute_input": "2025-01-12T17:32:58.338155Z",
     "iopub.status.busy": "2025-01-12T17:32:58.337681Z",
     "iopub.status.idle": "2025-01-12T17:32:58.528238Z",
     "shell.execute_reply": "2025-01-12T17:32:58.527784Z",
     "shell.execute_reply.started": "2025-01-12T17:32:58.338135Z"
    },
    "id": "nzynhbqwR81H"
   },
   "outputs": [],
   "source": [
    "df, Y, X, f, weights = generate_test_data(1)"
   ]
  },
  {
   "cell_type": "code",
   "execution_count": 9,
   "metadata": {
    "execution": {
     "iopub.execute_input": "2025-01-12T17:32:59.021156Z",
     "iopub.status.busy": "2025-01-12T17:32:59.020661Z",
     "iopub.status.idle": "2025-01-12T17:33:07.592808Z",
     "shell.execute_reply": "2025-01-12T17:33:07.592338Z",
     "shell.execute_reply.started": "2025-01-12T17:32:59.021136Z"
    }
   },
   "outputs": [
    {
     "name": "stdout",
     "output_type": "stream",
     "text": [
      "###\n",
      "\n",
      "Estimation:  OLS\n",
      "Dep. var.: ln_y, Fixed effects: dum_1\n",
      "Inference:  CRV1\n",
      "Observations:  1000\n",
      "\n",
      "| Coefficient   |   Estimate |   Std. Error |   t value |   Pr(>|t|) |   2.5% |   97.5% |\n",
      "|:--------------|-----------:|-------------:|----------:|-----------:|-------:|--------:|\n",
      "| X1            |      0.500 |        0.052 |     9.691 |      0.000 |  0.396 |   0.603 |\n",
      "---\n",
      "RMSE: 1.095 R2: 0.298 R2 Within: 0.159 \n",
      "CPU times: user 6.5 s, sys: 79.4 ms, total: 6.58 s\n",
      "Wall time: 6.53 s\n"
     ]
    }
   ],
   "source": [
    "%%time\n",
    "m0 = pf.feols(\"ln_y ~ X1 | dum_1\", df, demeaner_backend=\"numba\")\n",
    "m0.summary()"
   ]
  },
  {
   "cell_type": "code",
   "execution_count": 10,
   "metadata": {
    "execution": {
     "iopub.execute_input": "2025-01-12T17:33:07.593902Z",
     "iopub.status.busy": "2025-01-12T17:33:07.593680Z",
     "iopub.status.idle": "2025-01-12T17:33:08.654748Z",
     "shell.execute_reply": "2025-01-12T17:33:08.654117Z",
     "shell.execute_reply.started": "2025-01-12T17:33:07.593886Z"
    }
   },
   "outputs": [
    {
     "name": "stdout",
     "output_type": "stream",
     "text": [
      "###\n",
      "\n",
      "Estimation:  OLS\n",
      "Dep. var.: ln_y, Fixed effects: dum_1\n",
      "Inference:  CRV1\n",
      "Observations:  1000\n",
      "\n",
      "| Coefficient   |   Estimate |   Std. Error |   t value |   Pr(>|t|) |   2.5% |   97.5% |\n",
      "|:--------------|-----------:|-------------:|----------:|-----------:|-------:|--------:|\n",
      "| X1            |      0.500 |        0.052 |     9.691 |      0.000 |  0.396 |   0.603 |\n",
      "---\n",
      "RMSE: 1.095 R2: 0.298 R2 Within: 0.159 \n",
      "CPU times: user 239 ms, sys: 54.7 ms, total: 294 ms\n",
      "Wall time: 366 ms\n"
     ]
    }
   ],
   "source": [
    "%%time\n",
    "m1 = pf.feols(\"ln_y ~ X1 | dum_1\", df, demeaner_backend=\"jax\")\n",
    "m1.summary()"
   ]
  },
  {
   "cell_type": "markdown",
   "metadata": {},
   "source": [
    "The first-compute time is considerably shorter for JAX; it doesn't have cold-start overheads to the same extent as numba."
   ]
  },
  {
   "cell_type": "markdown",
   "metadata": {},
   "source": [
    "## Benchmark Function \n",
    "\n",
    "We know define a single function to run a benchmark for a given sample size `size = i x 1000`, number of regressors `k`, solver, \n",
    "and demeaning backend. Additionally, the function allows us to specify a set of fixed effects and if we want to run benchmarks only \n",
    "for a full call to `pf.feols()`, or if we additionally want to benchmark the demeaning process. "
   ]
  },
  {
   "cell_type": "code",
   "execution_count": 12,
   "metadata": {
    "execution": {
     "iopub.execute_input": "2025-01-12T17:33:12.478443Z",
     "iopub.status.busy": "2025-01-12T17:33:12.478163Z",
     "iopub.status.idle": "2025-01-12T17:33:12.485618Z",
     "shell.execute_reply": "2025-01-12T17:33:12.485067Z",
     "shell.execute_reply.started": "2025-01-12T17:33:12.478425Z"
    },
    "id": "29rZkULUR_A0"
   },
   "outputs": [],
   "source": [
    "def run_standard_benchmark(\n",
    "    fixed_effect,\n",
    "    demeaner_backend,\n",
    "    size=1,\n",
    "    k=1,\n",
    "    solver=\"np.linalg.lstsq\",\n",
    "    skip_demean_benchmark=True,\n",
    "    nrep=5,\n",
    "):\n",
    "    \"\"\"\n",
    "    Run the fixest standard benchmark fixed effect models. This is the function the benchmarks\n",
    "    will loop over.\n",
    "\n",
    "    Args:\n",
    "        fixed_effect (str): The fixed effect to use. Must be a list of variables as \"dum_1\", \"dum_1+dum_2\", or \"dum_1+dum_2+dum_3\", etc.\n",
    "        demeaner_backend (str): The backend to use for demeaning. Must be \"numba\" or \"jax\".\n",
    "        size (int): The size of the data to generate. Must be between 1 and 5. For 1, N = 1000, for 2, N = 10000, etc.\n",
    "        k_vals (int): The number of covariates to generate.\n",
    "        solver (str): The solver to use for the estimation. Must be \"np.linalg.lstsq\". \"jax\" currently throws an error.\n",
    "        skip_demean_benchmark (bool): Whether to skip the \"pure\" demean benchmark. Default is True. Only the full call\n",
    "            to feols is benchmarked.\n",
    "\n",
    "    \"\"\"\n",
    "    assert fixed_effect in [\"dum_1\", \"dum_1+dum_2\", \"dum_1+dum_2+dum_3\"]\n",
    "\n",
    "    # one fixed effect\n",
    "    res = []\n",
    "\n",
    "    fml_base = \"ln_y ~ X1\"\n",
    "    fml = f\"{fml_base} | {fixed_effect}\"\n",
    "\n",
    "    # warmup\n",
    "    df, y, X, f, weights = generate_test_data(1)\n",
    "    pf.feols(\n",
    "        fml,\n",
    "        data=df,\n",
    "        demeaner_backend=demeaner_backend,\n",
    "        store_data=False,\n",
    "        copy_data=False,\n",
    "        solver=solver,\n",
    "    )\n",
    "\n",
    "    if k > 1:\n",
    "        xfml = \"+\".join([f\"X{i}\" for i in range(2, k + 1, 1)])\n",
    "        fml = f\"{fml_base} + {xfml} | {fixed_effect}\"\n",
    "    else:\n",
    "        fml = f\"{fml_base} + X1 | {fixed_effect}\"\n",
    "\n",
    "    for rep in range(nrep):\n",
    "        df, Y, X, f, weights = generate_test_data(size=size, k=k)\n",
    "\n",
    "        tic1 = time.time()\n",
    "        pf.feols(\n",
    "            fml,\n",
    "            data=df,\n",
    "            demeaner_backend=demeaner_backend,\n",
    "            store_data=False,\n",
    "            copy_data=False,\n",
    "            solver=solver,\n",
    "        )\n",
    "        tic2 = time.time()\n",
    "\n",
    "        full_feols_timing = tic2 - tic1\n",
    "\n",
    "        demean_timing = np.nan\n",
    "        if not skip_demean_benchmark:\n",
    "            YX = np.column_stack((Y.reshape(-1, 1), X))\n",
    "            tic3 = time.time()\n",
    "            if demeaner_backend == \"jax\":\n",
    "                _, _ = demean_jax(YX, f, weights, tol=1e-10)\n",
    "            else:\n",
    "                _, _ = demean(YX, f, weights, tol=1e-10)\n",
    "            tic4 = time.time()\n",
    "            demean_timing = tic4 - tic3\n",
    "\n",
    "        res.append(\n",
    "            pd.Series(\n",
    "                {\n",
    "                    \"method\": \"feols\",\n",
    "                    \"solver\": solver,\n",
    "                    \"demeaner_backend\": demeaner_backend,\n",
    "                    \"n_obs\": df.shape[0],\n",
    "                    \"k\": k,\n",
    "                    \"G\": len(fixed_effect.split(\"+\")),\n",
    "                    \"rep\": rep + 1,\n",
    "                    \"full_feols_timing\": full_feols_timing,\n",
    "                    \"demean_timing\": demean_timing,\n",
    "                }\n",
    "            )\n",
    "        )\n",
    "\n",
    "    return pd.concat(res, axis=1).T"
   ]
  },
  {
   "cell_type": "code",
   "execution_count": 13,
   "metadata": {
    "execution": {
     "iopub.execute_input": "2025-01-12T17:33:13.195160Z",
     "iopub.status.busy": "2025-01-12T17:33:13.194858Z",
     "iopub.status.idle": "2025-01-12T17:33:14.970372Z",
     "shell.execute_reply": "2025-01-12T17:33:14.969929Z",
     "shell.execute_reply.started": "2025-01-12T17:33:13.195139Z"
    }
   },
   "outputs": [
    {
     "data": {
      "text/html": [
       "<div>\n",
       "<style scoped>\n",
       "    .dataframe tbody tr th:only-of-type {\n",
       "        vertical-align: middle;\n",
       "    }\n",
       "\n",
       "    .dataframe tbody tr th {\n",
       "        vertical-align: top;\n",
       "    }\n",
       "\n",
       "    .dataframe thead th {\n",
       "        text-align: right;\n",
       "    }\n",
       "</style>\n",
       "<table border=\"1\" class=\"dataframe\">\n",
       "  <thead>\n",
       "    <tr style=\"text-align: right;\">\n",
       "      <th></th>\n",
       "      <th>method</th>\n",
       "      <th>solver</th>\n",
       "      <th>demeaner_backend</th>\n",
       "      <th>n_obs</th>\n",
       "      <th>k</th>\n",
       "      <th>G</th>\n",
       "      <th>rep</th>\n",
       "      <th>full_feols_timing</th>\n",
       "      <th>demean_timing</th>\n",
       "    </tr>\n",
       "  </thead>\n",
       "  <tbody>\n",
       "    <tr>\n",
       "      <th>0</th>\n",
       "      <td>feols</td>\n",
       "      <td>np.linalg.lstsq</td>\n",
       "      <td>numba</td>\n",
       "      <td>1000</td>\n",
       "      <td>1</td>\n",
       "      <td>1</td>\n",
       "      <td>1</td>\n",
       "      <td>0.113831</td>\n",
       "      <td>NaN</td>\n",
       "    </tr>\n",
       "    <tr>\n",
       "      <th>1</th>\n",
       "      <td>feols</td>\n",
       "      <td>np.linalg.lstsq</td>\n",
       "      <td>numba</td>\n",
       "      <td>1000</td>\n",
       "      <td>1</td>\n",
       "      <td>1</td>\n",
       "      <td>2</td>\n",
       "      <td>0.109568</td>\n",
       "      <td>NaN</td>\n",
       "    </tr>\n",
       "    <tr>\n",
       "      <th>2</th>\n",
       "      <td>feols</td>\n",
       "      <td>np.linalg.lstsq</td>\n",
       "      <td>numba</td>\n",
       "      <td>1000</td>\n",
       "      <td>1</td>\n",
       "      <td>1</td>\n",
       "      <td>3</td>\n",
       "      <td>0.140634</td>\n",
       "      <td>NaN</td>\n",
       "    </tr>\n",
       "    <tr>\n",
       "      <th>3</th>\n",
       "      <td>feols</td>\n",
       "      <td>np.linalg.lstsq</td>\n",
       "      <td>numba</td>\n",
       "      <td>1000</td>\n",
       "      <td>1</td>\n",
       "      <td>1</td>\n",
       "      <td>4</td>\n",
       "      <td>0.107976</td>\n",
       "      <td>NaN</td>\n",
       "    </tr>\n",
       "    <tr>\n",
       "      <th>4</th>\n",
       "      <td>feols</td>\n",
       "      <td>np.linalg.lstsq</td>\n",
       "      <td>numba</td>\n",
       "      <td>1000</td>\n",
       "      <td>1</td>\n",
       "      <td>1</td>\n",
       "      <td>5</td>\n",
       "      <td>0.108512</td>\n",
       "      <td>NaN</td>\n",
       "    </tr>\n",
       "  </tbody>\n",
       "</table>\n",
       "</div>"
      ],
      "text/plain": [
       "  method           solver demeaner_backend n_obs  k  G rep full_feols_timing  \\\n",
       "0  feols  np.linalg.lstsq            numba  1000  1  1   1          0.113831   \n",
       "1  feols  np.linalg.lstsq            numba  1000  1  1   2          0.109568   \n",
       "2  feols  np.linalg.lstsq            numba  1000  1  1   3          0.140634   \n",
       "3  feols  np.linalg.lstsq            numba  1000  1  1   4          0.107976   \n",
       "4  feols  np.linalg.lstsq            numba  1000  1  1   5          0.108512   \n",
       "\n",
       "  demean_timing  \n",
       "0           NaN  \n",
       "1           NaN  \n",
       "2           NaN  \n",
       "3           NaN  \n",
       "4           NaN  "
      ]
     },
     "execution_count": 13,
     "metadata": {},
     "output_type": "execute_result"
    }
   ],
   "source": [
    "# test run numba\n",
    "run_standard_benchmark(fixed_effect=\"dum_1\", demeaner_backend=\"numba\", size=1, k=1)"
   ]
  },
  {
   "cell_type": "code",
   "execution_count": 14,
   "metadata": {
    "execution": {
     "iopub.execute_input": "2025-01-12T17:33:14.971401Z",
     "iopub.status.busy": "2025-01-12T17:33:14.971186Z",
     "iopub.status.idle": "2025-01-12T17:33:16.344683Z",
     "shell.execute_reply": "2025-01-12T17:33:16.344285Z",
     "shell.execute_reply.started": "2025-01-12T17:33:14.971387Z"
    }
   },
   "outputs": [
    {
     "data": {
      "text/html": [
       "<div>\n",
       "<style scoped>\n",
       "    .dataframe tbody tr th:only-of-type {\n",
       "        vertical-align: middle;\n",
       "    }\n",
       "\n",
       "    .dataframe tbody tr th {\n",
       "        vertical-align: top;\n",
       "    }\n",
       "\n",
       "    .dataframe thead th {\n",
       "        text-align: right;\n",
       "    }\n",
       "</style>\n",
       "<table border=\"1\" class=\"dataframe\">\n",
       "  <thead>\n",
       "    <tr style=\"text-align: right;\">\n",
       "      <th></th>\n",
       "      <th>method</th>\n",
       "      <th>solver</th>\n",
       "      <th>demeaner_backend</th>\n",
       "      <th>n_obs</th>\n",
       "      <th>k</th>\n",
       "      <th>G</th>\n",
       "      <th>rep</th>\n",
       "      <th>full_feols_timing</th>\n",
       "      <th>demean_timing</th>\n",
       "    </tr>\n",
       "  </thead>\n",
       "  <tbody>\n",
       "    <tr>\n",
       "      <th>0</th>\n",
       "      <td>feols</td>\n",
       "      <td>np.linalg.lstsq</td>\n",
       "      <td>jax</td>\n",
       "      <td>1000</td>\n",
       "      <td>1</td>\n",
       "      <td>1</td>\n",
       "      <td>1</td>\n",
       "      <td>0.123767</td>\n",
       "      <td>NaN</td>\n",
       "    </tr>\n",
       "    <tr>\n",
       "      <th>1</th>\n",
       "      <td>feols</td>\n",
       "      <td>np.linalg.lstsq</td>\n",
       "      <td>jax</td>\n",
       "      <td>1000</td>\n",
       "      <td>1</td>\n",
       "      <td>1</td>\n",
       "      <td>2</td>\n",
       "      <td>0.110617</td>\n",
       "      <td>NaN</td>\n",
       "    </tr>\n",
       "    <tr>\n",
       "      <th>2</th>\n",
       "      <td>feols</td>\n",
       "      <td>np.linalg.lstsq</td>\n",
       "      <td>jax</td>\n",
       "      <td>1000</td>\n",
       "      <td>1</td>\n",
       "      <td>1</td>\n",
       "      <td>3</td>\n",
       "      <td>0.111191</td>\n",
       "      <td>NaN</td>\n",
       "    </tr>\n",
       "    <tr>\n",
       "      <th>3</th>\n",
       "      <td>feols</td>\n",
       "      <td>np.linalg.lstsq</td>\n",
       "      <td>jax</td>\n",
       "      <td>1000</td>\n",
       "      <td>1</td>\n",
       "      <td>1</td>\n",
       "      <td>4</td>\n",
       "      <td>0.109355</td>\n",
       "      <td>NaN</td>\n",
       "    </tr>\n",
       "    <tr>\n",
       "      <th>4</th>\n",
       "      <td>feols</td>\n",
       "      <td>np.linalg.lstsq</td>\n",
       "      <td>jax</td>\n",
       "      <td>1000</td>\n",
       "      <td>1</td>\n",
       "      <td>1</td>\n",
       "      <td>5</td>\n",
       "      <td>0.110047</td>\n",
       "      <td>NaN</td>\n",
       "    </tr>\n",
       "  </tbody>\n",
       "</table>\n",
       "</div>"
      ],
      "text/plain": [
       "  method           solver demeaner_backend n_obs  k  G rep full_feols_timing  \\\n",
       "0  feols  np.linalg.lstsq              jax  1000  1  1   1          0.123767   \n",
       "1  feols  np.linalg.lstsq              jax  1000  1  1   2          0.110617   \n",
       "2  feols  np.linalg.lstsq              jax  1000  1  1   3          0.111191   \n",
       "3  feols  np.linalg.lstsq              jax  1000  1  1   4          0.109355   \n",
       "4  feols  np.linalg.lstsq              jax  1000  1  1   5          0.110047   \n",
       "\n",
       "  demean_timing  \n",
       "0           NaN  \n",
       "1           NaN  \n",
       "2           NaN  \n",
       "3           NaN  \n",
       "4           NaN  "
      ]
     },
     "execution_count": 14,
     "metadata": {},
     "output_type": "execute_result"
    }
   ],
   "source": [
    "# test run jax\n",
    "run_standard_benchmark(fixed_effect=\"dum_1\", demeaner_backend=\"jax\", size=1, k=1)"
   ]
  },
  {
   "cell_type": "code",
   "execution_count": 15,
   "metadata": {
    "execution": {
     "iopub.execute_input": "2025-01-12T17:33:18.469235Z",
     "iopub.status.busy": "2025-01-12T17:33:18.468934Z",
     "iopub.status.idle": "2025-01-12T17:33:18.473353Z",
     "shell.execute_reply": "2025-01-12T17:33:18.472915Z",
     "shell.execute_reply.started": "2025-01-12T17:33:18.469217Z"
    },
    "id": "HxsGRMSlR_jI"
   },
   "outputs": [],
   "source": [
    "def run_all_benchmarks(size_list, k_list):\n",
    "    \"\"\"\n",
    "    Run all the benchmarks.\n",
    "\n",
    "    Args:\n",
    "        size_list (list): The list of sizes to run the benchmarks on. 1-> 1000, 2-> 10000, ..., 5-> 10_000_000\n",
    "        k_list (list): The list of k values to run the benchmarks on.\n",
    "    \"\"\"\n",
    "    res = pd.DataFrame()\n",
    "\n",
    "    all_combinations = list(\n",
    "        product(\n",
    "            [\"numba\", \"jax\"],  # demeaner_backend\n",
    "            [\"dum_1\", \"dum_1+dum_2\", \"dum_1+dum_2+dum_3\"],  # fixef\n",
    "            size_list,  # size\n",
    "            k_list,  # k\n",
    "            [\"np.linalg.lstsq\"],  # solver\n",
    "        )\n",
    "    )\n",
    "\n",
    "    with tqdm(total=len(all_combinations), desc=\"Running Benchmarks\") as pbar:\n",
    "        for demeaner_backend, fixef, size, k, solver in all_combinations:\n",
    "            res = pd.concat(\n",
    "                [\n",
    "                    res,\n",
    "                    run_standard_benchmark(\n",
    "                        solver=solver,\n",
    "                        fixed_effect=fixef,\n",
    "                        demeaner_backend=demeaner_backend,\n",
    "                        size=size,\n",
    "                        k=k,\n",
    "                    ),\n",
    "                ],\n",
    "                axis=0,\n",
    "            )\n",
    "            pbar.update(1)  # Update the progress bar after each iteration\n",
    "\n",
    "    return res"
   ]
  },
  {
   "cell_type": "markdown",
   "metadata": {},
   "source": [
    "## Run Benchmarks"
   ]
  },
  {
   "cell_type": "code",
   "execution_count": 16,
   "metadata": {
    "colab": {
     "background_save": true,
     "base_uri": "https://localhost:8080/"
    },
    "execution": {
     "iopub.execute_input": "2025-01-12T17:33:19.512756Z",
     "iopub.status.busy": "2025-01-12T17:33:19.512476Z",
     "iopub.status.idle": "2025-01-12T21:24:48.969147Z",
     "shell.execute_reply": "2025-01-12T21:24:48.968541Z",
     "shell.execute_reply.started": "2025-01-12T17:33:19.512740Z"
    },
    "id": "gki1mlqvSEIi",
    "outputId": "3cb40095-df81-4e78-99a6-2410da237884"
   },
   "outputs": [
    {
     "name": "stderr",
     "output_type": "stream",
     "text": [
      "Running Benchmarks:  82%|████████▎ | 99/120 [1:28:18<38:19, 109.52s/it]  2025-01-12 16:53:40.179560: W external/xla/xla/hlo/transforms/simplifiers/hlo_rematerialization.cc:3020] Can't reduce memory use below 13.75GiB (14764290646 bytes) by rematerialization; only reduced to 15.81GiB (16972000129 bytes), down from 15.81GiB (16972000129 bytes) originally\n",
      "Running Benchmarks:  99%|█████████▉| 119/120 [1:45:29<01:50, 110.90s/it]  2025-01-12 17:10:50.500498: W external/xla/xla/hlo/transforms/simplifiers/hlo_rematerialization.cc:3020] Can't reduce memory use below 13.71GiB (14726290646 bytes) by rematerialization; only reduced to 15.81GiB (16972000137 bytes), down from 15.81GiB (16972000137 bytes) originally\n",
      "Running Benchmarks: 100%|██████████| 120/120 [1:54:24<00:00, 57.20s/it] "
     ]
    },
    {
     "name": "stdout",
     "output_type": "stream",
     "text": [
      "CPU times: user 3h 18min 29s, sys: 26min 39s, total: 3h 45min 9s\n",
      "Wall time: 1h 54min 24s\n"
     ]
    },
    {
     "name": "stderr",
     "output_type": "stream",
     "text": [
      "\n"
     ]
    }
   ],
   "source": [
    "%%time\n",
    "res_all = run_all_benchmarks(\n",
    "    size_list=[1, 2, 3, 4, 5],  # for N = 1000, 10_000, 100_000, 1_000_000, 10_000_000\n",
    "    k_list=[1, 10, 50, 100],  # for k = 1, 10, 50, 100\n",
    ")"
   ]
  },
  {
   "cell_type": "code",
   "execution_count": 18,
   "metadata": {
    "colab": {
     "background_save": true,
     "base_uri": "https://localhost:8080/"
    },
    "execution": {
     "iopub.execute_input": "2025-01-12T21:24:48.970311Z",
     "iopub.status.busy": "2025-01-12T21:24:48.970134Z",
     "iopub.status.idle": "2025-01-12T21:24:49.189456Z",
     "shell.execute_reply": "2025-01-12T21:24:49.189064Z",
     "shell.execute_reply.started": "2025-01-12T21:24:48.970295Z"
    },
    "id": "7zEIHj5nXXvq",
    "outputId": "238dedce-a9f5-4a1b-b9a2-b84d4a89c091"
   },
   "outputs": [
    {
     "data": {
      "text/html": [
       "<div>\n",
       "<style scoped>\n",
       "    .dataframe tbody tr th:only-of-type {\n",
       "        vertical-align: middle;\n",
       "    }\n",
       "\n",
       "    .dataframe tbody tr th {\n",
       "        vertical-align: top;\n",
       "    }\n",
       "\n",
       "    .dataframe thead th {\n",
       "        text-align: right;\n",
       "    }\n",
       "</style>\n",
       "<table border=\"1\" class=\"dataframe\">\n",
       "  <thead>\n",
       "    <tr style=\"text-align: right;\">\n",
       "      <th></th>\n",
       "      <th>method</th>\n",
       "      <th>demeaner_backend</th>\n",
       "      <th>k</th>\n",
       "      <th>G</th>\n",
       "      <th>n_obs</th>\n",
       "      <th>full_feols_timing</th>\n",
       "      <th>demean_timing</th>\n",
       "    </tr>\n",
       "  </thead>\n",
       "  <tbody>\n",
       "    <tr>\n",
       "      <th>0</th>\n",
       "      <td>feols</td>\n",
       "      <td>jax</td>\n",
       "      <td>1</td>\n",
       "      <td>1</td>\n",
       "      <td>1000</td>\n",
       "      <td>0.132004</td>\n",
       "      <td>NaN</td>\n",
       "    </tr>\n",
       "    <tr>\n",
       "      <th>1</th>\n",
       "      <td>feols</td>\n",
       "      <td>jax</td>\n",
       "      <td>1</td>\n",
       "      <td>1</td>\n",
       "      <td>10000</td>\n",
       "      <td>0.162957</td>\n",
       "      <td>NaN</td>\n",
       "    </tr>\n",
       "    <tr>\n",
       "      <th>2</th>\n",
       "      <td>feols</td>\n",
       "      <td>jax</td>\n",
       "      <td>1</td>\n",
       "      <td>1</td>\n",
       "      <td>100000</td>\n",
       "      <td>0.20829</td>\n",
       "      <td>NaN</td>\n",
       "    </tr>\n",
       "    <tr>\n",
       "      <th>3</th>\n",
       "      <td>feols</td>\n",
       "      <td>jax</td>\n",
       "      <td>1</td>\n",
       "      <td>1</td>\n",
       "      <td>1000000</td>\n",
       "      <td>0.428737</td>\n",
       "      <td>NaN</td>\n",
       "    </tr>\n",
       "    <tr>\n",
       "      <th>4</th>\n",
       "      <td>feols</td>\n",
       "      <td>jax</td>\n",
       "      <td>1</td>\n",
       "      <td>1</td>\n",
       "      <td>10000000</td>\n",
       "      <td>3.438257</td>\n",
       "      <td>NaN</td>\n",
       "    </tr>\n",
       "    <tr>\n",
       "      <th>...</th>\n",
       "      <td>...</td>\n",
       "      <td>...</td>\n",
       "      <td>...</td>\n",
       "      <td>...</td>\n",
       "      <td>...</td>\n",
       "      <td>...</td>\n",
       "      <td>...</td>\n",
       "    </tr>\n",
       "    <tr>\n",
       "      <th>115</th>\n",
       "      <td>feols</td>\n",
       "      <td>numba</td>\n",
       "      <td>100</td>\n",
       "      <td>3</td>\n",
       "      <td>1000</td>\n",
       "      <td>0.199722</td>\n",
       "      <td>NaN</td>\n",
       "    </tr>\n",
       "    <tr>\n",
       "      <th>116</th>\n",
       "      <td>feols</td>\n",
       "      <td>numba</td>\n",
       "      <td>100</td>\n",
       "      <td>3</td>\n",
       "      <td>10000</td>\n",
       "      <td>0.280761</td>\n",
       "      <td>NaN</td>\n",
       "    </tr>\n",
       "    <tr>\n",
       "      <th>117</th>\n",
       "      <td>feols</td>\n",
       "      <td>numba</td>\n",
       "      <td>100</td>\n",
       "      <td>3</td>\n",
       "      <td>100000</td>\n",
       "      <td>0.942488</td>\n",
       "      <td>NaN</td>\n",
       "    </tr>\n",
       "    <tr>\n",
       "      <th>118</th>\n",
       "      <td>feols</td>\n",
       "      <td>numba</td>\n",
       "      <td>100</td>\n",
       "      <td>3</td>\n",
       "      <td>1000000</td>\n",
       "      <td>8.141236</td>\n",
       "      <td>NaN</td>\n",
       "    </tr>\n",
       "    <tr>\n",
       "      <th>119</th>\n",
       "      <td>feols</td>\n",
       "      <td>numba</td>\n",
       "      <td>100</td>\n",
       "      <td>3</td>\n",
       "      <td>10000000</td>\n",
       "      <td>109.2167</td>\n",
       "      <td>NaN</td>\n",
       "    </tr>\n",
       "  </tbody>\n",
       "</table>\n",
       "<p>120 rows × 7 columns</p>\n",
       "</div>"
      ],
      "text/plain": [
       "    method demeaner_backend    k  G     n_obs full_feols_timing demean_timing\n",
       "0    feols              jax    1  1      1000          0.132004           NaN\n",
       "1    feols              jax    1  1     10000          0.162957           NaN\n",
       "2    feols              jax    1  1    100000           0.20829           NaN\n",
       "3    feols              jax    1  1   1000000          0.428737           NaN\n",
       "4    feols              jax    1  1  10000000          3.438257           NaN\n",
       "..     ...              ...  ... ..       ...               ...           ...\n",
       "115  feols            numba  100  3      1000          0.199722           NaN\n",
       "116  feols            numba  100  3     10000          0.280761           NaN\n",
       "117  feols            numba  100  3    100000          0.942488           NaN\n",
       "118  feols            numba  100  3   1000000          8.141236           NaN\n",
       "119  feols            numba  100  3  10000000          109.2167           NaN\n",
       "\n",
       "[120 rows x 7 columns]"
      ]
     },
     "execution_count": 18,
     "metadata": {},
     "output_type": "execute_result"
    }
   ],
   "source": [
    "df = (\n",
    "    res_all.drop([\"rep\", \"solver\"], axis=1)\n",
    "    .groupby([\"method\", \"demeaner_backend\", \"k\", \"G\", \"n_obs\"])\n",
    "    .mean()\n",
    "    .reset_index()\n",
    ")\n",
    "df"
   ]
  },
  {
   "cell_type": "code",
   "execution_count": 19,
   "metadata": {
    "execution": {
     "iopub.execute_input": "2025-01-12T21:27:23.122324Z",
     "iopub.status.busy": "2025-01-12T21:27:23.121966Z",
     "iopub.status.idle": "2025-01-12T21:27:23.147368Z",
     "shell.execute_reply": "2025-01-12T21:27:23.146834Z",
     "shell.execute_reply.started": "2025-01-12T21:27:23.122298Z"
    }
   },
   "outputs": [],
   "source": [
    "df.to_csv(\"gpu_runtime_res.csv\")"
   ]
  },
  {
   "cell_type": "markdown",
   "metadata": {
    "colab": {
     "background_save": true
    },
    "id": "VCn6O5MMXlBw"
   },
   "source": [
    "## Visualize Results"
   ]
  },
  {
   "cell_type": "code",
   "execution_count": 1,
   "metadata": {},
   "outputs": [],
   "source": [
    "import matplotlib.pyplot as plt\n",
    "import seaborn as sns"
   ]
  },
  {
   "cell_type": "code",
   "execution_count": 3,
   "metadata": {},
   "outputs": [
    {
     "data": {
      "text/html": [
       "<div>\n",
       "<style scoped>\n",
       "    .dataframe tbody tr th:only-of-type {\n",
       "        vertical-align: middle;\n",
       "    }\n",
       "\n",
       "    .dataframe tbody tr th {\n",
       "        vertical-align: top;\n",
       "    }\n",
       "\n",
       "    .dataframe thead th {\n",
       "        text-align: right;\n",
       "    }\n",
       "</style>\n",
       "<table border=\"1\" class=\"dataframe\">\n",
       "  <thead>\n",
       "    <tr style=\"text-align: right;\">\n",
       "      <th></th>\n",
       "      <th>Unnamed: 0</th>\n",
       "      <th>method</th>\n",
       "      <th>demeaner_backend</th>\n",
       "      <th>k</th>\n",
       "      <th>G</th>\n",
       "      <th>n_obs</th>\n",
       "      <th>full_feols_timing</th>\n",
       "      <th>demean_timing</th>\n",
       "    </tr>\n",
       "  </thead>\n",
       "  <tbody>\n",
       "    <tr>\n",
       "      <th>0</th>\n",
       "      <td>0</td>\n",
       "      <td>feols</td>\n",
       "      <td>jax</td>\n",
       "      <td>1</td>\n",
       "      <td>1</td>\n",
       "      <td>1000</td>\n",
       "      <td>0.132004</td>\n",
       "      <td>NaN</td>\n",
       "    </tr>\n",
       "    <tr>\n",
       "      <th>1</th>\n",
       "      <td>1</td>\n",
       "      <td>feols</td>\n",
       "      <td>jax</td>\n",
       "      <td>1</td>\n",
       "      <td>1</td>\n",
       "      <td>10000</td>\n",
       "      <td>0.162957</td>\n",
       "      <td>NaN</td>\n",
       "    </tr>\n",
       "    <tr>\n",
       "      <th>2</th>\n",
       "      <td>2</td>\n",
       "      <td>feols</td>\n",
       "      <td>jax</td>\n",
       "      <td>1</td>\n",
       "      <td>1</td>\n",
       "      <td>100000</td>\n",
       "      <td>0.208290</td>\n",
       "      <td>NaN</td>\n",
       "    </tr>\n",
       "    <tr>\n",
       "      <th>3</th>\n",
       "      <td>3</td>\n",
       "      <td>feols</td>\n",
       "      <td>jax</td>\n",
       "      <td>1</td>\n",
       "      <td>1</td>\n",
       "      <td>1000000</td>\n",
       "      <td>0.428737</td>\n",
       "      <td>NaN</td>\n",
       "    </tr>\n",
       "    <tr>\n",
       "      <th>4</th>\n",
       "      <td>4</td>\n",
       "      <td>feols</td>\n",
       "      <td>jax</td>\n",
       "      <td>1</td>\n",
       "      <td>1</td>\n",
       "      <td>10000000</td>\n",
       "      <td>3.438257</td>\n",
       "      <td>NaN</td>\n",
       "    </tr>\n",
       "  </tbody>\n",
       "</table>\n",
       "</div>"
      ],
      "text/plain": [
       "   Unnamed: 0 method demeaner_backend  k  G     n_obs  full_feols_timing  \\\n",
       "0           0  feols              jax  1  1      1000           0.132004   \n",
       "1           1  feols              jax  1  1     10000           0.162957   \n",
       "2           2  feols              jax  1  1    100000           0.208290   \n",
       "3           3  feols              jax  1  1   1000000           0.428737   \n",
       "4           4  feols              jax  1  1  10000000           3.438257   \n",
       "\n",
       "   demean_timing  \n",
       "0            NaN  \n",
       "1            NaN  \n",
       "2            NaN  \n",
       "3            NaN  \n",
       "4            NaN  "
      ]
     },
     "execution_count": 3,
     "metadata": {},
     "output_type": "execute_result"
    }
   ],
   "source": [
    "df = pd.read_csv(\"gpu_runtime_res.csv\")\n",
    "df.head()"
   ]
  },
  {
   "cell_type": "code",
   "execution_count": 4,
   "metadata": {
    "execution": {
     "iopub.execute_input": "2025-01-12T21:26:28.890365Z",
     "iopub.status.busy": "2025-01-12T21:26:28.889830Z",
     "iopub.status.idle": "2025-01-12T21:26:30.809435Z",
     "shell.execute_reply": "2025-01-12T21:26:30.809015Z",
     "shell.execute_reply.started": "2025-01-12T21:26:28.890345Z"
    }
   },
   "outputs": [],
   "source": [
    "df[\"G\"] = df[\"G\"].map({1: \"n_fixef = 1\", 2: \"n_fixef = 2\", 3: \"n_fixef = 3\"})\n",
    "df[\"n_obs\"] = df[\"n_obs\"].astype(str)"
   ]
  },
  {
   "cell_type": "code",
   "execution_count": 5,
   "metadata": {},
   "outputs": [
    {
     "data": {
      "image/png": "[encoded data removed]",
      "text/plain": [
       "<Figure size 1587.99x1600 with 12 Axes>"
      ]
     },
     "metadata": {},
     "output_type": "display_data"
    }
   ],
   "source": [
    "# Dynamically determine unique values for order and hue_order\n",
    "n_obs_order = sorted(df[\"n_obs\"].unique(), key=lambda x: int(x))  # Sort as integers\n",
    "demeaner_backend_order = df[\"demeaner_backend\"].unique()\n",
    "\n",
    "custom_palette = sns.color_palette(\"coolwarm\", n_colors=2)\n",
    "\n",
    "# Create the FacetGrid with reordered columns and rows\n",
    "g = sns.FacetGrid(\n",
    "    df,\n",
    "    col=\"G\",  # G (n_fixef) increases left to right\n",
    "    row=\"k\",  # k increases top to bottom\n",
    "    margin_titles=True,\n",
    "    height=4,\n",
    "    aspect=1.2,\n",
    "    col_order=[\"n_fixef = 1\", \"n_fixef = 2\", \"n_fixef = 3\"],  # Ensure correct order\n",
    "    sharey=False,\n",
    ")\n",
    "\n",
    "# Plot the bar chart for each facet with the custom palette\n",
    "g.map(\n",
    "    sns.barplot,\n",
    "    \"n_obs\",\n",
    "    \"full_feols_timing\",\n",
    "    \"demeaner_backend\",\n",
    "    order=n_obs_order,  # Dynamic order for n_obs\n",
    "    hue_order=demeaner_backend_order,  # Dynamic hue order for demeaner_backend\n",
    "    errorbar=None,  # Suppress error bars\n",
    "    palette=custom_palette,\n",
    ")\n",
    "\n",
    "# Add legend and adjust layout\n",
    "g.add_legend(title=\"Demeaner Backend\")\n",
    "g.set_axis_labels(\"Number of Observations\", \"Runtime (seconds)\")\n",
    "g.set_titles(row_template=\"k = {row_name}\", col_template=\"{col_name}\")\n",
    "plt.subplots_adjust(top=0.9)\n",
    "g.fig.suptitle(\"Runtime vs Number of Observations by n_fixef and k\")\n",
    "\n",
    "# Show plot\n",
    "plt.show()"
   ]
  }
 ],
 "metadata": {
  "colab": {
   "provenance": []
  },
  "kernelspec": {
   "display_name": ".venv",
   "language": "python",
   "name": "python3"
  },
  "language_info": {
   "codemirror_mode": {
    "name": "ipython",
    "version": 3
   },
   "file_extension": ".py",
   "mimetype": "text/x-python",
   "name": "python",
   "nbconvert_exporter": "python",
   "pygments_lexer": "ipython3",
   "version": "3.10.13"
  }
 },
 "nbformat": 4,
 "nbformat_minor": 4
}
