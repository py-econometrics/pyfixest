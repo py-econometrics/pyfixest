{
 "cells": [
  {
   "cell_type": "markdown",
   "metadata": {
    "execution": {
     "iopub.execute_input": "2025-01-09T00:23:28.917621Z",
     "iopub.status.busy": "2025-01-09T00:23:28.917332Z",
     "iopub.status.idle": "2025-01-09T00:23:29.477701Z",
     "shell.execute_reply": "2025-01-09T00:23:29.477193Z",
     "shell.execute_reply.started": "2025-01-09T00:23:28.917602Z"
    }
   },
   "source": [
    "# PyFixest on the GPU \n",
    "\n",
    "Through its JAX integration, it is possible to run PyFixest on the GPU. In this notebook, we benchmark the performance of PyFixest on the GPU via its \n",
    "`jax` backend and compare it to the performance of PyFixest on the CPU (via the default `numba` backend). \n",
    "\n",
    "All dependencies to run this notebook are available in the `docs` environment. "
   ]
  },
  {
   "cell_type": "code",
   "execution_count": 1,
   "metadata": {},
   "outputs": [
    {
     "data": {
      "text/html": [
       "\n",
       "            <div id=\"mS3owB\"></div>\n",
       "            <script type=\"text/javascript\" data-lets-plot-script=\"library\">\n",
       "                if(!window.letsPlotCallQueue) {\n",
       "                    window.letsPlotCallQueue = [];\n",
       "                }; \n",
       "                window.letsPlotCall = function(f) {\n",
       "                    window.letsPlotCallQueue.push(f);\n",
       "                };\n",
       "                (function() {\n",
       "                    var script = document.createElement(\"script\");\n",
       "                    script.type = \"text/javascript\";\n",
       "                    script.src = \"https://cdn.jsdelivr.net/gh/JetBrains/lets-plot@v4.5.2/js-package/distr/lets-plot.min.js\";\n",
       "                    script.onload = function() {\n",
       "                        window.letsPlotCall = function(f) {f();};\n",
       "                        window.letsPlotCallQueue.forEach(function(f) {f();});\n",
       "                        window.letsPlotCallQueue = [];\n",
       "                        \n",
       "                    };\n",
       "                    script.onerror = function(event) {\n",
       "                        window.letsPlotCall = function(f) {};    // noop\n",
       "                        window.letsPlotCallQueue = [];\n",
       "                        var div = document.createElement(\"div\");\n",
       "                        div.style.color = 'darkred';\n",
       "                        div.textContent = 'Error loading Lets-Plot JS';\n",
       "                        document.getElementById(\"mS3owB\").appendChild(div);\n",
       "                    };\n",
       "                    var e = document.getElementById(\"mS3owB\");\n",
       "                    e.appendChild(script);\n",
       "                })()\n",
       "            </script>\n",
       "            "
      ]
     },
     "metadata": {},
     "output_type": "display_data"
    },
    {
     "data": {
      "text/html": [
       "\n",
       "            <div id=\"YualCq\"></div>\n",
       "            <script type=\"text/javascript\" data-lets-plot-script=\"library\">\n",
       "                if(!window.letsPlotCallQueue) {\n",
       "                    window.letsPlotCallQueue = [];\n",
       "                }; \n",
       "                window.letsPlotCall = function(f) {\n",
       "                    window.letsPlotCallQueue.push(f);\n",
       "                };\n",
       "                (function() {\n",
       "                    var script = document.createElement(\"script\");\n",
       "                    script.type = \"text/javascript\";\n",
       "                    script.src = \"https://cdn.jsdelivr.net/gh/JetBrains/lets-plot@v4.5.2/js-package/distr/lets-plot.min.js\";\n",
       "                    script.onload = function() {\n",
       "                        window.letsPlotCall = function(f) {f();};\n",
       "                        window.letsPlotCallQueue.forEach(function(f) {f();});\n",
       "                        window.letsPlotCallQueue = [];\n",
       "                        \n",
       "                    };\n",
       "                    script.onerror = function(event) {\n",
       "                        window.letsPlotCall = function(f) {};    // noop\n",
       "                        window.letsPlotCallQueue = [];\n",
       "                        var div = document.createElement(\"div\");\n",
       "                        div.style.color = 'darkred';\n",
       "                        div.textContent = 'Error loading Lets-Plot JS';\n",
       "                        document.getElementById(\"YualCq\").appendChild(div);\n",
       "                    };\n",
       "                    var e = document.getElementById(\"YualCq\");\n",
       "                    e.appendChild(script);\n",
       "                })()\n",
       "            </script>\n",
       "            "
      ]
     },
     "metadata": {},
     "output_type": "display_data"
    }
   ],
   "source": [
    "import time\n",
    "from itertools import product\n",
    "\n",
    "import jax\n",
    "import jax.numpy as jnp\n",
    "import matplotlib.pyplot as plt\n",
    "import matplotlib.ticker as ticker\n",
    "import numpy as np\n",
    "import pandas as pd\n",
    "import seaborn as sns\n",
    "from scipy.stats import nbinom\n",
    "from tqdm import tqdm\n",
    "\n",
    "import pyfixest as pf\n",
    "from pyfixest.estimation.demean_ import demean\n",
    "from pyfixest.estimation.demean_jax_ import demean_jax\n",
    "\n",
    "rng = np.random.default_rng(239291)"
   ]
  },
  {
   "cell_type": "code",
   "execution_count": 2,
   "metadata": {},
   "outputs": [
    {
     "name": "stdout",
     "output_type": "stream",
     "text": [
      "Last updated: 2025-01-10T22:33:11.321606+01:00\n",
      "\n",
      "Python implementation: CPython\n",
      "Python version       : 3.12.8\n",
      "IPython version      : 8.31.0\n",
      "\n",
      "Compiler    : MSC v.1942 64 bit (AMD64)\n",
      "OS          : Windows\n",
      "Release     : 11\n",
      "Machine     : AMD64\n",
      "Processor   : Intel64 Family 6 Model 142 Stepping 12, GenuineIntel\n",
      "CPU cores   : 8\n",
      "Architecture: 64bit\n",
      "\n"
     ]
    }
   ],
   "source": [
    "%load_ext watermark\n",
    "%watermark"
   ]
  },
  {
   "cell_type": "code",
   "execution_count": 3,
   "metadata": {},
   "outputs": [
    {
     "name": "stderr",
     "output_type": "stream",
     "text": [
      "INFO:2025-01-10 22:33:11,368:jax._src.xla_bridge:927: Unable to initialize backend 'rocm': module 'jaxlib.xla_extension' has no attribute 'GpuAllocatorConfig'\n",
      "INFO:jax._src.xla_bridge:Unable to initialize backend 'rocm': module 'jaxlib.xla_extension' has no attribute 'GpuAllocatorConfig'\n",
      "INFO:2025-01-10 22:33:11,374:jax._src.xla_bridge:927: Unable to initialize backend 'tpu': UNIMPLEMENTED: LoadPjrtPlugin is not implemented on windows yet.\n",
      "INFO:jax._src.xla_bridge:Unable to initialize backend 'tpu': UNIMPLEMENTED: LoadPjrtPlugin is not implemented on windows yet.\n"
     ]
    },
    {
     "data": {
      "text/plain": [
       "[CpuDevice(id=0)]"
      ]
     },
     "execution_count": 3,
     "metadata": {},
     "output_type": "execute_result"
    }
   ],
   "source": [
    "# checking GPU connection\n",
    "jax.devices()"
   ]
  },
  {
   "cell_type": "code",
   "execution_count": 4,
   "metadata": {
    "execution": {
     "iopub.execute_input": "2025-01-09T00:23:30.540594Z",
     "iopub.status.busy": "2025-01-09T00:23:30.540228Z",
     "iopub.status.idle": "2025-01-09T00:23:30.739685Z",
     "shell.execute_reply": "2025-01-09T00:23:30.739213Z",
     "shell.execute_reply.started": "2025-01-09T00:23:30.540574Z"
    },
    "scrolled": true
   },
   "outputs": [
    {
     "data": {
      "text/plain": [
       "{CpuDevice(id=0)}"
      ]
     },
     "execution_count": 4,
     "metadata": {},
     "output_type": "execute_result"
    }
   ],
   "source": [
    "jnp.ones(10).devices()"
   ]
  },
  {
   "cell_type": "code",
   "execution_count": 5,
   "metadata": {
    "execution": {
     "iopub.execute_input": "2025-01-09T00:26:29.239253Z",
     "iopub.status.busy": "2025-01-09T00:26:29.238947Z",
     "iopub.status.idle": "2025-01-09T00:26:29.754752Z",
     "shell.execute_reply": "2025-01-09T00:26:29.754158Z",
     "shell.execute_reply.started": "2025-01-09T00:26:29.239235Z"
    }
   },
   "outputs": [
    {
     "name": "stderr",
     "output_type": "stream",
     "text": [
      "'nvidia-smi' is not recognized as an internal or external command,\n",
      "operable program or batch file.\n"
     ]
    }
   ],
   "source": [
    "# checking GPU availability\n",
    "!nvidia-smi"
   ]
  },
  {
   "cell_type": "markdown",
   "metadata": {},
   "source": [
    "First, we define a function to simulate a test data set which closely mimics the data generating process in the original fixest benchmarks \n",
    "that produced the data for [this figure](https://raw.githubusercontent.com/lrberge/fixest/refs/heads/master/vignettes/images/benchmark_gaussian.png).\n",
    "\n",
    "In one slight adjustment, we allow to vary the number of regressors `k`, which in the original fixest dgp is always set to 1. "
   ]
  },
  {
   "cell_type": "code",
   "execution_count": 6,
   "metadata": {
    "colab": {
     "background_save": true
    },
    "execution": {
     "iopub.execute_input": "2025-01-09T00:23:49.545271Z",
     "iopub.status.busy": "2025-01-09T00:23:49.545016Z",
     "iopub.status.idle": "2025-01-09T00:23:49.552123Z",
     "shell.execute_reply": "2025-01-09T00:23:49.551676Z",
     "shell.execute_reply.started": "2025-01-09T00:23:49.545253Z"
    },
    "id": "bxMmeyCxR3fb"
   },
   "outputs": [],
   "source": [
    "def generate_test_data(rng: np.random.Generator, size: int = 1, k: int = 2):\n",
    "    \"\"\"\n",
    "    Generate benchmark data for pyfixest on GPU (similar to the R fixest benchmark data).\n",
    "\n",
    "    Args:\n",
    "        rng (np.random.Generator): A numpy random number generator.\n",
    "        size (int): The number of observations in the data frame.\n",
    "        k (int): The number of covariates in the data frame.\n",
    "\n",
    "    Returns\n",
    "    -------\n",
    "        pd.DataFrame: The generated data frame for the given size.\n",
    "    \"\"\"\n",
    "    # Constants\n",
    "    all_n = [1000 * 10**i for i in range(5)]\n",
    "    a = 1\n",
    "    b = 0.05\n",
    "\n",
    "    n = all_n[size - 1]\n",
    "\n",
    "    dum_all = []\n",
    "    nb_dum = [n // 20, int(np.sqrt(n)), int(n**0.33)]\n",
    "\n",
    "    dum_all = np.zeros((n, 3))\n",
    "    dum_all[:, 0] = rng.choice(nb_dum[0], n, replace=True)\n",
    "    dum_all[:, 1] = rng.choice(nb_dum[1], n, replace=True)\n",
    "    dum_all[:, 2] = rng.choice(nb_dum[2], n, replace=True)\n",
    "    dum_all = dum_all.astype(int)\n",
    "\n",
    "    X1 = rng.normal(size=n)\n",
    "    X2 = X1**2\n",
    "\n",
    "    mu = a * X1 + b * X2\n",
    "\n",
    "    for m in range(3):\n",
    "        coef_dum = rng.normal(size=nb_dum[m])\n",
    "        mu += coef_dum[dum_all[:, m]]\n",
    "\n",
    "    mu = np.exp(mu)\n",
    "    y = nbinom.rvs(0.5, 1 - (mu / (mu + 0.5)), size=n, random_state=rng)\n",
    "\n",
    "    X_full = np.column_stack((X1, X2))\n",
    "    base = pd.DataFrame(\n",
    "        {\n",
    "            \"y\": y,\n",
    "            \"ln_y\": np.log1p(y),\n",
    "            \"X1\": X1,\n",
    "            \"X2\": X2,\n",
    "        }\n",
    "    )\n",
    "\n",
    "    if k > 2:\n",
    "        X = rng.normal(size=(n, k - 2))\n",
    "        X_df = pd.DataFrame(X, columns=[f\"X{i}\" for i in range(3, k + 1, 1)])\n",
    "        base = pd.concat([base, X_df], axis=1)\n",
    "        X_full = np.column_stack((X_full, X))\n",
    "\n",
    "    for m in range(3):\n",
    "        base[f\"dum_{m + 1}\"] = dum_all[:, m]\n",
    "\n",
    "    weights = rng.uniform(0, 1, n)\n",
    "    return base, y, X_full, dum_all, weights"
   ]
  },
  {
   "cell_type": "code",
   "execution_count": 7,
   "metadata": {
    "execution": {
     "iopub.execute_input": "2025-01-09T00:23:50.285297Z",
     "iopub.status.busy": "2025-01-09T00:23:50.284967Z",
     "iopub.status.idle": "2025-01-09T00:23:50.460957Z",
     "shell.execute_reply": "2025-01-09T00:23:50.460501Z",
     "shell.execute_reply.started": "2025-01-09T00:23:50.285276Z"
    },
    "id": "nzynhbqwR81H"
   },
   "outputs": [],
   "source": [
    "df, Y, X, f, weights = generate_test_data(rng=rng, size=1)"
   ]
  },
  {
   "cell_type": "markdown",
   "metadata": {},
   "source": [
    "We can now test the two backend based on the test data set:"
   ]
  },
  {
   "cell_type": "code",
   "execution_count": 8,
   "metadata": {
    "execution": {
     "iopub.execute_input": "2025-01-09T00:25:02.873750Z",
     "iopub.status.busy": "2025-01-09T00:25:02.873239Z",
     "iopub.status.idle": "2025-01-09T00:25:03.153458Z",
     "shell.execute_reply": "2025-01-09T00:25:03.153005Z",
     "shell.execute_reply.started": "2025-01-09T00:25:02.873732Z"
    }
   },
   "outputs": [
    {
     "data": {
      "text/html": [
       "<div id=\"xfentcykzp\" style=\"padding-left:0px;padding-right:0px;padding-top:10px;padding-bottom:10px;overflow-x:auto;overflow-y:auto;width:auto;height:auto;\">\n",
       "<style>\n",
       "#xfentcykzp table {\n",
       "          font-family: -apple-system, BlinkMacSystemFont, 'Segoe UI', Roboto, Oxygen, Ubuntu, Cantarell, 'Helvetica Neue', 'Fira Sans', 'Droid Sans', Arial, sans-serif;\n",
       "          -webkit-font-smoothing: antialiased;\n",
       "          -moz-osx-font-smoothing: grayscale;\n",
       "        }\n",
       "\n",
       "#xfentcykzp thead, tbody, tfoot, tr, td, th { border-style: none !important; }\n",
       " tr { background-color: transparent !important; }\n",
       "#xfentcykzp p { margin: 0 !important; padding: 0 !important; }\n",
       " #xfentcykzp .gt_table { display: table !important; border-collapse: collapse !important; line-height: normal !important; margin-left: auto !important; margin-right: auto !important; color: #333333 !important; font-size: 16px !important; font-weight: normal !important; font-style: normal !important; background-color: #FFFFFF !important; width: auto !important; border-top-style: solid !important; border-top-width: 2px !important; border-top-color: #A8A8A8 !important; border-right-style: none !important; border-right-width: 2px !important; border-right-color: #D3D3D3 !important; border-bottom-style: hidden !important; border-bottom-width: 2px !important; border-bottom-color: #A8A8A8 !important; border-left-style: none !important; border-left-width: 2px !important; border-left-color: #D3D3D3 !important; }\n",
       " #xfentcykzp .gt_caption { padding-top: 4px !important; padding-bottom: 4px !important; }\n",
       " #xfentcykzp .gt_title { color: #333333 !important; font-size: 125% !important; font-weight: initial !important; padding-top: 4px !important; padding-bottom: 4px !important; padding-left: 5px !important; padding-right: 5px !important; border-bottom-color: #FFFFFF !important; border-bottom-width: 0 !important; }\n",
       " #xfentcykzp .gt_subtitle { color: #333333 !important; font-size: 85% !important; font-weight: initial !important; padding-top: 3px !important; padding-bottom: 5px !important; padding-left: 5px !important; padding-right: 5px !important; border-top-color: #FFFFFF !important; border-top-width: 0 !important; }\n",
       " #xfentcykzp .gt_heading { background-color: #FFFFFF !important; text-align: center !important; border-bottom-color: #FFFFFF !important; border-left-style: none !important; border-left-width: 1px !important; border-left-color: #D3D3D3 !important; border-right-style: none !important; border-right-width: 1px !important; border-right-color: #D3D3D3 !important; }\n",
       " #xfentcykzp .gt_bottom_border { border-bottom-style: solid !important; border-bottom-width: 2px !important; border-bottom-color: #D3D3D3 !important; }\n",
       " #xfentcykzp .gt_col_headings { border-top-style: solid !important; border-top-width: 2px !important; border-top-color: black !important; border-bottom-style: solid !important; border-bottom-width: 0.5px !important; border-bottom-color: black !important; border-left-style: none !important; border-left-width: 1px !important; border-left-color: #D3D3D3 !important; border-right-style: none !important; border-right-width: 1px !important; border-right-color: #D3D3D3 !important; }\n",
       " #xfentcykzp .gt_col_heading { color: #333333 !important; background-color: #FFFFFF !important; font-size: 100% !important; font-weight: normal !important; text-transform: inherit !important; border-left-style: none !important; border-left-width: 0px !important; border-left-color: white !important; border-right-style: none !important; border-right-width: 0px !important; border-right-color: white !important; vertical-align: bottom !important; padding-top: 4px !important; padding-bottom: 5px !important; padding-left: 5px !important; padding-right: 5px !important; overflow-x: hidden !important; }\n",
       " #xfentcykzp .gt_column_spanner_outer { color: #333333 !important; background-color: #FFFFFF !important; font-size: 100% !important; font-weight: normal !important; text-transform: inherit !important; padding-top: 0 !important; padding-bottom: 0 !important; padding-left: 4px !important; padding-right: 4px !important; }\n",
       " #xfentcykzp .gt_column_spanner_outer:first-child { padding-left: 0 !important; }\n",
       " #xfentcykzp .gt_column_spanner_outer:last-child { padding-right: 0 !important; }\n",
       " #xfentcykzp .gt_column_spanner { border-bottom-style: solid !important; border-bottom-width: 0.5px !important; border-bottom-color: black !important; vertical-align: bottom !important; padding-top: 4px !important; padding-bottom: 4px !important; overflow-x: hidden !important; display: inline-block !important; width: 100% !important; }\n",
       " #xfentcykzp .gt_spanner_row { border-bottom-style: hidden !important; }\n",
       " #xfentcykzp .gt_group_heading { padding-top: 0px !important; padding-bottom: 0px !important; padding-left: 5px !important; padding-right: 5px !important; color: #333333 !important; background-color: #FFFFFF !important; font-size: 0px !important; font-weight: initial !important; text-transform: inherit !important; border-top-style: solid !important; border-top-width: 0.5px !important; border-top-color: black !important; border-bottom-style: solid !important; border-bottom-width: 0.5px !important; border-bottom-color: black !important; border-left-style: none !important; border-left-width: 1px !important; border-left-color: white !important; border-right-style: none !important; border-right-width: 1px !important; border-right-color: white !important; vertical-align: middle !important; text-align: left !important; }\n",
       " #xfentcykzp .gt_empty_group_heading { padding: 0.5px !important; color: #333333 !important; background-color: #FFFFFF !important; font-size: 0px !important; font-weight: initial !important; border-top-style: solid !important; border-top-width: 0.5px !important; border-top-color: black !important; border-bottom-style: solid !important; border-bottom-width: 0.5px !important; border-bottom-color: black !important; vertical-align: middle !important; }\n",
       " #xfentcykzp .gt_from_md> :first-child { margin-top: 0 !important; }\n",
       " #xfentcykzp .gt_from_md> :last-child { margin-bottom: 0 !important; }\n",
       " #xfentcykzp .gt_row { padding-top: 4px !important; padding-bottom: 4px !important; padding-left: 5px !important; padding-right: 5px !important; margin: 10px !important; border-top-style: none !important; border-top-width: 1px !important; border-top-color: #D3D3D3 !important; border-left-style: none !important; border-left-width: 0px !important; border-left-color: white !important; border-right-style: none !important; border-right-width: 0px !important; border-right-color: white !important; vertical-align: middle !important; overflow-x: hidden !important; }\n",
       " #xfentcykzp .gt_stub { color: #333333 !important; background-color: #FFFFFF !important; font-size: 100% !important; font-weight: initial !important; text-transform: inherit !important; border-right-style: hidden !important; border-right-width: 2px !important; border-right-color: #D3D3D3 !important; padding-left: 5px !important; padding-right: 5px !important; }\n",
       " #xfentcykzp .gt_stub_row_group { color: #333333 !important; background-color: #FFFFFF !important; font-size: 100% !important; font-weight: initial !important; text-transform: inherit !important; border-right-style: solid !important; border-right-width: 2px !important; border-right-color: #D3D3D3 !important; padding-left: 5px !important; padding-right: 5px !important; vertical-align: top !important; }\n",
       " #xfentcykzp .gt_row_group_first td { border-top-width: 0.5px !important; }\n",
       " #xfentcykzp .gt_row_group_first th { border-top-width: 0.5px !important; }\n",
       " #xfentcykzp .gt_striped { background-color: rgba(128,128,128,0.05) !important; }\n",
       " #xfentcykzp .gt_table_body { border-top-style: solid !important; border-top-width: 0.5px !important; border-top-color: black !important; border-bottom-style: solid !important; border-bottom-width: 2px !important; border-bottom-color: black !important; }\n",
       " #xfentcykzp .gt_sourcenotes { color: #333333 !important; background-color: #FFFFFF !important; border-bottom-style: none !important; border-bottom-width: 2px !important; border-bottom-color: #D3D3D3 !important; border-left-style: none !important; border-left-width: 2px !important; border-left-color: #D3D3D3 !important; border-right-style: none !important; border-right-width: 2px !important; border-right-color: #D3D3D3 !important; }\n",
       " #xfentcykzp .gt_sourcenote { font-size: 90% !important; padding-top: 4px !important; padding-bottom: 4px !important; padding-left: 5px !important; padding-right: 5px !important; text-align: left !important; }\n",
       " #xfentcykzp .gt_left { text-align: left !important; }\n",
       " #xfentcykzp .gt_center { text-align: center !important; }\n",
       " #xfentcykzp .gt_right { text-align: right !important; font-variant-numeric: tabular-nums !important; }\n",
       " #xfentcykzp .gt_font_normal { font-weight: normal !important; }\n",
       " #xfentcykzp .gt_font_bold { font-weight: bold !important; }\n",
       " #xfentcykzp .gt_font_italic { font-style: italic !important; }\n",
       " #xfentcykzp .gt_super { font-size: 65% !important; }\n",
       " #xfentcykzp .gt_footnote_marks { font-size: 75% !important; vertical-align: 0.4em !important; position: initial !important; }\n",
       " #xfentcykzp .gt_asterisk { font-size: 100% !important; vertical-align: 0 !important; }\n",
       " \n",
       "</style>\n",
       "<table class=\"gt_table\" data-quarto-disable-processing=\"false\" data-quarto-bootstrap=\"false\">\n",
       "<thead>\n",
       "\n",
       "<tr class=\"gt_col_headings gt_spanner_row\">\n",
       "  <th class=\"gt_col_heading gt_columns_bottom_border gt_left\" rowspan=\"2\" colspan=\"1\" scope=\"col\" id=\"\"></th>\n",
       "  <th class=\"gt_center gt_columns_top_border gt_column_spanner_outer\" rowspan=\"1\" colspan=\"2\" scope=\"colgroup\" id=\"ln_y\">\n",
       "    <span class=\"gt_column_spanner\">ln_y</span>\n",
       "  </th>\n",
       "</tr>\n",
       "<tr class=\"gt_col_headings\">\n",
       "  <th class=\"gt_col_heading gt_columns_bottom_border gt_center\" rowspan=\"1\" colspan=\"1\" scope=\"col\" id=\"(1)\">(1)</th>\n",
       "  <th class=\"gt_col_heading gt_columns_bottom_border gt_center\" rowspan=\"1\" colspan=\"1\" scope=\"col\" id=\"(2)\">(2)</th>\n",
       "</tr>\n",
       "</thead>\n",
       "<tbody class=\"gt_table_body\">\n",
       "  <tr class=\"gt_group_heading_row\">\n",
       "    <th class=\"gt_group_heading\" colspan=\"3\">coef</th>\n",
       "  </tr>\n",
       "  <tr>\n",
       "    <th class=\"gt_row gt_left gt_stub\">X1</th>\n",
       "    <td class=\"gt_row gt_center\">0.257668*** <br> (0.029134)</td>\n",
       "    <td class=\"gt_row gt_center\">0.257668*** <br> (0.029134)</td>\n",
       "  </tr>\n",
       "  <tr class=\"gt_group_heading_row\">\n",
       "    <th class=\"gt_group_heading\" colspan=\"3\">fe</th>\n",
       "  </tr>\n",
       "  <tr>\n",
       "    <th class=\"gt_row gt_left gt_stub\">dum_1</th>\n",
       "    <td class=\"gt_row gt_center\">x</td>\n",
       "    <td class=\"gt_row gt_center\">x</td>\n",
       "  </tr>\n",
       "  <tr class=\"gt_group_heading_row\">\n",
       "    <th class=\"gt_group_heading\" colspan=\"3\">stats</th>\n",
       "  </tr>\n",
       "  <tr>\n",
       "    <th class=\"gt_row gt_left gt_stub\">Observations</th>\n",
       "    <td class=\"gt_row gt_center\">1000</td>\n",
       "    <td class=\"gt_row gt_center\">1000</td>\n",
       "  </tr>\n",
       "  <tr>\n",
       "    <th class=\"gt_row gt_left gt_stub\">S.E. type</th>\n",
       "    <td class=\"gt_row gt_center\">by: dum_1</td>\n",
       "    <td class=\"gt_row gt_center\">by: dum_1</td>\n",
       "  </tr>\n",
       "  <tr>\n",
       "    <th class=\"gt_row gt_left gt_stub\">R<sup>2</sup></th>\n",
       "    <td class=\"gt_row gt_center\">0.283080</td>\n",
       "    <td class=\"gt_row gt_center\">0.283080</td>\n",
       "  </tr>\n",
       "</tbody>\n",
       "  <tfoot class=\"gt_sourcenotes\">\n",
       "  \n",
       "  <tr>\n",
       "    <td class=\"gt_sourcenote\" colspan=\"3\">Significance levels: * p &lt; 0.05, ** p &lt; 0.01, *** p &lt; 0.001. Format of coefficient cell:\n",
       "Coefficient \n",
       " (Std. Error)</td>\n",
       "  </tr>\n",
       "\n",
       "</tfoot>\n",
       "\n",
       "</table>\n",
       "\n",
       "</div>\n",
       "        "
      ],
      "text/plain": [
       "GT(_tbl_data=  level_0        level_1                            0  \\\n",
       "0    coef             X1  0.257668*** <br> (0.029134)   \n",
       "1      fe          dum_1                            x   \n",
       "2   stats   Observations                         1000   \n",
       "3   stats      S.E. type                    by: dum_1   \n",
       "4   stats  R<sup>2</sup>                     0.283080   \n",
       "\n",
       "                             1  \n",
       "0  0.257668*** <br> (0.029134)  \n",
       "1                            x  \n",
       "2                         1000  \n",
       "3                    by: dum_1  \n",
       "4                     0.283080  , _body=<great_tables._gt_data.Body object at 0x000001D338E01580>, _boxhead=Boxhead([ColInfo(var='level_0', type=<ColInfoTypeEnum.row_group: 3>, column_label='level_0', column_align='center', column_width=None), ColInfo(var='level_1', type=<ColInfoTypeEnum.stub: 2>, column_label='level_1', column_align='center', column_width=None), ColInfo(var='0', type=<ColInfoTypeEnum.default: 1>, column_label='(1)', column_align='center', column_width=None), ColInfo(var='1', type=<ColInfoTypeEnum.default: 1>, column_label='(2)', column_align='center', column_width=None)]), _stub=<great_tables._gt_data.Stub object at 0x000001D3384C89E0>, _spanners=Spanners([SpannerInfo(spanner_id='ln_y', spanner_level=1, spanner_label='ln_y', spanner_units=None, spanner_pattern=None, vars=['0', '1'], built=None)]), _heading=Heading(title=None, subtitle=None, preheader=None), _stubhead=None, _source_notes=['Significance levels: * p < 0.05, ** p < 0.01, *** p < 0.001. Format of coefficient cell:\\nCoefficient \\n (Std. Error)'], _footnotes=[], _styles=[], _locale=<great_tables._gt_data.Locale object at 0x000001D3384C8650>, _formats=[], _substitutions=[], _options=Options(table_id=OptionsInfo(scss=False, category='table', type='value', value=None), table_caption=OptionsInfo(scss=False, category='table', type='value', value=None), table_width=OptionsInfo(scss=True, category='table', type='px', value='auto'), table_layout=OptionsInfo(scss=True, category='table', type='value', value='fixed'), table_margin_left=OptionsInfo(scss=True, category='table', type='px', value='auto'), table_margin_right=OptionsInfo(scss=True, category='table', type='px', value='auto'), table_background_color=OptionsInfo(scss=True, category='table', type='value', value='#FFFFFF'), table_additional_css=OptionsInfo(scss=False, category='table', type='values', value=[]), table_font_names=OptionsInfo(scss=False, category='table', type='values', value=['-apple-system', 'BlinkMacSystemFont', 'Segoe UI', 'Roboto', 'Oxygen', 'Ubuntu', 'Cantarell', 'Helvetica Neue', 'Fira Sans', 'Droid Sans', 'Arial', 'sans-serif']), table_font_size=OptionsInfo(scss=True, category='table', type='px', value='16px'), table_font_weight=OptionsInfo(scss=True, category='table', type='value', value='normal'), table_font_style=OptionsInfo(scss=True, category='table', type='value', value='normal'), table_font_color=OptionsInfo(scss=True, category='table', type='value', value='#333333'), table_font_color_light=OptionsInfo(scss=True, category='table', type='value', value='#FFFFFF'), table_border_top_include=OptionsInfo(scss=False, category='table', type='boolean', value=True), table_border_top_style=OptionsInfo(scss=True, category='table', type='value', value='solid'), table_border_top_width=OptionsInfo(scss=True, category='table', type='px', value='2px'), table_border_top_color=OptionsInfo(scss=True, category='table', type='value', value='#A8A8A8'), table_border_right_style=OptionsInfo(scss=True, category='table', type='value', value='none'), table_border_right_width=OptionsInfo(scss=True, category='table', type='px', value='2px'), table_border_right_color=OptionsInfo(scss=True, category='table', type='value', value='#D3D3D3'), table_border_bottom_include=OptionsInfo(scss=False, category='table', type='boolean', value=True), table_border_bottom_style=OptionsInfo(scss=True, category='table', type='value', value='hidden'), table_border_bottom_width=OptionsInfo(scss=True, category='table', type='px', value='2px'), table_border_bottom_color=OptionsInfo(scss=True, category='table', type='value', value='#A8A8A8'), table_border_left_style=OptionsInfo(scss=True, category='table', type='value', value='none'), table_border_left_width=OptionsInfo(scss=True, category='table', type='px', value='2px'), table_border_left_color=OptionsInfo(scss=True, category='table', type='value', value='#D3D3D3'), heading_background_color=OptionsInfo(scss=True, category='heading', type='value', value=None), heading_align=OptionsInfo(scss=True, category='heading', type='value', value='center'), heading_title_font_size=OptionsInfo(scss=True, category='heading', type='px', value='125%'), heading_title_font_weight=OptionsInfo(scss=True, category='heading', type='value', value='initial'), heading_subtitle_font_size=OptionsInfo(scss=True, category='heading', type='px', value='85%'), heading_subtitle_font_weight=OptionsInfo(scss=True, category='heading', type='value', value='initial'), heading_padding=OptionsInfo(scss=True, category='heading', type='px', value='4px'), heading_padding_horizontal=OptionsInfo(scss=True, category='heading', type='px', value='5px'), heading_border_bottom_style=OptionsInfo(scss=True, category='heading', type='value', value='solid'), heading_border_bottom_width=OptionsInfo(scss=True, category='heading', type='px', value='2px'), heading_border_bottom_color=OptionsInfo(scss=True, category='heading', type='value', value='#D3D3D3'), heading_border_lr_style=OptionsInfo(scss=True, category='heading', type='value', value='none'), heading_border_lr_width=OptionsInfo(scss=True, category='heading', type='px', value='1px'), heading_border_lr_color=OptionsInfo(scss=True, category='heading', type='value', value='#D3D3D3'), column_labels_background_color=OptionsInfo(scss=True, category='column_labels', type='value', value=None), column_labels_font_size=OptionsInfo(scss=True, category='column_labels', type='px', value='100%'), column_labels_font_weight=OptionsInfo(scss=True, category='column_labels', type='value', value='normal'), column_labels_text_transform=OptionsInfo(scss=True, category='column_labels', type='value', value='inherit'), column_labels_padding=OptionsInfo(scss=True, category='column_labels', type='px', value='4px'), column_labels_padding_horizontal=OptionsInfo(scss=True, category='column_labels', type='px', value='5px'), column_labels_vlines_style=OptionsInfo(scss=True, category='table_body', type='value', value='none'), column_labels_vlines_width=OptionsInfo(scss=True, category='table_body', type='px', value='0px'), column_labels_vlines_color=OptionsInfo(scss=True, category='table_body', type='value', value='white'), column_labels_border_top_style=OptionsInfo(scss=True, category='column_labels', type='value', value='solid'), column_labels_border_top_width=OptionsInfo(scss=True, category='column_labels', type='px', value='2px'), column_labels_border_top_color=OptionsInfo(scss=True, category='column_labels', type='value', value='black'), column_labels_border_bottom_style=OptionsInfo(scss=True, category='column_labels', type='value', value='solid'), column_labels_border_bottom_width=OptionsInfo(scss=True, category='column_labels', type='px', value='0.5px'), column_labels_border_bottom_color=OptionsInfo(scss=True, category='column_labels', type='value', value='black'), column_labels_border_lr_style=OptionsInfo(scss=True, category='column_labels', type='value', value='none'), column_labels_border_lr_width=OptionsInfo(scss=True, category='column_labels', type='px', value='1px'), column_labels_border_lr_color=OptionsInfo(scss=True, category='column_labels', type='value', value='#D3D3D3'), column_labels_hidden=OptionsInfo(scss=False, category='column_labels', type='boolean', value=False), row_group_background_color=OptionsInfo(scss=True, category='row_group', type='value', value=None), row_group_font_size=OptionsInfo(scss=True, category='row_group', type='px', value='0px'), row_group_font_weight=OptionsInfo(scss=True, category='row_group', type='value', value='initial'), row_group_text_transform=OptionsInfo(scss=True, category='row_group', type='value', value='inherit'), row_group_padding=OptionsInfo(scss=True, category='row_group', type='px', value='0px'), row_group_padding_horizontal=OptionsInfo(scss=True, category='row_group', type='px', value='5px'), row_group_border_top_style=OptionsInfo(scss=True, category='row_group', type='value', value='solid'), row_group_border_top_width=OptionsInfo(scss=True, category='row_group', type='px', value='0.5px'), row_group_border_top_color=OptionsInfo(scss=True, category='row_group', type='value', value='black'), row_group_border_right_style=OptionsInfo(scss=True, category='row_group', type='value', value='none'), row_group_border_right_width=OptionsInfo(scss=True, category='row_group', type='px', value='1px'), row_group_border_right_color=OptionsInfo(scss=True, category='row_group', type='value', value='white'), row_group_border_bottom_style=OptionsInfo(scss=True, category='row_group', type='value', value='solid'), row_group_border_bottom_width=OptionsInfo(scss=True, category='row_group', type='px', value='0.5px'), row_group_border_bottom_color=OptionsInfo(scss=True, category='row_group', type='value', value='black'), row_group_border_left_style=OptionsInfo(scss=True, category='row_group', type='value', value='none'), row_group_border_left_width=OptionsInfo(scss=True, category='row_group', type='px', value='1px'), row_group_border_left_color=OptionsInfo(scss=True, category='row_group', type='value', value='white'), row_group_as_column=OptionsInfo(scss=False, category='row_group', type='boolean', value=False), table_body_hlines_style=OptionsInfo(scss=True, category='table_body', type='value', value='none'), table_body_hlines_width=OptionsInfo(scss=True, category='table_body', type='px', value='1px'), table_body_hlines_color=OptionsInfo(scss=True, category='table_body', type='value', value='#D3D3D3'), table_body_vlines_style=OptionsInfo(scss=True, category='table_body', type='value', value='none'), table_body_vlines_width=OptionsInfo(scss=True, category='table_body', type='px', value='0px'), table_body_vlines_color=OptionsInfo(scss=True, category='table_body', type='value', value='white'), table_body_border_top_style=OptionsInfo(scss=True, category='table_body', type='value', value='solid'), table_body_border_top_width=OptionsInfo(scss=True, category='table_body', type='px', value='0.5px'), table_body_border_top_color=OptionsInfo(scss=True, category='table_body', type='value', value='black'), table_body_border_bottom_style=OptionsInfo(scss=True, category='table_body', type='value', value='solid'), table_body_border_bottom_width=OptionsInfo(scss=True, category='table_body', type='px', value='2px'), table_body_border_bottom_color=OptionsInfo(scss=True, category='table_body', type='value', value='black'), data_row_padding=OptionsInfo(scss=True, category='data_row', type='px', value='4px'), data_row_padding_horizontal=OptionsInfo(scss=True, category='data_row', type='px', value='5px'), stub_background_color=OptionsInfo(scss=True, category='stub', type='value', value=None), stub_font_size=OptionsInfo(scss=True, category='stub', type='px', value='100%'), stub_font_weight=OptionsInfo(scss=True, category='stub', type='value', value='initial'), stub_text_transform=OptionsInfo(scss=True, category='stub', type='value', value='inherit'), stub_border_style=OptionsInfo(scss=True, category='stub', type='value', value='hidden'), stub_border_width=OptionsInfo(scss=True, category='stub', type='px', value='2px'), stub_border_color=OptionsInfo(scss=True, category='stub', type='value', value='#D3D3D3'), stub_row_group_background_color=OptionsInfo(scss=True, category='stub', type='value', value=None), stub_row_group_font_size=OptionsInfo(scss=True, category='stub', type='px', value='100%'), stub_row_group_font_weight=OptionsInfo(scss=True, category='stub', type='value', value='initial'), stub_row_group_text_transform=OptionsInfo(scss=True, category='stub', type='value', value='inherit'), stub_row_group_border_style=OptionsInfo(scss=True, category='stub', type='value', value='solid'), stub_row_group_border_width=OptionsInfo(scss=True, category='stub', type='px', value='2px'), stub_row_group_border_color=OptionsInfo(scss=True, category='stub', type='value', value='#D3D3D3'), source_notes_padding=OptionsInfo(scss=True, category='source_notes', type='px', value='4px'), source_notes_padding_horizontal=OptionsInfo(scss=True, category='source_notes', type='px', value='5px'), source_notes_background_color=OptionsInfo(scss=True, category='source_notes', type='value', value=None), source_notes_font_size=OptionsInfo(scss=True, category='source_notes', type='px', value='90%'), source_notes_border_bottom_style=OptionsInfo(scss=True, category='source_notes', type='value', value='none'), source_notes_border_bottom_width=OptionsInfo(scss=True, category='source_notes', type='px', value='2px'), source_notes_border_bottom_color=OptionsInfo(scss=True, category='source_notes', type='value', value='#D3D3D3'), source_notes_border_lr_style=OptionsInfo(scss=True, category='source_notes', type='value', value='none'), source_notes_border_lr_width=OptionsInfo(scss=True, category='source_notes', type='px', value='2px'), source_notes_border_lr_color=OptionsInfo(scss=True, category='source_notes', type='value', value='#D3D3D3'), source_notes_multiline=OptionsInfo(scss=False, category='source_notes', type='boolean', value=True), source_notes_sep=OptionsInfo(scss=False, category='source_notes', type='value', value=' '), row_striping_background_color=OptionsInfo(scss=True, category='row', type='value', value='rgba(128,128,128,0.05)'), row_striping_include_stub=OptionsInfo(scss=False, category='row', type='boolean', value=False), row_striping_include_table_body=OptionsInfo(scss=False, category='row', type='boolean', value=False), container_width=OptionsInfo(scss=False, category='container', type='px', value='auto'), container_height=OptionsInfo(scss=False, category='container', type='px', value='auto'), container_padding_x=OptionsInfo(scss=False, category='container', type='px', value='0px'), container_padding_y=OptionsInfo(scss=False, category='container', type='px', value='10px'), container_overflow_x=OptionsInfo(scss=False, category='container', type='overflow', value='auto'), container_overflow_y=OptionsInfo(scss=False, category='container', type='overflow', value='auto'), quarto_disable_processing=OptionsInfo(scss=False, category='quarto', type='logical', value=False), quarto_use_bootstrap=OptionsInfo(scss=False, category='quarto', type='logical', value=False)), _has_built=False)"
      ]
     },
     "execution_count": 8,
     "metadata": {},
     "output_type": "execute_result"
    }
   ],
   "source": [
    "m0 = pf.feols(\"ln_y ~ X1 | dum_1\", df, demeaner_backend=\"numba\")\n",
    "m1 = pf.feols(\"ln_y ~ X1 | dum_1\", df, demeaner_backend=\"jax\")\n",
    "pf.etable([m0, m1], digits=6)"
   ]
  },
  {
   "cell_type": "markdown",
   "metadata": {},
   "source": [
    "We know define a single function to run a benchmark for a given sample size `size = i x 1000`, number of regressors `k`, solver, \n",
    "and demeaning backend. Additionally, the function allows us to specify a set of fixed effects and if we want to run benchmarks only \n",
    "for a full call to `pf.feols()`, or if we additionally want to benchmark the demeaning process. "
   ]
  },
  {
   "cell_type": "code",
   "execution_count": 9,
   "metadata": {
    "execution": {
     "iopub.execute_input": "2025-01-09T00:24:06.619552Z",
     "iopub.status.busy": "2025-01-09T00:24:06.619273Z",
     "iopub.status.idle": "2025-01-09T00:24:06.626298Z",
     "shell.execute_reply": "2025-01-09T00:24:06.625727Z",
     "shell.execute_reply.started": "2025-01-09T00:24:06.619534Z"
    },
    "id": "29rZkULUR_A0"
   },
   "outputs": [],
   "source": [
    "def run_standard_benchmark(\n",
    "    rng,\n",
    "    fixed_effect,\n",
    "    demeaner_backend,\n",
    "    size=1,\n",
    "    k=1,\n",
    "    solver=\"np.linalg.lstsq\",\n",
    "    skip_demean_benchmark=True,\n",
    "):\n",
    "    \"\"\"\n",
    "    Run the fixest standard benchmark fixed effect models. This is the function the benchmarks\n",
    "    will loop over.\n",
    "\n",
    "    Args:\n",
    "        rng (np.random.Generator): A numpy random number generator.\n",
    "        fixed_effect (str): The fixed effect to use. Must be a list of variables as \"dum_1\", \"dum_1+dum_2\", or \"dum_1+dum_2+dum_3\", etc.\n",
    "        demeaner_backend (str): The backend to use for demeaning. Must be \"numba\" or \"jax\".\n",
    "        size (int): The size of the data to generate. Must be between 1 and 5. For 1, N = 1000, for 2, N = 10000, etc.\n",
    "        k_vals (int): The number of covariates to generate.\n",
    "        solver (str): The solver to use for the estimation. Must be \"np.linalg.lstsq\". \"jax\" currently throws an error.\n",
    "        skip_demean_benchmark (bool): Whether to skip the \"pure\" demean benchmark. Default is True. Only the full call\n",
    "            to feols is benchmarked.\n",
    "\n",
    "    \"\"\"\n",
    "    assert fixed_effect in [\"dum_1\", \"dum_1+dum_2\", \"dum_1+dum_2+dum_3\"]\n",
    "\n",
    "    # one fixed effect\n",
    "    res = []\n",
    "\n",
    "    fml_base = \"ln_y ~ X1\"\n",
    "    fml = f\"{fml_base} | {fixed_effect}\"\n",
    "\n",
    "    # warmup\n",
    "    df, y, X, f, weights = generate_test_data(rng=rng, size=1)\n",
    "    pf.feols(\n",
    "        fml,\n",
    "        data=df,\n",
    "        demeaner_backend=demeaner_backend,\n",
    "        store_data=False,\n",
    "        copy_data=False,\n",
    "        solver=solver,\n",
    "    )\n",
    "\n",
    "    if not skip_demean_benchmark:\n",
    "        if demeaner_backend == \"jax\":\n",
    "            _, _ = demean_jax(X, f, weights, tol=1e-10)\n",
    "        else:\n",
    "            _, _ = demean(X, f, weights, tol=1e-10)\n",
    "\n",
    "    if k > 1:\n",
    "        xfml = \"+\".join([f\"X{i}\" for i in range(2, k + 1, 1)])\n",
    "        fml = f\"{fml_base} + {xfml} | {fixed_effect}\"\n",
    "    else:\n",
    "        fml = f\"{fml_base} + X1 | {fixed_effect}\"\n",
    "\n",
    "    for rep in range(1, 11):\n",
    "        df, Y, X, f, weights = generate_test_data(rng=rng, size=size, k=k)\n",
    "\n",
    "        tic1 = time.time()\n",
    "        pf.feols(\n",
    "            fml,\n",
    "            data=df,\n",
    "            demeaner_backend=demeaner_backend,\n",
    "            store_data=False,\n",
    "            copy_data=False,\n",
    "            solver=solver,\n",
    "        )\n",
    "        tic2 = time.time()\n",
    "\n",
    "        full_feols_timing = tic2 - tic1\n",
    "\n",
    "        demean_timing = np.nan\n",
    "        if not skip_demean_benchmark:\n",
    "            YX = np.column_stack((Y.reshape(-1, 1), X))\n",
    "            tic3 = time.time()\n",
    "            if demeaner_backend == \"jax\":\n",
    "                _, _ = demean_jax(YX, f, weights, tol=1e-10)\n",
    "            else:\n",
    "                _, _ = demean(YX, f, weights, tol=1e-10)\n",
    "            tic4 = time.time()\n",
    "            demean_timing = tic4 - tic3\n",
    "\n",
    "        res.append(\n",
    "            pd.Series(\n",
    "                {\n",
    "                    \"method\": \"feols\",\n",
    "                    \"solver\": solver,\n",
    "                    \"demeaner_backend\": demeaner_backend,\n",
    "                    \"n_obs\": df.shape[0],\n",
    "                    \"k\": k,\n",
    "                    \"G\": len(fixed_effect.split(\"+\")),\n",
    "                    \"rep\": rep,\n",
    "                    \"full_feols_timing\": full_feols_timing,\n",
    "                    \"demean_timing\": demean_timing,\n",
    "                }\n",
    "            )\n",
    "        )\n",
    "\n",
    "    return pd.concat(res, axis=1).T"
   ]
  },
  {
   "cell_type": "markdown",
   "metadata": {},
   "source": [
    "## A first simple benchmark "
   ]
  },
  {
   "cell_type": "markdown",
   "metadata": {},
   "source": [
    "For a simple example, we see that `pf.feols()` does not spend a lot of time on the demeaning step."
   ]
  },
  {
   "cell_type": "code",
   "execution_count": 10,
   "metadata": {
    "execution": {
     "iopub.execute_input": "2025-01-09T00:28:43.818536Z",
     "iopub.status.busy": "2025-01-09T00:28:43.818246Z",
     "iopub.status.idle": "2025-01-09T00:28:51.489202Z",
     "shell.execute_reply": "2025-01-09T00:28:51.488591Z",
     "shell.execute_reply.started": "2025-01-09T00:28:43.818520Z"
    }
   },
   "outputs": [
    {
     "data": {
      "text/html": [
       "<div>\n",
       "<style scoped>\n",
       "    .dataframe tbody tr th:only-of-type {\n",
       "        vertical-align: middle;\n",
       "    }\n",
       "\n",
       "    .dataframe tbody tr th {\n",
       "        vertical-align: top;\n",
       "    }\n",
       "\n",
       "    .dataframe thead th {\n",
       "        text-align: right;\n",
       "    }\n",
       "</style>\n",
       "<table border=\"1\" class=\"dataframe\">\n",
       "  <thead>\n",
       "    <tr style=\"text-align: right;\">\n",
       "      <th></th>\n",
       "      <th>method</th>\n",
       "      <th>solver</th>\n",
       "      <th>demeaner_backend</th>\n",
       "      <th>n_obs</th>\n",
       "      <th>k</th>\n",
       "      <th>G</th>\n",
       "      <th>rep</th>\n",
       "      <th>full_feols_timing</th>\n",
       "      <th>demean_timing</th>\n",
       "    </tr>\n",
       "  </thead>\n",
       "  <tbody>\n",
       "    <tr>\n",
       "      <th>0</th>\n",
       "      <td>feols</td>\n",
       "      <td>np.linalg.lstsq</td>\n",
       "      <td>numba</td>\n",
       "      <td>1000</td>\n",
       "      <td>1</td>\n",
       "      <td>1</td>\n",
       "      <td>1</td>\n",
       "      <td>0.160429</td>\n",
       "      <td>0.0</td>\n",
       "    </tr>\n",
       "    <tr>\n",
       "      <th>1</th>\n",
       "      <td>feols</td>\n",
       "      <td>np.linalg.lstsq</td>\n",
       "      <td>numba</td>\n",
       "      <td>1000</td>\n",
       "      <td>1</td>\n",
       "      <td>1</td>\n",
       "      <td>2</td>\n",
       "      <td>0.131225</td>\n",
       "      <td>0.0</td>\n",
       "    </tr>\n",
       "    <tr>\n",
       "      <th>2</th>\n",
       "      <td>feols</td>\n",
       "      <td>np.linalg.lstsq</td>\n",
       "      <td>numba</td>\n",
       "      <td>1000</td>\n",
       "      <td>1</td>\n",
       "      <td>1</td>\n",
       "      <td>3</td>\n",
       "      <td>0.131626</td>\n",
       "      <td>0.0</td>\n",
       "    </tr>\n",
       "    <tr>\n",
       "      <th>3</th>\n",
       "      <td>feols</td>\n",
       "      <td>np.linalg.lstsq</td>\n",
       "      <td>numba</td>\n",
       "      <td>1000</td>\n",
       "      <td>1</td>\n",
       "      <td>1</td>\n",
       "      <td>4</td>\n",
       "      <td>0.135497</td>\n",
       "      <td>0.001003</td>\n",
       "    </tr>\n",
       "    <tr>\n",
       "      <th>4</th>\n",
       "      <td>feols</td>\n",
       "      <td>np.linalg.lstsq</td>\n",
       "      <td>numba</td>\n",
       "      <td>1000</td>\n",
       "      <td>1</td>\n",
       "      <td>1</td>\n",
       "      <td>5</td>\n",
       "      <td>0.130112</td>\n",
       "      <td>0.001006</td>\n",
       "    </tr>\n",
       "    <tr>\n",
       "      <th>5</th>\n",
       "      <td>feols</td>\n",
       "      <td>np.linalg.lstsq</td>\n",
       "      <td>numba</td>\n",
       "      <td>1000</td>\n",
       "      <td>1</td>\n",
       "      <td>1</td>\n",
       "      <td>6</td>\n",
       "      <td>0.133429</td>\n",
       "      <td>0.0</td>\n",
       "    </tr>\n",
       "    <tr>\n",
       "      <th>6</th>\n",
       "      <td>feols</td>\n",
       "      <td>np.linalg.lstsq</td>\n",
       "      <td>numba</td>\n",
       "      <td>1000</td>\n",
       "      <td>1</td>\n",
       "      <td>1</td>\n",
       "      <td>7</td>\n",
       "      <td>0.147166</td>\n",
       "      <td>0.0</td>\n",
       "    </tr>\n",
       "    <tr>\n",
       "      <th>7</th>\n",
       "      <td>feols</td>\n",
       "      <td>np.linalg.lstsq</td>\n",
       "      <td>numba</td>\n",
       "      <td>1000</td>\n",
       "      <td>1</td>\n",
       "      <td>1</td>\n",
       "      <td>8</td>\n",
       "      <td>0.140105</td>\n",
       "      <td>0.000984</td>\n",
       "    </tr>\n",
       "    <tr>\n",
       "      <th>8</th>\n",
       "      <td>feols</td>\n",
       "      <td>np.linalg.lstsq</td>\n",
       "      <td>numba</td>\n",
       "      <td>1000</td>\n",
       "      <td>1</td>\n",
       "      <td>1</td>\n",
       "      <td>9</td>\n",
       "      <td>0.158601</td>\n",
       "      <td>0.001009</td>\n",
       "    </tr>\n",
       "    <tr>\n",
       "      <th>9</th>\n",
       "      <td>feols</td>\n",
       "      <td>np.linalg.lstsq</td>\n",
       "      <td>numba</td>\n",
       "      <td>1000</td>\n",
       "      <td>1</td>\n",
       "      <td>1</td>\n",
       "      <td>10</td>\n",
       "      <td>0.156101</td>\n",
       "      <td>0.000999</td>\n",
       "    </tr>\n",
       "  </tbody>\n",
       "</table>\n",
       "</div>"
      ],
      "text/plain": [
       "  method           solver demeaner_backend n_obs  k  G rep full_feols_timing  \\\n",
       "0  feols  np.linalg.lstsq            numba  1000  1  1   1          0.160429   \n",
       "1  feols  np.linalg.lstsq            numba  1000  1  1   2          0.131225   \n",
       "2  feols  np.linalg.lstsq            numba  1000  1  1   3          0.131626   \n",
       "3  feols  np.linalg.lstsq            numba  1000  1  1   4          0.135497   \n",
       "4  feols  np.linalg.lstsq            numba  1000  1  1   5          0.130112   \n",
       "5  feols  np.linalg.lstsq            numba  1000  1  1   6          0.133429   \n",
       "6  feols  np.linalg.lstsq            numba  1000  1  1   7          0.147166   \n",
       "7  feols  np.linalg.lstsq            numba  1000  1  1   8          0.140105   \n",
       "8  feols  np.linalg.lstsq            numba  1000  1  1   9          0.158601   \n",
       "9  feols  np.linalg.lstsq            numba  1000  1  1  10          0.156101   \n",
       "\n",
       "  demean_timing  \n",
       "0           0.0  \n",
       "1           0.0  \n",
       "2           0.0  \n",
       "3      0.001003  \n",
       "4      0.001006  \n",
       "5           0.0  \n",
       "6           0.0  \n",
       "7      0.000984  \n",
       "8      0.001009  \n",
       "9      0.000999  "
      ]
     },
     "execution_count": 10,
     "metadata": {},
     "output_type": "execute_result"
    }
   ],
   "source": [
    "# test run numba\n",
    "run_standard_benchmark(\n",
    "    rng=rng,\n",
    "    fixed_effect=\"dum_1\",\n",
    "    demeaner_backend=\"numba\",\n",
    "    size=1,\n",
    "    k=1,\n",
    "    skip_demean_benchmark=False,\n",
    ")"
   ]
  },
  {
   "cell_type": "code",
   "execution_count": 11,
   "metadata": {
    "execution": {
     "iopub.execute_input": "2025-01-09T00:28:43.818536Z",
     "iopub.status.busy": "2025-01-09T00:28:43.818246Z",
     "iopub.status.idle": "2025-01-09T00:28:51.489202Z",
     "shell.execute_reply": "2025-01-09T00:28:51.488591Z",
     "shell.execute_reply.started": "2025-01-09T00:28:43.818520Z"
    }
   },
   "outputs": [
    {
     "data": {
      "text/html": [
       "<div>\n",
       "<style scoped>\n",
       "    .dataframe tbody tr th:only-of-type {\n",
       "        vertical-align: middle;\n",
       "    }\n",
       "\n",
       "    .dataframe tbody tr th {\n",
       "        vertical-align: top;\n",
       "    }\n",
       "\n",
       "    .dataframe thead th {\n",
       "        text-align: right;\n",
       "    }\n",
       "</style>\n",
       "<table border=\"1\" class=\"dataframe\">\n",
       "  <thead>\n",
       "    <tr style=\"text-align: right;\">\n",
       "      <th></th>\n",
       "      <th>method</th>\n",
       "      <th>solver</th>\n",
       "      <th>demeaner_backend</th>\n",
       "      <th>n_obs</th>\n",
       "      <th>k</th>\n",
       "      <th>G</th>\n",
       "      <th>rep</th>\n",
       "      <th>full_feols_timing</th>\n",
       "      <th>demean_timing</th>\n",
       "    </tr>\n",
       "  </thead>\n",
       "  <tbody>\n",
       "    <tr>\n",
       "      <th>0</th>\n",
       "      <td>feols</td>\n",
       "      <td>np.linalg.lstsq</td>\n",
       "      <td>jax</td>\n",
       "      <td>1000</td>\n",
       "      <td>1</td>\n",
       "      <td>1</td>\n",
       "      <td>1</td>\n",
       "      <td>0.146162</td>\n",
       "      <td>0.196979</td>\n",
       "    </tr>\n",
       "    <tr>\n",
       "      <th>1</th>\n",
       "      <td>feols</td>\n",
       "      <td>np.linalg.lstsq</td>\n",
       "      <td>jax</td>\n",
       "      <td>1000</td>\n",
       "      <td>1</td>\n",
       "      <td>1</td>\n",
       "      <td>2</td>\n",
       "      <td>0.146127</td>\n",
       "      <td>0.011776</td>\n",
       "    </tr>\n",
       "    <tr>\n",
       "      <th>2</th>\n",
       "      <td>feols</td>\n",
       "      <td>np.linalg.lstsq</td>\n",
       "      <td>jax</td>\n",
       "      <td>1000</td>\n",
       "      <td>1</td>\n",
       "      <td>1</td>\n",
       "      <td>3</td>\n",
       "      <td>0.153895</td>\n",
       "      <td>0.012497</td>\n",
       "    </tr>\n",
       "    <tr>\n",
       "      <th>3</th>\n",
       "      <td>feols</td>\n",
       "      <td>np.linalg.lstsq</td>\n",
       "      <td>jax</td>\n",
       "      <td>1000</td>\n",
       "      <td>1</td>\n",
       "      <td>1</td>\n",
       "      <td>4</td>\n",
       "      <td>0.164696</td>\n",
       "      <td>0.012709</td>\n",
       "    </tr>\n",
       "    <tr>\n",
       "      <th>4</th>\n",
       "      <td>feols</td>\n",
       "      <td>np.linalg.lstsq</td>\n",
       "      <td>jax</td>\n",
       "      <td>1000</td>\n",
       "      <td>1</td>\n",
       "      <td>1</td>\n",
       "      <td>5</td>\n",
       "      <td>0.147778</td>\n",
       "      <td>0.012649</td>\n",
       "    </tr>\n",
       "    <tr>\n",
       "      <th>5</th>\n",
       "      <td>feols</td>\n",
       "      <td>np.linalg.lstsq</td>\n",
       "      <td>jax</td>\n",
       "      <td>1000</td>\n",
       "      <td>1</td>\n",
       "      <td>1</td>\n",
       "      <td>6</td>\n",
       "      <td>0.156842</td>\n",
       "      <td>0.012004</td>\n",
       "    </tr>\n",
       "    <tr>\n",
       "      <th>6</th>\n",
       "      <td>feols</td>\n",
       "      <td>np.linalg.lstsq</td>\n",
       "      <td>jax</td>\n",
       "      <td>1000</td>\n",
       "      <td>1</td>\n",
       "      <td>1</td>\n",
       "      <td>7</td>\n",
       "      <td>0.144683</td>\n",
       "      <td>0.012104</td>\n",
       "    </tr>\n",
       "    <tr>\n",
       "      <th>7</th>\n",
       "      <td>feols</td>\n",
       "      <td>np.linalg.lstsq</td>\n",
       "      <td>jax</td>\n",
       "      <td>1000</td>\n",
       "      <td>1</td>\n",
       "      <td>1</td>\n",
       "      <td>8</td>\n",
       "      <td>0.144666</td>\n",
       "      <td>0.011525</td>\n",
       "    </tr>\n",
       "    <tr>\n",
       "      <th>8</th>\n",
       "      <td>feols</td>\n",
       "      <td>np.linalg.lstsq</td>\n",
       "      <td>jax</td>\n",
       "      <td>1000</td>\n",
       "      <td>1</td>\n",
       "      <td>1</td>\n",
       "      <td>9</td>\n",
       "      <td>0.138009</td>\n",
       "      <td>0.009692</td>\n",
       "    </tr>\n",
       "    <tr>\n",
       "      <th>9</th>\n",
       "      <td>feols</td>\n",
       "      <td>np.linalg.lstsq</td>\n",
       "      <td>jax</td>\n",
       "      <td>1000</td>\n",
       "      <td>1</td>\n",
       "      <td>1</td>\n",
       "      <td>10</td>\n",
       "      <td>0.13397</td>\n",
       "      <td>0.01277</td>\n",
       "    </tr>\n",
       "  </tbody>\n",
       "</table>\n",
       "</div>"
      ],
      "text/plain": [
       "  method           solver demeaner_backend n_obs  k  G rep full_feols_timing  \\\n",
       "0  feols  np.linalg.lstsq              jax  1000  1  1   1          0.146162   \n",
       "1  feols  np.linalg.lstsq              jax  1000  1  1   2          0.146127   \n",
       "2  feols  np.linalg.lstsq              jax  1000  1  1   3          0.153895   \n",
       "3  feols  np.linalg.lstsq              jax  1000  1  1   4          0.164696   \n",
       "4  feols  np.linalg.lstsq              jax  1000  1  1   5          0.147778   \n",
       "5  feols  np.linalg.lstsq              jax  1000  1  1   6          0.156842   \n",
       "6  feols  np.linalg.lstsq              jax  1000  1  1   7          0.144683   \n",
       "7  feols  np.linalg.lstsq              jax  1000  1  1   8          0.144666   \n",
       "8  feols  np.linalg.lstsq              jax  1000  1  1   9          0.138009   \n",
       "9  feols  np.linalg.lstsq              jax  1000  1  1  10           0.13397   \n",
       "\n",
       "  demean_timing  \n",
       "0      0.196979  \n",
       "1      0.011776  \n",
       "2      0.012497  \n",
       "3      0.012709  \n",
       "4      0.012649  \n",
       "5      0.012004  \n",
       "6      0.012104  \n",
       "7      0.011525  \n",
       "8      0.009692  \n",
       "9       0.01277  "
      ]
     },
     "execution_count": 11,
     "metadata": {},
     "output_type": "execute_result"
    }
   ],
   "source": [
    "# test run jax\n",
    "run_standard_benchmark(\n",
    "    rng=rng,\n",
    "    fixed_effect=\"dum_1\",\n",
    "    demeaner_backend=\"jax\",\n",
    "    size=1,\n",
    "    k=1,\n",
    "    skip_demean_benchmark=False,\n",
    ")"
   ]
  },
  {
   "cell_type": "markdown",
   "metadata": {},
   "source": [
    "## Systematic benchmarking\n",
    "\n",
    "We now want to run more systematic benchmarks on differences in performance on CPU vs GPU. \n",
    "We will run benchmarks for different sets of fixed effects, sample sizes, and number of regressors. Our workhorse \n",
    "function for the task is `run_all_benchmarks` defined below: "
   ]
  },
  {
   "cell_type": "code",
   "execution_count": 12,
   "metadata": {
    "execution": {
     "iopub.execute_input": "2025-01-09T00:25:39.248695Z",
     "iopub.status.busy": "2025-01-09T00:25:39.248317Z",
     "iopub.status.idle": "2025-01-09T00:25:39.253652Z",
     "shell.execute_reply": "2025-01-09T00:25:39.253000Z",
     "shell.execute_reply.started": "2025-01-09T00:25:39.248671Z"
    },
    "id": "HxsGRMSlR_jI"
   },
   "outputs": [],
   "source": [
    "def run_all_benchmarks(rng, size_list, k_list, skip_demean_benchmark):\n",
    "    \"\"\"\n",
    "    Run all the benchmarks.\n",
    "\n",
    "    Args:\n",
    "        rng (np.random.Generator): A numpy random number generator.\n",
    "        size_list (list): The list of sizes to run the benchmarks on. 1-> 1000, 2-> 10000, ..., 5-> 10_000_000\n",
    "        k_list (list): The list of k values to run the benchmarks on.\n",
    "        skip_demean_benchmark (bool): Whether to skip the \"pure\" demean benchmark.\n",
    "    \"\"\"\n",
    "    res = pd.DataFrame()\n",
    "\n",
    "    all_combinations = list(\n",
    "        product(\n",
    "            [\"numba\", \"jax\"],  # demeaner_backend\n",
    "            [\"dum_1\", \"dum_1+dum_2\", \"dum_1+dum_2+dum_3\"],  # fixef\n",
    "            size_list,  # size\n",
    "            k_list,  # k\n",
    "            [\"np.linalg.lstsq\"],  # solver\n",
    "        )\n",
    "    )\n",
    "\n",
    "    with tqdm(total=len(all_combinations), desc=\"Running Benchmarks\") as pbar:\n",
    "        for demeaner_backend, fixef, size, k, solver in all_combinations:\n",
    "            res = pd.concat(\n",
    "                [\n",
    "                    res,\n",
    "                    run_standard_benchmark(\n",
    "                        rng=rng,\n",
    "                        solver=solver,\n",
    "                        fixed_effect=fixef,\n",
    "                        demeaner_backend=demeaner_backend,\n",
    "                        size=size,\n",
    "                        k=k,\n",
    "                        skip_demean_benchmark=skip_demean_benchmark,\n",
    "                    ),\n",
    "                ],\n",
    "                axis=0,\n",
    "            )\n",
    "            pbar.update(1)  # Update the progress bar after each iteration\n",
    "\n",
    "    return res"
   ]
  },
  {
   "cell_type": "markdown",
   "metadata": {},
   "source": [
    "## Run Benchmarks"
   ]
  },
  {
   "cell_type": "code",
   "execution_count": 14,
   "metadata": {
    "colab": {
     "background_save": true,
     "base_uri": "https://localhost:8080/"
    },
    "execution": {
     "iopub.execute_input": "2025-01-09T00:25:39.962554Z",
     "iopub.status.busy": "2025-01-09T00:25:39.962039Z",
     "iopub.status.idle": "2025-01-09T00:26:25.319310Z",
     "shell.execute_reply": "2025-01-09T00:26:25.318687Z",
     "shell.execute_reply.started": "2025-01-09T00:25:39.962536Z"
    },
    "id": "gki1mlqvSEIi",
    "outputId": "3cb40095-df81-4e78-99a6-2410da237884"
   },
   "outputs": [
    {
     "name": "stderr",
     "output_type": "stream",
     "text": [
      "Running Benchmarks: 100%|██████████| 24/24 [02:38<00:00,  6.59s/it]\n"
     ]
    }
   ],
   "source": [
    "res_all = run_all_benchmarks(\n",
    "    rng=rng,\n",
    "    size_list=[2, 3, 4, 5],  # for N = 10_000, 100_000, 1_000_000, 10_000_000\n",
    "    k_list=[1, 10, 50, 100],  # for k = 1, 10, 50, 100\n",
    "    skip_demean_benchmark=False,\n",
    ")"
   ]
  },
  {
   "cell_type": "code",
   "execution_count": 15,
   "metadata": {
    "colab": {
     "background_save": true,
     "base_uri": "https://localhost:8080/"
    },
    "execution": {
     "iopub.execute_input": "2025-01-09T00:26:25.320894Z",
     "iopub.status.busy": "2025-01-09T00:26:25.320596Z",
     "iopub.status.idle": "2025-01-09T00:26:26.391854Z",
     "shell.execute_reply": "2025-01-09T00:26:26.391236Z",
     "shell.execute_reply.started": "2025-01-09T00:26:25.320871Z"
    },
    "id": "7zEIHj5nXXvq",
    "outputId": "238dedce-a9f5-4a1b-b9a2-b84d4a89c091"
   },
   "outputs": [
    {
     "data": {
      "text/html": [
       "<div>\n",
       "<style scoped>\n",
       "    .dataframe tbody tr th:only-of-type {\n",
       "        vertical-align: middle;\n",
       "    }\n",
       "\n",
       "    .dataframe tbody tr th {\n",
       "        vertical-align: top;\n",
       "    }\n",
       "\n",
       "    .dataframe thead th {\n",
       "        text-align: right;\n",
       "    }\n",
       "</style>\n",
       "<table border=\"1\" class=\"dataframe\">\n",
       "  <thead>\n",
       "    <tr style=\"text-align: right;\">\n",
       "      <th></th>\n",
       "      <th>method</th>\n",
       "      <th>demeaner_backend</th>\n",
       "      <th>k</th>\n",
       "      <th>G</th>\n",
       "      <th>n_obs</th>\n",
       "      <th>full_feols_timing</th>\n",
       "      <th>demean_timing</th>\n",
       "    </tr>\n",
       "  </thead>\n",
       "  <tbody>\n",
       "    <tr>\n",
       "      <th>0</th>\n",
       "      <td>feols</td>\n",
       "      <td>jax</td>\n",
       "      <td>1</td>\n",
       "      <td>1</td>\n",
       "      <td>10000</td>\n",
       "      <td>0.22884</td>\n",
       "      <td>0.082133</td>\n",
       "    </tr>\n",
       "    <tr>\n",
       "      <th>1</th>\n",
       "      <td>feols</td>\n",
       "      <td>jax</td>\n",
       "      <td>1</td>\n",
       "      <td>1</td>\n",
       "      <td>100000</td>\n",
       "      <td>0.278382</td>\n",
       "      <td>0.659936</td>\n",
       "    </tr>\n",
       "    <tr>\n",
       "      <th>2</th>\n",
       "      <td>feols</td>\n",
       "      <td>jax</td>\n",
       "      <td>1</td>\n",
       "      <td>2</td>\n",
       "      <td>10000</td>\n",
       "      <td>0.259413</td>\n",
       "      <td>0.070082</td>\n",
       "    </tr>\n",
       "    <tr>\n",
       "      <th>3</th>\n",
       "      <td>feols</td>\n",
       "      <td>jax</td>\n",
       "      <td>1</td>\n",
       "      <td>2</td>\n",
       "      <td>100000</td>\n",
       "      <td>0.556465</td>\n",
       "      <td>0.676255</td>\n",
       "    </tr>\n",
       "    <tr>\n",
       "      <th>4</th>\n",
       "      <td>feols</td>\n",
       "      <td>jax</td>\n",
       "      <td>1</td>\n",
       "      <td>3</td>\n",
       "      <td>10000</td>\n",
       "      <td>0.29452</td>\n",
       "      <td>0.080892</td>\n",
       "    </tr>\n",
       "  </tbody>\n",
       "</table>\n",
       "</div>"
      ],
      "text/plain": [
       "  method demeaner_backend  k  G   n_obs full_feols_timing demean_timing\n",
       "0  feols              jax  1  1   10000           0.22884      0.082133\n",
       "1  feols              jax  1  1  100000          0.278382      0.659936\n",
       "2  feols              jax  1  2   10000          0.259413      0.070082\n",
       "3  feols              jax  1  2  100000          0.556465      0.676255\n",
       "4  feols              jax  1  3   10000           0.29452      0.080892"
      ]
     },
     "execution_count": 15,
     "metadata": {},
     "output_type": "execute_result"
    }
   ],
   "source": [
    "df = (\n",
    "    res_all.drop([\"rep\", \"solver\"], axis=1)\n",
    "    .groupby([\"method\", \"demeaner_backend\", \"k\", \"G\", \"n_obs\"])\n",
    "    .mean()\n",
    "    .reset_index()\n",
    ")\n",
    "df.head()"
   ]
  },
  {
   "cell_type": "code",
   "execution_count": 16,
   "metadata": {},
   "outputs": [],
   "source": [
    "df.to_csv(\"gpu_results.csv\")"
   ]
  },
  {
   "cell_type": "markdown",
   "metadata": {
    "colab": {
     "background_save": true
    },
    "id": "VCn6O5MMXlBw"
   },
   "source": [
    "## Visualize Results"
   ]
  },
  {
   "cell_type": "code",
   "execution_count": 17,
   "metadata": {},
   "outputs": [],
   "source": [
    "def visualize_results(data, kpi):\n",
    "    \"\"\"\n",
    "    Visualize benchmark results.\n",
    "\n",
    "    Args:\n",
    "        data (pd.DataFrame): The benchmark results data frame.\n",
    "        kpi (str): The key performance indicator to plot. Must be one of \"full_feols_timing\" or \"demean_timing\".\n",
    "    \"\"\"\n",
    "    df[\"G2\"] = df[\"G\"].map({1: \"n_fixef = 1\", 2: \"n_fixef = 2\", 3: \"n_fixef = 3\"})\n",
    "    df[\"n_obs\"] = df[\"n_obs\"].astype(str)\n",
    "\n",
    "    n_obs_order = sorted(df[\"n_obs\"].unique(), key=lambda x: int(x))\n",
    "    demeaner_backend_order = df[\"demeaner_backend\"].unique()\n",
    "\n",
    "    custom_palette = sns.color_palette(\"coolwarm\", n_colors=2)\n",
    "\n",
    "    cat_plot = sns.catplot(\n",
    "        data=df,\n",
    "        x=\"n_obs\",\n",
    "        y=kpi,\n",
    "        hue=\"demeaner_backend\",\n",
    "        col=\"G2\",\n",
    "        row=\"k\",\n",
    "        kind=\"bar\",\n",
    "        palette=custom_palette,\n",
    "        order=n_obs_order,\n",
    "        hue_order=demeaner_backend_order,\n",
    "        height=4,\n",
    "        aspect=1.2,\n",
    "        col_order=[\"n_fixef = 1\", \"n_fixef = 2\", \"n_fixef = 3\"],\n",
    "    )\n",
    "\n",
    "    # Set logarithmic scale on the y-axis\n",
    "    def log_scale(ax, y_label):\n",
    "        ax.set_yscale(\"log\")\n",
    "        ax.yaxis.set_major_formatter(ticker.ScalarFormatter())\n",
    "        ax.yaxis.set_major_locator(ticker.LogLocator(base=10.0, subs=None, numticks=10))\n",
    "        ax.set_ylabel(y_label)\n",
    "\n",
    "    for ax in cat_plot.axes.flat:\n",
    "        log_scale(ax, \"Runtime (log seconds)\")\n",
    "\n",
    "    cat_plot.set_axis_labels(\"Number of Observations\", \"Runtime (log seconds)\")\n",
    "    cat_plot.set_titles(row_template=\"k = {row_name}\", col_template=\"{col_name}\")\n",
    "    plt.subplots_adjust(top=0.9)\n",
    "    cat_plot.fig.suptitle(\n",
    "        f\"{kpi}: Runtime vs Number of Observations by n_fixef fixed effects and k regressors. Y Axis on the Log Scale\"\n",
    "    )\n",
    "\n",
    "    plt.show()"
   ]
  },
  {
   "cell_type": "code",
   "execution_count": 18,
   "metadata": {},
   "outputs": [
    {
     "name": "stderr",
     "output_type": "stream",
     "text": [
      "INFO:matplotlib.category:Using categorical units to plot a list of strings that are all parsable as floats or dates. If these strings should be plotted as numbers, cast to the appropriate data type before plotting.\n",
      "INFO:matplotlib.category:Using categorical units to plot a list of strings that are all parsable as floats or dates. If these strings should be plotted as numbers, cast to the appropriate data type before plotting.\n"
     ]
    },
    {
     "data": {
      "image/png": "[encoded data removed]",
      "text/plain": [
       "<Figure size 1587.99x800 with 6 Axes>"
      ]
     },
     "metadata": {},
     "output_type": "display_data"
    }
   ],
   "source": [
    "visualize_results(df, \"full_feols_timing\")"
   ]
  },
  {
   "cell_type": "code",
   "execution_count": 19,
   "metadata": {},
   "outputs": [
    {
     "name": "stderr",
     "output_type": "stream",
     "text": [
      "INFO:matplotlib.category:Using categorical units to plot a list of strings that are all parsable as floats or dates. If these strings should be plotted as numbers, cast to the appropriate data type before plotting.\n",
      "INFO:matplotlib.category:Using categorical units to plot a list of strings that are all parsable as floats or dates. If these strings should be plotted as numbers, cast to the appropriate data type before plotting.\n"
     ]
    },
    {
     "data": {
      "image/png": "[encoded data removed]",
      "text/plain": [
       "<Figure size 1587.99x800 with 6 Axes>"
      ]
     },
     "metadata": {},
     "output_type": "display_data"
    }
   ],
   "source": [
    "visualize_results(df, \"demean_timing\")"
   ]
  },
  {
   "cell_type": "code",
   "execution_count": null,
   "metadata": {},
   "outputs": [],
   "source": []
  }
 ],
 "metadata": {
  "colab": {
   "provenance": []
  },
  "kernelspec": {
   "display_name": "docs",
   "language": "python",
   "name": "python3"
  },
  "language_info": {
   "codemirror_mode": {
    "name": "ipython",
    "version": 3
   },
   "file_extension": ".py",
   "mimetype": "text/x-python",
   "name": "python",
   "nbconvert_exporter": "python",
   "pygments_lexer": "ipython3",
   "version": "3.12.8"
  }
 },
 "nbformat": 4,
 "nbformat_minor": 4
}
