{
  "cells": [
    {
      "cell_type": "markdown",
      "metadata": {},
      "source": [
        "# did.estimation.did2s { #pyfixest.did.estimation.did2s }\n",
        "\n",
        "`did.estimation.did2s(data, yname, first_stage, second_stage, treatment, cluster, i_ref1=None, i_ref2=None)`\n",
        "\n",
        "Estimate a Difference-in-Differences model using Gardner's two-step DID2S estimator.\n",
        "\n",
        "This function estimates the effects of treatments in panel data using a two-stage approach. It requires specification of\n",
        "both the first and second stage formulas and supports interaction references for the second stage.\n",
        "\n",
        "## Parameters\n",
        "\n",
        "| Name           | Type                    | Description                                                                                                         | Default    |\n",
        "|----------------|-------------------------|---------------------------------------------------------------------------------------------------------------------|------------|\n",
        "| `data`         | pandas.pandas.DataFrame | The DataFrame containing all variables.                                                                             | _required_ |\n",
        "| `yname`        | str                     | The name of the dependent variable.                                                                                 | _required_ |\n",
        "| `first_stage`  | str                     | The formula for the first stage, starting with '~'.                                                                 | _required_ |\n",
        "| `second_stage` | str                     | The formula for the second stage, starting with '~'.                                                                | _required_ |\n",
        "| `treatment`    | str                     | The name of the treatment variable.                                                                                 | _required_ |\n",
        "| `cluster`      | str                     | The name of the cluster variable.                                                                                   | _required_ |\n",
        "| `i_ref1`       | (int, str, list)        | The reference value(s) for the first variable used with \"i()\" syntax in the second stage formula. Default is None.  | `None`     |\n",
        "| `i_ref2`       | (int, str, list)        | The reference value(s) for the second variable used with \"i()\" syntax in the second stage formula. Default is None. | `None`     |\n",
        "\n",
        "## Returns\n",
        "\n",
        "| Type   | Description                             |\n",
        "|--------|-----------------------------------------|\n",
        "| object | A fitted model object of class `feols`. |\n",
        "\n",
        "## Examples\n"
      ],
      "id": "f7d7f9d1"
    },
    {
      "cell_type": "code",
      "metadata": {},
      "source": [
        "import pandas as pd\n",
        "from pyfixest.did.estimation import did2s\n",
        "\n",
        "url = \"https://raw.githubusercontent.com/s3alfisc/pyfixest/master/pyfixest/did/data/df_het.csv\"\n",
        "df_het = pd.read_csv(url)\n",
        "df_het.head()"
      ],
      "id": "3b27328e",
      "execution_count": null,
      "outputs": []
    },
    {
      "cell_type": "markdown",
      "metadata": {},
      "source": [
        "In a first step, we estimate a classical event study model:\n"
      ],
      "id": "dc2ecab9"
    },
    {
      "cell_type": "code",
      "metadata": {},
      "source": [
        "# estimate the model\n",
        "fit_did2s = did2s(\n",
        "    df_het,\n",
        "    yname=\"dep_var\",\n",
        "    first_stage=\"~ 0 | unit + year\",\n",
        "    second_stage=\"~i(rel_year)\",\n",
        "    treatment=\"treat\",\n",
        "    cluster=\"state\",\n",
        "    i_ref1=[-1.0, np.inf],\n",
        ")\n",
        "\n",
        "fit.tidy()"
      ],
      "id": "de6ecbb2",
      "execution_count": null,
      "outputs": []
    },
    {
      "cell_type": "markdown",
      "metadata": {},
      "source": [
        "We can also inspect the model visually:\n"
      ],
      "id": "ea4234fa"
    },
    {
      "cell_type": "code",
      "metadata": {},
      "source": [
        "fit.iplot()"
      ],
      "id": "95ba32bd",
      "execution_count": null,
      "outputs": []
    },
    {
      "cell_type": "markdown",
      "metadata": {},
      "source": [
        "To estimate a pooled effect, set the argument `att=True`:\n"
      ],
      "id": "283a595d"
    },
    {
      "cell_type": "code",
      "metadata": {},
      "source": [
        "fit_did2s = did2s(\n",
        "    df_het,\n",
        "    yname=\"dep_var\",\n",
        "    first_stage=\"~ 0 | unit + year\",\n",
        "    second_stage=\"~i(rel_year)\",\n",
        "    treatment=\"treat\",\n",
        "    cluster=\"state\",\n",
        "    att=True,\n",
        ")"
      ],
      "id": "a1d82bbc",
      "execution_count": null,
      "outputs": []
    }
  ],
  "metadata": {
    "kernelspec": {
      "display_name": "Python 3",
      "language": "python",
      "name": "python3"
    }
  },
  "nbformat": 4,
  "nbformat_minor": 5
}