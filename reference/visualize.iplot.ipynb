{
  "cells": [
    {
      "cell_type": "markdown",
      "metadata": {},
      "source": [
        "# visualize.iplot { #pyfixest.visualize.iplot }\n",
        "\n",
        "`visualize.iplot(models, alpha=0.05, figsize=(500, 300), yintercept=None, xintercept=None, rotate_xticks=0, title=None, coord_flip=True)`\n",
        "\n",
        "Plot model coefficients for variables interacted via \"i()\" syntax, with confidence intervals.\n",
        "\n",
        "## Parameters\n",
        "\n",
        "| Name            | Type           | Description                                                                                       | Default      |\n",
        "|-----------------|----------------|---------------------------------------------------------------------------------------------------|--------------|\n",
        "| `models`        | list or object | A list of fitted models of type [Feols(/reference/Feols.qmd) or `Fepois`, or just a single model. | _required_   |\n",
        "| `figsize`       | tuple          | The size of the figure.                                                                           | `(500, 300)` |\n",
        "| `alpha`         | float          | The significance level for the confidence intervals.                                              | `0.05`       |\n",
        "| `yintercept`    | int or None    | The value at which to draw a horizontal line on the plot.                                         | `None`       |\n",
        "| `xintercept`    | int or None    | The value at which to draw a vertical line on the plot.                                           | `None`       |\n",
        "| `rotate_xticks` | float          | The angle in degrees to rotate the xticks labels. Default is 0 (no rotation).                     | `0`          |\n",
        "| `title`         | str            | The title of the plot.                                                                            | `None`       |\n",
        "| `coord_flip`    | bool           | Whether to flip the coordinates of the plot. Default is True.                                     | `True`       |\n",
        "\n",
        "## Returns\n",
        "\n",
        "| Type   | Description         |\n",
        "|--------|---------------------|\n",
        "| object | A lets-plot figure. |\n",
        "\n",
        "## Examples"
      ],
      "id": "6a955004"
    },
    {
      "cell_type": "code",
      "metadata": {},
      "source": [
        "from pyfixest.utils import get_data\n",
        "from pyfixest.estimation import feols\n",
        "from pyfixest.visualize import iplot\n",
        "\n",
        "df = get_data()\n",
        "fit1 = feols(\"Y ~ i(f1)\", data = df)\n",
        "fit2 = feols(\"Y ~ i(f1) + X2\", data = df)\n",
        "fit3 = feols(\"Y ~ i(f1) + X2 | f2\", data = df)\n",
        "\n",
        "iplot([fit1, fit2, fit3])"
      ],
      "id": "8e247255",
      "execution_count": null,
      "outputs": []
    }
  ],
  "metadata": {
    "kernelspec": {
      "name": "python3",
      "language": "python",
      "display_name": "Python 3 (ipykernel)"
    }
  },
  "nbformat": 4,
  "nbformat_minor": 5
}