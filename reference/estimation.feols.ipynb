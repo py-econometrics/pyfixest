{
  "cells": [
    {
      "cell_type": "markdown",
      "metadata": {},
      "source": [
        "# estimation.feols { #pyfixest.estimation.feols }\n",
        "\n",
        "`estimation.feols(fml, data, vcov=None, ssc=ssc(), fixef_rm='none', collin_tol=1e-10, drop_intercept=False, i_ref1=None, i_ref2=None)`\n",
        "\n",
        "Estimate linear regression models with fixed effects using fixest formula syntax.\n",
        "\n",
        "This method accommodates complex models with stepwise regressions, multiple dependent variables, interaction of variables,\n",
        "interacted fixed effects, and instruments. It's compatible with various syntax elements from the formulaic module.\n",
        "\n",
        "## Parameters\n",
        "\n",
        "| Name             | Type                                         | Description                                                                                                                                                                                                                                                                                                                                                          | Default    |\n",
        "|------------------|----------------------------------------------|----------------------------------------------------------------------------------------------------------------------------------------------------------------------------------------------------------------------------------------------------------------------------------------------------------------------------------------------------------------------|------------|\n",
        "| `fml`            | str                                          | A three-sided formula string using fixest formula syntax. Syntax: \"Y ~ X1 + X2 \\| FE1 + FE2 \\| X1 ~ Z1\". \"\\|\" separates dependent variable, fixed effects, and instruments. Special syntax includes stepwise regressions, cumulative stepwise regression, multiple dependent variables, interaction of variables (i(X1,X2)), and interacted fixed effects (fe1^fe2). | _required_ |\n",
        "| `data`           | pyfixest.dev_utils.DataFrameType             | A pandas or polars dataframe containing the variables in the formula.                                                                                                                                                                                                                                                                                                | _required_ |\n",
        "| `vcov`           | typing.Union\\[str, dict\\[str, str\\]\\]        | Type of variance-covariance matrix for inference. Options include \"iid\", \"hetero\", \"HC1\", \"HC2\", \"HC3\", or a dictionary for CRV1/CRV3 inference.                                                                                                                                                                                                                     | `None`     |\n",
        "| `ssc`            | str                                          | A ssc object specifying the small sample correction for inference.                                                                                                                                                                                                                                                                                                   | `ssc()`    |\n",
        "| `fixef_rm`       | str                                          | Specifies whether to drop singleton fixed effects. Options: \"none\" (default), \"singleton\".                                                                                                                                                                                                                                                                           | `'none'`   |\n",
        "| `collin_tol`     | float                                        | Tolerance for collinearity check, by default 1e-06.                                                                                                                                                                                                                                                                                                                  | `1e-10`    |\n",
        "| `drop_intercept` | bool                                         | Whether to drop the intercept from the model, by default False.                                                                                                                                                                                                                                                                                                      | `False`    |\n",
        "| `i_ref1`         | typing.Optional\\[typing.Union\\[list, str\\]\\] | Reference category for the first set of categorical variables interacted via \"i()\", by default None.                                                                                                                                                                                                                                                                 | `None`     |\n",
        "| `i_ref2`         | typing.Optional\\[typing.Union\\[list, str\\]\\] | Reference category for the second set of categorical variables interacted via \"i()\", by default None.                                                                                                                                                                                                                                                                | `None`     |\n",
        "\n",
        "## Returns\n",
        "\n",
        "| Type   | Description                                                                                      |\n",
        "|--------|--------------------------------------------------------------------------------------------------|\n",
        "| object | An instance of the `Feols` class or `FixestMulti` class for multiple models specified via `fml`. |\n",
        "\n",
        "## Examples\n",
        "\n",
        "As in `fixest`, the `feols` function can be used to estimate a simple linear regression model with fixed effects.\n",
        "The following example regresses `Y` on `X1` and `X2` with fixed effects for `f1` and `f2`: fixed effects are specified\n",
        "after the `|` symbol.\n"
      ],
      "id": "9d8e3454"
    },
    {
      "cell_type": "code",
      "metadata": {},
      "source": [
        "from pyfixest.estimation import feols\n",
        "from pyfixest.utils import get_data\n",
        "from pyfixest.summarize import etable\n",
        "\n",
        "data = get_data()\n",
        "\n",
        "fit = feols(\"Y ~ X1 + X2 | f1 + f2\", data)\n",
        "fit.summary()"
      ],
      "id": "b8ac4c26",
      "execution_count": null,
      "outputs": []
    },
    {
      "cell_type": "markdown",
      "metadata": {},
      "source": [
        "Calling `feols()` returns an instance of the `Feols` class. The `summary()` method can be used to print the results.\n",
        "\n",
        "An alternative way to retrieve model results is via the `tidy()` method, which returns a pandas dataframe with the\n",
        "estimated coefficients, standard errors, t-statistics, and p-values.\n"
      ],
      "id": "ca88b993"
    },
    {
      "cell_type": "code",
      "metadata": {},
      "source": [
        "fit.tidy()"
      ],
      "id": "91ca7e45",
      "execution_count": null,
      "outputs": []
    },
    {
      "cell_type": "markdown",
      "metadata": {},
      "source": [
        "You can also access all elements in the tidy data frame by dedicated methods, e.g. `fit.coef()` for the coefficients, `fit.se()` for the standard errors,\n",
        "`fit.tstat()` for the t-statistics, and `fit.pval()` for the p-values, and `fit.confint()` for the confidence intervals.\n",
        "\n",
        "The employed type of inference can be specified via the `vcov` argument. If vcov is not provided, `PyFixest` employs the `fixest` default of iid inference,\n",
        "unless there are fixed effects in the model, in which case `feols()` clusters the standard error by the first fixed effect (CRV1 inference).\n"
      ],
      "id": "a9ac5afb"
    },
    {
      "cell_type": "code",
      "metadata": {},
      "source": [
        "fit1 = feols(\"Y ~ X1 + X2 | f1 + f2\", data, vcov=\"iid\")\n",
        "fit2 = feols(\"Y ~ X1 + X2 | f1 + f2\", data, vcov=\"hetero\")\n",
        "fit3 = feols(\"Y ~ X1 + X2 | f1 + f2\", data, vcov={\"CRV1\": \"f1\"})"
      ],
      "id": "a1a0796e",
      "execution_count": null,
      "outputs": []
    },
    {
      "cell_type": "markdown",
      "metadata": {},
      "source": [
        "Supported inference types are \"iid\", \"hetero\", \"HC1\", \"HC2\", \"HC3\", and \"CRV1\"/\"CRV3\". Clustered standard errors are specified via a dictionary, e.g. `{\"CRV1\": \"f1\"}`\n",
        "for CRV1 inference with clustering by `f1` or `{\"CRV3\": \"f1\"}` for CRV3 inference with clustering by `f1`. For two-way clustering, you can provide a formula string, e.g.\n",
        "`{\"CRV1\": \"f1 + f2\"}` for CRV1 inference with clustering by `f1`.\n"
      ],
      "id": "6bb73867"
    },
    {
      "cell_type": "code",
      "metadata": {},
      "source": [
        "fit4 = feols(\"Y ~ X1 + X2 | f1 + f2\", data, vcov={\"CRV1\": \"f1 + f2\"})"
      ],
      "id": "37a77d0f",
      "execution_count": null,
      "outputs": []
    },
    {
      "cell_type": "markdown",
      "metadata": {},
      "source": [
        "Inference can be adjusted post estimation via the `vcov` method:\n"
      ],
      "id": "7a8eac4e"
    },
    {
      "cell_type": "code",
      "metadata": {},
      "source": [
        "fit.summary()\n",
        "fit.vcov(\"iid\").summary()"
      ],
      "id": "8baef9cb",
      "execution_count": null,
      "outputs": []
    },
    {
      "cell_type": "markdown",
      "metadata": {},
      "source": [
        "The `ssc` argument specifies the small sample correction for inference. In general, `feols()` uses all of `fixest::feols()` defaults, but sets the\n",
        "`fixef.K` argument to `\"none\"` whereas the `fixest::feols()` default is `\"nested\"`. See here for more details: [link to github](https://github.com/s3alfisc/pyfixest/issues/260).\n",
        "\n",
        "`feols()` supports a range of multiple estimation syntax, i.e. you can estimate multiple models in one call. The following example estimates two models, one with\n",
        "fixed effects for `f1` and one with fixed effects for `f2` using the `sw()` syntax.\n"
      ],
      "id": "10265b98"
    },
    {
      "cell_type": "code",
      "metadata": {},
      "source": [
        "fit = feols(\"Y ~ X1 + X2 | sw(f1, f2)\", data)\n",
        "type(fit)"
      ],
      "id": "92c38a4e",
      "execution_count": null,
      "outputs": []
    },
    {
      "cell_type": "markdown",
      "metadata": {},
      "source": [
        "The returned object is an instance of the `FixestMulti` class. You can access the results of the first model via `fit.fetch_model(0)` and the results of the second model\n",
        "via `fit.fetch_model(1)`. You can compare the model results via the `etable()` function:\n"
      ],
      "id": "28389c76"
    },
    {
      "cell_type": "code",
      "metadata": {},
      "source": [
        "etable([fit.fetch_model(0), fit.fetch_model(1)])"
      ],
      "id": "a5cb95da",
      "execution_count": null,
      "outputs": []
    },
    {
      "cell_type": "markdown",
      "metadata": {},
      "source": [
        "Other supported multiple estimation syntax include `sw0()`, `csw()` and `csw0()`. While `sw()` adds variables in a \"stepwise\" fashinon, `csw()`\n",
        "does so cumulatively.\n"
      ],
      "id": "8b6ed753"
    },
    {
      "cell_type": "code",
      "metadata": {},
      "source": [
        "fit = feols(\"Y ~ X1 + X2 | csw(f1, f2)\", data)\n",
        "etable([fit.fetch_model(0), fit.fetch_model(1)])"
      ],
      "id": "ce037e03",
      "execution_count": null,
      "outputs": []
    },
    {
      "cell_type": "markdown",
      "metadata": {},
      "source": [
        "The `sw0()` and `csw0()` syntax are similar to `sw()` and `csw()`, but start with a model that exludes the variables specified in `sw()` and `csw()`:\n"
      ],
      "id": "6a4420e8"
    },
    {
      "cell_type": "code",
      "metadata": {},
      "source": [
        "fit = feols(\"Y ~ X1 + X2 | sw0(f1, f2)\", data)\n",
        "etable([fit.fetch_model(0), fit.fetch_model(1), fit.fetch_model(2)])"
      ],
      "id": "43dc95af",
      "execution_count": null,
      "outputs": []
    },
    {
      "cell_type": "markdown",
      "metadata": {},
      "source": [
        "The `feols()` function also supports multiple dependent variables. The following example estimates two models, one with `Y1` as the dependent variable and one with `Y2` as the dependent variable.\n"
      ],
      "id": "e5b26009"
    },
    {
      "cell_type": "code",
      "metadata": {},
      "source": [
        "fit = feols(\"Y + Y2 ~ X1 | f1 + f2\", data)\n",
        "etable([fit.fetch_model(0), fit.fetch_model(1)])"
      ],
      "id": "3a7e4019",
      "execution_count": null,
      "outputs": []
    },
    {
      "cell_type": "markdown",
      "metadata": {},
      "source": [
        "It is possible to combine different multiple estimation operators:\n"
      ],
      "id": "17f77265"
    },
    {
      "cell_type": "code",
      "metadata": {},
      "source": [
        "fit = feols(\"Y + Y2 ~ X1 | sw(f1, f2)\", data)\n",
        "etable([fit.fetch_model(0), fit.fetch_model(1), fit.fetch_model(2), fit.fetch_model(3)])"
      ],
      "id": "318c08e6",
      "execution_count": null,
      "outputs": []
    },
    {
      "cell_type": "markdown",
      "metadata": {},
      "source": [
        "In general, using muliple estimation syntax can improve the estimation time as covariates that are demeaned in one model and are used\n",
        "in another model do not need to be demeaned again: `feols()` implements a caching mechanism that stores the demeaned covariates.\n",
        "\n",
        "Besides OLS, `feols()` also supports IV estimation via three part formulas:\n"
      ],
      "id": "ea6709c8"
    },
    {
      "cell_type": "code",
      "metadata": {},
      "source": [
        "fit = feols(\"Y ~  X2 | f1 + f2 | X1 ~ Z1\", data)\n",
        "fit.tidy()"
      ],
      "id": "fa249887",
      "execution_count": null,
      "outputs": []
    },
    {
      "cell_type": "markdown",
      "metadata": {},
      "source": [
        "Here, `X1` is the endogenous variable and `Z1` is the instrument. `f1` and `f2` are the fixed effects, as before. To estimate\n",
        "IV models without fixed effects, simply omit the fixed effects part of the formula:\n"
      ],
      "id": "1f47a2cb"
    },
    {
      "cell_type": "code",
      "metadata": {},
      "source": [
        "fit = feols(\"Y ~  X2 | X1 ~ Z1\", data)\n",
        "fit.tidy()"
      ],
      "id": "38e11960",
      "execution_count": null,
      "outputs": []
    },
    {
      "cell_type": "markdown",
      "metadata": {},
      "source": [
        "Last, `feols()` supports interaction of variables via the `i()` syntax. Documentation on this is tba.\n",
        "\n",
        "After fitting a model via `feols()`, you can use the `predict()` method to get the predicted values:\n"
      ],
      "id": "ae04ef9b"
    },
    {
      "cell_type": "code",
      "metadata": {},
      "source": [
        "fit = feols(\"Y ~ X1 + X2 | f1 + f2\", data)\n",
        "fit.predict()[0:5]"
      ],
      "id": "7684595d",
      "execution_count": null,
      "outputs": []
    },
    {
      "cell_type": "markdown",
      "metadata": {},
      "source": [
        "The `predict()` method also supports a `newdata` argument to predict on new data, which returns a numpy array of the predicted values:\n"
      ],
      "id": "d0fc5ff2"
    },
    {
      "cell_type": "code",
      "metadata": {},
      "source": [
        "fit = feols(\"Y ~ X1 + X2 | f1 + f2\", data)\n",
        "fit.predict(newdata=data)[0:5]"
      ],
      "id": "bfa4b474",
      "execution_count": null,
      "outputs": []
    },
    {
      "cell_type": "markdown",
      "metadata": {},
      "source": [
        "Last, you can plot the results of a model via the `coefplot()` method:\n"
      ],
      "id": "ef2c8d98"
    },
    {
      "cell_type": "code",
      "metadata": {},
      "source": [
        "fit = feols(\"Y ~ X1 + X2 | f1 + f2\", data)\n",
        "fit.coefplot()"
      ],
      "id": "d0f68f65",
      "execution_count": null,
      "outputs": []
    }
  ],
  "metadata": {
    "kernelspec": {
      "name": "python3",
      "language": "python",
      "display_name": "Python 3 (ipykernel)"
    }
  },
  "nbformat": 4,
  "nbformat_minor": 5
}