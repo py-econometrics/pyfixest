{
  "cells": [
    {
      "cell_type": "markdown",
      "metadata": {},
      "source": [
        "# estimation.fepois { #pyfixest.estimation.fepois }\n",
        "\n",
        "`estimation.fepois(fml, data, vcov=None, ssc=ssc(), fixef_rm='none', iwls_tol=1e-08, iwls_maxiter=25, collin_tol=1e-10, drop_intercept=False, i_ref1=None, i_ref2=None)`\n",
        "\n",
        "Estimate Poisson regression models with fixed effects using the `pplmhdfe` algorithm.\n",
        "\n",
        "This method is based on the Stata package of the same name and supports various features like stepwise regressions,\n",
        "cumulative stepwise regression, multiple dependent variables, interaction of variables, and interacted fixed effects.\n",
        "\n",
        "## Parameters\n",
        "\n",
        "| Name             | Type                                         | Description                                                                                                                                                                                                                                                                                                                                                                                                                           | Default    |\n",
        "|------------------|----------------------------------------------|---------------------------------------------------------------------------------------------------------------------------------------------------------------------------------------------------------------------------------------------------------------------------------------------------------------------------------------------------------------------------------------------------------------------------------------|------------|\n",
        "| `fml`            | str                                          | A two-sided formula string using fixest formula syntax. Syntax: \"Y ~ X1 + X2 \\| FE1 + FE2\". \"\\|\" separates left-hand side and fixed effects. Special syntax includes: - Stepwise regressions (sw, sw0) - Cumulative stepwise regression (csw, csw0) - Multiple dependent variables (Y1 + Y2 ~ X) - Interaction of variables (i(X1,X2)) - Interacted fixed effects (fe1^fe2) Compatible with formula parsing via the formulaic module. | _required_ |\n",
        "| `data`           | pyfixest.dev_utils.DataFrameType             | A pandas or polars dataframe containing the variables in the formula.                                                                                                                                                                                                                                                                                                                                                                 | _required_ |\n",
        "| `vcov`           | typing.Union\\[str, dict\\[str, str\\]\\]        | Type of variance-covariance matrix for inference. Options include \"iid\", \"hetero\", \"HC1\", \"HC2\", \"HC3\", or a dictionary for CRV1/CRV3 inference.                                                                                                                                                                                                                                                                                      | `None`     |\n",
        "| `ssc`            | str                                          | A ssc object specifying the small sample correction for inference.                                                                                                                                                                                                                                                                                                                                                                    | `ssc()`    |\n",
        "| `fixef_rm`       | str                                          | Specifies whether to drop singleton fixed effects. Options: \"none\" (default), \"singleton\".                                                                                                                                                                                                                                                                                                                                            | `'none'`   |\n",
        "| `iwls_tol`       | typing.Optional\\[float\\]                     | Tolerance for IWLS convergence, by default 1e-08.                                                                                                                                                                                                                                                                                                                                                                                     | `1e-08`    |\n",
        "| `iwls_maxiter`   | typing.Optional\\[float\\]                     | Maximum number of iterations for IWLS convergence, by default 25.                                                                                                                                                                                                                                                                                                                                                                     | `25`       |\n",
        "| `collin_tol`     | float                                        | Tolerance for collinearity check, by default 1e-06.                                                                                                                                                                                                                                                                                                                                                                                   | `1e-10`    |\n",
        "| `drop_intercept` | bool                                         | Whether to drop the intercept from the model, by default False.                                                                                                                                                                                                                                                                                                                                                                       | `False`    |\n",
        "| `i_ref1`         | typing.Optional\\[typing.Union\\[list, str\\]\\] | Reference category for the first set of categorical variables interacted via \"i()\", by default None.                                                                                                                                                                                                                                                                                                                                  | `None`     |\n",
        "| `i_ref2`         | typing.Optional\\[typing.Union\\[list, str\\]\\] | Reference category for the second set of categorical variables interacted via \"i()\", by default None.                                                                                                                                                                                                                                                                                                                                 | `None`     |\n",
        "\n",
        "## Returns\n",
        "\n",
        "| Type   | Description                                                                                                      |\n",
        "|--------|------------------------------------------------------------------------------------------------------------------|\n",
        "| object | An instance of the `Fepois` class or an instance of class `FixestMulti` for multiple models specified via `fml`. |\n",
        "\n",
        "## Examples\n",
        "\n",
        "The `fepois()` function can be used to estimate a simple Poisson regression model with fixed effects.\n",
        "The following example regresses `Y` on `X1` and `X2` with fixed effects for `f1` and `f2`: fixed effects are specified\n",
        "after the `|` symbol.\n"
      ],
      "id": "cfebe34f"
    },
    {
      "cell_type": "code",
      "metadata": {},
      "source": [
        "from pyfixest.estimation import fepois\n",
        "from pyfixest.utils import get_data\n",
        "from pyfixest.summarize import etable\n",
        "\n",
        "data = get_data(model = \"Fepois\")\n",
        "fit = fepois(\"Y ~ X1 + X2 | f1 + f2\", data)\n",
        "fit.summary()"
      ],
      "id": "cda479e1",
      "execution_count": null,
      "outputs": []
    },
    {
      "cell_type": "markdown",
      "metadata": {},
      "source": [
        "For more examples, please take a look at the documentation of the `feols()` function."
      ],
      "id": "18d9bcd8"
    }
  ],
  "metadata": {
    "kernelspec": {
      "name": "python3",
      "language": "python",
      "display_name": "Python 3 (ipykernel)"
    }
  },
  "nbformat": 4,
  "nbformat_minor": 5
}